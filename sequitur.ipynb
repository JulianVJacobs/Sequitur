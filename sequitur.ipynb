{
 "cells": [
  {
   "cell_type": "code",
   "execution_count": 1,
   "metadata": {},
   "outputs": [],
   "source": [
    "'''\n",
    "DESCRIPTION \n",
    "    Utility function that chops a sequence into several reads with bounded random lengths that \n",
    "    have a bounded random overlap\n",
    "INPUT\n",
    "    sequence       | a sequence of characters that will be divided into overlapping subsequences\n",
    "    min_subseq_len | the shortest length a subsequence can have\n",
    "    max_subseq_len | the longest length a subsequence can have\n",
    "    min_overlap    | the shortest overlap two subsequences can share\n",
    "    max_overlap    | the longest overlap two subsequences can share\n",
    "    circularize    | boolean indicating whether to add a random amount of the end of the sequence\n",
    "                   | to the beginning and vice versa\n",
    "    seed           | random seed for the random function for reproducibility\n",
    "OUTPUT\n",
    "    A list of overlapping reads of random bounded size which share a bounded random amount of\n",
    "    overlap\n",
    "'''\n",
    "def generate_reads(sequence,min_subseq_len,max_subseq_len,min_overlap,max_overlap,circularise=False,seed=None):\n",
    "    import random\n",
    "\n",
    "    random.seed(seed)\n",
    "    if circularise: \n",
    "        sequence = sequence[-random.randint(min_overlap,max_overlap):] + sequence + sequence[:random.randint(min_overlap,max_overlap)]\n",
    "        print(len(sequence))\n",
    "    reads = []\n",
    "    start = 0\n",
    "    end = random.randint(min_subseq_len,max_subseq_len)\n",
    "    reads += [sequence[start:end]]\n",
    "    while end < len(sequence):\n",
    "        start = random.randint(end-max_overlap,end-min_overlap)\n",
    "        if (len(sequence) - start)/max_subseq_len < 2:\n",
    "            if (len(sequence) - start)/max_subseq_len < 1:\n",
    "                end = len(sequence)\n",
    "            else:\n",
    "                a = 0\n",
    "                while (len(sequence) - start)/(min_subseq_len+a) > 2: a+=1\n",
    "                end = random.randint(start+min_subseq_len+a,start+max_subseq_len) \n",
    "        else: end = random.randint(start+min_subseq_len,start+max_subseq_len) \n",
    "        reads += [sequence[start:end]]\n",
    "    return reads\n",
    "\n",
    "'''\n",
    "DESCRIPTION \n",
    "    Utility function that creates a random sequence containing only the letters A, T, G, and C\n",
    "INPUT\n",
    "    n          | the length of the sequence\n",
    "    palindrome | a boolean indicating whether the sequence must be a palidrome or not\n",
    "    seed       | random seed for the random function for reproducibility\n",
    "OUTPUT\n",
    "    A random sequence of length n\n",
    "'''\n",
    "def generate_genome_sequence(n,palindrome=False,seed=None):\n",
    "    import random,math\n",
    "    \n",
    "    random.seed(seed)\n",
    "    nucleotides = {1:'A',2:'C',3:'G',4:'T'}\n",
    "    seq = ''\n",
    "    if palindrome: n = math.ceil(n/2)\n",
    "    for _ in range(n):\n",
    "        seq += nucleotides[random.randint(1,4)]\n",
    "    if palindrome: seq += ''.join(reversed(seq[:int(n-math.fmod(n,2))]))\n",
    "    return seq"
   ]
  },
  {
   "attachments": {},
   "cell_type": "markdown",
   "metadata": {},
   "source": [
    "# Sequitur"
   ]
  },
  {
   "cell_type": "code",
   "execution_count": 2,
   "metadata": {
    "tags": []
   },
   "outputs": [],
   "source": [
    "'''\n",
    "DESCRIPTION\n",
    "    An object which holds all the characters that two entries into the Suffix Tree\n",
    "    have in common\n",
    "INPUT\n",
    "    stalk | a string\n",
    "METHODS\n",
    "    common_substring(other) -> (Stalk,Stalk,Stalk)\n",
    "'''\n",
    "class Stalk:\n",
    "    def __init__(self,stalk):\n",
    "        self.stalk = stalk\n",
    "        if len(self.stalk) == 0: self.stalk = '$'\n",
    "\n",
    "    def __repr__(self): return self.stalk\n",
    "\n",
    "    def __eq__(self,other): return self[0] == other[0]\n",
    "\n",
    "    def __hash__(self): return hash(self[0])\n",
    "\n",
    "    def __getitem__(self,index): return self.stalk[index]\n",
    "\n",
    "    def __len__(self):\n",
    "        if self.stalk == '$' or self.stalk == '^': return 0\n",
    "        return len(self.stalk)\n",
    "    \n",
    "    def __str__(self):\n",
    "        if self.stalk =='$': return ''\n",
    "        else: return self.stalk\n",
    "\n",
    "    '''\n",
    "    DESCRIPTION\n",
    "        A method which finds all the characters two substrings have in common\n",
    "    INPUT\n",
    "        other | a Stalk\n",
    "    OUTPUT\n",
    "        A 3-tuple of Stalk. The first stalk is what the two stalks have in common,\n",
    "        the second stalk is what the stalk making the call has proceeding the common\n",
    "        string, the third stalk is what the other stalk has proceeding the common string\n",
    "    '''\n",
    "    def common_substring(self,other):\n",
    "        i = 0\n",
    "        substr = ''\n",
    "        if type(other) == str: other = Stalk(other)\n",
    "        while i < min(len(self),len(other)) and self[i] == other[i]:\n",
    "            substr += self[i]\n",
    "            i += 1\n",
    "        return Stalk(substr), Stalk(self[i:]), Stalk(other[i:])"
   ]
  },
  {
   "cell_type": "code",
   "execution_count": 3,
   "metadata": {
    "tags": [
     "TODO: explain",
     "TODO: describe"
    ]
   },
   "outputs": [],
   "source": [
    "'''\n",
    "DESCRIPTION\n",
    "INPUT\n",
    "OUTPUT\n",
    "'''\n",
    "class Leaf:\n",
    "    def __init__(self,left,right=''):\n",
    "        if len(left) == 0:\n",
    "            self.left = left\n",
    "            self.right = 1\n",
    "        else:\n",
    "            self.left = left\n",
    "            self.right = Leaf(right)\n",
    "    \n",
    "    def __repr__(self): return str(self.right)\n",
    "\n",
    "    def __eq__(self,other): return self[0] == other[0]\n",
    "\n",
    "    def __hash__(self): return hash(self.left)\n",
    "\n",
    "    def __getitem__(self,index): return self.left[index]\n",
    "\n",
    "    def __len__(self):\n",
    "        if self.left == '$': return 0\n",
    "        return len(self.left)\n",
    "    \n",
    "    def __is_shallow__(self): return True\n",
    "\n",
    "    def reads(self): return set()"
   ]
  },
  {
   "cell_type": "code",
   "execution_count": 4,
   "metadata": {
    "tags": [
     "TODO: explain",
     "TODO: describe"
    ]
   },
   "outputs": [],
   "source": [
    "'''\n",
    "DESCRIPTION\n",
    "INPUT\n",
    "OUTPUT\n",
    "    '''\n",
    "class Branch:\n",
    "    def __init__(self):\n",
    "        self.b = {}\n",
    "        self.s = {}\n",
    "\n",
    "    def __repr__(self): return repr(self.b)\n",
    "\n",
    "    def __str__(self):\n",
    "        s = '' \n",
    "        for i in range(len(list(self.b.values()))-1):s+=str(list(self.b.values())[i])+'\\n'\n",
    "        return s+str(list(self.b.values())[-1])\n",
    "    \n",
    "    def __getitem__(self,index):\n",
    "        if type(index) == str: return self.b[Stalk(index)]\n",
    "        return self.b[index]\n",
    "\n",
    "    '''\n",
    "    DESCRIPTION\n",
    "    INPUT\n",
    "    OUTPUT\n",
    "    '''\n",
    "    def __is_shallow__(self):\n",
    "        for a in self.b.values():\n",
    "            if type(a) == Branch: return False\n",
    "        return True\n",
    "\n",
    "    '''\n",
    "    DESCRIPTION\n",
    "    INPUT\n",
    "    OUTPUT\n",
    "    '''\n",
    "    def __traverse__(self,context):\n",
    "        b = self[context[0]]\n",
    "        s = self.s[context[0]]\n",
    "        context = context[len(s[0]):]\n",
    "        while len(context) > 0 and len(b) > 1:\n",
    "            s = b.s[context[0]]\n",
    "            b = b[context[0]]\n",
    "            context = context[len(s[0]):]\n",
    "        return b\n",
    "    \n",
    "    def __setitem__(self,index,value):\n",
    "        if type(index) == str: self.b[Stalk(index)] = value\n",
    "        else: self.b[index] = value\n",
    "\n",
    "    def __contains__(self,other): \n",
    "        if type(other) == str: return Stalk(other) in self.b\n",
    "        return other in self.b\n",
    "\n",
    "    def __len__(self): return len(self.b)\n",
    "\n",
    "    def pop(self,index): return self.b.pop(index)\n",
    "\n",
    "    '''\n",
    "    DESCRIPTION\n",
    "        adds a suffix to the trie\n",
    "    INPUT\n",
    "        stalk | a Stalk() which is a common substring of every read up to this point and beyond\n",
    "        reads | a set of reads which have with the same common substring up to this point\n",
    "    '''\n",
    "    def add(self,stalk,reads):\n",
    "        if stalk in self:\n",
    "            if not len(stalk):\n",
    "                self[stalk].right+=1\n",
    "                self.s[stalk][1].update(reads)\n",
    "                return\n",
    "            if type(self[stalk]) == Leaf:\n",
    "                branch = Branch()\n",
    "                l1 = self.pop(stalk)\n",
    "                stalk_ = list(self.s.pop(stalk))\n",
    "                stalk_[0],l1.left,l2 = stalk_[0].common_substring(stalk)\n",
    "                branch.add(l1.left,stalk_[1].copy())\n",
    "                stalk_[1].update(reads)\n",
    "                branch.add(l2,reads)\n",
    "                stalk_ = tuple(stalk_)\n",
    "                self[stalk_[0]] = branch\n",
    "                self.s[stalk_[0]] = stalk_\n",
    "            else:\n",
    "                stalk_ = list(self.s.pop(stalk))\n",
    "                branch = self.pop(stalk)\n",
    "                stalk_[0],bstalk,stalk = stalk_[0].common_substring(stalk)\n",
    "                if len(bstalk):\n",
    "                    br = Branch()\n",
    "                    br[bstalk] = branch \n",
    "                    br.s[bstalk] = (bstalk,stalk_[1].copy())\n",
    "                    br.add(stalk,reads)\n",
    "                    self[stalk_[0]] = br\n",
    "                else: \n",
    "                    branch.add(stalk,reads)\n",
    "                stalk_[1].update(reads)\n",
    "                stalk_ = tuple(stalk_)\n",
    "                if not len(bstalk): self[stalk_[0]] = branch\n",
    "                self.s[stalk_[0]] = stalk_\n",
    "        else:\n",
    "            if type(stalk) == str: stalk = Stalk(stalk)\n",
    "            self.s[stalk] = (stalk,reads)\n",
    "            self[stalk] = Leaf(stalk)"
   ]
  },
  {
   "cell_type": "code",
   "execution_count": 5,
   "metadata": {
    "tags": [
     "DONE: describe",
     "DONE: explain"
    ]
   },
   "outputs": [],
   "source": [
    "'''\n",
    "DESCRIPTION\n",
    "    an object which constructs a suffix trie out of fragments of a sequence and can traverse \n",
    "    the trie to resconstruct some target sequence\n",
    "INPUT\n",
    "    reads | a list of strings which overlap and are fragments of a longer sequence\n",
    "'''\n",
    "class Sequitur:\n",
    "    def __init__(self,reads,k_min=3,**kwargs):\n",
    "        if \"correct_sequence\" in kwargs: self.correct_sequence = kwargs[\"correct_sequence\"]\n",
    "        self.branch = Branch()\n",
    "        self.reads = reads#self.remove_containments(reads)\n",
    "        self.k_min = k_min\n",
    "        for read in reads:\n",
    "            for i in range(len(read)):\n",
    "                if len(read[i:]) < self.k_min: continue \n",
    "                self.branch.add(Stalk(read[i:]),{read})\n",
    "        if \"len\" in kwargs or (\"assemble\" in kwargs and kwargs[\"assemble\"]): self.phase1(**kwargs)\n",
    "\n",
    "    def phase1(self,**kwargs): \n",
    "        if len(self.reads) == 1: \n",
    "            self.sequence = self.reads[0]\n",
    "            return True\n",
    "        else:\n",
    "            if \"k_min_add\" not in kwargs: kwargs[\"k_min_add\"] = 0   \n",
    "            extensions = {}\n",
    "            stalks = self.branch.b.keys()\n",
    "            for stalk in stalks: self.longest_common_substring(self.branch,stalk,[stalk.stalk],extensions)\n",
    "            k_max = max(extensions.keys())\n",
    "            i = 0\n",
    "            overlaps = {}\n",
    "            if \"len\" in kwargs and kwargs[\"len\"] == len(self.reads):\n",
    "                if self.k_min + kwargs[\"k_min_add\"] < k_max: kwargs[\"k_min_add\"] += 1\n",
    "                else:\n",
    "                    if kwargs[\"assemble\"]: kwargs[\"assemble\"] = False\n",
    "                    for v in extensions.values():\n",
    "                        for k_, v_ in v.items():\n",
    "                            for read in v_['endswith']:\n",
    "                                if read not in overlaps: overlaps[read] = set()\n",
    "                                for extension in v_['is_in']:\n",
    "                                    for _ in range(extension.count(k_)):\n",
    "                                        pre = extension[:extension.find(k_)+len(k_)]\n",
    "                                        suf = extension[extension.find(k_)+len(k_):]\n",
    "                                        if read.endswith(pre): overlaps[read].add((extension,suf))\n",
    "                    if \"biphasic\" in kwargs and kwargs[\"biphasic\"]:\n",
    "                        if self.phase2(overlaps,**kwargs): return True\n",
    "                        else: \n",
    "                            self.sequence = self.reads\n",
    "                            return False\n",
    "                    else:\n",
    "                        self.sequence = self.reads\n",
    "                        return True\n",
    "            else:\n",
    "                kwargs[\"k_min_add\"] = 0 \n",
    "                kwargs[\"len\"] = len(self.reads)\n",
    "            for read in self.reads:\n",
    "                while min(k_max,len(read)-1) - i > self.k_min + kwargs[\"k_min_add\"]:\n",
    "                    if read[:min(k_max,len(read)-1)-i] in extensions[min(k_max,len(read)-1)-i]:\n",
    "                        if len(extensions[min(k_max,len(read)-1)-i][read[:min(k_max,len(read)-1)-i]]['endswith']) > 1: i += 1\n",
    "                        else: break\n",
    "                    else: i+=1\n",
    "                if (read[:min(k_max,len(read)-1)-i] in extensions[min(k_max,len(read)-1)-i] and len(extensions[min(k_max,len(read)-1)-i][read[:min(k_max,len(read)-1)-i]]['endswith']) > 1)\\\n",
    "                or read[:min(k_max,len(read)-1)-i] not in extensions[min(k_max,len(read)-1)-i] or read not in extensions[min(k_max,len(read)-1)-i][read[:min(k_max,len(read)-1)-i]]['is_in']:\n",
    "                    i = 0\n",
    "                    continue\n",
    "                if list(extensions[min(k_max,len(read)-1)-i][read[:min(k_max,len(read)-1)-i]]['endswith'])[0] not in overlaps: overlaps[list(extensions[min(k_max,len(read)-1)-i][read[:min(k_max,len(read)-1)-i]]['endswith'])[0]] = (read[:min(k_max,len(read)-1)-i],read,read[min(k_max,len(read)-1)-i:])\n",
    "                else: overlaps[list(extensions[min(k_max,len(read)-1)-i][read[:min(k_max,len(read)-1)-i]]['endswith'])[0]] = ('','','')\n",
    "                i = 0\n",
    "            if len(overlaps):\n",
    "                overlaps = list(overlaps.items())\n",
    "                overlaps.sort(key=lambda e: len(e[1][0]),reverse=True)\n",
    "                overlaps = dict(overlaps)\n",
    "                key = list(overlaps.keys())[0]\n",
    "                seq = key\n",
    "                self.reads.remove(key)\n",
    "                while key in overlaps:\n",
    "                    if len(overlaps[key][0]) < sum(len(o[0]) for o in overlaps.values())/len(overlaps): break\n",
    "                    seq += overlaps[key][2]\n",
    "                    key = overlaps[key][1]\n",
    "                    if key not in self.reads or not len(key): break\n",
    "                    self.reads.remove(key)\n",
    "                self.reads += [seq]\n",
    "            self.__init__(self.reads,self.k_min,**kwargs)\n",
    "        \n",
    "    def phase2(self,overlaps,**kwargs):\n",
    "        for read,extensions in overlaps.items():\n",
    "            if not len(extensions): continue\n",
    "            self.reads.remove(read)\n",
    "            for extension in extensions:\n",
    "                self.reads.remove(extension[0])\n",
    "                kwargs[\"len\"] = len(self.reads)+1\n",
    "                self.__init__(self.reads+[read+extension[1]],self.k_min,**kwargs)\n",
    "                if self.phase1(**kwargs): return True\n",
    "                else: \n",
    "                    self.reads.remove(read+extension[1])\n",
    "                    self.reads += [extension[0]]\n",
    "            self.reads += [read]\n",
    "        return False\n",
    "        \n",
    "    def longest_common_substring(self,branch,stalk,substring,extensions):\n",
    "        if branch.__is_shallow__():\n",
    "            if len(branch.s[stalk][1]) > 1:\n",
    "                if len(''.join(substring)) not in extensions: extensions[len(''.join(substring))] = {}\n",
    "                if ''.join(substring) not in extensions[len(''.join(substring))]: extensions[len(''.join(substring))][''.join(substring)] = {'endswith':set(),'is_in':set()}\n",
    "                for read in branch.s[stalk][1]:\n",
    "                    if read.endswith(''.join(substring)): extensions[len(''.join(substring))][''.join(substring)]['endswith'].add(read)\n",
    "                    else: extensions[len(''.join(substring))][''.join(substring)]['is_in'].add(read)\n",
    "            return extensions\n",
    "        if type(branch.__traverse__(stalk.stalk)) is Leaf:\n",
    "            if len(branch.s[stalk][1]) > 1:\n",
    "                if len(''.join(substring)) not in extensions: extensions[len(''.join(substring))] = {}\n",
    "                if ''.join(substring) not in extensions[len(''.join(substring))]: extensions[len(''.join(substring))][''.join(substring)] = {'endswith':set(),'is_in':set()}\n",
    "                for read in branch.s[stalk][1]:\n",
    "                    if read.endswith(''.join(substring)): extensions[len(''.join(substring))][''.join(substring)]['endswith'].add(read)\n",
    "                    else: extensions[len(''.join(substring))][''.join(substring)]['is_in'].add(read)\n",
    "            return extensions\n",
    "        for c in branch.__traverse__(stalk.stalk).b:\n",
    "            if c.stalk != '$': extensions = self.longest_common_substring(branch.__traverse__(stalk.stalk),c,substring+[c.stalk],extensions)\n",
    "            else: \n",
    "                if len(branch.s[stalk][1]) > 1:\n",
    "                    if len(''.join(substring)) not in extensions: extensions[len(''.join(substring))] = {}\n",
    "                    if ''.join(substring) not in extensions[len(''.join(substring))]: extensions[len(''.join(substring))][''.join(substring)] = {'endswith':set(),'is_in':set()}\n",
    "                    for read in branch.s[stalk][1]:\n",
    "                        if read.endswith(''.join(substring)): extensions[len(''.join(substring))][''.join(substring)]['endswith'].add(read)\n",
    "                        else: extensions[len(''.join(substring))][''.join(substring)]['is_in'].add(read)\n",
    "        return extensions\n",
    "    \n",
    "    def remove_containments(self,reads):\n",
    "        i = 0\n",
    "        r = set()\n",
    "        m = max([len(r) for r in reads])\n",
    "        b = False\n",
    "        while i < len(reads):\n",
    "            if len(reads[i]) == m: \n",
    "                r.add(reads[i])\n",
    "                i+=1\n",
    "                continue\n",
    "            for r_ in r:\n",
    "                if reads[i] in r_: \n",
    "                    b = True\n",
    "                    break\n",
    "            if b: \n",
    "                b = False\n",
    "                i+=1\n",
    "                continue\n",
    "            r.add(reads[i])\n",
    "            i+=1\n",
    "        return list(r)"
   ]
  },
  {
   "cell_type": "code",
   "execution_count": 6,
   "metadata": {},
   "outputs": [
    {
     "data": {
      "text/plain": [
       "True"
      ]
     },
     "execution_count": 6,
     "metadata": {},
     "output_type": "execute_result"
    }
   ],
   "source": [
    "sequence = 'betty_bought_butter_the_butter_was_bitter_betty_bought_better_butter_to_make_the_bitter_butter_better'\n",
    "reads = ['betty_bought_butter_th',\n",
    "                        'tter_the_butter_was_',\n",
    "                              'he_butter_was_bitter_',\n",
    "                                         'as_bitter_betty_bought',\n",
    "                                                     'tty_bought_better_butter_t',\n",
    "                                                                     'r_butter_to_make_the_',\n",
    "                                                                                   'ke_the_bitter_butter_better']\n",
    "sequitur = Sequitur(reads,assemble=True)\n",
    "sequitur.sequence == sequence if type(sequitur.sequence) is str else all(s in sequence for s in sequitur.sequence)"
   ]
  },
  {
   "cell_type": "code",
   "execution_count": 7,
   "metadata": {},
   "outputs": [
    {
     "data": {
      "text/plain": [
       "True"
      ]
     },
     "execution_count": 7,
     "metadata": {},
     "output_type": "execute_result"
    }
   ],
   "source": [
    "sequence = 'you say hello world, i bellow go to hell'\n",
    "reads = ['you say hel',\n",
    "            ' say hello wo',\n",
    "                    'lo world, i be',\n",
    "                          'ld, i bellow go t',\n",
    "                                    'ow go to hell']\n",
    "sequitur = Sequitur(reads,assemble=True)\n",
    "sequitur.sequence == sequence if type(sequitur.sequence) is str else all(s in sequence for s in sequitur.sequence)"
   ]
  },
  {
   "cell_type": "code",
   "execution_count": 8,
   "metadata": {},
   "outputs": [
    {
     "data": {
      "text/plain": [
       "True"
      ]
     },
     "execution_count": 8,
     "metadata": {},
     "output_type": "execute_result"
    }
   ],
   "source": [
    "sequence = 'she_sells_sea_shells_on_the_sea_shore'\n",
    "reads = ['she_sells_s',\n",
    "               'lls_sea_shel',\n",
    "                    'ea_shells_o',\n",
    "                       'shells_on_the_s',\n",
    "                                  'he_sea_s',\n",
    "                                      'ea_shore']\n",
    "sequitur = Sequitur(reads,assemble=True)\n",
    "sequitur.sequence == sequence if type(sequitur.sequence) is str else all(s in sequence for s in sequitur.sequence)"
   ]
  },
  {
   "cell_type": "code",
   "execution_count": null,
   "metadata": {},
   "outputs": [],
   "source": [
    "successes = 0\n",
    "n = 1\n",
    "for seed in range(n):   \n",
    "    sequence = generate_genome_sequence(10000,seed=seed)\n",
    "    reads = generate_reads(sequence,250,500,50,100,seed=seed)\n",
    "    sequitur = Sequitur(reads,assemble=True)\n",
    "    s = '| Seed: ' + str(seed) + ' | '\n",
    "    if type(sequitur.sequence) is str and sequitur.sequence == sequence:\n",
    "        s+='SUC | ' + str(sequitur.sequence) + ' == ' + sequence\n",
    "        successes+=1\n",
    "    elif type(sequitur.sequence) is list and all(s in sequence for s in sequitur.sequence):\n",
    "        s+='PAR | ' + str(sequitur.sequence) + ' ~~ ' + sequence\n",
    "        successes+=0.5\n",
    "    else: s+='FAI | ' + sequitur.sequence + ' != ' + sequence\n",
    "    print(s)\n",
    "    print('-----------------------------------------')\n",
    "print('ACCURACY: '+str((successes/n)*100)+'%')"
   ]
  },
  {
   "attachments": {},
   "cell_type": "markdown",
   "metadata": {},
   "source": [
    "    SUC: returns the target sequence fully reconstructed\n",
    "    PAR: returns contigs all of which exist in the target sequence (consider coverage?)\n",
    "    FAI: returns a full sequence that is incorrectly reconstructed or a set of contigs where at least one is not found in the target sequence"
   ]
  },
  {
   "cell_type": "code",
   "execution_count": 30,
   "metadata": {},
   "outputs": [
    {
     "name": "stdout",
     "output_type": "stream",
     "text": [
      "10172\n"
     ]
    },
    {
     "data": {
      "text/plain": [
       "['GACGCAAGTTAATGTCACCTCAATCACCGGCTGGCATATCAATATGTGGCAACGGCTGGCCCGCTGTGGGAAATTTAGTTGTGCCGCAGCGAAGTAGTGCTTGAAATATGCGACCCCTAAGTAGGAGCGTATGCGCCCAGTAACCAATGCCTGTTGAGATGCCAGACGCGTAACCAAAACATAGAAACCATCAATAGACAGGTCATAATCGGTCCACCGGATCATTGGTGCATAGAGCCTGGGCGTTAACGCCCTTTATTACTAGCTTAATGGTATCACATTGACAAACACGGCATTAAGTAGCGACGAAACGGGATTTGCCTGACCGGGGAGAAGCCGGTCGATCAGCAGTGGTAATTGGATATTAGGCCTAAACCATAATGTTCTAGCGCTCGAAATCATTGCACCACTTGCATCTTTGTTCCAGGGACGCTGTAAAACCAGATGCCTGTAAATCGTTTCAACGGGATGGTTTAC',\n",
       " 'GCACCACTTGCATCTTTGTTCCAGGGACGCTGTAAAACCAGATGCCTGTAAATCGTTTCAACGGGATGGTTTACCCGGAATTCTACGTATTTAATCAACGAGCTTAATGAGCTGACATTGCTGAAATGACCATGACTTAATAATCATTTATGGAGAAGAGGCACGACCACAAGGACCCTATGGCACGGTGGGCAAGCTCCCGCCCGGTACATAACTGTCTGGACTGATTATGTCGGTACAGACTTCTTCCTGCGTATCGA',\n",
       " 'CCTATGGCACGGTGGGCAAGCTCCCGCCCGGTACATAACTGTCTGGACTGATTATGTCGGTACAGACTTCTTCCTGCGTATCGATTACGAGCTTATCTGAAGAAGTTTAGGGCAAAGGGACCATGGCCATTGGTGCCAATTTCGGTTCTTGTATGCTACAGTTAAATAGAAAGGCCGCATTGTCGTTCTCGCCCTGTTTTCCTCATACACGACCGAGGTTATTTGTCGGAAACGAGACATCTCTCGAAGGTGGAACGACGCCGGGTGTGCAGAATTTATTTTAAACACTCTATTACCTCCGGGTAGCGTTGGCAAACTCCGATAATGAGCGCCAGGCGTGCCAGGACTCCACCTCCCCTGCTAAGTTGACCTTGAGCTCGGTACAGCGTCGGCGAGACGATAACAACGAAGTCCTTCGGCGTTATGTAATTCACCAGCCCACCATATCAGGTAATAGGCTCGCTGGTTAGGTAGATTATGTAAGAGGCGTGCAGCGC',\n",
       " 'TTCACCAGCCCACCATATCAGGTAATAGGCTCGCTGGTTAGGTAGATTATGTAAGAGGCGTGCAGCGCCGAACGGGGGTTTCACATCGATGCATGCCACATTGGGATGGGGCTCACTGTATCAGCCGTACCGCTATCTACCTATTGGTGGAGATAGCTTTTATGCGGATTCAAGGAACATAGAGTCGTCCTGACCCTAATCGAACGCGGGGTCTCACAGACTCTCGCTAAGAAATGTGTGACGACCAGCATAGTACGATATGGGTTCATGCTAGAAAGACTAGTTTAATGAAAGGATACGAATGCCCCCCGATTACCGGCCGCCTTGCTACATCCAAGAAAACCTATTGCCGCTACTGATTCTTCTCTTAGGGA',\n",
       " 'GAATGCCCCCCGATTACCGGCCGCCTTGCTACATCCAAGAAAACCTATTGCCGCTACTGATTCTTCTCTTAGGGATCGAGTAACTATTTATTCCGTTCGAGGCGTACGCGGTAGTATGTCGCCAGCATTTAATCCCCCCACTGGGATGCGGCTGCTGTTGTTACCAACAGCTAAAAGTGATGGTCCACACTCTTGACTCTATATGCTATAGTTTGCCGCGCTAATTTAGTCAGCGACACCAATTATGGAACCTGGCATGGAAGTCGTCCGCTGGTCATGTCGGTGGTGATGATCGCCGTCATTTTCTGTCGAATGTCTAATAGCGCACGACAATACACATCATACCCTTTATCTAGAGGGTCAGAAGACCTCGCTAATATTCTGCTGTAGCTCGTTATATTCTCGTTCCTGGTCACGAACGAGCTTCTTCCTAGCGCTCTCTACTGCAAACCTCATGGTCCGGTTTGTACCACTTCGAATCATTC',\n",
       " 'GCTCTCTACTGCAAACCTCATGGTCCGGTTTGTACCACTTCGAATCATTCACTGTAATACTGGAACAGCTGATGCTTGCGAACGTATTGTAATCCAATCAGGTAGGGCAGACTAGGCGATAGAACTACGACCCTCTGCGGCCTGCGAAGGGAAAGACGCGTATTAATGCGCTGAAAGAGGGACCGATTGCGGTTATGCACTTACAGACCTAGTACTGGTTTACGCCCCGCCGACCTCCCCCGATCATCTTCTTACAAAACTTGTGTGACCCAAATCTCGACGGGGGCATCTGTGTCTGGGTTTGCCTCGCCTGGTGTACGTAACAGACCCGGAAACGCTTGGATAACAGGCTCGCCTCTCAATACATGGCAGCGGTTGGATCAGTTTCTCAACTGATGGAGAAAACATTTAGCATCACTAATCGTTATCCCCATGGGCTAAAAGCCCAGAGCGAAGCGTGTT',\n",
       " 'CAGTTTCTCAACTGATGGAGAAAACATTTAGCATCACTAATCGTTATCCCCATGGGCTAAAAGCCCAGAGCGAAGCGTGTTAAGTTTTTACCTGCACCATAAGGGTTGTGCATGGACATAGTCAAAGAGCGGTTTACTGCATCTGTCATCTGGTCTTCGTGCCGCGTCGCGCCGCATTCCGCATCGTGCGTGAACCCTAGGTTGTAAAGCGTGTTGCAAAAGACAAAGATCCGGCCCCCCGTGCGCACTCCAGTCGAGCACCATCCTAGCCTGTCGCAGTGGGCGTACTAACTCTGCCAGTGTAGTTCCAGTTCTCTAATATCACCCATTACCCTACACCTTGTAGGCACTCCACCTTAGGTGGAATGACCTCATGCGCAGGAGCCGTTTACTAGCCTGCCTGCACCTTCAGTAGAATCAAATGGTCCACTCACCCCCAAGAGTGTAACTAGGGTTAGCCACCCTGAGTCGTCGATGCGGAGCTATTAGTTCCAGAT',\n",
       " 'CACTCACCCCCAAGAGTGTAACTAGGGTTAGCCACCCTGAGTCGTCGATGCGGAGCTATTAGTTCCAGATGCTTGTCTGCACGGAATGGCGTCACGTTCGTTTGAATCAATTCTATAGCGGAGACAAGGTCCGTGCTTAAAAGCGAGAAGACACTCCTGCTATAAAGATCGTCTGCTATCGGGTTGGGCCCTGAGTGCAATCCTGCATTTTGACCATCATGCATATGACGTTGAAAGTTTCGTTATGTCTTTGTGGTCGATTTGACGCTAGCCTAACACCATTCGTTGACTCAATGGGTAGGTAAGCTGCTATAAAGAGGAAAACCTACACAAAACATTAA',\n",
       " 'CCATTCGTTGACTCAATGGGTAGGTAAGCTGCTATAAAGAGGAAAACCTACACAAAACATTAATTCACGTCAACATGGTGCACTGGGGAAACGCCCATTCGGCACGGCATCGGCACGTAGTGAGCTATGCGAGAGTAGCCGGACTCATGAGAACGCTCCACTTGGGAATGCTCTACTTTCCTTTCGACAGCACGCTGTGTTTAGGGGGTATCTGTAATAGAATTGTTTCAGCGTACACTCTGTCTGTGCAGGTAGCCCAGCAATTAACTCGAGGCTGAGAAAGGGCATTTCATGTTTTCTCTCGACTGGGTGCCTCGCTCATGCAGCGGAATGGGGACGCCCTCAGAATATTTCCAACATAGAACGTCTGGCTGCCACGTAGTGTACGCTCCACTTAGCAGCCCGTGTGGACGCAGTCAATTTGGCGTCATCAAACAAGGCAACCGTGTCTACATATCCACGGGTGTTGGGTGTGTGA',\n",
       " 'CACTTAGCAGCCCGTGTGGACGCAGTCAATTTGGCGTCATCAAACAAGGCAACCGTGTCTACATATCCACGGGTGTTGGGTGTGTGACTGTTCCTCCCAGCCTATCTCAAAAACCCGGAATTCGCCTGACTACCCGGGCTGAATAACGTCGTAGATTGCTAGGCAGTACCGTATGTGATATACGGGCTTAGCTAGCCATTCTGCGCAACACTCATGGGGTAGTTCTATGCGGCCGCAGTCGGCTAACTTAACACGTACCATGCATAAACCTCGACGAGGCGATGAGGGAGCGAATATCTTGACTAAAACTTCCAAATTGCTAGTCGCATTACGTCCCACAGGGGCCTGATATCTCTTCTGACCTTCAACCGAGACCTGA',\n",
       " 'GAGCGAATATCTTGACTAAAACTTCCAAATTGCTAGTCGCATTACGTCCCACAGGGGCCTGATATCTCTTCTGACCTTCAACCGAGACCTGAGCACTGTACGCGAGTGGAGAGGCGCCCCTAGCGTAATAGCGAATGCCAGGCTGCCATCGTGGACTGCATTTGGTCGATATCAATCGATGAATTGCCCAACGGTCTCCGCAGCAGCAATTGGACATGGCGGATCAATGGGTAGGCGGGTCATGTAAGATCACAGCGCACTGGAATGTCCTACACAAGACCTGGGGTACCCCACAAATTTTAGCCGGTATCTGGAGGGTTAG',\n",
       " 'GTAGGCGGGTCATGTAAGATCACAGCGCACTGGAATGTCCTACACAAGACCTGGGGTACCCCACAAATTTTAGCCGGTATCTGGAGGGTTAGGATGAAGACAAAGTAATCGGGCTTTGGAGAGACTTGGGCCTTGTAACAGGGGATGCGTAGGGGAGATCGGGTATCCGCAATTTAGAATGCCTATAGACAAGTGAGTGGGCACTATGACACAGCCTTTCTGCAGGGGCTAAACGCAACCACCCTTAGGGACAGGGAGGATCGGCCCCAGACGGTGTCTTGAGCGCGTAGGGGCTCCCTTCAGCATTAATGCTACTTTTTTAGCCGATCTCCGATGTGCGATCGCGAGTCACTCGCCTTGTCATTGGCGTGTCTCCTTATCGTAGGCCCGCCGCCAACGGGCAGGATGGGAAAGTTGCATTAGGCAACTGAGGTAACCGTCAA',\n",
       " 'CACTCGCCTTGTCATTGGCGTGTCTCCTTATCGTAGGCCCGCCGCCAACGGGCAGGATGGGAAAGTTGCATTAGGCAACTGAGGTAACCGTCAAAGCTATCGAACGCCCTTCCAGTCAGGGCTCAAGTAAAGGAGACGAATTCGCCCCAATTCTCCAGCGATTCTGTCTCCTGTGTCCTACGGAGTCTCGGAGATAAAATGTGATATGAGAAGAAAACTGAACACCCTGTCATACCTTACCACTTTGCATCTCAGTTTTGCAGCGGCTGGTGGCAGGCACTCGCTTCGGTATTACAGGATTCACATTGTTAGTAAACCCGTCGTCAGCCCCAATGGATTCACATGAGATCGTATTTCCAACTGGCAGGACATATGGTCACCTCGAACAGGTGGGGCATAACCGTCGGG',\n",
       " 'CAGCCCCAATGGATTCACATGAGATCGTATTTCCAACTGGCAGGACATATGGTCACCTCGAACAGGTGGGGCATAACCGTCGGGGAATATTAATCTCTAGTGGCATGCACTTCACGCGAGGTCACGCTGAATTACAGTCGTGCAGCATTGGCCATCCGCCTCAACTTTACGGACGTTAGATGCAAGTCGGAAATCTCTTTCCATATGCAGTCTTACGGGTATATGTGTAGCTTGTCTGAGCCGACATTGCATGGTAAACTAATTCAGACTAAAGCTCCCCAATTGCAAAACTGATGACAGGCCGCCCGAAGTTGCAGTACATAGGCAAAACGAAGGTAATCGGACAGGGGAATGGGACTGCCATGACCCAGTAGCTCTATCGGGATAGTTGCCGTTGCCATCCCAGTAAAGCCGTTGGGGTCTCTCTGGAACGGCAGGAATCATTACACCCGGAGGAGAGCTATCTTGAGAATTACAATATC',\n",
       " 'GGGGTCTCTCTGGAACGGCAGGAATCATTACACCCGGAGGAGAGCTATCTTGAGAATTACAATATCTGTAACCCTCTCAATTTGTGACATTTGTCAAGTTCACGCCGCTAGTCAGTCTTAGTGGTGTGACTGCAGATTCTCTGAACGACGACCCTGGCCTACTAAGTGCCGGCCGTGGTTTCTCGTTTAGTGAGTGTAAGGTGTAGTTATGAGATTCAGCCATAAGGGATCATGTGCGCCCTCCGGCGCATCCCTCTGAAGCAAGATGGTTGCGAGTGACTTGGCCACAGACGTGATACTATTCAAGTGCTTCGTGAAGGTCGAATCTGCCACCTAAGGTGCATTATGAGTAGAGACGCGTCTGAGGTCTTGTTTCCTACATACACCAATCACTCATGCTAAACAAAAACGTCGGCGGCTCGCCCTTTAC',\n",
       " 'CTTGTTTCCTACATACACCAATCACTCATGCTAAACAAAAACGTCGGCGGCTCGCCCTTTACAGAATACCGACATTTTCGAGTTGAAATTCTAGCACGGATGCCCGAAAACGATGCCTTTCACAGCAGTGCCACCGGAACTGCAACCCCTCTTAGTCATCCTGCCGCTATTAGCGCAGTATGCCATACTGGGAGGAAATACAAGGAAACAGGTATTGACGGGCTCTAAGCGCATGCAACTCCGGTATCGGAGGGCGGGGTTAATCCCGGTTTCTGACTGAAAACTGAATGTTAGTGTCCATCCCAGATGTGCTTCTCCAGTTAGGCGACGGCATATGCGAACCGCGGCGCATGGTGAAACCACGCCTATGCGACCCCGTGTGCGCCTTCCTTGCGGTCTTTTCAGATATCAAGCAAGGAGTATTGCCCTTGTCAGTACGCGTGAGTAACCGGCCCGGCCACTGCTTTCTTGCATTGGAAC',\n",
       " 'CTTGCGGTCTTTTCAGATATCAAGCAAGGAGTATTGCCCTTGTCAGTACGCGTGAGTAACCGGCCCGGCCACTGCTTTCTTGCATTGGAACCTCATCTCACCCAGGTGGGGAGTATGGTAAACGCAAAGTTGGTACGGTGAAAAGCAGGCGCCCTTCAGTGGGTGCATCGACCCTGATTCTACTTGCAAGTCCCTCCACAACAAACCCCGTTAGAGTAGAAAGGACAGGGCTTCCAATCTTCAAATCCGAAGCGGTATAGGTGTGAATCAACGCACCGTGTTTCCACGCGCATTGCCGACAGACAAAAACTGATACACCATGGCTGACA',\n",
       " 'AATCTTCAAATCCGAAGCGGTATAGGTGTGAATCAACGCACCGTGTTTCCACGCGCATTGCCGACAGACAAAAACTGATACACCATGGCTGACACTCAAGCAGGTTCGTTGTCTATTCAGCAAATGCCGTAATTGGTGTCCAACAGGTTCTAGTTTGACGCTGCAGTGTATCGCAGATGTGTCGAAATATGCGGGGCGGAGGGGCTTCACGTCGCGAACGGATAGCTCCGAAGTTGTGCAACTGAGCTTCGGGGCGCAGTTGTAACCTCGGACAGTGGGCAGCATTATTAATTCGCTTAGTGTTTGGAAAACTTATACCTGCGCCTTCAGCTACGAAGGGCCTTAGTAGGTGGATCGTACAAAGTCGAAAGTGCTGGGTTGTTCCTGCACCGGGAGAACAGAGTTACGCCGCAAACAATAGCGTCCCTTCATTCTA',\n",
       " 'CCTTAGTAGGTGGATCGTACAAAGTCGAAAGTGCTGGGTTGTTCCTGCACCGGGAGAACAGAGTTACGCCGCAAACAATAGCGTCCCTTCATTCTACCGCTGTTGCTTTCTAATAGGGTGAAAGCGCAACAGTGAAACCATCGACCTACTCTGCCAGTATCTTCTAACGACAACCTGCATCCCTTGGCGGTGCCCTCTGCCAGGAGCTCACCGTTCCCTCAATCACTCTATAGTAGTATCCGTGAACAATGCAGCGTTCCTATTATCACCGCATTTCAAAATAACTGGATGAGGAGAATGATGCCCCGTTCCGCACCAGTTGACCGCAAGCATGGATGGTGTGGCGTCAAGGCTGTCACGCTGGAGAGGGCCGACGCGGCTGTGGTTGCAGAGTCTAGCCAGGAGACGTACTCGAAGGGAATCTTGCTACCTAAGAGCTAACACCCGACGCCGACTCAGAGCCATGCTCGCTACTGTTGC',\n",
       " 'TTGCTACCTAAGAGCTAACACCCGACGCCGACTCAGAGCCATGCTCGCTACTGTTGCATGAAAGTTTACAGTGGGCGCAGAGGTAGCTGGGCAACTAGCGTCTCTCTCTTGACCAGTTTTAGCCGCCTAGCTGCTATTGGTGTTACTTTCCCAGCCTCCTTCAGGAATGTAGTATTGTTGAAACCCGGCTCCAAGACGTTACGAGCTTTTGCCGGCTTGGTCTAGTCATCGAAGAACGGGAGACAAGAGCGCATGTTTTAATGAGATGTTAACTTGAACGCTGTGGAGCTATTGGCAGCACTGCATGTCTGCGGGTTATCACTGCCTTCACCGG',\n",
       " 'GATGTTAACTTGAACGCTGTGGAGCTATTGGCAGCACTGCATGTCTGCGGGTTATCACTGCCTTCACCGGCATCTTAGTGGTTATTGCATGTTTGGCGGTCCGATCGACGTACTCGAGAGGACATATGCCAGCCTCTAGGAATGGGATAACACACTTGAACGACCCTATCGGTTAATAGGAAGCACGAGCCGAAAAGTTTTGGACTAGCTGATTCGTTCGACACACTTCGAATAACATCCTCACCACACACTTATTGATCTCACTAGTATCTTGCTGATAGATGTTTGTCAGCCGGTTGGCACCTCTTATAAACACCTGCCGTGGCGCTCCACGGCGCAATGCAGTTTGTGGGGGAAGATGTTGCCATCACCGGTGCGACCGGCTATGCTTAT',\n",
       " 'GCACCTCTTATAAACACCTGCCGTGGCGCTCCACGGCGCAATGCAGTTTGTGGGGGAAGATGTTGCCATCACCGGTGCGACCGGCTATGCTTATATATCGACTTTACCCTAAAAAGAGACTACGGACTCCGAATGTAAACACTCACTACACTCTAGTTCCAGTTTCGGGACCCTAATGATAGTTAGGCCGGAATTAGGGTTTTTTGACTAGCTGAGAAACGCACACCGGTATCTAGCTGAAGCCTTTCCGTGTGTGGTAAAGTTCATAGTCGGAACTTTGGAAGAACGCCTTAGAACAATTTCGTACGGCCTGGATGAGGCTGAATACAGAGTAGATCGC',\n",
       " 'AGTCGGAACTTTGGAAGAACGCCTTAGAACAATTTCGTACGGCCTGGATGAGGCTGAATACAGAGTAGATCGCCTATACATCCGCAGTTACATCCTTATAGCTCAAATCGAAGCATACACATGCCGATGGGACCTTCACCGTGTAATTGATAAAAGAATCTAAATCCCAAACCTGGGATTTTTGCACCTTCTGATGCATGCACGTGGCCCTATCGACGGGGTTCGACGGCAGAGGAAGCTGGAACAACACGAACCGCGTGCAGCGCTTGGACGCGGCCGCAATGACGCAGAAAGGGTTCATTGGTATTATAGTGCTCTCCCACCGGGTTA',\n",
       " 'GACGCGGCCGCAATGACGCAGAAAGGGTTCATTGGTATTATAGTGCTCTCCCACCGGGTTAGGGTTAGTACACGCATACAGATTATAAGCGTCCGGCCCTCTCCGGACGATCTCTAGATGATGCACAATAGGACGGACGTCCAGGCCGTAGAACCTACTTTTGTTAGATCAAGATTTCGTAGCGGACACGGTGTCCGTGCAGCGCTATTTTTAACGACCCTCCTACAACGGGTCAAAGCAGAGCATTTTTCAAAATTTCAGATCTAAGTCGCACTCGACTTTATGAGCCTCGCAGTTACAGCTAATGTACCTCTCTGATCCTACTACTTGGAATTTCCGAAGCGACCTAGAATATAAACATATGTATGGTAGAGGCCGCACCTTAACCACTCTTCCAGCATGGGTTGGTAATA',\n",
       " 'CTTGGAATTTCCGAAGCGACCTAGAATATAAACATATGTATGGTAGAGGCCGCACCTTAACCACTCTTCCAGCATGGGTTGGTAATACGGATGTCGGAGCTCTACGGATCGAGACCTGGAACGGTAGAGGCTATCTTTGTCTGATTCGGCACCTATGGGTAAAGGTCTCAAGATGGTCGTATGGGACTCCATCACGAGCCAGTAGAAGAATTTGGACGCATAAAACGTTATCTCGTCATATTAATAACTCAAATGGAGTTAACACTATTCACTAACCAAAAGCGAGCGCATACGTCCTGCACGGGCGTGGATGCGCATGTAAGCCTCTACGAGCCTTTTCAATGGTTTGTTTCAAGGAGGGTACAATCAGCGATTGAACGAAGCCCCGAACTAATCGTTGTCACTCAGAGTTCTCATAAGGGCCACAGACCTTGATATTAACTTGCTGCAATAGCCTCCATCCCTGAATATGGGACGAGACTAAAGATATTAGCTCA',\n",
       " 'TGATATTAACTTGCTGCAATAGCCTCCATCCCTGAATATGGGACGAGACTAAAGATATTAGCTCAACCGTCCTTAGGTATGAACGCTCCTCCCGTGCGTCTCAGATTCTAATCCCTACTCTGTAATCACTCGAAGAGCAGTTGAATGCAATCGTTGGTTATGCCCCGTGTGGATGGCGACCAGTCCATGGGCTACAATACCTGGTGGCAGGCACGGTCCAACTTTATGTACCGTCGGTTGGATAGTTCCACTCGTCGGCCGCAGGTGTTGAACGAACGTTATAGATGCGTTTAGGATGGCCACGGACTTTGCTCAGCGGGATATCGCCCCACGGAATGGAATACATCCTTGTTTACGAATTGTGCGCTATAC',\n",
       " 'CACGGACTTTGCTCAGCGGGATATCGCCCCACGGAATGGAATACATCCTTGTTTACGAATTGTGCGCTATACCATTGGTGGCAGACTGCTTACTCATGTAGTAGGACGCGTTTGATACCAACTACTCACGCTCAATCGAATTGTAACAACGGCACGCACGAAAAGGTTGCGACCCCGCCGACCCTGGCACCCTATATAAGTCAATCCTTGAGTGCGGTTCTGTTCCTCCCGAATTAGAGCCCAGAAACGTATCTACGCGCAGTAAAGAGTTTGGTCATCTGGGCTAAGTGCATCCCGGATTCACCTCTATCCATAACTGGTAAACGACTAGGGGGGTCTAGGTACCTTGGCACGGATCTACACAGTCAGAACCACCCGCCACGGTCGGCTTACGCGTGCATTAGCACGCCGAGCAAAACTCGAAGGTTCTAAAATGAGAACCCATACCTCCCCCCCACCTAGTGCCCGGGG',\n",
       " 'CACGCCGAGCAAAACTCGAAGGTTCTAAAATGAGAACCCATACCTCCCCCCCACCTAGTGCCCGGGGCCCAATCTCAGGTCAGCCTATTGATGAGCCACCTTAATGGTTTCCTAAGCATATCTCACCATCCGGGTCGCTACCCGGATCGGTCCAATAGGAATTTCTGCTGGGAGCAGCTAACCTCCATCCTCATAAATCTACGTGCGTAAATGCAATTTGGCCACCGAGTTCACTAGTGCCATCCAGCTGCACGCCAGATTGCAGGAGTATACCCCGTCTTGGCGGGCAATTCCGACGCGCTCCTATAGAGAGAAG',\n",
       " 'GGCCACCGAGTTCACTAGTGCCATCCAGCTGCACGCCAGATTGCAGGAGTATACCCCGTCTTGGCGGGCAATTCCGACGCGCTCCTATAGAGAGAAGTTCAGTTAATACCTCAGACGGCAATCACTTAATGCAAGATTGCTGATATAAACGCAGACTCGGTTGAAAGGTCTTTGGAGGCGGTGTTCTGGCCTCTAATCCCTTTCTAAGGGCTGCATAAGAGTACATTATTCTATGTCGCTTCACGATTTTTTCTGGCCCATCTCCGTCCACCAAGGTCATCTTTCTACCTTTAGCTTCAGTTGCGTTAGAGCATAGACCCTGGACGACGCTGAGGGAGAGTTATTAACTCAACTTAGTCTACTGCTTATTAAGCGGTGCTTCATGATTCACTAGCAGAAGGATGGTAACGGTATAAGCTCTCGCAGATTACCGACCTGTGTGTAAATGGTAGCCTGTGGATTCGCGGTGGGTTGTA',\n",
       " 'TGCTTCATGATTCACTAGCAGAAGGATGGTAACGGTATAAGCTCTCGCAGATTACCGACCTGTGTGTAAATGGTAGCCTGTGGATTCGCGGTGGGTTGTAAAGCCCCATGTGGGTTGGATAAGCCTTCTGCCCCCTAAGTTGCCCAGGGGAAGAAACCCTAGCTACCTACGGTGTGGACCTCCTAATGTCATTTATCTTATCCAAAGAAACGCTCCCGGAGTAAATCGCGTTCTTTACGGACAGCGCCGGAATAAAACCAGCAAGACGCAAGTTAATGTCACCTCAATCACCGGCTGGCATATCAATATGTGGCAACGGCTGGCCCGCTGTGGGAAATTTAGTTGTGCCGCAGCGAAGTAGTGCTTGAAATATGCGACCCCTAAGTAGGAGCGTATGCGCCCAGTAACCAATGCCTGTTGAGATGCCAGACGCGTA']"
      ]
     },
     "execution_count": 30,
     "metadata": {},
     "output_type": "execute_result"
    }
   ],
   "source": [
    "sequence = generate_genome_sequence(10000,seed=0)\n",
    "reads = generate_reads(sequence,250,500,50,100,circularise=True,seed=0)\n",
    "reads"
   ]
  },
  {
   "cell_type": "code",
   "execution_count": 31,
   "metadata": {},
   "outputs": [
    {
     "data": {
      "text/plain": [
       "('GCTCTCTACTGCAAACCTCATGGTCCGGTTTGTACCACTTCGAATCATTCACTGTAATACTGGAACAGCTGATGCTTGCGAACGTATTGTAATCCAATCAGGTAGGGCAGACTAGGCGATAGAACTACGACCCTCTGCGGCCTGCGAAGGGAAAGACGCGTATTAATGCGCTGAAAGAGGGACCGATTGCGGTTATGCACTTACAGACCTAGTACTGGTTTACGCCCCGCCGACCTCCCCCGATCATCTTCTTACAAAACTTGTGTGACCCAAATCTCGACGGGGGCATCTGTGTCTGGGTTTGCCTCGCCTGGTGTACGTAACAGACCCGGAAACGCTTGGATAACAGGCTCGCCTCTCAATACATGGCAGCGGTTGGATCAGTTTCTCAACTGATGGAGAAAACATTTAGCATCACTAATCGTTATCCCCATGGGCTAAAAGCCCAGAGCGAAGCGTGTTAAGTTTTTACCTGCACCATAAGGGTTGTGCATGGACATAGTCAAAGAGCGGTTTACTGCATCTGTCATCTGGTCTTCGTGCCGCGTCGCGCCGCATTCCGCATCGTGCGTGAACCCTAGGTTGTAAAGCGTGTTGCAAAAGACAAAGATCCGGCCCCCCGTGCGCACTCCAGTCGAGCACCATCCTAGCCTGTCGCAGTGGGCGTACTAACTCTGCCAGTGTAGTTCCAGTTCTCTAATATCACCCATTACCCTACACCTTGTAGGCACTCCACCTTAGGTGGAATGACCTCATGCGCAGGAGCCGTTTACTAGCCTGCCTGCACCTTCAGTAGAATCAAATGGTCCACTCACCCCCAAGAGTGTAACTAGGGTTAGCCACCCTGAGTCGTCGATGCGGAGCTATTAGTTCCAGATGCTTGTCTGCACGGAATGGCGTCACGTTCGTTTGAATCAATTCTATAGCGGAGACAAGGTCCGTGCTTAAAAGCGAGAAGACACTCCTGCTATAAAGATCGTCTGCTATCGGGTTGGGCCCTGAGTGCAATCCTGCATTTTGACCATCATGCATATGACGTTGAAAGTTTCGTTATGTCTTTGTGGTCGATTTGACGCTAGCCTAACACCATTCGTTGACTCAATGGGTAGGTAAGCTGCTATAAAGAGGAAAACCTACACAAAACATTAATTCACGTCAACATGGTGCACTGGGGAAACGCCCATTCGGCACGGCATCGGCACGTAGTGAGCTATGCGAGAGTAGCCGGACTCATGAGAACGCTCCACTTGGGAATGCTCTACTTTCCTTTCGACAGCACGCTGTGTTTAGGGGGTATCTGTAATAGAATTGTTTCAGCGTACACTCTGTCTGTGCAGGTAGCCCAGCAATTAACTCGAGGCTGAGAAAGGGCATTTCATGTTTTCTCTCGACTGGGTGCCTCGCTCATGCAGCGGAATGGGGACGCCCTCAGAATATTTCCAACATAGAACGTCTGGCTGCCACGTAGTGTACGCTCCACTTAGCAGCCCGTGTGGACGCAGTCAATTTGGCGTCATCAAACAAGGCAACCGTGTCTACATATCCACGGGTGTTGGGTGTGTGACTGTTCCTCCCAGCCTATCTCAAAAACCCGGAATTCGCCTGACTACCCGGGCTGAATAACGTCGTAGATTGCTAGGCAGTACCGTATGTGATATACGGGCTTAGCTAGCCATTCTGCGCAACACTCATGGGGTAGTTCTATGCGGCCGCAGTCGGCTAACTTAACACGTACCATGCATAAACCTCGACGAGGCGATGAGGGAGCGAATATCTTGACTAAAACTTCCAAATTGCTAGTCGCATTACGTCCCACAGGGGCCTGATATCTCTTCTGACCTTCAACCGAGACCTGAGCACTGTACGCGAGTGGAGAGGCGCCCCTAGCGTAATAGCGAATGCCAGGCTGCCATCGTGGACTGCATTTGGTCGATATCAATCGATGAATTGCCCAACGGTCTCCGCAGCAGCAATTGGACATGGCGGATCAATGGGTAGGCGGGTCATGTAAGATCACAGCGCACTGGAATGTCCTACACAAGACCTGGGGTACCCCACAAATTTTAGCCGGTATCTGGAGGGTTAGGATGAAGACAAAGTAATCGGGCTTTGGAGAGACTTGGGCCTTGTAACAGGGGATGCGTAGGGGAGATCGGGTATCCGCAATTTAGAATGCCTATAGACAAGTGAGTGGGCACTATGACACAGCCTTTCTGCAGGGGCTAAACGCAACCACCCTTAGGGACAGGGAGGATCGGCCCCAGACGGTGTCTTGAGCGCGTAGGGGCTCCCTTCAGCATTAATGCTACTTTTTTAGCCGATCTCCGATGTGCGATCGCGAGTCACTCGCCTTGTCATTGGCGTGTCTCCTTATCGTAGGCCCGCCGCCAACGGGCAGGATGGGAAAGTTGCATTAGGCAACTGAGGTAACCGTCAAAGCTATCGAACGCCCTTCCAGTCAGGGCTCAAGTAAAGGAGACGAATTCGCCCCAATTCTCCAGCGATTCTGTCTCCTGTGTCCTACGGAGTCTCGGAGATAAAATGTGATATGAGAAGAAAACTGAACACCCTGTCATACCTTACCACTTTGCATCTCAGTTTTGCAGCGGCTGGTGGCAGGCACTCGCTTCGGTATTACAGGATTCACATTGTTAGTAAACCCGTCGTCAGCCCCAATGGATTCACATGAGATCGTATTTCCAACTGGCAGGACATATGGTCACCTCGAACAGGTGGGGCATAACCGTCGGGGAATATTAATCTCTAGTGGCATGCACTTCACGCGAGGTCACGCTGAATTACAGTCGTGCAGCATTGGCCATCCGCCTCAACTTTACGGACGTTAGATGCAAGTCGGAAATCTCTTTCCATATGCAGTCTTACGGGTATATGTGTAGCTTGTCTGAGCCGACATTGCATGGTAAACTAATTCAGACTAAAGCTCCCCAATTGCAAAACTGATGACAGGCCGCCCGAAGTTGCAGTACATAGGCAAAACGAAGGTAATCGGACAGGGGAATGGGACTGCCATGACCCAGTAGCTCTATCGGGATAGTTGCCGTTGCCATCCCAGTAAAGCCGTTGGGGTCTCTCTGGAACGGCAGGAATCATTACACCCGGAGGAGAGCTATCTTGAGAATTACAATATCTGTAACCCTCTCAATTTGTGACATTTGTCAAGTTCACGCCGCTAGTCAGTCTTAGTGGTGTGACTGCAGATTCTCTGAACGACGACCCTGGCCTACTAAGTGCCGGCCGTGGTTTCTCGTTTAGTGAGTGTAAGGTGTAGTTATGAGATTCAGCCATAAGGGATCATGTGCGCCCTCCGGCGCATCCCTCTGAAGCAAGATGGTTGCGAGTGACTTGGCCACAGACGTGATACTATTCAAGTGCTTCGTGAAGGTCGAATCTGCCACCTAAGGTGCATTATGAGTAGAGACGCGTCTGAGGTCTTGTTTCCTACATACACCAATCACTCATGCTAAACAAAAACGTCGGCGGCTCGCCCTTTACAGAATACCGACATTTTCGAGTTGAAATTCTAGCACGGATGCCCGAAAACGATGCCTTTCACAGCAGTGCCACCGGAACTGCAACCCCTCTTAGTCATCCTGCCGCTATTAGCGCAGTATGCCATACTGGGAGGAAATACAAGGAAACAGGTATTGACGGGCTCTAAGCGCATGCAACTCCGGTATCGGAGGGCGGGGTTAATCCCGGTTTCTGACTGAAAACTGAATGTTAGTGTCCATCCCAGATGTGCTTCTCCAGTTAGGCGACGGCATATGCGAACCGCGGCGCATGGTGAAACCACGCCTATGCGACCCCGTGTGCGCCTTCCTTGCGGTCTTTTCAGATATCAAGCAAGGAGTATTGCCCTTGTCAGTACGCGTGAGTAACCGGCCCGGCCACTGCTTTCTTGCATTGGAACCTCATCTCACCCAGGTGGGGAGTATGGTAAACGCAAAGTTGGTACGGTGAAAAGCAGGCGCCCTTCAGTGGGTGCATCGACCCTGATTCTACTTGCAAGTCCCTCCACAACAAACCCCGTTAGAGTAGAAAGGACAGGGCTTCCAATCTTCAAATCCGAAGCGGTATAGGTGTGAATCAACGCACCGTGTTTCCACGCGCATTGCCGACAGACAAAAACTGATACACCATGGCTGACACTCAAGCAGGTTCGTTGTCTATTCAGCAAATGCCGTAATTGGTGTCCAACAGGTTCTAGTTTGACGCTGCAGTGTATCGCAGATGTGTCGAAATATGCGGGGCGGAGGGGCTTCACGTCGCGAACGGATAGCTCCGAAGTTGTGCAACTGAGCTTCGGGGCGCAGTTGTAACCTCGGACAGTGGGCAGCATTATTAATTCGCTTAGTGTTTGGAAAACTTATACCTGCGCCTTCAGCTACGAAGGGCCTTAGTAGGTGGATCGTACAAAGTCGAAAGTGCTGGGTTGTTCCTGCACCGGGAGAACAGAGTTACGCCGCAAACAATAGCGTCCCTTCATTCTACCGCTGTTGCTTTCTAATAGGGTGAAAGCGCAACAGTGAAACCATCGACCTACTCTGCCAGTATCTTCTAACGACAACCTGCATCCCTTGGCGGTGCCCTCTGCCAGGAGCTCACCGTTCCCTCAATCACTCTATAGTAGTATCCGTGAACAATGCAGCGTTCCTATTATCACCGCATTTCAAAATAACTGGATGAGGAGAATGATGCCCCGTTCCGCACCAGTTGACCGCAAGCATGGATGGTGTGGCGTCAAGGCTGTCACGCTGGAGAGGGCCGACGCGGCTGTGGTTGCAGAGTCTAGCCAGGAGACGTACTCGAAGGGAATCTTGCTACCTAAGAGCTAACACCCGACGCCGACTCAGAGCCATGCTCGCTACTGTTGCATGAAAGTTTACAGTGGGCGCAGAGGTAGCTGGGCAACTAGCGTCTCTCTCTTGACCAGTTTTAGCCGCCTAGCTGCTATTGGTGTTACTTTCCCAGCCTCCTTCAGGAATGTAGTATTGTTGAAACCCGGCTCCAAGACGTTACGAGCTTTTGCCGGCTTGGTCTAGTCATCGAAGAACGGGAGACAAGAGCGCATGTTTTAATGAGATGTTAACTTGAACGCTGTGGAGCTATTGGCAGCACTGCATGTCTGCGGGTTATCACTGCCTTCACCGGCATCTTAGTGGTTATTGCATGTTTGGCGGTCCGATCGACGTACTCGAGAGGACATATGCCAGCCTCTAGGAATGGGATAACACACTTGAACGACCCTATCGGTTAATAGGAAGCACGAGCCGAAAAGTTTTGGACTAGCTGATTCGTTCGACACACTTCGAATAACATCCTCACCACACACTTATTGATCTCACTAGTATCTTGCTGATAGATGTTTGTCAGCCGGTTGGCACCTCTTATAAACACCTGCCGTGGCGCTCCACGGCGCAATGCAGTTTGTGGGGGAAGATGTTGCCATCACCGGTGCGACCGGCTATGCTTATATATCGACTTTACCCTAAAAAGAGACTACGGACTCCGAATGTAAACACTCACTACACTCTAGTTCCAGTTTCGGGACCCTAATGATAGTTAGGCCGGAATTAGGGTTTTTTGACTAGCTGAGAAACGCACACCGGTATCTAGCTGAAGCCTTTCCGTGTGTGGTAAAGTTCATAGTCGGAACTTTGGAAGAACGCCTTAGAACAATTTCGTACGGCCTGGATGAGGCTGAATACAGAGTAGATCGCCTATACATCCGCAGTTACATCCTTATAGCTCAAATCGAAGCATACACATGCCGATGGGACCTTCACCGTGTAATTGATAAAAGAATCTAAATCCCAAACCTGGGATTTTTGCACCTTCTGATGCATGCACGTGGCCCTATCGACGGGGTTCGACGGCAGAGGAAGCTGGAACAACACGAACCGCGTGCAGCGCTTGGACGCGGCCGCAATGACGCAGAAAGGGTTCATTGGTATTATAGTGCTCTCCCACCGGGTTAGGGTTAGTACACGCATACAGATTATAAGCGTCCGGCCCTCTCCGGACGATCTCTAGATGATGCACAATAGGACGGACGTCCAGGCCGTAGAACCTACTTTTGTTAGATCAAGATTTCGTAGCGGACACGGTGTCCGTGCAGCGCTATTTTTAACGACCCTCCTACAACGGGTCAAAGCAGAGCATTTTTCAAAATTTCAGATCTAAGTCGCACTCGACTTTATGAGCCTCGCAGTTACAGCTAATGTACCTCTCTGATCCTACTACTTGGAATTTCCGAAGCGACCTAGAATATAAACATATGTATGGTAGAGGCCGCACCTTAACCACTCTTCCAGCATGGGTTGGTAATACGGATGTCGGAGCTCTACGGATCGAGACCTGGAACGGTAGAGGCTATCTTTGTCTGATTCGGCACCTATGGGTAAAGGTCTCAAGATGGTCGTATGGGACTCCATCACGAGCCAGTAGAAGAATTTGGACGCATAAAACGTTATCTCGTCATATTAATAACTCAAATGGAGTTAACACTATTCACTAACCAAAAGCGAGCGCATACGTCCTGCACGGGCGTGGATGCGCATGTAAGCCTCTACGAGCCTTTTCAATGGTTTGTTTCAAGGAGGGTACAATCAGCGATTGAACGAAGCCCCGAACTAATCGTTGTCACTCAGAGTTCTCATAAGGGCCACAGACCTTGATATTAACTTGCTGCAATAGCCTCCATCCCTGAATATGGGACGAGACTAAAGATATTAGCTCAACCGTCCTTAGGTATGAACGCTCCTCCCGTGCGTCTCAGATTCTAATCCCTACTCTGTAATCACTCGAAGAGCAGTTGAATGCAATCGTTGGTTATGCCCCGTGTGGATGGCGACCAGTCCATGGGCTACAATACCTGGTGGCAGGCACGGTCCAACTTTATGTACCGTCGGTTGGATAGTTCCACTCGTCGGCCGCAGGTGTTGAACGAACGTTATAGATGCGTTTAGGATGGCCACGGACTTTGCTCAGCGGGATATCGCCCCACGGAATGGAATACATCCTTGTTTACGAATTGTGCGCTATACCATTGGTGGCAGACTGCTTACTCATGTAGTAGGACGCGTTTGATACCAACTACTCACGCTCAATCGAATTGTAACAACGGCACGCACGAAAAGGTTGCGACCCCGCCGACCCTGGCACCCTATATAAGTCAATCCTTGAGTGCGGTTCTGTTCCTCCCGAATTAGAGCCCAGAAACGTATCTACGCGCAGTAAAGAGTTTGGTCATCTGGGCTAAGTGCATCCCGGATTCACCTCTATCCATAACTGGTAAACGACTAGGGGGGTCTAGGTACCTTGGCACGGATCTACACAGTCAGAACCACCCGCCACGGTCGGCTTACGCGTGCATTAGCACGCCGAGCAAAACTCGAAGGTTCTAAAATGAGAACCCATACCTCCCCCCCACCTAGTGCCCGGGGCCCAATCTCAGGTCAGCCTATTGATGAGCCACCTTAATGGTTTCCTAAGCATATCTCACCATCCGGGTCGCTACCCGGATCGGTCCAATAGGAATTTCTGCTGGGAGCAGCTAACCTCCATCCTCATAAATCTACGTGCGTAAATGCAATTTGGCCACCGAGTTCACTAGTGCCATCCAGCTGCACGCCAGATTGCAGGAGTATACCCCGTCTTGGCGGGCAATTCCGACGCGCTCCTATAGAGAGAAGTTCAGTTAATACCTCAGACGGCAATCACTTAATGCAAGATTGCTGATATAAACGCAGACTCGGTTGAAAGGTCTTTGGAGGCGGTGTTCTGGCCTCTAATCCCTTTCTAAGGGCTGCATAAGAGTACATTATTCTATGTCGCTTCACGATTTTTTCTGGCCCATCTCCGTCCACCAAGGTCATCTTTCTACCTTTAGCTTCAGTTGCGTTAGAGCATAGACCCTGGACGACGCTGAGGGAGAGTTATTAACTCAACTTAGTCTACTGCTTATTAAGCGGTGCTTCATGATTCACTAGCAGAAGGATGGTAACGGTATAAGCTCTCGCAGATTACCGACCTGTGTGTAAATGGTAGCCTGTGGATTCGCGGTGGGTTGTAAAGCCCCATGTGGGTTGGATAAGCCTTCTGCCCCCTAAGTTGCCCAGGGGAAGAAACCCTAGCTACCTACGGTGTGGACCTCCTAATGTCATTTATCTTATCCAAAGAAACGCTCCCGGAGTAAATCGCGTTCTTTACGGACAGCGCCGGAATAAAACCAGCAAGACGCAAGTTAATGTCACCTCAATCACCGGCTGGCATATCAATATGTGGCAACGGCTGGCCCGCTGTGGGAAATTTAGTTGTGCCGCAGCGAAGTAGTGCTTGAAATATGCGACCCCTAAGTAGGAGCGTATGCGCCCAGTAACCAATGCCTGTTGAGATGCCAGACGCGTAACCAAAACATAGAAACCATCAATAGACAGGTCATAATCGGTCCACCGGATCATTGGTGCATAGAGCCTGGGCGTTAACGCCCTTTATTACTAGCTTAATGGTATCACATTGACAAACACGGCATTAAGTAGCGACGAAACGGGATTTGCCTGACCGGGGAGAAGCCGGTCGATCAGCAGTGGTAATTGGATATTAGGCCTAAACCATAATGTTCTAGCGCTCGAAATCATTGCACCACTTGCATCTTTGTTCCAGGGACGCTGTAAAACCAGATGCCTGTAAATCGTTTCAACGGGATGGTTTACCCGGAATTCTACGTATTTAATCAACGAGCTTAATGAGCTGACATTGCTGAAATGACCATGACTTAATAATCATTTATGGAGAAGAGGCACGACCACAAGGACCCTATGGCACGGTGGGCAAGCTCCCGCCCGGTACATAACTGTCTGGACTGATTATGTCGGTACAGACTTCTTCCTGCGTATCGATTACGAGCTTATCTGAAGAAGTTTAGGGCAAAGGGACCATGGCCATTGGTGCCAATTTCGGTTCTTGTATGCTACAGTTAAATAGAAAGGCCGCATTGTCGTTCTCGCCCTGTTTTCCTCATACACGACCGAGGTTATTTGTCGGAAACGAGACATCTCTCGAAGGTGGAACGACGCCGGGTGTGCAGAATTTATTTTAAACACTCTATTACCTCCGGGTAGCGTTGGCAAACTCCGATAATGAGCGCCAGGCGTGCCAGGACTCCACCTCCCCTGCTAAGTTGACCTTGAGCTCGGTACAGCGTCGGCGAGACGATAACAACGAAGTCCTTCGGCGTTATGTAATTCACCAGCCCACCATATCAGGTAATAGGCTCGCTGGTTAGGTAGATTATGTAAGAGGCGTGCAGCGCCGAACGGGGGTTTCACATCGATGCATGCCACATTGGGATGGGGCTCACTGTATCAGCCGTACCGCTATCTACCTATTGGTGGAGATAGCTTTTATGCGGATTCAAGGAACATAGAGTCGTCCTGACCCTAATCGAACGCGGGGTCTCACAGACTCTCGCTAAGAAATGTGTGACGACCAGCATAGTACGATATGGGTTCATGCTAGAAAGACTAGTTTAATGAAAGGATACGAATGCCCCCCGATTACCGGCCGCCTTGCTACATCCAAGAAAACCTATTGCCGCTACTGATTCTTCTCTTAGGGATCGAGTAACTATTTATTCCGTTCGAGGCGTACGCGGTAGTATGTCGCCAGCATTTAATCCCCCCACTGGGATGCGGCTGCTGTTGTTACCAACAGCTAAAAGTGATGGTCCACACTCTTGACTCTATATGCTATAGTTTGCCGCGCTAATTTAGTCAGCGACACCAATTATGGAACCTGGCATGGAAGTCGTCCGCTGGTCATGTCGGTGGTGATGATCGCCGTCATTTTCTGTCGAATGTCTAATAGCGCACGACAATACACATCATACCCTTTATCTAGAGGGTCAGAAGACCTCGCTAATATTCTGCTGTAGCTCGTTATATTCTCGTTCCTGGTCACGAACGAGCTTCTTCCTAGCGCTCTCTACTGCAAACCTCATGGTCCGGTTTGTACCACTTCGAATCATTC',\n",
       " 'TTAGTTGTGCCGCAGCGAAGTAGTGCTTGAAATATGCGACCCCTAAGTAGGAGCGTATGCGCCCAGTAACCAATGCCTGTTGAGATGCCAGACGCGTAACCAAAACATAGAAACCATCAATAGACAGGTCATAATCGGTCCACCGGATCATTGGTGCATAGAGCCTGGGCGTTAACGCCCTTTATTACTAGCTTAATGGTATCACATTGACAAACACGGCATTAAGTAGCGACGAAACGGGATTTGCCTGACCGGGGAGAAGCCGGTCGATCAGCAGTGGTAATTGGATATTAGGCCTAAACCATAATGTTCTAGCGCTCGAAATCATTGCACCACTTGCATCTTTGTTCCAGGGACGCTGTAAAACCAGATGCCTGTAAATCGTTTCAACGGGATGGTTTACCCGGAATTCTACGTATTTAATCAACGAGCTTAATGAGCTGACATTGCTGAAATGACCATGACTTAATAATCATTTATGGAGAAGAGGCACGACCACAAGGACCCTATGGCACGGTGGGCAAGCTCCCGCCCGGTACATAACTGTCTGGACTGATTATGTCGGTACAGACTTCTTCCTGCGTATCGATTACGAGCTTATCTGAAGAAGTTTAGGGCAAAGGGACCATGGCCATTGGTGCCAATTTCGGTTCTTGTATGCTACAGTTAAATAGAAAGGCCGCATTGTCGTTCTCGCCCTGTTTTCCTCATACACGACCGAGGTTATTTGTCGGAAACGAGACATCTCTCGAAGGTGGAACGACGCCGGGTGTGCAGAATTTATTTTAAACACTCTATTACCTCCGGGTAGCGTTGGCAAACTCCGATAATGAGCGCCAGGCGTGCCAGGACTCCACCTCCCCTGCTAAGTTGACCTTGAGCTCGGTACAGCGTCGGCGAGACGATAACAACGAAGTCCTTCGGCGTTATGTAATTCACCAGCCCACCATATCAGGTAATAGGCTCGCTGGTTAGGTAGATTATGTAAGAGGCGTGCAGCGCCGAACGGGGGTTTCACATCGATGCATGCCACATTGGGATGGGGCTCACTGTATCAGCCGTACCGCTATCTACCTATTGGTGGAGATAGCTTTTATGCGGATTCAAGGAACATAGAGTCGTCCTGACCCTAATCGAACGCGGGGTCTCACAGACTCTCGCTAAGAAATGTGTGACGACCAGCATAGTACGATATGGGTTCATGCTAGAAAGACTAGTTTAATGAAAGGATACGAATGCCCCCCGATTACCGGCCGCCTTGCTACATCCAAGAAAACCTATTGCCGCTACTGATTCTTCTCTTAGGGATCGAGTAACTATTTATTCCGTTCGAGGCGTACGCGGTAGTATGTCGCCAGCATTTAATCCCCCCACTGGGATGCGGCTGCTGTTGTTACCAACAGCTAAAAGTGATGGTCCACACTCTTGACTCTATATGCTATAGTTTGCCGCGCTAATTTAGTCAGCGACACCAATTATGGAACCTGGCATGGAAGTCGTCCGCTGGTCATGTCGGTGGTGATGATCGCCGTCATTTTCTGTCGAATGTCTAATAGCGCACGACAATACACATCATACCCTTTATCTAGAGGGTCAGAAGACCTCGCTAATATTCTGCTGTAGCTCGTTATATTCTCGTTCCTGGTCACGAACGAGCTTCTTCCTAGCGCTCTCTACTGCAAACCTCATGGTCCGGTTTGTACCACTTCGAATCATTCACTGTAATACTGGAACAGCTGATGCTTGCGAACGTATTGTAATCCAATCAGGTAGGGCAGACTAGGCGATAGAACTACGACCCTCTGCGGCCTGCGAAGGGAAAGACGCGTATTAATGCGCTGAAAGAGGGACCGATTGCGGTTATGCACTTACAGACCTAGTACTGGTTTACGCCCCGCCGACCTCCCCCGATCATCTTCTTACAAAACTTGTGTGACCCAAATCTCGACGGGGGCATCTGTGTCTGGGTTTGCCTCGCCTGGTGTACGTAACAGACCCGGAAACGCTTGGATAACAGGCTCGCCTCTCAATACATGGCAGCGGTTGGATCAGTTTCTCAACTGATGGAGAAAACATTTAGCATCACTAATCGTTATCCCCATGGGCTAAAAGCCCAGAGCGAAGCGTGTTAAGTTTTTACCTGCACCATAAGGGTTGTGCATGGACATAGTCAAAGAGCGGTTTACTGCATCTGTCATCTGGTCTTCGTGCCGCGTCGCGCCGCATTCCGCATCGTGCGTGAACCCTAGGTTGTAAAGCGTGTTGCAAAAGACAAAGATCCGGCCCCCCGTGCGCACTCCAGTCGAGCACCATCCTAGCCTGTCGCAGTGGGCGTACTAACTCTGCCAGTGTAGTTCCAGTTCTCTAATATCACCCATTACCCTACACCTTGTAGGCACTCCACCTTAGGTGGAATGACCTCATGCGCAGGAGCCGTTTACTAGCCTGCCTGCACCTTCAGTAGAATCAAATGGTCCACTCACCCCCAAGAGTGTAACTAGGGTTAGCCACCCTGAGTCGTCGATGCGGAGCTATTAGTTCCAGATGCTTGTCTGCACGGAATGGCGTCACGTTCGTTTGAATCAATTCTATAGCGGAGACAAGGTCCGTGCTTAAAAGCGAGAAGACACTCCTGCTATAAAGATCGTCTGCTATCGGGTTGGGCCCTGAGTGCAATCCTGCATTTTGACCATCATGCATATGACGTTGAAAGTTTCGTTATGTCTTTGTGGTCGATTTGACGCTAGCCTAACACCATTCGTTGACTCAATGGGTAGGTAAGCTGCTATAAAGAGGAAAACCTACACAAAACATTAATTCACGTCAACATGGTGCACTGGGGAAACGCCCATTCGGCACGGCATCGGCACGTAGTGAGCTATGCGAGAGTAGCCGGACTCATGAGAACGCTCCACTTGGGAATGCTCTACTTTCCTTTCGACAGCACGCTGTGTTTAGGGGGTATCTGTAATAGAATTGTTTCAGCGTACACTCTGTCTGTGCAGGTAGCCCAGCAATTAACTCGAGGCTGAGAAAGGGCATTTCATGTTTTCTCTCGACTGGGTGCCTCGCTCATGCAGCGGAATGGGGACGCCCTCAGAATATTTCCAACATAGAACGTCTGGCTGCCACGTAGTGTACGCTCCACTTAGCAGCCCGTGTGGACGCAGTCAATTTGGCGTCATCAAACAAGGCAACCGTGTCTACATATCCACGGGTGTTGGGTGTGTGACTGTTCCTCCCAGCCTATCTCAAAAACCCGGAATTCGCCTGACTACCCGGGCTGAATAACGTCGTAGATTGCTAGGCAGTACCGTATGTGATATACGGGCTTAGCTAGCCATTCTGCGCAACACTCATGGGGTAGTTCTATGCGGCCGCAGTCGGCTAACTTAACACGTACCATGCATAAACCTCGACGAGGCGATGAGGGAGCGAATATCTTGACTAAAACTTCCAAATTGCTAGTCGCATTACGTCCCACAGGGGCCTGATATCTCTTCTGACCTTCAACCGAGACCTGAGCACTGTACGCGAGTGGAGAGGCGCCCCTAGCGTAATAGCGAATGCCAGGCTGCCATCGTGGACTGCATTTGGTCGATATCAATCGATGAATTGCCCAACGGTCTCCGCAGCAGCAATTGGACATGGCGGATCAATGGGTAGGCGGGTCATGTAAGATCACAGCGCACTGGAATGTCCTACACAAGACCTGGGGTACCCCACAAATTTTAGCCGGTATCTGGAGGGTTAGGATGAAGACAAAGTAATCGGGCTTTGGAGAGACTTGGGCCTTGTAACAGGGGATGCGTAGGGGAGATCGGGTATCCGCAATTTAGAATGCCTATAGACAAGTGAGTGGGCACTATGACACAGCCTTTCTGCAGGGGCTAAACGCAACCACCCTTAGGGACAGGGAGGATCGGCCCCAGACGGTGTCTTGAGCGCGTAGGGGCTCCCTTCAGCATTAATGCTACTTTTTTAGCCGATCTCCGATGTGCGATCGCGAGTCACTCGCCTTGTCATTGGCGTGTCTCCTTATCGTAGGCCCGCCGCCAACGGGCAGGATGGGAAAGTTGCATTAGGCAACTGAGGTAACCGTCAAAGCTATCGAACGCCCTTCCAGTCAGGGCTCAAGTAAAGGAGACGAATTCGCCCCAATTCTCCAGCGATTCTGTCTCCTGTGTCCTACGGAGTCTCGGAGATAAAATGTGATATGAGAAGAAAACTGAACACCCTGTCATACCTTACCACTTTGCATCTCAGTTTTGCAGCGGCTGGTGGCAGGCACTCGCTTCGGTATTACAGGATTCACATTGTTAGTAAACCCGTCGTCAGCCCCAATGGATTCACATGAGATCGTATTTCCAACTGGCAGGACATATGGTCACCTCGAACAGGTGGGGCATAACCGTCGGGGAATATTAATCTCTAGTGGCATGCACTTCACGCGAGGTCACGCTGAATTACAGTCGTGCAGCATTGGCCATCCGCCTCAACTTTACGGACGTTAGATGCAAGTCGGAAATCTCTTTCCATATGCAGTCTTACGGGTATATGTGTAGCTTGTCTGAGCCGACATTGCATGGTAAACTAATTCAGACTAAAGCTCCCCAATTGCAAAACTGATGACAGGCCGCCCGAAGTTGCAGTACATAGGCAAAACGAAGGTAATCGGACAGGGGAATGGGACTGCCATGACCCAGTAGCTCTATCGGGATAGTTGCCGTTGCCATCCCAGTAAAGCCGTTGGGGTCTCTCTGGAACGGCAGGAATCATTACACCCGGAGGAGAGCTATCTTGAGAATTACAATATCTGTAACCCTCTCAATTTGTGACATTTGTCAAGTTCACGCCGCTAGTCAGTCTTAGTGGTGTGACTGCAGATTCTCTGAACGACGACCCTGGCCTACTAAGTGCCGGCCGTGGTTTCTCGTTTAGTGAGTGTAAGGTGTAGTTATGAGATTCAGCCATAAGGGATCATGTGCGCCCTCCGGCGCATCCCTCTGAAGCAAGATGGTTGCGAGTGACTTGGCCACAGACGTGATACTATTCAAGTGCTTCGTGAAGGTCGAATCTGCCACCTAAGGTGCATTATGAGTAGAGACGCGTCTGAGGTCTTGTTTCCTACATACACCAATCACTCATGCTAAACAAAAACGTCGGCGGCTCGCCCTTTACAGAATACCGACATTTTCGAGTTGAAATTCTAGCACGGATGCCCGAAAACGATGCCTTTCACAGCAGTGCCACCGGAACTGCAACCCCTCTTAGTCATCCTGCCGCTATTAGCGCAGTATGCCATACTGGGAGGAAATACAAGGAAACAGGTATTGACGGGCTCTAAGCGCATGCAACTCCGGTATCGGAGGGCGGGGTTAATCCCGGTTTCTGACTGAAAACTGAATGTTAGTGTCCATCCCAGATGTGCTTCTCCAGTTAGGCGACGGCATATGCGAACCGCGGCGCATGGTGAAACCACGCCTATGCGACCCCGTGTGCGCCTTCCTTGCGGTCTTTTCAGATATCAAGCAAGGAGTATTGCCCTTGTCAGTACGCGTGAGTAACCGGCCCGGCCACTGCTTTCTTGCATTGGAACCTCATCTCACCCAGGTGGGGAGTATGGTAAACGCAAAGTTGGTACGGTGAAAAGCAGGCGCCCTTCAGTGGGTGCATCGACCCTGATTCTACTTGCAAGTCCCTCCACAACAAACCCCGTTAGAGTAGAAAGGACAGGGCTTCCAATCTTCAAATCCGAAGCGGTATAGGTGTGAATCAACGCACCGTGTTTCCACGCGCATTGCCGACAGACAAAAACTGATACACCATGGCTGACACTCAAGCAGGTTCGTTGTCTATTCAGCAAATGCCGTAATTGGTGTCCAACAGGTTCTAGTTTGACGCTGCAGTGTATCGCAGATGTGTCGAAATATGCGGGGCGGAGGGGCTTCACGTCGCGAACGGATAGCTCCGAAGTTGTGCAACTGAGCTTCGGGGCGCAGTTGTAACCTCGGACAGTGGGCAGCATTATTAATTCGCTTAGTGTTTGGAAAACTTATACCTGCGCCTTCAGCTACGAAGGGCCTTAGTAGGTGGATCGTACAAAGTCGAAAGTGCTGGGTTGTTCCTGCACCGGGAGAACAGAGTTACGCCGCAAACAATAGCGTCCCTTCATTCTACCGCTGTTGCTTTCTAATAGGGTGAAAGCGCAACAGTGAAACCATCGACCTACTCTGCCAGTATCTTCTAACGACAACCTGCATCCCTTGGCGGTGCCCTCTGCCAGGAGCTCACCGTTCCCTCAATCACTCTATAGTAGTATCCGTGAACAATGCAGCGTTCCTATTATCACCGCATTTCAAAATAACTGGATGAGGAGAATGATGCCCCGTTCCGCACCAGTTGACCGCAAGCATGGATGGTGTGGCGTCAAGGCTGTCACGCTGGAGAGGGCCGACGCGGCTGTGGTTGCAGAGTCTAGCCAGGAGACGTACTCGAAGGGAATCTTGCTACCTAAGAGCTAACACCCGACGCCGACTCAGAGCCATGCTCGCTACTGTTGCATGAAAGTTTACAGTGGGCGCAGAGGTAGCTGGGCAACTAGCGTCTCTCTCTTGACCAGTTTTAGCCGCCTAGCTGCTATTGGTGTTACTTTCCCAGCCTCCTTCAGGAATGTAGTATTGTTGAAACCCGGCTCCAAGACGTTACGAGCTTTTGCCGGCTTGGTCTAGTCATCGAAGAACGGGAGACAAGAGCGCATGTTTTAATGAGATGTTAACTTGAACGCTGTGGAGCTATTGGCAGCACTGCATGTCTGCGGGTTATCACTGCCTTCACCGGCATCTTAGTGGTTATTGCATGTTTGGCGGTCCGATCGACGTACTCGAGAGGACATATGCCAGCCTCTAGGAATGGGATAACACACTTGAACGACCCTATCGGTTAATAGGAAGCACGAGCCGAAAAGTTTTGGACTAGCTGATTCGTTCGACACACTTCGAATAACATCCTCACCACACACTTATTGATCTCACTAGTATCTTGCTGATAGATGTTTGTCAGCCGGTTGGCACCTCTTATAAACACCTGCCGTGGCGCTCCACGGCGCAATGCAGTTTGTGGGGGAAGATGTTGCCATCACCGGTGCGACCGGCTATGCTTATATATCGACTTTACCCTAAAAAGAGACTACGGACTCCGAATGTAAACACTCACTACACTCTAGTTCCAGTTTCGGGACCCTAATGATAGTTAGGCCGGAATTAGGGTTTTTTGACTAGCTGAGAAACGCACACCGGTATCTAGCTGAAGCCTTTCCGTGTGTGGTAAAGTTCATAGTCGGAACTTTGGAAGAACGCCTTAGAACAATTTCGTACGGCCTGGATGAGGCTGAATACAGAGTAGATCGCCTATACATCCGCAGTTACATCCTTATAGCTCAAATCGAAGCATACACATGCCGATGGGACCTTCACCGTGTAATTGATAAAAGAATCTAAATCCCAAACCTGGGATTTTTGCACCTTCTGATGCATGCACGTGGCCCTATCGACGGGGTTCGACGGCAGAGGAAGCTGGAACAACACGAACCGCGTGCAGCGCTTGGACGCGGCCGCAATGACGCAGAAAGGGTTCATTGGTATTATAGTGCTCTCCCACCGGGTTAGGGTTAGTACACGCATACAGATTATAAGCGTCCGGCCCTCTCCGGACGATCTCTAGATGATGCACAATAGGACGGACGTCCAGGCCGTAGAACCTACTTTTGTTAGATCAAGATTTCGTAGCGGACACGGTGTCCGTGCAGCGCTATTTTTAACGACCCTCCTACAACGGGTCAAAGCAGAGCATTTTTCAAAATTTCAGATCTAAGTCGCACTCGACTTTATGAGCCTCGCAGTTACAGCTAATGTACCTCTCTGATCCTACTACTTGGAATTTCCGAAGCGACCTAGAATATAAACATATGTATGGTAGAGGCCGCACCTTAACCACTCTTCCAGCATGGGTTGGTAATACGGATGTCGGAGCTCTACGGATCGAGACCTGGAACGGTAGAGGCTATCTTTGTCTGATTCGGCACCTATGGGTAAAGGTCTCAAGATGGTCGTATGGGACTCCATCACGAGCCAGTAGAAGAATTTGGACGCATAAAACGTTATCTCGTCATATTAATAACTCAAATGGAGTTAACACTATTCACTAACCAAAAGCGAGCGCATACGTCCTGCACGGGCGTGGATGCGCATGTAAGCCTCTACGAGCCTTTTCAATGGTTTGTTTCAAGGAGGGTACAATCAGCGATTGAACGAAGCCCCGAACTAATCGTTGTCACTCAGAGTTCTCATAAGGGCCACAGACCTTGATATTAACTTGCTGCAATAGCCTCCATCCCTGAATATGGGACGAGACTAAAGATATTAGCTCAACCGTCCTTAGGTATGAACGCTCCTCCCGTGCGTCTCAGATTCTAATCCCTACTCTGTAATCACTCGAAGAGCAGTTGAATGCAATCGTTGGTTATGCCCCGTGTGGATGGCGACCAGTCCATGGGCTACAATACCTGGTGGCAGGCACGGTCCAACTTTATGTACCGTCGGTTGGATAGTTCCACTCGTCGGCCGCAGGTGTTGAACGAACGTTATAGATGCGTTTAGGATGGCCACGGACTTTGCTCAGCGGGATATCGCCCCACGGAATGGAATACATCCTTGTTTACGAATTGTGCGCTATACCATTGGTGGCAGACTGCTTACTCATGTAGTAGGACGCGTTTGATACCAACTACTCACGCTCAATCGAATTGTAACAACGGCACGCACGAAAAGGTTGCGACCCCGCCGACCCTGGCACCCTATATAAGTCAATCCTTGAGTGCGGTTCTGTTCCTCCCGAATTAGAGCCCAGAAACGTATCTACGCGCAGTAAAGAGTTTGGTCATCTGGGCTAAGTGCATCCCGGATTCACCTCTATCCATAACTGGTAAACGACTAGGGGGGTCTAGGTACCTTGGCACGGATCTACACAGTCAGAACCACCCGCCACGGTCGGCTTACGCGTGCATTAGCACGCCGAGCAAAACTCGAAGGTTCTAAAATGAGAACCCATACCTCCCCCCCACCTAGTGCCCGGGGCCCAATCTCAGGTCAGCCTATTGATGAGCCACCTTAATGGTTTCCTAAGCATATCTCACCATCCGGGTCGCTACCCGGATCGGTCCAATAGGAATTTCTGCTGGGAGCAGCTAACCTCCATCCTCATAAATCTACGTGCGTAAATGCAATTTGGCCACCGAGTTCACTAGTGCCATCCAGCTGCACGCCAGATTGCAGGAGTATACCCCGTCTTGGCGGGCAATTCCGACGCGCTCCTATAGAGAGAAGTTCAGTTAATACCTCAGACGGCAATCACTTAATGCAAGATTGCTGATATAAACGCAGACTCGGTTGAAAGGTCTTTGGAGGCGGTGTTCTGGCCTCTAATCCCTTTCTAAGGGCTGCATAAGAGTACATTATTCTATGTCGCTTCACGATTTTTTCTGGCCCATCTCCGTCCACCAAGGTCATCTTTCTACCTTTAGCTTCAGTTGCGTTAGAGCATAGACCCTGGACGACGCTGAGGGAGAGTTATTAACTCAACTTAGTCTACTGCTTATTAAGCGGTGCTTCATGATTCACTAGCAGAAGGATGGTAACGGTATAAGCTCTCGCAGATTACCGACCTGTGTGTAAATGGTAGCCTGTGGATTCGCGGTGGGTTGTAAAGCCCCATGTGGGTTGGATAAGCCTTCTGCCCCCTAAGTTGCCCAGGGGAAGAAACCCTAGCTACCTACGGTGTGGACCTCCTAATGTCATTTATCTTATCCAAAGAAACGCTCCCGGAGTAAATCGCGTTCTTTACGGACAGCGCCGGAATAAAACCAGCAAGACGCAAGTTAATGTCACCTCAATCACCGGCTGGCATATCAATATGTGGCAACGGCTGGCCCGCTGTGGGAAAT')"
      ]
     },
     "execution_count": 31,
     "metadata": {},
     "output_type": "execute_result"
    }
   ],
   "source": [
    "sequitur = Sequitur(reads,assemble=True)\n",
    "sequitur.sequence,sequence"
   ]
  },
  {
   "cell_type": "code",
   "execution_count": 32,
   "metadata": {},
   "outputs": [
    {
     "data": {
      "text/plain": [
       "(True, True)"
      ]
     },
     "execution_count": 32,
     "metadata": {},
     "output_type": "execute_result"
    }
   ],
   "source": [
    "sequitur.sequence[sequitur.sequence.find('TTAGTTGTGCCGCAGCGAAGTA'):] in sequence,\\\n",
    "sequitur.sequence[:sequitur.sequence.find('TTAGTTGTGCCGCAGCGAAGTA')] in sequence"
   ]
  },
  {
   "cell_type": "code",
   "execution_count": 33,
   "metadata": {},
   "outputs": [
    {
     "data": {
      "text/plain": [
       "['TTAGTTGTGCCGCAGCGAAGTAGTGCTTGAAATATGCGACCCCTAAGTAGGAGCGTATGCGCCCAGTAACCAATGCCTGTTGAGATGCCAGACGCGTAACCAAAACATAGAAACCATCAATAGACAGGTCATAATCGGTCCACCGGATCATTGGTGCATAGAGCCTGGGCGTTAACGCCCTTTATTACTAGCTTAATGGTATCACATTGACAAACACGGCATTAAGTAGCGACGAAACGGGATTTGCCTGACCGGGGAGAAGCCGGTCGATCAGCAGTGGTAATTGGATATTAGGCCTAAACCATAATGTTCTAGCGCTCGAAATCATTGCACCACTTGCATCTTTGTTCCAGGGACGCTGTAAAACCAGATGCCTGTAAATCGTTTCAACGGGATGGTTTACCCGGAATTCTACGTATTTAATCAACGAGCTTAATGAGCTGACATTGCTGAAATGACCATGACT',\n",
       " 'CGGGATGGTTTACCCGGAATTCTACGTATTTAATCAACGAGCTTAATGAGCTGACATTGCTGAAATGACCATGACTTAATAATCATTTATGGAGAAGAGGCACGACCACAAGGACCCTATGGCACGGTGGGCAAGCTCCCGCCCGGTACATAACTGTCTGGACTGATTATGTCGGTACAGACTTCTTCCTGCGTATCGATTACGAGCTTATCTGAAGAAGTTTAGGGCAAAGGGACCATGGCCATTGGTGCCAATTTCGGTTCTTGTATGCTACAGTTAAATAGAAAGGCCGCATTGTCGTTCTCGCCCTGTTTTCCTCATACACGACCGAGGTTATTTGTCGGAAACGAGACATCTCTCGAAGGTGGAACGACGCCGGGTGTGCAGAATTTATTTTAAACACTCTATTACCTCCGGGTAGCGTTGGCAAACTCCGATAATGAG',\n",
       " 'CGACGCCGGGTGTGCAGAATTTATTTTAAACACTCTATTACCTCCGGGTAGCGTTGGCAAACTCCGATAATGAGCGCCAGGCGTGCCAGGACTCCACCTCCCCTGCTAAGTTGACCTTGAGCTCGGTACAGCGTCGGCGAGACGATAACAACGAAGTCCTTCGGCGTTATGTAATTCACCAGCCCACCATATCAGGTAATAGGCTCGCTGGTTAGGTAGATTATGTAAGAGGCGTGCAGCGCCGAACGGGGGTTTCACAT',\n",
       " 'CACCAGCCCACCATATCAGGTAATAGGCTCGCTGGTTAGGTAGATTATGTAAGAGGCGTGCAGCGCCGAACGGGGGTTTCACATCGATGCATGCCACATTGGGATGGGGCTCACTGTATCAGCCGTACCGCTATCTACCTATTGGTGGAGATAGCTTTTATGCGGATTCAAGGAACATAGAGTCGTCCTGACCCTAATCGAACGCGGGGTCTCACAGACTCTCGCTAAGAAATGTGTGACGACCAGCATAGTACGATATGGGTTCATGCTAGAAAGACTAGTTTAATGAAAGGATACGAATGCCCCCCGATTACCGGCCGCCTTGCTACATCCAAGAAAACCTATTGCCGCTACTGATTCTTCTCTTAGGGATCGAGTAACTATTTATTCCGTTCGAGGCGTACGCGGTAGTATGTCGCCAGCATTTAATCCCCCCACTGGGATGCGGCTGCTGTTGTTACCAACAGCTAAAAGTGATGGTCCACACTCTTGACTCT',\n",
       " 'TCCCCCCACTGGGATGCGGCTGCTGTTGTTACCAACAGCTAAAAGTGATGGTCCACACTCTTGACTCTATATGCTATAGTTTGCCGCGCTAATTTAGTCAGCGACACCAATTATGGAACCTGGCATGGAAGTCGTCCGCTGGTCATGTCGGTGGTGATGATCGCCGTCATTTTCTGTCGAATGTCTAATAGCGCACGACAATACACATCATACCCTTTATCTAGAGGGTCAGAAGACCTCGCTAATATTCTGCTGTAGCTCGTTATATTCTCGTTCCTGGTCACGAACGAGCTTCTTCCTAGCGCTCTCTACTGCAAACCTCATGGTCCGGTTTGTACCACTTCGAATCATTCACTGTAATACTGGAACAGCTG',\n",
       " 'TAGCGCTCTCTACTGCAAACCTCATGGTCCGGTTTGTACCACTTCGAATCATTCACTGTAATACTGGAACAGCTGATGCTTGCGAACGTATTGTAATCCAATCAGGTAGGGCAGACTAGGCGATAGAACTACGACCCTCTGCGGCCTGCGAAGGGAAAGACGCGTATTAATGCGCTGAAAGAGGGACCGATTGCGGTTATGCACTTACAGACCTAGTACTGGTTTACGCCCCGCCGACCTCCCCCGATCATCTTCTTACAAAACTTGTGTGACCCAAATCTCGACGGGGGCATCTGTGTCTGGGTTTGCCTCGCCTGGTGTACGTAACAGACCCGGAAACGCTTGGATAACAGGCTCGCCTCTCAATACATGGCAGCGGTTGGATCAGTTTCTCAACTGATGGAGAAAACATTTAGCATCACTAATCGTTATCCCCATGGGCTAAAAGCCCAGAGCGAAGCGTGTTAAGTTTTTACCTGCACCAT',\n",
       " 'CATGGGCTAAAAGCCCAGAGCGAAGCGTGTTAAGTTTTTACCTGCACCATAAGGGTTGTGCATGGACATAGTCAAAGAGCGGTTTACTGCATCTGTCATCTGGTCTTCGTGCCGCGTCGCGCCGCATTCCGCATCGTGCGTGAACCCTAGGTTGTAAAGCGTGTTGCAAAAGACAAAGATCCGGCCCCCCGTGCGCACTCCAGTCGAGCACCATCCTAGCCTGTCGCAGTGGGCGTACTAACTCTGCCAGTGTAGTTCCAGTTCTCTAATATCACCCATTACCCTACACCTTGTAGGCACTCCACCTTAGGTGGAATGACCTCATGCGCAGGAGCCGTTTACTAGCCTGCCTGCACCTTCAGTAGAATCAAATGGTCCACTCACCCCCAAGAGTGTAACTAGGGTTAGCCACCCTGAGTCGTCGATGCGGAGCTATTAGTTCCAGATGCTTGTCTGCACGGA',\n",
       " 'CACCCCCAAGAGTGTAACTAGGGTTAGCCACCCTGAGTCGTCGATGCGGAGCTATTAGTTCCAGATGCTTGTCTGCACGGAATGGCGTCACGTTCGTTTGAATCAATTCTATAGCGGAGACAAGGTCCGTGCTTAAAAGCGAGAAGACACTCCTGCTATAAAGATCGTCTGCTATCGGGTTGGGCCCTGAGTGCAATCCTGCATTTTGACCATCATGCATATGACGTTGAAAGTTTCGTTATGTCTTTGTGGTCGATTTGACGCTAGCCTAACACCATTCGTTGACTCAATGGGTAGGTAAGCTGCTATAAAGAGGAAAACCTACACAAAACATTAATTCACGTCAACATGGTGCACTGGGGAAACGCCCATTCGGCACGGCATCGGCACGTAGTGAGCTATGCGAGAGTAGCCGGACTCATGAGAACGCTCCACTTGGGAATGCTCTACTTTCCTTTCGACAGCACGCTGTGTTTAGGGGGTATCTGTAATAGAAT',\n",
       " 'CGCTCCACTTGGGAATGCTCTACTTTCCTTTCGACAGCACGCTGTGTTTAGGGGGTATCTGTAATAGAATTGTTTCAGCGTACACTCTGTCTGTGCAGGTAGCCCAGCAATTAACTCGAGGCTGAGAAAGGGCATTTCATGTTTTCTCTCGACTGGGTGCCTCGCTCATGCAGCGGAATGGGGACGCCCTCAGAATATTTCCAACATAGAACGTCTGGCTGCCACGTAGTGTACGCTCCACTTAGCAGCCCGTGTGGACGCAGTCAATTTGGCGTCATCAAACAAGGCAACCGTGTCTACATATCCACGGGTGTTGGGTGTGTGACTGTTCCTCCCAGCCT',\n",
       " 'CAAACAAGGCAACCGTGTCTACATATCCACGGGTGTTGGGTGTGTGACTGTTCCTCCCAGCCTATCTCAAAAACCCGGAATTCGCCTGACTACCCGGGCTGAATAACGTCGTAGATTGCTAGGCAGTACCGTATGTGATATACGGGCTTAGCTAGCCATTCTGCGCAACACTCATGGGGTAGTTCTATGCGGCCGCAGTCGGCTAACTTAACACGTACCATGCATAAACCTCGACGAGGCGATGAGGGAGCGAATATCTTGACTAAAACTTCCAAATTGCTAGTCGCATTACGTCCCACAGGGGCCTGATATCTCTTCTGACCTTCAACCGAGACCTGAGCACTGTACGCGAGTGGAGAGGCGCCCCTAGCGTAATAGCGAATGCCAGGCTGCCATCGTGGACTGCATTTGGTCGATATCAATCGATGAATTGCCCAACGGTCTCCGCAGCAGCAATTGGACATGGCGGATCAATGGG',\n",
       " 'GCCATCGTGGACTGCATTTGGTCGATATCAATCGATGAATTGCCCAACGGTCTCCGCAGCAGCAATTGGACATGGCGGATCAATGGGTAGGCGGGTCATGTAAGATCACAGCGCACTGGAATGTCCTACACAAGACCTGGGGTACCCCACAAATTTTAGCCGGTATCTGGAGGGTTAGGATGAAGACAAAGTAATCGGGCTTTGGAGAGACTTGGGCCTTGTAACAGGGGATGCGTAGGGGAGATCGGGTATCCGCAATTTAGAATGCCTATAGACAAGTGAGTGGGCACTATGACACAGCCTTTCTGCAGGGGCTAAACGCAACCACCCTTAGGGACAGGGAGGATCGGCCCCAGACGGTGTCTTGAGCGCGTAGGGG',\n",
       " 'CACTATGACACAGCCTTTCTGCAGGGGCTAAACGCAACCACCCTTAGGGACAGGGAGGATCGGCCCCAGACGGTGTCTTGAGCGCGTAGGGGCTCCCTTCAGCATTAATGCTACTTTTTTAGCCGATCTCCGATGTGCGATCGCGAGTCACTCGCCTTGTCATTGGCGTGTCTCCTTATCGTAGGCCCGCCGCCAACGGGCAGGATGGGAAAGTTGCATTAGGCAACTGAGGTAACCGTCAAAGCTATCGAACGCCCTTCCAGTCAGGGCTCAAGTAAAGGAGACGAATTCGCCCCAATTCTCCAGCGATTCTGTCTCCTGT',\n",
       " 'GGTAACCGTCAAAGCTATCGAACGCCCTTCCAGTCAGGGCTCAAGTAAAGGAGACGAATTCGCCCCAATTCTCCAGCGATTCTGTCTCCTGTGTCCTACGGAGTCTCGGAGATAAAATGTGATATGAGAAGAAAACTGAACACCCTGTCATACCTTACCACTTTGCATCTCAGTTTTGCAGCGGCTGGTGGCAGGCACTCGCTTCGGTATTACAGGATTCACATTGTTAGTAAACCCGTCGTCAGCCCCAATGGATTCACATGAGATCGTATTTCCAACTGGCAGGACATATGGTCACCTCGAACAGGTGGGGCATAACCGTCGGGGAATATTAATCTCTAGTGGCATGCACTTCACGCGAGGTCACGCTGAATTACAGTCGTGCAGCATTGGCCATCCGCCTCAACTTTACGGACGTTAGATGCAAGTCGGAAATCTCTTTC',\n",
       " 'CACTTCACGCGAGGTCACGCTGAATTACAGTCGTGCAGCATTGGCCATCCGCCTCAACTTTACGGACGTTAGATGCAAGTCGGAAATCTCTTTCCATATGCAGTCTTACGGGTATATGTGTAGCTTGTCTGAGCCGACATTGCATGGTAAACTAATTCAGACTAAAGCTCCCCAATTGCAAAACTGATGACAGGCCGCCCGAAGTTGCAGTACATAGGCAAAACGAAGGTAATCGGACAGGGGAATGGGACTGCCATGACCCAGTAGCTCTATCGGGATAGTTGCCGTTGCCATCCCAGTAAAGCCGTTGGGGTCTCTCTGGAACGGCAGGAATCATTACACCCGGAGGAGAGCTATCTTGAGAATTACAATATCTGTAACCCTCTCAATTTGTGACATTTGTCAAGT',\n",
       " 'CGGCAGGAATCATTACACCCGGAGGAGAGCTATCTTGAGAATTACAATATCTGTAACCCTCTCAATTTGTGACATTTGTCAAGTTCACGCCGCTAGTCAGTCTTAGTGGTGTGACTGCAGATTCTCTGAACGACGACCCTGGCCTACTAAGTGCCGGCCGTGGTTTCTCGTTTAGTGAGTGTAAGGTGTAGTTATGAGATTCAGCCATAAGGGATCATGTGCGCCCTCCGGCGCCGCGGCCTCCCGCGTGTACTAGGGAATACCGACTTAGAGTATTGATGTGGAATGTGAGTGATTTGCTCTTTGGTGCCGGCCGTGAATCATCCGGTCCCAGCAGCAAGTCTCTTAGACGTCAGTGTGGTGATTCTGACTGATCGCCGCACTTGAACTGTTTACAGTGTTTAACTCTCCCAATGTCTATAACATTAAGAGTTCTATCGAGAGGAGGCCCACATTACTAAGGACGGCAAGGTCTCTCTGGG',\n",
       " 'TCTATAACATTAAGAGTTCTATCGAGAGGAGGCCCACATTACTAAGGACGGCAAGGTCTCTCTGGGGTTGCCGAAATGACCCTACCGTTGCCGTTGATAGGGCTATCTCGATGACCCAGTACCGTCAGGGTAAGGGGACAGGCTAATGGAAGCAAAACGGATACATGACGTTGAAGCCCGCCGGACAGTAGTCAAAACGTTAACCCCTCGAAATCAGACTTAATCAAATGGTACGTTACAGCCGAGTCTGTTCGATGTGTATATGGGCATTCTGACGTATACCTTTCTCTAAAGGCTGAACGTAGATTGCAGGCATTTCAACTCCGCCTACCGGTTACGACGTGCTGACATTAAGTCGCACTGGAGCGCACTTCACGTACGGTGATCTCTAATTATAAGGGGCTGCCAATACGGGGTGGACAAGCTCCAC',\n",
       " 'CACTTCACGTACGGTGATCTCTAATTATAAGGGGCTGCCAATACGGGGTGGACAAGCTCCACTGGTATACAGGACGGTCAACCTTTATGCTAGAGTACACTTAGGTAACCCCGACTGCTGCCCAAATGATTGTTACACTTAGGACATTATGGCTTCGCTCACGGACGGTGGTCGGCGACGTTTTGACTCTACGTTTCACCATTCCATACTGTCCCACAAGTCAAAAGAAGAGTATAGTGTAAAATAGAGGCTCTGAGGCATCCTGTGTCCTCTGTCTTAGCGACCTCTTAACCCCGCTTAAGCAGAGGAAATGAACTCGGGACTGACCTTCCCGCAAGCTATCGAAACTGCCAATGGAGTCAACGGATTACGTTGAAAGGGTAGGACGGGCAACCGCCGCCCGGATGCTATTCCTCTGTGCGGTTACTGTTCCGCTCACTGAGCGCTAGCGTGTAGCCTCTAGCCGATTTTTTCATCGTA',\n",
       " 'GCAACCGCCGCCCGGATGCTATTCCTCTGTGCGGTTACTGTTCCGCTCACTGAGCGCTAGCGTGTAGCCTCTAGCCGATTTTTTCATCGTAATTACGACTTCCCTCGGGGATGCGCGAGTTCTGTGGCAGACCCCGGCTAGGAGGGACAGGGATTCCCACCAACGCAAATCGGGGACGTCTTTCCGACACAGTATCACGGGTGAGTGAACAGATATCCGTAAGATTTAACGCCTATGGGCTAGAGGGGATGCGTAGGGGACAATGTTCCGGGTTCAGAGAGGTTTCGGGCTAATGAAACAGAAGTAGGATTGGGAGGTCTATGGCCGAT',\n",
       " 'TGGGCTAGAGGGGATGCGTAGGGGACAATGTTCCGGGTTCAGAGAGGTTTCGGGCTAATGAAACAGAAGTAGGATTGGGAGGTCTATGGCCGATTTTAAACACCCCATGGGGTCCAGAACACATCCTGTAAGGTCACGCGACACTAGAATGTACTGGGCGGATGGGTAACTAGGCGGTACAGGTTAACGACGACGCCTCTGGCAACCCGTTAAGTAGCTAACTATAGCTGGTTTACGTCAGGTGCTACCGTCGGACCGTAAGCGATAATGCGATCCCCGCGGAGAGGTGAGCGCATGTCACGAGTCCAGAGCCAACTTCCAGTCTTCTCTATAGTCCGGGGACACCCTGCATTACGCTGATCGTTAAACCTTCAAAATCAGTTCTATAAGCGAGGGAGTAGCGGAGCAGCTCCAAATACGTACCATGCACAATTCA',\n",
       " 'GACACCCTGCATTACGCTGATCGTTAAACCTTCAAAATCAGTTCTATAAGCGAGGGAGTAGCGGAGCAGCTCCAAATACGTACCATGCACAATTCAATCGGCTGACGCCGGCGTATCTTGATGGGGTACTCACAACGCGTCTTACCGATCGATTCGGGCATATAGTGTATGCCATGACGGATCGTTAGATGCTGCAATAAGTCGGGCCCATCAGTCCGCTTAAGGCCCAAAAACTCTATCCGACCCTCCTTGTCAGTGTGTGGGTTGTGGGCACCTATACATCTGTGCCAACGGAACAAACTACTGCGGTTTAACTGACGCAGGTGTGCCCGACGATTCACCTCGCATGTGATGCACCGTCGGTCTGCAAGATACAACCTTTATAAGACTCCCGCAGGGGTAAGGCGACGTACTCGCTCCGTGGGTCAGCTCTCTTTTGTACTTTACGGGAAAGAGTCGGAGCTCAATTAACGACCCGAT',\n",
       " 'GGTCAGCTCTCTTTTGTACTTTACGGGAAAGAGTCGGAGCTCAATTAACGACCCGATGGACGTGTCTGTCTCACATGCGACTTTGTTAAGATAATGTCTATGGGGGATTTGTGTCGCACGACAGCTTTCCTTTCATCTCGTAAGGGTTCACCTCGCAAGAGTACTCAGGCCGATGAGAGCGTATCGAGTGATGCACGGCTACGGCACGGCTTACCCGCAAAGGGGTCACGTGGTACAACTGCACTTAATTACAAAACACATCCAAAAGGAGAAATATCGTCGAATGGATGGGTAACTCAGTTGCTTACCACAATCCGATCGCAGTTTAGCTGGT',\n",
       " 'AAAGGAGAAATATCGTCGAATGGATGGGTAACTCAGTTGCTTACCACAATCCGATCGCAGTTTAGCTGGTGTTTCTGTATTGCTTTGAAAGTTGCAGTATACGTACTACCAGTTTTACGTCCTAACGTGAGTCCCGGGTTGGGCTATCGTCTGCTAGAAATATCGTCCTCACAGAAGAGCGAAAATTCGTGCCTGGAACAGAGGCGATATCTTAACTAAGTTTGCTTGCACTGCGGTAAGGCACGTCTGTTCGTAGACCTTGATTATCGAGGCGTAGCTGCTGAGTCCCACCGATTGGGATCAATGTGAGAACCCCCACTCACCTGGTAAACTAAGATGACTTCCACGTCCGTCCGATCATTTGCCGAGGACGCGTACTCCAGTAAGGTGGAT',\n",
       " 'ATCAATGTGAGAACCCCCACTCACCTGGTAAACTAAGATGACTTCCACGTCCGTCCGATCATTTGCCGAGGACGCGTACTCCAGTAAGGTGGATTCCACCTCACGGATGTTCCACATCCCATTACCCACTATAATCTCTTGACCTTGATGTGACCGTCTCAATCATGCGGGTGACGCTGTCCGATCCTACCACGAGCTGACCTCACGCGTGCCCCCCGGCCTAGAAACAGAAAACGTTGTGCGAAATGTTGGATCCCAAGTGCGTGCTACGCCTTACGCCGCGCTGCGCCGTGCTTCTGGTCTACTGTCTACGTCATTTGGCGAGAAACTGATACAGGTA',\n",
       " 'TACGCCTTACGCCGCGCTGCGCCGTGCTTCTGGTCTACTGTCTACGTCATTTGGCGAGAAACTGATACAGGTACGTGTTGGGAATACCACGTCCATTTTTGAATTGTGCGAAGCGAGACCCGAAAATCGGGTACCCCTATTGCTAATCACTACGATTTACAAAAGAGGTAGTCAACTCTTTGACTAGGTTGGCGACGGTACATAACTCTCCGCTCGGACAATAGGTTCGCAAAGGCCCAGACAATGCATGTGGTCCGCTCCGTTTGGGTCTGTGTCTACGGGGGCAGCTCTAAACCCAGTGTGTTCAAAACATTCTTCTACTAGCCCCCT',\n",
       " 'CTGTGTCTACGGGGGCAGCTCTAAACCCAGTGTGTTCAAAACATTCTTCTACTAGCCCCCTCCAGCCGCCCCGCATTTGGTCATGATCCAGACATTCACGTATTGGCGTTAGCCAGGGAGAAAGTCGCGTAATTATGCGCAGAAAGGGAAGCGTCCGGCGTCTCCCAGCATCAAGATAGCGGATCAGACGGGATGGACTAACCTAATGTTATGCAAGCGTTCGTAGTCGACAAGGTCATAATGTCACTTACTAAGCTTCACCATGTTTGGCCTGGTACTCCAAACGTCATCTCTCGCGATCCTTCTTCGAGCAAGCACTGGTCCTTGCTCTTATATTGCTCGATGTCGTCTTATAATCGCTCCAGAAGACTGGGAGATCTATTTCCCATACTACACATAACAGCACGCGATAA',\n",
       " 'GCTCTTATATTGCTCGATGTCGTCTTATAATCGCTCCAGAAGACTGGGAGATCTATTTCCCATACTACACATAACAGCACGCGATAATCTGTAAGCTGTCTTTTACTGCCGCTAGTAGTGGTGGCTGTACTGGTCGCCTGCTGAAGGTACGGTCCAAGGTATTAACCACAGCGACTGATTTAATCGCGCCGTTTGATATCGTATATCTCAGTTCTCACACCTGGTAGTGAAAATCGACAACCATTGTTGTCGTCGGCGTAGGGTCACCCCCCTAATTTACGACCGCTGTATGATGGCGCATGCGGAGCTTGCCTTATTTATCAATGAGCTAGGGATTCTCTTCTTAGTCATCGCCGTTATCCAAAAGAACCTACATCGTTCCGCCGGCCATTAGCCCCCCGTAAGCATAGGAAAGTAATTTGATCAGAAAGATCGTACTTGGGTATAGCATGATACGACCAGCAGTGTGTAAAGAATCGCTCTCAGACACTCTGGGG',\n",
       " 'TCGTACTTGGGTATAGCATGATACGACCAGCAGTGTGTAAAGAATCGCTCTCAGACACTCTGGGGCGCAAGCTAATCCCAGTCCTGCTGAGATACAAGGAACTTAGGCGTATTTTCGATAGAGGTGGTTATCCATCTATCGCCATGCCGACTATGTCACTCGGGGTAGGGTTACACCGTACGTAGCTACACTTTGGGGGCAAGCCGCGACGTGCGGAGAATGTATTAGATGGATTGGTCGCTCGGATAATGGACTATACCACCCGACCACTTAATGTATTGCGGCTTCCTGAAGCAACAATAGCAGAGCGGCTGCGACATGGCTCGAGTTCCAGTTGAATCGTCCCCTCCACCTCAGGACCGTGCGGACCGC',\n",
       " 'TAGCAGAGCGGCTGCGACATGGCTCGAGTTCCAGTTGAATCGTCCCCTCCACCTCAGGACCGTGCGGACCGCGAGTAATAGCCTCAAACGGTTGCGATGGGCCTCCATTATCTCACAAATTTTATTTAAGACGTGTGGGCCGCAGCAAGGTGGAAGCTCTCTACAGAGCAAAGGCTGTTTATTGGAGCCAGCACATACTCCTTTTGTCCCGCTCTTGCTGTTACGCCGGAAAGATAAATTGACATCGTATGTTCTTGGCTTTAACCGTGGTTACCGGTACCAGGGAAACGGGATTTGAAGAAGTCTATTCGAGCATTAGCTATGCGTCCTTCTTCAGACATGGCTGTATTAGTCAGGTCTGTCAATACATGGCCCGCCCTCGAACGGGTGGCACGGTATCCCAGGAACACCAGCACGGAGAAGAGGTATTTACTAATAATTCAGTACCAGTAAAGTCGTTACAGTCGAGTAATTCGAGCAACTAAT',\n",
       " 'AGGAACACCAGCACGGAGAAGAGGTATTTACTAATAATTCAGTACCAGTAAAGTCGTTACAGTCGAGTAATTCGAGCAACTAATTTATGCATCTTAAGGCCCATTTGGTAGGGCAACTTTGCTAAATGTCCGTAGACCAAAATGTCGCAGGGACCTTGTTTCTACGTTCACCACGTTACTAAAGCTCGCGATCTTGTAATACCAAATCCGGATTATAGGTTAATGGTGACGACTAGCTGGCCGAAGAGGGGCCAGTCCGTTTAGGGC',\n",
       " 'CAAATCCGGATTATAGGTTAATGGTGACGACTAGCTGGCCGAAGAGGGGCCAGTCCGTTTAGGGCAAAGCAGCGATGAATTACGGCACAAACAGTTACACTATGGTAATTCGATCATTATTTCCCGCAATTGCGGGTCCGAGATACGTGGTTACTAGGCCACCTGGCTAATACTGGACAGATAACTACCAAAGATACAAAACCAATGCGCAGACCGTAGAGTTGTCCGTAACCAATGACCCGCGTATGCGAGGATGAATCCCCAGCGTATAAAGTTCGTGATGAAGCGACGCCGTGTTGATT']"
      ]
     },
     "execution_count": 33,
     "metadata": {},
     "output_type": "execute_result"
    }
   ],
   "source": [
    "sequence = generate_genome_sequence(10000,palindrome=True,seed=0)\n",
    "reads = generate_reads(sequence,250,500,50,100,seed=0)\n",
    "reads"
   ]
  },
  {
   "cell_type": "code",
   "execution_count": 34,
   "metadata": {},
   "outputs": [
    {
     "data": {
      "text/plain": [
       "('TTAGTTGTGCCGCAGCGAAGTAGTGCTTGAAATATGCGACCCCTAAGTAGGAGCGTATGCGCCCAGTAACCAATGCCTGTTGAGATGCCAGACGCGTAACCAAAACATAGAAACCATCAATAGACAGGTCATAATCGGTCCACCGGATCATTGGTGCATAGAGCCTGGGCGTTAACGCCCTTTATTACTAGCTTAATGGTATCACATTGACAAACACGGCATTAAGTAGCGACGAAACGGGATTTGCCTGACCGGGGAGAAGCCGGTCGATCAGCAGTGGTAATTGGATATTAGGCCTAAACCATAATGTTCTAGCGCTCGAAATCATTGCACCACTTGCATCTTTGTTCCAGGGACGCTGTAAAACCAGATGCCTGTAAATCGTTTCAACGGGATGGTTTACCCGGAATTCTACGTATTTAATCAACGAGCTTAATGAGCTGACATTGCTGAAATGACCATGACTTAATAATCATTTATGGAGAAGAGGCACGACCACAAGGACCCTATGGCACGGTGGGCAAGCTCCCGCCCGGTACATAACTGTCTGGACTGATTATGTCGGTACAGACTTCTTCCTGCGTATCGATTACGAGCTTATCTGAAGAAGTTTAGGGCAAAGGGACCATGGCCATTGGTGCCAATTTCGGTTCTTGTATGCTACAGTTAAATAGAAAGGCCGCATTGTCGTTCTCGCCCTGTTTTCCTCATACACGACCGAGGTTATTTGTCGGAAACGAGACATCTCTCGAAGGTGGAACGACGCCGGGTGTGCAGAATTTATTTTAAACACTCTATTACCTCCGGGTAGCGTTGGCAAACTCCGATAATGAGCGCCAGGCGTGCCAGGACTCCACCTCCCCTGCTAAGTTGACCTTGAGCTCGGTACAGCGTCGGCGAGACGATAACAACGAAGTCCTTCGGCGTTATGTAATTCACCAGCCCACCATATCAGGTAATAGGCTCGCTGGTTAGGTAGATTATGTAAGAGGCGTGCAGCGCCGAACGGGGGTTTCACATCGATGCATGCCACATTGGGATGGGGCTCACTGTATCAGCCGTACCGCTATCTACCTATTGGTGGAGATAGCTTTTATGCGGATTCAAGGAACATAGAGTCGTCCTGACCCTAATCGAACGCGGGGTCTCACAGACTCTCGCTAAGAAATGTGTGACGACCAGCATAGTACGATATGGGTTCATGCTAGAAAGACTAGTTTAATGAAAGGATACGAATGCCCCCCGATTACCGGCCGCCTTGCTACATCCAAGAAAACCTATTGCCGCTACTGATTCTTCTCTTAGGGATCGAGTAACTATTTATTCCGTTCGAGGCGTACGCGGTAGTATGTCGCCAGCATTTAATCCCCCCACTGGGATGCGGCTGCTGTTGTTACCAACAGCTAAAAGTGATGGTCCACACTCTTGACTCTATATGCTATAGTTTGCCGCGCTAATTTAGTCAGCGACACCAATTATGGAACCTGGCATGGAAGTCGTCCGCTGGTCATGTCGGTGGTGATGATCGCCGTCATTTTCTGTCGAATGTCTAATAGCGCACGACAATACACATCATACCCTTTATCTAGAGGGTCAGAAGACCTCGCTAATATTCTGCTGTAGCTCGTTATATTCTCGTTCCTGGTCACGAACGAGCTTCTTCCTAGCGCTCTCTACTGCAAACCTCATGGTCCGGTTTGTACCACTTCGAATCATTCACTGTAATACTGGAACAGCTGATGCTTGCGAACGTATTGTAATCCAATCAGGTAGGGCAGACTAGGCGATAGAACTACGACCCTCTGCGGCCTGCGAAGGGAAAGACGCGTATTAATGCGCTGAAAGAGGGACCGATTGCGGTTATGCACTTACAGACCTAGTACTGGTTTACGCCCCGCCGACCTCCCCCGATCATCTTCTTACAAAACTTGTGTGACCCAAATCTCGACGGGGGCATCTGTGTCTGGGTTTGCCTCGCCTGGTGTACGTAACAGACCCGGAAACGCTTGGATAACAGGCTCGCCTCTCAATACATGGCAGCGGTTGGATCAGTTTCTCAACTGATGGAGAAAACATTTAGCATCACTAATCGTTATCCCCATGGGCTAAAAGCCCAGAGCGAAGCGTGTTAAGTTTTTACCTGCACCATAAGGGTTGTGCATGGACATAGTCAAAGAGCGGTTTACTGCATCTGTCATCTGGTCTTCGTGCCGCGTCGCGCCGCATTCCGCATCGTGCGTGAACCCTAGGTTGTAAAGCGTGTTGCAAAAGACAAAGATCCGGCCCCCCGTGCGCACTCCAGTCGAGCACCATCCTAGCCTGTCGCAGTGGGCGTACTAACTCTGCCAGTGTAGTTCCAGTTCTCTAATATCACCCATTACCCTACACCTTGTAGGCACTCCACCTTAGGTGGAATGACCTCATGCGCAGGAGCCGTTTACTAGCCTGCCTGCACCTTCAGTAGAATCAAATGGTCCACTCACCCCCAAGAGTGTAACTAGGGTTAGCCACCCTGAGTCGTCGATGCGGAGCTATTAGTTCCAGATGCTTGTCTGCACGGAATGGCGTCACGTTCGTTTGAATCAATTCTATAGCGGAGACAAGGTCCGTGCTTAAAAGCGAGAAGACACTCCTGCTATAAAGATCGTCTGCTATCGGGTTGGGCCCTGAGTGCAATCCTGCATTTTGACCATCATGCATATGACGTTGAAAGTTTCGTTATGTCTTTGTGGTCGATTTGACGCTAGCCTAACACCATTCGTTGACTCAATGGGTAGGTAAGCTGCTATAAAGAGGAAAACCTACACAAAACATTAATTCACGTCAACATGGTGCACTGGGGAAACGCCCATTCGGCACGGCATCGGCACGTAGTGAGCTATGCGAGAGTAGCCGGACTCATGAGAACGCTCCACTTGGGAATGCTCTACTTTCCTTTCGACAGCACGCTGTGTTTAGGGGGTATCTGTAATAGAATTGTTTCAGCGTACACTCTGTCTGTGCAGGTAGCCCAGCAATTAACTCGAGGCTGAGAAAGGGCATTTCATGTTTTCTCTCGACTGGGTGCCTCGCTCATGCAGCGGAATGGGGACGCCCTCAGAATATTTCCAACATAGAACGTCTGGCTGCCACGTAGTGTACGCTCCACTTAGCAGCCCGTGTGGACGCAGTCAATTTGGCGTCATCAAACAAGGCAACCGTGTCTACATATCCACGGGTGTTGGGTGTGTGACTGTTCCTCCCAGCCTATCTCAAAAACCCGGAATTCGCCTGACTACCCGGGCTGAATAACGTCGTAGATTGCTAGGCAGTACCGTATGTGATATACGGGCTTAGCTAGCCATTCTGCGCAACACTCATGGGGTAGTTCTATGCGGCCGCAGTCGGCTAACTTAACACGTACCATGCATAAACCTCGACGAGGCGATGAGGGAGCGAATATCTTGACTAAAACTTCCAAATTGCTAGTCGCATTACGTCCCACAGGGGCCTGATATCTCTTCTGACCTTCAACCGAGACCTGAGCACTGTACGCGAGTGGAGAGGCGCCCCTAGCGTAATAGCGAATGCCAGGCTGCCATCGTGGACTGCATTTGGTCGATATCAATCGATGAATTGCCCAACGGTCTCCGCAGCAGCAATTGGACATGGCGGATCAATGGGTAGGCGGGTCATGTAAGATCACAGCGCACTGGAATGTCCTACACAAGACCTGGGGTACCCCACAAATTTTAGCCGGTATCTGGAGGGTTAGGATGAAGACAAAGTAATCGGGCTTTGGAGAGACTTGGGCCTTGTAACAGGGGATGCGTAGGGGAGATCGGGTATCCGCAATTTAGAATGCCTATAGACAAGTGAGTGGGCACTATGACACAGCCTTTCTGCAGGGGCTAAACGCAACCACCCTTAGGGACAGGGAGGATCGGCCCCAGACGGTGTCTTGAGCGCGTAGGGGCTCCCTTCAGCATTAATGCTACTTTTTTAGCCGATCTCCGATGTGCGATCGCGAGTCACTCGCCTTGTCATTGGCGTGTCTCCTTATCGTAGGCCCGCCGCCAACGGGCAGGATGGGAAAGTTGCATTAGGCAACTGAGGTAACCGTCAAAGCTATCGAACGCCCTTCCAGTCAGGGCTCAAGTAAAGGAGACGAATTCGCCCCAATTCTCCAGCGATTCTGTCTCCTGTGTCCTACGGAGTCTCGGAGATAAAATGTGATATGAGAAGAAAACTGAACACCCTGTCATACCTTACCACTTTGCATCTCAGTTTTGCAGCGGCTGGTGGCAGGCACTCGCTTCGGTATTACAGGATTCACATTGTTAGTAAACCCGTCGTCAGCCCCAATGGATTCACATGAGATCGTATTTCCAACTGGCAGGACATATGGTCACCTCGAACAGGTGGGGCATAACCGTCGGGGAATATTAATCTCTAGTGGCATGCACTTCACGCGAGGTCACGCTGAATTACAGTCGTGCAGCATTGGCCATCCGCCTCAACTTTACGGACGTTAGATGCAAGTCGGAAATCTCTTTCCATATGCAGTCTTACGGGTATATGTGTAGCTTGTCTGAGCCGACATTGCATGGTAAACTAATTCAGACTAAAGCTCCCCAATTGCAAAACTGATGACAGGCCGCCCGAAGTTGCAGTACATAGGCAAAACGAAGGTAATCGGACAGGGGAATGGGACTGCCATGACCCAGTAGCTCTATCGGGATAGTTGCCGTTGCCATCCCAGTAAAGCCGTTGGGGTCTCTCTGGAACGGCAGGAATCATTACACCCGGAGGAGAGCTATCTTGAGAATTACAATATCTGTAACCCTCTCAATTTGTGACATTTGTCAAGTTCACGCCGCTAGTCAGTCTTAGTGGTGTGACTGCAGATTCTCTGAACGACGACCCTGGCCTACTAAGTGCCGGCCGTGGTTTCTCGTTTAGTGAGTGTAAGGTGTAGTTATGAGATTCAGCCATAAGGGATCATGTGCGCCCTCCGGCGCCGCGGCCTCCCGCGTGTACTAGGGAATACCGACTTAGAGTATTGATGTGGAATGTGAGTGATTTGCTCTTTGGTGCCGGCCGTGAATCATCCGGTCCCAGCAGCAAGTCTCTTAGACGTCAGTGTGGTGATTCTGACTGATCGCCGCACTTGAACTGTTTACAGTGTTTAACTCTCCCAATGTCTATAACATTAAGAGTTCTATCGAGAGGAGGCCCACATTACTAAGGACGGCAAGGTCTCTCTGGGGTTGCCGAAATGACCCTACCGTTGCCGTTGATAGGGCTATCTCGATGACCCAGTACCGTCAGGGTAAGGGGACAGGCTAATGGAAGCAAAACGGATACATGACGTTGAAGCCCGCCGGACAGTAGTCAAAACGTTAACCCCTCGAAATCAGACTTAATCAAATGGTACGTTACAGCCGAGTCTGTTCGATGTGTATATGGGCATTCTGACGTATACCTTTCTCTAAAGGCTGAACGTAGATTGCAGGCATTTCAACTCCGCCTACCGGTTACGACGTGCTGACATTAAGTCGCACTGGAGCGCACTTCACGTACGGTGATCTCTAATTATAAGGGGCTGCCAATACGGGGTGGACAAGCTCCACTGGTATACAGGACGGTCAACCTTTATGCTAGAGTACACTTAGGTAACCCCGACTGCTGCCCAAATGATTGTTACACTTAGGACATTATGGCTTCGCTCACGGACGGTGGTCGGCGACGTTTTGACTCTACGTTTCACCATTCCATACTGTCCCACAAGTCAAAAGAAGAGTATAGTGTAAAATAGAGGCTCTGAGGCATCCTGTGTCCTCTGTCTTAGCGACCTCTTAACCCCGCTTAAGCAGAGGAAATGAACTCGGGACTGACCTTCCCGCAAGCTATCGAAACTGCCAATGGAGTCAACGGATTACGTTGAAAGGGTAGGACGGGCAACCGCCGCCCGGATGCTATTCCTCTGTGCGGTTACTGTTCCGCTCACTGAGCGCTAGCGTGTAGCCTCTAGCCGATTTTTTCATCGTAATTACGACTTCCCTCGGGGATGCGCGAGTTCTGTGGCAGACCCCGGCTAGGAGGGACAGGGATTCCCACCAACGCAAATCGGGGACGTCTTTCCGACACAGTATCACGGGTGAGTGAACAGATATCCGTAAGATTTAACGCCTATGGGCTAGAGGGGATGCGTAGGGGACAATGTTCCGGGTTCAGAGAGGTTTCGGGCTAATGAAACAGAAGTAGGATTGGGAGGTCTATGGCCGATTTTAAACACCCCATGGGGTCCAGAACACATCCTGTAAGGTCACGCGACACTAGAATGTACTGGGCGGATGGGTAACTAGGCGGTACAGGTTAACGACGACGCCTCTGGCAACCCGTTAAGTAGCTAACTATAGCTGGTTTACGTCAGGTGCTACCGTCGGACCGTAAGCGATAATGCGATCCCCGCGGAGAGGTGAGCGCATGTCACGAGTCCAGAGCCAACTTCCAGTCTTCTCTATAGTCCGGGGACACCCTGCATTACGCTGATCGTTAAACCTTCAAAATCAGTTCTATAAGCGAGGGAGTAGCGGAGCAGCTCCAAATACGTACCATGCACAATTCAATCGGCTGACGCCGGCGTATCTTGATGGGGTACTCACAACGCGTCTTACCGATCGATTCGGGCATATAGTGTATGCCATGACGGATCGTTAGATGCTGCAATAAGTCGGGCCCATCAGTCCGCTTAAGGCCCAAAAACTCTATCCGACCCTCCTTGTCAGTGTGTGGGTTGTGGGCACCTATACATCTGTGCCAACGGAACAAACTACTGCGGTTTAACTGACGCAGGTGTGCCCGACGATTCACCTCGCATGTGATGCACCGTCGGTCTGCAAGATACAACCTTTATAAGACTCCCGCAGGGGTAAGGCGACGTACTCGCTCCGTGGGTCAGCTCTCTTTTGTACTTTACGGGAAAGAGTCGGAGCTCAATTAACGACCCGATGGACGTGTCTGTCTCACATGCGACTTTGTTAAGATAATGTCTATGGGGGATTTGTGTCGCACGACAGCTTTCCTTTCATCTCGTAAGGGTTCACCTCGCAAGAGTACTCAGGCCGATGAGAGCGTATCGAGTGATGCACGGCTACGGCACGGCTTACCCGCAAAGGGGTCACGTGGTACAACTGCACTTAATTACAAAACACATCCAAAAGGAGAAATATCGTCGAATGGATGGGTAACTCAGTTGCTTACCACAATCCGATCGCAGTTTAGCTGGTGTTTCTGTATTGCTTTGAAAGTTGCAGTATACGTACTACCAGTTTTACGTCCTAACGTGAGTCCCGGGTTGGGCTATCGTCTGCTAGAAATATCGTCCTCACAGAAGAGCGAAAATTCGTGCCTGGAACAGAGGCGATATCTTAACTAAGTTTGCTTGCACTGCGGTAAGGCACGTCTGTTCGTAGACCTTGATTATCGAGGCGTAGCTGCTGAGTCCCACCGATTGGGATCAATGTGAGAACCCCCACTCACCTGGTAAACTAAGATGACTTCCACGTCCGTCCGATCATTTGCCGAGGACGCGTACTCCAGTAAGGTGGATTCCACCTCACGGATGTTCCACATCCCATTACCCACTATAATCTCTTGACCTTGATGTGACCGTCTCAATCATGCGGGTGACGCTGTCCGATCCTACCACGAGCTGACCTCACGCGTGCCCCCCGGCCTAGAAACAGAAAACGTTGTGCGAAATGTTGGATCCCAAGTGCGTGCTACGCCTTACGCCGCGCTGCGCCGTGCTTCTGGTCTACTGTCTACGTCATTTGGCGAGAAACTGATACAGGTACGTGTTGGGAATACCACGTCCATTTTTGAATTGTGCGAAGCGAGACCCGAAAATCGGGTACCCCTATTGCTAATCACTACGATTTACAAAAGAGGTAGTCAACTCTTTGACTAGGTTGGCGACGGTACATAACTCTCCGCTCGGACAATAGGTTCGCAAAGGCCCAGACAATGCATGTGGTCCGCTCCGTTTGGGTCTGTGTCTACGGGGGCAGCTCTAAACCCAGTGTGTTCAAAACATTCTTCTACTAGCCCCCTCCAGCCGCCCCGCATTTGGTCATGATCCAGACATTCACGTATTGGCGTTAGCCAGGGAGAAAGTCGCGTAATTATGCGCAGAAAGGGAAGCGTCCGGCGTCTCCCAGCATCAAGATAGCGGATCAGACGGGATGGACTAACCTAATGTTATGCAAGCGTTCGTAGTCGACAAGGTCATAATGTCACTTACTAAGCTTCACCATGTTTGGCCTGGTACTCCAAACGTCATCTCTCGCGATCCTTCTTCGAGCAAGCACTGGTCCTTGCTCTTATATTGCTCGATGTCGTCTTATAATCGCTCCAGAAGACTGGGAGATCTATTTCCCATACTACACATAACAGCACGCGATAATCTGTAAGCTGTCTTTTACTGCCGCTAGTAGTGGTGGCTGTACTGGTCGCCTGCTGAAGGTACGGTCCAAGGTATTAACCACAGCGACTGATTTAATCGCGCCGTTTGATATCGTATATCTCAGTTCTCACACCTGGTAGTGAAAATCGACAACCATTGTTGTCGTCGGCGTAGGGTCACCCCCCTAATTTACGACCGCTGTATGATGGCGCATGCGGAGCTTGCCTTATTTATCAATGAGCTAGGGATTCTCTTCTTAGTCATCGCCGTTATCCAAAAGAACCTACATCGTTCCGCCGGCCATTAGCCCCCCGTAAGCATAGGAAAGTAATTTGATCAGAAAGATCGTACTTGGGTATAGCATGATACGACCAGCAGTGTGTAAAGAATCGCTCTCAGACACTCTGGGGCGCAAGCTAATCCCAGTCCTGCTGAGATACAAGGAACTTAGGCGTATTTTCGATAGAGGTGGTTATCCATCTATCGCCATGCCGACTATGTCACTCGGGGTAGGGTTACACCGTACGTAGCTACACTTTGGGGGCAAGCCGCGACGTGCGGAGAATGTATTAGATGGATTGGTCGCTCGGATAATGGACTATACCACCCGACCACTTAATGTATTGCGGCTTCCTGAAGCAACAATAGCAGAGCGGCTGCGACATGGCTCGAGTTCCAGTTGAATCGTCCCCTCCACCTCAGGACCGTGCGGACCGCGAGTAATAGCCTCAAACGGTTGCGATGGGCCTCCATTATCTCACAAATTTTATTTAAGACGTGTGGGCCGCAGCAAGGTGGAAGCTCTCTACAGAGCAAAGGCTGTTTATTGGAGCCAGCACATACTCCTTTTGTCCCGCTCTTGCTGTTACGCCGGAAAGATAAATTGACATCGTATGTTCTTGGCTTTAACCGTGGTTACCGGTACCAGGGAAACGGGATTTGAAGAAGTCTATTCGAGCATTAGCTATGCGTCCTTCTTCAGACATGGCTGTATTAGTCAGGTCTGTCAATACATGGCCCGCCCTCGAACGGGTGGCACGGTATCCCAGGAACACCAGCACGGAGAAGAGGTATTTACTAATAATTCAGTACCAGTAAAGTCGTTACAGTCGAGTAATTCGAGCAACTAATTTATGCATCTTAAGGCCCATTTGGTAGGGCAACTTTGCTAAATGTCCGTAGACCAAAATGTCGCAGGGACCTTGTTTCTACGTTCACCACGTTACTAAAGCTCGCGATCTTGTAATACCAAATCCGGATTATAGGTTAATGGTGACGACTAGCTGGCCGAAGAGGGGCCAGTCCGTTTAGGGCAAAGCAGCGATGAATTACGGCACAAACAGTTACACTATGGTAATTCGATCATTATTTCCCGCAATTGCGGGTCCGAGATACGTGGTTACTAGGCCACCTGGCTAATACTGGACAGATAACTACCAAAGATACAAAACCAATGCGCAGACCGTAGAGTTGTCCGTAACCAATGACCCGCGTATGCGAGGATGAATCCCCAGCGTATAAAGTTCGTGATGAAGCGACGCCGTGTTGATT',\n",
       " 'TTAGTTGTGCCGCAGCGAAGTAGTGCTTGAAATATGCGACCCCTAAGTAGGAGCGTATGCGCCCAGTAACCAATGCCTGTTGAGATGCCAGACGCGTAACCAAAACATAGAAACCATCAATAGACAGGTCATAATCGGTCCACCGGATCATTGGTGCATAGAGCCTGGGCGTTAACGCCCTTTATTACTAGCTTAATGGTATCACATTGACAAACACGGCATTAAGTAGCGACGAAACGGGATTTGCCTGACCGGGGAGAAGCCGGTCGATCAGCAGTGGTAATTGGATATTAGGCCTAAACCATAATGTTCTAGCGCTCGAAATCATTGCACCACTTGCATCTTTGTTCCAGGGACGCTGTAAAACCAGATGCCTGTAAATCGTTTCAACGGGATGGTTTACCCGGAATTCTACGTATTTAATCAACGAGCTTAATGAGCTGACATTGCTGAAATGACCATGACTTAATAATCATTTATGGAGAAGAGGCACGACCACAAGGACCCTATGGCACGGTGGGCAAGCTCCCGCCCGGTACATAACTGTCTGGACTGATTATGTCGGTACAGACTTCTTCCTGCGTATCGATTACGAGCTTATCTGAAGAAGTTTAGGGCAAAGGGACCATGGCCATTGGTGCCAATTTCGGTTCTTGTATGCTACAGTTAAATAGAAAGGCCGCATTGTCGTTCTCGCCCTGTTTTCCTCATACACGACCGAGGTTATTTGTCGGAAACGAGACATCTCTCGAAGGTGGAACGACGCCGGGTGTGCAGAATTTATTTTAAACACTCTATTACCTCCGGGTAGCGTTGGCAAACTCCGATAATGAGCGCCAGGCGTGCCAGGACTCCACCTCCCCTGCTAAGTTGACCTTGAGCTCGGTACAGCGTCGGCGAGACGATAACAACGAAGTCCTTCGGCGTTATGTAATTCACCAGCCCACCATATCAGGTAATAGGCTCGCTGGTTAGGTAGATTATGTAAGAGGCGTGCAGCGCCGAACGGGGGTTTCACATCGATGCATGCCACATTGGGATGGGGCTCACTGTATCAGCCGTACCGCTATCTACCTATTGGTGGAGATAGCTTTTATGCGGATTCAAGGAACATAGAGTCGTCCTGACCCTAATCGAACGCGGGGTCTCACAGACTCTCGCTAAGAAATGTGTGACGACCAGCATAGTACGATATGGGTTCATGCTAGAAAGACTAGTTTAATGAAAGGATACGAATGCCCCCCGATTACCGGCCGCCTTGCTACATCCAAGAAAACCTATTGCCGCTACTGATTCTTCTCTTAGGGATCGAGTAACTATTTATTCCGTTCGAGGCGTACGCGGTAGTATGTCGCCAGCATTTAATCCCCCCACTGGGATGCGGCTGCTGTTGTTACCAACAGCTAAAAGTGATGGTCCACACTCTTGACTCTATATGCTATAGTTTGCCGCGCTAATTTAGTCAGCGACACCAATTATGGAACCTGGCATGGAAGTCGTCCGCTGGTCATGTCGGTGGTGATGATCGCCGTCATTTTCTGTCGAATGTCTAATAGCGCACGACAATACACATCATACCCTTTATCTAGAGGGTCAGAAGACCTCGCTAATATTCTGCTGTAGCTCGTTATATTCTCGTTCCTGGTCACGAACGAGCTTCTTCCTAGCGCTCTCTACTGCAAACCTCATGGTCCGGTTTGTACCACTTCGAATCATTCACTGTAATACTGGAACAGCTGATGCTTGCGAACGTATTGTAATCCAATCAGGTAGGGCAGACTAGGCGATAGAACTACGACCCTCTGCGGCCTGCGAAGGGAAAGACGCGTATTAATGCGCTGAAAGAGGGACCGATTGCGGTTATGCACTTACAGACCTAGTACTGGTTTACGCCCCGCCGACCTCCCCCGATCATCTTCTTACAAAACTTGTGTGACCCAAATCTCGACGGGGGCATCTGTGTCTGGGTTTGCCTCGCCTGGTGTACGTAACAGACCCGGAAACGCTTGGATAACAGGCTCGCCTCTCAATACATGGCAGCGGTTGGATCAGTTTCTCAACTGATGGAGAAAACATTTAGCATCACTAATCGTTATCCCCATGGGCTAAAAGCCCAGAGCGAAGCGTGTTAAGTTTTTACCTGCACCATAAGGGTTGTGCATGGACATAGTCAAAGAGCGGTTTACTGCATCTGTCATCTGGTCTTCGTGCCGCGTCGCGCCGCATTCCGCATCGTGCGTGAACCCTAGGTTGTAAAGCGTGTTGCAAAAGACAAAGATCCGGCCCCCCGTGCGCACTCCAGTCGAGCACCATCCTAGCCTGTCGCAGTGGGCGTACTAACTCTGCCAGTGTAGTTCCAGTTCTCTAATATCACCCATTACCCTACACCTTGTAGGCACTCCACCTTAGGTGGAATGACCTCATGCGCAGGAGCCGTTTACTAGCCTGCCTGCACCTTCAGTAGAATCAAATGGTCCACTCACCCCCAAGAGTGTAACTAGGGTTAGCCACCCTGAGTCGTCGATGCGGAGCTATTAGTTCCAGATGCTTGTCTGCACGGAATGGCGTCACGTTCGTTTGAATCAATTCTATAGCGGAGACAAGGTCCGTGCTTAAAAGCGAGAAGACACTCCTGCTATAAAGATCGTCTGCTATCGGGTTGGGCCCTGAGTGCAATCCTGCATTTTGACCATCATGCATATGACGTTGAAAGTTTCGTTATGTCTTTGTGGTCGATTTGACGCTAGCCTAACACCATTCGTTGACTCAATGGGTAGGTAAGCTGCTATAAAGAGGAAAACCTACACAAAACATTAATTCACGTCAACATGGTGCACTGGGGAAACGCCCATTCGGCACGGCATCGGCACGTAGTGAGCTATGCGAGAGTAGCCGGACTCATGAGAACGCTCCACTTGGGAATGCTCTACTTTCCTTTCGACAGCACGCTGTGTTTAGGGGGTATCTGTAATAGAATTGTTTCAGCGTACACTCTGTCTGTGCAGGTAGCCCAGCAATTAACTCGAGGCTGAGAAAGGGCATTTCATGTTTTCTCTCGACTGGGTGCCTCGCTCATGCAGCGGAATGGGGACGCCCTCAGAATATTTCCAACATAGAACGTCTGGCTGCCACGTAGTGTACGCTCCACTTAGCAGCCCGTGTGGACGCAGTCAATTTGGCGTCATCAAACAAGGCAACCGTGTCTACATATCCACGGGTGTTGGGTGTGTGACTGTTCCTCCCAGCCTATCTCAAAAACCCGGAATTCGCCTGACTACCCGGGCTGAATAACGTCGTAGATTGCTAGGCAGTACCGTATGTGATATACGGGCTTAGCTAGCCATTCTGCGCAACACTCATGGGGTAGTTCTATGCGGCCGCAGTCGGCTAACTTAACACGTACCATGCATAAACCTCGACGAGGCGATGAGGGAGCGAATATCTTGACTAAAACTTCCAAATTGCTAGTCGCATTACGTCCCACAGGGGCCTGATATCTCTTCTGACCTTCAACCGAGACCTGAGCACTGTACGCGAGTGGAGAGGCGCCCCTAGCGTAATAGCGAATGCCAGGCTGCCATCGTGGACTGCATTTGGTCGATATCAATCGATGAATTGCCCAACGGTCTCCGCAGCAGCAATTGGACATGGCGGATCAATGGGTAGGCGGGTCATGTAAGATCACAGCGCACTGGAATGTCCTACACAAGACCTGGGGTACCCCACAAATTTTAGCCGGTATCTGGAGGGTTAGGATGAAGACAAAGTAATCGGGCTTTGGAGAGACTTGGGCCTTGTAACAGGGGATGCGTAGGGGAGATCGGGTATCCGCAATTTAGAATGCCTATAGACAAGTGAGTGGGCACTATGACACAGCCTTTCTGCAGGGGCTAAACGCAACCACCCTTAGGGACAGGGAGGATCGGCCCCAGACGGTGTCTTGAGCGCGTAGGGGCTCCCTTCAGCATTAATGCTACTTTTTTAGCCGATCTCCGATGTGCGATCGCGAGTCACTCGCCTTGTCATTGGCGTGTCTCCTTATCGTAGGCCCGCCGCCAACGGGCAGGATGGGAAAGTTGCATTAGGCAACTGAGGTAACCGTCAAAGCTATCGAACGCCCTTCCAGTCAGGGCTCAAGTAAAGGAGACGAATTCGCCCCAATTCTCCAGCGATTCTGTCTCCTGTGTCCTACGGAGTCTCGGAGATAAAATGTGATATGAGAAGAAAACTGAACACCCTGTCATACCTTACCACTTTGCATCTCAGTTTTGCAGCGGCTGGTGGCAGGCACTCGCTTCGGTATTACAGGATTCACATTGTTAGTAAACCCGTCGTCAGCCCCAATGGATTCACATGAGATCGTATTTCCAACTGGCAGGACATATGGTCACCTCGAACAGGTGGGGCATAACCGTCGGGGAATATTAATCTCTAGTGGCATGCACTTCACGCGAGGTCACGCTGAATTACAGTCGTGCAGCATTGGCCATCCGCCTCAACTTTACGGACGTTAGATGCAAGTCGGAAATCTCTTTCCATATGCAGTCTTACGGGTATATGTGTAGCTTGTCTGAGCCGACATTGCATGGTAAACTAATTCAGACTAAAGCTCCCCAATTGCAAAACTGATGACAGGCCGCCCGAAGTTGCAGTACATAGGCAAAACGAAGGTAATCGGACAGGGGAATGGGACTGCCATGACCCAGTAGCTCTATCGGGATAGTTGCCGTTGCCATCCCAGTAAAGCCGTTGGGGTCTCTCTGGAACGGCAGGAATCATTACACCCGGAGGAGAGCTATCTTGAGAATTACAATATCTGTAACCCTCTCAATTTGTGACATTTGTCAAGTTCACGCCGCTAGTCAGTCTTAGTGGTGTGACTGCAGATTCTCTGAACGACGACCCTGGCCTACTAAGTGCCGGCCGTGGTTTCTCGTTTAGTGAGTGTAAGGTGTAGTTATGAGATTCAGCCATAAGGGATCATGTGCGCCCTCCGGCGCCGCGGCCTCCCGCGTGTACTAGGGAATACCGACTTAGAGTATTGATGTGGAATGTGAGTGATTTGCTCTTTGGTGCCGGCCGTGAATCATCCGGTCCCAGCAGCAAGTCTCTTAGACGTCAGTGTGGTGATTCTGACTGATCGCCGCACTTGAACTGTTTACAGTGTTTAACTCTCCCAATGTCTATAACATTAAGAGTTCTATCGAGAGGAGGCCCACATTACTAAGGACGGCAAGGTCTCTCTGGGGTTGCCGAAATGACCCTACCGTTGCCGTTGATAGGGCTATCTCGATGACCCAGTACCGTCAGGGTAAGGGGACAGGCTAATGGAAGCAAAACGGATACATGACGTTGAAGCCCGCCGGACAGTAGTCAAAACGTTAACCCCTCGAAATCAGACTTAATCAAATGGTACGTTACAGCCGAGTCTGTTCGATGTGTATATGGGCATTCTGACGTATACCTTTCTCTAAAGGCTGAACGTAGATTGCAGGCATTTCAACTCCGCCTACCGGTTACGACGTGCTGACATTAAGTCGCACTGGAGCGCACTTCACGTACGGTGATCTCTAATTATAAGGGGCTGCCAATACGGGGTGGACAAGCTCCACTGGTATACAGGACGGTCAACCTTTATGCTAGAGTACACTTAGGTAACCCCGACTGCTGCCCAAATGATTGTTACACTTAGGACATTATGGCTTCGCTCACGGACGGTGGTCGGCGACGTTTTGACTCTACGTTTCACCATTCCATACTGTCCCACAAGTCAAAAGAAGAGTATAGTGTAAAATAGAGGCTCTGAGGCATCCTGTGTCCTCTGTCTTAGCGACCTCTTAACCCCGCTTAAGCAGAGGAAATGAACTCGGGACTGACCTTCCCGCAAGCTATCGAAACTGCCAATGGAGTCAACGGATTACGTTGAAAGGGTAGGACGGGCAACCGCCGCCCGGATGCTATTCCTCTGTGCGGTTACTGTTCCGCTCACTGAGCGCTAGCGTGTAGCCTCTAGCCGATTTTTTCATCGTAATTACGACTTCCCTCGGGGATGCGCGAGTTCTGTGGCAGACCCCGGCTAGGAGGGACAGGGATTCCCACCAACGCAAATCGGGGACGTCTTTCCGACACAGTATCACGGGTGAGTGAACAGATATCCGTAAGATTTAACGCCTATGGGCTAGAGGGGATGCGTAGGGGACAATGTTCCGGGTTCAGAGAGGTTTCGGGCTAATGAAACAGAAGTAGGATTGGGAGGTCTATGGCCGATTTTAAACACCCCATGGGGTCCAGAACACATCCTGTAAGGTCACGCGACACTAGAATGTACTGGGCGGATGGGTAACTAGGCGGTACAGGTTAACGACGACGCCTCTGGCAACCCGTTAAGTAGCTAACTATAGCTGGTTTACGTCAGGTGCTACCGTCGGACCGTAAGCGATAATGCGATCCCCGCGGAGAGGTGAGCGCATGTCACGAGTCCAGAGCCAACTTCCAGTCTTCTCTATAGTCCGGGGACACCCTGCATTACGCTGATCGTTAAACCTTCAAAATCAGTTCTATAAGCGAGGGAGTAGCGGAGCAGCTCCAAATACGTACCATGCACAATTCAATCGGCTGACGCCGGCGTATCTTGATGGGGTACTCACAACGCGTCTTACCGATCGATTCGGGCATATAGTGTATGCCATGACGGATCGTTAGATGCTGCAATAAGTCGGGCCCATCAGTCCGCTTAAGGCCCAAAAACTCTATCCGACCCTCCTTGTCAGTGTGTGGGTTGTGGGCACCTATACATCTGTGCCAACGGAACAAACTACTGCGGTTTAACTGACGCAGGTGTGCCCGACGATTCACCTCGCATGTGATGCACCGTCGGTCTGCAAGATACAACCTTTATAAGACTCCCGCAGGGGTAAGGCGACGTACTCGCTCCGTGGGTCAGCTCTCTTTTGTACTTTACGGGAAAGAGTCGGAGCTCAATTAACGACCCGATGGACGTGTCTGTCTCACATGCGACTTTGTTAAGATAATGTCTATGGGGGATTTGTGTCGCACGACAGCTTTCCTTTCATCTCGTAAGGGTTCACCTCGCAAGAGTACTCAGGCCGATGAGAGCGTATCGAGTGATGCACGGCTACGGCACGGCTTACCCGCAAAGGGGTCACGTGGTACAACTGCACTTAATTACAAAACACATCCAAAAGGAGAAATATCGTCGAATGGATGGGTAACTCAGTTGCTTACCACAATCCGATCGCAGTTTAGCTGGTGTTTCTGTATTGCTTTGAAAGTTGCAGTATACGTACTACCAGTTTTACGTCCTAACGTGAGTCCCGGGTTGGGCTATCGTCTGCTAGAAATATCGTCCTCACAGAAGAGCGAAAATTCGTGCCTGGAACAGAGGCGATATCTTAACTAAGTTTGCTTGCACTGCGGTAAGGCACGTCTGTTCGTAGACCTTGATTATCGAGGCGTAGCTGCTGAGTCCCACCGATTGGGATCAATGTGAGAACCCCCACTCACCTGGTAAACTAAGATGACTTCCACGTCCGTCCGATCATTTGCCGAGGACGCGTACTCCAGTAAGGTGGATTCCACCTCACGGATGTTCCACATCCCATTACCCACTATAATCTCTTGACCTTGATGTGACCGTCTCAATCATGCGGGTGACGCTGTCCGATCCTACCACGAGCTGACCTCACGCGTGCCCCCCGGCCTAGAAACAGAAAACGTTGTGCGAAATGTTGGATCCCAAGTGCGTGCTACGCCTTACGCCGCGCTGCGCCGTGCTTCTGGTCTACTGTCTACGTCATTTGGCGAGAAACTGATACAGGTACGTGTTGGGAATACCACGTCCATTTTTGAATTGTGCGAAGCGAGACCCGAAAATCGGGTACCCCTATTGCTAATCACTACGATTTACAAAAGAGGTAGTCAACTCTTTGACTAGGTTGGCGACGGTACATAACTCTCCGCTCGGACAATAGGTTCGCAAAGGCCCAGACAATGCATGTGGTCCGCTCCGTTTGGGTCTGTGTCTACGGGGGCAGCTCTAAACCCAGTGTGTTCAAAACATTCTTCTACTAGCCCCCTCCAGCCGCCCCGCATTTGGTCATGATCCAGACATTCACGTATTGGCGTTAGCCAGGGAGAAAGTCGCGTAATTATGCGCAGAAAGGGAAGCGTCCGGCGTCTCCCAGCATCAAGATAGCGGATCAGACGGGATGGACTAACCTAATGTTATGCAAGCGTTCGTAGTCGACAAGGTCATAATGTCACTTACTAAGCTTCACCATGTTTGGCCTGGTACTCCAAACGTCATCTCTCGCGATCCTTCTTCGAGCAAGCACTGGTCCTTGCTCTTATATTGCTCGATGTCGTCTTATAATCGCTCCAGAAGACTGGGAGATCTATTTCCCATACTACACATAACAGCACGCGATAATCTGTAAGCTGTCTTTTACTGCCGCTAGTAGTGGTGGCTGTACTGGTCGCCTGCTGAAGGTACGGTCCAAGGTATTAACCACAGCGACTGATTTAATCGCGCCGTTTGATATCGTATATCTCAGTTCTCACACCTGGTAGTGAAAATCGACAACCATTGTTGTCGTCGGCGTAGGGTCACCCCCCTAATTTACGACCGCTGTATGATGGCGCATGCGGAGCTTGCCTTATTTATCAATGAGCTAGGGATTCTCTTCTTAGTCATCGCCGTTATCCAAAAGAACCTACATCGTTCCGCCGGCCATTAGCCCCCCGTAAGCATAGGAAAGTAATTTGATCAGAAAGATCGTACTTGGGTATAGCATGATACGACCAGCAGTGTGTAAAGAATCGCTCTCAGACACTCTGGGGCGCAAGCTAATCCCAGTCCTGCTGAGATACAAGGAACTTAGGCGTATTTTCGATAGAGGTGGTTATCCATCTATCGCCATGCCGACTATGTCACTCGGGGTAGGGTTACACCGTACGTAGCTACACTTTGGGGGCAAGCCGCGACGTGCGGAGAATGTATTAGATGGATTGGTCGCTCGGATAATGGACTATACCACCCGACCACTTAATGTATTGCGGCTTCCTGAAGCAACAATAGCAGAGCGGCTGCGACATGGCTCGAGTTCCAGTTGAATCGTCCCCTCCACCTCAGGACCGTGCGGACCGCGAGTAATAGCCTCAAACGGTTGCGATGGGCCTCCATTATCTCACAAATTTTATTTAAGACGTGTGGGCCGCAGCAAGGTGGAAGCTCTCTACAGAGCAAAGGCTGTTTATTGGAGCCAGCACATACTCCTTTTGTCCCGCTCTTGCTGTTACGCCGGAAAGATAAATTGACATCGTATGTTCTTGGCTTTAACCGTGGTTACCGGTACCAGGGAAACGGGATTTGAAGAAGTCTATTCGAGCATTAGCTATGCGTCCTTCTTCAGACATGGCTGTATTAGTCAGGTCTGTCAATACATGGCCCGCCCTCGAACGGGTGGCACGGTATCCCAGGAACACCAGCACGGAGAAGAGGTATTTACTAATAATTCAGTACCAGTAAAGTCGTTACAGTCGAGTAATTCGAGCAACTAATTTATGCATCTTAAGGCCCATTTGGTAGGGCAACTTTGCTAAATGTCCGTAGACCAAAATGTCGCAGGGACCTTGTTTCTACGTTCACCACGTTACTAAAGCTCGCGATCTTGTAATACCAAATCCGGATTATAGGTTAATGGTGACGACTAGCTGGCCGAAGAGGGGCCAGTCCGTTTAGGGCAAAGCAGCGATGAATTACGGCACAAACAGTTACACTATGGTAATTCGATCATTATTTCCCGCAATTGCGGGTCCGAGATACGTGGTTACTAGGCCACCTGGCTAATACTGGACAGATAACTACCAAAGATACAAAACCAATGCGCAGACCGTAGAGTTGTCCGTAACCAATGACCCGCGTATGCGAGGATGAATCCCCAGCGTATAAAGTTCGTGATGAAGCGACGCCGTGTTGATT')"
      ]
     },
     "execution_count": 34,
     "metadata": {},
     "output_type": "execute_result"
    }
   ],
   "source": [
    "sequitur = Sequitur(reads,assemble=True)\n",
    "sequitur.sequence,sequence"
   ]
  },
  {
   "attachments": {},
   "cell_type": "markdown",
   "metadata": {},
   "source": [
    "# DeBruijn Graph"
   ]
  },
  {
   "cell_type": "code",
   "execution_count": 14,
   "metadata": {},
   "outputs": [],
   "source": [
    "# ! pip install networkx\n",
    "import networkx as nx"
   ]
  },
  {
   "cell_type": "code",
   "execution_count": 15,
   "metadata": {},
   "outputs": [],
   "source": [
    "def construct_debruijn_graph(reads,k=3):\n",
    "    import networkx as nx\n",
    "    \n",
    "    G = nx.MultiDiGraph()\n",
    "    for read in reads:\n",
    "        for i in range(len(read)-k+1):\n",
    "            G.add_edge(read[i:i+k-1],read[i+1:i+k])\n",
    "    return G\n",
    "\n",
    "def all_eulerian_paths_of(G):\n",
    "    paths = []\n",
    "    g = nx.DiGraph()\n",
    "    while len(list(nx.selfloop_edges(G))):\n",
    "        g.add_edge(list(nx.selfloop_edges(G))[0][0],list(nx.selfloop_edges(G))[0][1])\n",
    "        G.remove_edges_from(g.edges)\n",
    "        paths += [g.copy()]\n",
    "        g.clear()\n",
    "    n = min(i[1] for i in G.in_degree())\n",
    "    while n <= max(i[1] for i in G.in_degree()):\n",
    "        if not len(g): \n",
    "            if len(nx.subgraph_view(G,filter_node=lambda node: G.in_degree(node)==n)): \n",
    "                if len(G.in_edges(nx.subgraph_view(G,filter_node=lambda node: G.in_degree(node)==n).nodes())): \n",
    "                    edge = list(G.in_edges(nx.subgraph_view(G,filter_node=lambda node: G.in_degree(node)==n).nodes()))[0]\n",
    "                    if len(set(G.in_edges(nx.subgraph_view(G,filter_node=lambda node: G.in_degree(node)==n).nodes())).intersection(G.in_edges(edge[0]))): \n",
    "                        edge = list(set(G.in_edges(nx.subgraph_view(G,filter_node=lambda node: G.in_degree(node)==n).nodes())).intersection(G.in_edges(edge[0])))[0]\n",
    "                else: edge = list(G.out_edges(nx.subgraph_view(G,filter_node=lambda node: G.in_degree(node)==n).nodes()))[0]\n",
    "            else: \n",
    "                n+=1\n",
    "                continue\n",
    "        else: edge = list(G.out_edges([edge[1]]))[0]\n",
    "        g.add_edge(edge[0],edge[1])\n",
    "        if G.out_degree(edge[1]) != 1:\n",
    "            G.remove_edges_from(g.edges)\n",
    "            paths += [g.copy()]\n",
    "            g.clear()\n",
    "            if not len(G.edges): break\n",
    "            n = min(i[1] for i in nx.subgraph_view(G,filter_node=lambda node: G.out_degree(node) > 0).in_degree())\n",
    "    return paths\n",
    "\n",
    "def assemble(G):\n",
    "    contigs = []\n",
    "    for g in G:\n",
    "        seq = ''\n",
    "        init = True\n",
    "        for n in nx.eulerian_path(g):\n",
    "            if init: \n",
    "                seq = n[0] + n[1][-1]\n",
    "                init = False\n",
    "                continue\n",
    "            seq += n[1][-1]\n",
    "        contigs += [seq]\n",
    "    return contigs"
   ]
  },
  {
   "cell_type": "code",
   "execution_count": 16,
   "metadata": {},
   "outputs": [
    {
     "name": "stdout",
     "output_type": "stream",
     "text": [
      "| k = 3 | PAR | ['_to_make', 'ke_', 'ke_', 'ht_', 'ht_', 't_b', 't_b', 'r_w', 'r_w', '_wa', '_wa', 'was', 'was', 'as_', 'as_', 'as_', 's_b', 's_b', '_be', '_be', '_be', 'bet', 'bet', 'bet', 'bet', 'ett', 'ett', 'ett', 'ett', 'tty', 'tty', 'tty', 'ty_', 'ty_', 'ty_', 'y_b', 'y_b', 'y_b', '_bo', '_bo', '_bo', 'bou', 'bou', 'bou', 'oug', 'oug', 'oug', 'ugh', 'ugh', 'ugh', 'ght', 'ght', 'ght', 'the', 'the', 'the', 'he_', 'he_', 'he_', 'he_', 'e_b', 'e_b', 'e_b', 'e_t', 'e_t', '_bi', '_bi', '_bi', 'bit', 'bit', 'bit', 'itt', 'itt', 'itt', 'r_t', 'r_t', 'r_t', 'r_t', '_th', '_th', '_th', '_th', 'r_b', 'r_b', 'r_b', 'r_b', 'r_b', '_bu', '_bu', '_bu', '_bu', '_bu', '_bu', 'but', 'but', 'but', 'but', 'but', 'but', 'utt', 'utt', 'utt', 'utt', 'utt', 'utt', 'tte', 'tte', 'tte', 'tte', 'tte', 'tte', 'tte', 'tte', 'tte', 'tte', 'tte', 'tte', 'ter', 'ter', 'ter', 'ter', 'ter', 'ter', 'ter', 'ter', 'ter', 'ter', 'ter', 'ter', 'er_', 'er_', 'er_', 'er_', 'er_', 'er_', 'er_', 'er_', 'er_', 'er_', 'er_']\n",
      "| k = 4 | PAR | ['r_to_make_', 'ke_t', 'ke_t', 'e_th', 'e_th', 'etty', 'etty', 'tty_', 'tty_', 'tty_', 'ty_b', 'ty_b', 'ty_b', 'y_bo', 'y_bo', 'y_bo', '_bou', '_bou', '_bou', 'boug', 'boug', 'boug', 'ough', 'ough', 'ough', 'ught', 'ught', 'ught', 'ght_', 'ght_', 'ht_b', 'ht_b', 't_bu', 't_be', 'r_th', 'r_th', '_the', '_the', '_the', 'the_', 'the_', 'the_', 'he_b', 'he_b', 'he_b', 'e_bu', 'e_bu', 'e_bi', 'er_w', 'er_w', 'r_wa', 'r_wa', '_was', '_was', 'was_', 'was_', 'as_b', 'as_b', 's_bi', 's_bi', '_bit', '_bit', '_bit', 'bitt', 'bitt', 'bitt', 'itte', 'itte', 'itte', 'r_be', 'r_be', '_bet', '_bet', '_bet', 'bett', 'bett', 'bett', 'bett', 'ette', 'ette', 'r_bu', 'r_bu', 'r_bu', '_but', '_but', '_but', '_but', '_but', '_but', 'butt', 'butt', 'butt', 'butt', 'butt', 'butt', 'utte', 'utte', 'utte', 'utte', 'utte', 'utte', 'tter', 'tter', 'tter', 'tter', 'tter', 'tter', 'tter', 'tter', 'tter', 'tter', 'tter', 'tter', 'ter_', 'ter_', 'ter_', 'ter_', 'ter_', 'ter_', 'ter_', 'ter_', 'ter_', 'ter_', 'ter_', 'er_t', 'er_t', 'er_t', 'er_t', 'er_b', 'er_b', 'er_b', 'er_b']\n",
      "| k = 5 | PAR | ['ht_but', 'was_b', 'as_bi', 'as_bi', 's_bit', 's_bit', 'he_bit', '_bitt', '_bitt', '_bitt', 'bitte', 'bitte', 'bitte', 'itter', 'itter', 'itter', 'ht_bet', 'er_to_make_t', 'ke_th', 'ke_th', 'e_the', 'e_the', 'r_the', '_the_', '_the_', '_the_', 'the_b', 'the_b', 'he_bu', 'he_bu', 'e_but', 'e_but', 'betty', 'betty', 'etty_', 'etty_', 'tty_b', 'tty_b', 'tty_b', 'ty_bo', 'ty_bo', 'ty_bo', 'y_bou', 'y_bou', 'y_bou', '_boug', '_boug', '_boug', 'bough', 'bough', 'bough', 'ought', 'ought', 'ought', 'ught_', 'ught_', 'ght_b', 'ght_b', 'er_th', 'ter_w', 'er_th', 'ter_w', 'er_wa', 'er_wa', 'r_was', 'r_was', '_was_', '_was_', 'er_be', 'er_be', 'r_bet', 'r_bet', '_bett', '_bett', '_bett', 'bette', 'bette', 'etter', 'etter', 'er_bu', 'er_bu', 'r_but', 'r_but', 'r_but', '_butt', '_butt', '_butt', '_butt', '_butt', '_butt', 'butte', 'butte', 'butte', 'butte', 'butte', 'butte', 'utter', 'utter', 'utter', 'utter', 'utter', 'utter', 'tter_', 'tter_', 'tter_', 'tter_', 'tter_', 'tter_', 'tter_', 'tter_', 'tter_', 'tter_', 'tter_', 'ter_t', 'ter_t', 'ter_t', 'ter_t', 'ter_b', 'ter_b', 'ter_b', 'ter_b']\n",
      "| k = 6 | PAR | ['_betty', 'betty_', 'betty_', 'etty_b', 'etty_b', 'tty_bo', 'tty_bo', 'tty_bo', 'ty_bou', 'ty_bou', 'ty_bou', 'y_boug', 'y_boug', 'y_boug', '_bough', '_bough', '_bough', 'bought', 'bought', 'bought', 'ought_', 'ought_', 'ught_b', 'ught_b', 'ght_butt', 'ght_bett', 'er_the_', 'the_bu', 'he_but', 'he_but', 'e_butt', 'e_butt', '_was_bi', 'as_bit', 'as_bit', 's_bitt', 's_bitt', 'he_bitt', '_bitte', '_bitte', '_bitte', 'bitter', 'bitter', 'bitter', 'itter_', 'itter_', 'itter_', 'ter_to_make_th', 'ke_the', 'ke_the', 'e_the_', 'e_the_', '_the_bi', '_the_b', 'ter_th', 'tter_w', 'ter_th', 'tter_w', 'ter_wa', 'ter_wa', 'er_was', 'er_was', 'r_was_', 'r_was_', 'ter_be', 'ter_be', 'er_bet', 'er_bet', 'r_bett', 'r_bett', '_bette', '_bette', 'better_', 'better', 'ter_bu', 'ter_bu', 'er_but', 'er_but', 'r_butt', 'r_butt', 'r_butt', '_butte', '_butte', '_butte', '_butte', '_butte', '_butte', 'butter', 'butter', 'butter', 'butter', 'butter', 'butter', 'utter_', 'utter_', 'utter_', 'utter_', 'utter_', 'utter_', 'tter_t', 'tter_t', 'tter_t', 'tter_t', 'tter_b', 'tter_b', 'tter_b', 'tter_b']\n",
      "| k = 7 | PAR | ['r_betty_', 'betty_b', 'betty_b', 'etty_bo', 'etty_bo', 'tty_bou', 'tty_bou', 'tty_bou', 'ty_boug', 'ty_boug', 'ty_boug', 'y_bough', 'y_bough', 'y_bough', '_bought', '_bought', '_bought', 'bought_', 'bought_', 'ought_b', 'ought_b', 'ught_butte', 'ught_bette', 'ter_the_b', 'e_the_b', '_the_but', '_the_bitte', 'he_butt', 'he_butt', 'e_butte', 'e_butte', 'r_was_bit', 'as_bitt', 'as_bitt', 's_bitte', 's_bitte', '_bitter', '_bitter', '_bitter', 'bitter_', 'bitter_', 'bitter_', 'itter_b', 'itter_b', 'r_bette', '_better_b', '_better', 'utter_b', 'tter_be', 'tter_be', 'tter_bu', 'tter_bu', 'ter_bet', 'ter_bet', 'er_bett', 'er_bett', 'ter_but', 'ter_but', 'er_butt', 'er_butt', 'r_butte', 'r_butte', 'r_butte', '_butter', '_butter', '_butter', '_butter', '_butter', '_butter', 'butter_', 'butter_', 'butter_', 'butter_', 'butter_', 'butter_', 'utter_t', 'utter_t', 'utter_t', 'utter_w', 'utter_w', 'tter_th', 'tter_th', 'tter_to_make_the', 'tter_wa', 'tter_wa', 'ter_was', 'ter_was', 'er_was_', 'er_was_', 'ke_the_', 'ke_the_']\n",
      "| k = 8 | PAR | ['r_betty_b', 'betty_bo', 'betty_bo', 'etty_bou', 'etty_bou', 'tty_boug', 'tty_boug', 'tty_boug', 'ty_bough', 'ty_bough', 'ty_bough', 'y_bought', 'y_bought', 'y_bought', '_bought_', '_bought_', 'bought_b', 'bought_b', 'ought_butter', 'ought_better_bu', 'utter_the_butt', 'he_butte', 'he_butte', 'e_butter', 'e_butter', 'er_was_bitt', 'as_bitte', 'as_bitte', 's_bitter', 's_bitter', 'he_bitter', '_bitter_', '_bitter_', '_bitter_', 'bitter_b', 'bitter_b', 'itter_be', 'itter_bu', 'tter_but', 'tter_but', 'ter_butt', 'ter_butt', 'er_butte', 'er_butte', 'r_butter', 'r_butter', 'r_butter', '_butter_', '_butter_', '_butter_', '_butter_', '_butter_', '_butter_', 'butter_to_make_the_bitt', 'butter_t', 'butter_t', 'butter_w', 'butter_w', 'butter_be', 'utter_wa', 'utter_wa', 'tter_was', 'tter_was', 'ter_was_', 'ter_was_', 'tter_bet', 'tter_bet', 'ter_bett', 'ter_bett', 'er_betty', 'er_better']\n",
      "| k = 9 | PAR | ['tter_the_butte', 'he_butter', 'he_butter', 'e_butter_', 'e_butter_', 'ke_the_bitter_', 'r_betty_bo', 'betty_bou', 'betty_bou', 'etty_boug', 'etty_boug', 'tty_bough', 'tty_bough', 'tty_bough', 'ty_bought', 'ty_bought', 'ty_bought', 'y_bought_', 'y_bought_', '_bought_b', '_bought_b', 'bought_butter_', 'bought_better_but', 'butter_th', 'ter_was_bitte', 'as_bitter', 'as_bitter', 's_bitter_', 's_bitter_', '_bitter_b', '_bitter_b', 'bitter_bet', 'bitter_but', 'tter_butt', 'tter_butt', 'ter_butte', 'ter_butte', 'er_butter', 'er_butter', 'r_butter_', 'r_butter_', 'r_butter_', '_butter_to_make_the_', '_butter_t', '_butter_t', '_butter_w', '_butter_w', '_butter_bet', 'butter_wa', 'butter_wa', 'utter_was', 'utter_was', 'tter_was_', 'tter_was_', 'tter_bett', 'tter_bett', 'ter_betty_', 'ter_better']\n",
      "| k = 10 | PAR | ['tter_the_butter', 'he_butter_', 'he_butter_', 'e_butter_w', 'e_butter_w', '_butter_wa', '_butter_wa', 'butter_was', 'butter_was', 'utter_was_bitter', 'utter_was_', 'as_bitter_b', 'as_bitter_', 'ke_the_bitter_b', '_bitter_bett', '_bitter_butt', 'r_betty_bou', 'betty_boug', 'betty_boug', 'etty_bough', 'etty_bough', 'tty_bought', 'tty_bought', 'tty_bought', 'ty_bought_', 'ty_bought_', 'y_bought_b', 'y_bought_b', '_bought_butter_t', '_bought_better_butt', 'tter_butte', 'tter_butte', 'ter_butter', 'ter_butter', 'er_butter_', 'er_butter_', 'r_butter_t', 'r_butter_t', '_butter_th', '_butter_to_make_the_', 'r_butter_bett', 'tter_betty_b', 'tter_better']\n",
      "| k = 11 | PAR | ['tter_the_butter_', 'he_butter_w', 'he_butter_w', 'e_butter_wa', 'e_butter_wa', '_butter_was', '_butter_was', 'butter_was_bitter_betty_boug', 'betty_bough', 'betty_bough', 'etty_bought', 'etty_bought', 'tty_bought_', 'tty_bought_', 'ty_bought_b', 'ty_bought_b', 'y_bought_butter_th', 'y_bought_better_butte', 'butter_was_', 'ke_the_bitter_butte', 'tter_butter', 'tter_butter', 'ter_butter_', 'ter_butter_', 'er_butter_to_make_the_', 'er_butter_better']\n",
      "| k = 12 | PAR | ['tter_the_butter_w', 'he_butter_wa', 'he_butter_wa', 'e_butter_was', 'e_butter_was', '_butter_was_bitter_', '_butter_was_', 'as_bitter_betty_bough', 'betty_bought_', 'betty_bought', 'tty_bought_b', 'tty_bought_b', 'ty_bought_butter_th', 'ty_bought_better_butter', 'r_butter_to_make_the_', 'ke_the_bitter_butter', 'tter_butter_', 'tter_butter_', 'ter_butter_t', 'ter_butter_better']\n",
      "| k = 13 | PAR | ['tter_the_butter_wa', 'he_butter_was', 'he_butter_was', 'e_butter_was_bitter_', 'e_butter_was_', 'as_bitter_betty_bought_b', 'tty_bought_butter_th', 'tty_bought_better_butter_', 'r_butter_to_make_the_', 'ke_the_bitter_butter_', 'tter_butter_t', 'tter_butter_better']\n",
      "| k = 14 | PAR | ['betty_bought_butter_th', 'tter_the_butter_was', 'he_butter_was_bitter_', 'he_butter_was_', 'as_bitter_betty_bought', 'tty_bought_better_butter_t', 'r_butter_to_make_the_', 'ke_the_bitter_butter_better']\n",
      "| k = 15 | PAR | ['betty_bought_butter_th', 'tter_the_butter_was_bitter_', 'as_bitter_betty_bought', 'tty_bought_better_butter_t', 'r_butter_to_make_the_', 'ke_the_bitter_butter_better']\n",
      "| k = 16 | PAR | ['betty_bought_butter_th', 'tter_the_butter_was_', 'he_butter_was_bitter_', 'as_bitter_betty_bought', 'tty_bought_better_butter_t', 'r_butter_to_make_the_', 'ke_the_bitter_butter_better']\n",
      "| k = 17 | PAR | ['betty_bought_butter_th', 'tter_the_butter_was_', 'he_butter_was_bitter_', 'as_bitter_betty_bought', 'tty_bought_better_butter_t', 'r_butter_to_make_the_', 'ke_the_bitter_butter_better']\n",
      "| k = 18 | PAR | ['betty_bought_butter_th', 'tter_the_butter_was_', 'he_butter_was_bitter_', 'as_bitter_betty_bought', 'tty_bought_better_butter_t', 'r_butter_to_make_the_', 'ke_the_bitter_butter_better']\n",
      "| k = 19 | PAR | ['betty_bought_butter_th', 'tter_the_butter_was_', 'he_butter_was_bitter_', 'as_bitter_betty_bought', 'tty_bought_better_butter_t', 'r_butter_to_make_the_', 'ke_the_bitter_butter_better']\n"
     ]
    }
   ],
   "source": [
    "sequence = 'betty_bought_butter_the_butter_was_bitter_betty_bought_better_butter_to_make_the_bitter_butter_better'\n",
    "reads = ['betty_bought_butter_th',\n",
    "                        'tter_the_butter_was_',\n",
    "                              'he_butter_was_bitter_',\n",
    "                                         'as_bitter_betty_bought',\n",
    "                                                     'tty_bought_better_butter_t',\n",
    "                                                                     'r_butter_to_make_the_',\n",
    "                                                                                   'ke_the_bitter_butter_better']\n",
    "for k in range(3,min(len(read) for read in reads)):\n",
    "      contigs = assemble(all_eulerian_paths_of(construct_debruijn_graph(reads,k)))\n",
    "      if len(contigs) == 1 and contigs[0] == sequence: print(\"| k = \" + str(k) + \" | SUC | \"+contigs[0] )\n",
    "      elif all(seq in sequence for seq in contigs): print(\"| k = \" + str(k) + \" | PAR | \" + str(contigs))\n",
    "      else: print(\"| k = \" + str(k) + \" | FAI | \" + str(contigs) )"
   ]
  },
  {
   "cell_type": "code",
   "execution_count": 17,
   "metadata": {},
   "outputs": [
    {
     "name": "stdout",
     "output_type": "stream",
     "text": [
      "| k = 3 | PAR | ['you s', ' sa', ' sa', 'say', 'say', 'ay ', 'ay ', 'y h', 'y h', 'o h', ' he', ' he', ' he', 'hel', 'hel', 'hel', 'bel', 'ell', 'ell', 'ell', 'llo', 'llo', 'lo ', 'lo ', 'low', 'ow ', 'ow ', 'w g', 'w g', ' go', ' go', 'go ', 'go ', ' to ', 'o w', 'o w', 'o t', 'o t', ' world', ' wo', 'ld,', 'ld,', 'd, ', 'd, ', ', i', ', i', ' i ', ' i ', 'i b', 'i b', ' be', ' be']\n",
      "| k = 4 | PAR | ['you sa', ' say', ' say', 'say ', 'say ', 'ay h', 'ay h', 'y he', 'y he', 'to he', ' hel', ' hel', ' hel', 'hell', 'hell', ' bell', 'ello', 'ello', 'llo ', 'llow ', 'lo w', 'lo w', 'o world,', 'o wo', 'ld, ', 'ld, ', 'd, i', 'd, i', ', i ', ', i ', ' i b', ' i b', 'i be', 'i be', 'ow g', 'ow g', 'w go', 'w go', ' go ', ' go ', 'go to ', 'go t']\n",
      "| k = 5 | PAR | ['you say', ' say ', ' say ', 'say h', 'say h', 'ay he', 'ay he', 'y hel', 'y hel', 'to hel', ' hello', ' hell', ' bello', 'ello w', 'ellow g', 'lo world, ', 'lo wo', 'ld, i', 'ld, i', 'd, i ', 'd, i ', ', i b', ', i b', ' i bel', ' i be', 'ow go', 'ow go', 'w go ', 'w go ', ' go to h', ' go t']\n",
      "| k = 6 | PAR | ['you say ', ' say h', ' say h', 'say he', 'say he', 'ay hello world, i', 'ay hel', 'ld, i ', 'ld, i ', 'd, i b', 'd, i b', ', i bellow go', ', i be', 'ow go ', 'ow go ', 'w go to hell', 'w go t']\n",
      "| k = 7 | PAR | ['you say h', ' say he', ' say he', 'say hello wo', 'say hel', 'lo world, i ', 'ld, i b', 'ld, i b', 'd, i bellow go ', 'd, i be', 'ow go to hell', 'ow go t']\n",
      "| k = 8 | PAR | ['you say he', ' say hello wo', ' say hel', 'lo world, i b', 'ld, i bellow go to hell', 'ld, i be']\n",
      "| k = 9 | PAR | ['you say hello wo', 'lo world, i bellow go t', 'ow go to hell']\n",
      "| k = 10 | PAR | ['you say hel', ' say hello wo', 'lo world, i be', 'ld, i bellow go t', 'ow go to hell']\n"
     ]
    }
   ],
   "source": [
    "sequence = 'you say hello world, i bellow go to hell'\n",
    "reads = ['you say hel',\n",
    "            ' say hello wo',\n",
    "                    'lo world, i be',\n",
    "                          'ld, i bellow go t',\n",
    "                                    'ow go to hell']\n",
    "for k in range(3,min(len(read) for read in reads)):\n",
    "      contigs = assemble(all_eulerian_paths_of(construct_debruijn_graph(reads,k)))\n",
    "      if len(contigs) == 1 and contigs[0] == sequence: print(\"| k = \" + str(k) + \" | SUC | \"+contigs[0] )\n",
    "      elif all(seq in sequence for seq in contigs): print(\"| k = \" + str(k) + \" | PAR | \" + str(contigs))\n",
    "      else: print(\"| k = \" + str(k) + \" | FAI | \" + str(contigs) )"
   ]
  },
  {
   "cell_type": "code",
   "execution_count": 18,
   "metadata": {},
   "outputs": [
    {
     "name": "stdout",
     "output_type": "stream",
     "text": [
      "| k = 3 | PAR | ['_on_the', 'shore', 'sea', 'sea', 'ea_', 'ea_', 'ea_', 'ea_', 'a_s', 'a_s', 'a_s', 'a_s', '_sh', '_sh', '_sh', 'she', 'she', 'she', 'she', 'he_', 'he_', 'he_', 'hel', 'hel', 'hel', 'e_s', 'e_s', 'e_s', 'sel', 'ell', 'ell', 'ell', 'lls', 'lls', 'lls', 'lls', 'ls_', 'ls_', 'ls_', 'ls_', 's_s', 's_s', '_se', '_se', '_se', 's_o', 's_o']\n",
      "| k = 4 | PAR | ['_sell', 's_on_the_', 'she_', 'he_s', 'he_s', 'he_s', 'e_se', 'e_se', 's_se', '_sea', '_sea', 'sea_', 'sea_', 'ea_s', 'ea_s', 'ea_s', 'ea_s', 'a_sh', 'a_sh', 'a_sh', '_she', '_she', 'shel', 'shel', 'shel', '_shore', 'hell', 'hell', 'ells', 'ells', 'ells', 'lls_', 'lls_', 'lls_', 'lls_', 'ls_s', 'ls_s', 'ls_o', 'ls_o']\n",
      "| k = 5 | PAR | ['she_s', '_the_s', 'he_se', 'he_se', 'e_sells', 'e_sea', 'ls_sea', '_sea_', '_sea_', 'sea_s', 'sea_s', 'ea_sh', 'ea_sh', 'ea_sh', 'a_she', 'a_she', 'a_shore', '_shel', '_shel', 'shell', 'shell', 'hells', 'hells', 'ells_', 'ells_', 'ells_', 'lls_s', 'lls_s', 'lls_on_the', 'lls_o']\n",
      "| k = 6 | PAR | ['she_se', 'he_sells_', 'he_sea_', 'ells_sea_', '_sea_sh', '_sea_s', 'ea_she', 'ea_she', 'ea_shore', 'a_shell', 'a_shel', 'shells', 'shells', 'hells_', 'hells_', 'ells_on_the_s', 'ells_o']\n",
      "| k = 7 | PAR | ['she_sells_s', 'lls_sea_she', 'ea_shells', 'ea_shel', 'shells_', 'shells_', 'hells_on_the_s', 'hells_o', 'he_sea_s', 'ea_shore']\n"
     ]
    }
   ],
   "source": [
    "sequence = 'she_sells_sea_shells_on_the_sea_shore'\n",
    "reads = ['she_sells_s',\n",
    "               'lls_sea_shel',\n",
    "                    'ea_shells_o',\n",
    "                       'shells_on_the_s',\n",
    "                                  'he_sea_s',\n",
    "                                      'ea_shore']\n",
    "for k in range(3,min(len(read) for read in reads)):\n",
    "      contigs = assemble(all_eulerian_paths_of(construct_debruijn_graph(reads,k)))\n",
    "      if len(contigs) == 1 and contigs[0] == sequence: print(\"| k = \" + str(k) + \" | SUC | \"+contigs[0])\n",
    "      elif all(seq in sequence for seq in contigs): print(\"| k = \" + str(k) + \" | PAR | \" + str(contigs))\n",
    "      else: print(\"| k = \" + str(k) + \" | FAI | \" + str(contigs))"
   ]
  },
  {
   "cell_type": "code",
   "execution_count": 19,
   "metadata": {},
   "outputs": [
    {
     "name": "stdout",
     "output_type": "stream",
     "text": [
      "| k = 3 | PAR | ['TGC', 'GCC', 'GCC', 'CCG', 'CCG', 'ACG', 'CGT', 'CGT', 'CGA', 'GTA', 'GTA', 'GTA', 'TAT', 'TAT', 'TAT', 'ATG', 'ATG', 'ATG', 'ATG', 'TGG', 'TGG', 'GGA', 'GGA', 'GAC', 'GAC', 'GAC', 'AAC', 'ACA', 'ACA', 'ACT', 'CAA', 'CAA']\n",
      "| k = 4 | PAR | ['ATGCC', 'GCCG', 'GCCG', 'CCGT', 'CCGT', 'CGTA', 'CGTA', 'GTAT', 'GTAT', 'GTAT', 'TATG', 'TATG', 'TATG', 'ATGG', 'ATGG', 'TGGAC', 'TGGA', 'ACGAC', 'GACA', 'GACA', 'GACT', 'ACAACG', 'ACAA']\n",
      "| k = 5 | PAR | ['ATGCCG', 'GCCGT', 'GCCGT', 'CCGTA', 'CCGTA', 'CGTAT', 'CGTAT', 'GTATG', 'GTATG', 'GTATG', 'TATGG', 'TATGG', 'ATGGACA', 'ATGGA', 'GACAACGACT', 'GACAA']\n",
      "| k = 6 | PAR | ['ATGCCGT', 'GCCGTA', 'GCCGTA', 'CCGTAT', 'CCGTAT', 'CGTATG', 'CGTATG', 'GTATGG', 'GTATGG', 'TATGGACAACGACT', 'TATGGA']\n",
      "| k = 7 | PAR | ['ATGCCGTA', 'GCCGTAT', 'GCCGTAT', 'CCGTATGG', 'CCGTATG', 'GTATGGACAA', 'GTATGGA', 'GACAACGACT']\n",
      "| k = 8 | PAR | ['ATGCCGTAT', 'GCCGTATGGACAA', 'GCCGTATG', 'GACAACGACT']\n",
      "| k = 9 | PAR | ['ATGCCGTATGGA', 'GTATGGACAA', 'GACAACGACT']\n"
     ]
    }
   ],
   "source": [
    "sequence = 'ATGCCGTATGGACAACGACT'\n",
    "reads = ['ATGCCGTATG','GCCGTATGGA','GTATGGACAA','GACAACGACT']\n",
    "for k in range(3,min(len(read) for read in reads)):\n",
    "      contigs = assemble(all_eulerian_paths_of(construct_debruijn_graph(reads,k)))\n",
    "      if len(contigs) == 1 and contigs[0] == sequence: print(\"| k = \" + str(k) + \" | SUC | \"+contigs[0])\n",
    "      elif all(seq in sequence for seq in contigs): print(\"| k = \" + str(k) + \" | PAR | \" + str(contigs))\n",
    "      else: print(\"| k = \" + str(k) + \" | FAI | \" + str(contigs))"
   ]
  },
  {
   "cell_type": "code",
   "execution_count": 106,
   "metadata": {},
   "outputs": [],
   "source": [
    "sequence = generate_genome_sequence(10000,seed=seed)\n",
    "reads = generate_reads(sequence,250,500,100,180,seed=seed)\n",
    "# for k in range(3,min(len(read) for read in reads)):\n",
    "k = 183\n",
    "contigs = assemble(all_eulerian_paths_of(construct_debruijn_graph(reads,k)))\n",
    "# if len(contigs) == 1 and contigs[0] == sequence: print(\"| k = \" + str(k) + \" | SUC | \"+contigs[0])\n",
    "# elif all(seq in sequence for seq in contigs): print(\"| k = \" + str(k) + \" | PAR | \" + str(contigs))\n",
    "# else: print(\"| k = \" + str(k) + \" | FAI | \" + str(contigs))"
   ]
  },
  {
   "cell_type": "code",
   "execution_count": 107,
   "metadata": {},
   "outputs": [
    {
     "data": {
      "text/plain": [
       "(39, 39)"
      ]
     },
     "execution_count": 107,
     "metadata": {},
     "output_type": "execute_result"
    }
   ],
   "source": [
    "len(reads),len(contigs)"
   ]
  },
  {
   "cell_type": "code",
   "execution_count": 108,
   "metadata": {},
   "outputs": [
    {
     "data": {
      "text/plain": [
       "True"
      ]
     },
     "execution_count": 108,
     "metadata": {},
     "output_type": "execute_result"
    }
   ],
   "source": [
    "all(r==c for r,c in zip(reads,contigs))"
   ]
  },
  {
   "cell_type": "code",
   "execution_count": 9,
   "metadata": {},
   "outputs": [],
   "source": [
    "#! pip install Bio\n",
    "from Bio import SeqIO, Seq"
   ]
  },
  {
   "cell_type": "code",
   "execution_count": 10,
   "metadata": {},
   "outputs": [],
   "source": [
    "for record in SeqIO.parse(\"data/Raphanus sativus_NC_018551.1.fasta\",'fasta'):\n",
    "    sequence = record.seq\n",
    "    # print(record)\n",
    "    # break\n",
    "reads = generate_reads(sequence,250,500,50,100,seed=0)   "
   ]
  },
  {
   "cell_type": "code",
   "execution_count": 31,
   "metadata": {},
   "outputs": [],
   "source": [
    "sequitur = Sequitur(reads,assemble=True,biphasic=False)\n",
    "sequitur.sequence,sequence"
   ]
  },
  {
   "cell_type": "code",
   "execution_count": null,
   "metadata": {},
   "outputs": [],
   "source": []
  }
 ],
 "metadata": {
  "kernelspec": {
   "display_name": "Python 3",
   "language": "python",
   "name": "python3"
  },
  "language_info": {
   "codemirror_mode": {
    "name": "ipython",
    "version": 3
   },
   "file_extension": ".py",
   "mimetype": "text/x-python",
   "name": "python",
   "nbconvert_exporter": "python",
   "pygments_lexer": "ipython3",
   "version": "3.10.6"
  },
  "orig_nbformat": 4,
  "vscode": {
   "interpreter": {
    "hash": "38731f125b301d8f0df7c54051f2a9a4c898c9398d16ef376d9fb7d661d33405"
   }
  }
 },
 "nbformat": 4,
 "nbformat_minor": 2
}
