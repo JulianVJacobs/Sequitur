{
 "cells": [
  {
   "cell_type": "code",
   "execution_count": 1,
   "metadata": {},
   "outputs": [],
   "source": [
    "class Leaf:\n",
    "    def __init__(self,left,right='$'):\n",
    "        if len(left) == 0:\n",
    "            self.left = '$'\n",
    "            self.right = ''\n",
    "        else:\n",
    "            self.left = left\n",
    "            self.right = right\n",
    "    \n",
    "    def __repr__(self): return '(' + repr(self.left) + ',' + repr(self.right) + ')'\n",
    "\n",
    "    def __eq__(self,other): return self[0] == other[0]\n",
    "\n",
    "    def __hash__(self): return hash(self[0])\n",
    "\n",
    "    def __getitem__(self,index): return self.left[index]\n",
    "\n",
    "    def __len__(self):\n",
    "        if self.right == '$': return len(self.left) \n",
    "        return len(self.left)+len(self.right)\n",
    "    \n",
    "    # def __str_(self): return '\\t' + str(self.left) + ':' + str(self.right) + '\\n'"
   ]
  },
  {
   "cell_type": "code",
   "execution_count": 2,
   "metadata": {},
   "outputs": [],
   "source": [
    "class Branch:\n",
    "    def __init__(self):\n",
    "        self.b = {}\n",
    "\n",
    "    def __repr__(self): \n",
    "        s = ''\n",
    "        for a in self.b.values(): \n",
    "            s += repr(a) \n",
    "        return s\n",
    "\n",
    "    def __str__(self):\n",
    "        s = '' \n",
    "        for i in range(len(list(self.b.values()))-1):s+=str(list(self.b.values())[i])+'\\n'\n",
    "        return s+str(list(self.b.values())[-1])\n",
    "    \n",
    "    def __getitem__(self,index): return self.b[index]\n",
    "    \n",
    "    def __contains__(self,other): return other in self.b\n",
    "\n",
    "    def add(self,leaf):\n",
    "        if leaf in self.b:\n",
    "            if self.b[leaf].left == '$': return\n",
    "            i = 0\n",
    "            left = ''\n",
    "            while i < min(len(leaf.left),len(self.b[leaf].left)) and leaf.left[i] == self.b[leaf][i]: \n",
    "                left += leaf.left[i]\n",
    "                i += 1\n",
    "            if type(self.b[leaf].right) == Branch:\n",
    "                nleaf = Leaf(leaf.left[i:])\n",
    "                if nleaf in self.b[leaf].right: self.b[leaf].right.add(nleaf)\n",
    "            else: \n",
    "                branch = Branch()\n",
    "                branch.add(Leaf(self.b[leaf].left[i:]))\n",
    "                branch.add(Leaf(leaf.left[i:]))\n",
    "                self.b[leaf].right = branch\n",
    "            self.b[leaf].left = left\n",
    "        else: self.b[leaf] = leaf"
   ]
  },
  {
   "cell_type": "code",
   "execution_count": 3,
   "metadata": {},
   "outputs": [],
   "source": [
    "class Bonsai:\n",
    "    def __init__(self):\n",
    "        self.root = Branch()\n",
    "\n",
    "    def add(self,text):\n",
    "        for i in range(len(text)): self.root.sprout(Leaf(self.root,text[i:],'^$'))\n",
    "        # text = ''.join(list(reversed(text)))\n",
    "        # for i in range(len(text)): self.root.sprout(Leaf(self.root,text[i:],0))"
   ]
  },
  {
   "cell_type": "code",
   "execution_count": 7,
   "metadata": {},
   "outputs": [
    {
     "name": "stdout",
     "output_type": "stream",
     "text": [
      "('h',('ello','$')('ollow','$'))\n",
      "('ello',('$','')('w','$'))\n",
      "('l',('lo',('$','')('w',('$','')))('o',('$','')('w',('$',''))))\n",
      "('o',('$','')('llow','$'))\n",
      "('w',('$',''))\n",
      "('bellow','$')\n"
     ]
    }
   ],
   "source": [
    "b = Branch()\n",
    "texts = ['hello','hollow','bellow']\n",
    "for text in texts:\n",
    "    for i in range(len(text)):\n",
    "        b.add(Leaf(text[i:]))\n",
    "print(b)"
   ]
  },
  {
   "cell_type": "code",
   "execution_count": null,
   "metadata": {},
   "outputs": [],
   "source": []
  }
 ],
 "metadata": {
  "kernelspec": {
   "display_name": "Python 3",
   "language": "python",
   "name": "python3"
  },
  "language_info": {
   "codemirror_mode": {
    "name": "ipython",
    "version": 3
   },
   "file_extension": ".py",
   "mimetype": "text/x-python",
   "name": "python",
   "nbconvert_exporter": "python",
   "pygments_lexer": "ipython3",
   "version": "3.9.0"
  },
  "orig_nbformat": 4,
  "vscode": {
   "interpreter": {
    "hash": "38731f125b301d8f0df7c54051f2a9a4c898c9398d16ef376d9fb7d661d33405"
   }
  }
 },
 "nbformat": 4,
 "nbformat_minor": 2
}
