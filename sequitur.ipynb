{
 "cells": [
  {
   "cell_type": "code",
   "execution_count": 2,
   "metadata": {},
   "outputs": [],
   "source": [
    "'''\n",
    "DESCRIPTION \n",
    "    Utility function that chops a sequence into several reads with bounded random lengths that \n",
    "    have a bounded random overlap\n",
    "INPUT\n",
    "    sequence       | a sequence of characters that will be divided into overlapping subsequences\n",
    "    min_subseq_len | the shortest length a subsequence can have\n",
    "    max_subseq_len | the longest length a subsequence can have\n",
    "    min_overlap    | the shortest overlap two subsequences can share\n",
    "    max_overlap    | the longest overlap two subsequences can share\n",
    "    seed           | random seed for the random function for reproducibility\n",
    "OUTPUT\n",
    "    A list of overlapping reads of random bounded size which share a bounded random amount of\n",
    "    overlap\n",
    "'''\n",
    "def generate_reads(sequence,min_subseq_len,max_subseq_len,min_overlap,max_overlap,seed=None):\n",
    "    import random\n",
    "\n",
    "    random.seed(seed)\n",
    "    reads = []\n",
    "    start = 0\n",
    "    end = random.randint(min_subseq_len,max_subseq_len)\n",
    "    reads += [sequence[start:end]]\n",
    "    while end < len(sequence):\n",
    "        start = random.randint(end-max_overlap,end-min_overlap)\n",
    "        if (len(sequence) - start)/max_subseq_len < 2:\n",
    "            if (len(sequence) - start)/max_subseq_len < 1:\n",
    "                end = len(sequence)\n",
    "            else:\n",
    "                a = 0\n",
    "                while (len(sequence) - start)/(min_subseq_len+a) > 2: a+=1\n",
    "                end = random.randint(start+min_subseq_len+a,start+max_subseq_len) \n",
    "        else: end = random.randint(start+min_subseq_len,start+max_subseq_len) \n",
    "        reads += [sequence[start:end]]\n",
    "    return reads\n",
    "\n",
    "'''\n",
    "DESCRIPTION \n",
    "    Utility function that creates a random sequence containing only the letters A, T, G, and C.\n",
    "INPUT\n",
    "    n    | the length of the sequence\n",
    "    seed | random seed for the random function for reproducibility\n",
    "OUTPUT\n",
    "    A random sequence of length n\n",
    "'''\n",
    "def generate_genome_sequence(n,seed=None):\n",
    "    import random\n",
    "    \n",
    "    random.seed(seed)\n",
    "    nucleotides = {1:'A',2:'C',3:'G',4:'T'}\n",
    "    seq = ''\n",
    "    for _ in range(n):\n",
    "        seq += nucleotides[random.randint(1,4)]\n",
    "    return seq"
   ]
  },
  {
   "attachments": {},
   "cell_type": "markdown",
   "metadata": {},
   "source": [
    "# Sequitur"
   ]
  },
  {
   "cell_type": "code",
   "execution_count": 3,
   "metadata": {
    "tags": [
     "TODO: describe",
     "TODO: explain"
    ]
   },
   "outputs": [],
   "source": [
    "'''\n",
    "DESCRIPTION\n",
    "INPUT\n",
    "OUTPUT\n",
    "'''\n",
    "class Stalk:\n",
    "    def __init__(self,stalk):\n",
    "        self.stalk = stalk\n",
    "        if len(self.stalk) == 0: self.stalk = '$'\n",
    "\n",
    "    def __repr__(self): return self.stalk\n",
    "\n",
    "    def __eq__(self,other): return self[0] == other[0]\n",
    "\n",
    "    def __hash__(self): return hash(self[0])\n",
    "\n",
    "    def __getitem__(self,index): return self.stalk[index]\n",
    "\n",
    "    def __len__(self):\n",
    "        if self.stalk == '$' or self.stalk == '^': return 0\n",
    "        return len(self.stalk)\n",
    "    \n",
    "    def __str__(self):\n",
    "        if self.stalk =='$': return ''\n",
    "        else: return self.stalk\n",
    "\n",
    "    '''\n",
    "    DESCRIPTION\n",
    "    INPUT\n",
    "    OUTPUT\n",
    "    '''\n",
    "    def common_substring(self,other):\n",
    "        i = 0\n",
    "        substr = ''\n",
    "        if type(other) == str: other = Stalk(other)\n",
    "        while i < min(len(self),len(other)) and self[i] == other[i]:\n",
    "            substr += self[i]\n",
    "            i += 1\n",
    "        return Stalk(substr), Stalk(self[i:]), Stalk(other[i:])"
   ]
  },
  {
   "cell_type": "code",
   "execution_count": 4,
   "metadata": {
    "tags": [
     "TODO: explain",
     "TODO: describe"
    ]
   },
   "outputs": [],
   "source": [
    "'''\n",
    "DESCRIPTION\n",
    "INPUT\n",
    "OUTPUT\n",
    "'''\n",
    "class Leaf:\n",
    "    def __init__(self,left,right=''):\n",
    "        if len(left) == 0:\n",
    "            self.left = left\n",
    "            self.right = 1\n",
    "        else:\n",
    "            self.left = left\n",
    "            self.right = Leaf(right)\n",
    "    \n",
    "    def __repr__(self): return str(self.right)\n",
    "\n",
    "    def __eq__(self,other): return self[0] == other[0]\n",
    "\n",
    "    def __hash__(self): return hash(self.left)\n",
    "\n",
    "    def __getitem__(self,index): return self.left[index]\n",
    "\n",
    "    def __len__(self):\n",
    "        if self.left == '$': return 0\n",
    "        return len(self.left)\n",
    "    \n",
    "    def __is_shallow__(self): return True\n",
    "\n",
    "    def reads(self): return set()"
   ]
  },
  {
   "cell_type": "code",
   "execution_count": 5,
   "metadata": {
    "tags": [
     "TODO: explain",
     "TODO: describe"
    ]
   },
   "outputs": [],
   "source": [
    "'''\n",
    "DESCRIPTION\n",
    "INPUT\n",
    "OUTPUT\n",
    "    '''\n",
    "class Branch:\n",
    "    def __init__(self):\n",
    "        self.b = {}\n",
    "        self.s = {}\n",
    "\n",
    "    def __repr__(self): return repr(self.b)\n",
    "\n",
    "    def __str__(self):\n",
    "        s = '' \n",
    "        for i in range(len(list(self.b.values()))-1):s+=str(list(self.b.values())[i])+'\\n'\n",
    "        return s+str(list(self.b.values())[-1])\n",
    "    \n",
    "    def __getitem__(self,index):\n",
    "        if type(index) == str: return self.b[Stalk(index)]\n",
    "        return self.b[index]\n",
    "\n",
    "    '''\n",
    "    DESCRIPTION\n",
    "    INPUT\n",
    "    OUTPUT\n",
    "    '''\n",
    "    def __is_shallow__(self):\n",
    "        for a in self.b.values():\n",
    "            if type(a) == Branch: return False\n",
    "        return True\n",
    "\n",
    "    '''\n",
    "    DESCRIPTION\n",
    "    INPUT\n",
    "    OUTPUT\n",
    "    '''\n",
    "    def __traverse__(self,context):\n",
    "        b = self[context[0]]\n",
    "        s = self.s[context[0]]\n",
    "        context = context[len(s[0]):]\n",
    "        while len(context) > 0 and len(b) > 1:\n",
    "            s = b.s[context[0]]\n",
    "            b = b[context[0]]\n",
    "            context = context[len(s[0]):]\n",
    "        return b\n",
    "    \n",
    "    def __setitem__(self,index,value):\n",
    "        if type(index) == str: self.b[Stalk(index)] = value\n",
    "        else: self.b[index] = value\n",
    "\n",
    "    def __contains__(self,other): \n",
    "        if type(other) == str: return Stalk(other) in self.b\n",
    "        return other in self.b\n",
    "\n",
    "    def __len__(self): return len(self.b)\n",
    "\n",
    "    def pop(self,index): return self.b.pop(index)\n",
    "\n",
    "    '''\n",
    "    DESCRIPTION\n",
    "        adds a suffix to the trie\n",
    "    INPUT\n",
    "        stalk | a Stalk() which is a common substring of every read up to this point and beyond\n",
    "        reads | a set of reads which have with the same common substring up to this point\n",
    "    '''\n",
    "    def add(self,stalk,reads):\n",
    "        if stalk in self:\n",
    "            if not len(stalk):\n",
    "                self[stalk].right+=1\n",
    "                self.s[stalk][1].update(reads)\n",
    "                return\n",
    "            if type(self[stalk]) == Leaf:\n",
    "                branch = Branch()\n",
    "                l1 = self.pop(stalk)\n",
    "                stalk_ = list(self.s.pop(stalk))\n",
    "                stalk_[0],l1.left,l2 = stalk_[0].common_substring(stalk)\n",
    "                branch.add(l1.left,stalk_[1].copy())\n",
    "                stalk_[1].update(reads)\n",
    "                branch.add(l2,reads)\n",
    "                stalk_ = tuple(stalk_)\n",
    "                self[stalk_[0]] = branch\n",
    "                self.s[stalk_[0]] = stalk_\n",
    "            else:\n",
    "                stalk_ = list(self.s.pop(stalk))\n",
    "                branch = self.pop(stalk)\n",
    "                stalk_[0],bstalk,stalk = stalk_[0].common_substring(stalk)\n",
    "                if len(bstalk):\n",
    "                    br = Branch()\n",
    "                    br[bstalk] = branch \n",
    "                    br.s[bstalk] = (bstalk,stalk_[1].copy())\n",
    "                    br.add(stalk,reads)\n",
    "                    self[stalk_[0]] = br\n",
    "                else: \n",
    "                    branch.add(stalk,reads)\n",
    "                stalk_[1].update(reads)\n",
    "                stalk_ = tuple(stalk_)\n",
    "                if not len(bstalk): self[stalk_[0]] = branch\n",
    "                self.s[stalk_[0]] = stalk_\n",
    "        else:\n",
    "            if type(stalk) == str: stalk = Stalk(stalk)\n",
    "            self.s[stalk] = (stalk,reads)\n",
    "            self[stalk] = Leaf(stalk)"
   ]
  },
  {
   "cell_type": "code",
   "execution_count": 6,
   "metadata": {
    "tags": [
     "DONE: describe",
     "DONE: explain"
    ]
   },
   "outputs": [],
   "source": [
    "'''\n",
    "DESCRIPTION\n",
    "    an object which constructs a suffix trie out of fragments of a sequence and can traverse \n",
    "    the trie to resconstruct some target sequence\n",
    "INPUT\n",
    "    reads | a list of strings which overlap and are fragments of a longer sequence\n",
    "'''\n",
    "class Sequitur:\n",
    "    def __init__(self,reads,k_min=3,**kwargs):\n",
    "        if \"correct_sequence\" in kwargs: self.correct_sequence = kwargs[\"correct_sequence\"]\n",
    "        self.branch = Branch()\n",
    "        self.reads = self.remove_containments(reads)\n",
    "        self.k_min = k_min\n",
    "        for read in reads:\n",
    "            for i in range(len(read)):\n",
    "                if len(read[i:]) < self.k_min: continue \n",
    "                self.branch.add(Stalk(read[i:]),{read})\n",
    "        if \"len\" in kwargs or (\"assemble\" in kwargs and kwargs[\"assemble\"]): self.phase1(**kwargs)\n",
    "\n",
    "    def phase1(self,**kwargs): \n",
    "        if len(self.reads) == 1: \n",
    "            self.sequence = self.reads[0]\n",
    "            return True\n",
    "        else:\n",
    "            if \"k_min_add\" not in kwargs: kwargs[\"k_min_add\"] = 0   \n",
    "            extensions = {}\n",
    "            stalks = self.branch.b.keys()\n",
    "            for stalk in stalks: self.longest_common_substring(self.branch,stalk,[stalk.stalk],extensions)\n",
    "            k_max = max(extensions.keys())\n",
    "            i = 0\n",
    "            overlaps = {}\n",
    "            if \"len\" in kwargs and kwargs[\"len\"] == len(self.reads):\n",
    "                if self.k_min + kwargs[\"k_min_add\"] < k_max: kwargs[\"k_min_add\"] += 1\n",
    "                else:\n",
    "                    if kwargs[\"assemble\"]: kwargs[\"assemble\"] = False\n",
    "                    for v in extensions.values():\n",
    "                        for k_, v_ in v.items():\n",
    "                            for read in v_['endswith']:\n",
    "                                if read not in overlaps: overlaps[read] = set()\n",
    "                                for extension in v_['is_in']:\n",
    "                                    for _ in range(extension.count(k_)):\n",
    "                                        pre = extension[:extension.find(k_)+len(k_)]\n",
    "                                        suf = extension[extension.find(k_)+len(k_):]\n",
    "                                        if read.endswith(pre): overlaps[read].add((extension,suf))\n",
    "                    if \"biphasic\" in kwargs and kwargs[\"biphasic\"]:\n",
    "                        if self.phase2(overlaps,**kwargs): return True\n",
    "                        else: \n",
    "                            self.sequence = self.reads\n",
    "                            return False\n",
    "                    else:\n",
    "                        self.sequence = self.reads\n",
    "                        return True\n",
    "            else:\n",
    "                kwargs[\"k_min_add\"] = 0 \n",
    "                kwargs[\"len\"] = len(self.reads)\n",
    "            for read in self.reads:\n",
    "                while min(k_max,len(read)-1) - i > self.k_min + kwargs[\"k_min_add\"]:\n",
    "                    if read[:min(k_max,len(read)-1)-i] in extensions[min(k_max,len(read)-1)-i]:\n",
    "                        if len(extensions[min(k_max,len(read)-1)-i][read[:min(k_max,len(read)-1)-i]]['endswith']) > 1: i += 1\n",
    "                        else: break\n",
    "                    else: i+=1\n",
    "                if (read[:min(k_max,len(read)-1)-i] in extensions[min(k_max,len(read)-1)-i] and len(extensions[min(k_max,len(read)-1)-i][read[:min(k_max,len(read)-1)-i]]['endswith']) > 1)\\\n",
    "                or read[:min(k_max,len(read)-1)-i] not in extensions[min(k_max,len(read)-1)-i] or read not in extensions[min(k_max,len(read)-1)-i][read[:min(k_max,len(read)-1)-i]]['is_in']:\n",
    "                    i = 0\n",
    "                    continue\n",
    "                if list(extensions[min(k_max,len(read)-1)-i][read[:min(k_max,len(read)-1)-i]]['endswith'])[0] not in overlaps: overlaps[list(extensions[min(k_max,len(read)-1)-i][read[:min(k_max,len(read)-1)-i]]['endswith'])[0]] = (read[:min(k_max,len(read)-1)-i],read,read[min(k_max,len(read)-1)-i:])\n",
    "                else: overlaps[list(extensions[min(k_max,len(read)-1)-i][read[:min(k_max,len(read)-1)-i]]['endswith'])[0]] = ('','','')\n",
    "                i = 0\n",
    "            if len(overlaps):\n",
    "                overlaps = list(overlaps.items())\n",
    "                overlaps.sort(key=lambda e: len(e[1][0]),reverse=True)\n",
    "                overlaps = dict(overlaps)\n",
    "                key = list(overlaps.keys())[0]\n",
    "                seq = key\n",
    "                self.reads.remove(key)\n",
    "                while key in overlaps:\n",
    "                    if len(overlaps[key][0]) < sum(len(o[0]) for o in overlaps.values())/len(overlaps): break\n",
    "                    seq += overlaps[key][2]\n",
    "                    key = overlaps[key][1]\n",
    "                    if key not in self.reads or not len(key): break\n",
    "                    self.reads.remove(key)\n",
    "                self.reads += [seq]\n",
    "            self.__init__(self.reads,self.k_min,**kwargs)\n",
    "        \n",
    "    def phase2(self,overlaps,**kwargs):\n",
    "        for read,extensions in overlaps.items():\n",
    "            if not len(extensions): continue\n",
    "            self.reads.remove(read)\n",
    "            for extension in extensions:\n",
    "                self.reads.remove(extension[0])\n",
    "                kwargs[\"len\"] = len(self.reads)+1\n",
    "                self.__init__(self.reads+[read+extension[1]],self.k_min,**kwargs)\n",
    "                if self.phase1(**kwargs): return True\n",
    "                else: \n",
    "                    self.reads.remove(read+extension[1])\n",
    "                    self.reads += [extension[0]]\n",
    "            self.reads += [read]\n",
    "        return False\n",
    "        \n",
    "    def longest_common_substring(self,branch,stalk,substring,extensions):\n",
    "        if branch.__is_shallow__():\n",
    "            if len(branch.s[stalk][1]) > 1:\n",
    "                if len(''.join(substring)) not in extensions: extensions[len(''.join(substring))] = {}\n",
    "                if ''.join(substring) not in extensions[len(''.join(substring))]: extensions[len(''.join(substring))][''.join(substring)] = {'endswith':set(),'is_in':set()}\n",
    "                for read in branch.s[stalk][1]:\n",
    "                    if read.endswith(''.join(substring)): extensions[len(''.join(substring))][''.join(substring)]['endswith'].add(read)\n",
    "                    else: extensions[len(''.join(substring))][''.join(substring)]['is_in'].add(read)\n",
    "            return extensions\n",
    "        if type(branch.__traverse__(stalk.stalk)) is Leaf:\n",
    "            if len(branch.s[stalk][1]) > 1:\n",
    "                if len(''.join(substring)) not in extensions: extensions[len(''.join(substring))] = {}\n",
    "                if ''.join(substring) not in extensions[len(''.join(substring))]: extensions[len(''.join(substring))][''.join(substring)] = {'endswith':set(),'is_in':set()}\n",
    "                for read in branch.s[stalk][1]:\n",
    "                    if read.endswith(''.join(substring)): extensions[len(''.join(substring))][''.join(substring)]['endswith'].add(read)\n",
    "                    else: extensions[len(''.join(substring))][''.join(substring)]['is_in'].add(read)\n",
    "            return extensions\n",
    "        for c in branch.__traverse__(stalk.stalk).b:\n",
    "            if c.stalk != '$': extensions = self.longest_common_substring(branch.__traverse__(stalk.stalk),c,substring+[c.stalk],extensions)\n",
    "            else: \n",
    "                if len(branch.s[stalk][1]) > 1:\n",
    "                    if len(''.join(substring)) not in extensions: extensions[len(''.join(substring))] = {}\n",
    "                    if ''.join(substring) not in extensions[len(''.join(substring))]: extensions[len(''.join(substring))][''.join(substring)] = {'endswith':set(),'is_in':set()}\n",
    "                    for read in branch.s[stalk][1]:\n",
    "                        if read.endswith(''.join(substring)): extensions[len(''.join(substring))][''.join(substring)]['endswith'].add(read)\n",
    "                        else: extensions[len(''.join(substring))][''.join(substring)]['is_in'].add(read)\n",
    "        return extensions\n",
    "    \n",
    "    def remove_containments(self,reads):\n",
    "        i = 0\n",
    "        r = set()\n",
    "        m = max([len(r) for r in reads])\n",
    "        b = False\n",
    "        while i < len(reads):\n",
    "            if len(reads[i]) == m: \n",
    "                r.add(reads[i])\n",
    "                i+=1\n",
    "                continue\n",
    "            for r_ in r:\n",
    "                if reads[i] in r_: \n",
    "                    b = True\n",
    "                    break\n",
    "            if b: \n",
    "                b = False\n",
    "                i+=1\n",
    "                continue\n",
    "            r.add(reads[i])\n",
    "            i+=1\n",
    "        return list(r)"
   ]
  },
  {
   "cell_type": "code",
   "execution_count": 7,
   "metadata": {},
   "outputs": [
    {
     "data": {
      "text/plain": [
       "True"
      ]
     },
     "execution_count": 7,
     "metadata": {},
     "output_type": "execute_result"
    }
   ],
   "source": [
    "sequence = 'betty_bought_butter_the_butter_was_bitter_betty_bought_better_butter_to_make_the_bitter_butter_better'\n",
    "reads = ['betty_bought_butter_th',\n",
    "                        'tter_the_butter_was_',\n",
    "                              'he_butter_was_bitter_',\n",
    "                                         'as_bitter_betty_bought',\n",
    "                                                     'tty_bought_better_butter_t',\n",
    "                                                                     'r_butter_to_make_the_',\n",
    "                                                                                   'ke_the_bitter_butter_better']\n",
    "sequitur = Sequitur(reads,assemble=True)\n",
    "sequitur.sequence == sequence if type(sequitur.sequence) is str else all(s in sequence for s in sequitur.sequence)"
   ]
  },
  {
   "cell_type": "code",
   "execution_count": 8,
   "metadata": {},
   "outputs": [
    {
     "data": {
      "text/plain": [
       "True"
      ]
     },
     "execution_count": 8,
     "metadata": {},
     "output_type": "execute_result"
    }
   ],
   "source": [
    "sequence = 'you say hello world, i bellow go to hell'\n",
    "reads = ['you say hel',\n",
    "            ' say hello wo',\n",
    "                    'lo world, i be',\n",
    "                          'ld, i bellow go t',\n",
    "                                    'ow go to hell']\n",
    "sequitur = Sequitur(reads,assemble=True)\n",
    "sequitur.sequence == sequence if type(sequitur.sequence) is str else all(s in sequence for s in sequitur.sequence)"
   ]
  },
  {
   "cell_type": "code",
   "execution_count": 9,
   "metadata": {},
   "outputs": [
    {
     "data": {
      "text/plain": [
       "True"
      ]
     },
     "execution_count": 9,
     "metadata": {},
     "output_type": "execute_result"
    }
   ],
   "source": [
    "sequence = 'she_sells_sea_shells_on_the_sea_shore'\n",
    "reads = ['she_sells_s',\n",
    "               'lls_sea_shel',\n",
    "                    'ea_shells_o',\n",
    "                       'shells_on_the_s',\n",
    "                                  'he_sea_s',\n",
    "                                      'ea_shore']\n",
    "sequitur = Sequitur(reads,assemble=True)\n",
    "sequitur.sequence == sequence if type(sequitur.sequence) is str else all(s in sequence for s in sequitur.sequence)"
   ]
  },
  {
   "cell_type": "code",
   "execution_count": 10,
   "metadata": {},
   "outputs": [
    {
     "name": "stdout",
     "output_type": "stream",
     "text": [
      "| Seed: 0 | SUC | TTAGTTGTGCCGCAGCGAAGTAGTGCTTGAAATATGCGACCCCTAAGTAGGAGCGTATGCGCCCAGTAACCAATGCCTGTTGAGATGCCAGACGCGTAACCAAAACATAGAAACCATCAATAGACAGGTCATAATCGGTCCACCGGATCATTGGTGCATAGAGCCTGGGCGTTAACGCCCTTTATTACTAGCTTAATGGTATCACATTGACAAACACGGCATTAAGTAGCGACGAAACGGGATTTGCCTGACCGGGGAGAAGCCGGTCGATCAGCAGTGGTAATTGGATATTAGGCCTAAACCATAATGTTCTAGCGCTCGAAATCATTGCACCACTTGCATCTTTGTTCCAGGGACGCTGTAAAACCAGATGCCTGTAAATCGTTTCAACGGGATGGTTTACCCGGAATTCTACGTATTTAATCAACGAGCTTAATGAGCTGACATTGCTGAAATGACCATGACTTAATAATCATTTATGGAGAAGAGGCACGACCACAAGGACCCTATGGCACGGTGGGCAAGCTCCCGCCCGGTACATAACTGTCTGGACTGATTATGTCGGTACAGACTTCTTCCTGCGTATCGATTACGAGCTTATCTGAAGAAGTTTAGGGCAAAGGGACCATGGCCATTGGTGCCAATTTCGGTTCTTGTATGCTACAGTTAAATAGAAAGGCCGCATTGTCGTTCTCGCCCTGTTTTCCTCATACACGACCGAGGTTATTTGTCGGAAACGAGACATCTCTCGAAGGTGGAACGACGCCGGGTGTGCAGAATTTATTTTAAACACTCTATTACCTCCGGGTAGCGTTGGCAAACTCCGATAATGAGCGCCAGGCGTGCCAGGACTCCACCTCCCCTGCTAAGTTGACCTTGAGCTCGGTACAGCGTCGGCGAGACGATAACAACGAAGTCCTTCGGCGTTATGTAATTCACCAGCCCACCATATCAGGTAATAGGCTCGCTGGTTAGGTAGATTATGTAAGAGGCGTGCAGCGCCGAACGGGGGTTTCACATCGATGCATGCCACATTGGGATGGGGCTCACTGTATCAGCCGTACCGCTATCTACCTATTGGTGGAGATAGCTTTTATGCGGATTCAAGGAACATAGAGTCGTCCTGACCCTAATCGAACGCGGGGTCTCACAGACTCTCGCTAAGAAATGTGTGACGACCAGCATAGTACGATATGGGTTCATGCTAGAAAGACTAGTTTAATGAAAGGATACGAATGCCCCCCGATTACCGGCCGCCTTGCTACATCCAAGAAAACCTATTGCCGCTACTGATTCTTCTCTTAGGGATCGAGTAACTATTTATTCCGTTCGAGGCGTACGCGGTAGTATGTCGCCAGCATTTAATCCCCCCACTGGGATGCGGCTGCTGTTGTTACCAACAGCTAAAAGTGATGGTCCACACTCTTGACTCTATATGCTATAGTTTGCCGCGCTAATTTAGTCAGCGACACCAATTATGGAACCTGGCATGGAAGTCGTCCGCTGGTCATGTCGGTGGTGATGATCGCCGTCATTTTCTGTCGAATGTCTAATAGCGCACGACAATACACATCATACCCTTTATCTAGAGGGTCAGAAGACCTCGCTAATATTCTGCTGTAGCTCGTTATATTCTCGTTCCTGGTCACGAACGAGCTTCTTCCTAGCGCTCTCTACTGCAAACCTCATGGTCCGGTTTGTACCACTTCGAATCATTCACTGTAATACTGGAACAGCTGATGCTTGCGAACGTATTGTAATCCAATCAGGTAGGGCAGACTAGGCGATAGAACTACGACCCTCTGCGGCCTGCGAAGGGAAAGACGCGTATTAATGCGCTGAAAGAGGGACCGATTGCGGTTATGCACTTACAGACCTAGTACTGGTTTACGCCCCGCCGACCTCCCCCGATCATCTTCTTACAAAACTTGTGTGACCCAAATCTCGACGGGGGCATCTGTGTCTGGGTTTGCCTCGCCTGGTGTACGTAACAGACCCGGAAACGCTTGGATAACAGGCTCGCCTCTCAATACATGGCAGCGGTTGGATCAGTTTCTCAACTGATGGAGAAAACATTTAGCATCACTAATCGTTATCCCCATGGGCTAAAAGCCCAGAGCGAAGCGTGTTAAGTTTTTACCTGCACCATAAGGGTTGTGCATGGACATAGTCAAAGAGCGGTTTACTGCATCTGTCATCTGGTCTTCGTGCCGCGTCGCGCCGCATTCCGCATCGTGCGTGAACCCTAGGTTGTAAAGCGTGTTGCAAAAGACAAAGATCCGGCCCCCCGTGCGCACTCCAGTCGAGCACCATCCTAGCCTGTCGCAGTGGGCGTACTAACTCTGCCAGTGTAGTTCCAGTTCTCTAATATCACCCATTACCCTACACCTTGTAGGCACTCCACCTTAGGTGGAATGACCTCATGCGCAGGAGCCGTTTACTAGCCTGCCTGCACCTTCAGTAGAATCAAATGGTCCACTCACCCCCAAGAGTGTAACTAGGGTTAGCCACCCTGAGTCGTCGATGCGGAGCTATTAGTTCCAGATGCTTGTCTGCACGGAATGGCGTCACGTTCGTTTGAATCAATTCTATAGCGGAGACAAGGTCCGTGCTTAAAAGCGAGAAGACACTCCTGCTATAAAGATCGTCTGCTATCGGGTTGGGCCCTGAGTGCAATCCTGCATTTTGACCATCATGCATATGACGTTGAAAGTTTCGTTATGTCTTTGTGGTCGATTTGACGCTAGCCTAACACCATTCGTTGACTCAATGGGTAGGTAAGCTGCTATAAAGAGGAAAACCTACACAAAACATTAATTCACGTCAACATGGTGCACTGGGGAAACGCCCATTCGGCACGGCATCGGCACGTAGTGAGCTATGCGAGAGTAGCCGGACTCATGAGAACGCTCCACTTGGGAATGCTCTACTTTCCTTTCGACAGCACGCTGTGTTTAGGGGGTATCTGTAATAGAATTGTTTCAGCGTACACTCTGTCTGTGCAGGTAGCCCAGCAATTAACTCGAGGCTGAGAAAGGGCATTTCATGTTTTCTCTCGACTGGGTGCCTCGCTCATGCAGCGGAATGGGGACGCCCTCAGAATATTTCCAACATAGAACGTCTGGCTGCCACGTAGTGTACGCTCCACTTAGCAGCCCGTGTGGACGCAGTCAATTTGGCGTCATCAAACAAGGCAACCGTGTCTACATATCCACGGGTGTTGGGTGTGTGACTGTTCCTCCCAGCCTATCTCAAAAACCCGGAATTCGCCTGACTACCCGGGCTGAATAACGTCGTAGATTGCTAGGCAGTACCGTATGTGATATACGGGCTTAGCTAGCCATTCTGCGCAACACTCATGGGGTAGTTCTATGCGGCCGCAGTCGGCTAACTTAACACGTACCATGCATAAACCTCGACGAGGCGATGAGGGAGCGAATATCTTGACTAAAACTTCCAAATTGCTAGTCGCATTACGTCCCACAGGGGCCTGATATCTCTTCTGACCTTCAACCGAGACCTGAGCACTGTACGCGAGTGGAGAGGCGCCCCTAGCGTAATAGCGAATGCCAGGCTGCCATCGTGGACTGCATTTGGTCGATATCAATCGATGAATTGCCCAACGGTCTCCGCAGCAGCAATTGGACATGGCGGATCAATGGGTAGGCGGGTCATGTAAGATCACAGCGCACTGGAATGTCCTACACAAGACCTGGGGTACCCCACAAATTTTAGCCGGTATCTGGAGGGTTAGGATGAAGACAAAGTAATCGGGCTTTGGAGAGACTTGGGCCTTGTAACAGGGGATGCGTAGGGGAGATCGGGTATCCGCAATTTAGAATGCCTATAGACAAGTGAGTGGGCACTATGACACAGCCTTTCTGCAGGGGCTAAACGCAACCACCCTTAGGGACAGGGAGGATCGGCCCCAGACGGTGTCTTGAGCGCGTAGGGGCTCCCTTCAGCATTAATGCTACTTTTTTAGCCGATCTCCGATGTGCGATCGCGAGTCACTCGCCTTGTCATTGGCGTGTCTCCTTATCGTAGGCCCGCCGCCAACGGGCAGGATGGGAAAGTTGCATTAGGCAACTGAGGTAACCGTCAAAGCTATCGAACGCCCTTCCAGTCAGGGCTCAAGTAAAGGAGACGAATTCGCCCCAATTCTCCAGCGATTCTGTCTCCTGTGTCCTACGGAGTCTCGGAGATAAAATGTGATATGAGAAGAAAACTGAACACCCTGTCATACCTTACCACTTTGCATCTCAGTTTTGCAGCGGCTGGTGGCAGGCACTCGCTTCGGTATTACAGGATTCACATTGTTAGTAAACCCGTCGTCAGCCCCAATGGATTCACATGAGATCGTATTTCCAACTGGCAGGACATATGGTCACCTCGAACAGGTGGGGCATAACCGTCGGGGAATATTAATCTCTAGTGGCATGCACTTCACGCGAGGTCACGCTGAATTACAGTCGTGCAGCATTGGCCATCCGCCTCAACTTTACGGACGTTAGATGCAAGTCGGAAATCTCTTTCCATATGCAGTCTTACGGGTATATGTGTAGCTTGTCTGAGCCGACATTGCATGGTAAACTAATTCAGACTAAAGCTCCCCAATTGCAAAACTGATGACAGGCCGCCCGAAGTTGCAGTACATAGGCAAAACGAAGGTAATCGGACAGGGGAATGGGACTGCCATGACCCAGTAGCTCTATCGGGATAGTTGCCGTTGCCATCCCAGTAAAGCCGTTGGGGTCTCTCTGGAACGGCAGGAATCATTACACCCGGAGGAGAGCTATCTTGAGAATTACAATATCTGTAACCCTCTCAATTTGTGACATTTGTCAAGTTCACGCCGCTAGTCAGTCTTAGTGGTGTGACTGCAGATTCTCTGAACGACGACCCTGGCCTACTAAGTGCCGGCCGTGGTTTCTCGTTTAGTGAGTGTAAGGTGTAGTTATGAGATTCAGCCATAAGGGATCATGTGCGCCCTCCGGCGCATCCCTCTGAAGCAAGATGGTTGCGAGTGACTTGGCCACAGACGTGATACTATTCAAGTGCTTCGTGAAGGTCGAATCTGCCACCTAAGGTGCATTATGAGTAGAGACGCGTCTGAGGTCTTGTTTCCTACATACACCAATCACTCATGCTAAACAAAAACGTCGGCGGCTCGCCCTTTACAGAATACCGACATTTTCGAGTTGAAATTCTAGCACGGATGCCCGAAAACGATGCCTTTCACAGCAGTGCCACCGGAACTGCAACCCCTCTTAGTCATCCTGCCGCTATTAGCGCAGTATGCCATACTGGGAGGAAATACAAGGAAACAGGTATTGACGGGCTCTAAGCGCATGCAACTCCGGTATCGGAGGGCGGGGTTAATCCCGGTTTCTGACTGAAAACTGAATGTTAGTGTCCATCCCAGATGTGCTTCTCCAGTTAGGCGACGGCATATGCGAACCGCGGCGCATGGTGAAACCACGCCTATGCGACCCCGTGTGCGCCTTCCTTGCGGTCTTTTCAGATATCAAGCAAGGAGTATTGCCCTTGTCAGTACGCGTGAGTAACCGGCCCGGCCACTGCTTTCTTGCATTGGAACCTCATCTCACCCAGGTGGGGAGTATGGTAAACGCAAAGTTGGTACGGTGAAAAGCAGGCGCCCTTCAGTGGGTGCATCGACCCTGATTCTACTTGCAAGTCCCTCCACAACAAACCCCGTTAGAGTAGAAAGGACAGGGCTTCCAATCTTCAAATCCGAAGCGGTATAGGTGTGAATCAACGCACCGTGTTTCCACGCGCATTGCCGACAGACAAAAACTGATACACCATGGCTGACACTCAAGCAGGTTCGTTGTCTATTCAGCAAATGCCGTAATTGGTGTCCAACAGGTTCTAGTTTGACGCTGCAGTGTATCGCAGATGTGTCGAAATATGCGGGGCGGAGGGGCTTCACGTCGCGAACGGATAGCTCCGAAGTTGTGCAACTGAGCTTCGGGGCGCAGTTGTAACCTCGGACAGTGGGCAGCATTATTAATTCGCTTAGTGTTTGGAAAACTTATACCTGCGCCTTCAGCTACGAAGGGCCTTAGTAGGTGGATCGTACAAAGTCGAAAGTGCTGGGTTGTTCCTGCACCGGGAGAACAGAGTTACGCCGCAAACAATAGCGTCCCTTCATTCTACCGCTGTTGCTTTCTAATAGGGTGAAAGCGCAACAGTGAAACCATCGACCTACTCTGCCAGTATCTTCTAACGACAACCTGCATCCCTTGGCGGTGCCCTCTGCCAGGAGCTCACCGTTCCCTCAATCACTCTATAGTAGTATCCGTGAACAATGCAGCGTTCCTATTATCACCGCATTTCAAAATAACTGGATGAGGAGAATGATGCCCCGTTCCGCACCAGTTGACCGCAAGCATGGATGGTGTGGCGTCAAGGCTGTCACGCTGGAGAGGGCCGACGCGGCTGTGGTTGCAGAGTCTAGCCAGGAGACGTACTCGAAGGGAATCTTGCTACCTAAGAGCTAACACCCGACGCCGACTCAGAGCCATGCTCGCTACTGTTGCATGAAAGTTTACAGTGGGCGCAGAGGTAGCTGGGCAACTAGCGTCTCTCTCTTGACCAGTTTTAGCCGCCTAGCTGCTATTGGTGTTACTTTCCCAGCCTCCTTCAGGAATGTAGTATTGTTGAAACCCGGCTCCAAGACGTTACGAGCTTTTGCCGGCTTGGTCTAGTCATCGAAGAACGGGAGACAAGAGCGCATGTTTTAATGAGATGTTAACTTGAACGCTGTGGAGCTATTGGCAGCACTGCATGTCTGCGGGTTATCACTGCCTTCACCGGCATCTTAGTGGTTATTGCATGTTTGGCGGTCCGATCGACGTACTCGAGAGGACATATGCCAGCCTCTAGGAATGGGATAACACACTTGAACGACCCTATCGGTTAATAGGAAGCACGAGCCGAAAAGTTTTGGACTAGCTGATTCGTTCGACACACTTCGAATAACATCCTCACCACACACTTATTGATCTCACTAGTATCTTGCTGATAGATGTTTGTCAGCCGGTTGGCACCTCTTATAAACACCTGCCGTGGCGCTCCACGGCGCAATGCAGTTTGTGGGGGAAGATGTTGCCATCACCGGTGCGACCGGCTATGCTTATATATCGACTTTACCCTAAAAAGAGACTACGGACTCCGAATGTAAACACTCACTACACTCTAGTTCCAGTTTCGGGACCCTAATGATAGTTAGGCCGGAATTAGGGTTTTTTGACTAGCTGAGAAACGCACACCGGTATCTAGCTGAAGCCTTTCCGTGTGTGGTAAAGTTCATAGTCGGAACTTTGGAAGAACGCCTTAGAACAATTTCGTACGGCCTGGATGAGGCTGAATACAGAGTAGATCGCCTATACATCCGCAGTTACATCCTTATAGCTCAAATCGAAGCATACACATGCCGATGGGACCTTCACCGTGTAATTGATAAAAGAATCTAAATCCCAAACCTGGGATTTTTGCACCTTCTGATGCATGCACGTGGCCCTATCGACGGGGTTCGACGGCAGAGGAAGCTGGAACAACACGAACCGCGTGCAGCGCTTGGACGCGGCCGCAATGACGCAGAAAGGGTTCATTGGTATTATAGTGCTCTCCCACCGGGTTAGGGTTAGTACACGCATACAGATTATAAGCGTCCGGCCCTCTCCGGACGATCTCTAGATGATGCACAATAGGACGGACGTCCAGGCCGTAGAACCTACTTTTGTTAGATCAAGATTTCGTAGCGGACACGGTGTCCGTGCAGCGCTATTTTTAACGACCCTCCTACAACGGGTCAAAGCAGAGCATTTTTCAAAATTTCAGATCTAAGTCGCACTCGACTTTATGAGCCTCGCAGTTACAGCTAATGTACCTCTCTGATCCTACTACTTGGAATTTCCGAAGCGACCTAGAATATAAACATATGTATGGTAGAGGCCGCACCTTAACCACTCTTCCAGCATGGGTTGGTAATACGGATGTCGGAGCTCTACGGATCGAGACCTGGAACGGTAGAGGCTATCTTTGTCTGATTCGGCACCTATGGGTAAAGGTCTCAAGATGGTCGTATGGGACTCCATCACGAGCCAGTAGAAGAATTTGGACGCATAAAACGTTATCTCGTCATATTAATAACTCAAATGGAGTTAACACTATTCACTAACCAAAAGCGAGCGCATACGTCCTGCACGGGCGTGGATGCGCATGTAAGCCTCTACGAGCCTTTTCAATGGTTTGTTTCAAGGAGGGTACAATCAGCGATTGAACGAAGCCCCGAACTAATCGTTGTCACTCAGAGTTCTCATAAGGGCCACAGACCTTGATATTAACTTGCTGCAATAGCCTCCATCCCTGAATATGGGACGAGACTAAAGATATTAGCTCAACCGTCCTTAGGTATGAACGCTCCTCCCGTGCGTCTCAGATTCTAATCCCTACTCTGTAATCACTCGAAGAGCAGTTGAATGCAATCGTTGGTTATGCCCCGTGTGGATGGCGACCAGTCCATGGGCTACAATACCTGGTGGCAGGCACGGTCCAACTTTATGTACCGTCGGTTGGATAGTTCCACTCGTCGGCCGCAGGTGTTGAACGAACGTTATAGATGCGTTTAGGATGGCCACGGACTTTGCTCAGCGGGATATCGCCCCACGGAATGGAATACATCCTTGTTTACGAATTGTGCGCTATACCATTGGTGGCAGACTGCTTACTCATGTAGTAGGACGCGTTTGATACCAACTACTCACGCTCAATCGAATTGTAACAACGGCACGCACGAAAAGGTTGCGACCCCGCCGACCCTGGCACCCTATATAAGTCAATCCTTGAGTGCGGTTCTGTTCCTCCCGAATTAGAGCCCAGAAACGTATCTACGCGCAGTAAAGAGTTTGGTCATCTGGGCTAAGTGCATCCCGGATTCACCTCTATCCATAACTGGTAAACGACTAGGGGGGTCTAGGTACCTTGGCACGGATCTACACAGTCAGAACCACCCGCCACGGTCGGCTTACGCGTGCATTAGCACGCCGAGCAAAACTCGAAGGTTCTAAAATGAGAACCCATACCTCCCCCCCACCTAGTGCCCGGGGCCCAATCTCAGGTCAGCCTATTGATGAGCCACCTTAATGGTTTCCTAAGCATATCTCACCATCCGGGTCGCTACCCGGATCGGTCCAATAGGAATTTCTGCTGGGAGCAGCTAACCTCCATCCTCATAAATCTACGTGCGTAAATGCAATTTGGCCACCGAGTTCACTAGTGCCATCCAGCTGCACGCCAGATTGCAGGAGTATACCCCGTCTTGGCGGGCAATTCCGACGCGCTCCTATAGAGAGAAGTTCAGTTAATACCTCAGACGGCAATCACTTAATGCAAGATTGCTGATATAAACGCAGACTCGGTTGAAAGGTCTTTGGAGGCGGTGTTCTGGCCTCTAATCCCTTTCTAAGGGCTGCATAAGAGTACATTATTCTATGTCGCTTCACGATTTTTTCTGGCCCATCTCCGTCCACCAAGGTCATCTTTCTACCTTTAGCTTCAGTTGCGTTAGAGCATAGACCCTGGACGACGCTGAGGGAGAGTTATTAACTCAACTTAGTCTACTGCTTATTAAGCGGTGCTTCATGATTCACTAGCAGAAGGATGGTAACGGTATAAGCTCTCGCAGATTACCGACCTGTGTGTAAATGGTAGCCTGTGGATTCGCGGTGGGTTGTAAAGCCCCATGTGGGTTGGATAAGCCTTCTGCCCCCTAAGTTGCCCAGGGGAAGAAACCCTAGCTACCTACGGTGTGGACCTCCTAATGTCATTTATCTTATCCAAAGAAACGCTCCCGGAGTAAATCGCGTTCTTTACGGACAGCGCCGGAATAAAACCAGCAAGACGCAAGTTAATGTCACCTCAATCACCGGCTGGCATATCAATATGTGGCAACGGCTGGCCCGCTGTGGGAAAT == TTAGTTGTGCCGCAGCGAAGTAGTGCTTGAAATATGCGACCCCTAAGTAGGAGCGTATGCGCCCAGTAACCAATGCCTGTTGAGATGCCAGACGCGTAACCAAAACATAGAAACCATCAATAGACAGGTCATAATCGGTCCACCGGATCATTGGTGCATAGAGCCTGGGCGTTAACGCCCTTTATTACTAGCTTAATGGTATCACATTGACAAACACGGCATTAAGTAGCGACGAAACGGGATTTGCCTGACCGGGGAGAAGCCGGTCGATCAGCAGTGGTAATTGGATATTAGGCCTAAACCATAATGTTCTAGCGCTCGAAATCATTGCACCACTTGCATCTTTGTTCCAGGGACGCTGTAAAACCAGATGCCTGTAAATCGTTTCAACGGGATGGTTTACCCGGAATTCTACGTATTTAATCAACGAGCTTAATGAGCTGACATTGCTGAAATGACCATGACTTAATAATCATTTATGGAGAAGAGGCACGACCACAAGGACCCTATGGCACGGTGGGCAAGCTCCCGCCCGGTACATAACTGTCTGGACTGATTATGTCGGTACAGACTTCTTCCTGCGTATCGATTACGAGCTTATCTGAAGAAGTTTAGGGCAAAGGGACCATGGCCATTGGTGCCAATTTCGGTTCTTGTATGCTACAGTTAAATAGAAAGGCCGCATTGTCGTTCTCGCCCTGTTTTCCTCATACACGACCGAGGTTATTTGTCGGAAACGAGACATCTCTCGAAGGTGGAACGACGCCGGGTGTGCAGAATTTATTTTAAACACTCTATTACCTCCGGGTAGCGTTGGCAAACTCCGATAATGAGCGCCAGGCGTGCCAGGACTCCACCTCCCCTGCTAAGTTGACCTTGAGCTCGGTACAGCGTCGGCGAGACGATAACAACGAAGTCCTTCGGCGTTATGTAATTCACCAGCCCACCATATCAGGTAATAGGCTCGCTGGTTAGGTAGATTATGTAAGAGGCGTGCAGCGCCGAACGGGGGTTTCACATCGATGCATGCCACATTGGGATGGGGCTCACTGTATCAGCCGTACCGCTATCTACCTATTGGTGGAGATAGCTTTTATGCGGATTCAAGGAACATAGAGTCGTCCTGACCCTAATCGAACGCGGGGTCTCACAGACTCTCGCTAAGAAATGTGTGACGACCAGCATAGTACGATATGGGTTCATGCTAGAAAGACTAGTTTAATGAAAGGATACGAATGCCCCCCGATTACCGGCCGCCTTGCTACATCCAAGAAAACCTATTGCCGCTACTGATTCTTCTCTTAGGGATCGAGTAACTATTTATTCCGTTCGAGGCGTACGCGGTAGTATGTCGCCAGCATTTAATCCCCCCACTGGGATGCGGCTGCTGTTGTTACCAACAGCTAAAAGTGATGGTCCACACTCTTGACTCTATATGCTATAGTTTGCCGCGCTAATTTAGTCAGCGACACCAATTATGGAACCTGGCATGGAAGTCGTCCGCTGGTCATGTCGGTGGTGATGATCGCCGTCATTTTCTGTCGAATGTCTAATAGCGCACGACAATACACATCATACCCTTTATCTAGAGGGTCAGAAGACCTCGCTAATATTCTGCTGTAGCTCGTTATATTCTCGTTCCTGGTCACGAACGAGCTTCTTCCTAGCGCTCTCTACTGCAAACCTCATGGTCCGGTTTGTACCACTTCGAATCATTCACTGTAATACTGGAACAGCTGATGCTTGCGAACGTATTGTAATCCAATCAGGTAGGGCAGACTAGGCGATAGAACTACGACCCTCTGCGGCCTGCGAAGGGAAAGACGCGTATTAATGCGCTGAAAGAGGGACCGATTGCGGTTATGCACTTACAGACCTAGTACTGGTTTACGCCCCGCCGACCTCCCCCGATCATCTTCTTACAAAACTTGTGTGACCCAAATCTCGACGGGGGCATCTGTGTCTGGGTTTGCCTCGCCTGGTGTACGTAACAGACCCGGAAACGCTTGGATAACAGGCTCGCCTCTCAATACATGGCAGCGGTTGGATCAGTTTCTCAACTGATGGAGAAAACATTTAGCATCACTAATCGTTATCCCCATGGGCTAAAAGCCCAGAGCGAAGCGTGTTAAGTTTTTACCTGCACCATAAGGGTTGTGCATGGACATAGTCAAAGAGCGGTTTACTGCATCTGTCATCTGGTCTTCGTGCCGCGTCGCGCCGCATTCCGCATCGTGCGTGAACCCTAGGTTGTAAAGCGTGTTGCAAAAGACAAAGATCCGGCCCCCCGTGCGCACTCCAGTCGAGCACCATCCTAGCCTGTCGCAGTGGGCGTACTAACTCTGCCAGTGTAGTTCCAGTTCTCTAATATCACCCATTACCCTACACCTTGTAGGCACTCCACCTTAGGTGGAATGACCTCATGCGCAGGAGCCGTTTACTAGCCTGCCTGCACCTTCAGTAGAATCAAATGGTCCACTCACCCCCAAGAGTGTAACTAGGGTTAGCCACCCTGAGTCGTCGATGCGGAGCTATTAGTTCCAGATGCTTGTCTGCACGGAATGGCGTCACGTTCGTTTGAATCAATTCTATAGCGGAGACAAGGTCCGTGCTTAAAAGCGAGAAGACACTCCTGCTATAAAGATCGTCTGCTATCGGGTTGGGCCCTGAGTGCAATCCTGCATTTTGACCATCATGCATATGACGTTGAAAGTTTCGTTATGTCTTTGTGGTCGATTTGACGCTAGCCTAACACCATTCGTTGACTCAATGGGTAGGTAAGCTGCTATAAAGAGGAAAACCTACACAAAACATTAATTCACGTCAACATGGTGCACTGGGGAAACGCCCATTCGGCACGGCATCGGCACGTAGTGAGCTATGCGAGAGTAGCCGGACTCATGAGAACGCTCCACTTGGGAATGCTCTACTTTCCTTTCGACAGCACGCTGTGTTTAGGGGGTATCTGTAATAGAATTGTTTCAGCGTACACTCTGTCTGTGCAGGTAGCCCAGCAATTAACTCGAGGCTGAGAAAGGGCATTTCATGTTTTCTCTCGACTGGGTGCCTCGCTCATGCAGCGGAATGGGGACGCCCTCAGAATATTTCCAACATAGAACGTCTGGCTGCCACGTAGTGTACGCTCCACTTAGCAGCCCGTGTGGACGCAGTCAATTTGGCGTCATCAAACAAGGCAACCGTGTCTACATATCCACGGGTGTTGGGTGTGTGACTGTTCCTCCCAGCCTATCTCAAAAACCCGGAATTCGCCTGACTACCCGGGCTGAATAACGTCGTAGATTGCTAGGCAGTACCGTATGTGATATACGGGCTTAGCTAGCCATTCTGCGCAACACTCATGGGGTAGTTCTATGCGGCCGCAGTCGGCTAACTTAACACGTACCATGCATAAACCTCGACGAGGCGATGAGGGAGCGAATATCTTGACTAAAACTTCCAAATTGCTAGTCGCATTACGTCCCACAGGGGCCTGATATCTCTTCTGACCTTCAACCGAGACCTGAGCACTGTACGCGAGTGGAGAGGCGCCCCTAGCGTAATAGCGAATGCCAGGCTGCCATCGTGGACTGCATTTGGTCGATATCAATCGATGAATTGCCCAACGGTCTCCGCAGCAGCAATTGGACATGGCGGATCAATGGGTAGGCGGGTCATGTAAGATCACAGCGCACTGGAATGTCCTACACAAGACCTGGGGTACCCCACAAATTTTAGCCGGTATCTGGAGGGTTAGGATGAAGACAAAGTAATCGGGCTTTGGAGAGACTTGGGCCTTGTAACAGGGGATGCGTAGGGGAGATCGGGTATCCGCAATTTAGAATGCCTATAGACAAGTGAGTGGGCACTATGACACAGCCTTTCTGCAGGGGCTAAACGCAACCACCCTTAGGGACAGGGAGGATCGGCCCCAGACGGTGTCTTGAGCGCGTAGGGGCTCCCTTCAGCATTAATGCTACTTTTTTAGCCGATCTCCGATGTGCGATCGCGAGTCACTCGCCTTGTCATTGGCGTGTCTCCTTATCGTAGGCCCGCCGCCAACGGGCAGGATGGGAAAGTTGCATTAGGCAACTGAGGTAACCGTCAAAGCTATCGAACGCCCTTCCAGTCAGGGCTCAAGTAAAGGAGACGAATTCGCCCCAATTCTCCAGCGATTCTGTCTCCTGTGTCCTACGGAGTCTCGGAGATAAAATGTGATATGAGAAGAAAACTGAACACCCTGTCATACCTTACCACTTTGCATCTCAGTTTTGCAGCGGCTGGTGGCAGGCACTCGCTTCGGTATTACAGGATTCACATTGTTAGTAAACCCGTCGTCAGCCCCAATGGATTCACATGAGATCGTATTTCCAACTGGCAGGACATATGGTCACCTCGAACAGGTGGGGCATAACCGTCGGGGAATATTAATCTCTAGTGGCATGCACTTCACGCGAGGTCACGCTGAATTACAGTCGTGCAGCATTGGCCATCCGCCTCAACTTTACGGACGTTAGATGCAAGTCGGAAATCTCTTTCCATATGCAGTCTTACGGGTATATGTGTAGCTTGTCTGAGCCGACATTGCATGGTAAACTAATTCAGACTAAAGCTCCCCAATTGCAAAACTGATGACAGGCCGCCCGAAGTTGCAGTACATAGGCAAAACGAAGGTAATCGGACAGGGGAATGGGACTGCCATGACCCAGTAGCTCTATCGGGATAGTTGCCGTTGCCATCCCAGTAAAGCCGTTGGGGTCTCTCTGGAACGGCAGGAATCATTACACCCGGAGGAGAGCTATCTTGAGAATTACAATATCTGTAACCCTCTCAATTTGTGACATTTGTCAAGTTCACGCCGCTAGTCAGTCTTAGTGGTGTGACTGCAGATTCTCTGAACGACGACCCTGGCCTACTAAGTGCCGGCCGTGGTTTCTCGTTTAGTGAGTGTAAGGTGTAGTTATGAGATTCAGCCATAAGGGATCATGTGCGCCCTCCGGCGCATCCCTCTGAAGCAAGATGGTTGCGAGTGACTTGGCCACAGACGTGATACTATTCAAGTGCTTCGTGAAGGTCGAATCTGCCACCTAAGGTGCATTATGAGTAGAGACGCGTCTGAGGTCTTGTTTCCTACATACACCAATCACTCATGCTAAACAAAAACGTCGGCGGCTCGCCCTTTACAGAATACCGACATTTTCGAGTTGAAATTCTAGCACGGATGCCCGAAAACGATGCCTTTCACAGCAGTGCCACCGGAACTGCAACCCCTCTTAGTCATCCTGCCGCTATTAGCGCAGTATGCCATACTGGGAGGAAATACAAGGAAACAGGTATTGACGGGCTCTAAGCGCATGCAACTCCGGTATCGGAGGGCGGGGTTAATCCCGGTTTCTGACTGAAAACTGAATGTTAGTGTCCATCCCAGATGTGCTTCTCCAGTTAGGCGACGGCATATGCGAACCGCGGCGCATGGTGAAACCACGCCTATGCGACCCCGTGTGCGCCTTCCTTGCGGTCTTTTCAGATATCAAGCAAGGAGTATTGCCCTTGTCAGTACGCGTGAGTAACCGGCCCGGCCACTGCTTTCTTGCATTGGAACCTCATCTCACCCAGGTGGGGAGTATGGTAAACGCAAAGTTGGTACGGTGAAAAGCAGGCGCCCTTCAGTGGGTGCATCGACCCTGATTCTACTTGCAAGTCCCTCCACAACAAACCCCGTTAGAGTAGAAAGGACAGGGCTTCCAATCTTCAAATCCGAAGCGGTATAGGTGTGAATCAACGCACCGTGTTTCCACGCGCATTGCCGACAGACAAAAACTGATACACCATGGCTGACACTCAAGCAGGTTCGTTGTCTATTCAGCAAATGCCGTAATTGGTGTCCAACAGGTTCTAGTTTGACGCTGCAGTGTATCGCAGATGTGTCGAAATATGCGGGGCGGAGGGGCTTCACGTCGCGAACGGATAGCTCCGAAGTTGTGCAACTGAGCTTCGGGGCGCAGTTGTAACCTCGGACAGTGGGCAGCATTATTAATTCGCTTAGTGTTTGGAAAACTTATACCTGCGCCTTCAGCTACGAAGGGCCTTAGTAGGTGGATCGTACAAAGTCGAAAGTGCTGGGTTGTTCCTGCACCGGGAGAACAGAGTTACGCCGCAAACAATAGCGTCCCTTCATTCTACCGCTGTTGCTTTCTAATAGGGTGAAAGCGCAACAGTGAAACCATCGACCTACTCTGCCAGTATCTTCTAACGACAACCTGCATCCCTTGGCGGTGCCCTCTGCCAGGAGCTCACCGTTCCCTCAATCACTCTATAGTAGTATCCGTGAACAATGCAGCGTTCCTATTATCACCGCATTTCAAAATAACTGGATGAGGAGAATGATGCCCCGTTCCGCACCAGTTGACCGCAAGCATGGATGGTGTGGCGTCAAGGCTGTCACGCTGGAGAGGGCCGACGCGGCTGTGGTTGCAGAGTCTAGCCAGGAGACGTACTCGAAGGGAATCTTGCTACCTAAGAGCTAACACCCGACGCCGACTCAGAGCCATGCTCGCTACTGTTGCATGAAAGTTTACAGTGGGCGCAGAGGTAGCTGGGCAACTAGCGTCTCTCTCTTGACCAGTTTTAGCCGCCTAGCTGCTATTGGTGTTACTTTCCCAGCCTCCTTCAGGAATGTAGTATTGTTGAAACCCGGCTCCAAGACGTTACGAGCTTTTGCCGGCTTGGTCTAGTCATCGAAGAACGGGAGACAAGAGCGCATGTTTTAATGAGATGTTAACTTGAACGCTGTGGAGCTATTGGCAGCACTGCATGTCTGCGGGTTATCACTGCCTTCACCGGCATCTTAGTGGTTATTGCATGTTTGGCGGTCCGATCGACGTACTCGAGAGGACATATGCCAGCCTCTAGGAATGGGATAACACACTTGAACGACCCTATCGGTTAATAGGAAGCACGAGCCGAAAAGTTTTGGACTAGCTGATTCGTTCGACACACTTCGAATAACATCCTCACCACACACTTATTGATCTCACTAGTATCTTGCTGATAGATGTTTGTCAGCCGGTTGGCACCTCTTATAAACACCTGCCGTGGCGCTCCACGGCGCAATGCAGTTTGTGGGGGAAGATGTTGCCATCACCGGTGCGACCGGCTATGCTTATATATCGACTTTACCCTAAAAAGAGACTACGGACTCCGAATGTAAACACTCACTACACTCTAGTTCCAGTTTCGGGACCCTAATGATAGTTAGGCCGGAATTAGGGTTTTTTGACTAGCTGAGAAACGCACACCGGTATCTAGCTGAAGCCTTTCCGTGTGTGGTAAAGTTCATAGTCGGAACTTTGGAAGAACGCCTTAGAACAATTTCGTACGGCCTGGATGAGGCTGAATACAGAGTAGATCGCCTATACATCCGCAGTTACATCCTTATAGCTCAAATCGAAGCATACACATGCCGATGGGACCTTCACCGTGTAATTGATAAAAGAATCTAAATCCCAAACCTGGGATTTTTGCACCTTCTGATGCATGCACGTGGCCCTATCGACGGGGTTCGACGGCAGAGGAAGCTGGAACAACACGAACCGCGTGCAGCGCTTGGACGCGGCCGCAATGACGCAGAAAGGGTTCATTGGTATTATAGTGCTCTCCCACCGGGTTAGGGTTAGTACACGCATACAGATTATAAGCGTCCGGCCCTCTCCGGACGATCTCTAGATGATGCACAATAGGACGGACGTCCAGGCCGTAGAACCTACTTTTGTTAGATCAAGATTTCGTAGCGGACACGGTGTCCGTGCAGCGCTATTTTTAACGACCCTCCTACAACGGGTCAAAGCAGAGCATTTTTCAAAATTTCAGATCTAAGTCGCACTCGACTTTATGAGCCTCGCAGTTACAGCTAATGTACCTCTCTGATCCTACTACTTGGAATTTCCGAAGCGACCTAGAATATAAACATATGTATGGTAGAGGCCGCACCTTAACCACTCTTCCAGCATGGGTTGGTAATACGGATGTCGGAGCTCTACGGATCGAGACCTGGAACGGTAGAGGCTATCTTTGTCTGATTCGGCACCTATGGGTAAAGGTCTCAAGATGGTCGTATGGGACTCCATCACGAGCCAGTAGAAGAATTTGGACGCATAAAACGTTATCTCGTCATATTAATAACTCAAATGGAGTTAACACTATTCACTAACCAAAAGCGAGCGCATACGTCCTGCACGGGCGTGGATGCGCATGTAAGCCTCTACGAGCCTTTTCAATGGTTTGTTTCAAGGAGGGTACAATCAGCGATTGAACGAAGCCCCGAACTAATCGTTGTCACTCAGAGTTCTCATAAGGGCCACAGACCTTGATATTAACTTGCTGCAATAGCCTCCATCCCTGAATATGGGACGAGACTAAAGATATTAGCTCAACCGTCCTTAGGTATGAACGCTCCTCCCGTGCGTCTCAGATTCTAATCCCTACTCTGTAATCACTCGAAGAGCAGTTGAATGCAATCGTTGGTTATGCCCCGTGTGGATGGCGACCAGTCCATGGGCTACAATACCTGGTGGCAGGCACGGTCCAACTTTATGTACCGTCGGTTGGATAGTTCCACTCGTCGGCCGCAGGTGTTGAACGAACGTTATAGATGCGTTTAGGATGGCCACGGACTTTGCTCAGCGGGATATCGCCCCACGGAATGGAATACATCCTTGTTTACGAATTGTGCGCTATACCATTGGTGGCAGACTGCTTACTCATGTAGTAGGACGCGTTTGATACCAACTACTCACGCTCAATCGAATTGTAACAACGGCACGCACGAAAAGGTTGCGACCCCGCCGACCCTGGCACCCTATATAAGTCAATCCTTGAGTGCGGTTCTGTTCCTCCCGAATTAGAGCCCAGAAACGTATCTACGCGCAGTAAAGAGTTTGGTCATCTGGGCTAAGTGCATCCCGGATTCACCTCTATCCATAACTGGTAAACGACTAGGGGGGTCTAGGTACCTTGGCACGGATCTACACAGTCAGAACCACCCGCCACGGTCGGCTTACGCGTGCATTAGCACGCCGAGCAAAACTCGAAGGTTCTAAAATGAGAACCCATACCTCCCCCCCACCTAGTGCCCGGGGCCCAATCTCAGGTCAGCCTATTGATGAGCCACCTTAATGGTTTCCTAAGCATATCTCACCATCCGGGTCGCTACCCGGATCGGTCCAATAGGAATTTCTGCTGGGAGCAGCTAACCTCCATCCTCATAAATCTACGTGCGTAAATGCAATTTGGCCACCGAGTTCACTAGTGCCATCCAGCTGCACGCCAGATTGCAGGAGTATACCCCGTCTTGGCGGGCAATTCCGACGCGCTCCTATAGAGAGAAGTTCAGTTAATACCTCAGACGGCAATCACTTAATGCAAGATTGCTGATATAAACGCAGACTCGGTTGAAAGGTCTTTGGAGGCGGTGTTCTGGCCTCTAATCCCTTTCTAAGGGCTGCATAAGAGTACATTATTCTATGTCGCTTCACGATTTTTTCTGGCCCATCTCCGTCCACCAAGGTCATCTTTCTACCTTTAGCTTCAGTTGCGTTAGAGCATAGACCCTGGACGACGCTGAGGGAGAGTTATTAACTCAACTTAGTCTACTGCTTATTAAGCGGTGCTTCATGATTCACTAGCAGAAGGATGGTAACGGTATAAGCTCTCGCAGATTACCGACCTGTGTGTAAATGGTAGCCTGTGGATTCGCGGTGGGTTGTAAAGCCCCATGTGGGTTGGATAAGCCTTCTGCCCCCTAAGTTGCCCAGGGGAAGAAACCCTAGCTACCTACGGTGTGGACCTCCTAATGTCATTTATCTTATCCAAAGAAACGCTCCCGGAGTAAATCGCGTTCTTTACGGACAGCGCCGGAATAAAACCAGCAAGACGCAAGTTAATGTCACCTCAATCACCGGCTGGCATATCAATATGTGGCAACGGCTGGCCCGCTGTGGGAAAT\n",
      "-----------------------------------------\n"
     ]
    },
    {
     "ename": "KeyboardInterrupt",
     "evalue": "",
     "output_type": "error",
     "traceback": [
      "\u001b[1;31m---------------------------------------------------------------------------\u001b[0m",
      "\u001b[1;31mKeyboardInterrupt\u001b[0m                         Traceback (most recent call last)",
      "\u001b[1;32mc:\\Users\\Julian Jacobs\\Documents\\GitHub\\Sequitur\\sequitur_simplified.ipynb Cell 10\u001b[0m in \u001b[0;36m<module>\u001b[1;34m\u001b[0m\n\u001b[0;32m      <a href='vscode-notebook-cell:/c%3A/Users/Julian%20Jacobs/Documents/GitHub/Sequitur/sequitur_simplified.ipynb#X12sZmlsZQ%3D%3D?line=3'>4</a>\u001b[0m sequence \u001b[39m=\u001b[39m generate_genome_sequence(\u001b[39m10000\u001b[39m,seed\u001b[39m=\u001b[39mseed)\n\u001b[0;32m      <a href='vscode-notebook-cell:/c%3A/Users/Julian%20Jacobs/Documents/GitHub/Sequitur/sequitur_simplified.ipynb#X12sZmlsZQ%3D%3D?line=4'>5</a>\u001b[0m reads \u001b[39m=\u001b[39m generate_reads(sequence,\u001b[39m250\u001b[39m,\u001b[39m500\u001b[39m,\u001b[39m50\u001b[39m,\u001b[39m100\u001b[39m,seed\u001b[39m=\u001b[39mseed)\n\u001b[1;32m----> <a href='vscode-notebook-cell:/c%3A/Users/Julian%20Jacobs/Documents/GitHub/Sequitur/sequitur_simplified.ipynb#X12sZmlsZQ%3D%3D?line=5'>6</a>\u001b[0m sequitur \u001b[39m=\u001b[39m Sequitur(reads,assemble\u001b[39m=\u001b[39;49m\u001b[39mTrue\u001b[39;49;00m)\n\u001b[0;32m      <a href='vscode-notebook-cell:/c%3A/Users/Julian%20Jacobs/Documents/GitHub/Sequitur/sequitur_simplified.ipynb#X12sZmlsZQ%3D%3D?line=6'>7</a>\u001b[0m s \u001b[39m=\u001b[39m \u001b[39m'\u001b[39m\u001b[39m| Seed: \u001b[39m\u001b[39m'\u001b[39m \u001b[39m+\u001b[39m \u001b[39mstr\u001b[39m(seed) \u001b[39m+\u001b[39m \u001b[39m'\u001b[39m\u001b[39m | \u001b[39m\u001b[39m'\u001b[39m\n\u001b[0;32m      <a href='vscode-notebook-cell:/c%3A/Users/Julian%20Jacobs/Documents/GitHub/Sequitur/sequitur_simplified.ipynb#X12sZmlsZQ%3D%3D?line=7'>8</a>\u001b[0m \u001b[39mif\u001b[39;00m \u001b[39mtype\u001b[39m(sequitur\u001b[39m.\u001b[39msequence) \u001b[39mis\u001b[39;00m \u001b[39mstr\u001b[39m \u001b[39mand\u001b[39;00m sequitur\u001b[39m.\u001b[39msequence \u001b[39m==\u001b[39m sequence:\n",
      "\u001b[1;32mc:\\Users\\Julian Jacobs\\Documents\\GitHub\\Sequitur\\sequitur_simplified.ipynb Cell 10\u001b[0m in \u001b[0;36mSequitur.__init__\u001b[1;34m(self, reads, k_min, **kwargs)\u001b[0m\n\u001b[0;32m     <a href='vscode-notebook-cell:/c%3A/Users/Julian%20Jacobs/Documents/GitHub/Sequitur/sequitur_simplified.ipynb#X12sZmlsZQ%3D%3D?line=15'>16</a>\u001b[0m         \u001b[39mif\u001b[39;00m \u001b[39mlen\u001b[39m(read[i:]) \u001b[39m<\u001b[39m \u001b[39mself\u001b[39m\u001b[39m.\u001b[39mk_min: \u001b[39mcontinue\u001b[39;00m \n\u001b[0;32m     <a href='vscode-notebook-cell:/c%3A/Users/Julian%20Jacobs/Documents/GitHub/Sequitur/sequitur_simplified.ipynb#X12sZmlsZQ%3D%3D?line=16'>17</a>\u001b[0m         \u001b[39mself\u001b[39m\u001b[39m.\u001b[39mbranch\u001b[39m.\u001b[39madd(Stalk(read[i:]),{read})\n\u001b[1;32m---> <a href='vscode-notebook-cell:/c%3A/Users/Julian%20Jacobs/Documents/GitHub/Sequitur/sequitur_simplified.ipynb#X12sZmlsZQ%3D%3D?line=17'>18</a>\u001b[0m \u001b[39mif\u001b[39;00m \u001b[39m\"\u001b[39m\u001b[39mlen\u001b[39m\u001b[39m\"\u001b[39m \u001b[39min\u001b[39;00m kwargs \u001b[39mor\u001b[39;00m (\u001b[39m\"\u001b[39m\u001b[39massemble\u001b[39m\u001b[39m\"\u001b[39m \u001b[39min\u001b[39;00m kwargs \u001b[39mand\u001b[39;00m kwargs[\u001b[39m\"\u001b[39m\u001b[39massemble\u001b[39m\u001b[39m\"\u001b[39m]): \u001b[39mself\u001b[39m\u001b[39m.\u001b[39mphase1(\u001b[39m*\u001b[39m\u001b[39m*\u001b[39mkwargs)\n",
      "\u001b[1;32mc:\\Users\\Julian Jacobs\\Documents\\GitHub\\Sequitur\\sequitur_simplified.ipynb Cell 10\u001b[0m in \u001b[0;36mSequitur.phase1\u001b[1;34m(self, **kwargs)\u001b[0m\n\u001b[0;32m     <a href='vscode-notebook-cell:/c%3A/Users/Julian%20Jacobs/Documents/GitHub/Sequitur/sequitur_simplified.ipynb#X12sZmlsZQ%3D%3D?line=80'>81</a>\u001b[0m         \u001b[39mself\u001b[39m\u001b[39m.\u001b[39mreads\u001b[39m.\u001b[39mremove(key)\n\u001b[0;32m     <a href='vscode-notebook-cell:/c%3A/Users/Julian%20Jacobs/Documents/GitHub/Sequitur/sequitur_simplified.ipynb#X12sZmlsZQ%3D%3D?line=81'>82</a>\u001b[0m     \u001b[39mself\u001b[39m\u001b[39m.\u001b[39mreads \u001b[39m+\u001b[39m\u001b[39m=\u001b[39m [seq]\n\u001b[1;32m---> <a href='vscode-notebook-cell:/c%3A/Users/Julian%20Jacobs/Documents/GitHub/Sequitur/sequitur_simplified.ipynb#X12sZmlsZQ%3D%3D?line=82'>83</a>\u001b[0m \u001b[39mself\u001b[39m\u001b[39m.\u001b[39m\u001b[39m__init__\u001b[39m(\u001b[39mself\u001b[39m\u001b[39m.\u001b[39mreads,\u001b[39mself\u001b[39m\u001b[39m.\u001b[39mk_min,\u001b[39m*\u001b[39m\u001b[39m*\u001b[39mkwargs)\n",
      "\u001b[1;32mc:\\Users\\Julian Jacobs\\Documents\\GitHub\\Sequitur\\sequitur_simplified.ipynb Cell 10\u001b[0m in \u001b[0;36mSequitur.__init__\u001b[1;34m(self, reads, k_min, **kwargs)\u001b[0m\n\u001b[0;32m     <a href='vscode-notebook-cell:/c%3A/Users/Julian%20Jacobs/Documents/GitHub/Sequitur/sequitur_simplified.ipynb#X12sZmlsZQ%3D%3D?line=15'>16</a>\u001b[0m         \u001b[39mif\u001b[39;00m \u001b[39mlen\u001b[39m(read[i:]) \u001b[39m<\u001b[39m \u001b[39mself\u001b[39m\u001b[39m.\u001b[39mk_min: \u001b[39mcontinue\u001b[39;00m \n\u001b[0;32m     <a href='vscode-notebook-cell:/c%3A/Users/Julian%20Jacobs/Documents/GitHub/Sequitur/sequitur_simplified.ipynb#X12sZmlsZQ%3D%3D?line=16'>17</a>\u001b[0m         \u001b[39mself\u001b[39m\u001b[39m.\u001b[39mbranch\u001b[39m.\u001b[39madd(Stalk(read[i:]),{read})\n\u001b[1;32m---> <a href='vscode-notebook-cell:/c%3A/Users/Julian%20Jacobs/Documents/GitHub/Sequitur/sequitur_simplified.ipynb#X12sZmlsZQ%3D%3D?line=17'>18</a>\u001b[0m \u001b[39mif\u001b[39;00m \u001b[39m\"\u001b[39m\u001b[39mlen\u001b[39m\u001b[39m\"\u001b[39m \u001b[39min\u001b[39;00m kwargs \u001b[39mor\u001b[39;00m (\u001b[39m\"\u001b[39m\u001b[39massemble\u001b[39m\u001b[39m\"\u001b[39m \u001b[39min\u001b[39;00m kwargs \u001b[39mand\u001b[39;00m kwargs[\u001b[39m\"\u001b[39m\u001b[39massemble\u001b[39m\u001b[39m\"\u001b[39m]): \u001b[39mself\u001b[39m\u001b[39m.\u001b[39mphase1(\u001b[39m*\u001b[39m\u001b[39m*\u001b[39mkwargs)\n",
      "\u001b[1;32mc:\\Users\\Julian Jacobs\\Documents\\GitHub\\Sequitur\\sequitur_simplified.ipynb Cell 10\u001b[0m in \u001b[0;36mSequitur.phase1\u001b[1;34m(self, **kwargs)\u001b[0m\n\u001b[0;32m     <a href='vscode-notebook-cell:/c%3A/Users/Julian%20Jacobs/Documents/GitHub/Sequitur/sequitur_simplified.ipynb#X12sZmlsZQ%3D%3D?line=80'>81</a>\u001b[0m         \u001b[39mself\u001b[39m\u001b[39m.\u001b[39mreads\u001b[39m.\u001b[39mremove(key)\n\u001b[0;32m     <a href='vscode-notebook-cell:/c%3A/Users/Julian%20Jacobs/Documents/GitHub/Sequitur/sequitur_simplified.ipynb#X12sZmlsZQ%3D%3D?line=81'>82</a>\u001b[0m     \u001b[39mself\u001b[39m\u001b[39m.\u001b[39mreads \u001b[39m+\u001b[39m\u001b[39m=\u001b[39m [seq]\n\u001b[1;32m---> <a href='vscode-notebook-cell:/c%3A/Users/Julian%20Jacobs/Documents/GitHub/Sequitur/sequitur_simplified.ipynb#X12sZmlsZQ%3D%3D?line=82'>83</a>\u001b[0m \u001b[39mself\u001b[39m\u001b[39m.\u001b[39m\u001b[39m__init__\u001b[39m(\u001b[39mself\u001b[39m\u001b[39m.\u001b[39mreads,\u001b[39mself\u001b[39m\u001b[39m.\u001b[39mk_min,\u001b[39m*\u001b[39m\u001b[39m*\u001b[39mkwargs)\n",
      "    \u001b[1;31m[... skipping similar frames: Sequitur.__init__ at line 18 (9 times), Sequitur.phase1 at line 83 (9 times)]\u001b[0m\n",
      "\u001b[1;32mc:\\Users\\Julian Jacobs\\Documents\\GitHub\\Sequitur\\sequitur_simplified.ipynb Cell 10\u001b[0m in \u001b[0;36mSequitur.__init__\u001b[1;34m(self, reads, k_min, **kwargs)\u001b[0m\n\u001b[0;32m     <a href='vscode-notebook-cell:/c%3A/Users/Julian%20Jacobs/Documents/GitHub/Sequitur/sequitur_simplified.ipynb#X12sZmlsZQ%3D%3D?line=15'>16</a>\u001b[0m         \u001b[39mif\u001b[39;00m \u001b[39mlen\u001b[39m(read[i:]) \u001b[39m<\u001b[39m \u001b[39mself\u001b[39m\u001b[39m.\u001b[39mk_min: \u001b[39mcontinue\u001b[39;00m \n\u001b[0;32m     <a href='vscode-notebook-cell:/c%3A/Users/Julian%20Jacobs/Documents/GitHub/Sequitur/sequitur_simplified.ipynb#X12sZmlsZQ%3D%3D?line=16'>17</a>\u001b[0m         \u001b[39mself\u001b[39m\u001b[39m.\u001b[39mbranch\u001b[39m.\u001b[39madd(Stalk(read[i:]),{read})\n\u001b[1;32m---> <a href='vscode-notebook-cell:/c%3A/Users/Julian%20Jacobs/Documents/GitHub/Sequitur/sequitur_simplified.ipynb#X12sZmlsZQ%3D%3D?line=17'>18</a>\u001b[0m \u001b[39mif\u001b[39;00m \u001b[39m\"\u001b[39m\u001b[39mlen\u001b[39m\u001b[39m\"\u001b[39m \u001b[39min\u001b[39;00m kwargs \u001b[39mor\u001b[39;00m (\u001b[39m\"\u001b[39m\u001b[39massemble\u001b[39m\u001b[39m\"\u001b[39m \u001b[39min\u001b[39;00m kwargs \u001b[39mand\u001b[39;00m kwargs[\u001b[39m\"\u001b[39m\u001b[39massemble\u001b[39m\u001b[39m\"\u001b[39m]): \u001b[39mself\u001b[39m\u001b[39m.\u001b[39mphase1(\u001b[39m*\u001b[39m\u001b[39m*\u001b[39mkwargs)\n",
      "\u001b[1;32mc:\\Users\\Julian Jacobs\\Documents\\GitHub\\Sequitur\\sequitur_simplified.ipynb Cell 10\u001b[0m in \u001b[0;36mSequitur.phase1\u001b[1;34m(self, **kwargs)\u001b[0m\n\u001b[0;32m     <a href='vscode-notebook-cell:/c%3A/Users/Julian%20Jacobs/Documents/GitHub/Sequitur/sequitur_simplified.ipynb#X12sZmlsZQ%3D%3D?line=80'>81</a>\u001b[0m         \u001b[39mself\u001b[39m\u001b[39m.\u001b[39mreads\u001b[39m.\u001b[39mremove(key)\n\u001b[0;32m     <a href='vscode-notebook-cell:/c%3A/Users/Julian%20Jacobs/Documents/GitHub/Sequitur/sequitur_simplified.ipynb#X12sZmlsZQ%3D%3D?line=81'>82</a>\u001b[0m     \u001b[39mself\u001b[39m\u001b[39m.\u001b[39mreads \u001b[39m+\u001b[39m\u001b[39m=\u001b[39m [seq]\n\u001b[1;32m---> <a href='vscode-notebook-cell:/c%3A/Users/Julian%20Jacobs/Documents/GitHub/Sequitur/sequitur_simplified.ipynb#X12sZmlsZQ%3D%3D?line=82'>83</a>\u001b[0m \u001b[39mself\u001b[39m\u001b[39m.\u001b[39m\u001b[39m__init__\u001b[39m(\u001b[39mself\u001b[39m\u001b[39m.\u001b[39mreads,\u001b[39mself\u001b[39m\u001b[39m.\u001b[39mk_min,\u001b[39m*\u001b[39m\u001b[39m*\u001b[39mkwargs)\n",
      "\u001b[1;32mc:\\Users\\Julian Jacobs\\Documents\\GitHub\\Sequitur\\sequitur_simplified.ipynb Cell 10\u001b[0m in \u001b[0;36mSequitur.__init__\u001b[1;34m(self, reads, k_min, **kwargs)\u001b[0m\n\u001b[0;32m     <a href='vscode-notebook-cell:/c%3A/Users/Julian%20Jacobs/Documents/GitHub/Sequitur/sequitur_simplified.ipynb#X12sZmlsZQ%3D%3D?line=14'>15</a>\u001b[0m     \u001b[39mfor\u001b[39;00m i \u001b[39min\u001b[39;00m \u001b[39mrange\u001b[39m(\u001b[39mlen\u001b[39m(read)):\n\u001b[0;32m     <a href='vscode-notebook-cell:/c%3A/Users/Julian%20Jacobs/Documents/GitHub/Sequitur/sequitur_simplified.ipynb#X12sZmlsZQ%3D%3D?line=15'>16</a>\u001b[0m         \u001b[39mif\u001b[39;00m \u001b[39mlen\u001b[39m(read[i:]) \u001b[39m<\u001b[39m \u001b[39mself\u001b[39m\u001b[39m.\u001b[39mk_min: \u001b[39mcontinue\u001b[39;00m \n\u001b[1;32m---> <a href='vscode-notebook-cell:/c%3A/Users/Julian%20Jacobs/Documents/GitHub/Sequitur/sequitur_simplified.ipynb#X12sZmlsZQ%3D%3D?line=16'>17</a>\u001b[0m         \u001b[39mself\u001b[39;49m\u001b[39m.\u001b[39;49mbranch\u001b[39m.\u001b[39;49madd(Stalk(read[i:]),{read})\n\u001b[0;32m     <a href='vscode-notebook-cell:/c%3A/Users/Julian%20Jacobs/Documents/GitHub/Sequitur/sequitur_simplified.ipynb#X12sZmlsZQ%3D%3D?line=17'>18</a>\u001b[0m \u001b[39mif\u001b[39;00m \u001b[39m\"\u001b[39m\u001b[39mlen\u001b[39m\u001b[39m\"\u001b[39m \u001b[39min\u001b[39;00m kwargs \u001b[39mor\u001b[39;00m (\u001b[39m\"\u001b[39m\u001b[39massemble\u001b[39m\u001b[39m\"\u001b[39m \u001b[39min\u001b[39;00m kwargs \u001b[39mand\u001b[39;00m kwargs[\u001b[39m\"\u001b[39m\u001b[39massemble\u001b[39m\u001b[39m\"\u001b[39m]): \u001b[39mself\u001b[39m\u001b[39m.\u001b[39mphase1(\u001b[39m*\u001b[39m\u001b[39m*\u001b[39mkwargs)\n",
      "\u001b[1;32mc:\\Users\\Julian Jacobs\\Documents\\GitHub\\Sequitur\\sequitur_simplified.ipynb Cell 10\u001b[0m in \u001b[0;36mBranch.add\u001b[1;34m(self, stalk, reads)\u001b[0m\n\u001b[0;32m     <a href='vscode-notebook-cell:/c%3A/Users/Julian%20Jacobs/Documents/GitHub/Sequitur/sequitur_simplified.ipynb#X12sZmlsZQ%3D%3D?line=91'>92</a>\u001b[0m     \u001b[39mself\u001b[39m[stalk_[\u001b[39m0\u001b[39m]] \u001b[39m=\u001b[39m br\n\u001b[0;32m     <a href='vscode-notebook-cell:/c%3A/Users/Julian%20Jacobs/Documents/GitHub/Sequitur/sequitur_simplified.ipynb#X12sZmlsZQ%3D%3D?line=92'>93</a>\u001b[0m \u001b[39melse\u001b[39;00m: \n\u001b[1;32m---> <a href='vscode-notebook-cell:/c%3A/Users/Julian%20Jacobs/Documents/GitHub/Sequitur/sequitur_simplified.ipynb#X12sZmlsZQ%3D%3D?line=93'>94</a>\u001b[0m     branch\u001b[39m.\u001b[39;49madd(stalk,reads)\n\u001b[0;32m     <a href='vscode-notebook-cell:/c%3A/Users/Julian%20Jacobs/Documents/GitHub/Sequitur/sequitur_simplified.ipynb#X12sZmlsZQ%3D%3D?line=94'>95</a>\u001b[0m stalk_[\u001b[39m1\u001b[39m]\u001b[39m.\u001b[39mupdate(reads)\n\u001b[0;32m     <a href='vscode-notebook-cell:/c%3A/Users/Julian%20Jacobs/Documents/GitHub/Sequitur/sequitur_simplified.ipynb#X12sZmlsZQ%3D%3D?line=95'>96</a>\u001b[0m stalk_ \u001b[39m=\u001b[39m \u001b[39mtuple\u001b[39m(stalk_)\n",
      "\u001b[1;32mc:\\Users\\Julian Jacobs\\Documents\\GitHub\\Sequitur\\sequitur_simplified.ipynb Cell 10\u001b[0m in \u001b[0;36mBranch.add\u001b[1;34m(self, stalk, reads)\u001b[0m\n\u001b[0;32m     <a href='vscode-notebook-cell:/c%3A/Users/Julian%20Jacobs/Documents/GitHub/Sequitur/sequitur_simplified.ipynb#X12sZmlsZQ%3D%3D?line=91'>92</a>\u001b[0m     \u001b[39mself\u001b[39m[stalk_[\u001b[39m0\u001b[39m]] \u001b[39m=\u001b[39m br\n\u001b[0;32m     <a href='vscode-notebook-cell:/c%3A/Users/Julian%20Jacobs/Documents/GitHub/Sequitur/sequitur_simplified.ipynb#X12sZmlsZQ%3D%3D?line=92'>93</a>\u001b[0m \u001b[39melse\u001b[39;00m: \n\u001b[1;32m---> <a href='vscode-notebook-cell:/c%3A/Users/Julian%20Jacobs/Documents/GitHub/Sequitur/sequitur_simplified.ipynb#X12sZmlsZQ%3D%3D?line=93'>94</a>\u001b[0m     branch\u001b[39m.\u001b[39;49madd(stalk,reads)\n\u001b[0;32m     <a href='vscode-notebook-cell:/c%3A/Users/Julian%20Jacobs/Documents/GitHub/Sequitur/sequitur_simplified.ipynb#X12sZmlsZQ%3D%3D?line=94'>95</a>\u001b[0m stalk_[\u001b[39m1\u001b[39m]\u001b[39m.\u001b[39mupdate(reads)\n\u001b[0;32m     <a href='vscode-notebook-cell:/c%3A/Users/Julian%20Jacobs/Documents/GitHub/Sequitur/sequitur_simplified.ipynb#X12sZmlsZQ%3D%3D?line=95'>96</a>\u001b[0m stalk_ \u001b[39m=\u001b[39m \u001b[39mtuple\u001b[39m(stalk_)\n",
      "    \u001b[1;31m[... skipping similar frames: Branch.add at line 94 (4 times)]\u001b[0m\n",
      "\u001b[1;32mc:\\Users\\Julian Jacobs\\Documents\\GitHub\\Sequitur\\sequitur_simplified.ipynb Cell 10\u001b[0m in \u001b[0;36mBranch.add\u001b[1;34m(self, stalk, reads)\u001b[0m\n\u001b[0;32m     <a href='vscode-notebook-cell:/c%3A/Users/Julian%20Jacobs/Documents/GitHub/Sequitur/sequitur_simplified.ipynb#X12sZmlsZQ%3D%3D?line=91'>92</a>\u001b[0m     \u001b[39mself\u001b[39m[stalk_[\u001b[39m0\u001b[39m]] \u001b[39m=\u001b[39m br\n\u001b[0;32m     <a href='vscode-notebook-cell:/c%3A/Users/Julian%20Jacobs/Documents/GitHub/Sequitur/sequitur_simplified.ipynb#X12sZmlsZQ%3D%3D?line=92'>93</a>\u001b[0m \u001b[39melse\u001b[39;00m: \n\u001b[1;32m---> <a href='vscode-notebook-cell:/c%3A/Users/Julian%20Jacobs/Documents/GitHub/Sequitur/sequitur_simplified.ipynb#X12sZmlsZQ%3D%3D?line=93'>94</a>\u001b[0m     branch\u001b[39m.\u001b[39;49madd(stalk,reads)\n\u001b[0;32m     <a href='vscode-notebook-cell:/c%3A/Users/Julian%20Jacobs/Documents/GitHub/Sequitur/sequitur_simplified.ipynb#X12sZmlsZQ%3D%3D?line=94'>95</a>\u001b[0m stalk_[\u001b[39m1\u001b[39m]\u001b[39m.\u001b[39mupdate(reads)\n\u001b[0;32m     <a href='vscode-notebook-cell:/c%3A/Users/Julian%20Jacobs/Documents/GitHub/Sequitur/sequitur_simplified.ipynb#X12sZmlsZQ%3D%3D?line=95'>96</a>\u001b[0m stalk_ \u001b[39m=\u001b[39m \u001b[39mtuple\u001b[39m(stalk_)\n",
      "\u001b[1;32mc:\\Users\\Julian Jacobs\\Documents\\GitHub\\Sequitur\\sequitur_simplified.ipynb Cell 10\u001b[0m in \u001b[0;36mBranch.add\u001b[1;34m(self, stalk, reads)\u001b[0m\n\u001b[0;32m    <a href='vscode-notebook-cell:/c%3A/Users/Julian%20Jacobs/Documents/GitHub/Sequitur/sequitur_simplified.ipynb#X12sZmlsZQ%3D%3D?line=99'>100</a>\u001b[0m \u001b[39mif\u001b[39;00m \u001b[39mtype\u001b[39m(stalk) \u001b[39m==\u001b[39m \u001b[39mstr\u001b[39m: stalk \u001b[39m=\u001b[39m Stalk(stalk)\n\u001b[0;32m    <a href='vscode-notebook-cell:/c%3A/Users/Julian%20Jacobs/Documents/GitHub/Sequitur/sequitur_simplified.ipynb#X12sZmlsZQ%3D%3D?line=100'>101</a>\u001b[0m \u001b[39mself\u001b[39m\u001b[39m.\u001b[39ms[stalk] \u001b[39m=\u001b[39m (stalk,reads)\n\u001b[1;32m--> <a href='vscode-notebook-cell:/c%3A/Users/Julian%20Jacobs/Documents/GitHub/Sequitur/sequitur_simplified.ipynb#X12sZmlsZQ%3D%3D?line=101'>102</a>\u001b[0m \u001b[39mself\u001b[39m[stalk] \u001b[39m=\u001b[39m Leaf(stalk)\n",
      "\u001b[1;32mc:\\Users\\Julian Jacobs\\Documents\\GitHub\\Sequitur\\sequitur_simplified.ipynb Cell 10\u001b[0m in \u001b[0;36mLeaf.__init__\u001b[1;34m(self, left, right)\u001b[0m\n\u001b[0;32m     <a href='vscode-notebook-cell:/c%3A/Users/Julian%20Jacobs/Documents/GitHub/Sequitur/sequitur_simplified.ipynb#X12sZmlsZQ%3D%3D?line=10'>11</a>\u001b[0m \u001b[39melse\u001b[39;00m:\n\u001b[0;32m     <a href='vscode-notebook-cell:/c%3A/Users/Julian%20Jacobs/Documents/GitHub/Sequitur/sequitur_simplified.ipynb#X12sZmlsZQ%3D%3D?line=11'>12</a>\u001b[0m     \u001b[39mself\u001b[39m\u001b[39m.\u001b[39mleft \u001b[39m=\u001b[39m left\n\u001b[1;32m---> <a href='vscode-notebook-cell:/c%3A/Users/Julian%20Jacobs/Documents/GitHub/Sequitur/sequitur_simplified.ipynb#X12sZmlsZQ%3D%3D?line=12'>13</a>\u001b[0m     \u001b[39mself\u001b[39m\u001b[39m.\u001b[39mright \u001b[39m=\u001b[39m Leaf(right)\n",
      "\u001b[1;32mc:\\Users\\Julian Jacobs\\Documents\\GitHub\\Sequitur\\sequitur_simplified.ipynb Cell 10\u001b[0m in \u001b[0;36mLeaf.__init__\u001b[1;34m(self, left, right)\u001b[0m\n\u001b[0;32m      <a href='vscode-notebook-cell:/c%3A/Users/Julian%20Jacobs/Documents/GitHub/Sequitur/sequitur_simplified.ipynb#X12sZmlsZQ%3D%3D?line=6'>7</a>\u001b[0m \u001b[39mdef\u001b[39;00m \u001b[39m__init__\u001b[39m(\u001b[39mself\u001b[39m,left,right\u001b[39m=\u001b[39m\u001b[39m'\u001b[39m\u001b[39m'\u001b[39m):\n\u001b[1;32m----> <a href='vscode-notebook-cell:/c%3A/Users/Julian%20Jacobs/Documents/GitHub/Sequitur/sequitur_simplified.ipynb#X12sZmlsZQ%3D%3D?line=7'>8</a>\u001b[0m     \u001b[39mif\u001b[39;00m \u001b[39mlen\u001b[39;49m(left) \u001b[39m==\u001b[39m \u001b[39m0\u001b[39m:\n\u001b[0;32m      <a href='vscode-notebook-cell:/c%3A/Users/Julian%20Jacobs/Documents/GitHub/Sequitur/sequitur_simplified.ipynb#X12sZmlsZQ%3D%3D?line=8'>9</a>\u001b[0m         \u001b[39mself\u001b[39m\u001b[39m.\u001b[39mleft \u001b[39m=\u001b[39m left\n\u001b[0;32m     <a href='vscode-notebook-cell:/c%3A/Users/Julian%20Jacobs/Documents/GitHub/Sequitur/sequitur_simplified.ipynb#X12sZmlsZQ%3D%3D?line=9'>10</a>\u001b[0m         \u001b[39mself\u001b[39m\u001b[39m.\u001b[39mright \u001b[39m=\u001b[39m \u001b[39m1\u001b[39m\n",
      "\u001b[1;31mKeyboardInterrupt\u001b[0m: "
     ]
    }
   ],
   "source": [
    "successes = 0\n",
    "n = 1\n",
    "for seed in range(n):   \n",
    "    sequence = generate_genome_sequence(10000,seed=seed)\n",
    "    reads = generate_reads(sequence,250,500,50,100,seed=seed)\n",
    "    sequitur = Sequitur(reads,assemble=True)\n",
    "    s = '| Seed: ' + str(seed) + ' | '\n",
    "    if type(sequitur.sequence) is str and sequitur.sequence == sequence:\n",
    "        s+='SUC | ' + str(sequitur.sequence) + ' == ' + sequence\n",
    "        successes+=1\n",
    "    elif type(sequitur.sequence) is list and all(s in sequence for s in sequitur.sequence):\n",
    "        s+='PAR | ' + str(sequitur.sequence) + ' ~~ ' + sequence\n",
    "        successes+=0.5\n",
    "    else: s+='FAI | ' + sequitur.sequence + ' != ' + sequence\n",
    "    print(s)\n",
    "    print('-----------------------------------------')\n",
    "print('ACCURACY: '+str((successes/n)*100)+'%')"
   ]
  },
  {
   "attachments": {},
   "cell_type": "markdown",
   "metadata": {},
   "source": [
    "    SUC: returns the target sequence fully reconstructed\n",
    "    PAR: returns contigs all of which exist in the target sequence (consider coverage?)\n",
    "    FAI: returns a full sequence that is incorrectly reconstructed or a set of contigs where at least one is not found in the target sequence"
   ]
  },
  {
   "cell_type": "code",
   "execution_count": 12,
   "metadata": {},
   "outputs": [
    {
     "data": {
      "text/plain": [
       "['CAGATTTTCATATTATGCAGAAAATCTACTTCGCCTGATACGAGTCGGTTATCTTCGGATACTGTATAGTCCCACCTGGTGATCCTATGCTTGTGAGTACCCAGAAAATAGCGACGGACCGCGGTGTTAAGTGTCGAGCTACATCACTTCTCATGTAGCCAGAAGGCTGCAACTCATCGACTCTATGTAGTGACCGCGTCGATGTCAAACCCCGGGGGGAGCTCAGATATCCGATACAGGGATGAAGAAATAACCTCATCCCATTGGTGACGAAAGGTTGTAAG',\n",
       " 'GCTCAGATATCCGATACAGGGATGAAGAAATAACCTCATCCCATTGGTGACGAAAGGTTGTAAGTAGCTGGCCGCCGAGATAGCTGAGCGGCGAACCACTAGAAAAGGTTCAGACCCCGGAGCCCAGCCGTCACGATTGTTATGCGTATAAGCCCGGTTCACTACGTCCGTTCTGGCAAGCCGGGGCTAATCCGTCATTGTCAAGAGACATCTTTCGTCTCATTAGGCTACTAACGCCGCCGGGTCGTTACTCGAAAAGCAGGTGGAATTGGTGTATTCAGCTTGCTCGATTTGATCGATCTGCAAGGTGCTGTCTAGATAGATACCATGGCCCGGAAGTACGGGCTTCTGGCGCATGTCGCACTCGTCCCTGGTCACGAACTGTACAAACATTGGACACTCTTTCCCGTTCTGGTACAAAATGTGCTCCAATCATGCATGAAACAGATACATCGCTTGGGCCACG',\n",
       " 'GTACAAAATGTGCTCCAATCATGCATGAAACAGATACATCGCTTGGGCCACGTAGTCTAGAGCACACTAAATGAGACATCTTAGAGGAGATAGGCGTAGATCCGGTTACTAGCCGTGATGCAAGGTGGGGGAACGGGATGTTGTAACATGCGGGTGTGCACGCCACTAAGACGAAACCTAGTGCCTCTTGCTAGTCATTATTAGTACGAAGGGTTGTGCTCCGATAGTTGAAAATGTGGTGTTATGCTCACGGCGTGGTGTGTCTT',\n",
       " 'GCCTCTTGCTAGTCATTATTAGTACGAAGGGTTGTGCTCCGATAGTTGAAAATGTGGTGTTATGCTCACGGCGTGGTGTGTCTTTAACCCCAAGCTATCAATACTGAATAGGCTACATATGTTATACTCCGTGTCGTAAGGATGACGGCTCCGCTACTGGTGGTCTGTCGCCTCAGCCGTTGACCGCAACACCGTGAAGCACGGGTAAGGCAGCAGAAAGGCGAGAACTGCAGGAGAGCGTATTTGCGCAACCCTGAGGGTCTAGAGAGTCCACCTGGGC',\n",
       " 'AGCAGAAAGGCGAGAACTGCAGGAGAGCGTATTTGCGCAACCCTGAGGGTCTAGAGAGTCCACCTGGGCCTTTACGGAACTATATTGGTTTAATAAAACGGGTCCAGCAAGTGGATTTGGGTCCAGACTGAATCTCTCACGGCTTGTCTTTATGCCATTAAACTTGCCAGATTCTACTCCGCACCTACTCACACTTAATAATACAAGTGTCCGTTCTTCTGGCGGCAGGCGGGGTGTACCGCCACTCCTTCAACAATTTCCACTCGCTGCCGCGTGAGCTAGAGTGAAGCCAATCCTACTCGAACTTCGACCTGTTGTACCATATCTGCAAATTCCCTGCCGAGATACCGTAATATGTGGTATATGGCGAGTTAAAAAGGGAGATATGACGGCCCATGTGGGGAACGTGAACGTACGGCCAGTAGCAGGGCATGAAGTCATCCC',\n",
       " 'TAAAAAGGGAGATATGACGGCCCATGTGGGGAACGTGAACGTACGGCCAGTAGCAGGGCATGAAGTCATCCCACAGTCAGTGGCAATACGAACACACCTGCTGGTACCCGTTGATAATGGATCTTTTCGGTGGGAATTGCTCTGCTTAAGAGAGTAGGGACAGAACGTGCACGGGTTTACTCACCCTTCCGGAGTTCCAGTGTGAGGTAGATACGTGCAACCGAACAATAAAAAGGAACTCGGGCCCTACTAGGTAACACCCCGAAGCATCCAGGAATCCCAACAAACGGTCAGCGGGTTTATCTGCACATGGGGTTGGGTTAGCGCGCCCTCCCAGCGGCGTGATCGTACGACTAACGGGGGACTAGCA',\n",
       " 'GGGGTTGGGTTAGCGCGCCCTCCCAGCGGCGTGATCGTACGACTAACGGGGGACTAGCACGGTCGACGACACCGGCCCAGTTTCGCTAGCCCCCACTGCAGACCATCGCACGTAAGTGCTAGGGATGTAGAGACGCGGGGTTAGCGAATTCGGTGGCGCGATGCTTCTCACAAATTGCTTATTCGAGGTCGATGCCCTAGGCTTACATCCTTAGGCCGCCGCTTTGCGCGCAGATTCTTTGCAAAATCTTCTTACTTTGGCGCAAACTGTGATATGTTGACTTTCGCGCCCCTCAATATCGGGTATTTGGTGGCATCTCTAAGGTGGTGTTCCCCCAGAGTAGGGTC',\n",
       " 'ATCGGGTATTTGGTGGCATCTCTAAGGTGGTGTTCCCCCAGAGTAGGGTCGCGTTCATGCCAGTCGATAGATCACGCTTGGCCCCCCATCTCGGCAGCCCTTAACTCCGCGGATTATCCCAGAGCAAATGATTGCTGGTTTGCCACCCACTTTAACAATGTCCGTGATCGAGACATCAGCCGATATATATACTTCTTGTAACGAAGACAAATCAGTATGTAAGTTCGGTTAGCTTGCGTTTTCGAACTAGGGGCACTATTGGCACGATGAGATAAGTATGACCAAAAGCCCCCAGTGCGCAGA',\n",
       " 'AATCAGTATGTAAGTTCGGTTAGCTTGCGTTTTCGAACTAGGGGCACTATTGGCACGATGAGATAAGTATGACCAAAAGCCCCCAGTGCGCAGAATGTTTACCATTGGCCCCAGATGCCGCTATATGGGCCTATTACCTAGTCGACCTACTGTTTATCTCAGTTACGTTGAGCGAAGTGAGCATTATCTTCATATACATAGAGAAAAGGGATGGCGCGCCCGGGGATGCCCCAGTCCCAGTCCATCTAGCGTGAAACATTACTTACACGCGGGGGGAAATACAGTGACACACCATACTCACCAACGAGCTAGGGTTTGACTTCCAAGCCGTATTAACTTGACCGTGAGCCCACTCATGACAATTCCTATCACGT',\n",
       " 'GAAATACAGTGACACACCATACTCACCAACGAGCTAGGGTTTGACTTCCAAGCCGTATTAACTTGACCGTGAGCCCACTCATGACAATTCCTATCACGTTGTCTGTGTCTACGAATTATACTGAGAGGCCTGTCTTAGAGGAAGCCGACTGTTTATAAAAGAGGCTGATGCCGAATCTCCCATACGATCATCGTCATTTTGTGAATTCTCCGTTGGTTTGCGCGAAGTCGGTACTACCATACAATTAAGATCGTAGGTTGACTGTTTGCCAGGTAGCCACTCGCCGCCTTTGAAAGCCCTTGTGTGAACTCAAAACGCTTGGTATTCAGCATAGGATGAGTATATTAAATGCTACGTCTGGATTCGCTTCATGTTAGCGTGAGAAATCTCCACAAAAAAGTCGAATCCTCGTCGAAAGATAAAGGGTTACGCAGTATCGAGGCGCCACTGCTGTTAGAGGCCCCTGGATCTTAGACAT',\n",
       " 'GAATCCTCGTCGAAAGATAAAGGGTTACGCAGTATCGAGGCGCCACTGCTGTTAGAGGCCCCTGGATCTTAGACATTCATCCCGGGGGCACGTAGACCGCATGGCAATGGTGGTGGATCTGGAAACCTGTTAATCCTTTATCTCGAGGCGGTCTGGCGAGGTGGCGGGCGTTTCTAACGAGATAGCAGCGTCAAGATACGCTGCAATTATGTACGTTCAGTCCTATTCGAGAGACGTTGAGATCGCCATAGATGAGCCACTACTAATCATTCCCATGGCGTCGGCGGGCCAACGCGCCACTGGCGTAACTTGGTGCGGGTCGCTAAGATCTGAGGATTTTGTCTTGAACGGTTATATCAC',\n",
       " 'ACTGGCGTAACTTGGTGCGGGTCGCTAAGATCTGAGGATTTTGTCTTGAACGGTTATATCACTTCCCAGGTCTTCACCCAGAAGGCAGCCACTGCACCTCTTCATCCACCCCGAGAGGCTTCCATTGCTTGCAAGTCTGGCTCTGCCCGAACTCGTATCAGGCTATGTCACATCATTGTATTCAACGACTCTCCGTAAATTGCATCTCCCCGGTCCGAAAGACTATCACGGTCTTATGAGCGGAATTGCGCGGCAAACTGAGGACACTGGTATAGTCCTGAACTCGACCCTCGCCCACAGGGACAATTTGCTTGTGGTCGAGCATAAATACCTTCGCCCAGGAACCGTATGCCAGCTATTCAAGGTGGTACTGTGATGACGTCCGACGAAGACTCTTACTGGTATCCTTAGCACCAGCCTTCCACACAACGCGGCAGTGAATAGG',\n",
       " 'CTTACTGGTATCCTTAGCACCAGCCTTCCACACAACGCGGCAGTGAATAGGGTGTTGAAATACAACTACGCGGTTCTTAAAGTCGTCTTTCCTAGGTTGAACTTCTACTTGCACACTGGTCATTGTGCGCTTGTGGTAAGTGCGCCCGCTATTCCAACTTCGTGAGCATGGTACACTTAAGGGAGTAGGCGGCGGAACCTGGTCGAGAATTATAAATATCGATTGCACTTGTATTGAATCGCATGAGACG',\n",
       " 'GAACCTGGTCGAGAATTATAAATATCGATTGCACTTGTATTGAATCGCATGAGACGCCGACGATTTTGTCCACGCCCCCTCATTTTTTGTCCTAGCTCCTTAGCCGTGCATAAAAAACGACTGGGCCTAGATTGAAACTCCACTAGGGCTAAGCAGACGACGTTCACGACCCCTAACGCGAAGCTGCGCGAGACTTAATTAGTTGCCTCCCTCGTCACAGAACTGTTTTTGACGCATCGAACCTCGGGCACGGCAAGCTTTACGAACCCTCTTGAATGGGGGAATGGATGATGTTCCATGCGCACTTGCAGCGCTTACGCCTATTATAGTTATTAGAGGGACACGACGTCATATGCTTGGTACA',\n",
       " 'GAATGGATGATGTTCCATGCGCACTTGCAGCGCTTACGCCTATTATAGTTATTAGAGGGACACGACGTCATATGCTTGGTACAACGTCCCTAAGGGGGGTTTTGGTCCTGGTTAGTGTCTCTCCGAGCTTGGCATGAGTTTATGTCGCCTAAGCTTCTCACTGGTGATACAGTGCGTGTGGAGAGCAGAGGATTGGGCTAATTGATCCGCCTCGGCCATGTTTGTTACGAGATTGCCAGTTTGTATGACTACTATCCAAAAGAGTTATTGTTTCTTTAGGCGAACAAGGACTTATTATAACCTTGCGCCCCCCACTTGTTATCTGAGACTGCTGGAAGTTGTTTTAATGCAAGACTACCTACGTGCCAGTTGCAGTCCCCGAGCTGCTTAGGCACTCGTCGGGACCGCAAATGCAACCCATCCTGATGGCACAT',\n",
       " 'GCAAGACTACCTACGTGCCAGTTGCAGTCCCCGAGCTGCTTAGGCACTCGTCGGGACCGCAAATGCAACCCATCCTGATGGCACATTCGAGCGTGAAAGCAGCAAAGCAGTTGACCGAGCGCTTTGACCACAGGAAGCGGACTCTCCATATCCGGTTAAGTTTCGCGGCATGGACCGTGAATCTTCGGCGAGCGGCATCTCATATCTGTCACCTTTGGAGATTCCGATATTATAACGTGGGCTCCTACCCGCACTAGGGTCGTACTCGGATTTGATTCGAGTCGTGTACCACGGCCTGGACTGGTGGTAAAGGCTCCGATTGGTATCCTAGAAAGCTACATCATAACTCTTTGAGAAGACCATACGTATGGCTTATGAAGCTATAACATTGACTTGCACGA',\n",
       " 'TAAAGGCTCCGATTGGTATCCTAGAAAGCTACATCATAACTCTTTGAGAAGACCATACGTATGGCTTATGAAGCTATAACATTGACTTGCACGATTCCGTTGTGTAACCCGTAAACGCCCACAGGGGTGCATCCTACAGGCTCCTCTTACACAAGCTGCCCCTATCGGGTCACCGCTGCGTTCTGACCCTAATTTTACATCCTTGATGGGCTCCACAGTCTGATGTTTCAGCCCGGTTGGGGCTTGACACCGCTTGATGCGACTCTATCACTATCTTACAGATCTTCCAGCTGCTTACCAGTACATGCGCCGCGTCCACTGGTATACTCGGCATTGGGCCCTACGGTGTATTCATTCGTCTACTGGTGAAGCCAGTCAAATTTTCTCACGGCAACTGTGGATCGGGGAGCGTCAGTAATGGACGGGTCATGCCTCTTAGATCTTCAATCCAGTTGGGGACTCTGGCAGGAGTTCACAGGA',\n",
       " 'ATCGGGGAGCGTCAGTAATGGACGGGTCATGCCTCTTAGATCTTCAATCCAGTTGGGGACTCTGGCAGGAGTTCACAGGACCCTGCTCACAAATGTCCATACATAGGCTAGTATCTATTAGGCTTTGAATTCCGCCTTGAGGGATCACAGGGAACCCGCCTCTGCGCTACAACTGCAATGTTTAGAGCACACCTTCCCTCATTGATTACGCTAGAGGCAGACCCAAAAGTAATTAGGTAGACCATCCCTAGTACGAG',\n",
       " 'CCTCTGCGCTACAACTGCAATGTTTAGAGCACACCTTCCCTCATTGATTACGCTAGAGGCAGACCCAAAAGTAATTAGGTAGACCATCCCTAGTACGAGAAGTGTGTTCGGAGATCTGGAGTCCTATCGAGCGAGTACCTGTTATATCTGCCTAAATAGTGCCTCCTGTGGCGAATCATATCAGTCATCAATGGAGTCTCTATGTAATAGTAAGATTTCTAGTTTTACCATTCATCTTTAGAATTCCCTGAATCTC',\n",
       " 'CTCTATGTAATAGTAAGATTTCTAGTTTTACCATTCATCTTTAGAATTCCCTGAATCTCGAGGAGGATACTTGTATAGAGCGCCCAAACGGTTATTCCATTCAGTTCCTCAAGCGTTCGCGAGCCGCCATGCCGATTTACTTGGGCGGATCGAGCAGGAGATAAACTACGACTCTAGTCGCACATCCCGAACACATCTGCGGTACGATTCCAGTCAACCCCGACTAACTCTCCAGCCTCGGCGCAAGGCCTGGACAGTACTATTTCTACCGGAATACGGCTCTATTTAAGGCCTTTACAGGTCCGGGAGTTTTCACTTAAATTGCTGTAACTTGGACTAACGCCGACATGCCCGCAGTCGACCGCCTAGGCAGTTTAGGCGGTCTCTT',\n",
       " 'AGGCCTTTACAGGTCCGGGAGTTTTCACTTAAATTGCTGTAACTTGGACTAACGCCGACATGCCCGCAGTCGACCGCCTAGGCAGTTTAGGCGGTCTCTTATACGGTGGCGCCATCGCCAGATGAACAGACCCCAATTACCAGTCATGGATGTTTTGCTAGGAATCTCTTCCACTTACATATACCTGCATGAACGGATGTGCCCAATCCTAATCGTCTCGGAAATATGAATGAGTCGTACGAAATTATGCTTTGTTCCCCAGATTCCGGCACACCTCCTGGCCTGACCGAACATAACATTCGTCTGAGAGAGAAGGATGAAGGGCGTGACTTTCTTTCTATTCCCACTGGAGCGGAGTTGGAAGTCCGTACCCACACCATGCATCAAAACGATCGTGCGGGGCCATCGGGGAAATGGCGGTGCCACCGTTGGGTTATTAAGCAACGTGGCGACTGCGAAACTTATACAGATCCCCTCCCGAGATTAATCT',\n",
       " 'TGGCGGTGCCACCGTTGGGTTATTAAGCAACGTGGCGACTGCGAAACTTATACAGATCCCCTCCCGAGATTAATCTGAAACCGAGCAATCGAAGCCCGTGAAGCAGGCATCGGTTTGTAAACGCAAGCTTAATGGAAGCGTTCCTTCACCCAAACTGATGTCTAACCCACTTTGCCTATGGATACGGGACCTGGTTAACGATGCAGAGCTGAGATTCCAACCGATTTGTTGGCCGATGTCAATATCCCATCTGTCTGCGAGGGCCTAGAAAATCTTTCATCAGTACCCCCCATATGGGCGGGAGTCAAATACTTAGTATCAAGTAGGTAGCCACTATAACTAAACCAACTATGGCCCACCGAACCATGGCCCCTAGCAAGATTCAGGGCGGTGTAAAAGTTGGACTTCGTGGCAAATATGGAGTA',\n",
       " 'ACTAAACCAACTATGGCCCACCGAACCATGGCCCCTAGCAAGATTCAGGGCGGTGTAAAAGTTGGACTTCGTGGCAAATATGGAGTACTATGAGAACTCTGACAATGGCGCACACGTGCCCTCCCTCGGCGGCCCGACCATAGTCTCCGCAGGGAGCTATTAAAAAACGCTAACGCCCCGCCAGCTTATAATGGGTCAATGCATATACGGGATTACATTACATAGAACTGGACTCTACGAATAATTCATGCAATACGTCTGGGTCGACCATAAGAGCCGATAGATTAATTGTTTTTATGAACTTAATGAAATCTGTACTGTTTAACTCGCTCGACTAGAAGTCTGGGGGCCACGACACTACCTTCAGAGCCGCATCGCCTGGTCCACTCTCAAAAATTATGGGTTAAGTTCCCAGCAGGCCGGCAACGCAAGTCGATTGGGAACCAACCTGCATACACCGCGCGGTGATCATCTTCGGCTTTATGTGATTTTGATCAG',\n",
       " 'ACGCAAGTCGATTGGGAACCAACCTGCATACACCGCGCGGTGATCATCTTCGGCTTTATGTGATTTTGATCAGCTCGCGTACTAGGGATAACTCTGGTGGCTTTCCTTATAACGCAATCACGAGCCTACGACAACCGCCTAAGACATTACGATGCCGAGGCAAGCCCCTGTTAGATGTAAGTACCATACAGGAAGGCCCTATTAAGTGTATGTACGGCACGTGGGTCCTCAACAAATACGCCTATAATGTCGCCTGCAGTCTCGACCTCATGTTCCAACTCTGTAAAGCCTGTGCTTAACGTGTGTTCCTGGGTAGAGACGCGTCTGGACCGTTCAGATCTGTGACTAAACCATGCCAAGGACGTTGAGATCCCGTGGAGCCCTGTTCCTCGCCCGAACAGACTTAAACTTGCCTCCGTTGCCACCAGCAGTCCG',\n",
       " 'GATCTGTGACTAAACCATGCCAAGGACGTTGAGATCCCGTGGAGCCCTGTTCCTCGCCCGAACAGACTTAAACTTGCCTCCGTTGCCACCAGCAGTCCGCCCTCCCAGCTTGCAAAAGTAAGGGCCGCCGGGGAACCTTCATTTGGTAGAATTGTCGCAGATATATCTGACCCGCGGATGATATAACCATTCACCTGGACCACGGGTGTGCATCGAGCGGGCGGGTATCTCCGTTAAGCTAGCGGTTCGCCTGAGTGACTTAATTACTGTTTTATCCCATGCCTGGCCCGCAACTTAGCATAGCTCGCGCTAAAGGAGCTCATAGTTTCTGTATTAAGGGTTTCCCCAACTGGGACCGCAGTGGCTCGCGCCTGAAATGATTGTT',\n",
       " 'ATAGCTCGCGCTAAAGGAGCTCATAGTTTCTGTATTAAGGGTTTCCCCAACTGGGACCGCAGTGGCTCGCGCCTGAAATGATTGTTGGTAACGAGAATGCCTCGGACCGTGTTTTGATTTTCGTCCTGACAGATAGAAGCAGCCGCGCTAAGGTATTGAAGTGGCTTCGATGTGCGTGCTGGCCCGAACCCATCCGTTAATCTACAGGCGATAACGTACAAAGATCGCAACCCAGAGACCAACCTCCATTACTGTGGTTCGTTTACGCAGTACGCTTCCAGTGGGTCCGGGGTGCATCGCATTGGACCCGGCCCCCATCTTGAGCCCTTCAAAATCAACATGCGTTTTTGAGGATTGTGAGCGACCCTACTCGGCTATGCAACTAAGGTACCCCTCCTGTCTAAACACGGATTCAGGCGTCGGAGTACCAGCTGACACAGCCACC',\n",
       " 'GCTATGCAACTAAGGTACCCCTCCTGTCTAAACACGGATTCAGGCGTCGGAGTACCAGCTGACACAGCCACCCCCCCGTCCTCCTTCACCCTCTAGATCTCTTAACCCGTGAATTATCTCAAGACCCTGCCGGTATATGAGACTAGCCATTACCGTTCAGTCGCCTTCTACTCTAAACCTCTAGTTGCTAAGGTTGAGCAAACTGTATATGCTCTCGTATTGCAAGACTCCAAGAAACTCAACCCATCTCCGAGTAGACTTCTGCGGAATTACCGGAGCTATACACCTCCCCGCAGGAACAACAGCACTATAACAAAGTTGTACCGTTAGTTCTCCCAGCTAAGAGCCCGCGCTTCTGGGGCGAGCCGCGCCTCGGTGCGGAATTGGCCAAAACCGACGTTGTTAGTTAGAGTGATGTTTCCGCTCGACAACATGTTCGCAGAAAATCGGGACGGATGTGCGAGTACCATGGAAGTTTTAGAACTCGTTG',\n",
       " 'CGCTCGACAACATGTTCGCAGAAAATCGGGACGGATGTGCGAGTACCATGGAAGTTTTAGAACTCGTTGTTTTAGTGTACAATCGCATACTCATACGGACCATCTGCGGTAGGATTTAGTTGAGCCAAGTTGGGATCATCCGCGACTGTCTAGGAGCGTGCGGTGGTCCCGTAAAGTGCAACGTGGGAGGTTTAGACGATCGTGTGACCTGATAGCGACTTCTAGTCGAGACAACACGCTTGATCGTTTTTAAGCGTTAGAAGCCATGTACACCTGGTGAAAAACAAAATGCCCTTTTAAGCGCGGGGAGCTCTCCTAGTATATCTACGGGGCTAGCGTTGCCCCCGAAGCCGCCCTTACCCTTCGAACCCCTAGTCCATGAAGCGGTTGA',\n",
       " 'GGGAGCTCTCCTAGTATATCTACGGGGCTAGCGTTGCCCCCGAAGCCGCCCTTACCCTTCGAACCCCTAGTCCATGAAGCGGTTGATGGCTAGCTGACCGTGAATGAGCAAAATGAAGCGTGATAATATAGTTACGTCTTTTTCAACAATGCCTATTGGCCTCTGCACCAATACTCTATGTTTATATAATATTGATTGTTCACGATCACGGCGTCCAAGTTGCCGGCAAAGCATGGACGTGCCGCCCCTTGAGTAGCGTATGAACATAGGCCGGTTCTGTCGTTAACGAACTTTCTTGTCACCTCCAATACGCCCTACTGTGCACGGCGATCCCCGCG',\n",
       " 'GTAGCGTATGAACATAGGCCGGTTCTGTCGTTAACGAACTTTCTTGTCACCTCCAATACGCCCTACTGTGCACGGCGATCCCCGCGAGCGCTGGTATGTGAGGCAACGCAGTAACCGTACCCATCCAGAGACATCGAGTACCCTGCTTGAATAGACTTTCATCCGAGGGCAGTCGATATAGGTGTGATCACAAAGCGTTAGAAAGGACTCAGTCACTTGGTCGACAATAGGCTCCAGGAACAGAAGCACTTTATAAACGTGCCATACCCAAGCAGAGTAAATACCAGTCCGTCCGGTTGGTGAAGGCTTTTTACCTCAATTTGGAGTGTTATACGGATATTACGAAAAGGAGAAACGAAGCCAGTTTTCCTCACCACCTCTCTACGGTCATAAAGAGCGGCCAAGCACGCACTTCTAATAGTT',\n",
       " 'TATTACGAAAAGGAGAAACGAAGCCAGTTTTCCTCACCACCTCTCTACGGTCATAAAGAGCGGCCAAGCACGCACTTCTAATAGTTGGAGGTACCCACGGCCGAGCAAGGTTGATTATCGAGCTATTTGTCTGACACTGGAGCCACAGTAGGGGGCCTAGTCCAGAGCACATCCACGTCTCTGGATAGCTAGCGCAGACGGCACTGCCTCAATTTTCTGACGAGGGAACGACTTTCCTTCGGGAATGTCGATCGTTTCCCACGCGGAAAAGCCCGTCAGACAGGCGACGAGTACAATGCATTCTAACGTTATCCAATCAAGGACACAGCGTCTCGCTCGGTTCCCCTTGCCGATGCGAGACTAAAATTGCCAAGAAACCAGCCAGTGTTCGCTCTCAGCTCGGACCGGTAACGCCGCACTTGCAGTTCAGGTCGGTCATCCATCCACAATCTGGACGAAGGGGCTTGTGTCTGATGGTGAGCAGCCGC',\n",
       " 'GGTAACGCCGCACTTGCAGTTCAGGTCGGTCATCCATCCACAATCTGGACGAAGGGGCTTGTGTCTGATGGTGAGCAGCCGCAGCGTACGGGAATGAACGAAGATTACCAGGGCGGTACCCCAAAACGTCCCGCCATGTCGCATGTTACGGTTTGATATAGCCGTCCCGTACCTGGCGTATCTGGAGTCAATAGTCAAGTCGTCCCATTACAAATTGCAGTAGCTCAGATCGTCGTCACGTCGTACTTTTGCCGAAAGTATAATCTGTGGCAAAAAACGTAAACCTACCCCCAGACACCACTCCGAAGGGACTAAAATCAAAATTAAAAGAGGCGA']"
      ]
     },
     "execution_count": 12,
     "metadata": {},
     "output_type": "execute_result"
    }
   ],
   "source": [
    "sequence = generate_genome_sequence(10000,seed=seed)\n",
    "reads = generate_reads(sequence,250,500,50,100,seed=seed)\n",
    "reads"
   ]
  },
  {
   "cell_type": "code",
   "execution_count": 20,
   "metadata": {},
   "outputs": [
    {
     "data": {
      "text/plain": [
       "('ATGCCGTATGGACAACGACT', 'ATGCCGTATGGACAACGACT')"
      ]
     },
     "execution_count": 20,
     "metadata": {},
     "output_type": "execute_result"
    }
   ],
   "source": [
    "sequence = 'ATGCCGTATGGACAACGACT'\n",
    "reads = ['ATGCCGTATG','GCCGTATGGA','GTATGGACAA','GACAACGACT']\n",
    "sequitur = Sequitur(reads,sequence,assemble=True)\n",
    "sequitur.sequence,sequence"
   ]
  },
  {
   "attachments": {},
   "cell_type": "markdown",
   "metadata": {},
   "source": [
    "# DeBruijn Graph"
   ]
  },
  {
   "cell_type": "code",
   "execution_count": 14,
   "metadata": {},
   "outputs": [],
   "source": [
    "# ! pip install networkx\n",
    "import networkx as nx"
   ]
  },
  {
   "cell_type": "code",
   "execution_count": 15,
   "metadata": {},
   "outputs": [],
   "source": [
    "def construct_debruijn_graph(reads,k=3):\n",
    "    import networkx as nx\n",
    "    \n",
    "    G = nx.MultiDiGraph()\n",
    "    for read in reads:\n",
    "        for i in range(len(read)-k+1):\n",
    "            G.add_edge(read[i:i+k-1],read[i+1:i+k])\n",
    "    return G\n",
    "\n",
    "def all_eulerian_paths_of(G):\n",
    "    paths = []\n",
    "    g = nx.DiGraph()\n",
    "    while len(list(nx.selfloop_edges(G))):\n",
    "        g.add_edge(list(nx.selfloop_edges(G))[0][0],list(nx.selfloop_edges(G))[0][1])\n",
    "        G.remove_edges_from(g.edges)\n",
    "        paths += [g.copy()]\n",
    "        g.clear()\n",
    "    n = min(i[1] for i in G.in_degree())\n",
    "    while n <= max(i[1] for i in G.in_degree()):\n",
    "        if not len(g): \n",
    "            if len(nx.subgraph_view(G,filter_node=lambda node: G.in_degree(node)==n)): \n",
    "                if len(G.in_edges(nx.subgraph_view(G,filter_node=lambda node: G.in_degree(node)==n).nodes())): \n",
    "                    edge = list(G.in_edges(nx.subgraph_view(G,filter_node=lambda node: G.in_degree(node)==n).nodes()))[0]\n",
    "                    if len(set(G.in_edges(nx.subgraph_view(G,filter_node=lambda node: G.in_degree(node)==n).nodes())).intersection(G.in_edges(edge[0]))): \n",
    "                        edge = list(set(G.in_edges(nx.subgraph_view(G,filter_node=lambda node: G.in_degree(node)==n).nodes())).intersection(G.in_edges(edge[0])))[0]\n",
    "                else: edge = list(G.out_edges(nx.subgraph_view(G,filter_node=lambda node: G.in_degree(node)==n).nodes()))[0]\n",
    "            else: \n",
    "                n+=1\n",
    "                continue\n",
    "        else: edge = list(G.out_edges([edge[1]]))[0]\n",
    "        g.add_edge(edge[0],edge[1])\n",
    "        if G.out_degree(edge[1]) != 1:\n",
    "            G.remove_edges_from(g.edges)\n",
    "            paths += [g.copy()]\n",
    "            g.clear()\n",
    "            if not len(G.edges): break\n",
    "            n = min(i[1] for i in nx.subgraph_view(G,filter_node=lambda node: G.out_degree(node) > 0).in_degree())\n",
    "    return paths\n",
    "\n",
    "def assemble(G):\n",
    "    contigs = []\n",
    "    for g in G:\n",
    "        seq = ''\n",
    "        init = True\n",
    "        for n in nx.eulerian_path(g):\n",
    "            if init: \n",
    "                seq = n[0] + n[1][-1]\n",
    "                init = False\n",
    "                continue\n",
    "            seq += n[1][-1]\n",
    "        contigs += [seq]\n",
    "    return contigs"
   ]
  },
  {
   "cell_type": "code",
   "execution_count": 16,
   "metadata": {},
   "outputs": [
    {
     "name": "stdout",
     "output_type": "stream",
     "text": [
      "| k = 3 | PAR | ['_to_make', 'ke_', 'ke_', 'ht_', 'ht_', 't_b', 't_b', 'r_w', 'r_w', '_wa', '_wa', 'was', 'was', 'as_', 'as_', 'as_', 's_b', 's_b', '_be', '_be', '_be', 'bet', 'bet', 'bet', 'bet', 'ett', 'ett', 'ett', 'ett', 'tty', 'tty', 'tty', 'ty_', 'ty_', 'ty_', 'y_b', 'y_b', 'y_b', '_bo', '_bo', '_bo', 'bou', 'bou', 'bou', 'oug', 'oug', 'oug', 'ugh', 'ugh', 'ugh', 'ght', 'ght', 'ght', 'the', 'the', 'the', 'he_', 'he_', 'he_', 'he_', 'e_b', 'e_b', 'e_b', 'e_t', 'e_t', '_bi', '_bi', '_bi', 'bit', 'bit', 'bit', 'itt', 'itt', 'itt', 'r_t', 'r_t', 'r_t', 'r_t', '_th', '_th', '_th', '_th', 'r_b', 'r_b', 'r_b', 'r_b', 'r_b', '_bu', '_bu', '_bu', '_bu', '_bu', '_bu', 'but', 'but', 'but', 'but', 'but', 'but', 'utt', 'utt', 'utt', 'utt', 'utt', 'utt', 'tte', 'tte', 'tte', 'tte', 'tte', 'tte', 'tte', 'tte', 'tte', 'tte', 'tte', 'tte', 'ter', 'ter', 'ter', 'ter', 'ter', 'ter', 'ter', 'ter', 'ter', 'ter', 'ter', 'ter', 'er_', 'er_', 'er_', 'er_', 'er_', 'er_', 'er_', 'er_', 'er_', 'er_', 'er_']\n",
      "| k = 4 | PAR | ['r_to_make_', 'ke_t', 'ke_t', 'e_th', 'e_th', 'etty', 'etty', 'tty_', 'tty_', 'tty_', 'ty_b', 'ty_b', 'ty_b', 'y_bo', 'y_bo', 'y_bo', '_bou', '_bou', '_bou', 'boug', 'boug', 'boug', 'ough', 'ough', 'ough', 'ught', 'ught', 'ught', 'ght_', 'ght_', 'ht_b', 'ht_b', 't_bu', 't_be', 'r_th', 'r_th', '_the', '_the', '_the', 'the_', 'the_', 'the_', 'he_b', 'he_b', 'he_b', 'e_bu', 'e_bu', 'e_bi', 'er_w', 'er_w', 'r_wa', 'r_wa', '_was', '_was', 'was_', 'was_', 'as_b', 'as_b', 's_bi', 's_bi', '_bit', '_bit', '_bit', 'bitt', 'bitt', 'bitt', 'itte', 'itte', 'itte', 'r_be', 'r_be', '_bet', '_bet', '_bet', 'bett', 'bett', 'bett', 'bett', 'ette', 'ette', 'r_bu', 'r_bu', 'r_bu', '_but', '_but', '_but', '_but', '_but', '_but', 'butt', 'butt', 'butt', 'butt', 'butt', 'butt', 'utte', 'utte', 'utte', 'utte', 'utte', 'utte', 'tter', 'tter', 'tter', 'tter', 'tter', 'tter', 'tter', 'tter', 'tter', 'tter', 'tter', 'tter', 'ter_', 'ter_', 'ter_', 'ter_', 'ter_', 'ter_', 'ter_', 'ter_', 'ter_', 'ter_', 'ter_', 'er_t', 'er_t', 'er_t', 'er_t', 'er_b', 'er_b', 'er_b', 'er_b']\n",
      "| k = 5 | PAR | ['ht_but', 'was_b', 'as_bi', 'as_bi', 's_bit', 's_bit', 'he_bit', '_bitt', '_bitt', '_bitt', 'bitte', 'bitte', 'bitte', 'itter', 'itter', 'itter', 'ht_bet', 'er_to_make_t', 'ke_th', 'ke_th', 'e_the', 'e_the', 'r_the', '_the_', '_the_', '_the_', 'the_b', 'the_b', 'he_bu', 'he_bu', 'e_but', 'e_but', 'betty', 'betty', 'etty_', 'etty_', 'tty_b', 'tty_b', 'tty_b', 'ty_bo', 'ty_bo', 'ty_bo', 'y_bou', 'y_bou', 'y_bou', '_boug', '_boug', '_boug', 'bough', 'bough', 'bough', 'ought', 'ought', 'ought', 'ught_', 'ught_', 'ght_b', 'ght_b', 'er_th', 'ter_w', 'er_th', 'ter_w', 'er_wa', 'er_wa', 'r_was', 'r_was', '_was_', '_was_', 'er_be', 'er_be', 'r_bet', 'r_bet', '_bett', '_bett', '_bett', 'bette', 'bette', 'etter', 'etter', 'er_bu', 'er_bu', 'r_but', 'r_but', 'r_but', '_butt', '_butt', '_butt', '_butt', '_butt', '_butt', 'butte', 'butte', 'butte', 'butte', 'butte', 'butte', 'utter', 'utter', 'utter', 'utter', 'utter', 'utter', 'tter_', 'tter_', 'tter_', 'tter_', 'tter_', 'tter_', 'tter_', 'tter_', 'tter_', 'tter_', 'tter_', 'ter_t', 'ter_t', 'ter_t', 'ter_t', 'ter_b', 'ter_b', 'ter_b', 'ter_b']\n",
      "| k = 6 | PAR | ['_betty', 'betty_', 'betty_', 'etty_b', 'etty_b', 'tty_bo', 'tty_bo', 'tty_bo', 'ty_bou', 'ty_bou', 'ty_bou', 'y_boug', 'y_boug', 'y_boug', '_bough', '_bough', '_bough', 'bought', 'bought', 'bought', 'ought_', 'ought_', 'ught_b', 'ught_b', 'ght_butt', 'ght_bett', 'er_the_', 'the_bu', 'he_but', 'he_but', 'e_butt', 'e_butt', '_was_bi', 'as_bit', 'as_bit', 's_bitt', 's_bitt', 'he_bitt', '_bitte', '_bitte', '_bitte', 'bitter', 'bitter', 'bitter', 'itter_', 'itter_', 'itter_', 'ter_to_make_th', 'ke_the', 'ke_the', 'e_the_', 'e_the_', '_the_bi', '_the_b', 'ter_th', 'tter_w', 'ter_th', 'tter_w', 'ter_wa', 'ter_wa', 'er_was', 'er_was', 'r_was_', 'r_was_', 'ter_be', 'ter_be', 'er_bet', 'er_bet', 'r_bett', 'r_bett', '_bette', '_bette', 'better_', 'better', 'ter_bu', 'ter_bu', 'er_but', 'er_but', 'r_butt', 'r_butt', 'r_butt', '_butte', '_butte', '_butte', '_butte', '_butte', '_butte', 'butter', 'butter', 'butter', 'butter', 'butter', 'butter', 'utter_', 'utter_', 'utter_', 'utter_', 'utter_', 'utter_', 'tter_t', 'tter_t', 'tter_t', 'tter_t', 'tter_b', 'tter_b', 'tter_b', 'tter_b']\n",
      "| k = 7 | PAR | ['r_betty_', 'betty_b', 'betty_b', 'etty_bo', 'etty_bo', 'tty_bou', 'tty_bou', 'tty_bou', 'ty_boug', 'ty_boug', 'ty_boug', 'y_bough', 'y_bough', 'y_bough', '_bought', '_bought', '_bought', 'bought_', 'bought_', 'ought_b', 'ought_b', 'ught_butte', 'ught_bette', 'ter_the_b', 'e_the_b', '_the_but', '_the_bitte', 'he_butt', 'he_butt', 'e_butte', 'e_butte', 'r_was_bit', 'as_bitt', 'as_bitt', 's_bitte', 's_bitte', '_bitter', '_bitter', '_bitter', 'bitter_', 'bitter_', 'bitter_', 'itter_b', 'itter_b', 'r_bette', '_better_b', '_better', 'utter_b', 'tter_be', 'tter_be', 'tter_bu', 'tter_bu', 'ter_bet', 'ter_bet', 'er_bett', 'er_bett', 'ter_but', 'ter_but', 'er_butt', 'er_butt', 'r_butte', 'r_butte', 'r_butte', '_butter', '_butter', '_butter', '_butter', '_butter', '_butter', 'butter_', 'butter_', 'butter_', 'butter_', 'butter_', 'butter_', 'utter_t', 'utter_t', 'utter_t', 'utter_w', 'utter_w', 'tter_th', 'tter_th', 'tter_to_make_the', 'tter_wa', 'tter_wa', 'ter_was', 'ter_was', 'er_was_', 'er_was_', 'ke_the_', 'ke_the_']\n",
      "| k = 8 | PAR | ['r_betty_b', 'betty_bo', 'betty_bo', 'etty_bou', 'etty_bou', 'tty_boug', 'tty_boug', 'tty_boug', 'ty_bough', 'ty_bough', 'ty_bough', 'y_bought', 'y_bought', 'y_bought', '_bought_', '_bought_', 'bought_b', 'bought_b', 'ought_butter', 'ought_better_bu', 'utter_the_butt', 'he_butte', 'he_butte', 'e_butter', 'e_butter', 'er_was_bitt', 'as_bitte', 'as_bitte', 's_bitter', 's_bitter', 'he_bitter', '_bitter_', '_bitter_', '_bitter_', 'bitter_b', 'bitter_b', 'itter_be', 'itter_bu', 'tter_but', 'tter_but', 'ter_butt', 'ter_butt', 'er_butte', 'er_butte', 'r_butter', 'r_butter', 'r_butter', '_butter_', '_butter_', '_butter_', '_butter_', '_butter_', '_butter_', 'butter_to_make_the_bitt', 'butter_t', 'butter_t', 'butter_w', 'butter_w', 'butter_be', 'utter_wa', 'utter_wa', 'tter_was', 'tter_was', 'ter_was_', 'ter_was_', 'tter_bet', 'tter_bet', 'ter_bett', 'ter_bett', 'er_betty', 'er_better']\n",
      "| k = 9 | PAR | ['tter_the_butte', 'he_butter', 'he_butter', 'e_butter_', 'e_butter_', 'ke_the_bitter_', 'r_betty_bo', 'betty_bou', 'betty_bou', 'etty_boug', 'etty_boug', 'tty_bough', 'tty_bough', 'tty_bough', 'ty_bought', 'ty_bought', 'ty_bought', 'y_bought_', 'y_bought_', '_bought_b', '_bought_b', 'bought_butter_', 'bought_better_but', 'butter_th', 'ter_was_bitte', 'as_bitter', 'as_bitter', 's_bitter_', 's_bitter_', '_bitter_b', '_bitter_b', 'bitter_bet', 'bitter_but', 'tter_butt', 'tter_butt', 'ter_butte', 'ter_butte', 'er_butter', 'er_butter', 'r_butter_', 'r_butter_', 'r_butter_', '_butter_to_make_the_', '_butter_t', '_butter_t', '_butter_w', '_butter_w', '_butter_bet', 'butter_wa', 'butter_wa', 'utter_was', 'utter_was', 'tter_was_', 'tter_was_', 'tter_bett', 'tter_bett', 'ter_betty_', 'ter_better']\n",
      "| k = 10 | PAR | ['tter_the_butter', 'he_butter_', 'he_butter_', 'e_butter_w', 'e_butter_w', '_butter_wa', '_butter_wa', 'butter_was', 'butter_was', 'utter_was_bitter', 'utter_was_', 'as_bitter_b', 'as_bitter_', 'ke_the_bitter_b', '_bitter_bett', '_bitter_butt', 'r_betty_bou', 'betty_boug', 'betty_boug', 'etty_bough', 'etty_bough', 'tty_bought', 'tty_bought', 'tty_bought', 'ty_bought_', 'ty_bought_', 'y_bought_b', 'y_bought_b', '_bought_butter_t', '_bought_better_butt', 'tter_butte', 'tter_butte', 'ter_butter', 'ter_butter', 'er_butter_', 'er_butter_', 'r_butter_t', 'r_butter_t', '_butter_th', '_butter_to_make_the_', 'r_butter_bett', 'tter_betty_b', 'tter_better']\n",
      "| k = 11 | PAR | ['tter_the_butter_', 'he_butter_w', 'he_butter_w', 'e_butter_wa', 'e_butter_wa', '_butter_was', '_butter_was', 'butter_was_bitter_betty_boug', 'betty_bough', 'betty_bough', 'etty_bought', 'etty_bought', 'tty_bought_', 'tty_bought_', 'ty_bought_b', 'ty_bought_b', 'y_bought_butter_th', 'y_bought_better_butte', 'butter_was_', 'ke_the_bitter_butte', 'tter_butter', 'tter_butter', 'ter_butter_', 'ter_butter_', 'er_butter_to_make_the_', 'er_butter_better']\n",
      "| k = 12 | PAR | ['tter_the_butter_w', 'he_butter_wa', 'he_butter_wa', 'e_butter_was', 'e_butter_was', '_butter_was_bitter_', '_butter_was_', 'as_bitter_betty_bough', 'betty_bought_', 'betty_bought', 'tty_bought_b', 'tty_bought_b', 'ty_bought_butter_th', 'ty_bought_better_butter', 'r_butter_to_make_the_', 'ke_the_bitter_butter', 'tter_butter_', 'tter_butter_', 'ter_butter_t', 'ter_butter_better']\n",
      "| k = 13 | PAR | ['tter_the_butter_wa', 'he_butter_was', 'he_butter_was', 'e_butter_was_bitter_', 'e_butter_was_', 'as_bitter_betty_bought_b', 'tty_bought_butter_th', 'tty_bought_better_butter_', 'r_butter_to_make_the_', 'ke_the_bitter_butter_', 'tter_butter_t', 'tter_butter_better']\n",
      "| k = 14 | PAR | ['betty_bought_butter_th', 'tter_the_butter_was', 'he_butter_was_bitter_', 'he_butter_was_', 'as_bitter_betty_bought', 'tty_bought_better_butter_t', 'r_butter_to_make_the_', 'ke_the_bitter_butter_better']\n",
      "| k = 15 | PAR | ['betty_bought_butter_th', 'tter_the_butter_was_bitter_', 'as_bitter_betty_bought', 'tty_bought_better_butter_t', 'r_butter_to_make_the_', 'ke_the_bitter_butter_better']\n",
      "| k = 16 | PAR | ['betty_bought_butter_th', 'tter_the_butter_was_', 'he_butter_was_bitter_', 'as_bitter_betty_bought', 'tty_bought_better_butter_t', 'r_butter_to_make_the_', 'ke_the_bitter_butter_better']\n",
      "| k = 17 | PAR | ['betty_bought_butter_th', 'tter_the_butter_was_', 'he_butter_was_bitter_', 'as_bitter_betty_bought', 'tty_bought_better_butter_t', 'r_butter_to_make_the_', 'ke_the_bitter_butter_better']\n",
      "| k = 18 | PAR | ['betty_bought_butter_th', 'tter_the_butter_was_', 'he_butter_was_bitter_', 'as_bitter_betty_bought', 'tty_bought_better_butter_t', 'r_butter_to_make_the_', 'ke_the_bitter_butter_better']\n",
      "| k = 19 | PAR | ['betty_bought_butter_th', 'tter_the_butter_was_', 'he_butter_was_bitter_', 'as_bitter_betty_bought', 'tty_bought_better_butter_t', 'r_butter_to_make_the_', 'ke_the_bitter_butter_better']\n"
     ]
    }
   ],
   "source": [
    "sequence = 'betty_bought_butter_the_butter_was_bitter_betty_bought_better_butter_to_make_the_bitter_butter_better'\n",
    "reads = ['betty_bought_butter_th',\n",
    "                        'tter_the_butter_was_',\n",
    "                              'he_butter_was_bitter_',\n",
    "                                         'as_bitter_betty_bought',\n",
    "                                                     'tty_bought_better_butter_t',\n",
    "                                                                     'r_butter_to_make_the_',\n",
    "                                                                                   'ke_the_bitter_butter_better']\n",
    "for k in range(3,min(len(read) for read in reads)):\n",
    "      contigs = assemble(all_eulerian_paths_of(construct_debruijn_graph(reads,k)))\n",
    "      if len(contigs) == 1 and contigs[0] == sequence: print(\"| k = \" + str(k) + \" | SUC | \"+contigs[0] )\n",
    "      elif all(seq in sequence for seq in contigs): print(\"| k = \" + str(k) + \" | PAR | \" + str(contigs))\n",
    "      else: print(\"| k = \" + str(k) + \" | FAI | \" + str(contigs) )"
   ]
  },
  {
   "cell_type": "code",
   "execution_count": 17,
   "metadata": {},
   "outputs": [
    {
     "name": "stdout",
     "output_type": "stream",
     "text": [
      "| k = 3 | PAR | ['you s', ' sa', ' sa', 'say', 'say', 'ay ', 'ay ', 'y h', 'y h', 'o h', ' he', ' he', ' he', 'hel', 'hel', 'hel', 'bel', 'ell', 'ell', 'ell', 'llo', 'llo', 'lo ', 'lo ', 'low', 'ow ', 'ow ', 'w g', 'w g', ' go', ' go', 'go ', 'go ', ' to ', 'o w', 'o w', 'o t', 'o t', ' world', ' wo', 'ld,', 'ld,', 'd, ', 'd, ', ', i', ', i', ' i ', ' i ', 'i b', 'i b', ' be', ' be']\n",
      "| k = 4 | PAR | ['you sa', ' say', ' say', 'say ', 'say ', 'ay h', 'ay h', 'y he', 'y he', 'to he', ' hel', ' hel', ' hel', 'hell', 'hell', ' bell', 'ello', 'ello', 'llo ', 'llow ', 'lo w', 'lo w', 'o world,', 'o wo', 'ld, ', 'ld, ', 'd, i', 'd, i', ', i ', ', i ', ' i b', ' i b', 'i be', 'i be', 'ow g', 'ow g', 'w go', 'w go', ' go ', ' go ', 'go to ', 'go t']\n",
      "| k = 5 | PAR | ['you say', ' say ', ' say ', 'say h', 'say h', 'ay he', 'ay he', 'y hel', 'y hel', 'to hel', ' hello', ' hell', ' bello', 'ello w', 'ellow g', 'lo world, ', 'lo wo', 'ld, i', 'ld, i', 'd, i ', 'd, i ', ', i b', ', i b', ' i bel', ' i be', 'ow go', 'ow go', 'w go ', 'w go ', ' go to h', ' go t']\n",
      "| k = 6 | PAR | ['you say ', ' say h', ' say h', 'say he', 'say he', 'ay hello world, i', 'ay hel', 'ld, i ', 'ld, i ', 'd, i b', 'd, i b', ', i bellow go', ', i be', 'ow go ', 'ow go ', 'w go to hell', 'w go t']\n",
      "| k = 7 | PAR | ['you say h', ' say he', ' say he', 'say hello wo', 'say hel', 'lo world, i ', 'ld, i b', 'ld, i b', 'd, i bellow go ', 'd, i be', 'ow go to hell', 'ow go t']\n",
      "| k = 8 | PAR | ['you say he', ' say hello wo', ' say hel', 'lo world, i b', 'ld, i bellow go to hell', 'ld, i be']\n",
      "| k = 9 | PAR | ['you say hello wo', 'lo world, i bellow go t', 'ow go to hell']\n",
      "| k = 10 | PAR | ['you say hel', ' say hello wo', 'lo world, i be', 'ld, i bellow go t', 'ow go to hell']\n"
     ]
    }
   ],
   "source": [
    "sequence = 'you say hello world, i bellow go to hell'\n",
    "reads = ['you say hel',\n",
    "            ' say hello wo',\n",
    "                    'lo world, i be',\n",
    "                          'ld, i bellow go t',\n",
    "                                    'ow go to hell']\n",
    "for k in range(3,min(len(read) for read in reads)):\n",
    "      contigs = assemble(all_eulerian_paths_of(construct_debruijn_graph(reads,k)))\n",
    "      if len(contigs) == 1 and contigs[0] == sequence: print(\"| k = \" + str(k) + \" | SUC | \"+contigs[0] )\n",
    "      elif all(seq in sequence for seq in contigs): print(\"| k = \" + str(k) + \" | PAR | \" + str(contigs))\n",
    "      else: print(\"| k = \" + str(k) + \" | FAI | \" + str(contigs) )"
   ]
  },
  {
   "cell_type": "code",
   "execution_count": 18,
   "metadata": {},
   "outputs": [
    {
     "name": "stdout",
     "output_type": "stream",
     "text": [
      "| k = 3 | PAR | ['_on_the', 'shore', 'sea', 'sea', 'ea_', 'ea_', 'ea_', 'ea_', 'a_s', 'a_s', 'a_s', 'a_s', '_sh', '_sh', '_sh', 'she', 'she', 'she', 'she', 'he_', 'he_', 'he_', 'hel', 'hel', 'hel', 'e_s', 'e_s', 'e_s', 'sel', 'ell', 'ell', 'ell', 'lls', 'lls', 'lls', 'lls', 'ls_', 'ls_', 'ls_', 'ls_', 's_s', 's_s', '_se', '_se', '_se', 's_o', 's_o']\n",
      "| k = 4 | PAR | ['_sell', 's_on_the_', 'she_', 'he_s', 'he_s', 'he_s', 'e_se', 'e_se', 's_se', '_sea', '_sea', 'sea_', 'sea_', 'ea_s', 'ea_s', 'ea_s', 'ea_s', 'a_sh', 'a_sh', 'a_sh', '_she', '_she', 'shel', 'shel', 'shel', '_shore', 'hell', 'hell', 'ells', 'ells', 'ells', 'lls_', 'lls_', 'lls_', 'lls_', 'ls_s', 'ls_s', 'ls_o', 'ls_o']\n",
      "| k = 5 | PAR | ['she_s', '_the_s', 'he_se', 'he_se', 'e_sells', 'e_sea', 'ls_sea', '_sea_', '_sea_', 'sea_s', 'sea_s', 'ea_sh', 'ea_sh', 'ea_sh', 'a_she', 'a_she', 'a_shore', '_shel', '_shel', 'shell', 'shell', 'hells', 'hells', 'ells_', 'ells_', 'ells_', 'lls_s', 'lls_s', 'lls_on_the', 'lls_o']\n",
      "| k = 6 | PAR | ['she_se', 'he_sells_', 'he_sea_', 'ells_sea_', '_sea_sh', '_sea_s', 'ea_she', 'ea_she', 'ea_shore', 'a_shell', 'a_shel', 'shells', 'shells', 'hells_', 'hells_', 'ells_on_the_s', 'ells_o']\n",
      "| k = 7 | PAR | ['she_sells_s', 'lls_sea_she', 'ea_shells', 'ea_shel', 'shells_', 'shells_', 'hells_on_the_s', 'hells_o', 'he_sea_s', 'ea_shore']\n"
     ]
    }
   ],
   "source": [
    "sequence = 'she_sells_sea_shells_on_the_sea_shore'\n",
    "reads = ['she_sells_s',\n",
    "               'lls_sea_shel',\n",
    "                    'ea_shells_o',\n",
    "                       'shells_on_the_s',\n",
    "                                  'he_sea_s',\n",
    "                                      'ea_shore']\n",
    "for k in range(3,min(len(read) for read in reads)):\n",
    "      contigs = assemble(all_eulerian_paths_of(construct_debruijn_graph(reads,k)))\n",
    "      if len(contigs) == 1 and contigs[0] == sequence: print(\"| k = \" + str(k) + \" | SUC | \"+contigs[0])\n",
    "      elif all(seq in sequence for seq in contigs): print(\"| k = \" + str(k) + \" | PAR | \" + str(contigs))\n",
    "      else: print(\"| k = \" + str(k) + \" | FAI | \" + str(contigs))"
   ]
  },
  {
   "cell_type": "code",
   "execution_count": 19,
   "metadata": {},
   "outputs": [
    {
     "name": "stdout",
     "output_type": "stream",
     "text": [
      "| k = 3 | PAR | ['TGC', 'GCC', 'GCC', 'CCG', 'CCG', 'ACG', 'CGT', 'CGT', 'CGA', 'GTA', 'GTA', 'GTA', 'TAT', 'TAT', 'TAT', 'ATG', 'ATG', 'ATG', 'ATG', 'TGG', 'TGG', 'GGA', 'GGA', 'GAC', 'GAC', 'GAC', 'AAC', 'ACA', 'ACA', 'ACT', 'CAA', 'CAA']\n",
      "| k = 4 | PAR | ['ATGCC', 'GCCG', 'GCCG', 'CCGT', 'CCGT', 'CGTA', 'CGTA', 'GTAT', 'GTAT', 'GTAT', 'TATG', 'TATG', 'TATG', 'ATGG', 'ATGG', 'TGGAC', 'TGGA', 'ACGAC', 'GACA', 'GACA', 'GACT', 'ACAACG', 'ACAA']\n",
      "| k = 5 | PAR | ['ATGCCG', 'GCCGT', 'GCCGT', 'CCGTA', 'CCGTA', 'CGTAT', 'CGTAT', 'GTATG', 'GTATG', 'GTATG', 'TATGG', 'TATGG', 'ATGGACA', 'ATGGA', 'GACAACGACT', 'GACAA']\n",
      "| k = 6 | PAR | ['ATGCCGT', 'GCCGTA', 'GCCGTA', 'CCGTAT', 'CCGTAT', 'CGTATG', 'CGTATG', 'GTATGG', 'GTATGG', 'TATGGACAACGACT', 'TATGGA']\n",
      "| k = 7 | PAR | ['ATGCCGTA', 'GCCGTAT', 'GCCGTAT', 'CCGTATGG', 'CCGTATG', 'GTATGGACAA', 'GTATGGA', 'GACAACGACT']\n",
      "| k = 8 | PAR | ['ATGCCGTAT', 'GCCGTATGGACAA', 'GCCGTATG', 'GACAACGACT']\n",
      "| k = 9 | PAR | ['ATGCCGTATGGA', 'GTATGGACAA', 'GACAACGACT']\n"
     ]
    }
   ],
   "source": [
    "sequence = 'ATGCCGTATGGACAACGACT'\n",
    "reads = ['ATGCCGTATG','GCCGTATGGA','GTATGGACAA','GACAACGACT']\n",
    "for k in range(3,min(len(read) for read in reads)):\n",
    "      contigs = assemble(all_eulerian_paths_of(construct_debruijn_graph(reads,k)))\n",
    "      if len(contigs) == 1 and contigs[0] == sequence: print(\"| k = \" + str(k) + \" | SUC | \"+contigs[0])\n",
    "      elif all(seq in sequence for seq in contigs): print(\"| k = \" + str(k) + \" | PAR | \" + str(contigs))\n",
    "      else: print(\"| k = \" + str(k) + \" | FAI | \" + str(contigs))"
   ]
  },
  {
   "cell_type": "code",
   "execution_count": 106,
   "metadata": {},
   "outputs": [],
   "source": [
    "sequence = generate_genome_sequence(10000,seed=seed)\n",
    "reads = generate_reads(sequence,250,500,100,180,seed=seed)\n",
    "# for k in range(3,min(len(read) for read in reads)):\n",
    "k = 183\n",
    "contigs = assemble(all_eulerian_paths_of(construct_debruijn_graph(reads,k)))\n",
    "# if len(contigs) == 1 and contigs[0] == sequence: print(\"| k = \" + str(k) + \" | SUC | \"+contigs[0])\n",
    "# elif all(seq in sequence for seq in contigs): print(\"| k = \" + str(k) + \" | PAR | \" + str(contigs))\n",
    "# else: print(\"| k = \" + str(k) + \" | FAI | \" + str(contigs))"
   ]
  },
  {
   "cell_type": "code",
   "execution_count": 107,
   "metadata": {},
   "outputs": [
    {
     "data": {
      "text/plain": [
       "(39, 39)"
      ]
     },
     "execution_count": 107,
     "metadata": {},
     "output_type": "execute_result"
    }
   ],
   "source": [
    "len(reads),len(contigs)"
   ]
  },
  {
   "cell_type": "code",
   "execution_count": 108,
   "metadata": {},
   "outputs": [
    {
     "data": {
      "text/plain": [
       "True"
      ]
     },
     "execution_count": 108,
     "metadata": {},
     "output_type": "execute_result"
    }
   ],
   "source": [
    "all(r==c for r,c in zip(reads,contigs))"
   ]
  },
  {
   "cell_type": "code",
   "execution_count": null,
   "metadata": {},
   "outputs": [],
   "source": [
    "from Bio import SeqIO"
   ]
  },
  {
   "cell_type": "code",
   "execution_count": null,
   "metadata": {},
   "outputs": [
    {
     "data": {
      "text/plain": [
       "[Seq('CATGCAATAAAATAGTCTTTCTGTacttttttcagttgcatcgtttctgattcc...TCC'),\n",
       " Seq('ACAATAATCCGACGCAATTACCAATTAATAATTACCCGACGGATTGCTCCGACA...TTC'),\n",
       " Seq('TCAGAGAAGACCTGACCCAAAAGAAGTAATCGTGTctatcagtcaatcaacaat...CTG'),\n",
       " Seq('GGCGAGAGGCGCGACCCGAGAATATTTACCCCCGACTGTCCCTATTCATCATTA...TAT'),\n",
       " Seq('tttttttgcaatttcatgacaatacatgcatgcatcgtacataccaatgcaata...GGA'),\n",
       " Seq('ctaatcaaacaactggtcagaatgcaggttaaatactagttaaaatactcgtca...cac'),\n",
       " Seq('CGGTTGGATGCCGTGGAAGAAGACACTTGACTGAGGGAGCGTCCTACATAAATC...TAA'),\n",
       " Seq('AtaccatgtttggcttgccgCGTCTGAGGAAACGatacccaattgtatcattcc...ATA'),\n",
       " Seq('accctaaccctaaccctaaccctaaccctaaccctaaccctaaccctaacccta...ATG'),\n",
       " Seq('ATAAAAAAAgagaaaagaaaaaaaggaagaaaagaaaagaaagGATACAAGGAT...TAT'),\n",
       " Seq('CACAAATAAACCGGTTACACCATTATCCATCAAAGCTGGGAACCTGTCCATAAT...TTT'),\n",
       " Seq('attttattgcaatcatttgtagtCCCATCAGTAACACTCAGGATAGTATCCATA...CGA'),\n",
       " Seq('TAACACAACgccaatagcagttatttcccagccatatttaaactgattgtgtat...TCA'),\n",
       " Seq('CGATGGTCGAAATAGCGTGTATAATTCAAGTCGCGATGGAAATATTTTTGGCTG...GGA'),\n",
       " Seq('AgcctaaccctaaccctaaccctaaccctaaccctaaccctaaccccTAACCgt...CGG'),\n",
       " Seq('CAAATGCAGAGCATTGTAAAAGTGCTCCAGATAGACTGCAAGGAATTTGGTGGT...AAA'),\n",
       " Seq('CAATGATCCACTTTgacgcatataacttggccaataccagttatttcccaacca...TCG'),\n",
       " Seq('TGACATGAATCTGCACATACTTGGCTGCAAGCTCTTCCAGCTGGCTTGGTTCTA...AGT'),\n",
       " Seq('CAAACAAATTTaaaactttattgataaaactgaggtaaacatacatgacaagta...AAC'),\n",
       " Seq('CGAGTCAAAACACCATCCTGCGACCTCCGCCCTCTTGTTGTCAGCAAAGGCAGG...AGG'),\n",
       " Seq('AGCAAAATTTGGACAAATCGAAATGGCTCAAATTTACAGCTAAAACCAAAATGG...TCA'),\n",
       " Seq('CAGTTTACCCTCAGCAGTAACGGAGCTTTTGGTATGTAGATCCTCCAGTTTATT...TTT'),\n",
       " Seq('ctattgttggtattggtgttttatgtgtcaatacgacatgacaagcaatatcat...taa'),\n",
       " Seq('ACTTCAGAATTCTTCTGTAAACTTCACATTCTCATTAGATAAAAACCATTCCTT...TTT'),\n",
       " Seq('GAGATAAACTGCTAGGTCTATTTGCAGACGATGCCCTAGCTCCTGATCTACATC...TAA'),\n",
       " Seq('GCTCTAgaaacaagttgtttgaaatgtcctgtcatatatcatatgttttgttgt...GTG'),\n",
       " Seq('TCTTGGTGCTTTTTGGCTTTTTGATGACCAGAGTTTGTGCGTTTTTTCCAATAC...AAT'),\n",
       " Seq('ACTGAATGATATCACAACAGTTCTGCCAATTCACATTCTTGTCATTTATTGATT...TAT'),\n",
       " Seq('TGATGatcatccaacaactgaatatcagctcagttgcatataatcttgtttaaa...GAT'),\n",
       " Seq('ATACCGCCATTCGCTGATGATCCAGGCGACAAGTGCTCTGTAAGCTTTTTCTCC...CAA'),\n",
       " Seq('ACCAGAACAAGAAAACGGATTGATGATCCTGCAGCGTATGATATGGGAATCATT...CAA'),\n",
       " Seq('AGTTTTAAATGTAGCATCTGATGGCTCCAACATCATCCCTGTATCTGCTGTTGT...GGA'),\n",
       " Seq('GCAGTACAGTCCTTGAAGCTAAGGAtttggcatcgtgttgtcaagacttgtttc...GCA'),\n",
       " Seq('ATGCATCTTTAGCTACATCGTCAAGAAGACTAATATCTCTTAAAAACTTGCGAT...CCT'),\n",
       " Seq('TTACTGCACTAAACTCCATTGTAGTAGCCGAGATGCCAGAGTTGAATTCATCAC...CGT'),\n",
       " Seq('TGTACTTATCGGATTGTTTATATGGATTGCAGAAAATATCGCAACGTTCTTTGG...ATA'),\n",
       " Seq('GTATTATAATTAAGAAGAGTAATAGTTATAATTATAGTAATAGTTATAATAATT...CTC'),\n",
       " Seq('CAACTAGCACATCTGAATCAAGCGGCAGCATCTACGATCAGCCCGATTCTTCCA...CAT'),\n",
       " Seq('AAATTAGTTTTTCTGGAAATCAAACATCCTTAAACCTTCCCCCGCTTTCTTACT...ATA'),\n",
       " Seq('AGTTGTCAGCAGCACAGCATTACGCATTGTCCATCGTACATGGATTGACTATTG...atc'),\n",
       " Seq('AAATGCACAAATCTCCTCTAAGTTATTTTTAGGGGAAGGGACTGTGAAAAATTA...ACC'),\n",
       " Seq('AGCcaatatatttgatattctcTGTTACTACCTTTCCACTAATGATTCGTTTTT...CAC'),\n",
       " Seq('ATTATAAAATTGAGCACATGTcattgtatttatatgttTTGTACAGTAAactaa...AAA'),\n",
       " Seq('aatcaaacaacacatattgcatacaattgtcaaatatttacaatcTTTAGAATT...TTT'),\n",
       " Seq('GTACGCTACATTGTTCCTCAGTCGGTATTGGGGGAGTTCCCGctgaaatggatg...ATT'),\n",
       " Seq('CTTATGAATCATGGGGTATTGTCCCTCCTGTTAATCGTGCTGCCAATGGATACA...GAG'),\n",
       " Seq('GCTCGTCAGGGGACTAAAAAGCTATATCTAATCTAGATCACTTATGATGTATAA...TTA'),\n",
       " Seq('GAGGATCTTCTCGACGCAGGTGGTTGGTTATGACACGAAGCGTATCTTGGAGAG...GAG'),\n",
       " Seq('GGTGGCTGGAATAACCAAATATGGGGTAACAATATGTGGAGCAACAGTATGTGG...GCT'),\n",
       " Seq('TTCGATCTGAGAAGCAACATCCTTCTTTTCCAGTTGCGCCATGGAGCTTCTCCT...aat'),\n",
       " Seq('CCTTAACTATGACCTTCAACGGTGTTTGTCATAGTACAGAAAAGGTATTTGCAT...ACT'),\n",
       " Seq('TGATTGTGATGGTGGTTGTCAATCTGATTGTCGTGTCGGTGtatatgtcgagta...GAA'),\n",
       " Seq('AACCATACAGACAGCACAAGGCATACAGCAAGTACCAGGCTATTCACAACATAA...GCC'),\n",
       " Seq('GAATGTTGAAACCAGTGGAAAACTTTGAGCAAAAAGGGGATGCAGATAAAGTCG...CTC'),\n",
       " Seq('CGGGAAGAGCGCTCTCTGCAACCCTTATCCGTTTCCTTGTATTGCTTATCCAGT...AAA'),\n",
       " Seq('CAATTAGTTCATTATTACCTCGAAGTAAGAAATGCCTCTTTTTTCTGCCTCTAT...GTA'),\n",
       " Seq('CTCCCCGGAAATAATTGCTGCTTGACAGATCGggtttggattgtatttatgttg...caa'),\n",
       " Seq('AAGTGGACTTCCCGGTTTTTTTCCACGACGAGCAGTCACGCTTGCTGCGATTCT...CAA'),\n",
       " Seq('CACCAAGGGCTGATTATACCTGGACTAATTTTGGTGTGGATCTCTGGATTAAAG...CTG'),\n",
       " Seq('CACGGAATTTTATGGAGGAAATTAACTAAGTTATTTGAGGATCCAAATCCACTA...CTT'),\n",
       " Seq('GATTCGCTTAGGTGCAGAACAACAGGCTCGAATTATGAGTGAGCTACCTAATAA...ATT'),\n",
       " Seq('TATGAAATTTACCGagcaatcaaaaaatatacTGCAAAGAAATAGGGAGTTGAG...AAG'),\n",
       " Seq('AATTCATTTTCATATGAAGAGTATCGTCACATCCTTAAGCTTTTACAAGATAAT...CTA'),\n",
       " Seq('ATCATTCTTCCAGTACCTCGCCACGAAAGCCGAATCCCTTCAGCTTTAGCTCCA...TTT'),\n",
       " Seq('GTGGCTTGGGTATTCAATCTGTTATTCTTGCCTGCTTGAGCGTATTCCAGGCCT...ttg'),\n",
       " Seq('AACAGAAATAATAGTTATGCAGTACATGCTGCTGACGCTGCTCTAGGTGATTAC...GGT'),\n",
       " Seq('AATTGTTCGTGAGTTTGTTCCTGCGGGGGCGATGATAATCGAAAACTAGAGGTG...TGA'),\n",
       " Seq('ACGTCAAAAGCAACAACGGTAGATTCCAAGGTTTTATAAGTCCTACCACCCCTA...ACT'),\n",
       " Seq('GTCTTTCCCGCCATGCTTTCTTTTGGATTGCATTCTCATGCATGTTCCTGTGGC...TAA'),\n",
       " Seq('TATTCTGTTGTTTAGTCGGATTTTGAAAACGTTTAGCCAGTAATTAATGAGTAA...ATA'),\n",
       " Seq('GGCTTGTACACATTGCTCATCGTCGCCTTGCATGAGACTATCTCATGGTGTCCA...GAT'),\n",
       " Seq('ACATCAAAGATACGTCTCTGCCTTTCATTTGACTACTTATATTTTAATGGTAAC...AAT'),\n",
       " Seq('TAATGCACCAAAAAATATCCAACTTAATGTAGCAATAGTACCTATTGTAGCAAt...ACA'),\n",
       " Seq('GCACAGAGGTTGCTGATATGGGACATGACCTACCTTTGCTTATTATTCATTTGC...TCA'),\n",
       " Seq('TATCAGTTGCATCAGACATGCACAATCGACTGTAGGACTGAAAGGGTTAGTTTT...CGA'),\n",
       " Seq('ATTAGTTCGTTTGAGAGGATGCTGTGTCTAATATCCCCTTCTCTACTTGGCTCA...ATT'),\n",
       " Seq('GTAATACAAGGTTTGTTCTAAGGCAGCTTTCAATCGCTCCACAAAAACAATATA...AAA'),\n",
       " Seq('TAGTGGAGAGCGACGGTGTCAATCCTGGTGGCTGGTTTAGTGACAGTTCCAGAT...AAC'),\n",
       " Seq('GATGATCAAGTCAAGGTTTGTAAAGTGTCGATATGTcagatcaatcaaacaagt...TTT'),\n",
       " Seq('GCTTCATTTCGTCTTCTGGGTTGTAAACTTGCACCATAGATTGAATAAACTTTG...GGA'),\n",
       " Seq('ACATAGGTAGACATGGTTGCGGAGGAAGAATAAATCATTATATCCTTCCCGCCA...GAG'),\n",
       " Seq('GGGAGTCGTCTCCCCCAAGAGTGCAATTTTCTAATGAACCAAGAACTTCATTTT...GAA'),\n",
       " Seq('TGGCAGGAACTTGAATCAACCATTGGGGGGAGACTGGATTTACATCGATCATCA...GCG'),\n",
       " Seq('CTATGTCACTCATTCAAGATGGGAATGATGCTCTTGCAAACCTTGAAAGCCAGC...TCA'),\n",
       " Seq('TAAAAATGCACTTTATGTAGGTATTGTTAGACATGATCTTTTGATTGTATGACA...GTA'),\n",
       " Seq('CGCATTTCTAGTTTAAGGGCTACTCTTAATCTCAGTGACTATTCCaggactgta...CTG'),\n",
       " Seq('TCTTCTTTGATCCATGTACCAGCTGTTGTCAATACCCGCTTTGAAAAATGCAGA...CAG'),\n",
       " Seq('GCCGATAATAACATAGTACAAAAGTAGGTTAAATGTTGAAAGGAAGTAGAAAGA...AAA'),\n",
       " Seq('GATATAAAAAAATTGAATCGAATCATATCTCTCTATCTCATCTTCATACTTACG...TGA'),\n",
       " Seq('TAATTATCAGTCTTCCCCTGGTGTAACGCTTTTATTAGTTGGAATAGGTGGTAT...GCT'),\n",
       " Seq('ACAAATTGGGCCACCTAGTGAGGGAAGGCAAACCGTGCGCGCTatgtttggact...TCG'),\n",
       " Seq('TTATTTCGTAAATTTCCCGTGCATCGTCTATAGTAATAGAATTAATGATAACGC...AAA'),\n",
       " Seq('ATAGCTATAAAGAATGGCCAGCACCTAcgaatcaagtgatgatgttgctatttc...GGT'),\n",
       " Seq('GAATGAACGCGATTGGTTAGTTTTGCAAACGCTTTATAAGGTAGAAAAATATTA...TAA'),\n",
       " Seq('TGATGAACCTTGTAGTGAAGTCCATAAACGAAACAATATTTTATTGTCAGATAG...TAA'),\n",
       " Seq('ACGTCCGACGGGTCGAAGCAACAAACACATTCACCGTTTTAATATTTACGTACA...TGC'),\n",
       " Seq('GGTAAAGTACCTGCTAATTAATGATAATCGACATTAGTGTCTTTGTTATATAGC...TTT'),\n",
       " Seq('CCATTAAACACACGAAATGCTGTCGTATTTTCGTCCTGATAGAAGGATTCTCTT...AAT'),\n",
       " Seq('TATCGTTGGTACATTACTATTTCTTGCTGCAATTCGCAGCATggtattcattac...ATA'),\n",
       " Seq('CATCTCGTCAGGCTTTTACTAGAccaacaccgaatgatgccATGGATTTAGACG...AGT'),\n",
       " Seq('GGTCCTGTGTACGAAATTGTAGCTCGGTCACTTACCTTAATATTCTTCGGTCTG...AAA'),\n",
       " Seq('TAAGATTCATATTTTATCGACGAAGGAATTTCTCACGCCTTTTCACCGAGCTTA...CCC'),\n",
       " Seq('TGTTTAGGTACACGACAAATACATGTCGTTCCAAAATTGGTATCCTTGGGTTGT...AAG'),\n",
       " Seq('CAGAGTAATAATTACTCATGGAGTTGTTATTATGCGAGTAACAGAGACGCGTAT...CGC'),\n",
       " Seq('AGATGCGCGATGATCCGGGGGCGGAAGACTATATGCAAAAAATCGATTCTgaaa...TTT'),\n",
       " Seq('TTATCAATTGCTAGTTGGCGTGAGTAAGAATACTGCATTAGCAGATGTAAAAAG...TAG'),\n",
       " Seq('AAAAGATTACCGGTGATTTGCTACTAGCCTGCCCGGGCTCGCTTTTCTTGTTTA...TAC'),\n",
       " Seq('ACGGCGCGCATTCTAAtattttattatttttattattttCCAGAAGTATATTAT...TTT'),\n",
       " Seq('AGCTGGAACACAGTCTTTTGGGTTAAGAGAAATGTTTGGAACAATGACTAAGCC...TGC'),\n",
       " Seq('TGCGATACAGGTTAGAATCCCATTATAGCCATATAAACCTAGAAAGATTAAGGA...ATT'),\n",
       " Seq('AAAAGTGGCAAAGGAGGGGCGAGACTAGCCTGGCCCACAAAAAAGATTTCTTCT...GCT'),\n",
       " Seq('AAGGTAGTCTTTGACGAGATCTTGATCCTCGACTGGAAATGTGCTTAGCTCAAG...TAT'),\n",
       " Seq('ATTTGATGGCAGATTGTTTGATTACACCAACTGACAATGAAAACCACAACCGTA...GCC'),\n",
       " Seq('GTTAACCCTTTTCCTAGTTAATCCGATTTACCTAATAAATCCATAATCTTGATT...TTT'),\n",
       " Seq('CGCCCCTTTCAATCCGATTTTTAATGATTATTTAATATGTCGTTTTTGTAAGGC...ACA'),\n",
       " Seq('CCGCGGTTTGCGTCTCAAGCCCCGGTTCTGGTAAGCATCTCCAAACGCCACATC...AGA'),\n",
       " Seq('ACGACCTCTTAGGCAAATAATGAAGTCGCACCCTATTATTTGAAACAGAAGATG...TCT'),\n",
       " Seq('TCATCCAGATTCGATTTCGATGAGAAGGCAATGCCAATCGCTGCCAAGATTTTA...CTT'),\n",
       " Seq('TCGGTCCATTGTTATCCCATTAAATTGGTTTGGAATTAAACAATTGGATAAACT...TGA'),\n",
       " Seq('TGGTCTTAGGTACTAAACCTACCAATTTAATGAGAAAGGAATGAATTATACTAT...GTG'),\n",
       " Seq('GTGCAGCAGATTTCTTGGCAGCAGATTTCTTGGCTGCAGGTTTCTTGGCAGCAG...CTA'),\n",
       " Seq('AGACCGATAATGATAATTTTCTTTCTGCCGTAACGGTCAACCCATCGACCGGCG...GCC'),\n",
       " Seq('CAAAACAATATCGGAACCTTACTGATGAACAGCTCCAGCTTGAGTTATTGGATA...CAT'),\n",
       " Seq('AAGCCATCACAAAAATTAAATGAGATTGATCTTTCAACTGCGGTAGGTGTCAGT...TGG'),\n",
       " Seq('GAAGCTCCCCCGAAAAAGTGATTCACAAGGTTGTTTCGTTCCTGATTCACTGCC...TTA'),\n",
       " Seq('CAGTGTGTATTACACTGTCTGACCGATATTAACCACACTACACTAAATAATCAA...TTG'),\n",
       " Seq('TCTGGACagtgatcattgtacaatccagacTGTGATGCAAACCATATAtgacca...GCA')]"
      ]
     },
     "execution_count": 24,
     "metadata": {},
     "output_type": "execute_result"
    }
   ],
   "source": [
    "reads = []\n",
    "for record in SeqIO.parse(\"data\\Batrachochytrium_dendrobatidis\\GCA_000203795.1\\GCA_000203795.1_v1.0_genomic.fna\",'fasta'):\n",
    "    reads += [record.seq]\n",
    "reads"
   ]
  }
 ],
 "metadata": {
  "kernelspec": {
   "display_name": "Python 3",
   "language": "python",
   "name": "python3"
  },
  "language_info": {
   "codemirror_mode": {
    "name": "ipython",
    "version": 3
   },
   "file_extension": ".py",
   "mimetype": "text/x-python",
   "name": "python",
   "nbconvert_exporter": "python",
   "pygments_lexer": "ipython3",
   "version": "3.9.0"
  },
  "orig_nbformat": 4,
  "vscode": {
   "interpreter": {
    "hash": "38731f125b301d8f0df7c54051f2a9a4c898c9398d16ef376d9fb7d661d33405"
   }
  }
 },
 "nbformat": 4,
 "nbformat_minor": 2
}
