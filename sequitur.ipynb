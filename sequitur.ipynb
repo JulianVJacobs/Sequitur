{
 "cells": [
  {
   "cell_type": "code",
   "execution_count": 2,
   "metadata": {},
   "outputs": [],
   "source": [
    "class Leaf:\n",
    "    def __init__(self,left,right=''):\n",
    "        if len(left) == 0:\n",
    "            self.left = '$'\n",
    "            self.right = 1\n",
    "        else:\n",
    "            self.left = left\n",
    "            self.right = Leaf(right)\n",
    "    \n",
    "    def __repr__(self): return '(' + repr(self.left) + ',' + repr(self.right) + ')'\n",
    "\n",
    "    def __eq__(self,other): return self[0] == other[0]\n",
    "\n",
    "    def __hash__(self): return hash(self[0])\n",
    "\n",
    "    def __getitem__(self,index): return self.left[index]\n",
    "\n",
    "    def __len__(self):\n",
    "        if self.left == '$': return 0\n",
    "        return len(self.left)+len(self.right)\n",
    "    \n",
    "    # def __str_(self): return '\\t' + str(self.left) + ':' + str(self.right) + '\\n'"
   ]
  },
  {
   "cell_type": "code",
   "execution_count": 3,
   "metadata": {},
   "outputs": [],
   "source": [
    "class Branch:\n",
    "    def __init__(self):\n",
    "        self.b = {}\n",
    "\n",
    "    def __repr__(self): \n",
    "        s = ''\n",
    "        for a in self.b.values(): \n",
    "            s += repr(a) \n",
    "        return s\n",
    "\n",
    "    def __str__(self):\n",
    "        s = '' \n",
    "        for i in range(len(list(self.b.values()))-1):s+=str(list(self.b.values())[i])+'\\n'\n",
    "        return s+str(list(self.b.values())[-1])\n",
    "    \n",
    "    def __getitem__(self,index): return self.b[index]\n",
    "    \n",
    "    def __contains__(self,other): return other in self.b\n",
    "\n",
    "    def add(self,leaf):\n",
    "        if leaf in self.b:\n",
    "            if self.b[leaf].left == '$':\n",
    "                self.b[leaf].right+=1\n",
    "                return\n",
    "            i = 0\n",
    "            left = ''\n",
    "            while i < min(len(leaf.left),len(self.b[leaf].left)) and leaf.left[i] == self.b[leaf][i]: \n",
    "                left += leaf.left[i]\n",
    "                i += 1\n",
    "            if type(self.b[leaf].right) == Branch:\n",
    "                nleaf = Leaf(leaf.left[i:])\n",
    "                if len(self.b[leaf].left[i:]):\n",
    "                    branch = Branch()\n",
    "                    l = Leaf(self.b[leaf].left[i:])\n",
    "                    l.right = self.b[leaf].right\n",
    "                    branch.b[l] = l\n",
    "                    self.b[leaf].right = branch\n",
    "                self.b[leaf].right.add(nleaf)\n",
    "            else: \n",
    "                branch = Branch()\n",
    "                branch.add(Leaf(self.b[leaf].left[i:]))\n",
    "                branch.add(Leaf(leaf.left[i:]))\n",
    "                self.b[leaf].right = branch\n",
    "            self.b[leaf].left = left\n",
    "        else: \n",
    "            self.b[leaf] = leaf"
   ]
  },
  {
   "cell_type": "code",
   "execution_count": 11,
   "metadata": {},
   "outputs": [
    {
     "name": "stdout",
     "output_type": "stream",
     "text": [
      "('h',('ello',('$',1))('ollow',('$',1)))\n",
      "('ello',('$',1)('w',('$',1)))\n",
      "('l',('lo',('$',1)('w',('$',2)))('o',('$',1)('w',('$',2))))\n",
      "('o',('$',1)('llow',('$',1))('w',('$',2)))\n",
      "('w',('$',2))\n",
      "('bellow',('$',1))\n"
     ]
    }
   ],
   "source": [
    "b = Branch()\n",
    "texts = ['hello','hollow','bellow']\n",
    "for text in texts:\n",
    "    for i in range(len(text)): b.add(Leaf(text[i:]))\n",
    "print(b)"
   ]
  },
  {
   "cell_type": "code",
   "execution_count": null,
   "metadata": {},
   "outputs": [],
   "source": [
    "b.b"
   ]
  },
  {
   "cell_type": "code",
   "execution_count": 109,
   "metadata": {},
   "outputs": [
    {
     "name": "stdout",
     "output_type": "stream",
     "text": [
      "('b',('ett',('y_bought',('_butter_th',('$',1))('$',1))('er',('_butter_t',('$',1))('$',1)))('ought',('_b',('utter_th',('$',1))('etter_butter_t',('$',1)))('$',1))('utter_',('t',('h',('$',1))('$',1)('o_make_the_',('$',1)))('was_',('$',1)('bitter_',('$',1)))('better',('$',1)))('itt',('er_',('$',1)('b',('etty_bought',('$',1))('utter_better',('$',1))))('$',1)))\n",
      "('e',('tt',('y_bought',('_butter_th',('$',1))('$',1))('er',('_butter_t',('$',1))('$',1)))('r',('_',('t',('h',('$',1)('e_butter_was_',('$',1)))('$',1)('o_make_the_',('$',1)))('was_',('$',1)('bitter_',('$',1)))('$',1)('b',('ett',('y_bought',('$',1))('er',('$',1)))('utter_',('t',('$',1))('better',('$',1)))))('$',1))('_',('b',('utter_was_',('$',1)('bitter_',('$',1)))('itt',('$',1)('er_butter_better',('$',1))))('the_',('$',1)('bitt',('$',1)('er_butter_better',('$',1))))('$',1)))\n",
      "('t',('t',('y_bought',('_b',('utter_th',('$',1))('etter_butter_t',('$',1)))('$',1))('er',('_',('t',('h',('$',1)('e_butter_was_',('$',1)))('$',1)('o_make_the_',('$',1)))('was_',('$',1)('bitter_',('$',1)))('$',1)('b',('ett',('y_bought',('$',1))('er',('$',1)))('utter_',('t',('$',1))('better',('$',1)))))('$',1))('$',1))('y_bought',('_b',('utter_th',('$',1))('etter_butter_t',('$',1)))('$',1))('_b',('utter_th',('$',1))('etter_butter_t',('$',1)))('er',('_',('t',('h',('$',1)('e_butter_was_',('$',1)))('$',1)('o_make_the_',('$',1)))('was_',('$',1)('bitter_',('$',1)))('$',1)('b',('ett',('y_bought',('$',1))('er',('$',1)))('utter_',('t',('$',1))('better',('$',1)))))('$',1))('h',('$',1)('e_',('b',('utter_was_',('$',1))('itt',('$',1)('er_butter_better',('$',1))))('$',1)))('$',3)('o_make_the_',('$',1)('bitt',('$',1))))\n",
      "('y_bought',('_b',('utter_th',('$',1))('etter_butter_t',('$',1)))('$',1))\n",
      "('_',('b',('ought',('_b',('utter_th',('$',1))('etter_butter_t',('$',1)))('$',1))('utter_',('t',('h',('$',1))('$',1)('o_make_the_',('$',1)))('was_',('$',1)('bitter_',('$',1)))('better',('$',1)))('itt',('er_',('$',1)('b',('etty_bought',('$',1))('utter_better',('$',1))))('$',1))('ett',('y_bought',('$',1))('er',('_butter_t',('$',1))('$',1))))('t',('h',('$',1)('e_',('b',('utter_was_',('$',1))('itt',('$',1)('er_butter_better',('$',1))))('$',1)))('$',1)('o_make_the_',('$',1)('bitt',('$',1))))('was_',('$',1)('bitter_',('$',1)))('$',3)('make_the_',('$',1)('bitt',('$',1))))\n",
      "('o',('ught',('_b',('utter_th',('$',1))('etter_butter_t',('$',1)))('$',1))('_make_the_',('$',1)('bitt',('$',1))))\n",
      "('u',('ght',('_b',('utter_th',('$',1))('etter_butter_t',('$',1)))('$',1))('tter_',('t',('h',('$',1))('$',1)('o_make_the_',('$',1)))('was_',('$',1)('bitter_',('$',1)))('better',('$',1))))\n",
      "('ght',('_b',('utter_th',('$',1))('etter_butter_t',('$',1)))('$',1))\n",
      "('h',('t',('_b',('utter_th',('$',1))('etter_butter_t',('$',1)))('$',1))('$',1)('e_',('b',('utter_was_',('$',1)('bitter_',('$',1)))('itt',('$',1)('er_butter_better',('$',1))))('$',1)))\n",
      "('r',('_',('t',('h',('$',1)('e_butter_was_',('$',1)))('$',1)('o_make_the_',('$',1)('bitt',('$',1))))('was_',('$',1)('bitter_',('$',1)))('$',1)('b',('ett',('y_bought',('$',1))('er',('$',1)))('utter_',('t',('$',1)('o_make_the_',('$',1)))('better',('$',1)))))('$',1))\n",
      "('was_',('$',1)('bitter_',('$',1)))\n",
      "('a',('s_',('$',1)('bitter_',('$',1)('betty_bought',('$',1))))('ke_the_',('$',1)('bitt',('$',1))))\n",
      "('s_',('$',1)('bitter_',('$',1)('betty_bought',('$',1))))\n",
      "('itt',('er_',('$',1)('b',('etty_bought',('$',1))('utter_better',('$',1))))('$',1))\n",
      "('make_the_',('$',1)('bitt',('$',1)))\n",
      "('ke_the_',('$',1)('bitt',('$',1)('er_butter_better',('$',1))))\n"
     ]
    }
   ],
   "source": [
    "b = Branch()\n",
    "reads = ['betty_bought_butter_th',\n",
    "                        'tter_the_butter_was_',\n",
    "                              'he_butter_was_bitter_',\n",
    "                                         'as_bitter_betty_bought',\n",
    "                                                     'tty_bought_better_butter_t',\n",
    "                                                                     'r_butter_to_make_the_',\n",
    "                                                                            'r_to_make_the_bitt',\n",
    "                                                                                   'ke_the_bitter_butter_better']\n",
    "for read in reads:\n",
    "    for i in range(len(read)):\n",
    "        b.add(Leaf(read[i:]))\n",
    "print(b) "
   ]
  },
  {
   "cell_type": "code",
   "execution_count": 9,
   "metadata": {},
   "outputs": [
    {
     "name": "stdout",
     "output_type": "stream",
     "text": [
      "('b',('ett',('y_bought',('_butter_th',('$',1))('$',1))('er',('_butter_t',('$',1))('$',1)))('ought',('_b',('utter_th',('$',1))('etter_butter_t',('$',1)))('$',1))('utter_',('t',('h',('$',1))('$',1)('o_make_the_',('$',1)))('was_',('$',1)('bitter_',('$',1)))('better',('$',1)))('itter_',('$',1)('b',('etty_bought',('$',1))('utter_better',('$',1)))))\n",
      "('e',('tt',('y_bought',('_butter_th',('$',1))('$',1))('er',('_butter_t',('$',1))('$',1)))('r',('_',('t',('h',('$',1)('e_butter_was_',('$',1)))('$',1)('o_make_the_',('$',1)))('was_',('$',1)('bitter_',('$',1)))('$',1)('b',('ett',('y_bought',('$',1))('er',('$',1)))('utter_',('t',('$',1))('better',('$',1)))))('$',1))('_',('b',('utter_was_',('$',1)('bitter_',('$',1)))('itter_butter_better',('$',1)))('the_',('$',1)('bitter_butter_better',('$',1)))('$',1)))\n",
      "('t',('t',('y_bought',('_b',('utter_th',('$',1))('etter_butter_t',('$',1)))('$',1))('er',('_',('t',('h',('$',1)('e_butter_was_',('$',1)))('$',1)('o_make_the_',('$',1)))('was_',('$',1)('bitter_',('$',1)))('$',1)('b',('ett',('y_bought',('$',1))('er',('$',1)))('utter_',('t',('$',1))('better',('$',1)))))('$',1)))('y_bought',('_b',('utter_th',('$',1))('etter_butter_t',('$',1)))('$',1))('_b',('utter_th',('$',1))('etter_butter_t',('$',1)))('er',('_',('t',('h',('$',1)('e_butter_was_',('$',1)))('$',1)('o_make_the_',('$',1)))('was_',('$',1)('bitter_',('$',1)))('$',1)('b',('ett',('y_bought',('$',1))('er',('$',1)))('utter_',('t',('$',1))('better',('$',1)))))('$',1))('h',('$',1)('e_',('b',('utter_was_',('$',1))('itter_butter_better',('$',1)))('$',1)))('$',2)('o_make_the_',('$',1)))\n",
      "('y_bought',('_b',('utter_th',('$',1))('etter_butter_t',('$',1)))('$',1))\n",
      "('_',('b',('ought',('_b',('utter_th',('$',1))('etter_butter_t',('$',1)))('$',1))('utter_',('t',('h',('$',1))('$',1)('o_make_the_',('$',1)))('was_',('$',1)('bitter_',('$',1)))('better',('$',1)))('itter_',('$',1)('b',('etty_bought',('$',1))('utter_better',('$',1))))('ett',('y_bought',('$',1))('er',('_butter_t',('$',1))('$',1))))('t',('h',('$',1)('e_',('b',('utter_was_',('$',1))('itter_butter_better',('$',1)))('$',1)))('$',1)('o_make_the_',('$',1)))('was_',('$',1)('bitter_',('$',1)))('$',3)('make_the_',('$',1)))\n",
      "('o',('ught',('_b',('utter_th',('$',1))('etter_butter_t',('$',1)))('$',1))('_make_the_',('$',1)))\n",
      "('u',('ght',('_b',('utter_th',('$',1))('etter_butter_t',('$',1)))('$',1))('tter_',('t',('h',('$',1))('$',1)('o_make_the_',('$',1)))('was_',('$',1)('bitter_',('$',1)))('better',('$',1))))\n",
      "('ght',('_b',('utter_th',('$',1))('etter_butter_t',('$',1)))('$',1))\n",
      "('h',('t',('_b',('utter_th',('$',1))('etter_butter_t',('$',1)))('$',1))('$',1)('e_',('b',('utter_was_',('$',1)('bitter_',('$',1)))('itter_butter_better',('$',1)))('$',1)))\n",
      "('r',('_',('t',('h',('$',1)('e_butter_was_',('$',1)))('$',1)('o_make_the_',('$',1)))('was_',('$',1)('bitter_',('$',1)))('$',1)('b',('ett',('y_bought',('$',1))('er',('$',1)))('utter_',('t',('$',1)('o_make_the_',('$',1)))('better',('$',1)))))('$',1))\n",
      "('was_',('$',1)('bitter_',('$',1)))\n",
      "('a',('s_',('$',1)('bitter_',('$',1)('betty_bought',('$',1))))('ke_the_',('$',1)))\n",
      "('s_',('$',1)('bitter_',('$',1)('betty_bought',('$',1))))\n",
      "('itter_',('$',1)('b',('etty_bought',('$',1))('utter_better',('$',1))))\n",
      "('make_the_',('$',1))\n",
      "('ke_the_',('$',1)('bitter_butter_better',('$',1)))\n"
     ]
    }
   ],
   "source": [
    "b = Branch()\n",
    "reads = ['betty_bought_butter_th',\n",
    "                        'tter_the_butter_was_',\n",
    "                              'he_butter_was_bitter_',\n",
    "                                         'as_bitter_betty_bought',\n",
    "                                                     'tty_bought_better_butter_t',\n",
    "                                                                     'r_butter_to_make_the_',\n",
    "                                                                                   'ke_the_bitter_butter_better']\n",
    "for read in reads:\n",
    "    for i in range(len(read)): b.add(Leaf(read[i:]))\n",
    "print(b)"
   ]
  },
  {
   "cell_type": "code",
   "execution_count": 8,
   "metadata": {},
   "outputs": [
    {
     "name": "stdout",
     "output_type": "stream",
     "text": [
      "('h',('t_',('rett',('ub_thguob_ytteb',('$',1))('$',1))('ek',('am_ot_rettub_r',('$',1))('$',1)))('guob_ytt',('eb',('$',1)('_rettib_sa',('$',1)))('$',1))('$',1))\n",
      "('hguob_ytt',('eb',('$',1)('_rettib_sa',('$',1)))('$',1))\n"
     ]
    }
   ],
   "source": [
    "print(b.b['h'])\n",
    "print(b.b['t'].right['h'])\n",
    "# print(b.b['_'].right['t'].right['h'])\n",
    "# print(b.b['r'].right['_'].right['t'].right['h'])"
   ]
  },
  {
   "cell_type": "code",
   "execution_count": 167,
   "metadata": {},
   "outputs": [
    {
     "name": "stdout",
     "output_type": "stream",
     "text": [
      "1 ('t',('t',('y_bought',('_b',('utter_th',('$',1))('etter_butter_t',('$',1)))('$',1))('er',('_',('t',('h',('$',1)('e_butter_was_',('$',1)))('$',1)('o_make_the_',('$',1)))('was_',('$',1)('bitter_',('$',1)))('$',1)('b',('ett',('y_bought',('$',1))('er',('$',1)))('utter_',('t',('$',1))('better',('$',1)))))('$',1)))('y_bought',('_b',('utter_th',('$',1))('etter_butter_t',('$',1)))('$',1))('_b',('utter_th',('$',1))('etter_butter_t',('$',1)))('er',('_',('t',('h',('$',1)('e_butter_was_',('$',1)))('$',1)('o_make_the_',('$',1)))('was_',('$',1)('bitter_',('$',1)))('$',1)('b',('ett',('y_bought',('$',1))('er',('$',1)))('utter_',('t',('$',1))('better',('$',1)))))('$',1))('h',('$',1)('e_',('b',('utter_was_',('$',1))('itter_butter_better',('$',1)))('$',1)))('$',2)('o_make_the_',('$',1)))\n",
      "2 ('t',('y_bought',('_b',('utter_th',('$',1))('etter_butter_t',('$',1)))('$',1))('er',('_',('t',('h',('$',1)('e_butter_was_',('$',1)))('$',1)('o_make_the_',('$',1)))('was_',('$',1)('bitter_',('$',1)))('$',1)('b',('ett',('y_bought',('$',1))('er',('$',1)))('utter_',('t',('$',1))('better',('$',1)))))('$',1)))\n",
      "3 ('er',('_',('t',('h',('$',1)('e_butter_was_',('$',1)))('$',1)('o_make_the_',('$',1)))('was_',('$',1)('bitter_',('$',1)))('$',1)('b',('ett',('y_bought',('$',1))('er',('$',1)))('utter_',('t',('$',1))('better',('$',1)))))('$',1))\n",
      "4 ('_',('t',('h',('$',1)('e_butter_was_',('$',1)))('$',1)('o_make_the_',('$',1)))('was_',('$',1)('bitter_',('$',1)))('$',1)('b',('ett',('y_bought',('$',1))('er',('$',1)))('utter_',('t',('$',1))('better',('$',1)))))\n",
      "5 ('t',('h',('$',1)('e_butter_was_',('$',1)))('$',1)('o_make_the_',('$',1)))\n",
      "6 ('h',('$',1)('e_butter_was_',('$',1)))\n"
     ]
    }
   ],
   "source": [
    "print('1',b.b['t'])\n",
    "print('2',b.b['t'].right['t'])\n",
    "print('3',b.b['t'].right['t'].right['e'])\n",
    "print('4',b.b['t'].right['t'].right['e'].right['_'])\n",
    "print('5',b.b['t'].right['t'].right['e'].right['_'].right['t'])\n",
    "print('6',b.b['t'].right['t'].right['e'].right['_'].right['t'].right['h'])"
   ]
  },
  {
   "cell_type": "code",
   "execution_count": null,
   "metadata": {},
   "outputs": [],
   "source": []
  }
 ],
 "metadata": {
  "kernelspec": {
   "display_name": "Python 3",
   "language": "python",
   "name": "python3"
  },
  "language_info": {
   "codemirror_mode": {
    "name": "ipython",
    "version": 3
   },
   "file_extension": ".py",
   "mimetype": "text/x-python",
   "name": "python",
   "nbconvert_exporter": "python",
   "pygments_lexer": "ipython3",
   "version": "3.9.0"
  },
  "orig_nbformat": 4,
  "vscode": {
   "interpreter": {
    "hash": "38731f125b301d8f0df7c54051f2a9a4c898c9398d16ef376d9fb7d661d33405"
   }
  }
 },
 "nbformat": 4,
 "nbformat_minor": 2
}
