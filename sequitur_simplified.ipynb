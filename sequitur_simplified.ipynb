{
 "cells": [
  {
   "cell_type": "code",
   "execution_count": 178,
   "metadata": {},
   "outputs": [],
   "source": [
    "def generate_reads(sequence, min_subseq_len, max_subseq_len, min_overlap, max_overlap,seed=None):\n",
    "    import random\n",
    "\n",
    "    random.seed(seed)\n",
    "    reads = []\n",
    "    start = 0\n",
    "    end = random.randint(min_subseq_len,max_subseq_len)\n",
    "    reads += [sequence[start:end]]\n",
    "    while end < len(sequence):\n",
    "        start = random.randint(end-max_overlap,end-min_overlap)\n",
    "        if (len(sequence) - start)/max_subseq_len < 2:\n",
    "            if (len(sequence) - start)/max_subseq_len < 1:\n",
    "                end = len(sequence)\n",
    "            else:\n",
    "                a = 0\n",
    "                while (len(sequence) - start)/(min_subseq_len+a) > 2: a+=1\n",
    "                end = random.randint(start+min_subseq_len+a,start+max_subseq_len) \n",
    "        else: end = random.randint(start+min_subseq_len,start+max_subseq_len) \n",
    "        reads += [sequence[start:end]]\n",
    "    return reads\n",
    "\n",
    "def generate_genome_sequence(n,seed=None):\n",
    "    import random\n",
    "    \n",
    "    random.seed(seed)\n",
    "    nucleotides = {1:'A',2:'C',3:'G',4:'T'}\n",
    "    seq = ''\n",
    "    for i in range(n):\n",
    "        seq += nucleotides[random.randint(1,4)]\n",
    "    return seq\n",
    "\n",
    "def remove_containments(reads):\n",
    "    i = 0\n",
    "    r = set()\n",
    "    m = max([len(r) for r in reads])\n",
    "    b = False\n",
    "    while i < len(reads):\n",
    "        if len(reads[i]) == m: \n",
    "            r.add(reads[i])\n",
    "            i+=1\n",
    "            continue\n",
    "        for r_ in r:\n",
    "            if reads[i] in r_: \n",
    "                b = True\n",
    "                break\n",
    "        if b: \n",
    "            b = False\n",
    "            i+=1\n",
    "            continue\n",
    "        r.add(reads[i])\n",
    "        i+=1\n",
    "    return list(r)"
   ]
  },
  {
   "attachments": {},
   "cell_type": "markdown",
   "metadata": {},
   "source": [
    "# Sequitur"
   ]
  },
  {
   "cell_type": "code",
   "execution_count": 179,
   "metadata": {
    "tags": [
     "TODO: describe",
     "TODO: explain"
    ]
   },
   "outputs": [],
   "source": [
    "'''\n",
    "DESCRIPTION\n",
    "INPUT\n",
    "OUTPUT\n",
    "'''\n",
    "class Stalk:\n",
    "    def __init__(self,stalk):\n",
    "        self.stalk = stalk\n",
    "        if len(self.stalk) == 0: self.stalk = '$'\n",
    "\n",
    "    def __repr__(self): return self.stalk\n",
    "\n",
    "    def __eq__(self,other): return self[0] == other[0]\n",
    "\n",
    "    def __hash__(self): return hash(self[0])\n",
    "\n",
    "    def __getitem__(self,index): return self.stalk[index]\n",
    "\n",
    "    def __len__(self):\n",
    "        if self.stalk == '$' or self.stalk == '^': return 0\n",
    "        return len(self.stalk)\n",
    "    \n",
    "    def __str__(self):\n",
    "        if self.stalk =='$': return ''\n",
    "        else: return self.stalk\n",
    "\n",
    "    '''\n",
    "    DESCRIPTION\n",
    "    INPUT\n",
    "    OUTPUT\n",
    "    '''\n",
    "    def common_substring(self,other):\n",
    "        i = 0\n",
    "        substr = ''\n",
    "        if type(other) == str: other = Stalk(other)\n",
    "        while i < min(len(self),len(other)) and self[i] == other[i]:\n",
    "            substr += self[i]\n",
    "            i += 1\n",
    "        return Stalk(substr), Stalk(self[i:]), Stalk(other[i:])"
   ]
  },
  {
   "cell_type": "code",
   "execution_count": 180,
   "metadata": {
    "tags": [
     "TODO: explain",
     "TODO: describe"
    ]
   },
   "outputs": [],
   "source": [
    "'''\n",
    "DESCRIPTION\n",
    "INPUT\n",
    "OUTPUT\n",
    "'''\n",
    "class Leaf:\n",
    "    def __init__(self,left,right=''):\n",
    "        if len(left) == 0:\n",
    "            self.left = left\n",
    "            self.right = 1\n",
    "        else:\n",
    "            self.left = left\n",
    "            self.right = Leaf(right)\n",
    "    \n",
    "    def __repr__(self): return str(self.right)\n",
    "\n",
    "    def __eq__(self,other): return self[0] == other[0]\n",
    "\n",
    "    def __hash__(self): return hash(self.left)\n",
    "\n",
    "    def __getitem__(self,index): return self.left[index]\n",
    "\n",
    "    def __len__(self):\n",
    "        if self.left == '$': return 0\n",
    "        return len(self.left)\n",
    "    \n",
    "    def __is_shallow__(self): return True\n",
    "\n",
    "    def reads(self): return set()"
   ]
  },
  {
   "cell_type": "code",
   "execution_count": 181,
   "metadata": {
    "tags": [
     "TODO: explain",
     "TODO: describe"
    ]
   },
   "outputs": [],
   "source": [
    "'''\n",
    "DESCRIPTION\n",
    "INPUT\n",
    "OUTPUT\n",
    "    '''\n",
    "class Branch:\n",
    "    def __init__(self):\n",
    "        self.b = {}\n",
    "        self.s = {}\n",
    "\n",
    "    def __repr__(self): return repr(self.b)\n",
    "\n",
    "    def __str__(self):\n",
    "        s = '' \n",
    "        for i in range(len(list(self.b.values()))-1):s+=str(list(self.b.values())[i])+'\\n'\n",
    "        return s+str(list(self.b.values())[-1])\n",
    "    \n",
    "    def __getitem__(self,index):\n",
    "        if type(index) == str: return self.b[Stalk(index)]\n",
    "        return self.b[index]\n",
    "\n",
    "    '''\n",
    "    DESCRIPTION\n",
    "    INPUT\n",
    "    OUTPUT\n",
    "    '''\n",
    "    def __is_shallow__(self):\n",
    "        for a in self.b.values():\n",
    "            if type(a) == Branch: return False\n",
    "        return True\n",
    "\n",
    "    '''\n",
    "    DESCRIPTION\n",
    "    INPUT\n",
    "    OUTPUT\n",
    "    '''\n",
    "    def __traverse__(self,context):\n",
    "        b = self[context[0]]\n",
    "        s = self.s[context[0]]\n",
    "        context = context[len(s[0]):]\n",
    "        while len(context) > 0 and len(b) > 1:\n",
    "            s = b.s[context[0]]\n",
    "            b = b[context[0]]\n",
    "            context = context[len(s[0]):]\n",
    "        return b\n",
    "    \n",
    "    def __setitem__(self,index,value):\n",
    "        if type(index) == str: self.b[Stalk(index)] = value\n",
    "        else: self.b[index] = value\n",
    "\n",
    "    def __contains__(self,other): \n",
    "        if type(other) == str: return Stalk(other) in self.b\n",
    "        return other in self.b\n",
    "\n",
    "    def __len__(self): return len(self.b)\n",
    "\n",
    "    def pop(self,index): return self.b.pop(index)\n",
    "\n",
    "    '''\n",
    "    DESCRIPTION\n",
    "        adds a suffix to the trie\n",
    "    INPUT\n",
    "        stalk | a Stalk() which is a common substring of every read up to this point and beyond\n",
    "        reads | a set of reads which have with the same common substring up to this point\n",
    "    '''\n",
    "    def add(self,stalk,reads):\n",
    "        if stalk in self:\n",
    "            if not len(stalk):\n",
    "                self[stalk].right+=1\n",
    "                self.s[stalk][1].update(reads)\n",
    "                return\n",
    "            if type(self[stalk]) == Leaf:\n",
    "                branch = Branch()\n",
    "                l1 = self.pop(stalk)\n",
    "                stalk_ = list(self.s.pop(stalk))\n",
    "                stalk_[0],l1.left,l2 = stalk_[0].common_substring(stalk)\n",
    "                branch.add(l1.left,stalk_[1].copy())\n",
    "                stalk_[1].update(reads)\n",
    "                branch.add(l2,reads)\n",
    "                stalk_ = tuple(stalk_)\n",
    "                self[stalk_[0]] = branch\n",
    "                self.s[stalk_[0]] = stalk_\n",
    "            else:\n",
    "                stalk_ = list(self.s.pop(stalk))\n",
    "                branch = self.pop(stalk)\n",
    "                stalk_[0],bstalk,stalk = stalk_[0].common_substring(stalk)\n",
    "                if len(bstalk):\n",
    "                    br = Branch()\n",
    "                    br[bstalk] = branch \n",
    "                    br.s[bstalk] = (bstalk,stalk_[1].copy())\n",
    "                    br.add(stalk,reads)\n",
    "                    self[stalk_[0]] = br\n",
    "                else: \n",
    "                    branch.add(stalk,reads)\n",
    "                stalk_[1].update(reads)\n",
    "                stalk_ = tuple(stalk_)\n",
    "                if not len(bstalk): self[stalk_[0]] = branch\n",
    "                self.s[stalk_[0]] = stalk_\n",
    "        else:\n",
    "            if type(stalk) == str: stalk = Stalk(stalk)\n",
    "            self.s[stalk] = (stalk,reads)\n",
    "            self[stalk] = Leaf(stalk)"
   ]
  },
  {
   "cell_type": "code",
   "execution_count": 246,
   "metadata": {
    "tags": [
     "DONE: describe",
     "DONE: explain"
    ]
   },
   "outputs": [],
   "source": [
    "'''\n",
    "DESCRIPTION\n",
    "    an object which constructs a suffix trie out of fragments of a sequence and can traverse \n",
    "    the trie to resconstruct some target sequence\n",
    "INPUT\n",
    "    reads | a list of strings which overlap and are fragments of a longer sequence\n",
    "'''\n",
    "class Sequitur:\n",
    "    def __init__(self,reads,correct_sequence=None,k_min=3,**kwargs):\n",
    "        self.correct_sequence = correct_sequence\n",
    "        self.branch = Branch()\n",
    "        self.reads = reads\n",
    "        self.k_min = k_min\n",
    "        for read in reads:\n",
    "            for i in range(len(read)):\n",
    "                if len(read[i:]) < self.k_min: continue \n",
    "                self.branch.add(Stalk(read[i:]),{read})\n",
    "        if \"len\" in kwargs or (\"assemble\" in kwargs and kwargs[\"assemble\"]): self.phase1(**kwargs)\n",
    "\n",
    "    def phase1(self,**kwargs): \n",
    "        if \"k_min_add\" not in kwargs: kwargs[\"k_min_add\"] = 0   \n",
    "        extensions = {}\n",
    "        stalks = self.branch.b.keys()\n",
    "        for stalk in stalks: self.longest_common_substring(self.branch,stalk,[stalk.stalk],extensions)\n",
    "        k_max = max(extensions.keys())\n",
    "        i = 0\n",
    "        overlaps = {}\n",
    "        if \"len\" in kwargs and kwargs[\"len\"] == len(self.reads):\n",
    "            if self.k_min + kwargs[\"k_min_add\"] < k_max: kwargs[\"k_min_add\"] += 1\n",
    "            else:\n",
    "                # if self.phase2(self,extensions):\n",
    "                    # try to extend read with an extension recursively\n",
    "                    # if extension runs into a situation where there is a read that cannot be added, rollback\n",
    "                # else:\n",
    "                self.sequence = self.reads\n",
    "                return\n",
    "        else:\n",
    "            kwargs[\"k_min_add\"] = 0 \n",
    "            kwargs[\"len\"] = len(self.reads)\n",
    "        for read in self.reads:\n",
    "            while min(k_max,len(read)-1) - i > self.k_min + kwargs[\"k_min_add\"]:\n",
    "                if read[:min(k_max,len(read)-1)-i] in extensions[min(k_max,len(read)-1)-i]:\n",
    "                    if len(extensions[min(k_max,len(read)-1)-i][read[:min(k_max,len(read)-1)-i]]['endswith']) > 1: i += 1\n",
    "                    else: break\n",
    "                else: i+=1\n",
    "            if (read[:min(k_max,len(read)-1)-i] in extensions[min(k_max,len(read)-1)-i] and len(extensions[min(k_max,len(read)-1)-i][read[:min(k_max,len(read)-1)-i]]['endswith']) > 1)\\\n",
    "            or read[:min(k_max,len(read)-1)-i] not in extensions[min(k_max,len(read)-1)-i] or read not in extensions[min(k_max,len(read)-1)-i][read[:min(k_max,len(read)-1)-i]]['is_in']:\n",
    "                i = 0\n",
    "                continue\n",
    "            if list(extensions[min(k_max,len(read)-1)-i][read[:min(k_max,len(read)-1)-i]]['endswith'])[0] not in overlaps: overlaps[list(extensions[min(k_max,len(read)-1)-i][read[:min(k_max,len(read)-1)-i]]['endswith'])[0]] = (read[:min(k_max,len(read)-1)-i],read,read[min(k_max,len(read)-1)-i:])\n",
    "            else: overlaps[list(extensions[min(k_max,len(read)-1)-i][read[:min(k_max,len(read)-1)-i]]['endswith'])[0]] = ('','','')\n",
    "            i = 0\n",
    "        if len(overlaps):\n",
    "            overlaps = list(overlaps.items())\n",
    "            overlaps.sort(key=lambda e: len(e[1][0]),reverse=True)\n",
    "            overlaps = dict(overlaps)\n",
    "            key = list(overlaps.keys())[0]\n",
    "            seq = key\n",
    "            self.reads.remove(key)\n",
    "            while key in overlaps:\n",
    "                if len(overlaps[key][0]) < sum(len(o[0]) for o in overlaps.values())/len(overlaps): break\n",
    "                seq += overlaps[key][2]\n",
    "                key = overlaps[key][1]\n",
    "                if key not in self.reads or not len(key): break\n",
    "                self.reads.remove(key)\n",
    "            self.reads += [seq]\n",
    "        if len(self.reads) == 1: \n",
    "            self.sequence = self.reads[0]\n",
    "            return\n",
    "        else:\n",
    "            self.__init__(self.reads,self.correct_sequence,self.k_min,**kwargs)\n",
    "        \n",
    "    def phase2(self,extensions):\n",
    "        pass\n",
    "        \n",
    "    def longest_common_substring(self,branch,stalk,substring,extensions):\n",
    "        if branch.__is_shallow__():\n",
    "            if len(branch.s[stalk][1]) > 1:\n",
    "                if len(''.join(substring)) not in extensions: extensions[len(''.join(substring))] = {}\n",
    "                if ''.join(substring) not in extensions[len(''.join(substring))]: extensions[len(''.join(substring))][''.join(substring)] = {'endswith':set(),'is_in':set()}\n",
    "                for read in branch.s[stalk][1]:\n",
    "                    if read.endswith(''.join(substring)): extensions[len(''.join(substring))][''.join(substring)]['endswith'].add(read)\n",
    "                    else: extensions[len(''.join(substring))][''.join(substring)]['is_in'].add(read)\n",
    "            return extensions\n",
    "        if type(branch.__traverse__(stalk.stalk)) is Leaf:\n",
    "            if len(branch.s[stalk][1]) > 1:\n",
    "                if len(''.join(substring)) not in extensions: extensions[len(''.join(substring))] = {}\n",
    "                if ''.join(substring) not in extensions[len(''.join(substring))]: extensions[len(''.join(substring))][''.join(substring)] = {'endswith':set(),'is_in':set()}\n",
    "                for read in branch.s[stalk][1]:\n",
    "                    if read.endswith(''.join(substring)): extensions[len(''.join(substring))][''.join(substring)]['endswith'].add(read)\n",
    "                    else: extensions[len(''.join(substring))][''.join(substring)]['is_in'].add(read)\n",
    "            return extensions\n",
    "        for c in branch.__traverse__(stalk.stalk).b:\n",
    "            if c.stalk != '$': extensions = self.longest_common_substring(branch.__traverse__(stalk.stalk),c,substring+[c.stalk],extensions)\n",
    "            else: \n",
    "                if len(branch.s[stalk][1]) > 1:\n",
    "                    if len(''.join(substring)) not in extensions: extensions[len(''.join(substring))] = {}\n",
    "                    if ''.join(substring) not in extensions[len(''.join(substring))]: extensions[len(''.join(substring))][''.join(substring)] = {'endswith':set(),'is_in':set()}\n",
    "                    for read in branch.s[stalk][1]:\n",
    "                        if read.endswith(''.join(substring)): extensions[len(''.join(substring))][''.join(substring)]['endswith'].add(read)\n",
    "                        else: extensions[len(''.join(substring))][''.join(substring)]['is_in'].add(read)\n",
    "        return extensions"
   ]
  },
  {
   "cell_type": "code",
   "execution_count": 240,
   "metadata": {},
   "outputs": [
    {
     "data": {
      "text/plain": [
       "True"
      ]
     },
     "execution_count": 240,
     "metadata": {},
     "output_type": "execute_result"
    }
   ],
   "source": [
    "sequence = 'betty_bought_butter_the_butter_was_bitter_betty_bought_better_butter_to_make_the_bitter_butter_better'\n",
    "reads = ['betty_bought_butter_th',\n",
    "                        'tter_the_butter_was_',\n",
    "                              'he_butter_was_bitter_',\n",
    "                                         'as_bitter_betty_bought',\n",
    "                                                     'tty_bought_better_butter_t',\n",
    "                                                                     'r_butter_to_make_the_',\n",
    "                                                                                   'ke_the_bitter_butter_better']\n",
    "sequitur = Sequitur(reads,sequence,assemble=True)\n",
    "sequitur.sequence == sequence if type(sequitur.sequence) is str else all(s in sequence for s in sequitur.sequence)"
   ]
  },
  {
   "cell_type": "code",
   "execution_count": 241,
   "metadata": {},
   "outputs": [
    {
     "data": {
      "text/plain": [
       "True"
      ]
     },
     "execution_count": 241,
     "metadata": {},
     "output_type": "execute_result"
    }
   ],
   "source": [
    "sequence = 'you say hello world, i bellow go to hell'\n",
    "reads = ['you say hel',\n",
    "            ' say hello wo',\n",
    "                    'lo world, i be',\n",
    "                          'ld, i bellow go t',\n",
    "                                    'ow go to hell']\n",
    "sequitur = Sequitur(reads,sequence,assemble=True)\n",
    "sequitur.sequence == sequence if type(sequitur.sequence) is str else all(s in sequence for s in sequitur.sequence)"
   ]
  },
  {
   "cell_type": "code",
   "execution_count": 242,
   "metadata": {},
   "outputs": [
    {
     "data": {
      "text/plain": [
       "True"
      ]
     },
     "execution_count": 242,
     "metadata": {},
     "output_type": "execute_result"
    }
   ],
   "source": [
    "sequence = 'she_sells_sea_shells_on_the_sea_shore'\n",
    "reads = ['she_sells_s',\n",
    "               'lls_sea_shel',\n",
    "                    'ea_shells_o',\n",
    "                       'shells_on_the_s',\n",
    "                                  'he_sea_s',\n",
    "                                      'ea_shore']\n",
    "sequitur = Sequitur(reads,sequence,assemble=True)\n",
    "sequitur.sequence == sequence if type(sequitur.sequence) is str else all(s in sequence for s in sequitur.sequence)"
   ]
  },
  {
   "cell_type": "code",
   "execution_count": 245,
   "metadata": {},
   "outputs": [
    {
     "name": "stdout",
     "output_type": "stream",
     "text": [
      "| Seed: 0 | PAR | ['TTTAATCAACGAGCTTAATG', 'TTAGTTGTGCCGCAGCGAAGTAGTGCTTGAAATATGCGACCCCTAAGTAGGAGCGTATGCGCCCAGTAACCAATGCCTGTTGAGATGCCAGACGCGTAACCAAAACATAGAAACCATCAATAGACAGGTCATAATCGGTCCACCGGATCATTGGTGCATAGAGCCTGGGCGTTAACGCCCTTTATTACTAGCTTAATG', 'CTTAATGAGCTGACATTGCTGAAATGACCATGACTTAATAATCATTTATGGAGAAGAGGCACGACCACAAGGACCCTATGGCACGGTGGGCAAGCTCCCGCCCGGTACATAACTGTCTGGACTGATTATGTCGGTACAGACTTCTTC', 'AGCTTAATGGTATCACATTGACAAACACGGCATTAAGTAGCGACGAAACGGGATTTGCCTGACCGGGGAGAAGCCGGTCGATCAGCAGTGGTAATTGGATATTAGGCCTAAACCATAATGTTCTAGCGCTCGAAATCATTGCACCACTTGCATCTTTGTTCCAGGGACGCTGTAAAACCAGATGCCTGTAAATCGTTTCAACGGGATGGTTTACCCGGAATTCTACGTATTTAAT', 'CTTCTTCCTAGCGCTCTCTACTGCAAACCTCATGGTCCGGTTTGTACCACTTCGAATCATTCACTGTAATACTGGAACAGCTGATGCTTGCGAACGTATTGTAATCCAATCAGGTAGGGCAGACTAGGCGATAGAACTACGACCCTCTGCGGCCTGCGAAGGGAAAGACGCGTATTAATGCGCTGAAAGAGGGACCGATTGCGGTTATGCACTTACAGACCTAGTACTGGTTTACGCCCCGCCGACCTCCCCCGATCATCTTCTTACAAAACTTGTGTGACCCAAATCTCGACGGGGGCATCTGTGTCTGGGTTTGCCTCGCCTGGTGTACGTAACAGACCCGG', 'ATTTAATCCCCCCACTGGGATGCGGCTGCTGTTGTTACCAACAGCTAAAAGTGATGGTCCACACTCTTGACTCTATATGCTATAGTTTGCCGCGCTAATTTAGTCAGCGACACCAATTATGGAACCTGGCATGGAAGTCGTCCGCTGGTCATGTCGGTGGTGATGATCGCCGTCATTTTCTGTCGAATGTCTAATAGCGCACGACAATACACATCATACCCTTTATCTAGAGGGTCAGAAGACCTCGCTAATATTCTGCTGTAGCTCGTTATATTCTCGTTCCTGGTCACGAACGAGCTTCTTC', 'TTTAAACACTCTATTACCTCCGGGTAGCGTTGGCAAACTCCGATAATGAGCGCCAGGCGTGCCAGGACTCCACCTCCCCTGCTAAGTTGACCTTGAGCTCGGTACAGCGTCGGCGAGACGATAACAACGAAGTCCTTCGGCGTTATGTAATTCACCAGCCCACCATATCAGGTAATAGGCTCGCTGGTTAGGTAGATTATGTAAGAGGCGTGCAGCGCCGAACGGGGGTTTCACATCGATGCATGCCACATTGGGATGGGGCTCACTGTATCAGCCGTACCGCTATCTACCTATTGGTGGAGATAGCTTTTATGCGGATTCAAGGAACATAGAGTCGTCCTGACCCTAATCGAACGCGGGGTCTCACAGACTCTCGCTAAGAAATGTGTGACGACCAGCATAGTACGATATGGGTTCATGCTAGAAAGACTAGTTTAATGAAAGGATACGAATGCCCCCCGATTACCGGCCGCCTTGCTACATCCAAGAAAACCTATTGCCGCTACTGATTCTTCTCTTAGGGATCGAGTAACTATTTATTCCGTTCGAGGCGTACGCGGTAGTATGTCGCCAGCATTTAAT', 'TCTTCCTGCGTATCGATTACGAGCTTATCTGAAGAAGTTTAGGGCAAAGGGACCATGGCCATTGGTGCCAATTTCGGTTCTTGTATGCTACAGTTAAATAGAAAGGCCGCATTGTCGTTCTCGCCCTGTTTTCCTCATACACGACCGAGGTTATTTGTCGGAAACGAGACATCTCTCGAAGGTGGAACGACGCCGGGTGTGCAGAATTTATTTTAA'] ~~ TTAGTTGTGCCGCAGCGAAGTAGTGCTTGAAATATGCGACCCCTAAGTAGGAGCGTATGCGCCCAGTAACCAATGCCTGTTGAGATGCCAGACGCGTAACCAAAACATAGAAACCATCAATAGACAGGTCATAATCGGTCCACCGGATCATTGGTGCATAGAGCCTGGGCGTTAACGCCCTTTATTACTAGCTTAATGGTATCACATTGACAAACACGGCATTAAGTAGCGACGAAACGGGATTTGCCTGACCGGGGAGAAGCCGGTCGATCAGCAGTGGTAATTGGATATTAGGCCTAAACCATAATGTTCTAGCGCTCGAAATCATTGCACCACTTGCATCTTTGTTCCAGGGACGCTGTAAAACCAGATGCCTGTAAATCGTTTCAACGGGATGGTTTACCCGGAATTCTACGTATTTAATCAACGAGCTTAATGAGCTGACATTGCTGAAATGACCATGACTTAATAATCATTTATGGAGAAGAGGCACGACCACAAGGACCCTATGGCACGGTGGGCAAGCTCCCGCCCGGTACATAACTGTCTGGACTGATTATGTCGGTACAGACTTCTTCCTGCGTATCGATTACGAGCTTATCTGAAGAAGTTTAGGGCAAAGGGACCATGGCCATTGGTGCCAATTTCGGTTCTTGTATGCTACAGTTAAATAGAAAGGCCGCATTGTCGTTCTCGCCCTGTTTTCCTCATACACGACCGAGGTTATTTGTCGGAAACGAGACATCTCTCGAAGGTGGAACGACGCCGGGTGTGCAGAATTTATTTTAAACACTCTATTACCTCCGGGTAGCGTTGGCAAACTCCGATAATGAGCGCCAGGCGTGCCAGGACTCCACCTCCCCTGCTAAGTTGACCTTGAGCTCGGTACAGCGTCGGCGAGACGATAACAACGAAGTCCTTCGGCGTTATGTAATTCACCAGCCCACCATATCAGGTAATAGGCTCGCTGGTTAGGTAGATTATGTAAGAGGCGTGCAGCGCCGAACGGGGGTTTCACATCGATGCATGCCACATTGGGATGGGGCTCACTGTATCAGCCGTACCGCTATCTACCTATTGGTGGAGATAGCTTTTATGCGGATTCAAGGAACATAGAGTCGTCCTGACCCTAATCGAACGCGGGGTCTCACAGACTCTCGCTAAGAAATGTGTGACGACCAGCATAGTACGATATGGGTTCATGCTAGAAAGACTAGTTTAATGAAAGGATACGAATGCCCCCCGATTACCGGCCGCCTTGCTACATCCAAGAAAACCTATTGCCGCTACTGATTCTTCTCTTAGGGATCGAGTAACTATTTATTCCGTTCGAGGCGTACGCGGTAGTATGTCGCCAGCATTTAATCCCCCCACTGGGATGCGGCTGCTGTTGTTACCAACAGCTAAAAGTGATGGTCCACACTCTTGACTCTATATGCTATAGTTTGCCGCGCTAATTTAGTCAGCGACACCAATTATGGAACCTGGCATGGAAGTCGTCCGCTGGTCATGTCGGTGGTGATGATCGCCGTCATTTTCTGTCGAATGTCTAATAGCGCACGACAATACACATCATACCCTTTATCTAGAGGGTCAGAAGACCTCGCTAATATTCTGCTGTAGCTCGTTATATTCTCGTTCCTGGTCACGAACGAGCTTCTTCCTAGCGCTCTCTACTGCAAACCTCATGGTCCGGTTTGTACCACTTCGAATCATTCACTGTAATACTGGAACAGCTGATGCTTGCGAACGTATTGTAATCCAATCAGGTAGGGCAGACTAGGCGATAGAACTACGACCCTCTGCGGCCTGCGAAGGGAAAGACGCGTATTAATGCGCTGAAAGAGGGACCGATTGCGGTTATGCACTTACAGACCTAGTACTGGTTTACGCCCCGCCGACCTCCCCCGATCATCTTCTTACAAAACTTGTGTGACCCAAATCTCGACGGGGGCATCTGTGTCTGGGTTTGCCTCGCCTGGTGTACGTAACAGACCCGG\n",
      "-----------------------------------------\n",
      "\n",
      "\n",
      "\n",
      "\n",
      "\n",
      "\n",
      "\n",
      "\n",
      "\n"
     ]
    },
    {
     "ename": "KeyboardInterrupt",
     "evalue": "",
     "output_type": "error",
     "traceback": [
      "\u001b[1;31m---------------------------------------------------------------------------\u001b[0m",
      "\u001b[1;31mKeyboardInterrupt\u001b[0m                         Traceback (most recent call last)",
      "\u001b[1;32mc:\\Users\\Julian Jacobs\\Documents\\GitHub\\Sequitur\\sequitur_simplified.ipynb Cell 10\u001b[0m in \u001b[0;36m<module>\u001b[1;34m\u001b[0m\n\u001b[0;32m      <a href='vscode-notebook-cell:/c%3A/Users/Julian%20Jacobs/Documents/GitHub/Sequitur/sequitur_simplified.ipynb#X12sZmlsZQ%3D%3D?line=3'>4</a>\u001b[0m sequence \u001b[39m=\u001b[39m generate_genome_sequence(\u001b[39m2000\u001b[39m,seed\u001b[39m=\u001b[39mseed)\n\u001b[0;32m      <a href='vscode-notebook-cell:/c%3A/Users/Julian%20Jacobs/Documents/GitHub/Sequitur/sequitur_simplified.ipynb#X12sZmlsZQ%3D%3D?line=4'>5</a>\u001b[0m reads \u001b[39m=\u001b[39m generate_reads(sequence,\u001b[39m12\u001b[39m,\u001b[39m20\u001b[39m,\u001b[39m5\u001b[39m,\u001b[39m9\u001b[39m,seed\u001b[39m=\u001b[39mseed)\n\u001b[1;32m----> <a href='vscode-notebook-cell:/c%3A/Users/Julian%20Jacobs/Documents/GitHub/Sequitur/sequitur_simplified.ipynb#X12sZmlsZQ%3D%3D?line=5'>6</a>\u001b[0m sequitur \u001b[39m=\u001b[39m Sequitur(reads,sequence,assemble\u001b[39m=\u001b[39;49m\u001b[39mTrue\u001b[39;49;00m)\n\u001b[0;32m      <a href='vscode-notebook-cell:/c%3A/Users/Julian%20Jacobs/Documents/GitHub/Sequitur/sequitur_simplified.ipynb#X12sZmlsZQ%3D%3D?line=6'>7</a>\u001b[0m s \u001b[39m=\u001b[39m \u001b[39m'\u001b[39m\u001b[39m| Seed: \u001b[39m\u001b[39m'\u001b[39m \u001b[39m+\u001b[39m \u001b[39mstr\u001b[39m(seed) \u001b[39m+\u001b[39m \u001b[39m'\u001b[39m\u001b[39m | \u001b[39m\u001b[39m'\u001b[39m\n\u001b[0;32m      <a href='vscode-notebook-cell:/c%3A/Users/Julian%20Jacobs/Documents/GitHub/Sequitur/sequitur_simplified.ipynb#X12sZmlsZQ%3D%3D?line=7'>8</a>\u001b[0m \u001b[39mif\u001b[39;00m \u001b[39mtype\u001b[39m(sequitur\u001b[39m.\u001b[39msequence) \u001b[39mis\u001b[39;00m \u001b[39mstr\u001b[39m \u001b[39mand\u001b[39;00m sequitur\u001b[39m.\u001b[39msequence \u001b[39m==\u001b[39m sequence:\n",
      "\u001b[1;32mc:\\Users\\Julian Jacobs\\Documents\\GitHub\\Sequitur\\sequitur_simplified.ipynb Cell 10\u001b[0m in \u001b[0;36mSequitur.__init__\u001b[1;34m(self, reads, correct_sequence, k_min, **kwargs)\u001b[0m\n\u001b[0;32m     <a href='vscode-notebook-cell:/c%3A/Users/Julian%20Jacobs/Documents/GitHub/Sequitur/sequitur_simplified.ipynb#X12sZmlsZQ%3D%3D?line=15'>16</a>\u001b[0m         \u001b[39mif\u001b[39;00m \u001b[39mlen\u001b[39m(read[i:]) \u001b[39m<\u001b[39m \u001b[39mself\u001b[39m\u001b[39m.\u001b[39mk_min: \u001b[39mcontinue\u001b[39;00m \n\u001b[0;32m     <a href='vscode-notebook-cell:/c%3A/Users/Julian%20Jacobs/Documents/GitHub/Sequitur/sequitur_simplified.ipynb#X12sZmlsZQ%3D%3D?line=16'>17</a>\u001b[0m         \u001b[39mself\u001b[39m\u001b[39m.\u001b[39mbranch\u001b[39m.\u001b[39madd(Stalk(read[i:]),{read})\n\u001b[1;32m---> <a href='vscode-notebook-cell:/c%3A/Users/Julian%20Jacobs/Documents/GitHub/Sequitur/sequitur_simplified.ipynb#X12sZmlsZQ%3D%3D?line=17'>18</a>\u001b[0m \u001b[39mif\u001b[39;00m \u001b[39m\"\u001b[39m\u001b[39mlen\u001b[39m\u001b[39m\"\u001b[39m \u001b[39min\u001b[39;00m kwargs \u001b[39mor\u001b[39;00m (\u001b[39m\"\u001b[39m\u001b[39massemble\u001b[39m\u001b[39m\"\u001b[39m \u001b[39min\u001b[39;00m kwargs \u001b[39mand\u001b[39;00m kwargs[\u001b[39m\"\u001b[39m\u001b[39massemble\u001b[39m\u001b[39m\"\u001b[39m]): \u001b[39mself\u001b[39m\u001b[39m.\u001b[39massemble(\u001b[39m*\u001b[39m\u001b[39m*\u001b[39mkwargs)\n",
      "\u001b[1;32mc:\\Users\\Julian Jacobs\\Documents\\GitHub\\Sequitur\\sequitur_simplified.ipynb Cell 10\u001b[0m in \u001b[0;36mSequitur.assemble\u001b[1;34m(self, **kwargs)\u001b[0m\n\u001b[0;32m     <a href='vscode-notebook-cell:/c%3A/Users/Julian%20Jacobs/Documents/GitHub/Sequitur/sequitur_simplified.ipynb#X12sZmlsZQ%3D%3D?line=66'>67</a>\u001b[0m     \u001b[39mreturn\u001b[39;00m\n\u001b[0;32m     <a href='vscode-notebook-cell:/c%3A/Users/Julian%20Jacobs/Documents/GitHub/Sequitur/sequitur_simplified.ipynb#X12sZmlsZQ%3D%3D?line=67'>68</a>\u001b[0m \u001b[39melse\u001b[39;00m:\n\u001b[1;32m---> <a href='vscode-notebook-cell:/c%3A/Users/Julian%20Jacobs/Documents/GitHub/Sequitur/sequitur_simplified.ipynb#X12sZmlsZQ%3D%3D?line=68'>69</a>\u001b[0m     \u001b[39mself\u001b[39m\u001b[39m.\u001b[39m\u001b[39m__init__\u001b[39m(\u001b[39mself\u001b[39m\u001b[39m.\u001b[39mreads,\u001b[39mself\u001b[39m\u001b[39m.\u001b[39mcorrect_sequence,\u001b[39mself\u001b[39m\u001b[39m.\u001b[39mk_min,\u001b[39m*\u001b[39m\u001b[39m*\u001b[39mkwargs)\n",
      "\u001b[1;32mc:\\Users\\Julian Jacobs\\Documents\\GitHub\\Sequitur\\sequitur_simplified.ipynb Cell 10\u001b[0m in \u001b[0;36mSequitur.__init__\u001b[1;34m(self, reads, correct_sequence, k_min, **kwargs)\u001b[0m\n\u001b[0;32m     <a href='vscode-notebook-cell:/c%3A/Users/Julian%20Jacobs/Documents/GitHub/Sequitur/sequitur_simplified.ipynb#X12sZmlsZQ%3D%3D?line=15'>16</a>\u001b[0m         \u001b[39mif\u001b[39;00m \u001b[39mlen\u001b[39m(read[i:]) \u001b[39m<\u001b[39m \u001b[39mself\u001b[39m\u001b[39m.\u001b[39mk_min: \u001b[39mcontinue\u001b[39;00m \n\u001b[0;32m     <a href='vscode-notebook-cell:/c%3A/Users/Julian%20Jacobs/Documents/GitHub/Sequitur/sequitur_simplified.ipynb#X12sZmlsZQ%3D%3D?line=16'>17</a>\u001b[0m         \u001b[39mself\u001b[39m\u001b[39m.\u001b[39mbranch\u001b[39m.\u001b[39madd(Stalk(read[i:]),{read})\n\u001b[1;32m---> <a href='vscode-notebook-cell:/c%3A/Users/Julian%20Jacobs/Documents/GitHub/Sequitur/sequitur_simplified.ipynb#X12sZmlsZQ%3D%3D?line=17'>18</a>\u001b[0m \u001b[39mif\u001b[39;00m \u001b[39m\"\u001b[39m\u001b[39mlen\u001b[39m\u001b[39m\"\u001b[39m \u001b[39min\u001b[39;00m kwargs \u001b[39mor\u001b[39;00m (\u001b[39m\"\u001b[39m\u001b[39massemble\u001b[39m\u001b[39m\"\u001b[39m \u001b[39min\u001b[39;00m kwargs \u001b[39mand\u001b[39;00m kwargs[\u001b[39m\"\u001b[39m\u001b[39massemble\u001b[39m\u001b[39m\"\u001b[39m]): \u001b[39mself\u001b[39m\u001b[39m.\u001b[39massemble(\u001b[39m*\u001b[39m\u001b[39m*\u001b[39mkwargs)\n",
      "\u001b[1;32mc:\\Users\\Julian Jacobs\\Documents\\GitHub\\Sequitur\\sequitur_simplified.ipynb Cell 10\u001b[0m in \u001b[0;36mSequitur.assemble\u001b[1;34m(self, **kwargs)\u001b[0m\n\u001b[0;32m     <a href='vscode-notebook-cell:/c%3A/Users/Julian%20Jacobs/Documents/GitHub/Sequitur/sequitur_simplified.ipynb#X12sZmlsZQ%3D%3D?line=66'>67</a>\u001b[0m     \u001b[39mreturn\u001b[39;00m\n\u001b[0;32m     <a href='vscode-notebook-cell:/c%3A/Users/Julian%20Jacobs/Documents/GitHub/Sequitur/sequitur_simplified.ipynb#X12sZmlsZQ%3D%3D?line=67'>68</a>\u001b[0m \u001b[39melse\u001b[39;00m:\n\u001b[1;32m---> <a href='vscode-notebook-cell:/c%3A/Users/Julian%20Jacobs/Documents/GitHub/Sequitur/sequitur_simplified.ipynb#X12sZmlsZQ%3D%3D?line=68'>69</a>\u001b[0m     \u001b[39mself\u001b[39m\u001b[39m.\u001b[39m\u001b[39m__init__\u001b[39m(\u001b[39mself\u001b[39m\u001b[39m.\u001b[39mreads,\u001b[39mself\u001b[39m\u001b[39m.\u001b[39mcorrect_sequence,\u001b[39mself\u001b[39m\u001b[39m.\u001b[39mk_min,\u001b[39m*\u001b[39m\u001b[39m*\u001b[39mkwargs)\n",
      "    \u001b[1;31m[... skipping similar frames: Sequitur.__init__ at line 18 (44 times), Sequitur.assemble at line 69 (44 times)]\u001b[0m\n",
      "\u001b[1;32mc:\\Users\\Julian Jacobs\\Documents\\GitHub\\Sequitur\\sequitur_simplified.ipynb Cell 10\u001b[0m in \u001b[0;36mSequitur.__init__\u001b[1;34m(self, reads, correct_sequence, k_min, **kwargs)\u001b[0m\n\u001b[0;32m     <a href='vscode-notebook-cell:/c%3A/Users/Julian%20Jacobs/Documents/GitHub/Sequitur/sequitur_simplified.ipynb#X12sZmlsZQ%3D%3D?line=15'>16</a>\u001b[0m         \u001b[39mif\u001b[39;00m \u001b[39mlen\u001b[39m(read[i:]) \u001b[39m<\u001b[39m \u001b[39mself\u001b[39m\u001b[39m.\u001b[39mk_min: \u001b[39mcontinue\u001b[39;00m \n\u001b[0;32m     <a href='vscode-notebook-cell:/c%3A/Users/Julian%20Jacobs/Documents/GitHub/Sequitur/sequitur_simplified.ipynb#X12sZmlsZQ%3D%3D?line=16'>17</a>\u001b[0m         \u001b[39mself\u001b[39m\u001b[39m.\u001b[39mbranch\u001b[39m.\u001b[39madd(Stalk(read[i:]),{read})\n\u001b[1;32m---> <a href='vscode-notebook-cell:/c%3A/Users/Julian%20Jacobs/Documents/GitHub/Sequitur/sequitur_simplified.ipynb#X12sZmlsZQ%3D%3D?line=17'>18</a>\u001b[0m \u001b[39mif\u001b[39;00m \u001b[39m\"\u001b[39m\u001b[39mlen\u001b[39m\u001b[39m\"\u001b[39m \u001b[39min\u001b[39;00m kwargs \u001b[39mor\u001b[39;00m (\u001b[39m\"\u001b[39m\u001b[39massemble\u001b[39m\u001b[39m\"\u001b[39m \u001b[39min\u001b[39;00m kwargs \u001b[39mand\u001b[39;00m kwargs[\u001b[39m\"\u001b[39m\u001b[39massemble\u001b[39m\u001b[39m\"\u001b[39m]): \u001b[39mself\u001b[39m\u001b[39m.\u001b[39massemble(\u001b[39m*\u001b[39m\u001b[39m*\u001b[39mkwargs)\n",
      "\u001b[1;32mc:\\Users\\Julian Jacobs\\Documents\\GitHub\\Sequitur\\sequitur_simplified.ipynb Cell 10\u001b[0m in \u001b[0;36mSequitur.assemble\u001b[1;34m(self, **kwargs)\u001b[0m\n\u001b[0;32m     <a href='vscode-notebook-cell:/c%3A/Users/Julian%20Jacobs/Documents/GitHub/Sequitur/sequitur_simplified.ipynb#X12sZmlsZQ%3D%3D?line=66'>67</a>\u001b[0m     \u001b[39mreturn\u001b[39;00m\n\u001b[0;32m     <a href='vscode-notebook-cell:/c%3A/Users/Julian%20Jacobs/Documents/GitHub/Sequitur/sequitur_simplified.ipynb#X12sZmlsZQ%3D%3D?line=67'>68</a>\u001b[0m \u001b[39melse\u001b[39;00m:\n\u001b[1;32m---> <a href='vscode-notebook-cell:/c%3A/Users/Julian%20Jacobs/Documents/GitHub/Sequitur/sequitur_simplified.ipynb#X12sZmlsZQ%3D%3D?line=68'>69</a>\u001b[0m     \u001b[39mself\u001b[39m\u001b[39m.\u001b[39m\u001b[39m__init__\u001b[39m(\u001b[39mself\u001b[39m\u001b[39m.\u001b[39mreads,\u001b[39mself\u001b[39m\u001b[39m.\u001b[39mcorrect_sequence,\u001b[39mself\u001b[39m\u001b[39m.\u001b[39mk_min,\u001b[39m*\u001b[39m\u001b[39m*\u001b[39mkwargs)\n",
      "\u001b[1;32mc:\\Users\\Julian Jacobs\\Documents\\GitHub\\Sequitur\\sequitur_simplified.ipynb Cell 10\u001b[0m in \u001b[0;36mSequitur.__init__\u001b[1;34m(self, reads, correct_sequence, k_min, **kwargs)\u001b[0m\n\u001b[0;32m     <a href='vscode-notebook-cell:/c%3A/Users/Julian%20Jacobs/Documents/GitHub/Sequitur/sequitur_simplified.ipynb#X12sZmlsZQ%3D%3D?line=14'>15</a>\u001b[0m     \u001b[39mfor\u001b[39;00m i \u001b[39min\u001b[39;00m \u001b[39mrange\u001b[39m(\u001b[39mlen\u001b[39m(read)):\n\u001b[0;32m     <a href='vscode-notebook-cell:/c%3A/Users/Julian%20Jacobs/Documents/GitHub/Sequitur/sequitur_simplified.ipynb#X12sZmlsZQ%3D%3D?line=15'>16</a>\u001b[0m         \u001b[39mif\u001b[39;00m \u001b[39mlen\u001b[39m(read[i:]) \u001b[39m<\u001b[39m \u001b[39mself\u001b[39m\u001b[39m.\u001b[39mk_min: \u001b[39mcontinue\u001b[39;00m \n\u001b[1;32m---> <a href='vscode-notebook-cell:/c%3A/Users/Julian%20Jacobs/Documents/GitHub/Sequitur/sequitur_simplified.ipynb#X12sZmlsZQ%3D%3D?line=16'>17</a>\u001b[0m         \u001b[39mself\u001b[39;49m\u001b[39m.\u001b[39;49mbranch\u001b[39m.\u001b[39;49madd(Stalk(read[i:]),{read})\n\u001b[0;32m     <a href='vscode-notebook-cell:/c%3A/Users/Julian%20Jacobs/Documents/GitHub/Sequitur/sequitur_simplified.ipynb#X12sZmlsZQ%3D%3D?line=17'>18</a>\u001b[0m \u001b[39mif\u001b[39;00m \u001b[39m\"\u001b[39m\u001b[39mlen\u001b[39m\u001b[39m\"\u001b[39m \u001b[39min\u001b[39;00m kwargs \u001b[39mor\u001b[39;00m (\u001b[39m\"\u001b[39m\u001b[39massemble\u001b[39m\u001b[39m\"\u001b[39m \u001b[39min\u001b[39;00m kwargs \u001b[39mand\u001b[39;00m kwargs[\u001b[39m\"\u001b[39m\u001b[39massemble\u001b[39m\u001b[39m\"\u001b[39m]): \u001b[39mself\u001b[39m\u001b[39m.\u001b[39massemble(\u001b[39m*\u001b[39m\u001b[39m*\u001b[39mkwargs)\n",
      "\u001b[1;32mc:\\Users\\Julian Jacobs\\Documents\\GitHub\\Sequitur\\sequitur_simplified.ipynb Cell 10\u001b[0m in \u001b[0;36mBranch.add\u001b[1;34m(self, stalk, reads)\u001b[0m\n\u001b[0;32m     <a href='vscode-notebook-cell:/c%3A/Users/Julian%20Jacobs/Documents/GitHub/Sequitur/sequitur_simplified.ipynb#X12sZmlsZQ%3D%3D?line=91'>92</a>\u001b[0m     \u001b[39mself\u001b[39m[stalk_[\u001b[39m0\u001b[39m]] \u001b[39m=\u001b[39m br\n\u001b[0;32m     <a href='vscode-notebook-cell:/c%3A/Users/Julian%20Jacobs/Documents/GitHub/Sequitur/sequitur_simplified.ipynb#X12sZmlsZQ%3D%3D?line=92'>93</a>\u001b[0m \u001b[39melse\u001b[39;00m: \n\u001b[1;32m---> <a href='vscode-notebook-cell:/c%3A/Users/Julian%20Jacobs/Documents/GitHub/Sequitur/sequitur_simplified.ipynb#X12sZmlsZQ%3D%3D?line=93'>94</a>\u001b[0m     branch\u001b[39m.\u001b[39;49madd(stalk,reads)\n\u001b[0;32m     <a href='vscode-notebook-cell:/c%3A/Users/Julian%20Jacobs/Documents/GitHub/Sequitur/sequitur_simplified.ipynb#X12sZmlsZQ%3D%3D?line=94'>95</a>\u001b[0m stalk_[\u001b[39m1\u001b[39m]\u001b[39m.\u001b[39mupdate(reads)\n\u001b[0;32m     <a href='vscode-notebook-cell:/c%3A/Users/Julian%20Jacobs/Documents/GitHub/Sequitur/sequitur_simplified.ipynb#X12sZmlsZQ%3D%3D?line=95'>96</a>\u001b[0m stalk_ \u001b[39m=\u001b[39m \u001b[39mtuple\u001b[39m(stalk_)\n",
      "\u001b[1;32mc:\\Users\\Julian Jacobs\\Documents\\GitHub\\Sequitur\\sequitur_simplified.ipynb Cell 10\u001b[0m in \u001b[0;36mBranch.add\u001b[1;34m(self, stalk, reads)\u001b[0m\n\u001b[0;32m     <a href='vscode-notebook-cell:/c%3A/Users/Julian%20Jacobs/Documents/GitHub/Sequitur/sequitur_simplified.ipynb#X12sZmlsZQ%3D%3D?line=91'>92</a>\u001b[0m     \u001b[39mself\u001b[39m[stalk_[\u001b[39m0\u001b[39m]] \u001b[39m=\u001b[39m br\n\u001b[0;32m     <a href='vscode-notebook-cell:/c%3A/Users/Julian%20Jacobs/Documents/GitHub/Sequitur/sequitur_simplified.ipynb#X12sZmlsZQ%3D%3D?line=92'>93</a>\u001b[0m \u001b[39melse\u001b[39;00m: \n\u001b[1;32m---> <a href='vscode-notebook-cell:/c%3A/Users/Julian%20Jacobs/Documents/GitHub/Sequitur/sequitur_simplified.ipynb#X12sZmlsZQ%3D%3D?line=93'>94</a>\u001b[0m     branch\u001b[39m.\u001b[39;49madd(stalk,reads)\n\u001b[0;32m     <a href='vscode-notebook-cell:/c%3A/Users/Julian%20Jacobs/Documents/GitHub/Sequitur/sequitur_simplified.ipynb#X12sZmlsZQ%3D%3D?line=94'>95</a>\u001b[0m stalk_[\u001b[39m1\u001b[39m]\u001b[39m.\u001b[39mupdate(reads)\n\u001b[0;32m     <a href='vscode-notebook-cell:/c%3A/Users/Julian%20Jacobs/Documents/GitHub/Sequitur/sequitur_simplified.ipynb#X12sZmlsZQ%3D%3D?line=95'>96</a>\u001b[0m stalk_ \u001b[39m=\u001b[39m \u001b[39mtuple\u001b[39m(stalk_)\n",
      "    \u001b[1;31m[... skipping similar frames: Branch.add at line 94 (1 times)]\u001b[0m\n",
      "\u001b[1;32mc:\\Users\\Julian Jacobs\\Documents\\GitHub\\Sequitur\\sequitur_simplified.ipynb Cell 10\u001b[0m in \u001b[0;36mBranch.add\u001b[1;34m(self, stalk, reads)\u001b[0m\n\u001b[0;32m     <a href='vscode-notebook-cell:/c%3A/Users/Julian%20Jacobs/Documents/GitHub/Sequitur/sequitur_simplified.ipynb#X12sZmlsZQ%3D%3D?line=91'>92</a>\u001b[0m     \u001b[39mself\u001b[39m[stalk_[\u001b[39m0\u001b[39m]] \u001b[39m=\u001b[39m br\n\u001b[0;32m     <a href='vscode-notebook-cell:/c%3A/Users/Julian%20Jacobs/Documents/GitHub/Sequitur/sequitur_simplified.ipynb#X12sZmlsZQ%3D%3D?line=92'>93</a>\u001b[0m \u001b[39melse\u001b[39;00m: \n\u001b[1;32m---> <a href='vscode-notebook-cell:/c%3A/Users/Julian%20Jacobs/Documents/GitHub/Sequitur/sequitur_simplified.ipynb#X12sZmlsZQ%3D%3D?line=93'>94</a>\u001b[0m     branch\u001b[39m.\u001b[39;49madd(stalk,reads)\n\u001b[0;32m     <a href='vscode-notebook-cell:/c%3A/Users/Julian%20Jacobs/Documents/GitHub/Sequitur/sequitur_simplified.ipynb#X12sZmlsZQ%3D%3D?line=94'>95</a>\u001b[0m stalk_[\u001b[39m1\u001b[39m]\u001b[39m.\u001b[39mupdate(reads)\n\u001b[0;32m     <a href='vscode-notebook-cell:/c%3A/Users/Julian%20Jacobs/Documents/GitHub/Sequitur/sequitur_simplified.ipynb#X12sZmlsZQ%3D%3D?line=95'>96</a>\u001b[0m stalk_ \u001b[39m=\u001b[39m \u001b[39mtuple\u001b[39m(stalk_)\n",
      "\u001b[1;32mc:\\Users\\Julian Jacobs\\Documents\\GitHub\\Sequitur\\sequitur_simplified.ipynb Cell 10\u001b[0m in \u001b[0;36mBranch.add\u001b[1;34m(self, stalk, reads)\u001b[0m\n\u001b[0;32m     <a href='vscode-notebook-cell:/c%3A/Users/Julian%20Jacobs/Documents/GitHub/Sequitur/sequitur_simplified.ipynb#X12sZmlsZQ%3D%3D?line=73'>74</a>\u001b[0m l1 \u001b[39m=\u001b[39m \u001b[39mself\u001b[39m\u001b[39m.\u001b[39mpop(stalk)\n\u001b[0;32m     <a href='vscode-notebook-cell:/c%3A/Users/Julian%20Jacobs/Documents/GitHub/Sequitur/sequitur_simplified.ipynb#X12sZmlsZQ%3D%3D?line=74'>75</a>\u001b[0m stalk_ \u001b[39m=\u001b[39m \u001b[39mlist\u001b[39m(\u001b[39mself\u001b[39m\u001b[39m.\u001b[39ms\u001b[39m.\u001b[39mpop(stalk))\n\u001b[1;32m---> <a href='vscode-notebook-cell:/c%3A/Users/Julian%20Jacobs/Documents/GitHub/Sequitur/sequitur_simplified.ipynb#X12sZmlsZQ%3D%3D?line=75'>76</a>\u001b[0m stalk_[\u001b[39m0\u001b[39m],l1\u001b[39m.\u001b[39mleft,l2 \u001b[39m=\u001b[39m stalk_[\u001b[39m0\u001b[39;49m]\u001b[39m.\u001b[39;49mcommon_substring(stalk)\n\u001b[0;32m     <a href='vscode-notebook-cell:/c%3A/Users/Julian%20Jacobs/Documents/GitHub/Sequitur/sequitur_simplified.ipynb#X12sZmlsZQ%3D%3D?line=76'>77</a>\u001b[0m branch\u001b[39m.\u001b[39madd(l1\u001b[39m.\u001b[39mleft,stalk_[\u001b[39m1\u001b[39m]\u001b[39m.\u001b[39mcopy())\n\u001b[0;32m     <a href='vscode-notebook-cell:/c%3A/Users/Julian%20Jacobs/Documents/GitHub/Sequitur/sequitur_simplified.ipynb#X12sZmlsZQ%3D%3D?line=77'>78</a>\u001b[0m stalk_[\u001b[39m1\u001b[39m]\u001b[39m.\u001b[39mupdate(reads)\n",
      "\u001b[1;32mc:\\Users\\Julian Jacobs\\Documents\\GitHub\\Sequitur\\sequitur_simplified.ipynb Cell 10\u001b[0m in \u001b[0;36mStalk.common_substring\u001b[1;34m(self, other)\u001b[0m\n\u001b[0;32m     <a href='vscode-notebook-cell:/c%3A/Users/Julian%20Jacobs/Documents/GitHub/Sequitur/sequitur_simplified.ipynb#X12sZmlsZQ%3D%3D?line=33'>34</a>\u001b[0m substr \u001b[39m=\u001b[39m \u001b[39m'\u001b[39m\u001b[39m'\u001b[39m\n\u001b[0;32m     <a href='vscode-notebook-cell:/c%3A/Users/Julian%20Jacobs/Documents/GitHub/Sequitur/sequitur_simplified.ipynb#X12sZmlsZQ%3D%3D?line=34'>35</a>\u001b[0m \u001b[39mif\u001b[39;00m \u001b[39mtype\u001b[39m(other) \u001b[39m==\u001b[39m \u001b[39mstr\u001b[39m: other \u001b[39m=\u001b[39m Stalk(other)\n\u001b[1;32m---> <a href='vscode-notebook-cell:/c%3A/Users/Julian%20Jacobs/Documents/GitHub/Sequitur/sequitur_simplified.ipynb#X12sZmlsZQ%3D%3D?line=35'>36</a>\u001b[0m \u001b[39mwhile\u001b[39;00m i \u001b[39m<\u001b[39m \u001b[39mmin\u001b[39m(\u001b[39mlen\u001b[39m(\u001b[39mself\u001b[39m),\u001b[39mlen\u001b[39;49m(other)) \u001b[39mand\u001b[39;00m \u001b[39mself\u001b[39m[i] \u001b[39m==\u001b[39m other[i]:\n\u001b[0;32m     <a href='vscode-notebook-cell:/c%3A/Users/Julian%20Jacobs/Documents/GitHub/Sequitur/sequitur_simplified.ipynb#X12sZmlsZQ%3D%3D?line=36'>37</a>\u001b[0m     substr \u001b[39m+\u001b[39m\u001b[39m=\u001b[39m \u001b[39mself\u001b[39m[i]\n\u001b[0;32m     <a href='vscode-notebook-cell:/c%3A/Users/Julian%20Jacobs/Documents/GitHub/Sequitur/sequitur_simplified.ipynb#X12sZmlsZQ%3D%3D?line=37'>38</a>\u001b[0m     i \u001b[39m+\u001b[39m\u001b[39m=\u001b[39m \u001b[39m1\u001b[39m\n",
      "\u001b[1;31mKeyboardInterrupt\u001b[0m: "
     ]
    }
   ],
   "source": [
    "successes = 0\n",
    "n = 20\n",
    "for seed in range(n):   \n",
    "    sequence = generate_genome_sequence(2000,seed=seed)\n",
    "    reads = generate_reads(sequence,12,20,5,9,seed=seed)\n",
    "    sequitur = Sequitur(reads,sequence,assemble=True)\n",
    "    s = '| Seed: ' + str(seed) + ' | '\n",
    "    if type(sequitur.sequence) is str and sequitur.sequence == sequence:\n",
    "        s+='SUC | ' + str(sequitur.sequence) + ' == ' + sequence\n",
    "        successes+=1\n",
    "    elif type(sequitur.sequence) is list and all(s in sequence for s in sequitur.sequence):\n",
    "        s+='PAR | ' + str(sequitur.sequence) + ' ~~ ' + sequence\n",
    "        successes+=0.5\n",
    "    else: s+='FAI | ' + sequitur.sequence + ' != ' + sequence\n",
    "    print(s)\n",
    "    print('-----------------------------------------')\n",
    "print('ACCURACY: '+str((successes/n)*100)+'%')"
   ]
  },
  {
   "attachments": {},
   "cell_type": "markdown",
   "metadata": {},
   "source": [
    "    SUC: returns the target sequence fully reconstructed\n",
    "    PAR: returns contigs all of which exist in the target sequence (consider coverage?)\n",
    "    FAI: returns a full sequence that is incorrectly reconstructed or a set of contigs where at least one is not found in the target sequence"
   ]
  },
  {
   "cell_type": "code",
   "execution_count": 247,
   "metadata": {},
   "outputs": [
    {
     "data": {
      "text/plain": [
       "['TTTAATCAACGAGCTTAATG',\n",
       " 'TTAGTTGTGCCGCAGCGAAGTAGTGCTTGAAATATGCGACCCCTAAGTAGGAGCGTATGCGCCCAGTAACCAATGCCTGTTGAGATGCCAGACGCGTAACCAAAACATAGAAACCATCAATAGACAGGTCATAATCGGTCCACCGGATCATTGGTGCATAGAGCCTGGGCGTTAACGCCCTTTATTACTAGCTTAATG',\n",
       " 'CTTAATGAGCTGACATTGCTGAAATGACCATGACTTAATAATCATTTATGGAGAAGAGGCACGACCACAAGGACCCTATGGCACGGTGGGCAAGCTCCCGCCCGGTACATAACTGTCTGGACTGATTATGTCGGTACAGACTTCTTC',\n",
       " 'AGCTTAATGGTATCACATTGACAAACACGGCATTAAGTAGCGACGAAACGGGATTTGCCTGACCGGGGAGAAGCCGGTCGATCAGCAGTGGTAATTGGATATTAGGCCTAAACCATAATGTTCTAGCGCTCGAAATCATTGCACCACTTGCATCTTTGTTCCAGGGACGCTGTAAAACCAGATGCCTGTAAATCGTTTCAACGGGATGGTTTACCCGGAATTCTACGTATTTAAT',\n",
       " 'CTTCTTCCTAGCGCTCTCTACTGCAAACCTCATGGTCCGGTTTGTACCACTTCGAATCATTCACTGTAATACTGGAACAGCTGATGCTTGCGAACGTATTGTAATCCAATCAGGTAGGGCAGACTAGGCGATAGAACTACGACCCTCTGCGGCCTGCGAAGGGAAAGACGCGTATTAATGCGCTGAAAGAGGGACCGATTGCGGTTATGCACTTACAGACCTAGTACTGGTTTACGCCCCGCCGACCTCCCCCGATCATCTTCTTACAAAACTTGTGTGACCCAAATCTCGACGGGGGCATCTGTGTCTGGGTTTGCCTCGCCTGGTGTACGTAACAGACCCGG',\n",
       " 'ATTTAATCCCCCCACTGGGATGCGGCTGCTGTTGTTACCAACAGCTAAAAGTGATGGTCCACACTCTTGACTCTATATGCTATAGTTTGCCGCGCTAATTTAGTCAGCGACACCAATTATGGAACCTGGCATGGAAGTCGTCCGCTGGTCATGTCGGTGGTGATGATCGCCGTCATTTTCTGTCGAATGTCTAATAGCGCACGACAATACACATCATACCCTTTATCTAGAGGGTCAGAAGACCTCGCTAATATTCTGCTGTAGCTCGTTATATTCTCGTTCCTGGTCACGAACGAGCTTCTTC',\n",
       " 'TTTAAACACTCTATTACCTCCGGGTAGCGTTGGCAAACTCCGATAATGAGCGCCAGGCGTGCCAGGACTCCACCTCCCCTGCTAAGTTGACCTTGAGCTCGGTACAGCGTCGGCGAGACGATAACAACGAAGTCCTTCGGCGTTATGTAATTCACCAGCCCACCATATCAGGTAATAGGCTCGCTGGTTAGGTAGATTATGTAAGAGGCGTGCAGCGCCGAACGGGGGTTTCACATCGATGCATGCCACATTGGGATGGGGCTCACTGTATCAGCCGTACCGCTATCTACCTATTGGTGGAGATAGCTTTTATGCGGATTCAAGGAACATAGAGTCGTCCTGACCCTAATCGAACGCGGGGTCTCACAGACTCTCGCTAAGAAATGTGTGACGACCAGCATAGTACGATATGGGTTCATGCTAGAAAGACTAGTTTAATGAAAGGATACGAATGCCCCCCGATTACCGGCCGCCTTGCTACATCCAAGAAAACCTATTGCCGCTACTGATTCTTCTCTTAGGGATCGAGTAACTATTTATTCCGTTCGAGGCGTACGCGGTAGTATGTCGCCAGCATTTAAT',\n",
       " 'TCTTCCTGCGTATCGATTACGAGCTTATCTGAAGAAGTTTAGGGCAAAGGGACCATGGCCATTGGTGCCAATTTCGGTTCTTGTATGCTACAGTTAAATAGAAAGGCCGCATTGTCGTTCTCGCCCTGTTTTCCTCATACACGACCGAGGTTATTTGTCGGAAACGAGACATCTCTCGAAGGTGGAACGACGCCGGGTGTGCAGAATTTATTTTAA']"
      ]
     },
     "execution_count": 247,
     "metadata": {},
     "output_type": "execute_result"
    }
   ],
   "source": [
    "seed = 0\n",
    "sequence = generate_genome_sequence(2000,seed=seed)\n",
    "reads = generate_reads(sequence,12,20,5,9,seed=seed)\n",
    "sequitur = Sequitur(reads,sequence,assemble=True)\n",
    "sequitur.sequence #== sequence if type(sequitur.sequence) is str else all(s in sequence for s in sequitur.sequence)\n",
    "# would my OG alg struggle with these tandem repeats (i don't recall them being an issue)"
   ]
  },
  {
   "cell_type": "code",
   "execution_count": 248,
   "metadata": {},
   "outputs": [
    {
     "data": {
      "text/plain": [
       "False"
      ]
     },
     "execution_count": 248,
     "metadata": {},
     "output_type": "execute_result"
    }
   ],
   "source": [
    "any(sequitur.sequence[0] in s for s in sequitur.sequence[1:])"
   ]
  },
  {
   "attachments": {},
   "cell_type": "markdown",
   "metadata": {},
   "source": [
    "# DeBruijn Graph"
   ]
  },
  {
   "cell_type": "code",
   "execution_count": 1,
   "metadata": {},
   "outputs": [],
   "source": [
    "# ! pip install toyplot networkx\n",
    "import networkx as nx\n",
    "import toyplot, math, json"
   ]
  },
  {
   "cell_type": "code",
   "execution_count": 15,
   "metadata": {},
   "outputs": [],
   "source": [
    "def construct_debruijn_graph(reads,k=3,allow_parallel_edges=True):\n",
    "    import networkx as nx\n",
    "    \n",
    "    if allow_parallel_edges: G = nx.MultiDiGraph()\n",
    "    else: G = nx.DiGraph()\n",
    "    for read in reads:\n",
    "        for i in range(len(read)-k+1):\n",
    "            G.add_edge(read[i:i+k-1],read[i+1:i+k])\n",
    "    return G\n",
    "\n",
    "def plot_debruijn_graph(edges, width=500, height=500):\n",
    "    \"returns a toyplot graph from an input of edges\"\n",
    "    graph = toyplot.graph(\n",
    "        [i[0] for i in edges],\n",
    "        [i[1] for i in edges],\n",
    "        width=width,\n",
    "        height=height,\n",
    "        tmarker=\">\", \n",
    "        vsize=25,\n",
    "        vstyle={\"stroke\": \"black\", \"stroke-width\": 2, \"fill\": \"none\"},\n",
    "        vlstyle={\"font-size\": \"11px\"},\n",
    "        estyle={\"stroke\": \"black\", \"stroke-width\": 2},\n",
    "        layout=toyplot.layout.FruchtermanReingold(edges=toyplot.layout.CurvedEdges()))\n",
    "    return graph\n",
    "\n",
    "def assemble(G):\n",
    "    seq = ''\n",
    "    init = True\n",
    "    if nx.is_eulerian(G) or nx.has_eulerian_path(G):\n",
    "        for n in nx.eulerian_path(G):\n",
    "            if init: \n",
    "                seq = n[0] + n[1][-1]\n",
    "                init = False\n",
    "                continue\n",
    "            seq += n[1][-1]\n",
    "        return seq\n",
    "    else: return False"
   ]
  },
  {
   "cell_type": "code",
   "execution_count": 20,
   "metadata": {},
   "outputs": [
    {
     "ename": "NetworkXNotImplemented",
     "evalue": "not implemented for directed type",
     "output_type": "error",
     "traceback": [
      "\u001b[1;31m---------------------------------------------------------------------------\u001b[0m",
      "\u001b[1;31mNetworkXNotImplemented\u001b[0m                    Traceback (most recent call last)",
      "\u001b[1;32mc:\\Users\\Julian Jacobs\\Documents\\GitHub\\Sequitur\\sequitur_simplified.ipynb Cell 15\u001b[0m in \u001b[0;36m<module>\u001b[1;34m\u001b[0m\n\u001b[0;32m      <a href='vscode-notebook-cell:/c%3A/Users/Julian%20Jacobs/Documents/GitHub/Sequitur/sequitur_simplified.ipynb#X20sZmlsZQ%3D%3D?line=8'>9</a>\u001b[0m \u001b[39mfor\u001b[39;00m k \u001b[39min\u001b[39;00m \u001b[39mrange\u001b[39m(\u001b[39m3\u001b[39m,\u001b[39mmin\u001b[39m(\u001b[39mlen\u001b[39m(read) \u001b[39mfor\u001b[39;00m read \u001b[39min\u001b[39;00m reads)):\n\u001b[0;32m     <a href='vscode-notebook-cell:/c%3A/Users/Julian%20Jacobs/Documents/GitHub/Sequitur/sequitur_simplified.ipynb#X20sZmlsZQ%3D%3D?line=9'>10</a>\u001b[0m       G \u001b[39m=\u001b[39m construct_debruijn_graph(reads,k)\n\u001b[1;32m---> <a href='vscode-notebook-cell:/c%3A/Users/Julian%20Jacobs/Documents/GitHub/Sequitur/sequitur_simplified.ipynb#X20sZmlsZQ%3D%3D?line=10'>11</a>\u001b[0m       seq \u001b[39m=\u001b[39m assemble(nx\u001b[39m.\u001b[39;49meulerize(G))\n\u001b[0;32m     <a href='vscode-notebook-cell:/c%3A/Users/Julian%20Jacobs/Documents/GitHub/Sequitur/sequitur_simplified.ipynb#X20sZmlsZQ%3D%3D?line=11'>12</a>\u001b[0m       \u001b[39mif\u001b[39;00m \u001b[39mnot\u001b[39;00m seq: \u001b[39mprint\u001b[39m(\u001b[39m\"\u001b[39m\u001b[39m| k = \u001b[39m\u001b[39m\"\u001b[39m \u001b[39m+\u001b[39m \u001b[39mstr\u001b[39m(k) \u001b[39m+\u001b[39m \u001b[39m\"\u001b[39m\u001b[39m | FAILURE | **no eulerian path** |\u001b[39m\u001b[39m\"\u001b[39m)\n\u001b[0;32m     <a href='vscode-notebook-cell:/c%3A/Users/Julian%20Jacobs/Documents/GitHub/Sequitur/sequitur_simplified.ipynb#X20sZmlsZQ%3D%3D?line=12'>13</a>\u001b[0m       \u001b[39melif\u001b[39;00m seq \u001b[39m==\u001b[39m sequence: \u001b[39mprint\u001b[39m(\u001b[39m\"\u001b[39m\u001b[39m| k = \u001b[39m\u001b[39m\"\u001b[39m \u001b[39m+\u001b[39m \u001b[39mstr\u001b[39m(k) \u001b[39m+\u001b[39m \u001b[39m\"\u001b[39m\u001b[39m | SUCCESS | \u001b[39m\u001b[39m\"\u001b[39m \u001b[39m+\u001b[39m seq \u001b[39m+\u001b[39m \u001b[39m\"\u001b[39m\u001b[39m |\u001b[39m\u001b[39m\"\u001b[39m)\n",
      "File \u001b[1;32mc:\\Users\\Julian Jacobs\\AppData\\Local\\Programs\\Python\\Python39\\lib\\site-packages\\networkx\\utils\\decorators.py:766\u001b[0m, in \u001b[0;36margmap.__call__.<locals>.func\u001b[1;34m(_argmap__wrapper, *args, **kwargs)\u001b[0m\n\u001b[0;32m    765\u001b[0m \u001b[39mdef\u001b[39;00m \u001b[39mfunc\u001b[39m(\u001b[39m*\u001b[39margs, __wrapper\u001b[39m=\u001b[39m\u001b[39mNone\u001b[39;00m, \u001b[39m*\u001b[39m\u001b[39m*\u001b[39mkwargs):\n\u001b[1;32m--> 766\u001b[0m     \u001b[39mreturn\u001b[39;00m argmap\u001b[39m.\u001b[39m_lazy_compile(__wrapper)(\u001b[39m*\u001b[39margs, \u001b[39m*\u001b[39m\u001b[39m*\u001b[39mkwargs)\n",
      "File \u001b[1;32m<class 'networkx.utils.decorators.argmap'> compilation 4:3\u001b[0m, in \u001b[0;36margmap_eulerize_1\u001b[1;34m(G)\u001b[0m\n\u001b[0;32m      1\u001b[0m \u001b[39mimport\u001b[39;00m \u001b[39mbz2\u001b[39;00m\n\u001b[0;32m      2\u001b[0m \u001b[39mimport\u001b[39;00m \u001b[39mcollections\u001b[39;00m\n\u001b[1;32m----> 3\u001b[0m \u001b[39mimport\u001b[39;00m \u001b[39mgzip\u001b[39;00m\n\u001b[0;32m      4\u001b[0m \u001b[39mimport\u001b[39;00m \u001b[39minspect\u001b[39;00m\n\u001b[0;32m      5\u001b[0m \u001b[39mimport\u001b[39;00m \u001b[39mitertools\u001b[39;00m\n",
      "File \u001b[1;32mc:\\Users\\Julian Jacobs\\AppData\\Local\\Programs\\Python\\Python39\\lib\\site-packages\\networkx\\utils\\decorators.py:86\u001b[0m, in \u001b[0;36mnot_implemented_for.<locals>._not_implemented_for\u001b[1;34m(g)\u001b[0m\n\u001b[0;32m     82\u001b[0m \u001b[39mdef\u001b[39;00m \u001b[39m_not_implemented_for\u001b[39m(g):\n\u001b[0;32m     83\u001b[0m     \u001b[39mif\u001b[39;00m (mval \u001b[39mis\u001b[39;00m \u001b[39mNone\u001b[39;00m \u001b[39mor\u001b[39;00m mval \u001b[39m==\u001b[39m g\u001b[39m.\u001b[39mis_multigraph()) \u001b[39mand\u001b[39;00m (\n\u001b[0;32m     84\u001b[0m         dval \u001b[39mis\u001b[39;00m \u001b[39mNone\u001b[39;00m \u001b[39mor\u001b[39;00m dval \u001b[39m==\u001b[39m g\u001b[39m.\u001b[39mis_directed()\n\u001b[0;32m     85\u001b[0m     ):\n\u001b[1;32m---> 86\u001b[0m         \u001b[39mraise\u001b[39;00m nx\u001b[39m.\u001b[39mNetworkXNotImplemented(errmsg)\n\u001b[0;32m     88\u001b[0m     \u001b[39mreturn\u001b[39;00m g\n",
      "\u001b[1;31mNetworkXNotImplemented\u001b[0m: not implemented for directed type"
     ]
    }
   ],
   "source": [
    "sequence = 'betty_bought_butter_the_butter_was_bitter_betty_bought_better_butter_to_make_the_bitter_butter_better'\n",
    "reads = ['betty_bought_butter_th',\n",
    "                        'tter_the_butter_was_',\n",
    "                              'he_butter_was_bitter_',\n",
    "                                         'as_bitter_betty_bought',\n",
    "                                                     'tty_bought_better_butter_t',\n",
    "                                                                     'r_butter_to_make_the_',\n",
    "                                                                                   'ke_the_bitter_butter_better']\n",
    "for k in range(3,min(len(read) for read in reads)):\n",
    "      G = construct_debruijn_graph(reads,k)\n",
    "      seq = assemble(G)\n",
    "      if not seq: print(\"| k = \" + str(k) + \" | FAILURE | **no eulerian path** |\")\n",
    "      elif seq == sequence: print(\"| k = \" + str(k) + \" | SUCCESS | \" + seq + \" |\")\n",
    "      else: print(\"| k = \" + str(k) + \" | FAILURE | \" + seq + \" |\")"
   ]
  },
  {
   "cell_type": "code",
   "execution_count": 18,
   "metadata": {},
   "outputs": [
    {
     "name": "stdout",
     "output_type": "stream",
     "text": [
      "| k = 3 | FAILURE | **no eulerian path** |\n",
      "| k = 4 | FAILURE | **no eulerian path** |\n",
      "| k = 5 | FAILURE | **no eulerian path** |\n",
      "| k = 6 | FAILURE | **no eulerian path** |\n",
      "| k = 7 | FAILURE | **no eulerian path** |\n",
      "| k = 8 | FAILURE | **no eulerian path** |\n",
      "| k = 9 | FAILURE | **no eulerian path** |\n",
      "| k = 10 | FAILURE | **no eulerian path** |\n"
     ]
    }
   ],
   "source": [
    "sequence = 'you say hello world, i bellow go to hell'\n",
    "reads = ['you say hel',\n",
    "            ' say hello wo',\n",
    "                    'lo world, i be',\n",
    "                          'ld, i bellow go t',\n",
    "                                    'ow go to hell']\n",
    "for k in range(3,min(len(read) for read in reads)):\n",
    "      G = construct_debruijn_graph(reads,k)\n",
    "      seq = assemble(G)\n",
    "      if not seq: print(\"| k = \" + str(k) + \" | FAILURE | **no eulerian path** |\")\n",
    "      elif seq == sequence: print(\"| k = \" + str(k) + \" | SUCCESS | \" + seq + \" |\")\n",
    "      else: print(\"| k = \" + str(k) + \" | FAILURE | \" + seq + \" |\")"
   ]
  },
  {
   "cell_type": "code",
   "execution_count": 19,
   "metadata": {},
   "outputs": [
    {
     "name": "stdout",
     "output_type": "stream",
     "text": [
      "| k = 3 | FAILURE | **no eulerian path** |\n",
      "| k = 4 | FAILURE | **no eulerian path** |\n",
      "| k = 5 | FAILURE | **no eulerian path** |\n",
      "| k = 6 | FAILURE | **no eulerian path** |\n",
      "| k = 7 | FAILURE | **no eulerian path** |\n"
     ]
    }
   ],
   "source": [
    "sequence = 'she_sells_sea_shells_on_the_sea_shore'\n",
    "reads = ['she_sells_s',\n",
    "               'lls_sea_shel',\n",
    "                    'ea_shells_o',\n",
    "                       'shells_on_the_s',\n",
    "                                  'he_sea_s',\n",
    "                                      'ea_shore']\n",
    "for k in range(3,min(len(read) for read in reads)):\n",
    "      G = construct_debruijn_graph(reads,k)\n",
    "      seq = assemble(G)\n",
    "      if not seq: print(\"| k = \" + str(k) + \" | FAILURE | **no eulerian path** |\")\n",
    "      elif seq == sequence: print(\"| k = \" + str(k) + \" | SUCCESS | \" + seq + \" |\")\n",
    "      else: print(\"| k = \" + str(k) + \" | FAILURE | \" + seq + \" |\")"
   ]
  },
  {
   "cell_type": "code",
   "execution_count": null,
   "metadata": {},
   "outputs": [],
   "source": [
    "# take gene data and chop it up to represent short and long reads"
   ]
  },
  {
   "cell_type": "code",
   "execution_count": 18,
   "metadata": {},
   "outputs": [],
   "source": [
    "from Bio import SeqIO"
   ]
  },
  {
   "cell_type": "code",
   "execution_count": 24,
   "metadata": {},
   "outputs": [
    {
     "data": {
      "text/plain": [
       "[Seq('CATGCAATAAAATAGTCTTTCTGTacttttttcagttgcatcgtttctgattcc...TCC'),\n",
       " Seq('ACAATAATCCGACGCAATTACCAATTAATAATTACCCGACGGATTGCTCCGACA...TTC'),\n",
       " Seq('TCAGAGAAGACCTGACCCAAAAGAAGTAATCGTGTctatcagtcaatcaacaat...CTG'),\n",
       " Seq('GGCGAGAGGCGCGACCCGAGAATATTTACCCCCGACTGTCCCTATTCATCATTA...TAT'),\n",
       " Seq('tttttttgcaatttcatgacaatacatgcatgcatcgtacataccaatgcaata...GGA'),\n",
       " Seq('ctaatcaaacaactggtcagaatgcaggttaaatactagttaaaatactcgtca...cac'),\n",
       " Seq('CGGTTGGATGCCGTGGAAGAAGACACTTGACTGAGGGAGCGTCCTACATAAATC...TAA'),\n",
       " Seq('AtaccatgtttggcttgccgCGTCTGAGGAAACGatacccaattgtatcattcc...ATA'),\n",
       " Seq('accctaaccctaaccctaaccctaaccctaaccctaaccctaaccctaacccta...ATG'),\n",
       " Seq('ATAAAAAAAgagaaaagaaaaaaaggaagaaaagaaaagaaagGATACAAGGAT...TAT'),\n",
       " Seq('CACAAATAAACCGGTTACACCATTATCCATCAAAGCTGGGAACCTGTCCATAAT...TTT'),\n",
       " Seq('attttattgcaatcatttgtagtCCCATCAGTAACACTCAGGATAGTATCCATA...CGA'),\n",
       " Seq('TAACACAACgccaatagcagttatttcccagccatatttaaactgattgtgtat...TCA'),\n",
       " Seq('CGATGGTCGAAATAGCGTGTATAATTCAAGTCGCGATGGAAATATTTTTGGCTG...GGA'),\n",
       " Seq('AgcctaaccctaaccctaaccctaaccctaaccctaaccctaaccccTAACCgt...CGG'),\n",
       " Seq('CAAATGCAGAGCATTGTAAAAGTGCTCCAGATAGACTGCAAGGAATTTGGTGGT...AAA'),\n",
       " Seq('CAATGATCCACTTTgacgcatataacttggccaataccagttatttcccaacca...TCG'),\n",
       " Seq('TGACATGAATCTGCACATACTTGGCTGCAAGCTCTTCCAGCTGGCTTGGTTCTA...AGT'),\n",
       " Seq('CAAACAAATTTaaaactttattgataaaactgaggtaaacatacatgacaagta...AAC'),\n",
       " Seq('CGAGTCAAAACACCATCCTGCGACCTCCGCCCTCTTGTTGTCAGCAAAGGCAGG...AGG'),\n",
       " Seq('AGCAAAATTTGGACAAATCGAAATGGCTCAAATTTACAGCTAAAACCAAAATGG...TCA'),\n",
       " Seq('CAGTTTACCCTCAGCAGTAACGGAGCTTTTGGTATGTAGATCCTCCAGTTTATT...TTT'),\n",
       " Seq('ctattgttggtattggtgttttatgtgtcaatacgacatgacaagcaatatcat...taa'),\n",
       " Seq('ACTTCAGAATTCTTCTGTAAACTTCACATTCTCATTAGATAAAAACCATTCCTT...TTT'),\n",
       " Seq('GAGATAAACTGCTAGGTCTATTTGCAGACGATGCCCTAGCTCCTGATCTACATC...TAA'),\n",
       " Seq('GCTCTAgaaacaagttgtttgaaatgtcctgtcatatatcatatgttttgttgt...GTG'),\n",
       " Seq('TCTTGGTGCTTTTTGGCTTTTTGATGACCAGAGTTTGTGCGTTTTTTCCAATAC...AAT'),\n",
       " Seq('ACTGAATGATATCACAACAGTTCTGCCAATTCACATTCTTGTCATTTATTGATT...TAT'),\n",
       " Seq('TGATGatcatccaacaactgaatatcagctcagttgcatataatcttgtttaaa...GAT'),\n",
       " Seq('ATACCGCCATTCGCTGATGATCCAGGCGACAAGTGCTCTGTAAGCTTTTTCTCC...CAA'),\n",
       " Seq('ACCAGAACAAGAAAACGGATTGATGATCCTGCAGCGTATGATATGGGAATCATT...CAA'),\n",
       " Seq('AGTTTTAAATGTAGCATCTGATGGCTCCAACATCATCCCTGTATCTGCTGTTGT...GGA'),\n",
       " Seq('GCAGTACAGTCCTTGAAGCTAAGGAtttggcatcgtgttgtcaagacttgtttc...GCA'),\n",
       " Seq('ATGCATCTTTAGCTACATCGTCAAGAAGACTAATATCTCTTAAAAACTTGCGAT...CCT'),\n",
       " Seq('TTACTGCACTAAACTCCATTGTAGTAGCCGAGATGCCAGAGTTGAATTCATCAC...CGT'),\n",
       " Seq('TGTACTTATCGGATTGTTTATATGGATTGCAGAAAATATCGCAACGTTCTTTGG...ATA'),\n",
       " Seq('GTATTATAATTAAGAAGAGTAATAGTTATAATTATAGTAATAGTTATAATAATT...CTC'),\n",
       " Seq('CAACTAGCACATCTGAATCAAGCGGCAGCATCTACGATCAGCCCGATTCTTCCA...CAT'),\n",
       " Seq('AAATTAGTTTTTCTGGAAATCAAACATCCTTAAACCTTCCCCCGCTTTCTTACT...ATA'),\n",
       " Seq('AGTTGTCAGCAGCACAGCATTACGCATTGTCCATCGTACATGGATTGACTATTG...atc'),\n",
       " Seq('AAATGCACAAATCTCCTCTAAGTTATTTTTAGGGGAAGGGACTGTGAAAAATTA...ACC'),\n",
       " Seq('AGCcaatatatttgatattctcTGTTACTACCTTTCCACTAATGATTCGTTTTT...CAC'),\n",
       " Seq('ATTATAAAATTGAGCACATGTcattgtatttatatgttTTGTACAGTAAactaa...AAA'),\n",
       " Seq('aatcaaacaacacatattgcatacaattgtcaaatatttacaatcTTTAGAATT...TTT'),\n",
       " Seq('GTACGCTACATTGTTCCTCAGTCGGTATTGGGGGAGTTCCCGctgaaatggatg...ATT'),\n",
       " Seq('CTTATGAATCATGGGGTATTGTCCCTCCTGTTAATCGTGCTGCCAATGGATACA...GAG'),\n",
       " Seq('GCTCGTCAGGGGACTAAAAAGCTATATCTAATCTAGATCACTTATGATGTATAA...TTA'),\n",
       " Seq('GAGGATCTTCTCGACGCAGGTGGTTGGTTATGACACGAAGCGTATCTTGGAGAG...GAG'),\n",
       " Seq('GGTGGCTGGAATAACCAAATATGGGGTAACAATATGTGGAGCAACAGTATGTGG...GCT'),\n",
       " Seq('TTCGATCTGAGAAGCAACATCCTTCTTTTCCAGTTGCGCCATGGAGCTTCTCCT...aat'),\n",
       " Seq('CCTTAACTATGACCTTCAACGGTGTTTGTCATAGTACAGAAAAGGTATTTGCAT...ACT'),\n",
       " Seq('TGATTGTGATGGTGGTTGTCAATCTGATTGTCGTGTCGGTGtatatgtcgagta...GAA'),\n",
       " Seq('AACCATACAGACAGCACAAGGCATACAGCAAGTACCAGGCTATTCACAACATAA...GCC'),\n",
       " Seq('GAATGTTGAAACCAGTGGAAAACTTTGAGCAAAAAGGGGATGCAGATAAAGTCG...CTC'),\n",
       " Seq('CGGGAAGAGCGCTCTCTGCAACCCTTATCCGTTTCCTTGTATTGCTTATCCAGT...AAA'),\n",
       " Seq('CAATTAGTTCATTATTACCTCGAAGTAAGAAATGCCTCTTTTTTCTGCCTCTAT...GTA'),\n",
       " Seq('CTCCCCGGAAATAATTGCTGCTTGACAGATCGggtttggattgtatttatgttg...caa'),\n",
       " Seq('AAGTGGACTTCCCGGTTTTTTTCCACGACGAGCAGTCACGCTTGCTGCGATTCT...CAA'),\n",
       " Seq('CACCAAGGGCTGATTATACCTGGACTAATTTTGGTGTGGATCTCTGGATTAAAG...CTG'),\n",
       " Seq('CACGGAATTTTATGGAGGAAATTAACTAAGTTATTTGAGGATCCAAATCCACTA...CTT'),\n",
       " Seq('GATTCGCTTAGGTGCAGAACAACAGGCTCGAATTATGAGTGAGCTACCTAATAA...ATT'),\n",
       " Seq('TATGAAATTTACCGagcaatcaaaaaatatacTGCAAAGAAATAGGGAGTTGAG...AAG'),\n",
       " Seq('AATTCATTTTCATATGAAGAGTATCGTCACATCCTTAAGCTTTTACAAGATAAT...CTA'),\n",
       " Seq('ATCATTCTTCCAGTACCTCGCCACGAAAGCCGAATCCCTTCAGCTTTAGCTCCA...TTT'),\n",
       " Seq('GTGGCTTGGGTATTCAATCTGTTATTCTTGCCTGCTTGAGCGTATTCCAGGCCT...ttg'),\n",
       " Seq('AACAGAAATAATAGTTATGCAGTACATGCTGCTGACGCTGCTCTAGGTGATTAC...GGT'),\n",
       " Seq('AATTGTTCGTGAGTTTGTTCCTGCGGGGGCGATGATAATCGAAAACTAGAGGTG...TGA'),\n",
       " Seq('ACGTCAAAAGCAACAACGGTAGATTCCAAGGTTTTATAAGTCCTACCACCCCTA...ACT'),\n",
       " Seq('GTCTTTCCCGCCATGCTTTCTTTTGGATTGCATTCTCATGCATGTTCCTGTGGC...TAA'),\n",
       " Seq('TATTCTGTTGTTTAGTCGGATTTTGAAAACGTTTAGCCAGTAATTAATGAGTAA...ATA'),\n",
       " Seq('GGCTTGTACACATTGCTCATCGTCGCCTTGCATGAGACTATCTCATGGTGTCCA...GAT'),\n",
       " Seq('ACATCAAAGATACGTCTCTGCCTTTCATTTGACTACTTATATTTTAATGGTAAC...AAT'),\n",
       " Seq('TAATGCACCAAAAAATATCCAACTTAATGTAGCAATAGTACCTATTGTAGCAAt...ACA'),\n",
       " Seq('GCACAGAGGTTGCTGATATGGGACATGACCTACCTTTGCTTATTATTCATTTGC...TCA'),\n",
       " Seq('TATCAGTTGCATCAGACATGCACAATCGACTGTAGGACTGAAAGGGTTAGTTTT...CGA'),\n",
       " Seq('ATTAGTTCGTTTGAGAGGATGCTGTGTCTAATATCCCCTTCTCTACTTGGCTCA...ATT'),\n",
       " Seq('GTAATACAAGGTTTGTTCTAAGGCAGCTTTCAATCGCTCCACAAAAACAATATA...AAA'),\n",
       " Seq('TAGTGGAGAGCGACGGTGTCAATCCTGGTGGCTGGTTTAGTGACAGTTCCAGAT...AAC'),\n",
       " Seq('GATGATCAAGTCAAGGTTTGTAAAGTGTCGATATGTcagatcaatcaaacaagt...TTT'),\n",
       " Seq('GCTTCATTTCGTCTTCTGGGTTGTAAACTTGCACCATAGATTGAATAAACTTTG...GGA'),\n",
       " Seq('ACATAGGTAGACATGGTTGCGGAGGAAGAATAAATCATTATATCCTTCCCGCCA...GAG'),\n",
       " Seq('GGGAGTCGTCTCCCCCAAGAGTGCAATTTTCTAATGAACCAAGAACTTCATTTT...GAA'),\n",
       " Seq('TGGCAGGAACTTGAATCAACCATTGGGGGGAGACTGGATTTACATCGATCATCA...GCG'),\n",
       " Seq('CTATGTCACTCATTCAAGATGGGAATGATGCTCTTGCAAACCTTGAAAGCCAGC...TCA'),\n",
       " Seq('TAAAAATGCACTTTATGTAGGTATTGTTAGACATGATCTTTTGATTGTATGACA...GTA'),\n",
       " Seq('CGCATTTCTAGTTTAAGGGCTACTCTTAATCTCAGTGACTATTCCaggactgta...CTG'),\n",
       " Seq('TCTTCTTTGATCCATGTACCAGCTGTTGTCAATACCCGCTTTGAAAAATGCAGA...CAG'),\n",
       " Seq('GCCGATAATAACATAGTACAAAAGTAGGTTAAATGTTGAAAGGAAGTAGAAAGA...AAA'),\n",
       " Seq('GATATAAAAAAATTGAATCGAATCATATCTCTCTATCTCATCTTCATACTTACG...TGA'),\n",
       " Seq('TAATTATCAGTCTTCCCCTGGTGTAACGCTTTTATTAGTTGGAATAGGTGGTAT...GCT'),\n",
       " Seq('ACAAATTGGGCCACCTAGTGAGGGAAGGCAAACCGTGCGCGCTatgtttggact...TCG'),\n",
       " Seq('TTATTTCGTAAATTTCCCGTGCATCGTCTATAGTAATAGAATTAATGATAACGC...AAA'),\n",
       " Seq('ATAGCTATAAAGAATGGCCAGCACCTAcgaatcaagtgatgatgttgctatttc...GGT'),\n",
       " Seq('GAATGAACGCGATTGGTTAGTTTTGCAAACGCTTTATAAGGTAGAAAAATATTA...TAA'),\n",
       " Seq('TGATGAACCTTGTAGTGAAGTCCATAAACGAAACAATATTTTATTGTCAGATAG...TAA'),\n",
       " Seq('ACGTCCGACGGGTCGAAGCAACAAACACATTCACCGTTTTAATATTTACGTACA...TGC'),\n",
       " Seq('GGTAAAGTACCTGCTAATTAATGATAATCGACATTAGTGTCTTTGTTATATAGC...TTT'),\n",
       " Seq('CCATTAAACACACGAAATGCTGTCGTATTTTCGTCCTGATAGAAGGATTCTCTT...AAT'),\n",
       " Seq('TATCGTTGGTACATTACTATTTCTTGCTGCAATTCGCAGCATggtattcattac...ATA'),\n",
       " Seq('CATCTCGTCAGGCTTTTACTAGAccaacaccgaatgatgccATGGATTTAGACG...AGT'),\n",
       " Seq('GGTCCTGTGTACGAAATTGTAGCTCGGTCACTTACCTTAATATTCTTCGGTCTG...AAA'),\n",
       " Seq('TAAGATTCATATTTTATCGACGAAGGAATTTCTCACGCCTTTTCACCGAGCTTA...CCC'),\n",
       " Seq('TGTTTAGGTACACGACAAATACATGTCGTTCCAAAATTGGTATCCTTGGGTTGT...AAG'),\n",
       " Seq('CAGAGTAATAATTACTCATGGAGTTGTTATTATGCGAGTAACAGAGACGCGTAT...CGC'),\n",
       " Seq('AGATGCGCGATGATCCGGGGGCGGAAGACTATATGCAAAAAATCGATTCTgaaa...TTT'),\n",
       " Seq('TTATCAATTGCTAGTTGGCGTGAGTAAGAATACTGCATTAGCAGATGTAAAAAG...TAG'),\n",
       " Seq('AAAAGATTACCGGTGATTTGCTACTAGCCTGCCCGGGCTCGCTTTTCTTGTTTA...TAC'),\n",
       " Seq('ACGGCGCGCATTCTAAtattttattatttttattattttCCAGAAGTATATTAT...TTT'),\n",
       " Seq('AGCTGGAACACAGTCTTTTGGGTTAAGAGAAATGTTTGGAACAATGACTAAGCC...TGC'),\n",
       " Seq('TGCGATACAGGTTAGAATCCCATTATAGCCATATAAACCTAGAAAGATTAAGGA...ATT'),\n",
       " Seq('AAAAGTGGCAAAGGAGGGGCGAGACTAGCCTGGCCCACAAAAAAGATTTCTTCT...GCT'),\n",
       " Seq('AAGGTAGTCTTTGACGAGATCTTGATCCTCGACTGGAAATGTGCTTAGCTCAAG...TAT'),\n",
       " Seq('ATTTGATGGCAGATTGTTTGATTACACCAACTGACAATGAAAACCACAACCGTA...GCC'),\n",
       " Seq('GTTAACCCTTTTCCTAGTTAATCCGATTTACCTAATAAATCCATAATCTTGATT...TTT'),\n",
       " Seq('CGCCCCTTTCAATCCGATTTTTAATGATTATTTAATATGTCGTTTTTGTAAGGC...ACA'),\n",
       " Seq('CCGCGGTTTGCGTCTCAAGCCCCGGTTCTGGTAAGCATCTCCAAACGCCACATC...AGA'),\n",
       " Seq('ACGACCTCTTAGGCAAATAATGAAGTCGCACCCTATTATTTGAAACAGAAGATG...TCT'),\n",
       " Seq('TCATCCAGATTCGATTTCGATGAGAAGGCAATGCCAATCGCTGCCAAGATTTTA...CTT'),\n",
       " Seq('TCGGTCCATTGTTATCCCATTAAATTGGTTTGGAATTAAACAATTGGATAAACT...TGA'),\n",
       " Seq('TGGTCTTAGGTACTAAACCTACCAATTTAATGAGAAAGGAATGAATTATACTAT...GTG'),\n",
       " Seq('GTGCAGCAGATTTCTTGGCAGCAGATTTCTTGGCTGCAGGTTTCTTGGCAGCAG...CTA'),\n",
       " Seq('AGACCGATAATGATAATTTTCTTTCTGCCGTAACGGTCAACCCATCGACCGGCG...GCC'),\n",
       " Seq('CAAAACAATATCGGAACCTTACTGATGAACAGCTCCAGCTTGAGTTATTGGATA...CAT'),\n",
       " Seq('AAGCCATCACAAAAATTAAATGAGATTGATCTTTCAACTGCGGTAGGTGTCAGT...TGG'),\n",
       " Seq('GAAGCTCCCCCGAAAAAGTGATTCACAAGGTTGTTTCGTTCCTGATTCACTGCC...TTA'),\n",
       " Seq('CAGTGTGTATTACACTGTCTGACCGATATTAACCACACTACACTAAATAATCAA...TTG'),\n",
       " Seq('TCTGGACagtgatcattgtacaatccagacTGTGATGCAAACCATATAtgacca...GCA')]"
      ]
     },
     "execution_count": 24,
     "metadata": {},
     "output_type": "execute_result"
    }
   ],
   "source": [
    "reads = []\n",
    "for record in SeqIO.parse(\"data\\Batrachochytrium_dendrobatidis\\GCA_000203795.1\\GCA_000203795.1_v1.0_genomic.fna\",'fasta'):\n",
    "    reads += [record.seq]\n",
    "reads"
   ]
  }
 ],
 "metadata": {
  "kernelspec": {
   "display_name": "Python 3",
   "language": "python",
   "name": "python3"
  },
  "language_info": {
   "codemirror_mode": {
    "name": "ipython",
    "version": 3
   },
   "file_extension": ".py",
   "mimetype": "text/x-python",
   "name": "python",
   "nbconvert_exporter": "python",
   "pygments_lexer": "ipython3",
   "version": "3.9.0"
  },
  "orig_nbformat": 4,
  "vscode": {
   "interpreter": {
    "hash": "38731f125b301d8f0df7c54051f2a9a4c898c9398d16ef376d9fb7d661d33405"
   }
  }
 },
 "nbformat": 4,
 "nbformat_minor": 2
}
