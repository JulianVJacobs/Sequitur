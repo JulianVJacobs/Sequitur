{
 "cells": [
  {
   "cell_type": "code",
   "execution_count": 1,
   "metadata": {},
   "outputs": [],
   "source": [
    "# Python program print Eulerian Trail in a given Eulerian or Semi-Eulerian Graph\n",
    "\n",
    "from collections import defaultdict\n",
    "\n",
    "#This class represents an undirected graph using adjacency list representation\n",
    "class Graph:\n",
    "\n",
    "\tdef __init__(self,vertices):\n",
    "\t\tself.V= vertices #No. of vertices\n",
    "\t\tself.graph = defaultdict(list) # default dictionary to store graph\n",
    "\t\tself.Time = 0\n",
    "\n",
    "\t# function to add an edge to graph\n",
    "\tdef addEdge(self,u,v):\n",
    "\t\tself.graph[u].append(v)\n",
    "\t\tself.graph[v].append(u)\n",
    "\n",
    "\t# This function removes edge u-v from graph\n",
    "\tdef rmvEdge(self, u, v):\n",
    "\t\tfor index, key in enumerate(self.graph[u]):\n",
    "\t\t\tif key == v:\n",
    "\t\t\t\tself.graph[u].pop(index)\n",
    "\t\tfor index, key in enumerate(self.graph[v]):\n",
    "\t\t\tif key == u:\n",
    "\t\t\t\tself.graph[v].pop(index)\n",
    "\n",
    "\t# A DFS based function to count reachable vertices from v\n",
    "\tdef DFSCount(self, v, visited):\n",
    "\t\tcount = 1\n",
    "\t\tvisited[v] = True\n",
    "\t\tfor i in self.graph[v]:\n",
    "\t\t\tif visited[i] == False:\n",
    "\t\t\t\tcount = count + self.DFSCount(i, visited)\t\t\n",
    "\t\treturn count\n",
    "\n",
    "\t# The function to check if edge u-v can be considered as next edge in\n",
    "\t# Euler Tour\n",
    "\tdef isValidNextEdge(self, u, v):\n",
    "\t\t# The edge u-v is valid in one of the following two cases:\n",
    "\n",
    "\t\t# 1) If v is the only adjacent vertex of u\n",
    "\t\tif len(self.graph[u]) == 1:\n",
    "\t\t\treturn True\n",
    "\t\telse:\n",
    "\t\t\t'''\n",
    "\t\t\t2) If there are multiple adjacents, then u-v is not a bridge\n",
    "\t\t\t\tDo following steps to check if u-v is a bridge\n",
    "\n",
    "\t\t\t2.a) count of vertices reachable from u'''\n",
    "\t\t\tvisited =[False]*(self.V)\n",
    "\t\t\tcount1 = self.DFSCount(u, visited)\n",
    "\n",
    "\t\t\t'''2.b) Remove edge (u, v) and after removing the edge, count\n",
    "\t\t\t\tvertices reachable from u'''\n",
    "\t\t\tself.rmvEdge(u, v)\n",
    "\t\t\tvisited =[False]*(self.V)\n",
    "\t\t\tcount2 = self.DFSCount(u, visited)\n",
    "\n",
    "\t\t\t#2.c) Add the edge back to the graph\n",
    "\t\t\tself.addEdge(u,v)\n",
    "\n",
    "\t\t\t# 2.d) If count1 is greater, then edge (u, v) is a bridge\n",
    "\t\t\treturn False if count1 > count2 else True\n",
    "\n",
    "\n",
    "\t# Print Euler tour starting from vertex u\n",
    "\tdef printEulerUtil(self, u):\n",
    "\t\t#Recur for all the vertices adjacent to this vertex\n",
    "\t\tfor v in self.graph[u]:\n",
    "\t\t\t#If edge u-v is not removed and it's a a valid next edge\n",
    "\t\t\tif self.isValidNextEdge(u, v):\n",
    "\t\t\t\tprint(\"%d-%d \" %(u,v)),\n",
    "\t\t\t\tself.rmvEdge(u, v)\n",
    "\t\t\t\tself.printEulerUtil(v)\n",
    "\n",
    "\n",
    "\t\n",
    "\t'''The main function that print Eulerian Trail. It first finds an odd\n",
    "degree vertex (if there is any) and then calls printEulerUtil()\n",
    "to print the path '''\n",
    "\tdef printEulerTour(self):\n",
    "\t\t#Find a vertex with odd degree\n",
    "\t\tu = 0\n",
    "\t\tfor i in range(self.V):\n",
    "\t\t\tif len(self.graph[i]) %2 != 0 :\n",
    "\t\t\t\tu = i\n",
    "\t\t\t\tbreak\n",
    "\t\t# Print tour starting from odd vertex\n",
    "\t\tprint (\"\\n\")\n",
    "\t\tself.printEulerUtil(u)\n",
    "\n"
   ]
  },
  {
   "cell_type": "code",
   "execution_count": 2,
   "metadata": {},
   "outputs": [],
   "source": [
    "g = Graph(22)\n",
    "g.addEdge(\"_se\",\"sea\")\n",
    "g.addEdge(\"_se\",\"sel\")\n",
    "g.addEdge(\"sea\",\"ea_\")\n",
    "g.addEdge(\"she\",\"he_\")\n",
    "g.addEdge(\"she\",\"hel\")\n",
    "g.addEdge(\"the\",\"he_\")\n",
    "g.addEdge(\"the\",\"hel\")\n",
    "g.addEdge(\"ea_\",\"a_s\")\n",
    "g.addEdge(\"he_\",\"e_s\")\n",
    "g.addEdge(\"hel\",\"ell\")\n",
    "g.addEdge(\"sel\",\"ell\")\n",
    "g.addEdge(\"a_s\",\"_sh\")\n",
    "g.addEdge(\"e_s\",\"_sh\")\n",
    "g.addEdge(\"ell\",\"lls\")\n",
    "g.addEdge(\"_sh\",\"sho\")\n",
    "g.addEdge(\"_sh\",\"she\")\n",
    "g.addEdge(\"lls\",\"ls_\")\n",
    "g.addEdge(\"sho\",\"hor\")\n",
    "g.addEdge(\"ls_\",\"s_o\")\n",
    "g.addEdge(\"ls_\",\"s_s\")\n",
    "g.addEdge(\"hor\",\"ore\")\n",
    "g.addEdge(\"s_o\",\"_on\")\n",
    "g.addEdge(\"s_s\",\"_se\")\n",
    "g.addEdge(\"s_s\",\"_sh\")\n",
    "g.addEdge(\"ore\",\"$\")\n",
    "g.addEdge(\"_on\",\"on_\")\n",
    "g.addEdge(\"on_\",\"n_t\")\n",
    "g.addEdge(\"n_t\",\"_th\")\n",
    "g.addEdge(\"n_t\",\"the\")"
   ]
  },
  {
   "cell_type": "code",
   "execution_count": 3,
   "metadata": {},
   "outputs": [
    {
     "name": "stdout",
     "output_type": "stream",
     "text": [
      "\n",
      "\n"
     ]
    }
   ],
   "source": [
    "g.printEulerTour()"
   ]
  },
  {
   "cell_type": "code",
   "execution_count": 5,
   "metadata": {},
   "outputs": [
    {
     "name": "stdout",
     "output_type": "stream",
     "text": [
      "\n",
      "\n"
     ]
    },
    {
     "ename": "IndexError",
     "evalue": "list index out of range",
     "output_type": "error",
     "traceback": [
      "\u001b[1;31m---------------------------------------------------------------------------\u001b[0m",
      "\u001b[1;31mIndexError\u001b[0m                                Traceback (most recent call last)",
      "\u001b[1;32mc:\\Users\\Julian Jacobs\\Documents\\GitHub\\Sequitur\\test.ipynb Cell 4'\u001b[0m in \u001b[0;36m<module>\u001b[1;34m\u001b[0m\n\u001b[0;32m      <a href='vscode-notebook-cell:/c%3A/Users/Julian%20Jacobs/Documents/GitHub/Sequitur/test.ipynb#ch0000004?line=3'>4</a>\u001b[0m g1\u001b[39m.\u001b[39maddEdge(\u001b[39m1\u001b[39m, \u001b[39m2\u001b[39m)\n\u001b[0;32m      <a href='vscode-notebook-cell:/c%3A/Users/Julian%20Jacobs/Documents/GitHub/Sequitur/test.ipynb#ch0000004?line=4'>5</a>\u001b[0m g1\u001b[39m.\u001b[39maddEdge(\u001b[39m2\u001b[39m, \u001b[39m3\u001b[39m)\n\u001b[1;32m----> <a href='vscode-notebook-cell:/c%3A/Users/Julian%20Jacobs/Documents/GitHub/Sequitur/test.ipynb#ch0000004?line=5'>6</a>\u001b[0m g1\u001b[39m.\u001b[39;49mprintEulerTour()\n",
      "\u001b[1;32mc:\\Users\\Julian Jacobs\\Documents\\GitHub\\Sequitur\\test.ipynb Cell 1'\u001b[0m in \u001b[0;36mGraph.printEulerTour\u001b[1;34m(self)\u001b[0m\n\u001b[0;32m     <a href='vscode-notebook-cell:/c%3A/Users/Julian%20Jacobs/Documents/GitHub/Sequitur/test.ipynb#ch0000000?line=87'>88</a>\u001b[0m \u001b[39m# Print tour starting from odd vertex\u001b[39;00m\n\u001b[0;32m     <a href='vscode-notebook-cell:/c%3A/Users/Julian%20Jacobs/Documents/GitHub/Sequitur/test.ipynb#ch0000000?line=88'>89</a>\u001b[0m \u001b[39mprint\u001b[39m (\u001b[39m\"\u001b[39m\u001b[39m\\n\u001b[39;00m\u001b[39m\"\u001b[39m)\n\u001b[1;32m---> <a href='vscode-notebook-cell:/c%3A/Users/Julian%20Jacobs/Documents/GitHub/Sequitur/test.ipynb#ch0000000?line=89'>90</a>\u001b[0m \u001b[39mself\u001b[39;49m\u001b[39m.\u001b[39;49mprintEulerUtil(u)\n",
      "\u001b[1;32mc:\\Users\\Julian Jacobs\\Documents\\GitHub\\Sequitur\\test.ipynb Cell 1'\u001b[0m in \u001b[0;36mGraph.printEulerUtil\u001b[1;34m(self, u)\u001b[0m\n\u001b[0;32m     <a href='vscode-notebook-cell:/c%3A/Users/Julian%20Jacobs/Documents/GitHub/Sequitur/test.ipynb#ch0000000?line=66'>67</a>\u001b[0m \u001b[39mdef\u001b[39;00m \u001b[39mprintEulerUtil\u001b[39m(\u001b[39mself\u001b[39m, u):\n\u001b[0;32m     <a href='vscode-notebook-cell:/c%3A/Users/Julian%20Jacobs/Documents/GitHub/Sequitur/test.ipynb#ch0000000?line=67'>68</a>\u001b[0m \t\u001b[39m#Recur for all the vertices adjacent to this vertex\u001b[39;00m\n\u001b[0;32m     <a href='vscode-notebook-cell:/c%3A/Users/Julian%20Jacobs/Documents/GitHub/Sequitur/test.ipynb#ch0000000?line=68'>69</a>\u001b[0m \t\u001b[39mfor\u001b[39;00m v \u001b[39min\u001b[39;00m \u001b[39mself\u001b[39m\u001b[39m.\u001b[39mgraph[u]:\n\u001b[0;32m     <a href='vscode-notebook-cell:/c%3A/Users/Julian%20Jacobs/Documents/GitHub/Sequitur/test.ipynb#ch0000000?line=69'>70</a>\u001b[0m \t\t\u001b[39m#If edge u-v is not removed and it's a a valid next edge\u001b[39;00m\n\u001b[1;32m---> <a href='vscode-notebook-cell:/c%3A/Users/Julian%20Jacobs/Documents/GitHub/Sequitur/test.ipynb#ch0000000?line=70'>71</a>\u001b[0m \t\t\u001b[39mif\u001b[39;00m \u001b[39mself\u001b[39;49m\u001b[39m.\u001b[39;49misValidNextEdge(u, v):\n\u001b[0;32m     <a href='vscode-notebook-cell:/c%3A/Users/Julian%20Jacobs/Documents/GitHub/Sequitur/test.ipynb#ch0000000?line=71'>72</a>\u001b[0m \t\t\t\u001b[39mprint\u001b[39m(\u001b[39m\"\u001b[39m\u001b[39m%d\u001b[39;00m\u001b[39m-\u001b[39m\u001b[39m%d\u001b[39;00m\u001b[39m \u001b[39m\u001b[39m\"\u001b[39m \u001b[39m%\u001b[39m(u,v)),\n\u001b[0;32m     <a href='vscode-notebook-cell:/c%3A/Users/Julian%20Jacobs/Documents/GitHub/Sequitur/test.ipynb#ch0000000?line=72'>73</a>\u001b[0m \t\t\t\u001b[39mself\u001b[39m\u001b[39m.\u001b[39mrmvEdge(u, v)\n",
      "\u001b[1;32mc:\\Users\\Julian Jacobs\\Documents\\GitHub\\Sequitur\\test.ipynb Cell 1'\u001b[0m in \u001b[0;36mGraph.isValidNextEdge\u001b[1;34m(self, u, v)\u001b[0m\n\u001b[0;32m     <a href='vscode-notebook-cell:/c%3A/Users/Julian%20Jacobs/Documents/GitHub/Sequitur/test.ipynb#ch0000000?line=44'>45</a>\u001b[0m \u001b[39m'''\u001b[39;00m\n\u001b[0;32m     <a href='vscode-notebook-cell:/c%3A/Users/Julian%20Jacobs/Documents/GitHub/Sequitur/test.ipynb#ch0000000?line=45'>46</a>\u001b[0m \u001b[39m2) If there are multiple adjacents, then u-v is not a bridge\u001b[39;00m\n\u001b[0;32m     <a href='vscode-notebook-cell:/c%3A/Users/Julian%20Jacobs/Documents/GitHub/Sequitur/test.ipynb#ch0000000?line=46'>47</a>\u001b[0m \u001b[39m\tDo following steps to check if u-v is a bridge\u001b[39;00m\n\u001b[0;32m     <a href='vscode-notebook-cell:/c%3A/Users/Julian%20Jacobs/Documents/GitHub/Sequitur/test.ipynb#ch0000000?line=47'>48</a>\u001b[0m \n\u001b[0;32m     <a href='vscode-notebook-cell:/c%3A/Users/Julian%20Jacobs/Documents/GitHub/Sequitur/test.ipynb#ch0000000?line=48'>49</a>\u001b[0m \u001b[39m2.a) count of vertices reachable from u'''\u001b[39;00m\n\u001b[0;32m     <a href='vscode-notebook-cell:/c%3A/Users/Julian%20Jacobs/Documents/GitHub/Sequitur/test.ipynb#ch0000000?line=49'>50</a>\u001b[0m visited \u001b[39m=\u001b[39m[\u001b[39mFalse\u001b[39;00m]\u001b[39m*\u001b[39m(\u001b[39mself\u001b[39m\u001b[39m.\u001b[39mV)\n\u001b[1;32m---> <a href='vscode-notebook-cell:/c%3A/Users/Julian%20Jacobs/Documents/GitHub/Sequitur/test.ipynb#ch0000000?line=50'>51</a>\u001b[0m count1 \u001b[39m=\u001b[39m \u001b[39mself\u001b[39;49m\u001b[39m.\u001b[39;49mDFSCount(u, visited)\n\u001b[0;32m     <a href='vscode-notebook-cell:/c%3A/Users/Julian%20Jacobs/Documents/GitHub/Sequitur/test.ipynb#ch0000000?line=52'>53</a>\u001b[0m \u001b[39m'''2.b) Remove edge (u, v) and after removing the edge, count\u001b[39;00m\n\u001b[0;32m     <a href='vscode-notebook-cell:/c%3A/Users/Julian%20Jacobs/Documents/GitHub/Sequitur/test.ipynb#ch0000000?line=53'>54</a>\u001b[0m \u001b[39m\tvertices reachable from u'''\u001b[39;00m\n\u001b[0;32m     <a href='vscode-notebook-cell:/c%3A/Users/Julian%20Jacobs/Documents/GitHub/Sequitur/test.ipynb#ch0000000?line=54'>55</a>\u001b[0m \u001b[39mself\u001b[39m\u001b[39m.\u001b[39mrmvEdge(u, v)\n",
      "\u001b[1;32mc:\\Users\\Julian Jacobs\\Documents\\GitHub\\Sequitur\\test.ipynb Cell 1'\u001b[0m in \u001b[0;36mGraph.DFSCount\u001b[1;34m(self, v, visited)\u001b[0m\n\u001b[0;32m     <a href='vscode-notebook-cell:/c%3A/Users/Julian%20Jacobs/Documents/GitHub/Sequitur/test.ipynb#ch0000000?line=29'>30</a>\u001b[0m visited[v] \u001b[39m=\u001b[39m \u001b[39mTrue\u001b[39;00m\n\u001b[0;32m     <a href='vscode-notebook-cell:/c%3A/Users/Julian%20Jacobs/Documents/GitHub/Sequitur/test.ipynb#ch0000000?line=30'>31</a>\u001b[0m \u001b[39mfor\u001b[39;00m i \u001b[39min\u001b[39;00m \u001b[39mself\u001b[39m\u001b[39m.\u001b[39mgraph[v]:\n\u001b[1;32m---> <a href='vscode-notebook-cell:/c%3A/Users/Julian%20Jacobs/Documents/GitHub/Sequitur/test.ipynb#ch0000000?line=31'>32</a>\u001b[0m \t\u001b[39mif\u001b[39;00m visited[i] \u001b[39m==\u001b[39m \u001b[39mFalse\u001b[39;00m:\n\u001b[0;32m     <a href='vscode-notebook-cell:/c%3A/Users/Julian%20Jacobs/Documents/GitHub/Sequitur/test.ipynb#ch0000000?line=32'>33</a>\u001b[0m \t\tcount \u001b[39m=\u001b[39m count \u001b[39m+\u001b[39m \u001b[39mself\u001b[39m\u001b[39m.\u001b[39mDFSCount(i, visited)\t\t\n\u001b[0;32m     <a href='vscode-notebook-cell:/c%3A/Users/Julian%20Jacobs/Documents/GitHub/Sequitur/test.ipynb#ch0000000?line=33'>34</a>\u001b[0m \u001b[39mreturn\u001b[39;00m count\n",
      "\u001b[1;31mIndexError\u001b[0m: list index out of range"
     ]
    }
   ],
   "source": [
    "g1 = Graph(4)\n",
    "g1.addEdge(0, 1)\n",
    "g1.addEdge(0, 2)\n",
    "g1.addEdge(1, 2)\n",
    "g1.addEdge(2, 3)\n",
    "g1.printEulerTour()"
   ]
  },
  {
   "cell_type": "code",
   "execution_count": null,
   "metadata": {},
   "outputs": [],
   "source": [
    "# Create a graph given in the above diagram\n",
    "\n",
    "g1 = Graph(4)\n",
    "g1.addEdge(0, 1)\n",
    "g1.addEdge(0, 2)\n",
    "g1.addEdge(1, 2)\n",
    "g1.addEdge(2, 3)\n",
    "g1.printEulerTour()\n",
    "\n",
    "\n",
    "g2 = Graph(3)\n",
    "g2.addEdge(0, 1)\n",
    "g2.addEdge(1, 2)\n",
    "g2.addEdge(2, 0)\n",
    "g2.printEulerTour()\n",
    "\n",
    "g3 = Graph (5)\n",
    "g3.addEdge(1, 0)\n",
    "g3.addEdge(0, 2)\n",
    "g3.addEdge(2, 1)\n",
    "g3.addEdge(0, 3)\n",
    "g3.addEdge(3, 4)\n",
    "g3.addEdge(3, 2)\n",
    "g3.addEdge(3, 1)\n",
    "g3.addEdge(2, 4)\n",
    "g3.printEulerTour()\n",
    "\n",
    "\n",
    "#This code is contributed by Neelam Yadav\n"
   ]
  }
 ],
 "metadata": {
  "kernelspec": {
   "display_name": "Python 3.9.7 64-bit",
   "language": "python",
   "name": "python3"
  },
  "language_info": {
   "codemirror_mode": {
    "name": "ipython",
    "version": 3
   },
   "file_extension": ".py",
   "mimetype": "text/x-python",
   "name": "python",
   "nbconvert_exporter": "python",
   "pygments_lexer": "ipython3",
   "version": "3.9.7"
  },
  "orig_nbformat": 4,
  "vscode": {
   "interpreter": {
    "hash": "2a8dfe095fce2b5e88c64a2c3ee084c8e0e0d70b23e7b95b1cfb538be294c5c8"
   }
  }
 },
 "nbformat": 4,
 "nbformat_minor": 2
}
