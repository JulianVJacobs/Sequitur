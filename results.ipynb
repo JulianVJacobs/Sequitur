{
 "cells": [
  {
   "cell_type": "code",
   "execution_count": 1,
   "metadata": {},
   "outputs": [
    {
     "name": "stdout",
     "output_type": "stream",
     "text": [
      "Collecting plotly\n",
      "  Downloading plotly-5.20.0-py3-none-any.whl (15.7 MB)\n",
      "     ---------------------------------------- 15.7/15.7 MB 5.6 MB/s eta 0:00:00\n",
      "Requirement already satisfied: packaging in c:\\users\\a0068449\\appdata\\roaming\\python\\python39\\site-packages (from plotly) (24.0)\n",
      "Collecting tenacity>=6.2.0\n",
      "  Downloading tenacity-8.2.3-py3-none-any.whl (24 kB)\n",
      "Installing collected packages: tenacity, plotly\n",
      "Successfully installed plotly-5.20.0 tenacity-8.2.3\n"
     ]
    },
    {
     "name": "stderr",
     "output_type": "stream",
     "text": [
      "WARNING: You are using pip version 22.0.4; however, version 24.0 is available.\n",
      "You should consider upgrading via the 'C:\\Users\\A0068449\\AppData\\Local\\Programs\\Python\\Python39\\python.exe -m pip install --upgrade pip' command.\n"
     ]
    }
   ],
   "source": [
    "! pip install plotly"
   ]
  },
  {
   "cell_type": "code",
   "execution_count": 1,
   "metadata": {},
   "outputs": [],
   "source": [
    "import plotly.graph_objects as go\n",
    "import plotly.subplots as sp\n",
    "import pandas as pd\n",
    "import os\n",
    "import random"
   ]
  },
  {
   "cell_type": "code",
   "execution_count": null,
   "metadata": {},
   "outputs": [
    {
     "ename": "",
     "evalue": "",
     "output_type": "error",
     "traceback": [
      "\u001b[1;31mRunning cells with '.venv' requires the ipykernel package.\n",
      "\u001b[1;31mRun the following command to install 'ipykernel' into the Python environment. \n",
      "\u001b[1;31mCommand: 'c:/Users/A0068449/Documents/GitHub/Sequitur/.venv/Scripts/python.exe -m pip install ipykernel -U --force-reinstall'"
     ]
    }
   ],
   "source": [
    "df_natlang_eul = pd.DataFrame()\n",
    "i = 1\n",
    "for file in os.listdir('data/output/local/natural language sequence/euler'):\n",
    "    df = pd.read_csv('data/output/local/natural language sequence/euler/'+file)\n",
    "    df['sequence'] = i\n",
    "    i += 1\n",
    "    df_natlang_eul = pd.concat([df_natlang_eul,df])\n",
    "df_natlang_eul_mean = pd.concat([df_natlang_eul[df_natlang_eul['sequence']==1].groupby(\"k\").mean().mean()[[\"sequence\",\"edit_distance\",\"de_bruijn_graph_construction_time\",'euler_path_reconstruction_time']],\n",
    "                                 df_natlang_eul[df_natlang_eul['sequence']==2].groupby(\"k\").mean().mean()[[\"sequence\",\"edit_distance\",\"de_bruijn_graph_construction_time\",'euler_path_reconstruction_time']],\n",
    "                                 df_natlang_eul[df_natlang_eul['sequence']==3].groupby(\"k\").mean().mean()[[\"sequence\",\"edit_distance\",\"de_bruijn_graph_construction_time\",'euler_path_reconstruction_time']]],axis=1).T.set_index('sequence')\n",
    "\n",
    "df_natlang_seq = pd.DataFrame()\n",
    "i = 1\n",
    "for file in os.listdir('data/output/local/natural language sequence/sequitur'):\n",
    "    df = pd.read_csv('data/output/local/natural language sequence/sequitur/'+file)\n",
    "    df['sequence'] = i\n",
    "    i += 1\n",
    "    df_natlang_seq = pd.concat([df_natlang_seq,df])\n",
    "df_natlang_seq_mean = pd.concat([df_natlang_seq[df_natlang_seq['sequence']==1].mean()[[\"sequence\",\"edit_distance\",\"suffix_array_construction_time\",'adjacency_matrix_construction_time','sequence_reconstruction_time']],\n",
    "                                 df_natlang_seq[df_natlang_seq['sequence']==2].mean()[[\"sequence\",\"edit_distance\",\"suffix_array_construction_time\",'adjacency_matrix_construction_time','sequence_reconstruction_time']],\n",
    "                                 df_natlang_seq[df_natlang_seq['sequence']==3].mean()[[\"sequence\",\"edit_distance\",\"suffix_array_construction_time\",'adjacency_matrix_construction_time','sequence_reconstruction_time']]],axis=1).T.set_index('sequence')\n",
    "\n",
    "fig = go.Figure(\n",
    "    data=[\n",
    "        go.Bar(\n",
    "            name=\"De Bruijn Graph construction\",\n",
    "            x=[\"Sequence 1\",\"Sequence 2\",\"Sequence 3\"],\n",
    "            y=df_natlang_eul_mean['de_bruijn_graph_construction_time'],\n",
    "            offsetgroup=0,\n",
    "        ),\n",
    "        go.Bar(\n",
    "            name=\"Euler Path reconstruction\",\n",
    "            x=[\"Sequence 1\",\"Sequence 2\",\"Sequence 3\"],\n",
    "            y=df_natlang_eul_mean['euler_path_reconstruction_time'],\n",
    "            text=list(\"Success Rate: {}%\".format(round((1-(df_natlang_eul[df_natlang_eul['sequence']==i]['edit_distance']/df_natlang_eul[df_natlang_eul['sequence']==i]['target_sequence_length'])).mean()*100,3)) for i in range(1,4)), \n",
    "            textposition='outside',offsetgroup=0,\n",
    "            base=df_natlang_eul_mean['de_bruijn_graph_construction_time'],\n",
    "        ),\n",
    "\n",
    "        go.Bar(\n",
    "            name=\"Suffix Array construction\",\n",
    "            x=[\"Sequence 1\",\"Sequence 2\",\"Sequence 3\"],\n",
    "            y=df_natlang_seq_mean['suffix_array_construction_time'],\n",
    "            offsetgroup=1,\n",
    "        ),\n",
    "        go.Bar(\n",
    "            name=\"Adjacency Matrix construction\",\n",
    "            x=[\"Sequence 1\",\"Sequence 2\",\"Sequence 3\"],\n",
    "            y=df_natlang_seq_mean['adjacency_matrix_construction_time'],\n",
    "            offsetgroup=1,\n",
    "            base=df_natlang_seq_mean['suffix_array_construction_time'],\n",
    "        ),go.Bar(\n",
    "            name=\"Sequence reconstruction\",\n",
    "            x=[\"Sequence 1\",\"Sequence 2\",\"Sequence 3\"],\n",
    "            y=df_natlang_seq_mean['sequence_reconstruction_time'],\n",
    "            text=list(\"Success Rate: {}%\".format(round((1-(df_natlang_seq[df_natlang_seq['sequence']==i]['edit_distance']/df_natlang_seq[df_natlang_seq['sequence']==i]['target_sequence_length'])).mean()*100,3)) for i in range(1,4)), \n",
    "            textposition='outside',offsetgroup=1,\n",
    "            base=df_natlang_seq_mean['adjacency_matrix_construction_time'],\n",
    "        )\n",
    "    ],\n",
    "    layout=go.Layout(\n",
    "        title=\"Natural Language Sequence Reconstruction: Suffix Array and Sequitur vs De Bruijn Graph and Euler Path\",\n",
    "        yaxis=dict(\n",
    "            title=\"time (s)\",\n",
    "            range=[0,0.0225]\n",
    "        )\n",
    "    )\n",
    ")\n",
    "fig.show(renderer=\"svg\")"
   ]
  },
  {
   "cell_type": "code",
   "execution_count": null,
   "metadata": {},
   "outputs": [
    {
     "ename": "",
     "evalue": "",
     "output_type": "error",
     "traceback": [
      "\u001b[1;31mRunning cells with '.venv' requires the ipykernel package.\n",
      "\u001b[1;31mRun the following command to install 'ipykernel' into the Python environment. \n",
      "\u001b[1;31mCommand: 'c:/Users/A0068449/Documents/GitHub/Sequitur/.venv/Scripts/python.exe -m pip install ipykernel -U --force-reinstall'"
     ]
    }
   ],
   "source": [
    "list(round((1-(df_natlang_eul[df_natlang_eul['sequence']==i]['edit_distance']/df_natlang_eul[df_natlang_eul['sequence']==i]['target_sequence_length'])).std()*100,3) for i in range(1,4))"
   ]
  },
  {
   "cell_type": "code",
   "execution_count": null,
   "metadata": {},
   "outputs": [
    {
     "ename": "",
     "evalue": "",
     "output_type": "error",
     "traceback": [
      "\u001b[1;31mRunning cells with '.venv' requires the ipykernel package.\n",
      "\u001b[1;31mRun the following command to install 'ipykernel' into the Python environment. \n",
      "\u001b[1;31mCommand: 'c:/Users/A0068449/Documents/GitHub/Sequitur/.venv/Scripts/python.exe -m pip install ipykernel -U --force-reinstall'"
     ]
    }
   ],
   "source": [
    "list(round((1-(df_natlang_seq[df_natlang_seq['sequence']==i]['edit_distance']/df_natlang_seq[df_natlang_seq['sequence']==i]['target_sequence_length'])).std()*100,3) for i in range(1,4))"
   ]
  },
  {
   "cell_type": "code",
   "execution_count": null,
   "metadata": {},
   "outputs": [
    {
     "ename": "",
     "evalue": "",
     "output_type": "error",
     "traceback": [
      "\u001b[1;31mRunning cells with '.venv' requires the ipykernel package.\n",
      "\u001b[1;31mRun the following command to install 'ipykernel' into the Python environment. \n",
      "\u001b[1;31mCommand: 'c:/Users/A0068449/Documents/GitHub/Sequitur/.venv/Scripts/python.exe -m pip install ipykernel -U --force-reinstall'"
     ]
    }
   ],
   "source": [
    "df_genlang_eul = pd.DataFrame()\n",
    "i = 0\n",
    "for file in os.listdir('data/output/local/generated sequence/euler'):\n",
    "    df = pd.read_csv('data/output/local/generated sequence/euler/'+file)\n",
    "    df['sequence'] = i\n",
    "    i += 1\n",
    "    df_genlang_eul = pd.concat([df_genlang_eul,df])\n",
    "df_genlang_eul_mean = pd.DataFrame()\n",
    "for i in range(5): df_genlang_eul_mean = pd.concat([df_genlang_eul_mean,df_genlang_eul[df_genlang_eul['sequence']==i].groupby(\"k\").mean().mean()[[\"sequence\",\"edit_distance\",\"de_bruijn_graph_construction_time\",'euler_path_reconstruction_time']]],axis=1)\n",
    "df_genlang_eul_mean = df_genlang_eul_mean.T.set_index('sequence')\n",
    "\n",
    "df_genlang_seq = pd.DataFrame()\n",
    "i = 0\n",
    "for file in os.listdir('data/output/local/generated sequence/sequitur'):\n",
    "    df = pd.read_csv('data/output/local/generated sequence/sequitur/'+file)\n",
    "    df['sequence'] = i\n",
    "    i += 1\n",
    "    df_genlang_seq = pd.concat([df_genlang_seq,df])\n",
    "df_genlang_seq_mean = pd.DataFrame()\n",
    "for i in range(5): df_genlang_seq_mean = pd.concat([df_genlang_seq_mean,df_genlang_seq[df_genlang_seq['sequence']==i].mean()[[\"sequence\",\"edit_distance\",\"suffix_array_construction_time\",'adjacency_matrix_construction_time','sequence_reconstruction_time']]],axis=1)\n",
    "df_genlang_seq_mean = df_genlang_seq_mean.T.set_index('sequence')\n",
    "\n",
    "labels = list('Seed {}'.format(i) for i in range(5))\n",
    "\n",
    "fig = go.Figure(\n",
    "    data=[\n",
    "        go.Bar(\n",
    "            name=\"De Bruijn Graph construction\",\n",
    "            x=labels,\n",
    "            y=df_genlang_eul_mean['de_bruijn_graph_construction_time'],\n",
    "            offsetgroup=0,\n",
    "        ),\n",
    "        go.Bar(\n",
    "            name=\"Euler Path reconstruction\",\n",
    "            x=labels,\n",
    "            y=df_genlang_eul_mean['euler_path_reconstruction_time'],\n",
    "            text=list(\"<b>{}%</b>\".format(round((1-(df_genlang_eul[df_genlang_eul['sequence']==i]['edit_distance']/df_genlang_eul[df_genlang_eul['sequence']==i]['target_sequence_length'])).mean()*100,3)) for i in range(5)), \n",
    "            textposition='outside',offsetgroup=0,\n",
    "            base=df_genlang_eul_mean['de_bruijn_graph_construction_time'],\n",
    "        ),\n",
    "\n",
    "        go.Bar(\n",
    "            name=\"Suffix Array construction\",\n",
    "            x=labels,\n",
    "            y=df_genlang_seq_mean['suffix_array_construction_time'],\n",
    "            offsetgroup=1,\n",
    "        ),\n",
    "        go.Bar(\n",
    "            name=\"Adjacency Matrix construction\",\n",
    "            x=labels,\n",
    "            y=df_genlang_seq_mean['adjacency_matrix_construction_time'],\n",
    "            offsetgroup=1,\n",
    "            base=df_genlang_seq_mean['suffix_array_construction_time'],\n",
    "        ),go.Bar(\n",
    "            name=\"Sequence reconstruction\",\n",
    "            x=labels,\n",
    "            y=df_genlang_seq_mean['sequence_reconstruction_time'],\n",
    "            text=list(\"<b>{}%</b>\".format(round((1-(df_genlang_seq[df_genlang_seq['sequence']==i]['edit_distance']/df_genlang_seq[df_genlang_seq['sequence']==i]['target_sequence_length'])).mean()*100,3)) for i in range(5)), \n",
    "            textposition='outside',offsetgroup=1,\n",
    "            base=df_genlang_seq_mean['adjacency_matrix_construction_time'],\n",
    "        )\n",
    "    ],\n",
    "    layout=go.Layout(\n",
    "        title=\"Generated Pseudo-genomic Sequence Reconstruction: Suffix Array and Sequitur vs De Bruijn Graph and Euler Path\",\n",
    "        yaxis=dict(\n",
    "            title=\"time (s)\",\n",
    "            range=[0,0.7]\n",
    "        )\n",
    "    )\n",
    ")\n",
    "fig"
   ]
  },
  {
   "cell_type": "code",
   "execution_count": null,
   "metadata": {},
   "outputs": [
    {
     "ename": "",
     "evalue": "",
     "output_type": "error",
     "traceback": [
      "\u001b[1;31mRunning cells with '.venv' requires the ipykernel package.\n",
      "\u001b[1;31mRun the following command to install 'ipykernel' into the Python environment. \n",
      "\u001b[1;31mCommand: 'c:/Users/A0068449/Documents/GitHub/Sequitur/.venv/Scripts/python.exe -m pip install ipykernel -U --force-reinstall'"
     ]
    }
   ],
   "source": [
    "list(round((1-(df_genlang_seq[df_genlang_seq['sequence']==i]['edit_distance']/df_genlang_seq[df_genlang_seq['sequence']==i]['target_sequence_length'])).std()*100,3) for i in range(5))"
   ]
  },
  {
   "cell_type": "code",
   "execution_count": null,
   "metadata": {},
   "outputs": [
    {
     "ename": "",
     "evalue": "",
     "output_type": "error",
     "traceback": [
      "\u001b[1;31mRunning cells with '.venv' requires the ipykernel package.\n",
      "\u001b[1;31mRun the following command to install 'ipykernel' into the Python environment. \n",
      "\u001b[1;31mCommand: 'c:/Users/A0068449/Documents/GitHub/Sequitur/.venv/Scripts/python.exe -m pip install ipykernel -U --force-reinstall'"
     ]
    }
   ],
   "source": [
    "list(round((1-(df_genlang_eul[df_genlang_eul['sequence']==i]['edit_distance']/df_genlang_eul[df_genlang_eul['sequence']==i]['target_sequence_length'])).std()*100,3) for i in range(5))"
   ]
  },
  {
   "cell_type": "code",
   "execution_count": null,
   "metadata": {},
   "outputs": [
    {
     "ename": "",
     "evalue": "",
     "output_type": "error",
     "traceback": [
      "\u001b[1;31mRunning cells with '.venv' requires the ipykernel package.\n",
      "\u001b[1;31mRun the following command to install 'ipykernel' into the Python environment. \n",
      "\u001b[1;31mCommand: 'c:/Users/A0068449/Documents/GitHub/Sequitur/.venv/Scripts/python.exe -m pip install ipykernel -U --force-reinstall'"
     ]
    }
   ],
   "source": [
    "df_genlang_eul = pd.DataFrame()\n",
    "i = 0\n",
    "for file in os.listdir('data/output/cluster/generated sequence/euler'):\n",
    "    df = pd.read_csv('data/output/cluster/generated sequence/euler/'+file)\n",
    "    df['sequence'] = i\n",
    "    i += 1\n",
    "    df_genlang_eul = pd.concat([df_genlang_eul,df])\n",
    "df_genlang_eul_mean = pd.DataFrame()\n",
    "for i in range(50): df_genlang_eul_mean = pd.concat([df_genlang_eul_mean,df_genlang_eul[df_genlang_eul['sequence']==i].groupby(\"k\").mean().mean()[[\"sequence\",\"edit_distance\",\"de_bruijn_graph_construction_time\",'euler_path_reconstruction_time']]],axis=1)\n",
    "df_genlang_eul_mean = df_genlang_eul_mean.T.set_index('sequence')\n",
    "\n",
    "df_genlang_seq = pd.DataFrame()\n",
    "i = 0\n",
    "for file in os.listdir('data/output/cluster/generated sequence/sequitur'):\n",
    "    df = pd.read_csv('data/output/cluster/generated sequence/sequitur/'+file)\n",
    "    df['sequence'] = i\n",
    "    i += 1\n",
    "    df_genlang_seq = pd.concat([df_genlang_seq,df])\n",
    "df_genlang_seq_mean = pd.DataFrame()\n",
    "for i in range(50): df_genlang_seq_mean = pd.concat([df_genlang_seq_mean,df_genlang_seq[df_genlang_seq['sequence']==i].mean()[[\"sequence\",\"edit_distance\",\"suffix_array_construction_time\",'adjacency_matrix_construction_time','sequence_reconstruction_time']]],axis=1)\n",
    "df_genlang_seq_mean = df_genlang_seq_mean.T.set_index('sequence')\n",
    "\n",
    "labels = list('{}'.format(i) for i in range(50))\n",
    "\n",
    "fig = sp.make_subplots(rows=2, cols=1, shared_xaxes=True, vertical_spacing=0.1)\n",
    "fig.update_xaxes(title_text=\"seed\",row=2, col=1)\n",
    "\n",
    "fig.add_trace(go.Bar(\n",
    "            name=\"De Bruijn Graph construction\",\n",
    "            x=labels,\n",
    "            y=df_genlang_eul_mean['de_bruijn_graph_construction_time'],\n",
    "            offsetgroup=0,\n",
    "        ), row=1, col=1)\n",
    "fig.add_trace(go.Bar(\n",
    "            name=\"Euler Path reconstruction\",\n",
    "            x=labels,\n",
    "            y=df_genlang_eul_mean['euler_path_reconstruction_time'],\n",
    "            offsetgroup=0,\n",
    "            base=df_genlang_eul_mean['de_bruijn_graph_construction_time'],\n",
    "        ), row=1, col=1)\n",
    "fig.add_trace(go.Bar(\n",
    "            name=\"Suffix Array construction\",\n",
    "            x=labels,\n",
    "            y=df_genlang_seq_mean['suffix_array_construction_time'],\n",
    "            offsetgroup=1,\n",
    "        ), row=1, col=1)\n",
    "fig.add_trace(go.Bar(\n",
    "            name=\"Adjacency Matrix construction\",\n",
    "            x=labels,\n",
    "            y=df_genlang_seq_mean['adjacency_matrix_construction_time'],\n",
    "            offsetgroup=1,\n",
    "            base=df_genlang_seq_mean['suffix_array_construction_time'],\n",
    "        ), row=1, col=1)\n",
    "fig.add_trace(go.Bar(\n",
    "            name=\"Sequence reconstruction\",\n",
    "            x=labels,\n",
    "            y=df_genlang_seq_mean['sequence_reconstruction_time'],\n",
    "            offsetgroup=1,\n",
    "            base=df_genlang_seq_mean['adjacency_matrix_construction_time'],\n",
    "        ), row=1, col=1)\n",
    "fig.update_layout(title_text=\"Generated Pseudo-genomic Sequence Reconstruction: Suffix Array and Sequitur vs De Bruijn Graph and Euler Path\")\n",
    "fig.update_yaxes(title_text=\"time (s)\",row=1, col=1)\n",
    "\n",
    "fig.add_trace(go.Bar(\n",
    "            name=\"De Bruijn Graph and Euler Path\",\n",
    "            x=labels,\n",
    "            y=list(round((1-(df_genlang_eul[df_genlang_eul['sequence']==i]['edit_distance']/df_genlang_eul[df_genlang_eul['sequence']==i]['target_sequence_length'])).mean()*100,2) for i in range(50)),\n",
    "            offsetgroup=0\n",
    "        ),row=2,col=1)\n",
    "fig.add_trace(go.Bar(\n",
    "            name=\"Suffix Array and Sequitur\",\n",
    "            x=labels,\n",
    "            y=list(round((1-(df_genlang_seq[df_genlang_seq['sequence']==i]['edit_distance']/df_genlang_seq[df_genlang_seq['sequence']==i]['target_sequence_length'])).mean()*100,2) for i in range(50)),\n",
    "            offsetgroup=1\n",
    "        ),row=2,col=1)\n",
    "fig.update_yaxes(title_text=\"success rate (%)\",autorange=\"reversed\",row=2, col=1)\n",
    "fig"
   ]
  },
  {
   "cell_type": "code",
   "execution_count": null,
   "metadata": {},
   "outputs": [
    {
     "ename": "",
     "evalue": "",
     "output_type": "error",
     "traceback": [
      "\u001b[1;31mRunning cells with '.venv' requires the ipykernel package.\n",
      "\u001b[1;31mRun the following command to install 'ipykernel' into the Python environment. \n",
      "\u001b[1;31mCommand: 'c:/Users/A0068449/Documents/GitHub/Sequitur/.venv/Scripts/python.exe -m pip install ipykernel -U --force-reinstall'"
     ]
    }
   ],
   "source": [
    "s = \"\"\n",
    "for i in range(50):\n",
    "    s += \"{} & {}\\% & {}\\% & {} & {}\\% & {}\\% & {}\\\\\\\\\\n\".format(\n",
    "        i,\n",
    "        round((1-(df_genlang_eul[df_genlang_eul['sequence']==i]['edit_distance']/df_genlang_eul[df_genlang_eul['sequence']==i]['target_sequence_length'])).mean()*100,3),\n",
    "        round((1-(df_genlang_eul[df_genlang_eul['sequence']==i]['edit_distance']/df_genlang_eul[df_genlang_eul['sequence']==i]['target_sequence_length'])).std()*100,3),\n",
    "        round(df_genlang_eul_mean.loc[i][['de_bruijn_graph_construction_time','euler_path_reconstruction_time']].sum(),3),\n",
    "        round((1-(df_genlang_seq[df_genlang_seq['sequence']==i]['edit_distance']/df_genlang_seq[df_genlang_seq['sequence']==i]['target_sequence_length'])).mean()*100,3),\n",
    "        round((1-(df_genlang_seq[df_genlang_seq['sequence']==i]['edit_distance']/df_genlang_seq[df_genlang_seq['sequence']==i]['target_sequence_length'])).std()*100,3),\n",
    "        round(df_genlang_seq_mean.loc[i][['adjacency_matrix_construction_time','sequence_reconstruction_time','suffix_array_construction_time']].sum(),3)\n",
    "    )\n",
    "print(s)"
   ]
  },
  {
   "cell_type": "code",
   "execution_count": 12,
   "metadata": {},
   "outputs": [
    {
     "ename": "ValueError",
     "evalue": "Mime type rendering requires nbformat>=4.2.0 but it is not installed",
     "output_type": "error",
     "traceback": [
      "\u001b[1;31m---------------------------------------------------------------------------\u001b[0m",
      "\u001b[1;31mValueError\u001b[0m                                Traceback (most recent call last)",
      "File \u001b[1;32m~\\AppData\\Roaming\\Python\\Python39\\site-packages\\IPython\\core\\formatters.py:922\u001b[0m, in \u001b[0;36mIPythonDisplayFormatter.__call__\u001b[1;34m(self, obj)\u001b[0m\n\u001b[0;32m    920\u001b[0m method \u001b[38;5;241m=\u001b[39m get_real_method(obj, \u001b[38;5;28mself\u001b[39m\u001b[38;5;241m.\u001b[39mprint_method)\n\u001b[0;32m    921\u001b[0m \u001b[38;5;28;01mif\u001b[39;00m method \u001b[38;5;129;01mis\u001b[39;00m \u001b[38;5;129;01mnot\u001b[39;00m \u001b[38;5;28;01mNone\u001b[39;00m:\n\u001b[1;32m--> 922\u001b[0m     \u001b[43mmethod\u001b[49m\u001b[43m(\u001b[49m\u001b[43m)\u001b[49m\n\u001b[0;32m    923\u001b[0m     \u001b[38;5;28;01mreturn\u001b[39;00m \u001b[38;5;28;01mTrue\u001b[39;00m\n",
      "File \u001b[1;32mc:\\Users\\A0068449\\AppData\\Local\\Programs\\Python\\Python39\\lib\\site-packages\\plotly\\basedatatypes.py:832\u001b[0m, in \u001b[0;36mBaseFigure._ipython_display_\u001b[1;34m(self)\u001b[0m\n\u001b[0;32m    829\u001b[0m \u001b[38;5;28;01mimport\u001b[39;00m \u001b[38;5;21;01mplotly\u001b[39;00m\u001b[38;5;21;01m.\u001b[39;00m\u001b[38;5;21;01mio\u001b[39;00m \u001b[38;5;28;01mas\u001b[39;00m \u001b[38;5;21;01mpio\u001b[39;00m\n\u001b[0;32m    831\u001b[0m \u001b[38;5;28;01mif\u001b[39;00m pio\u001b[38;5;241m.\u001b[39mrenderers\u001b[38;5;241m.\u001b[39mrender_on_display \u001b[38;5;129;01mand\u001b[39;00m pio\u001b[38;5;241m.\u001b[39mrenderers\u001b[38;5;241m.\u001b[39mdefault:\n\u001b[1;32m--> 832\u001b[0m     \u001b[43mpio\u001b[49m\u001b[38;5;241;43m.\u001b[39;49m\u001b[43mshow\u001b[49m\u001b[43m(\u001b[49m\u001b[38;5;28;43mself\u001b[39;49m\u001b[43m)\u001b[49m\n\u001b[0;32m    833\u001b[0m \u001b[38;5;28;01melse\u001b[39;00m:\n\u001b[0;32m    834\u001b[0m     \u001b[38;5;28mprint\u001b[39m(\u001b[38;5;28mrepr\u001b[39m(\u001b[38;5;28mself\u001b[39m))\n",
      "File \u001b[1;32mc:\\Users\\A0068449\\AppData\\Local\\Programs\\Python\\Python39\\lib\\site-packages\\plotly\\io\\_renderers.py:394\u001b[0m, in \u001b[0;36mshow\u001b[1;34m(fig, renderer, validate, **kwargs)\u001b[0m\n\u001b[0;32m    389\u001b[0m         \u001b[38;5;28;01mraise\u001b[39;00m \u001b[38;5;167;01mValueError\u001b[39;00m(\n\u001b[0;32m    390\u001b[0m             \u001b[38;5;124m\"\u001b[39m\u001b[38;5;124mMime type rendering requires ipython but it is not installed\u001b[39m\u001b[38;5;124m\"\u001b[39m\n\u001b[0;32m    391\u001b[0m         )\n\u001b[0;32m    393\u001b[0m     \u001b[38;5;28;01mif\u001b[39;00m \u001b[38;5;129;01mnot\u001b[39;00m nbformat \u001b[38;5;129;01mor\u001b[39;00m Version(nbformat\u001b[38;5;241m.\u001b[39m__version__) \u001b[38;5;241m<\u001b[39m Version(\u001b[38;5;124m\"\u001b[39m\u001b[38;5;124m4.2.0\u001b[39m\u001b[38;5;124m\"\u001b[39m):\n\u001b[1;32m--> 394\u001b[0m         \u001b[38;5;28;01mraise\u001b[39;00m \u001b[38;5;167;01mValueError\u001b[39;00m(\n\u001b[0;32m    395\u001b[0m             \u001b[38;5;124m\"\u001b[39m\u001b[38;5;124mMime type rendering requires nbformat>=4.2.0 but it is not installed\u001b[39m\u001b[38;5;124m\"\u001b[39m\n\u001b[0;32m    396\u001b[0m         )\n\u001b[0;32m    398\u001b[0m     ipython_display\u001b[38;5;241m.\u001b[39mdisplay(bundle, raw\u001b[38;5;241m=\u001b[39m\u001b[38;5;28;01mTrue\u001b[39;00m)\n\u001b[0;32m    400\u001b[0m \u001b[38;5;66;03m# external renderers\u001b[39;00m\n",
      "\u001b[1;31mValueError\u001b[0m: Mime type rendering requires nbformat>=4.2.0 but it is not installed"
     ]
    },
    {
     "data": {
      "application/vnd.plotly.v1+json": {
       "config": {
        "plotlyServerURL": "https://plot.ly"
       },
       "data": [
        {
         "name": "De Bruijn Graph construction",
         "offsetgroup": "0",
         "type": "bar",
         "x": [
          "0",
          "1",
          "2",
          "3",
          "4",
          "5",
          "6",
          "7",
          "8",
          "9"
         ],
         "y": [
          2.612266627172144,
          2.6584061766833806,
          2.6490940644101397,
          2.6619585080263093,
          2.661279437716414,
          2.642544750585789,
          2.8838163468895877,
          2.8002959540995147,
          2.8022940791525497,
          2.801001541556381,
          2.8309360114539532,
          2.5820985240471077,
          2.819779725307369,
          2.8248886794578754,
          2.8224314623344227,
          2.8505188818675715,
          2.864189952175793,
          2.606517351545939,
          2.5280085295002634,
          2.5156057964883214,
          2.5065460338825134,
          2.5089567933431485,
          2.584602706606795,
          2.6906795895971904,
          2.683774306832291,
          2.6658470378270978,
          2.6956998469189886,
          2.672193654339487,
          2.8027362055894818,
          2.791659319575239,
          2.794393312640309,
          2.816716819391015,
          2.8300403129763727,
          2.593480826238305,
          2.676897176882113,
          2.566621647462612,
          2.5807165993713737,
          2.579501156923248,
          2.5600598400395085,
          2.6535695863351583,
          2.6290821335955377,
          2.6434815780127927,
          2.63444807366627,
          2.6469615832770748,
          2.5835999878441416,
          2.773982578719534,
          2.7424081432528604,
          2.739894899275245,
          2.752853965410371,
          2.7674044024072044
         ]
        },
        {
         "base": [
          2.612266627172144,
          2.6584061766833806,
          2.6490940644101397,
          2.6619585080263093,
          2.661279437716414,
          2.642544750585789,
          2.8838163468895877,
          2.8002959540995147,
          2.8022940791525497,
          2.801001541556381,
          2.8309360114539532,
          2.5820985240471077,
          2.819779725307369,
          2.8248886794578754,
          2.8224314623344227,
          2.8505188818675715,
          2.864189952175793,
          2.606517351545939,
          2.5280085295002634,
          2.5156057964883214,
          2.5065460338825134,
          2.5089567933431485,
          2.584602706606795,
          2.6906795895971904,
          2.683774306832291,
          2.6658470378270978,
          2.6956998469189886,
          2.672193654339487,
          2.8027362055894818,
          2.791659319575239,
          2.794393312640309,
          2.816716819391015,
          2.8300403129763727,
          2.593480826238305,
          2.676897176882113,
          2.566621647462612,
          2.5807165993713737,
          2.579501156923248,
          2.5600598400395085,
          2.6535695863351583,
          2.6290821335955377,
          2.6434815780127927,
          2.63444807366627,
          2.6469615832770748,
          2.5835999878441416,
          2.773982578719534,
          2.7424081432528604,
          2.739894899275245,
          2.752853965410371,
          2.7674044024072044
         ],
         "name": "Euler Path reconstruction",
         "offsetgroup": "0",
         "text": [
          "<b>0.01%</b>",
          "<b>0.01%</b>",
          "<b>0.01%</b>",
          "<b>0.01%</b>",
          "<b>0.01%</b>",
          "<b>0.01%</b>",
          "<b>0.01%</b>",
          "<b>0.01%</b>",
          "<b>0.01%</b>",
          "<b>0.01%</b>"
         ],
         "textposition": "outside",
         "type": "bar",
         "x": [
          "0",
          "1",
          "2",
          "3",
          "4",
          "5",
          "6",
          "7",
          "8",
          "9"
         ],
         "y": [
          0.335405974620726,
          0.34210571196021106,
          0.3466567526794063,
          0.34410124139087966,
          0.3425742041192403,
          0.3442743798000061,
          0.36595150331171555,
          0.371067086778036,
          0.37663323565227225,
          0.36814225755086777,
          0.37942313822304313,
          0.32982219835607024,
          0.37585395999071064,
          0.368015292330486,
          0.36722489066240277,
          0.3706923803469031,
          0.37152794151771384,
          0.33340525545725025,
          0.3302565431594848,
          0.3335456241049419,
          0.32878563031917646,
          0.323847402712194,
          0.3368932073872264,
          0.34256817526933625,
          0.3424421593038048,
          0.336547283079566,
          0.3349887314075379,
          0.345191485591051,
          0.3660396931811078,
          0.36786688583653154,
          0.37413694067699144,
          0.3697172802250559,
          0.36875086609910174,
          0.3346248362704024,
          0.3427207411789314,
          0.3342559159674296,
          0.3312571025476222,
          0.3327545720774952,
          0.33786522853665224,
          0.34749029113025215,
          0.34455425681137464,
          0.3454203006697863,
          0.3438598052466788,
          0.34140396315877014,
          0.3366048965221498,
          0.35094518835951655,
          0.34747327525441224,
          0.3500436368802697,
          0.3459420540274643,
          0.34255813540481955
         ]
        },
        {
         "name": "Suffix Array construction",
         "offsetgroup": "1",
         "type": "bar",
         "x": [
          "0",
          "1",
          "2",
          "3",
          "4",
          "5",
          "6",
          "7",
          "8",
          "9"
         ],
         "y": [
          13.663219738006593,
          13.538903903961181,
          13.70011110305786,
          13.720218658447266,
          13.617471504211426,
          13.908124852180482,
          13.92692186832428,
          13.748035788536072,
          13.730437922477723,
          13.864291000366212,
          14.228859496116637,
          13.845230412483215,
          13.296442103385925,
          13.643372297286987,
          14.016278386116028,
          14.070302248001099,
          13.78345229625702,
          13.577315711975098,
          14.051397800445557,
          13.754148030281067,
          14.072115850448608,
          13.497524666786195,
          14.103162264823913,
          13.79975893497467,
          13.970998930931092,
          14.327715468406677,
          14.224557542800904,
          13.861295151710511,
          13.483842754364014,
          13.69554262161255,
          13.698824596405029,
          14.14829616546631,
          14.276137113571167,
          13.922017312049865,
          13.621377968788147,
          13.947717595100404,
          14.132982063293458,
          13.992869758605957,
          14.16330897808075,
          13.451741886138915,
          13.767930006980896,
          14.270190548896789,
          14.145833730697632,
          13.91710684299469,
          13.788760900497437,
          13.538946151733398,
          13.849047827720643,
          14.102005577087402,
          14.248242402076722,
          14.041401720046997
         ]
        },
        {
         "base": [
          13.663219738006593,
          13.538903903961181,
          13.70011110305786,
          13.720218658447266,
          13.617471504211426,
          13.908124852180482,
          13.92692186832428,
          13.748035788536072,
          13.730437922477723,
          13.864291000366212,
          14.228859496116637,
          13.845230412483215,
          13.296442103385925,
          13.643372297286987,
          14.016278386116028,
          14.070302248001099,
          13.78345229625702,
          13.577315711975098,
          14.051397800445557,
          13.754148030281067,
          14.072115850448608,
          13.497524666786195,
          14.103162264823913,
          13.79975893497467,
          13.970998930931092,
          14.327715468406677,
          14.224557542800904,
          13.861295151710511,
          13.483842754364014,
          13.69554262161255,
          13.698824596405029,
          14.14829616546631,
          14.276137113571167,
          13.922017312049865,
          13.621377968788147,
          13.947717595100404,
          14.132982063293458,
          13.992869758605957,
          14.16330897808075,
          13.451741886138915,
          13.767930006980896,
          14.270190548896789,
          14.145833730697632,
          13.91710684299469,
          13.788760900497437,
          13.538946151733398,
          13.849047827720643,
          14.102005577087402,
          14.248242402076722,
          14.041401720046997
         ],
         "name": "Adjacency Matrix construction",
         "offsetgroup": "1",
         "type": "bar",
         "x": [
          "0",
          "1",
          "2",
          "3",
          "4",
          "5",
          "6",
          "7",
          "8",
          "9"
         ],
         "y": [
          1062.369104385376,
          1073.0000865221023,
          1066.0100021600724,
          1058.0872583150863,
          1048.3308802843094,
          1078.4911577224732,
          1080.3412817716599,
          1049.9394376039504,
          1045.6897354841233,
          1042.4404428482055,
          1074.7627636909485,
          1088.6140061378478,
          1037.3516236066819,
          1052.4797366142272,
          1058.1545270204545,
          1079.725005841255,
          1049.3913203001023,
          1069.7785495758058,
          1071.893361234665,
          1041.8492573022843,
          1067.2858700513839,
          1033.917875480652,
          1075.5084909915925,
          1075.9199424505234,
          1081.1119964361192,
          1082.3035836696624,
          1072.764274930954,
          1051.5814207315445,
          1042.0089975595474,
          1039.4353214740754,
          1041.9925720453261,
          1075.976454782486,
          1104.205859375,
          1056.5653158664704,
          1054.478480052948,
          1054.3128525972365,
          1071.031885457039,
          1063.278342938423,
          1077.229965686798,
          1035.3256218910217,
          1038.8339392662049,
          1090.226400256157,
          1069.8231082677842,
          1057.842178106308,
          1052.8990099430084,
          1047.0279408931733,
          1045.915050983429,
          1066.205805850029,
          1064.8776514053345,
          1072.2994989395143
         ]
        },
        {
         "base": [
          1062.369104385376,
          1073.0000865221023,
          1066.0100021600724,
          1058.0872583150863,
          1048.3308802843094,
          1078.4911577224732,
          1080.3412817716599,
          1049.9394376039504,
          1045.6897354841233,
          1042.4404428482055,
          1074.7627636909485,
          1088.6140061378478,
          1037.3516236066819,
          1052.4797366142272,
          1058.1545270204545,
          1079.725005841255,
          1049.3913203001023,
          1069.7785495758058,
          1071.893361234665,
          1041.8492573022843,
          1067.2858700513839,
          1033.917875480652,
          1075.5084909915925,
          1075.9199424505234,
          1081.1119964361192,
          1082.3035836696624,
          1072.764274930954,
          1051.5814207315445,
          1042.0089975595474,
          1039.4353214740754,
          1041.9925720453261,
          1075.976454782486,
          1104.205859375,
          1056.5653158664704,
          1054.478480052948,
          1054.3128525972365,
          1071.031885457039,
          1063.278342938423,
          1077.229965686798,
          1035.3256218910217,
          1038.8339392662049,
          1090.226400256157,
          1069.8231082677842,
          1057.842178106308,
          1052.8990099430084,
          1047.0279408931733,
          1045.915050983429,
          1066.205805850029,
          1064.8776514053345,
          1072.2994989395143
         ],
         "name": "Sequence reconstruction",
         "offsetgroup": "1",
         "text": [
          "<b>100.0%</b>",
          "<b>100.0%</b>",
          "<b>100.0%</b>",
          "<b>100.0%</b>",
          "<b>100.0%</b>",
          "<b>100.0%</b>",
          "<b>100.0%</b>",
          "<b>100.0%</b>",
          "<b>100.0%</b>",
          "<b>100.0%</b>"
         ],
         "textposition": "outside",
         "type": "bar",
         "x": [
          "0",
          "1",
          "2",
          "3",
          "4",
          "5",
          "6",
          "7",
          "8",
          "9"
         ],
         "y": [
          216.386448097229,
          216.9845267534256,
          217.27791390419006,
          218.07359192371368,
          217.90404272079468,
          217.5473834514618,
          216.67316029071807,
          217.0102926492691,
          217.19118490219117,
          217.20463840961457,
          216.96033883094788,
          216.69639983177186,
          217.05136914253234,
          217.74861745834352,
          218.33838448524475,
          219.42977499961853,
          217.3924864053726,
          216.65924108028412,
          216.87155821323395,
          217.22439908981323,
          217.49836478233337,
          217.27060515880584,
          217.4408841609955,
          217.34135527610778,
          217.56292042732238,
          218.3206748008728,
          217.99333052635194,
          218.43719379901887,
          216.03604860305785,
          216.47547659873962,
          216.59112956523896,
          216.6998613357544,
          216.55755286216737,
          217.74387543201448,
          217.25529971122742,
          217.971755361557,
          217.78825726509095,
          217.81876180171966,
          217.50416882038115,
          216.85270490646363,
          217.1746285676956,
          217.61494646072387,
          217.4327974319458,
          217.4391048192978,
          217.22246479988098,
          214.90762996673584,
          215.33690936565398,
          215.54646003246307,
          216.03888969421388,
          215.70594799518585
         ]
        }
       ],
       "layout": {
        "template": {
         "data": {
          "bar": [
           {
            "error_x": {
             "color": "#2a3f5f"
            },
            "error_y": {
             "color": "#2a3f5f"
            },
            "marker": {
             "line": {
              "color": "#E5ECF6",
              "width": 0.5
             },
             "pattern": {
              "fillmode": "overlay",
              "size": 10,
              "solidity": 0.2
             }
            },
            "type": "bar"
           }
          ],
          "barpolar": [
           {
            "marker": {
             "line": {
              "color": "#E5ECF6",
              "width": 0.5
             },
             "pattern": {
              "fillmode": "overlay",
              "size": 10,
              "solidity": 0.2
             }
            },
            "type": "barpolar"
           }
          ],
          "carpet": [
           {
            "aaxis": {
             "endlinecolor": "#2a3f5f",
             "gridcolor": "white",
             "linecolor": "white",
             "minorgridcolor": "white",
             "startlinecolor": "#2a3f5f"
            },
            "baxis": {
             "endlinecolor": "#2a3f5f",
             "gridcolor": "white",
             "linecolor": "white",
             "minorgridcolor": "white",
             "startlinecolor": "#2a3f5f"
            },
            "type": "carpet"
           }
          ],
          "choropleth": [
           {
            "colorbar": {
             "outlinewidth": 0,
             "ticks": ""
            },
            "type": "choropleth"
           }
          ],
          "contour": [
           {
            "colorbar": {
             "outlinewidth": 0,
             "ticks": ""
            },
            "colorscale": [
             [
              0,
              "#0d0887"
             ],
             [
              0.1111111111111111,
              "#46039f"
             ],
             [
              0.2222222222222222,
              "#7201a8"
             ],
             [
              0.3333333333333333,
              "#9c179e"
             ],
             [
              0.4444444444444444,
              "#bd3786"
             ],
             [
              0.5555555555555556,
              "#d8576b"
             ],
             [
              0.6666666666666666,
              "#ed7953"
             ],
             [
              0.7777777777777778,
              "#fb9f3a"
             ],
             [
              0.8888888888888888,
              "#fdca26"
             ],
             [
              1,
              "#f0f921"
             ]
            ],
            "type": "contour"
           }
          ],
          "contourcarpet": [
           {
            "colorbar": {
             "outlinewidth": 0,
             "ticks": ""
            },
            "type": "contourcarpet"
           }
          ],
          "heatmap": [
           {
            "colorbar": {
             "outlinewidth": 0,
             "ticks": ""
            },
            "colorscale": [
             [
              0,
              "#0d0887"
             ],
             [
              0.1111111111111111,
              "#46039f"
             ],
             [
              0.2222222222222222,
              "#7201a8"
             ],
             [
              0.3333333333333333,
              "#9c179e"
             ],
             [
              0.4444444444444444,
              "#bd3786"
             ],
             [
              0.5555555555555556,
              "#d8576b"
             ],
             [
              0.6666666666666666,
              "#ed7953"
             ],
             [
              0.7777777777777778,
              "#fb9f3a"
             ],
             [
              0.8888888888888888,
              "#fdca26"
             ],
             [
              1,
              "#f0f921"
             ]
            ],
            "type": "heatmap"
           }
          ],
          "heatmapgl": [
           {
            "colorbar": {
             "outlinewidth": 0,
             "ticks": ""
            },
            "colorscale": [
             [
              0,
              "#0d0887"
             ],
             [
              0.1111111111111111,
              "#46039f"
             ],
             [
              0.2222222222222222,
              "#7201a8"
             ],
             [
              0.3333333333333333,
              "#9c179e"
             ],
             [
              0.4444444444444444,
              "#bd3786"
             ],
             [
              0.5555555555555556,
              "#d8576b"
             ],
             [
              0.6666666666666666,
              "#ed7953"
             ],
             [
              0.7777777777777778,
              "#fb9f3a"
             ],
             [
              0.8888888888888888,
              "#fdca26"
             ],
             [
              1,
              "#f0f921"
             ]
            ],
            "type": "heatmapgl"
           }
          ],
          "histogram": [
           {
            "marker": {
             "pattern": {
              "fillmode": "overlay",
              "size": 10,
              "solidity": 0.2
             }
            },
            "type": "histogram"
           }
          ],
          "histogram2d": [
           {
            "colorbar": {
             "outlinewidth": 0,
             "ticks": ""
            },
            "colorscale": [
             [
              0,
              "#0d0887"
             ],
             [
              0.1111111111111111,
              "#46039f"
             ],
             [
              0.2222222222222222,
              "#7201a8"
             ],
             [
              0.3333333333333333,
              "#9c179e"
             ],
             [
              0.4444444444444444,
              "#bd3786"
             ],
             [
              0.5555555555555556,
              "#d8576b"
             ],
             [
              0.6666666666666666,
              "#ed7953"
             ],
             [
              0.7777777777777778,
              "#fb9f3a"
             ],
             [
              0.8888888888888888,
              "#fdca26"
             ],
             [
              1,
              "#f0f921"
             ]
            ],
            "type": "histogram2d"
           }
          ],
          "histogram2dcontour": [
           {
            "colorbar": {
             "outlinewidth": 0,
             "ticks": ""
            },
            "colorscale": [
             [
              0,
              "#0d0887"
             ],
             [
              0.1111111111111111,
              "#46039f"
             ],
             [
              0.2222222222222222,
              "#7201a8"
             ],
             [
              0.3333333333333333,
              "#9c179e"
             ],
             [
              0.4444444444444444,
              "#bd3786"
             ],
             [
              0.5555555555555556,
              "#d8576b"
             ],
             [
              0.6666666666666666,
              "#ed7953"
             ],
             [
              0.7777777777777778,
              "#fb9f3a"
             ],
             [
              0.8888888888888888,
              "#fdca26"
             ],
             [
              1,
              "#f0f921"
             ]
            ],
            "type": "histogram2dcontour"
           }
          ],
          "mesh3d": [
           {
            "colorbar": {
             "outlinewidth": 0,
             "ticks": ""
            },
            "type": "mesh3d"
           }
          ],
          "parcoords": [
           {
            "line": {
             "colorbar": {
              "outlinewidth": 0,
              "ticks": ""
             }
            },
            "type": "parcoords"
           }
          ],
          "pie": [
           {
            "automargin": true,
            "type": "pie"
           }
          ],
          "scatter": [
           {
            "fillpattern": {
             "fillmode": "overlay",
             "size": 10,
             "solidity": 0.2
            },
            "type": "scatter"
           }
          ],
          "scatter3d": [
           {
            "line": {
             "colorbar": {
              "outlinewidth": 0,
              "ticks": ""
             }
            },
            "marker": {
             "colorbar": {
              "outlinewidth": 0,
              "ticks": ""
             }
            },
            "type": "scatter3d"
           }
          ],
          "scattercarpet": [
           {
            "marker": {
             "colorbar": {
              "outlinewidth": 0,
              "ticks": ""
             }
            },
            "type": "scattercarpet"
           }
          ],
          "scattergeo": [
           {
            "marker": {
             "colorbar": {
              "outlinewidth": 0,
              "ticks": ""
             }
            },
            "type": "scattergeo"
           }
          ],
          "scattergl": [
           {
            "marker": {
             "colorbar": {
              "outlinewidth": 0,
              "ticks": ""
             }
            },
            "type": "scattergl"
           }
          ],
          "scattermapbox": [
           {
            "marker": {
             "colorbar": {
              "outlinewidth": 0,
              "ticks": ""
             }
            },
            "type": "scattermapbox"
           }
          ],
          "scatterpolar": [
           {
            "marker": {
             "colorbar": {
              "outlinewidth": 0,
              "ticks": ""
             }
            },
            "type": "scatterpolar"
           }
          ],
          "scatterpolargl": [
           {
            "marker": {
             "colorbar": {
              "outlinewidth": 0,
              "ticks": ""
             }
            },
            "type": "scatterpolargl"
           }
          ],
          "scatterternary": [
           {
            "marker": {
             "colorbar": {
              "outlinewidth": 0,
              "ticks": ""
             }
            },
            "type": "scatterternary"
           }
          ],
          "surface": [
           {
            "colorbar": {
             "outlinewidth": 0,
             "ticks": ""
            },
            "colorscale": [
             [
              0,
              "#0d0887"
             ],
             [
              0.1111111111111111,
              "#46039f"
             ],
             [
              0.2222222222222222,
              "#7201a8"
             ],
             [
              0.3333333333333333,
              "#9c179e"
             ],
             [
              0.4444444444444444,
              "#bd3786"
             ],
             [
              0.5555555555555556,
              "#d8576b"
             ],
             [
              0.6666666666666666,
              "#ed7953"
             ],
             [
              0.7777777777777778,
              "#fb9f3a"
             ],
             [
              0.8888888888888888,
              "#fdca26"
             ],
             [
              1,
              "#f0f921"
             ]
            ],
            "type": "surface"
           }
          ],
          "table": [
           {
            "cells": {
             "fill": {
              "color": "#EBF0F8"
             },
             "line": {
              "color": "white"
             }
            },
            "header": {
             "fill": {
              "color": "#C8D4E3"
             },
             "line": {
              "color": "white"
             }
            },
            "type": "table"
           }
          ]
         },
         "layout": {
          "annotationdefaults": {
           "arrowcolor": "#2a3f5f",
           "arrowhead": 0,
           "arrowwidth": 1
          },
          "autotypenumbers": "strict",
          "coloraxis": {
           "colorbar": {
            "outlinewidth": 0,
            "ticks": ""
           }
          },
          "colorscale": {
           "diverging": [
            [
             0,
             "#8e0152"
            ],
            [
             0.1,
             "#c51b7d"
            ],
            [
             0.2,
             "#de77ae"
            ],
            [
             0.3,
             "#f1b6da"
            ],
            [
             0.4,
             "#fde0ef"
            ],
            [
             0.5,
             "#f7f7f7"
            ],
            [
             0.6,
             "#e6f5d0"
            ],
            [
             0.7,
             "#b8e186"
            ],
            [
             0.8,
             "#7fbc41"
            ],
            [
             0.9,
             "#4d9221"
            ],
            [
             1,
             "#276419"
            ]
           ],
           "sequential": [
            [
             0,
             "#0d0887"
            ],
            [
             0.1111111111111111,
             "#46039f"
            ],
            [
             0.2222222222222222,
             "#7201a8"
            ],
            [
             0.3333333333333333,
             "#9c179e"
            ],
            [
             0.4444444444444444,
             "#bd3786"
            ],
            [
             0.5555555555555556,
             "#d8576b"
            ],
            [
             0.6666666666666666,
             "#ed7953"
            ],
            [
             0.7777777777777778,
             "#fb9f3a"
            ],
            [
             0.8888888888888888,
             "#fdca26"
            ],
            [
             1,
             "#f0f921"
            ]
           ],
           "sequentialminus": [
            [
             0,
             "#0d0887"
            ],
            [
             0.1111111111111111,
             "#46039f"
            ],
            [
             0.2222222222222222,
             "#7201a8"
            ],
            [
             0.3333333333333333,
             "#9c179e"
            ],
            [
             0.4444444444444444,
             "#bd3786"
            ],
            [
             0.5555555555555556,
             "#d8576b"
            ],
            [
             0.6666666666666666,
             "#ed7953"
            ],
            [
             0.7777777777777778,
             "#fb9f3a"
            ],
            [
             0.8888888888888888,
             "#fdca26"
            ],
            [
             1,
             "#f0f921"
            ]
           ]
          },
          "colorway": [
           "#636efa",
           "#EF553B",
           "#00cc96",
           "#ab63fa",
           "#FFA15A",
           "#19d3f3",
           "#FF6692",
           "#B6E880",
           "#FF97FF",
           "#FECB52"
          ],
          "font": {
           "color": "#2a3f5f"
          },
          "geo": {
           "bgcolor": "white",
           "lakecolor": "white",
           "landcolor": "#E5ECF6",
           "showlakes": true,
           "showland": true,
           "subunitcolor": "white"
          },
          "hoverlabel": {
           "align": "left"
          },
          "hovermode": "closest",
          "mapbox": {
           "style": "light"
          },
          "paper_bgcolor": "white",
          "plot_bgcolor": "#E5ECF6",
          "polar": {
           "angularaxis": {
            "gridcolor": "white",
            "linecolor": "white",
            "ticks": ""
           },
           "bgcolor": "#E5ECF6",
           "radialaxis": {
            "gridcolor": "white",
            "linecolor": "white",
            "ticks": ""
           }
          },
          "scene": {
           "xaxis": {
            "backgroundcolor": "#E5ECF6",
            "gridcolor": "white",
            "gridwidth": 2,
            "linecolor": "white",
            "showbackground": true,
            "ticks": "",
            "zerolinecolor": "white"
           },
           "yaxis": {
            "backgroundcolor": "#E5ECF6",
            "gridcolor": "white",
            "gridwidth": 2,
            "linecolor": "white",
            "showbackground": true,
            "ticks": "",
            "zerolinecolor": "white"
           },
           "zaxis": {
            "backgroundcolor": "#E5ECF6",
            "gridcolor": "white",
            "gridwidth": 2,
            "linecolor": "white",
            "showbackground": true,
            "ticks": "",
            "zerolinecolor": "white"
           }
          },
          "shapedefaults": {
           "line": {
            "color": "#2a3f5f"
           }
          },
          "ternary": {
           "aaxis": {
            "gridcolor": "white",
            "linecolor": "white",
            "ticks": ""
           },
           "baxis": {
            "gridcolor": "white",
            "linecolor": "white",
            "ticks": ""
           },
           "bgcolor": "#E5ECF6",
           "caxis": {
            "gridcolor": "white",
            "linecolor": "white",
            "ticks": ""
           }
          },
          "title": {
           "x": 0.05
          },
          "xaxis": {
           "automargin": true,
           "gridcolor": "white",
           "linecolor": "white",
           "ticks": "",
           "title": {
            "standoff": 15
           },
           "zerolinecolor": "white",
           "zerolinewidth": 2
          },
          "yaxis": {
           "automargin": true,
           "gridcolor": "white",
           "linecolor": "white",
           "ticks": "",
           "title": {
            "standoff": 15
           },
           "zerolinecolor": "white",
           "zerolinewidth": 2
          }
         }
        },
        "title": {
         "text": "Raphanus sativus with Generated Reads: Suffix Array and Sequitur vs De Bruijn Graph and Euler Path"
        },
        "yaxis": {
         "title": {
          "text": "time (s)"
         }
        }
       }
      },
      "text/html": [
       "<div>                        <script type=\"text/javascript\">window.PlotlyConfig = {MathJaxConfig: 'local'};</script>\n",
       "        <script charset=\"utf-8\" src=\"https://cdn.plot.ly/plotly-2.30.0.min.js\"></script>                <div id=\"4216a7a4-549d-428e-8164-c0f3a992f5b4\" class=\"plotly-graph-div\" style=\"height:100%; width:100%;\"></div>            <script type=\"text/javascript\">                                    window.PLOTLYENV=window.PLOTLYENV || {};                                    if (document.getElementById(\"4216a7a4-549d-428e-8164-c0f3a992f5b4\")) {                    Plotly.newPlot(                        \"4216a7a4-549d-428e-8164-c0f3a992f5b4\",                        [{\"name\":\"De Bruijn Graph construction\",\"offsetgroup\":\"0\",\"x\":[\"0\",\"1\",\"2\",\"3\",\"4\",\"5\",\"6\",\"7\",\"8\",\"9\"],\"y\":[2.612266627172144,2.6584061766833806,2.6490940644101397,2.6619585080263093,2.661279437716414,2.642544750585789,2.8838163468895877,2.8002959540995147,2.8022940791525497,2.801001541556381,2.8309360114539532,2.5820985240471077,2.819779725307369,2.8248886794578754,2.8224314623344227,2.8505188818675715,2.864189952175793,2.606517351545939,2.5280085295002634,2.5156057964883214,2.5065460338825134,2.5089567933431485,2.584602706606795,2.6906795895971904,2.683774306832291,2.6658470378270978,2.6956998469189886,2.672193654339487,2.8027362055894818,2.791659319575239,2.794393312640309,2.816716819391015,2.8300403129763727,2.593480826238305,2.676897176882113,2.566621647462612,2.5807165993713737,2.579501156923248,2.5600598400395085,2.6535695863351583,2.6290821335955377,2.6434815780127927,2.63444807366627,2.6469615832770748,2.5835999878441416,2.773982578719534,2.7424081432528604,2.739894899275245,2.752853965410371,2.7674044024072044],\"type\":\"bar\"},{\"base\":[2.612266627172144,2.6584061766833806,2.6490940644101397,2.6619585080263093,2.661279437716414,2.642544750585789,2.8838163468895877,2.8002959540995147,2.8022940791525497,2.801001541556381,2.8309360114539532,2.5820985240471077,2.819779725307369,2.8248886794578754,2.8224314623344227,2.8505188818675715,2.864189952175793,2.606517351545939,2.5280085295002634,2.5156057964883214,2.5065460338825134,2.5089567933431485,2.584602706606795,2.6906795895971904,2.683774306832291,2.6658470378270978,2.6956998469189886,2.672193654339487,2.8027362055894818,2.791659319575239,2.794393312640309,2.816716819391015,2.8300403129763727,2.593480826238305,2.676897176882113,2.566621647462612,2.5807165993713737,2.579501156923248,2.5600598400395085,2.6535695863351583,2.6290821335955377,2.6434815780127927,2.63444807366627,2.6469615832770748,2.5835999878441416,2.773982578719534,2.7424081432528604,2.739894899275245,2.752853965410371,2.7674044024072044],\"name\":\"Euler Path reconstruction\",\"offsetgroup\":\"0\",\"text\":[\"\\u003cb\\u003e0.01%\\u003c\\u002fb\\u003e\",\"\\u003cb\\u003e0.01%\\u003c\\u002fb\\u003e\",\"\\u003cb\\u003e0.01%\\u003c\\u002fb\\u003e\",\"\\u003cb\\u003e0.01%\\u003c\\u002fb\\u003e\",\"\\u003cb\\u003e0.01%\\u003c\\u002fb\\u003e\",\"\\u003cb\\u003e0.01%\\u003c\\u002fb\\u003e\",\"\\u003cb\\u003e0.01%\\u003c\\u002fb\\u003e\",\"\\u003cb\\u003e0.01%\\u003c\\u002fb\\u003e\",\"\\u003cb\\u003e0.01%\\u003c\\u002fb\\u003e\",\"\\u003cb\\u003e0.01%\\u003c\\u002fb\\u003e\"],\"textposition\":\"outside\",\"x\":[\"0\",\"1\",\"2\",\"3\",\"4\",\"5\",\"6\",\"7\",\"8\",\"9\"],\"y\":[0.335405974620726,0.34210571196021106,0.3466567526794063,0.34410124139087966,0.3425742041192403,0.3442743798000061,0.36595150331171555,0.371067086778036,0.37663323565227225,0.36814225755086777,0.37942313822304313,0.32982219835607024,0.37585395999071064,0.368015292330486,0.36722489066240277,0.3706923803469031,0.37152794151771384,0.33340525545725025,0.3302565431594848,0.3335456241049419,0.32878563031917646,0.323847402712194,0.3368932073872264,0.34256817526933625,0.3424421593038048,0.336547283079566,0.3349887314075379,0.345191485591051,0.3660396931811078,0.36786688583653154,0.37413694067699144,0.3697172802250559,0.36875086609910174,0.3346248362704024,0.3427207411789314,0.3342559159674296,0.3312571025476222,0.3327545720774952,0.33786522853665224,0.34749029113025215,0.34455425681137464,0.3454203006697863,0.3438598052466788,0.34140396315877014,0.3366048965221498,0.35094518835951655,0.34747327525441224,0.3500436368802697,0.3459420540274643,0.34255813540481955],\"type\":\"bar\"},{\"name\":\"Suffix Array construction\",\"offsetgroup\":\"1\",\"x\":[\"0\",\"1\",\"2\",\"3\",\"4\",\"5\",\"6\",\"7\",\"8\",\"9\"],\"y\":[13.663219738006593,13.538903903961181,13.70011110305786,13.720218658447266,13.617471504211426,13.908124852180482,13.92692186832428,13.748035788536072,13.730437922477723,13.864291000366212,14.228859496116637,13.845230412483215,13.296442103385925,13.643372297286987,14.016278386116028,14.070302248001099,13.78345229625702,13.577315711975098,14.051397800445557,13.754148030281067,14.072115850448608,13.497524666786195,14.103162264823913,13.79975893497467,13.970998930931092,14.327715468406677,14.224557542800904,13.861295151710511,13.483842754364014,13.69554262161255,13.698824596405029,14.14829616546631,14.276137113571167,13.922017312049865,13.621377968788147,13.947717595100404,14.132982063293458,13.992869758605957,14.16330897808075,13.451741886138915,13.767930006980896,14.270190548896789,14.145833730697632,13.91710684299469,13.788760900497437,13.538946151733398,13.849047827720643,14.102005577087402,14.248242402076722,14.041401720046997],\"type\":\"bar\"},{\"base\":[13.663219738006593,13.538903903961181,13.70011110305786,13.720218658447266,13.617471504211426,13.908124852180482,13.92692186832428,13.748035788536072,13.730437922477723,13.864291000366212,14.228859496116637,13.845230412483215,13.296442103385925,13.643372297286987,14.016278386116028,14.070302248001099,13.78345229625702,13.577315711975098,14.051397800445557,13.754148030281067,14.072115850448608,13.497524666786195,14.103162264823913,13.79975893497467,13.970998930931092,14.327715468406677,14.224557542800904,13.861295151710511,13.483842754364014,13.69554262161255,13.698824596405029,14.14829616546631,14.276137113571167,13.922017312049865,13.621377968788147,13.947717595100404,14.132982063293458,13.992869758605957,14.16330897808075,13.451741886138915,13.767930006980896,14.270190548896789,14.145833730697632,13.91710684299469,13.788760900497437,13.538946151733398,13.849047827720643,14.102005577087402,14.248242402076722,14.041401720046997],\"name\":\"Adjacency Matrix construction\",\"offsetgroup\":\"1\",\"x\":[\"0\",\"1\",\"2\",\"3\",\"4\",\"5\",\"6\",\"7\",\"8\",\"9\"],\"y\":[1062.369104385376,1073.0000865221023,1066.0100021600724,1058.0872583150863,1048.3308802843094,1078.4911577224732,1080.3412817716599,1049.9394376039504,1045.6897354841233,1042.4404428482055,1074.7627636909485,1088.6140061378478,1037.3516236066819,1052.4797366142272,1058.1545270204545,1079.725005841255,1049.3913203001023,1069.7785495758058,1071.893361234665,1041.8492573022843,1067.2858700513839,1033.917875480652,1075.5084909915925,1075.9199424505234,1081.1119964361192,1082.3035836696624,1072.764274930954,1051.5814207315445,1042.0089975595474,1039.4353214740754,1041.9925720453261,1075.976454782486,1104.205859375,1056.5653158664704,1054.478480052948,1054.3128525972365,1071.031885457039,1063.278342938423,1077.229965686798,1035.3256218910217,1038.8339392662049,1090.226400256157,1069.8231082677842,1057.842178106308,1052.8990099430084,1047.0279408931733,1045.915050983429,1066.205805850029,1064.8776514053345,1072.2994989395143],\"type\":\"bar\"},{\"base\":[1062.369104385376,1073.0000865221023,1066.0100021600724,1058.0872583150863,1048.3308802843094,1078.4911577224732,1080.3412817716599,1049.9394376039504,1045.6897354841233,1042.4404428482055,1074.7627636909485,1088.6140061378478,1037.3516236066819,1052.4797366142272,1058.1545270204545,1079.725005841255,1049.3913203001023,1069.7785495758058,1071.893361234665,1041.8492573022843,1067.2858700513839,1033.917875480652,1075.5084909915925,1075.9199424505234,1081.1119964361192,1082.3035836696624,1072.764274930954,1051.5814207315445,1042.0089975595474,1039.4353214740754,1041.9925720453261,1075.976454782486,1104.205859375,1056.5653158664704,1054.478480052948,1054.3128525972365,1071.031885457039,1063.278342938423,1077.229965686798,1035.3256218910217,1038.8339392662049,1090.226400256157,1069.8231082677842,1057.842178106308,1052.8990099430084,1047.0279408931733,1045.915050983429,1066.205805850029,1064.8776514053345,1072.2994989395143],\"name\":\"Sequence reconstruction\",\"offsetgroup\":\"1\",\"text\":[\"\\u003cb\\u003e100.0%\\u003c\\u002fb\\u003e\",\"\\u003cb\\u003e100.0%\\u003c\\u002fb\\u003e\",\"\\u003cb\\u003e100.0%\\u003c\\u002fb\\u003e\",\"\\u003cb\\u003e100.0%\\u003c\\u002fb\\u003e\",\"\\u003cb\\u003e100.0%\\u003c\\u002fb\\u003e\",\"\\u003cb\\u003e100.0%\\u003c\\u002fb\\u003e\",\"\\u003cb\\u003e100.0%\\u003c\\u002fb\\u003e\",\"\\u003cb\\u003e100.0%\\u003c\\u002fb\\u003e\",\"\\u003cb\\u003e100.0%\\u003c\\u002fb\\u003e\",\"\\u003cb\\u003e100.0%\\u003c\\u002fb\\u003e\"],\"textposition\":\"outside\",\"x\":[\"0\",\"1\",\"2\",\"3\",\"4\",\"5\",\"6\",\"7\",\"8\",\"9\"],\"y\":[216.386448097229,216.9845267534256,217.27791390419006,218.07359192371368,217.90404272079468,217.5473834514618,216.67316029071807,217.0102926492691,217.19118490219117,217.20463840961457,216.96033883094788,216.69639983177186,217.05136914253234,217.74861745834352,218.33838448524475,219.42977499961853,217.3924864053726,216.65924108028412,216.87155821323395,217.22439908981323,217.49836478233337,217.27060515880584,217.4408841609955,217.34135527610778,217.56292042732238,218.3206748008728,217.99333052635194,218.43719379901887,216.03604860305785,216.47547659873962,216.59112956523896,216.6998613357544,216.55755286216737,217.74387543201448,217.25529971122742,217.971755361557,217.78825726509095,217.81876180171966,217.50416882038115,216.85270490646363,217.1746285676956,217.61494646072387,217.4327974319458,217.4391048192978,217.22246479988098,214.90762996673584,215.33690936565398,215.54646003246307,216.03888969421388,215.70594799518585],\"type\":\"bar\"}],                        {\"title\":{\"text\":\"Raphanus sativus with Generated Reads: Suffix Array and Sequitur vs De Bruijn Graph and Euler Path\"},\"yaxis\":{\"title\":{\"text\":\"time (s)\"}},\"template\":{\"data\":{\"histogram2dcontour\":[{\"type\":\"histogram2dcontour\",\"colorbar\":{\"outlinewidth\":0,\"ticks\":\"\"},\"colorscale\":[[0.0,\"#0d0887\"],[0.1111111111111111,\"#46039f\"],[0.2222222222222222,\"#7201a8\"],[0.3333333333333333,\"#9c179e\"],[0.4444444444444444,\"#bd3786\"],[0.5555555555555556,\"#d8576b\"],[0.6666666666666666,\"#ed7953\"],[0.7777777777777778,\"#fb9f3a\"],[0.8888888888888888,\"#fdca26\"],[1.0,\"#f0f921\"]]}],\"choropleth\":[{\"type\":\"choropleth\",\"colorbar\":{\"outlinewidth\":0,\"ticks\":\"\"}}],\"histogram2d\":[{\"type\":\"histogram2d\",\"colorbar\":{\"outlinewidth\":0,\"ticks\":\"\"},\"colorscale\":[[0.0,\"#0d0887\"],[0.1111111111111111,\"#46039f\"],[0.2222222222222222,\"#7201a8\"],[0.3333333333333333,\"#9c179e\"],[0.4444444444444444,\"#bd3786\"],[0.5555555555555556,\"#d8576b\"],[0.6666666666666666,\"#ed7953\"],[0.7777777777777778,\"#fb9f3a\"],[0.8888888888888888,\"#fdca26\"],[1.0,\"#f0f921\"]]}],\"heatmap\":[{\"type\":\"heatmap\",\"colorbar\":{\"outlinewidth\":0,\"ticks\":\"\"},\"colorscale\":[[0.0,\"#0d0887\"],[0.1111111111111111,\"#46039f\"],[0.2222222222222222,\"#7201a8\"],[0.3333333333333333,\"#9c179e\"],[0.4444444444444444,\"#bd3786\"],[0.5555555555555556,\"#d8576b\"],[0.6666666666666666,\"#ed7953\"],[0.7777777777777778,\"#fb9f3a\"],[0.8888888888888888,\"#fdca26\"],[1.0,\"#f0f921\"]]}],\"heatmapgl\":[{\"type\":\"heatmapgl\",\"colorbar\":{\"outlinewidth\":0,\"ticks\":\"\"},\"colorscale\":[[0.0,\"#0d0887\"],[0.1111111111111111,\"#46039f\"],[0.2222222222222222,\"#7201a8\"],[0.3333333333333333,\"#9c179e\"],[0.4444444444444444,\"#bd3786\"],[0.5555555555555556,\"#d8576b\"],[0.6666666666666666,\"#ed7953\"],[0.7777777777777778,\"#fb9f3a\"],[0.8888888888888888,\"#fdca26\"],[1.0,\"#f0f921\"]]}],\"contourcarpet\":[{\"type\":\"contourcarpet\",\"colorbar\":{\"outlinewidth\":0,\"ticks\":\"\"}}],\"contour\":[{\"type\":\"contour\",\"colorbar\":{\"outlinewidth\":0,\"ticks\":\"\"},\"colorscale\":[[0.0,\"#0d0887\"],[0.1111111111111111,\"#46039f\"],[0.2222222222222222,\"#7201a8\"],[0.3333333333333333,\"#9c179e\"],[0.4444444444444444,\"#bd3786\"],[0.5555555555555556,\"#d8576b\"],[0.6666666666666666,\"#ed7953\"],[0.7777777777777778,\"#fb9f3a\"],[0.8888888888888888,\"#fdca26\"],[1.0,\"#f0f921\"]]}],\"surface\":[{\"type\":\"surface\",\"colorbar\":{\"outlinewidth\":0,\"ticks\":\"\"},\"colorscale\":[[0.0,\"#0d0887\"],[0.1111111111111111,\"#46039f\"],[0.2222222222222222,\"#7201a8\"],[0.3333333333333333,\"#9c179e\"],[0.4444444444444444,\"#bd3786\"],[0.5555555555555556,\"#d8576b\"],[0.6666666666666666,\"#ed7953\"],[0.7777777777777778,\"#fb9f3a\"],[0.8888888888888888,\"#fdca26\"],[1.0,\"#f0f921\"]]}],\"mesh3d\":[{\"type\":\"mesh3d\",\"colorbar\":{\"outlinewidth\":0,\"ticks\":\"\"}}],\"scatter\":[{\"fillpattern\":{\"fillmode\":\"overlay\",\"size\":10,\"solidity\":0.2},\"type\":\"scatter\"}],\"parcoords\":[{\"type\":\"parcoords\",\"line\":{\"colorbar\":{\"outlinewidth\":0,\"ticks\":\"\"}}}],\"scatterpolargl\":[{\"type\":\"scatterpolargl\",\"marker\":{\"colorbar\":{\"outlinewidth\":0,\"ticks\":\"\"}}}],\"bar\":[{\"error_x\":{\"color\":\"#2a3f5f\"},\"error_y\":{\"color\":\"#2a3f5f\"},\"marker\":{\"line\":{\"color\":\"#E5ECF6\",\"width\":0.5},\"pattern\":{\"fillmode\":\"overlay\",\"size\":10,\"solidity\":0.2}},\"type\":\"bar\"}],\"scattergeo\":[{\"type\":\"scattergeo\",\"marker\":{\"colorbar\":{\"outlinewidth\":0,\"ticks\":\"\"}}}],\"scatterpolar\":[{\"type\":\"scatterpolar\",\"marker\":{\"colorbar\":{\"outlinewidth\":0,\"ticks\":\"\"}}}],\"histogram\":[{\"marker\":{\"pattern\":{\"fillmode\":\"overlay\",\"size\":10,\"solidity\":0.2}},\"type\":\"histogram\"}],\"scattergl\":[{\"type\":\"scattergl\",\"marker\":{\"colorbar\":{\"outlinewidth\":0,\"ticks\":\"\"}}}],\"scatter3d\":[{\"type\":\"scatter3d\",\"line\":{\"colorbar\":{\"outlinewidth\":0,\"ticks\":\"\"}},\"marker\":{\"colorbar\":{\"outlinewidth\":0,\"ticks\":\"\"}}}],\"scattermapbox\":[{\"type\":\"scattermapbox\",\"marker\":{\"colorbar\":{\"outlinewidth\":0,\"ticks\":\"\"}}}],\"scatterternary\":[{\"type\":\"scatterternary\",\"marker\":{\"colorbar\":{\"outlinewidth\":0,\"ticks\":\"\"}}}],\"scattercarpet\":[{\"type\":\"scattercarpet\",\"marker\":{\"colorbar\":{\"outlinewidth\":0,\"ticks\":\"\"}}}],\"carpet\":[{\"aaxis\":{\"endlinecolor\":\"#2a3f5f\",\"gridcolor\":\"white\",\"linecolor\":\"white\",\"minorgridcolor\":\"white\",\"startlinecolor\":\"#2a3f5f\"},\"baxis\":{\"endlinecolor\":\"#2a3f5f\",\"gridcolor\":\"white\",\"linecolor\":\"white\",\"minorgridcolor\":\"white\",\"startlinecolor\":\"#2a3f5f\"},\"type\":\"carpet\"}],\"table\":[{\"cells\":{\"fill\":{\"color\":\"#EBF0F8\"},\"line\":{\"color\":\"white\"}},\"header\":{\"fill\":{\"color\":\"#C8D4E3\"},\"line\":{\"color\":\"white\"}},\"type\":\"table\"}],\"barpolar\":[{\"marker\":{\"line\":{\"color\":\"#E5ECF6\",\"width\":0.5},\"pattern\":{\"fillmode\":\"overlay\",\"size\":10,\"solidity\":0.2}},\"type\":\"barpolar\"}],\"pie\":[{\"automargin\":true,\"type\":\"pie\"}]},\"layout\":{\"autotypenumbers\":\"strict\",\"colorway\":[\"#636efa\",\"#EF553B\",\"#00cc96\",\"#ab63fa\",\"#FFA15A\",\"#19d3f3\",\"#FF6692\",\"#B6E880\",\"#FF97FF\",\"#FECB52\"],\"font\":{\"color\":\"#2a3f5f\"},\"hovermode\":\"closest\",\"hoverlabel\":{\"align\":\"left\"},\"paper_bgcolor\":\"white\",\"plot_bgcolor\":\"#E5ECF6\",\"polar\":{\"bgcolor\":\"#E5ECF6\",\"angularaxis\":{\"gridcolor\":\"white\",\"linecolor\":\"white\",\"ticks\":\"\"},\"radialaxis\":{\"gridcolor\":\"white\",\"linecolor\":\"white\",\"ticks\":\"\"}},\"ternary\":{\"bgcolor\":\"#E5ECF6\",\"aaxis\":{\"gridcolor\":\"white\",\"linecolor\":\"white\",\"ticks\":\"\"},\"baxis\":{\"gridcolor\":\"white\",\"linecolor\":\"white\",\"ticks\":\"\"},\"caxis\":{\"gridcolor\":\"white\",\"linecolor\":\"white\",\"ticks\":\"\"}},\"coloraxis\":{\"colorbar\":{\"outlinewidth\":0,\"ticks\":\"\"}},\"colorscale\":{\"sequential\":[[0.0,\"#0d0887\"],[0.1111111111111111,\"#46039f\"],[0.2222222222222222,\"#7201a8\"],[0.3333333333333333,\"#9c179e\"],[0.4444444444444444,\"#bd3786\"],[0.5555555555555556,\"#d8576b\"],[0.6666666666666666,\"#ed7953\"],[0.7777777777777778,\"#fb9f3a\"],[0.8888888888888888,\"#fdca26\"],[1.0,\"#f0f921\"]],\"sequentialminus\":[[0.0,\"#0d0887\"],[0.1111111111111111,\"#46039f\"],[0.2222222222222222,\"#7201a8\"],[0.3333333333333333,\"#9c179e\"],[0.4444444444444444,\"#bd3786\"],[0.5555555555555556,\"#d8576b\"],[0.6666666666666666,\"#ed7953\"],[0.7777777777777778,\"#fb9f3a\"],[0.8888888888888888,\"#fdca26\"],[1.0,\"#f0f921\"]],\"diverging\":[[0,\"#8e0152\"],[0.1,\"#c51b7d\"],[0.2,\"#de77ae\"],[0.3,\"#f1b6da\"],[0.4,\"#fde0ef\"],[0.5,\"#f7f7f7\"],[0.6,\"#e6f5d0\"],[0.7,\"#b8e186\"],[0.8,\"#7fbc41\"],[0.9,\"#4d9221\"],[1,\"#276419\"]]},\"xaxis\":{\"gridcolor\":\"white\",\"linecolor\":\"white\",\"ticks\":\"\",\"title\":{\"standoff\":15},\"zerolinecolor\":\"white\",\"automargin\":true,\"zerolinewidth\":2},\"yaxis\":{\"gridcolor\":\"white\",\"linecolor\":\"white\",\"ticks\":\"\",\"title\":{\"standoff\":15},\"zerolinecolor\":\"white\",\"automargin\":true,\"zerolinewidth\":2},\"scene\":{\"xaxis\":{\"backgroundcolor\":\"#E5ECF6\",\"gridcolor\":\"white\",\"linecolor\":\"white\",\"showbackground\":true,\"ticks\":\"\",\"zerolinecolor\":\"white\",\"gridwidth\":2},\"yaxis\":{\"backgroundcolor\":\"#E5ECF6\",\"gridcolor\":\"white\",\"linecolor\":\"white\",\"showbackground\":true,\"ticks\":\"\",\"zerolinecolor\":\"white\",\"gridwidth\":2},\"zaxis\":{\"backgroundcolor\":\"#E5ECF6\",\"gridcolor\":\"white\",\"linecolor\":\"white\",\"showbackground\":true,\"ticks\":\"\",\"zerolinecolor\":\"white\",\"gridwidth\":2}},\"shapedefaults\":{\"line\":{\"color\":\"#2a3f5f\"}},\"annotationdefaults\":{\"arrowcolor\":\"#2a3f5f\",\"arrowhead\":0,\"arrowwidth\":1},\"geo\":{\"bgcolor\":\"white\",\"landcolor\":\"#E5ECF6\",\"subunitcolor\":\"white\",\"showland\":true,\"showlakes\":true,\"lakecolor\":\"white\"},\"title\":{\"x\":0.05},\"mapbox\":{\"style\":\"light\"}}}},                        {\"responsive\": true}                    )                };                            </script>        </div>"
      ],
      "text/plain": [
       "Figure({\n",
       "    'data': [{'name': 'De Bruijn Graph construction',\n",
       "              'offsetgroup': '0',\n",
       "              'type': 'bar',\n",
       "              'x': [0, 1, 2, 3, 4, 5, 6, 7, 8, 9],\n",
       "              'y': array([2.61226663, 2.65840618, 2.64909406, 2.66195851, 2.66127944, 2.64254475,\n",
       "                          2.88381635, 2.80029595, 2.80229408, 2.80100154, 2.83093601, 2.58209852,\n",
       "                          2.81977973, 2.82488868, 2.82243146, 2.85051888, 2.86418995, 2.60651735,\n",
       "                          2.52800853, 2.5156058 , 2.50654603, 2.50895679, 2.58460271, 2.69067959,\n",
       "                          2.68377431, 2.66584704, 2.69569985, 2.67219365, 2.80273621, 2.79165932,\n",
       "                          2.79439331, 2.81671682, 2.83004031, 2.59348083, 2.67689718, 2.56662165,\n",
       "                          2.5807166 , 2.57950116, 2.56005984, 2.65356959, 2.62908213, 2.64348158,\n",
       "                          2.63444807, 2.64696158, 2.58359999, 2.77398258, 2.74240814, 2.7398949 ,\n",
       "                          2.75285397, 2.7674044 ])},\n",
       "             {'base': array([2.612266627172144, 2.6584061766833806, 2.6490940644101397,\n",
       "                             2.6619585080263093, 2.661279437716414, 2.642544750585789,\n",
       "                             2.8838163468895877, 2.8002959540995147, 2.8022940791525497,\n",
       "                             2.801001541556381, 2.8309360114539532, 2.5820985240471077,\n",
       "                             2.819779725307369, 2.8248886794578754, 2.8224314623344227,\n",
       "                             2.8505188818675715, 2.864189952175793, 2.606517351545939,\n",
       "                             2.5280085295002634, 2.5156057964883214, 2.5065460338825134,\n",
       "                             2.5089567933431485, 2.584602706606795, 2.6906795895971904,\n",
       "                             2.683774306832291, 2.6658470378270978, 2.6956998469189886,\n",
       "                             2.672193654339487, 2.8027362055894818, 2.791659319575239,\n",
       "                             2.794393312640309, 2.816716819391015, 2.8300403129763727,\n",
       "                             2.593480826238305, 2.676897176882113, 2.566621647462612,\n",
       "                             2.5807165993713737, 2.579501156923248, 2.5600598400395085,\n",
       "                             2.6535695863351583, 2.6290821335955377, 2.6434815780127927,\n",
       "                             2.63444807366627, 2.6469615832770748, 2.5835999878441416,\n",
       "                             2.773982578719534, 2.7424081432528604, 2.739894899275245,\n",
       "                             2.752853965410371, 2.7674044024072044], dtype=object),\n",
       "              'name': 'Euler Path reconstruction',\n",
       "              'offsetgroup': '0',\n",
       "              'text': [<b>0.01%</b>, <b>0.01%</b>, <b>0.01%</b>, <b>0.01%</b>,\n",
       "                       <b>0.01%</b>, <b>0.01%</b>, <b>0.01%</b>, <b>0.01%</b>,\n",
       "                       <b>0.01%</b>, <b>0.01%</b>],\n",
       "              'textposition': 'outside',\n",
       "              'type': 'bar',\n",
       "              'x': [0, 1, 2, 3, 4, 5, 6, 7, 8, 9],\n",
       "              'y': array([0.33540597, 0.34210571, 0.34665675, 0.34410124, 0.3425742 , 0.34427438,\n",
       "                          0.3659515 , 0.37106709, 0.37663324, 0.36814226, 0.37942314, 0.3298222 ,\n",
       "                          0.37585396, 0.36801529, 0.36722489, 0.37069238, 0.37152794, 0.33340526,\n",
       "                          0.33025654, 0.33354562, 0.32878563, 0.3238474 , 0.33689321, 0.34256818,\n",
       "                          0.34244216, 0.33654728, 0.33498873, 0.34519149, 0.36603969, 0.36786689,\n",
       "                          0.37413694, 0.36971728, 0.36875087, 0.33462484, 0.34272074, 0.33425592,\n",
       "                          0.3312571 , 0.33275457, 0.33786523, 0.34749029, 0.34455426, 0.3454203 ,\n",
       "                          0.34385981, 0.34140396, 0.3366049 , 0.35094519, 0.34747328, 0.35004364,\n",
       "                          0.34594205, 0.34255814])},\n",
       "             {'name': 'Suffix Array construction',\n",
       "              'offsetgroup': '1',\n",
       "              'type': 'bar',\n",
       "              'x': [0, 1, 2, 3, 4, 5, 6, 7, 8, 9],\n",
       "              'y': array([13.66321974, 13.5389039 , 13.7001111 , 13.72021866, 13.6174715 ,\n",
       "                          13.90812485, 13.92692187, 13.74803579, 13.73043792, 13.864291  ,\n",
       "                          14.2288595 , 13.84523041, 13.2964421 , 13.6433723 , 14.01627839,\n",
       "                          14.07030225, 13.7834523 , 13.57731571, 14.0513978 , 13.75414803,\n",
       "                          14.07211585, 13.49752467, 14.10316226, 13.79975893, 13.97099893,\n",
       "                          14.32771547, 14.22455754, 13.86129515, 13.48384275, 13.69554262,\n",
       "                          13.6988246 , 14.14829617, 14.27613711, 13.92201731, 13.62137797,\n",
       "                          13.9477176 , 14.13298206, 13.99286976, 14.16330898, 13.45174189,\n",
       "                          13.76793001, 14.27019055, 14.14583373, 13.91710684, 13.7887609 ,\n",
       "                          13.53894615, 13.84904783, 14.10200558, 14.2482424 , 14.04140172])},\n",
       "             {'base': array([13.663219738006593, 13.538903903961181, 13.70011110305786,\n",
       "                             13.720218658447266, 13.617471504211426, 13.908124852180482,\n",
       "                             13.92692186832428, 13.748035788536072, 13.730437922477723,\n",
       "                             13.864291000366212, 14.228859496116637, 13.845230412483215,\n",
       "                             13.296442103385925, 13.643372297286987, 14.016278386116028,\n",
       "                             14.070302248001099, 13.78345229625702, 13.577315711975098,\n",
       "                             14.051397800445557, 13.754148030281067, 14.072115850448608,\n",
       "                             13.497524666786195, 14.103162264823913, 13.79975893497467,\n",
       "                             13.970998930931092, 14.327715468406677, 14.224557542800904,\n",
       "                             13.861295151710511, 13.483842754364014, 13.69554262161255,\n",
       "                             13.698824596405029, 14.14829616546631, 14.276137113571167,\n",
       "                             13.922017312049865, 13.621377968788147, 13.947717595100404,\n",
       "                             14.132982063293458, 13.992869758605957, 14.16330897808075,\n",
       "                             13.451741886138915, 13.767930006980896, 14.270190548896789,\n",
       "                             14.145833730697632, 13.91710684299469, 13.788760900497437,\n",
       "                             13.538946151733398, 13.849047827720643, 14.102005577087402,\n",
       "                             14.248242402076722, 14.041401720046997], dtype=object),\n",
       "              'name': 'Adjacency Matrix construction',\n",
       "              'offsetgroup': '1',\n",
       "              'type': 'bar',\n",
       "              'x': [0, 1, 2, 3, 4, 5, 6, 7, 8, 9],\n",
       "              'y': array([1062.36910439, 1073.00008652, 1066.01000216, 1058.08725832,\n",
       "                          1048.33088028, 1078.49115772, 1080.34128177, 1049.9394376 ,\n",
       "                          1045.68973548, 1042.44044285, 1074.76276369, 1088.61400614,\n",
       "                          1037.35162361, 1052.47973661, 1058.15452702, 1079.72500584,\n",
       "                          1049.3913203 , 1069.77854958, 1071.89336123, 1041.8492573 ,\n",
       "                          1067.28587005, 1033.91787548, 1075.50849099, 1075.91994245,\n",
       "                          1081.11199644, 1082.30358367, 1072.76427493, 1051.58142073,\n",
       "                          1042.00899756, 1039.43532147, 1041.99257205, 1075.97645478,\n",
       "                          1104.20585938, 1056.56531587, 1054.47848005, 1054.3128526 ,\n",
       "                          1071.03188546, 1063.27834294, 1077.22996569, 1035.32562189,\n",
       "                          1038.83393927, 1090.22640026, 1069.82310827, 1057.84217811,\n",
       "                          1052.89900994, 1047.02794089, 1045.91505098, 1066.20580585,\n",
       "                          1064.87765141, 1072.29949894])},\n",
       "             {'base': array([1062.369104385376, 1073.0000865221023, 1066.0100021600724,\n",
       "                             1058.0872583150863, 1048.3308802843094, 1078.4911577224732,\n",
       "                             1080.3412817716599, 1049.9394376039504, 1045.6897354841233,\n",
       "                             1042.4404428482055, 1074.7627636909485, 1088.6140061378478,\n",
       "                             1037.3516236066819, 1052.4797366142272, 1058.1545270204545,\n",
       "                             1079.725005841255, 1049.3913203001023, 1069.7785495758058,\n",
       "                             1071.893361234665, 1041.8492573022843, 1067.2858700513839,\n",
       "                             1033.917875480652, 1075.5084909915925, 1075.9199424505234,\n",
       "                             1081.1119964361192, 1082.3035836696624, 1072.764274930954,\n",
       "                             1051.5814207315445, 1042.0089975595474, 1039.4353214740754,\n",
       "                             1041.9925720453261, 1075.976454782486, 1104.205859375,\n",
       "                             1056.5653158664704, 1054.478480052948, 1054.3128525972365,\n",
       "                             1071.031885457039, 1063.278342938423, 1077.229965686798,\n",
       "                             1035.3256218910217, 1038.8339392662049, 1090.226400256157,\n",
       "                             1069.8231082677842, 1057.842178106308, 1052.8990099430084,\n",
       "                             1047.0279408931733, 1045.915050983429, 1066.205805850029,\n",
       "                             1064.8776514053345, 1072.2994989395143], dtype=object),\n",
       "              'name': 'Sequence reconstruction',\n",
       "              'offsetgroup': '1',\n",
       "              'text': [<b>100.0%</b>, <b>100.0%</b>, <b>100.0%</b>, <b>100.0%</b>,\n",
       "                       <b>100.0%</b>, <b>100.0%</b>, <b>100.0%</b>, <b>100.0%</b>,\n",
       "                       <b>100.0%</b>, <b>100.0%</b>],\n",
       "              'textposition': 'outside',\n",
       "              'type': 'bar',\n",
       "              'x': [0, 1, 2, 3, 4, 5, 6, 7, 8, 9],\n",
       "              'y': array([216.3864481 , 216.98452675, 217.2779139 , 218.07359192, 217.90404272,\n",
       "                          217.54738345, 216.67316029, 217.01029265, 217.1911849 , 217.20463841,\n",
       "                          216.96033883, 216.69639983, 217.05136914, 217.74861746, 218.33838449,\n",
       "                          219.429775  , 217.39248641, 216.65924108, 216.87155821, 217.22439909,\n",
       "                          217.49836478, 217.27060516, 217.44088416, 217.34135528, 217.56292043,\n",
       "                          218.3206748 , 217.99333053, 218.4371938 , 216.0360486 , 216.4754766 ,\n",
       "                          216.59112957, 216.69986134, 216.55755286, 217.74387543, 217.25529971,\n",
       "                          217.97175536, 217.78825727, 217.8187618 , 217.50416882, 216.85270491,\n",
       "                          217.17462857, 217.61494646, 217.43279743, 217.43910482, 217.2224648 ,\n",
       "                          214.90762997, 215.33690937, 215.54646003, 216.03888969, 215.705948  ])}],\n",
       "    'layout': {'template': '...',\n",
       "               'title': {'text': ('Raphanus sativus with Generate' ... 'De Bruijn Graph and Euler Path')},\n",
       "               'yaxis': {'title': {'text': 'time (s)'}}}\n",
       "})"
      ]
     },
     "execution_count": 12,
     "metadata": {},
     "output_type": "execute_result"
    }
   ],
   "source": [
    "df_realseq_eul = pd.DataFrame()\n",
    "i = 0\n",
    "for file in os.listdir('data/output/cluster/real sequence/euler'):\n",
    "    df = pd.read_csv('data/output/cluster/real sequence/euler/'+file)\n",
    "    df['sequence'] = i\n",
    "    i += 1\n",
    "    df_realseq_eul = pd.concat([df_realseq_eul,df])\n",
    "df_realseq_eul_mean = pd.DataFrame()\n",
    "for i in range(50): df_realseq_eul_mean = pd.concat([df_realseq_eul_mean,df_realseq_eul[df_realseq_eul['sequence']==i].groupby(\"k\").mean().mean()[[\"sequence\",\"edit_distance\",\"de_bruijn_graph_construction_time\",'euler_path_reconstruction_time']]],axis=1)\n",
    "df_realseq_eul_mean = df_realseq_eul_mean.T.set_index('sequence')\n",
    "\n",
    "df_real_seq = pd.DataFrame()\n",
    "i = 0\n",
    "for file in os.listdir('data/output/cluster/real sequence/sequitur'):\n",
    "    df = pd.read_csv('data/output/cluster/real sequence/sequitur/'+file)\n",
    "    df['sequence'] = i\n",
    "    i += 1\n",
    "    df_real_seq = pd.concat([df_real_seq,df])\n",
    "df_real_seq_mean = pd.DataFrame()\n",
    "for i in range(50): df_real_seq_mean = pd.concat([df_real_seq_mean,df_real_seq[df_real_seq['sequence']==i].mean()[[\"sequence\",\"edit_distance\",\"suffix_array_construction_time\",'adjacency_matrix_construction_time','sequence_reconstruction_time']]],axis=1)\n",
    "df_real_seq_mean = df_real_seq_mean.T.set_index('sequence')\n",
    "\n",
    "labels = list('{}'.format(i) for i in range(10))\n",
    "\n",
    "fig = go.Figure(\n",
    "    data=[\n",
    "        go.Bar(\n",
    "            name=\"De Bruijn Graph construction\",\n",
    "            x=labels,\n",
    "            y=df_realseq_eul_mean['de_bruijn_graph_construction_time'],\n",
    "            offsetgroup=0,\n",
    "        ),\n",
    "        go.Bar(\n",
    "            name=\"Euler Path reconstruction\",\n",
    "            x=labels,\n",
    "            y=df_realseq_eul_mean['euler_path_reconstruction_time'],\n",
    "            text=list(\"<b>{}%</b>\".format(round((1-(df_realseq_eul[df_realseq_eul['sequence']==i]['edit_distance']/df_realseq_eul[df_realseq_eul['sequence']==i]['target_sequence_length'])).mean()*100,2)) for i in range(10)),\n",
    "            textposition='outside',offsetgroup=0,\n",
    "            base=df_realseq_eul_mean['de_bruijn_graph_construction_time'],\n",
    "        ),\n",
    "        go.Bar(\n",
    "            name=\"Suffix Array construction\",\n",
    "            x=labels,\n",
    "            y=df_real_seq_mean['suffix_array_construction_time'],\n",
    "            offsetgroup=1,\n",
    "        ),\n",
    "        go.Bar(\n",
    "            name=\"Adjacency Matrix construction\",\n",
    "            x=labels,\n",
    "            y=df_real_seq_mean['adjacency_matrix_construction_time'],\n",
    "            offsetgroup=1,\n",
    "            base=df_real_seq_mean['suffix_array_construction_time'],\n",
    "        ),\n",
    "        go.Bar(\n",
    "            name=\"Sequence reconstruction\",\n",
    "            x=labels,\n",
    "            y=df_real_seq_mean['sequence_reconstruction_time'],\n",
    "            text=list(\"<b>{}%</b>\".format(round((1-(df_real_seq[df_real_seq['sequence']==i]['edit_distance']/df_real_seq[df_real_seq['sequence']==i]['target_sequence_length'])).mean()*100,2)) for i in range(10)),\n",
    "            textposition='outside',offsetgroup=1,\n",
    "            base=df_real_seq_mean['adjacency_matrix_construction_time'],\n",
    "        )\n",
    "    ],\n",
    "    layout=go.Layout(\n",
    "        title=\"Raphanus sativus with Generated Reads: Suffix Array and Sequitur vs De Bruijn Graph and Euler Path\",\n",
    "        yaxis_title=\"time (s)\"\n",
    "    )\n",
    ")\n",
    "fig"
   ]
  },
  {
   "cell_type": "code",
   "execution_count": 13,
   "metadata": {},
   "outputs": [
    {
     "name": "stdout",
     "output_type": "stream",
     "text": [
      "0 & 0.01\\% & 0.114\\% & 2.948 & 100.0\\% & 0.0\\% & 1292.419\\\\\n",
      "1 & 0.01\\% & 0.114\\% & 3.001 & 100.0\\% & 0.0\\% & 1303.524\\\\\n",
      "2 & 0.01\\% & 0.114\\% & 2.996 & 100.0\\% & 0.0\\% & 1296.988\\\\\n",
      "3 & 0.01\\% & 0.114\\% & 3.006 & 100.0\\% & 0.0\\% & 1289.881\\\\\n",
      "4 & 0.01\\% & 0.114\\% & 3.004 & 100.0\\% & 0.0\\% & 1279.852\\\\\n",
      "5 & 0.01\\% & 0.114\\% & 2.987 & 100.0\\% & 0.0\\% & 1309.947\\\\\n",
      "6 & 0.01\\% & 0.114\\% & 3.25 & 100.0\\% & 0.0\\% & 1310.941\\\\\n",
      "7 & 0.01\\% & 0.114\\% & 3.171 & 100.0\\% & 0.0\\% & 1280.698\\\\\n",
      "8 & 0.01\\% & 0.114\\% & 3.179 & 100.0\\% & 0.0\\% & 1276.611\\\\\n",
      "9 & 0.01\\% & 0.114\\% & 3.169 & 100.0\\% & 0.0\\% & 1273.509\\\\\n",
      "10 & 0.01\\% & 0.114\\% & 3.21 & 100.0\\% & 0.0\\% & 1305.952\\\\\n",
      "11 & 0.01\\% & 0.114\\% & 2.912 & 100.0\\% & 0.0\\% & 1319.156\\\\\n",
      "12 & 0.01\\% & 0.114\\% & 3.196 & 100.0\\% & 0.0\\% & 1267.699\\\\\n",
      "13 & 0.01\\% & 0.114\\% & 3.193 & 100.0\\% & 0.0\\% & 1283.872\\\\\n",
      "14 & 0.01\\% & 0.114\\% & 3.19 & 100.0\\% & 0.0\\% & 1290.509\\\\\n",
      "15 & 0.01\\% & 0.114\\% & 3.221 & 100.0\\% & 0.0\\% & 1313.225\\\\\n",
      "16 & 0.01\\% & 0.114\\% & 3.236 & 100.0\\% & 0.0\\% & 1280.567\\\\\n",
      "17 & 0.01\\% & 0.114\\% & 2.94 & 100.0\\% & 0.0\\% & 1300.015\\\\\n",
      "18 & 0.01\\% & 0.114\\% & 2.858 & 100.0\\% & 0.0\\% & 1302.816\\\\\n",
      "19 & 0.01\\% & 0.114\\% & 2.849 & 100.0\\% & 0.0\\% & 1272.828\\\\\n",
      "20 & 0.01\\% & 0.114\\% & 2.835 & 100.0\\% & 0.0\\% & 1298.856\\\\\n",
      "21 & 0.01\\% & 0.114\\% & 2.833 & 100.0\\% & 0.0\\% & 1264.686\\\\\n",
      "22 & 0.01\\% & 0.114\\% & 2.921 & 100.0\\% & 0.0\\% & 1307.053\\\\\n",
      "23 & 0.01\\% & 0.114\\% & 3.033 & 100.0\\% & 0.0\\% & 1307.061\\\\\n",
      "24 & 0.01\\% & 0.114\\% & 3.026 & 100.0\\% & 0.0\\% & 1312.646\\\\\n",
      "25 & 0.01\\% & 0.114\\% & 3.002 & 100.0\\% & 0.0\\% & 1314.952\\\\\n",
      "26 & 0.01\\% & 0.114\\% & 3.031 & 100.0\\% & 0.0\\% & 1304.982\\\\\n",
      "27 & 0.01\\% & 0.114\\% & 3.017 & 100.0\\% & 0.0\\% & 1283.88\\\\\n",
      "28 & 0.01\\% & 0.114\\% & 3.169 & 100.0\\% & 0.0\\% & 1271.529\\\\\n",
      "29 & 0.01\\% & 0.114\\% & 3.16 & 100.0\\% & 0.0\\% & 1269.606\\\\\n",
      "30 & 0.01\\% & 0.114\\% & 3.169 & 100.0\\% & 0.0\\% & 1272.283\\\\\n",
      "31 & 0.01\\% & 0.114\\% & 3.186 & 100.0\\% & 0.0\\% & 1306.825\\\\\n",
      "32 & 0.01\\% & 0.114\\% & 3.199 & 100.0\\% & 0.0\\% & 1335.04\\\\\n",
      "33 & 0.01\\% & 0.114\\% & 2.928 & 100.0\\% & 0.0\\% & 1288.231\\\\\n",
      "34 & 0.01\\% & 0.114\\% & 3.02 & 100.0\\% & 0.0\\% & 1285.355\\\\\n",
      "35 & 0.01\\% & 0.114\\% & 2.901 & 100.0\\% & 0.0\\% & 1286.232\\\\\n",
      "36 & 0.01\\% & 0.114\\% & 2.912 & 100.0\\% & 0.0\\% & 1302.953\\\\\n",
      "37 & 0.01\\% & 0.114\\% & 2.912 & 100.0\\% & 0.0\\% & 1295.09\\\\\n",
      "38 & 0.01\\% & 0.114\\% & 2.898 & 100.0\\% & 0.0\\% & 1308.897\\\\\n",
      "39 & 0.01\\% & 0.114\\% & 3.001 & 100.0\\% & 0.0\\% & 1265.63\\\\\n",
      "40 & 0.01\\% & 0.114\\% & 2.974 & 100.0\\% & 0.0\\% & 1269.776\\\\\n",
      "41 & 0.01\\% & 0.114\\% & 2.989 & 100.0\\% & 0.0\\% & 1322.112\\\\\n",
      "42 & 0.01\\% & 0.114\\% & 2.978 & 100.0\\% & 0.0\\% & 1301.402\\\\\n",
      "43 & 0.01\\% & 0.114\\% & 2.988 & 100.0\\% & 0.0\\% & 1289.198\\\\\n",
      "44 & 0.01\\% & 0.114\\% & 2.92 & 100.0\\% & 0.0\\% & 1283.91\\\\\n",
      "45 & 0.01\\% & 0.114\\% & 3.125 & 100.0\\% & 0.0\\% & 1275.475\\\\\n",
      "46 & 0.01\\% & 0.114\\% & 3.09 & 100.0\\% & 0.0\\% & 1275.101\\\\\n",
      "47 & 0.01\\% & 0.114\\% & 3.09 & 100.0\\% & 0.0\\% & 1295.854\\\\\n",
      "48 & 0.01\\% & 0.114\\% & 3.099 & 100.0\\% & 0.0\\% & 1295.165\\\\\n",
      "49 & 0.01\\% & 0.114\\% & 3.11 & 100.0\\% & 0.0\\% & 1302.047\\\\\n",
      "\n"
     ]
    }
   ],
   "source": [
    "s = \"\"\n",
    "for i in range(50):\n",
    "    s += \"{} & {}\\% & {}\\% & {} & {}\\% & {}\\% & {}\\\\\\\\\\n\".format(\n",
    "        i,\n",
    "        round((1-(df_realseq_eul[df_realseq_eul['sequence']==i]['edit_distance']/df_realseq_eul[df_realseq_eul['sequence']==i]['target_sequence_length'])).mean()*100,3),\n",
    "        round((1-(df_realseq_eul[df_realseq_eul['sequence']==i]['edit_distance']/df_realseq_eul[df_realseq_eul['sequence']==i]['target_sequence_length'])).std()*100,3),\n",
    "        round(df_realseq_eul_mean.loc[i][['de_bruijn_graph_construction_time','euler_path_reconstruction_time']].sum(),3),\n",
    "        round((1-(df_real_seq[df_real_seq['sequence']==i]['edit_distance']/df_real_seq[df_real_seq['sequence']==i]['target_sequence_length'])).mean()*100,3),\n",
    "        round((1-(df_real_seq[df_real_seq['sequence']==i]['edit_distance']/df_real_seq[df_real_seq['sequence']==i]['target_sequence_length'])).std()*100,3),\n",
    "        round(df_real_seq_mean.loc[i][['adjacency_matrix_construction_time','sequence_reconstruction_time','suffix_array_construction_time']].sum(),3)\n",
    "    )\n",
    "print(s)"
   ]
  },
  {
   "cell_type": "code",
   "execution_count": 333,
   "metadata": {},
   "outputs": [
    {
     "ename": "ValueError",
     "evalue": "Mime type rendering requires nbformat>=4.2.0 but it is not installed",
     "output_type": "error",
     "traceback": [
      "\u001b[1;31m---------------------------------------------------------------------------\u001b[0m",
      "\u001b[1;31mValueError\u001b[0m                                Traceback (most recent call last)",
      "File \u001b[1;32mc:\\Users\\A0068449\\Documents\\GitHub\\Sequitur\\.venv\\Lib\\site-packages\\IPython\\core\\formatters.py:922\u001b[0m, in \u001b[0;36mIPythonDisplayFormatter.__call__\u001b[1;34m(self, obj)\u001b[0m\n\u001b[0;32m    920\u001b[0m method \u001b[38;5;241m=\u001b[39m get_real_method(obj, \u001b[38;5;28mself\u001b[39m\u001b[38;5;241m.\u001b[39mprint_method)\n\u001b[0;32m    921\u001b[0m \u001b[38;5;28;01mif\u001b[39;00m method \u001b[38;5;129;01mis\u001b[39;00m \u001b[38;5;129;01mnot\u001b[39;00m \u001b[38;5;28;01mNone\u001b[39;00m:\n\u001b[1;32m--> 922\u001b[0m     \u001b[43mmethod\u001b[49m\u001b[43m(\u001b[49m\u001b[43m)\u001b[49m\n\u001b[0;32m    923\u001b[0m     \u001b[38;5;28;01mreturn\u001b[39;00m \u001b[38;5;28;01mTrue\u001b[39;00m\n",
      "File \u001b[1;32mc:\\Users\\A0068449\\Documents\\GitHub\\Sequitur\\.venv\\Lib\\site-packages\\plotly\\basedatatypes.py:832\u001b[0m, in \u001b[0;36mBaseFigure._ipython_display_\u001b[1;34m(self)\u001b[0m\n\u001b[0;32m    829\u001b[0m \u001b[38;5;28;01mimport\u001b[39;00m \u001b[38;5;21;01mplotly\u001b[39;00m\u001b[38;5;21;01m.\u001b[39;00m\u001b[38;5;21;01mio\u001b[39;00m \u001b[38;5;28;01mas\u001b[39;00m \u001b[38;5;21;01mpio\u001b[39;00m\n\u001b[0;32m    831\u001b[0m \u001b[38;5;28;01mif\u001b[39;00m pio\u001b[38;5;241m.\u001b[39mrenderers\u001b[38;5;241m.\u001b[39mrender_on_display \u001b[38;5;129;01mand\u001b[39;00m pio\u001b[38;5;241m.\u001b[39mrenderers\u001b[38;5;241m.\u001b[39mdefault:\n\u001b[1;32m--> 832\u001b[0m     \u001b[43mpio\u001b[49m\u001b[38;5;241;43m.\u001b[39;49m\u001b[43mshow\u001b[49m\u001b[43m(\u001b[49m\u001b[38;5;28;43mself\u001b[39;49m\u001b[43m)\u001b[49m\n\u001b[0;32m    833\u001b[0m \u001b[38;5;28;01melse\u001b[39;00m:\n\u001b[0;32m    834\u001b[0m     \u001b[38;5;28mprint\u001b[39m(\u001b[38;5;28mrepr\u001b[39m(\u001b[38;5;28mself\u001b[39m))\n",
      "File \u001b[1;32mc:\\Users\\A0068449\\Documents\\GitHub\\Sequitur\\.venv\\Lib\\site-packages\\plotly\\io\\_renderers.py:394\u001b[0m, in \u001b[0;36mshow\u001b[1;34m(fig, renderer, validate, **kwargs)\u001b[0m\n\u001b[0;32m    389\u001b[0m         \u001b[38;5;28;01mraise\u001b[39;00m \u001b[38;5;167;01mValueError\u001b[39;00m(\n\u001b[0;32m    390\u001b[0m             \u001b[38;5;124m\"\u001b[39m\u001b[38;5;124mMime type rendering requires ipython but it is not installed\u001b[39m\u001b[38;5;124m\"\u001b[39m\n\u001b[0;32m    391\u001b[0m         )\n\u001b[0;32m    393\u001b[0m     \u001b[38;5;28;01mif\u001b[39;00m \u001b[38;5;129;01mnot\u001b[39;00m nbformat \u001b[38;5;129;01mor\u001b[39;00m Version(nbformat\u001b[38;5;241m.\u001b[39m__version__) \u001b[38;5;241m<\u001b[39m Version(\u001b[38;5;124m\"\u001b[39m\u001b[38;5;124m4.2.0\u001b[39m\u001b[38;5;124m\"\u001b[39m):\n\u001b[1;32m--> 394\u001b[0m         \u001b[38;5;28;01mraise\u001b[39;00m \u001b[38;5;167;01mValueError\u001b[39;00m(\n\u001b[0;32m    395\u001b[0m             \u001b[38;5;124m\"\u001b[39m\u001b[38;5;124mMime type rendering requires nbformat>=4.2.0 but it is not installed\u001b[39m\u001b[38;5;124m\"\u001b[39m\n\u001b[0;32m    396\u001b[0m         )\n\u001b[0;32m    398\u001b[0m     ipython_display\u001b[38;5;241m.\u001b[39mdisplay(bundle, raw\u001b[38;5;241m=\u001b[39m\u001b[38;5;28;01mTrue\u001b[39;00m)\n\u001b[0;32m    400\u001b[0m \u001b[38;5;66;03m# external renderers\u001b[39;00m\n",
      "\u001b[1;31mValueError\u001b[0m: Mime type rendering requires nbformat>=4.2.0 but it is not installed"
     ]
    },
    {
     "data": {
      "application/vnd.plotly.v1+json": {
       "config": {
        "plotlyServerURL": "https://plot.ly"
       },
       "data": [
        {
         "name": "De Bruijn Graph construction",
         "offsetgroup": "0",
         "type": "bar",
         "x": [
          "10",
          "11",
          "12",
          "13",
          "14",
          "15",
          "16",
          "17",
          "18",
          "19"
         ],
         "y": [
          2.612266627172144,
          2.6584061766833806,
          2.6490940644101397,
          2.6619585080263093,
          2.661279437716414,
          2.642544750585789,
          2.8838163468895877,
          2.8002959540995147,
          2.8022940791525497,
          2.801001541556381,
          2.8309360114539532,
          2.5820985240471077,
          2.819779725307369,
          2.8248886794578754,
          2.8224314623344227,
          2.8505188818675715,
          2.864189952175793,
          2.606517351545939,
          2.5280085295002634,
          2.5156057964883214,
          2.5065460338825134,
          2.5089567933431485,
          2.584602706606795,
          2.6906795895971904,
          2.683774306832291,
          2.6658470378270978,
          2.6956998469189886,
          2.672193654339487,
          2.8027362055894818,
          2.791659319575239,
          2.794393312640309,
          2.816716819391015,
          2.8300403129763727,
          2.593480826238305,
          2.676897176882113,
          2.566621647462612,
          2.5807165993713737,
          2.579501156923248,
          2.5600598400395085,
          2.6535695863351583,
          2.6290821335955377,
          2.6434815780127927,
          2.63444807366627,
          2.6469615832770748,
          2.5835999878441416,
          2.773982578719534,
          2.7424081432528604,
          2.739894899275245,
          2.752853965410371,
          2.7674044024072044
         ]
        },
        {
         "base": [
          2.612266627172144,
          2.6584061766833806,
          2.6490940644101397,
          2.6619585080263093,
          2.661279437716414,
          2.642544750585789,
          2.8838163468895877,
          2.8002959540995147,
          2.8022940791525497,
          2.801001541556381,
          2.8309360114539532,
          2.5820985240471077,
          2.819779725307369,
          2.8248886794578754,
          2.8224314623344227,
          2.8505188818675715,
          2.864189952175793,
          2.606517351545939,
          2.5280085295002634,
          2.5156057964883214,
          2.5065460338825134,
          2.5089567933431485,
          2.584602706606795,
          2.6906795895971904,
          2.683774306832291,
          2.6658470378270978,
          2.6956998469189886,
          2.672193654339487,
          2.8027362055894818,
          2.791659319575239,
          2.794393312640309,
          2.816716819391015,
          2.8300403129763727,
          2.593480826238305,
          2.676897176882113,
          2.566621647462612,
          2.5807165993713737,
          2.579501156923248,
          2.5600598400395085,
          2.6535695863351583,
          2.6290821335955377,
          2.6434815780127927,
          2.63444807366627,
          2.6469615832770748,
          2.5835999878441416,
          2.773982578719534,
          2.7424081432528604,
          2.739894899275245,
          2.752853965410371,
          2.7674044024072044
         ],
         "name": "Euler Path reconstruction",
         "offsetgroup": "0",
         "text": [
          "<b>0.01%</b>",
          "<b>0.01%</b>",
          "<b>0.01%</b>",
          "<b>0.01%</b>",
          "<b>0.01%</b>",
          "<b>0.01%</b>",
          "<b>0.01%</b>",
          "<b>0.01%</b>",
          "<b>0.01%</b>",
          "<b>0.01%</b>"
         ],
         "textposition": "outside",
         "type": "bar",
         "x": [
          "10",
          "11",
          "12",
          "13",
          "14",
          "15",
          "16",
          "17",
          "18",
          "19"
         ],
         "y": [
          0.335405974620726,
          0.34210571196021106,
          0.3466567526794063,
          0.34410124139087966,
          0.3425742041192403,
          0.3442743798000061,
          0.36595150331171555,
          0.371067086778036,
          0.37663323565227225,
          0.36814225755086777,
          0.37942313822304313,
          0.32982219835607024,
          0.37585395999071064,
          0.368015292330486,
          0.36722489066240277,
          0.3706923803469031,
          0.37152794151771384,
          0.33340525545725025,
          0.3302565431594848,
          0.3335456241049419,
          0.32878563031917646,
          0.323847402712194,
          0.3368932073872264,
          0.34256817526933625,
          0.3424421593038048,
          0.336547283079566,
          0.3349887314075379,
          0.345191485591051,
          0.3660396931811078,
          0.36786688583653154,
          0.37413694067699144,
          0.3697172802250559,
          0.36875086609910174,
          0.3346248362704024,
          0.3427207411789314,
          0.3342559159674296,
          0.3312571025476222,
          0.3327545720774952,
          0.33786522853665224,
          0.34749029113025215,
          0.34455425681137464,
          0.3454203006697863,
          0.3438598052466788,
          0.34140396315877014,
          0.3366048965221498,
          0.35094518835951655,
          0.34747327525441224,
          0.3500436368802697,
          0.3459420540274643,
          0.34255813540481955
         ]
        },
        {
         "name": "Suffix Array construction",
         "offsetgroup": "1",
         "type": "bar",
         "x": [
          "10",
          "11",
          "12",
          "13",
          "14",
          "15",
          "16",
          "17",
          "18",
          "19"
         ],
         "y": [
          13.663219738006593,
          13.538903903961181,
          13.70011110305786,
          13.720218658447266,
          13.617471504211426,
          13.908124852180482,
          13.92692186832428,
          13.748035788536072,
          13.730437922477723,
          13.864291000366212,
          14.228859496116637,
          13.845230412483215,
          13.296442103385925,
          13.643372297286987,
          14.016278386116028,
          14.070302248001099,
          13.78345229625702,
          13.577315711975098,
          14.051397800445557,
          13.754148030281067,
          14.072115850448608,
          13.497524666786195,
          14.103162264823913,
          13.79975893497467,
          13.970998930931092,
          14.327715468406677,
          14.224557542800904,
          13.861295151710511,
          13.483842754364014,
          13.69554262161255,
          13.698824596405029,
          14.14829616546631,
          14.276137113571167,
          13.922017312049865,
          13.621377968788147,
          13.947717595100404,
          14.132982063293458,
          13.992869758605957,
          14.16330897808075,
          13.451741886138915,
          13.767930006980896,
          14.270190548896789,
          14.145833730697632,
          13.91710684299469,
          13.788760900497437,
          13.538946151733398,
          13.849047827720643,
          14.102005577087402,
          14.248242402076722,
          14.041401720046997
         ]
        },
        {
         "base": [
          13.663219738006593,
          13.538903903961181,
          13.70011110305786,
          13.720218658447266,
          13.617471504211426,
          13.908124852180482,
          13.92692186832428,
          13.748035788536072,
          13.730437922477723,
          13.864291000366212,
          14.228859496116637,
          13.845230412483215,
          13.296442103385925,
          13.643372297286987,
          14.016278386116028,
          14.070302248001099,
          13.78345229625702,
          13.577315711975098,
          14.051397800445557,
          13.754148030281067,
          14.072115850448608,
          13.497524666786195,
          14.103162264823913,
          13.79975893497467,
          13.970998930931092,
          14.327715468406677,
          14.224557542800904,
          13.861295151710511,
          13.483842754364014,
          13.69554262161255,
          13.698824596405029,
          14.14829616546631,
          14.276137113571167,
          13.922017312049865,
          13.621377968788147,
          13.947717595100404,
          14.132982063293458,
          13.992869758605957,
          14.16330897808075,
          13.451741886138915,
          13.767930006980896,
          14.270190548896789,
          14.145833730697632,
          13.91710684299469,
          13.788760900497437,
          13.538946151733398,
          13.849047827720643,
          14.102005577087402,
          14.248242402076722,
          14.041401720046997
         ],
         "name": "Adjacency Matrix construction",
         "offsetgroup": "1",
         "type": "bar",
         "x": [
          "10",
          "11",
          "12",
          "13",
          "14",
          "15",
          "16",
          "17",
          "18",
          "19"
         ],
         "y": [
          1062.369104385376,
          1073.0000865221023,
          1066.0100021600724,
          1058.0872583150863,
          1048.3308802843094,
          1078.4911577224732,
          1080.3412817716599,
          1049.9394376039504,
          1045.6897354841233,
          1042.4404428482055,
          1074.7627636909485,
          1088.6140061378478,
          1037.3516236066819,
          1052.4797366142272,
          1058.1545270204545,
          1079.725005841255,
          1049.3913203001023,
          1069.7785495758058,
          1071.893361234665,
          1041.8492573022843,
          1067.2858700513839,
          1033.917875480652,
          1075.5084909915925,
          1075.9199424505234,
          1081.1119964361192,
          1082.3035836696624,
          1072.764274930954,
          1051.5814207315445,
          1042.0089975595474,
          1039.4353214740754,
          1041.9925720453261,
          1075.976454782486,
          1104.205859375,
          1056.5653158664704,
          1054.478480052948,
          1054.3128525972365,
          1071.031885457039,
          1063.278342938423,
          1077.229965686798,
          1035.3256218910217,
          1038.8339392662049,
          1090.226400256157,
          1069.8231082677842,
          1057.842178106308,
          1052.8990099430084,
          1047.0279408931733,
          1045.915050983429,
          1066.205805850029,
          1064.8776514053345,
          1072.2994989395143
         ]
        },
        {
         "base": [
          1062.369104385376,
          1073.0000865221023,
          1066.0100021600724,
          1058.0872583150863,
          1048.3308802843094,
          1078.4911577224732,
          1080.3412817716599,
          1049.9394376039504,
          1045.6897354841233,
          1042.4404428482055,
          1074.7627636909485,
          1088.6140061378478,
          1037.3516236066819,
          1052.4797366142272,
          1058.1545270204545,
          1079.725005841255,
          1049.3913203001023,
          1069.7785495758058,
          1071.893361234665,
          1041.8492573022843,
          1067.2858700513839,
          1033.917875480652,
          1075.5084909915925,
          1075.9199424505234,
          1081.1119964361192,
          1082.3035836696624,
          1072.764274930954,
          1051.5814207315445,
          1042.0089975595474,
          1039.4353214740754,
          1041.9925720453261,
          1075.976454782486,
          1104.205859375,
          1056.5653158664704,
          1054.478480052948,
          1054.3128525972365,
          1071.031885457039,
          1063.278342938423,
          1077.229965686798,
          1035.3256218910217,
          1038.8339392662049,
          1090.226400256157,
          1069.8231082677842,
          1057.842178106308,
          1052.8990099430084,
          1047.0279408931733,
          1045.915050983429,
          1066.205805850029,
          1064.8776514053345,
          1072.2994989395143
         ],
         "name": "Sequence reconstruction",
         "offsetgroup": "1",
         "text": [
          "<b>100.0%</b>",
          "<b>100.0%</b>",
          "<b>100.0%</b>",
          "<b>100.0%</b>",
          "<b>100.0%</b>",
          "<b>100.0%</b>",
          "<b>100.0%</b>",
          "<b>100.0%</b>",
          "<b>100.0%</b>",
          "<b>100.0%</b>"
         ],
         "textposition": "outside",
         "type": "bar",
         "x": [
          "10",
          "11",
          "12",
          "13",
          "14",
          "15",
          "16",
          "17",
          "18",
          "19"
         ],
         "y": [
          216.386448097229,
          216.9845267534256,
          217.27791390419006,
          218.07359192371368,
          217.90404272079468,
          217.5473834514618,
          216.67316029071807,
          217.0102926492691,
          217.19118490219117,
          217.20463840961457,
          216.96033883094788,
          216.69639983177186,
          217.05136914253234,
          217.74861745834352,
          218.33838448524475,
          219.42977499961853,
          217.3924864053726,
          216.65924108028412,
          216.87155821323395,
          217.22439908981323,
          217.49836478233337,
          217.27060515880584,
          217.4408841609955,
          217.34135527610778,
          217.56292042732238,
          218.3206748008728,
          217.99333052635194,
          218.43719379901887,
          216.03604860305785,
          216.47547659873962,
          216.59112956523896,
          216.6998613357544,
          216.55755286216737,
          217.74387543201448,
          217.25529971122742,
          217.971755361557,
          217.78825726509095,
          217.81876180171966,
          217.50416882038115,
          216.85270490646363,
          217.1746285676956,
          217.61494646072387,
          217.4327974319458,
          217.4391048192978,
          217.22246479988098,
          214.90762996673584,
          215.33690936565398,
          215.54646003246307,
          216.03888969421388,
          215.70594799518585
         ]
        }
       ],
       "layout": {
        "template": {
         "data": {
          "bar": [
           {
            "error_x": {
             "color": "#2a3f5f"
            },
            "error_y": {
             "color": "#2a3f5f"
            },
            "marker": {
             "line": {
              "color": "#E5ECF6",
              "width": 0.5
             },
             "pattern": {
              "fillmode": "overlay",
              "size": 10,
              "solidity": 0.2
             }
            },
            "type": "bar"
           }
          ],
          "barpolar": [
           {
            "marker": {
             "line": {
              "color": "#E5ECF6",
              "width": 0.5
             },
             "pattern": {
              "fillmode": "overlay",
              "size": 10,
              "solidity": 0.2
             }
            },
            "type": "barpolar"
           }
          ],
          "carpet": [
           {
            "aaxis": {
             "endlinecolor": "#2a3f5f",
             "gridcolor": "white",
             "linecolor": "white",
             "minorgridcolor": "white",
             "startlinecolor": "#2a3f5f"
            },
            "baxis": {
             "endlinecolor": "#2a3f5f",
             "gridcolor": "white",
             "linecolor": "white",
             "minorgridcolor": "white",
             "startlinecolor": "#2a3f5f"
            },
            "type": "carpet"
           }
          ],
          "choropleth": [
           {
            "colorbar": {
             "outlinewidth": 0,
             "ticks": ""
            },
            "type": "choropleth"
           }
          ],
          "contour": [
           {
            "colorbar": {
             "outlinewidth": 0,
             "ticks": ""
            },
            "colorscale": [
             [
              0,
              "#0d0887"
             ],
             [
              0.1111111111111111,
              "#46039f"
             ],
             [
              0.2222222222222222,
              "#7201a8"
             ],
             [
              0.3333333333333333,
              "#9c179e"
             ],
             [
              0.4444444444444444,
              "#bd3786"
             ],
             [
              0.5555555555555556,
              "#d8576b"
             ],
             [
              0.6666666666666666,
              "#ed7953"
             ],
             [
              0.7777777777777778,
              "#fb9f3a"
             ],
             [
              0.8888888888888888,
              "#fdca26"
             ],
             [
              1,
              "#f0f921"
             ]
            ],
            "type": "contour"
           }
          ],
          "contourcarpet": [
           {
            "colorbar": {
             "outlinewidth": 0,
             "ticks": ""
            },
            "type": "contourcarpet"
           }
          ],
          "heatmap": [
           {
            "colorbar": {
             "outlinewidth": 0,
             "ticks": ""
            },
            "colorscale": [
             [
              0,
              "#0d0887"
             ],
             [
              0.1111111111111111,
              "#46039f"
             ],
             [
              0.2222222222222222,
              "#7201a8"
             ],
             [
              0.3333333333333333,
              "#9c179e"
             ],
             [
              0.4444444444444444,
              "#bd3786"
             ],
             [
              0.5555555555555556,
              "#d8576b"
             ],
             [
              0.6666666666666666,
              "#ed7953"
             ],
             [
              0.7777777777777778,
              "#fb9f3a"
             ],
             [
              0.8888888888888888,
              "#fdca26"
             ],
             [
              1,
              "#f0f921"
             ]
            ],
            "type": "heatmap"
           }
          ],
          "heatmapgl": [
           {
            "colorbar": {
             "outlinewidth": 0,
             "ticks": ""
            },
            "colorscale": [
             [
              0,
              "#0d0887"
             ],
             [
              0.1111111111111111,
              "#46039f"
             ],
             [
              0.2222222222222222,
              "#7201a8"
             ],
             [
              0.3333333333333333,
              "#9c179e"
             ],
             [
              0.4444444444444444,
              "#bd3786"
             ],
             [
              0.5555555555555556,
              "#d8576b"
             ],
             [
              0.6666666666666666,
              "#ed7953"
             ],
             [
              0.7777777777777778,
              "#fb9f3a"
             ],
             [
              0.8888888888888888,
              "#fdca26"
             ],
             [
              1,
              "#f0f921"
             ]
            ],
            "type": "heatmapgl"
           }
          ],
          "histogram": [
           {
            "marker": {
             "pattern": {
              "fillmode": "overlay",
              "size": 10,
              "solidity": 0.2
             }
            },
            "type": "histogram"
           }
          ],
          "histogram2d": [
           {
            "colorbar": {
             "outlinewidth": 0,
             "ticks": ""
            },
            "colorscale": [
             [
              0,
              "#0d0887"
             ],
             [
              0.1111111111111111,
              "#46039f"
             ],
             [
              0.2222222222222222,
              "#7201a8"
             ],
             [
              0.3333333333333333,
              "#9c179e"
             ],
             [
              0.4444444444444444,
              "#bd3786"
             ],
             [
              0.5555555555555556,
              "#d8576b"
             ],
             [
              0.6666666666666666,
              "#ed7953"
             ],
             [
              0.7777777777777778,
              "#fb9f3a"
             ],
             [
              0.8888888888888888,
              "#fdca26"
             ],
             [
              1,
              "#f0f921"
             ]
            ],
            "type": "histogram2d"
           }
          ],
          "histogram2dcontour": [
           {
            "colorbar": {
             "outlinewidth": 0,
             "ticks": ""
            },
            "colorscale": [
             [
              0,
              "#0d0887"
             ],
             [
              0.1111111111111111,
              "#46039f"
             ],
             [
              0.2222222222222222,
              "#7201a8"
             ],
             [
              0.3333333333333333,
              "#9c179e"
             ],
             [
              0.4444444444444444,
              "#bd3786"
             ],
             [
              0.5555555555555556,
              "#d8576b"
             ],
             [
              0.6666666666666666,
              "#ed7953"
             ],
             [
              0.7777777777777778,
              "#fb9f3a"
             ],
             [
              0.8888888888888888,
              "#fdca26"
             ],
             [
              1,
              "#f0f921"
             ]
            ],
            "type": "histogram2dcontour"
           }
          ],
          "mesh3d": [
           {
            "colorbar": {
             "outlinewidth": 0,
             "ticks": ""
            },
            "type": "mesh3d"
           }
          ],
          "parcoords": [
           {
            "line": {
             "colorbar": {
              "outlinewidth": 0,
              "ticks": ""
             }
            },
            "type": "parcoords"
           }
          ],
          "pie": [
           {
            "automargin": true,
            "type": "pie"
           }
          ],
          "scatter": [
           {
            "fillpattern": {
             "fillmode": "overlay",
             "size": 10,
             "solidity": 0.2
            },
            "type": "scatter"
           }
          ],
          "scatter3d": [
           {
            "line": {
             "colorbar": {
              "outlinewidth": 0,
              "ticks": ""
             }
            },
            "marker": {
             "colorbar": {
              "outlinewidth": 0,
              "ticks": ""
             }
            },
            "type": "scatter3d"
           }
          ],
          "scattercarpet": [
           {
            "marker": {
             "colorbar": {
              "outlinewidth": 0,
              "ticks": ""
             }
            },
            "type": "scattercarpet"
           }
          ],
          "scattergeo": [
           {
            "marker": {
             "colorbar": {
              "outlinewidth": 0,
              "ticks": ""
             }
            },
            "type": "scattergeo"
           }
          ],
          "scattergl": [
           {
            "marker": {
             "colorbar": {
              "outlinewidth": 0,
              "ticks": ""
             }
            },
            "type": "scattergl"
           }
          ],
          "scattermapbox": [
           {
            "marker": {
             "colorbar": {
              "outlinewidth": 0,
              "ticks": ""
             }
            },
            "type": "scattermapbox"
           }
          ],
          "scatterpolar": [
           {
            "marker": {
             "colorbar": {
              "outlinewidth": 0,
              "ticks": ""
             }
            },
            "type": "scatterpolar"
           }
          ],
          "scatterpolargl": [
           {
            "marker": {
             "colorbar": {
              "outlinewidth": 0,
              "ticks": ""
             }
            },
            "type": "scatterpolargl"
           }
          ],
          "scatterternary": [
           {
            "marker": {
             "colorbar": {
              "outlinewidth": 0,
              "ticks": ""
             }
            },
            "type": "scatterternary"
           }
          ],
          "surface": [
           {
            "colorbar": {
             "outlinewidth": 0,
             "ticks": ""
            },
            "colorscale": [
             [
              0,
              "#0d0887"
             ],
             [
              0.1111111111111111,
              "#46039f"
             ],
             [
              0.2222222222222222,
              "#7201a8"
             ],
             [
              0.3333333333333333,
              "#9c179e"
             ],
             [
              0.4444444444444444,
              "#bd3786"
             ],
             [
              0.5555555555555556,
              "#d8576b"
             ],
             [
              0.6666666666666666,
              "#ed7953"
             ],
             [
              0.7777777777777778,
              "#fb9f3a"
             ],
             [
              0.8888888888888888,
              "#fdca26"
             ],
             [
              1,
              "#f0f921"
             ]
            ],
            "type": "surface"
           }
          ],
          "table": [
           {
            "cells": {
             "fill": {
              "color": "#EBF0F8"
             },
             "line": {
              "color": "white"
             }
            },
            "header": {
             "fill": {
              "color": "#C8D4E3"
             },
             "line": {
              "color": "white"
             }
            },
            "type": "table"
           }
          ]
         },
         "layout": {
          "annotationdefaults": {
           "arrowcolor": "#2a3f5f",
           "arrowhead": 0,
           "arrowwidth": 1
          },
          "autotypenumbers": "strict",
          "coloraxis": {
           "colorbar": {
            "outlinewidth": 0,
            "ticks": ""
           }
          },
          "colorscale": {
           "diverging": [
            [
             0,
             "#8e0152"
            ],
            [
             0.1,
             "#c51b7d"
            ],
            [
             0.2,
             "#de77ae"
            ],
            [
             0.3,
             "#f1b6da"
            ],
            [
             0.4,
             "#fde0ef"
            ],
            [
             0.5,
             "#f7f7f7"
            ],
            [
             0.6,
             "#e6f5d0"
            ],
            [
             0.7,
             "#b8e186"
            ],
            [
             0.8,
             "#7fbc41"
            ],
            [
             0.9,
             "#4d9221"
            ],
            [
             1,
             "#276419"
            ]
           ],
           "sequential": [
            [
             0,
             "#0d0887"
            ],
            [
             0.1111111111111111,
             "#46039f"
            ],
            [
             0.2222222222222222,
             "#7201a8"
            ],
            [
             0.3333333333333333,
             "#9c179e"
            ],
            [
             0.4444444444444444,
             "#bd3786"
            ],
            [
             0.5555555555555556,
             "#d8576b"
            ],
            [
             0.6666666666666666,
             "#ed7953"
            ],
            [
             0.7777777777777778,
             "#fb9f3a"
            ],
            [
             0.8888888888888888,
             "#fdca26"
            ],
            [
             1,
             "#f0f921"
            ]
           ],
           "sequentialminus": [
            [
             0,
             "#0d0887"
            ],
            [
             0.1111111111111111,
             "#46039f"
            ],
            [
             0.2222222222222222,
             "#7201a8"
            ],
            [
             0.3333333333333333,
             "#9c179e"
            ],
            [
             0.4444444444444444,
             "#bd3786"
            ],
            [
             0.5555555555555556,
             "#d8576b"
            ],
            [
             0.6666666666666666,
             "#ed7953"
            ],
            [
             0.7777777777777778,
             "#fb9f3a"
            ],
            [
             0.8888888888888888,
             "#fdca26"
            ],
            [
             1,
             "#f0f921"
            ]
           ]
          },
          "colorway": [
           "#636efa",
           "#EF553B",
           "#00cc96",
           "#ab63fa",
           "#FFA15A",
           "#19d3f3",
           "#FF6692",
           "#B6E880",
           "#FF97FF",
           "#FECB52"
          ],
          "font": {
           "color": "#2a3f5f"
          },
          "geo": {
           "bgcolor": "white",
           "lakecolor": "white",
           "landcolor": "#E5ECF6",
           "showlakes": true,
           "showland": true,
           "subunitcolor": "white"
          },
          "hoverlabel": {
           "align": "left"
          },
          "hovermode": "closest",
          "mapbox": {
           "style": "light"
          },
          "paper_bgcolor": "white",
          "plot_bgcolor": "#E5ECF6",
          "polar": {
           "angularaxis": {
            "gridcolor": "white",
            "linecolor": "white",
            "ticks": ""
           },
           "bgcolor": "#E5ECF6",
           "radialaxis": {
            "gridcolor": "white",
            "linecolor": "white",
            "ticks": ""
           }
          },
          "scene": {
           "xaxis": {
            "backgroundcolor": "#E5ECF6",
            "gridcolor": "white",
            "gridwidth": 2,
            "linecolor": "white",
            "showbackground": true,
            "ticks": "",
            "zerolinecolor": "white"
           },
           "yaxis": {
            "backgroundcolor": "#E5ECF6",
            "gridcolor": "white",
            "gridwidth": 2,
            "linecolor": "white",
            "showbackground": true,
            "ticks": "",
            "zerolinecolor": "white"
           },
           "zaxis": {
            "backgroundcolor": "#E5ECF6",
            "gridcolor": "white",
            "gridwidth": 2,
            "linecolor": "white",
            "showbackground": true,
            "ticks": "",
            "zerolinecolor": "white"
           }
          },
          "shapedefaults": {
           "line": {
            "color": "#2a3f5f"
           }
          },
          "ternary": {
           "aaxis": {
            "gridcolor": "white",
            "linecolor": "white",
            "ticks": ""
           },
           "baxis": {
            "gridcolor": "white",
            "linecolor": "white",
            "ticks": ""
           },
           "bgcolor": "#E5ECF6",
           "caxis": {
            "gridcolor": "white",
            "linecolor": "white",
            "ticks": ""
           }
          },
          "title": {
           "x": 0.05
          },
          "xaxis": {
           "automargin": true,
           "gridcolor": "white",
           "linecolor": "white",
           "ticks": "",
           "title": {
            "standoff": 15
           },
           "zerolinecolor": "white",
           "zerolinewidth": 2
          },
          "yaxis": {
           "automargin": true,
           "gridcolor": "white",
           "linecolor": "white",
           "ticks": "",
           "title": {
            "standoff": 15
           },
           "zerolinecolor": "white",
           "zerolinewidth": 2
          }
         }
        },
        "title": {
         "text": "Raphanus sativus with Generated Reads: Suffix Array and Sequitur vs De Bruijn Graph and Euler Path"
        },
        "yaxis": {
         "title": {
          "text": "time (s)"
         }
        }
       }
      },
      "text/html": [
       "<div>                        <script type=\"text/javascript\">window.PlotlyConfig = {MathJaxConfig: 'local'};</script>\n",
       "        <script charset=\"utf-8\" src=\"https://cdn.plot.ly/plotly-2.30.0.min.js\"></script>                <div id=\"8de047ad-f387-48e2-9afa-4cd4d860c7f4\" class=\"plotly-graph-div\" style=\"height:100%; width:100%;\"></div>            <script type=\"text/javascript\">                                    window.PLOTLYENV=window.PLOTLYENV || {};                                    if (document.getElementById(\"8de047ad-f387-48e2-9afa-4cd4d860c7f4\")) {                    Plotly.newPlot(                        \"8de047ad-f387-48e2-9afa-4cd4d860c7f4\",                        [{\"name\":\"De Bruijn Graph construction\",\"offsetgroup\":\"0\",\"x\":[\"10\",\"11\",\"12\",\"13\",\"14\",\"15\",\"16\",\"17\",\"18\",\"19\"],\"y\":[2.612266627172144,2.6584061766833806,2.6490940644101397,2.6619585080263093,2.661279437716414,2.642544750585789,2.8838163468895877,2.8002959540995147,2.8022940791525497,2.801001541556381,2.8309360114539532,2.5820985240471077,2.819779725307369,2.8248886794578754,2.8224314623344227,2.8505188818675715,2.864189952175793,2.606517351545939,2.5280085295002634,2.5156057964883214,2.5065460338825134,2.5089567933431485,2.584602706606795,2.6906795895971904,2.683774306832291,2.6658470378270978,2.6956998469189886,2.672193654339487,2.8027362055894818,2.791659319575239,2.794393312640309,2.816716819391015,2.8300403129763727,2.593480826238305,2.676897176882113,2.566621647462612,2.5807165993713737,2.579501156923248,2.5600598400395085,2.6535695863351583,2.6290821335955377,2.6434815780127927,2.63444807366627,2.6469615832770748,2.5835999878441416,2.773982578719534,2.7424081432528604,2.739894899275245,2.752853965410371,2.7674044024072044],\"type\":\"bar\"},{\"base\":[2.612266627172144,2.6584061766833806,2.6490940644101397,2.6619585080263093,2.661279437716414,2.642544750585789,2.8838163468895877,2.8002959540995147,2.8022940791525497,2.801001541556381,2.8309360114539532,2.5820985240471077,2.819779725307369,2.8248886794578754,2.8224314623344227,2.8505188818675715,2.864189952175793,2.606517351545939,2.5280085295002634,2.5156057964883214,2.5065460338825134,2.5089567933431485,2.584602706606795,2.6906795895971904,2.683774306832291,2.6658470378270978,2.6956998469189886,2.672193654339487,2.8027362055894818,2.791659319575239,2.794393312640309,2.816716819391015,2.8300403129763727,2.593480826238305,2.676897176882113,2.566621647462612,2.5807165993713737,2.579501156923248,2.5600598400395085,2.6535695863351583,2.6290821335955377,2.6434815780127927,2.63444807366627,2.6469615832770748,2.5835999878441416,2.773982578719534,2.7424081432528604,2.739894899275245,2.752853965410371,2.7674044024072044],\"name\":\"Euler Path reconstruction\",\"offsetgroup\":\"0\",\"text\":[\"\\u003cb\\u003e0.01%\\u003c\\u002fb\\u003e\",\"\\u003cb\\u003e0.01%\\u003c\\u002fb\\u003e\",\"\\u003cb\\u003e0.01%\\u003c\\u002fb\\u003e\",\"\\u003cb\\u003e0.01%\\u003c\\u002fb\\u003e\",\"\\u003cb\\u003e0.01%\\u003c\\u002fb\\u003e\",\"\\u003cb\\u003e0.01%\\u003c\\u002fb\\u003e\",\"\\u003cb\\u003e0.01%\\u003c\\u002fb\\u003e\",\"\\u003cb\\u003e0.01%\\u003c\\u002fb\\u003e\",\"\\u003cb\\u003e0.01%\\u003c\\u002fb\\u003e\",\"\\u003cb\\u003e0.01%\\u003c\\u002fb\\u003e\"],\"textposition\":\"outside\",\"x\":[\"10\",\"11\",\"12\",\"13\",\"14\",\"15\",\"16\",\"17\",\"18\",\"19\"],\"y\":[0.335405974620726,0.34210571196021106,0.3466567526794063,0.34410124139087966,0.3425742041192403,0.3442743798000061,0.36595150331171555,0.371067086778036,0.37663323565227225,0.36814225755086777,0.37942313822304313,0.32982219835607024,0.37585395999071064,0.368015292330486,0.36722489066240277,0.3706923803469031,0.37152794151771384,0.33340525545725025,0.3302565431594848,0.3335456241049419,0.32878563031917646,0.323847402712194,0.3368932073872264,0.34256817526933625,0.3424421593038048,0.336547283079566,0.3349887314075379,0.345191485591051,0.3660396931811078,0.36786688583653154,0.37413694067699144,0.3697172802250559,0.36875086609910174,0.3346248362704024,0.3427207411789314,0.3342559159674296,0.3312571025476222,0.3327545720774952,0.33786522853665224,0.34749029113025215,0.34455425681137464,0.3454203006697863,0.3438598052466788,0.34140396315877014,0.3366048965221498,0.35094518835951655,0.34747327525441224,0.3500436368802697,0.3459420540274643,0.34255813540481955],\"type\":\"bar\"},{\"name\":\"Suffix Array construction\",\"offsetgroup\":\"1\",\"x\":[\"10\",\"11\",\"12\",\"13\",\"14\",\"15\",\"16\",\"17\",\"18\",\"19\"],\"y\":[13.663219738006593,13.538903903961181,13.70011110305786,13.720218658447266,13.617471504211426,13.908124852180482,13.92692186832428,13.748035788536072,13.730437922477723,13.864291000366212,14.228859496116637,13.845230412483215,13.296442103385925,13.643372297286987,14.016278386116028,14.070302248001099,13.78345229625702,13.577315711975098,14.051397800445557,13.754148030281067,14.072115850448608,13.497524666786195,14.103162264823913,13.79975893497467,13.970998930931092,14.327715468406677,14.224557542800904,13.861295151710511,13.483842754364014,13.69554262161255,13.698824596405029,14.14829616546631,14.276137113571167,13.922017312049865,13.621377968788147,13.947717595100404,14.132982063293458,13.992869758605957,14.16330897808075,13.451741886138915,13.767930006980896,14.270190548896789,14.145833730697632,13.91710684299469,13.788760900497437,13.538946151733398,13.849047827720643,14.102005577087402,14.248242402076722,14.041401720046997],\"type\":\"bar\"},{\"base\":[13.663219738006593,13.538903903961181,13.70011110305786,13.720218658447266,13.617471504211426,13.908124852180482,13.92692186832428,13.748035788536072,13.730437922477723,13.864291000366212,14.228859496116637,13.845230412483215,13.296442103385925,13.643372297286987,14.016278386116028,14.070302248001099,13.78345229625702,13.577315711975098,14.051397800445557,13.754148030281067,14.072115850448608,13.497524666786195,14.103162264823913,13.79975893497467,13.970998930931092,14.327715468406677,14.224557542800904,13.861295151710511,13.483842754364014,13.69554262161255,13.698824596405029,14.14829616546631,14.276137113571167,13.922017312049865,13.621377968788147,13.947717595100404,14.132982063293458,13.992869758605957,14.16330897808075,13.451741886138915,13.767930006980896,14.270190548896789,14.145833730697632,13.91710684299469,13.788760900497437,13.538946151733398,13.849047827720643,14.102005577087402,14.248242402076722,14.041401720046997],\"name\":\"Adjacency Matrix construction\",\"offsetgroup\":\"1\",\"x\":[\"10\",\"11\",\"12\",\"13\",\"14\",\"15\",\"16\",\"17\",\"18\",\"19\"],\"y\":[1062.369104385376,1073.0000865221023,1066.0100021600724,1058.0872583150863,1048.3308802843094,1078.4911577224732,1080.3412817716599,1049.9394376039504,1045.6897354841233,1042.4404428482055,1074.7627636909485,1088.6140061378478,1037.3516236066819,1052.4797366142272,1058.1545270204545,1079.725005841255,1049.3913203001023,1069.7785495758058,1071.893361234665,1041.8492573022843,1067.2858700513839,1033.917875480652,1075.5084909915925,1075.9199424505234,1081.1119964361192,1082.3035836696624,1072.764274930954,1051.5814207315445,1042.0089975595474,1039.4353214740754,1041.9925720453261,1075.976454782486,1104.205859375,1056.5653158664704,1054.478480052948,1054.3128525972365,1071.031885457039,1063.278342938423,1077.229965686798,1035.3256218910217,1038.8339392662049,1090.226400256157,1069.8231082677842,1057.842178106308,1052.8990099430084,1047.0279408931733,1045.915050983429,1066.205805850029,1064.8776514053345,1072.2994989395143],\"type\":\"bar\"},{\"base\":[1062.369104385376,1073.0000865221023,1066.0100021600724,1058.0872583150863,1048.3308802843094,1078.4911577224732,1080.3412817716599,1049.9394376039504,1045.6897354841233,1042.4404428482055,1074.7627636909485,1088.6140061378478,1037.3516236066819,1052.4797366142272,1058.1545270204545,1079.725005841255,1049.3913203001023,1069.7785495758058,1071.893361234665,1041.8492573022843,1067.2858700513839,1033.917875480652,1075.5084909915925,1075.9199424505234,1081.1119964361192,1082.3035836696624,1072.764274930954,1051.5814207315445,1042.0089975595474,1039.4353214740754,1041.9925720453261,1075.976454782486,1104.205859375,1056.5653158664704,1054.478480052948,1054.3128525972365,1071.031885457039,1063.278342938423,1077.229965686798,1035.3256218910217,1038.8339392662049,1090.226400256157,1069.8231082677842,1057.842178106308,1052.8990099430084,1047.0279408931733,1045.915050983429,1066.205805850029,1064.8776514053345,1072.2994989395143],\"name\":\"Sequence reconstruction\",\"offsetgroup\":\"1\",\"text\":[\"\\u003cb\\u003e100.0%\\u003c\\u002fb\\u003e\",\"\\u003cb\\u003e100.0%\\u003c\\u002fb\\u003e\",\"\\u003cb\\u003e100.0%\\u003c\\u002fb\\u003e\",\"\\u003cb\\u003e100.0%\\u003c\\u002fb\\u003e\",\"\\u003cb\\u003e100.0%\\u003c\\u002fb\\u003e\",\"\\u003cb\\u003e100.0%\\u003c\\u002fb\\u003e\",\"\\u003cb\\u003e100.0%\\u003c\\u002fb\\u003e\",\"\\u003cb\\u003e100.0%\\u003c\\u002fb\\u003e\",\"\\u003cb\\u003e100.0%\\u003c\\u002fb\\u003e\",\"\\u003cb\\u003e100.0%\\u003c\\u002fb\\u003e\"],\"textposition\":\"outside\",\"x\":[\"10\",\"11\",\"12\",\"13\",\"14\",\"15\",\"16\",\"17\",\"18\",\"19\"],\"y\":[216.386448097229,216.9845267534256,217.27791390419006,218.07359192371368,217.90404272079468,217.5473834514618,216.67316029071807,217.0102926492691,217.19118490219117,217.20463840961457,216.96033883094788,216.69639983177186,217.05136914253234,217.74861745834352,218.33838448524475,219.42977499961853,217.3924864053726,216.65924108028412,216.87155821323395,217.22439908981323,217.49836478233337,217.27060515880584,217.4408841609955,217.34135527610778,217.56292042732238,218.3206748008728,217.99333052635194,218.43719379901887,216.03604860305785,216.47547659873962,216.59112956523896,216.6998613357544,216.55755286216737,217.74387543201448,217.25529971122742,217.971755361557,217.78825726509095,217.81876180171966,217.50416882038115,216.85270490646363,217.1746285676956,217.61494646072387,217.4327974319458,217.4391048192978,217.22246479988098,214.90762996673584,215.33690936565398,215.54646003246307,216.03888969421388,215.70594799518585],\"type\":\"bar\"}],                        {\"title\":{\"text\":\"Raphanus sativus with Generated Reads: Suffix Array and Sequitur vs De Bruijn Graph and Euler Path\"},\"yaxis\":{\"title\":{\"text\":\"time (s)\"}},\"template\":{\"data\":{\"histogram2dcontour\":[{\"type\":\"histogram2dcontour\",\"colorbar\":{\"outlinewidth\":0,\"ticks\":\"\"},\"colorscale\":[[0.0,\"#0d0887\"],[0.1111111111111111,\"#46039f\"],[0.2222222222222222,\"#7201a8\"],[0.3333333333333333,\"#9c179e\"],[0.4444444444444444,\"#bd3786\"],[0.5555555555555556,\"#d8576b\"],[0.6666666666666666,\"#ed7953\"],[0.7777777777777778,\"#fb9f3a\"],[0.8888888888888888,\"#fdca26\"],[1.0,\"#f0f921\"]]}],\"choropleth\":[{\"type\":\"choropleth\",\"colorbar\":{\"outlinewidth\":0,\"ticks\":\"\"}}],\"histogram2d\":[{\"type\":\"histogram2d\",\"colorbar\":{\"outlinewidth\":0,\"ticks\":\"\"},\"colorscale\":[[0.0,\"#0d0887\"],[0.1111111111111111,\"#46039f\"],[0.2222222222222222,\"#7201a8\"],[0.3333333333333333,\"#9c179e\"],[0.4444444444444444,\"#bd3786\"],[0.5555555555555556,\"#d8576b\"],[0.6666666666666666,\"#ed7953\"],[0.7777777777777778,\"#fb9f3a\"],[0.8888888888888888,\"#fdca26\"],[1.0,\"#f0f921\"]]}],\"heatmap\":[{\"type\":\"heatmap\",\"colorbar\":{\"outlinewidth\":0,\"ticks\":\"\"},\"colorscale\":[[0.0,\"#0d0887\"],[0.1111111111111111,\"#46039f\"],[0.2222222222222222,\"#7201a8\"],[0.3333333333333333,\"#9c179e\"],[0.4444444444444444,\"#bd3786\"],[0.5555555555555556,\"#d8576b\"],[0.6666666666666666,\"#ed7953\"],[0.7777777777777778,\"#fb9f3a\"],[0.8888888888888888,\"#fdca26\"],[1.0,\"#f0f921\"]]}],\"heatmapgl\":[{\"type\":\"heatmapgl\",\"colorbar\":{\"outlinewidth\":0,\"ticks\":\"\"},\"colorscale\":[[0.0,\"#0d0887\"],[0.1111111111111111,\"#46039f\"],[0.2222222222222222,\"#7201a8\"],[0.3333333333333333,\"#9c179e\"],[0.4444444444444444,\"#bd3786\"],[0.5555555555555556,\"#d8576b\"],[0.6666666666666666,\"#ed7953\"],[0.7777777777777778,\"#fb9f3a\"],[0.8888888888888888,\"#fdca26\"],[1.0,\"#f0f921\"]]}],\"contourcarpet\":[{\"type\":\"contourcarpet\",\"colorbar\":{\"outlinewidth\":0,\"ticks\":\"\"}}],\"contour\":[{\"type\":\"contour\",\"colorbar\":{\"outlinewidth\":0,\"ticks\":\"\"},\"colorscale\":[[0.0,\"#0d0887\"],[0.1111111111111111,\"#46039f\"],[0.2222222222222222,\"#7201a8\"],[0.3333333333333333,\"#9c179e\"],[0.4444444444444444,\"#bd3786\"],[0.5555555555555556,\"#d8576b\"],[0.6666666666666666,\"#ed7953\"],[0.7777777777777778,\"#fb9f3a\"],[0.8888888888888888,\"#fdca26\"],[1.0,\"#f0f921\"]]}],\"surface\":[{\"type\":\"surface\",\"colorbar\":{\"outlinewidth\":0,\"ticks\":\"\"},\"colorscale\":[[0.0,\"#0d0887\"],[0.1111111111111111,\"#46039f\"],[0.2222222222222222,\"#7201a8\"],[0.3333333333333333,\"#9c179e\"],[0.4444444444444444,\"#bd3786\"],[0.5555555555555556,\"#d8576b\"],[0.6666666666666666,\"#ed7953\"],[0.7777777777777778,\"#fb9f3a\"],[0.8888888888888888,\"#fdca26\"],[1.0,\"#f0f921\"]]}],\"mesh3d\":[{\"type\":\"mesh3d\",\"colorbar\":{\"outlinewidth\":0,\"ticks\":\"\"}}],\"scatter\":[{\"fillpattern\":{\"fillmode\":\"overlay\",\"size\":10,\"solidity\":0.2},\"type\":\"scatter\"}],\"parcoords\":[{\"type\":\"parcoords\",\"line\":{\"colorbar\":{\"outlinewidth\":0,\"ticks\":\"\"}}}],\"scatterpolargl\":[{\"type\":\"scatterpolargl\",\"marker\":{\"colorbar\":{\"outlinewidth\":0,\"ticks\":\"\"}}}],\"bar\":[{\"error_x\":{\"color\":\"#2a3f5f\"},\"error_y\":{\"color\":\"#2a3f5f\"},\"marker\":{\"line\":{\"color\":\"#E5ECF6\",\"width\":0.5},\"pattern\":{\"fillmode\":\"overlay\",\"size\":10,\"solidity\":0.2}},\"type\":\"bar\"}],\"scattergeo\":[{\"type\":\"scattergeo\",\"marker\":{\"colorbar\":{\"outlinewidth\":0,\"ticks\":\"\"}}}],\"scatterpolar\":[{\"type\":\"scatterpolar\",\"marker\":{\"colorbar\":{\"outlinewidth\":0,\"ticks\":\"\"}}}],\"histogram\":[{\"marker\":{\"pattern\":{\"fillmode\":\"overlay\",\"size\":10,\"solidity\":0.2}},\"type\":\"histogram\"}],\"scattergl\":[{\"type\":\"scattergl\",\"marker\":{\"colorbar\":{\"outlinewidth\":0,\"ticks\":\"\"}}}],\"scatter3d\":[{\"type\":\"scatter3d\",\"line\":{\"colorbar\":{\"outlinewidth\":0,\"ticks\":\"\"}},\"marker\":{\"colorbar\":{\"outlinewidth\":0,\"ticks\":\"\"}}}],\"scattermapbox\":[{\"type\":\"scattermapbox\",\"marker\":{\"colorbar\":{\"outlinewidth\":0,\"ticks\":\"\"}}}],\"scatterternary\":[{\"type\":\"scatterternary\",\"marker\":{\"colorbar\":{\"outlinewidth\":0,\"ticks\":\"\"}}}],\"scattercarpet\":[{\"type\":\"scattercarpet\",\"marker\":{\"colorbar\":{\"outlinewidth\":0,\"ticks\":\"\"}}}],\"carpet\":[{\"aaxis\":{\"endlinecolor\":\"#2a3f5f\",\"gridcolor\":\"white\",\"linecolor\":\"white\",\"minorgridcolor\":\"white\",\"startlinecolor\":\"#2a3f5f\"},\"baxis\":{\"endlinecolor\":\"#2a3f5f\",\"gridcolor\":\"white\",\"linecolor\":\"white\",\"minorgridcolor\":\"white\",\"startlinecolor\":\"#2a3f5f\"},\"type\":\"carpet\"}],\"table\":[{\"cells\":{\"fill\":{\"color\":\"#EBF0F8\"},\"line\":{\"color\":\"white\"}},\"header\":{\"fill\":{\"color\":\"#C8D4E3\"},\"line\":{\"color\":\"white\"}},\"type\":\"table\"}],\"barpolar\":[{\"marker\":{\"line\":{\"color\":\"#E5ECF6\",\"width\":0.5},\"pattern\":{\"fillmode\":\"overlay\",\"size\":10,\"solidity\":0.2}},\"type\":\"barpolar\"}],\"pie\":[{\"automargin\":true,\"type\":\"pie\"}]},\"layout\":{\"autotypenumbers\":\"strict\",\"colorway\":[\"#636efa\",\"#EF553B\",\"#00cc96\",\"#ab63fa\",\"#FFA15A\",\"#19d3f3\",\"#FF6692\",\"#B6E880\",\"#FF97FF\",\"#FECB52\"],\"font\":{\"color\":\"#2a3f5f\"},\"hovermode\":\"closest\",\"hoverlabel\":{\"align\":\"left\"},\"paper_bgcolor\":\"white\",\"plot_bgcolor\":\"#E5ECF6\",\"polar\":{\"bgcolor\":\"#E5ECF6\",\"angularaxis\":{\"gridcolor\":\"white\",\"linecolor\":\"white\",\"ticks\":\"\"},\"radialaxis\":{\"gridcolor\":\"white\",\"linecolor\":\"white\",\"ticks\":\"\"}},\"ternary\":{\"bgcolor\":\"#E5ECF6\",\"aaxis\":{\"gridcolor\":\"white\",\"linecolor\":\"white\",\"ticks\":\"\"},\"baxis\":{\"gridcolor\":\"white\",\"linecolor\":\"white\",\"ticks\":\"\"},\"caxis\":{\"gridcolor\":\"white\",\"linecolor\":\"white\",\"ticks\":\"\"}},\"coloraxis\":{\"colorbar\":{\"outlinewidth\":0,\"ticks\":\"\"}},\"colorscale\":{\"sequential\":[[0.0,\"#0d0887\"],[0.1111111111111111,\"#46039f\"],[0.2222222222222222,\"#7201a8\"],[0.3333333333333333,\"#9c179e\"],[0.4444444444444444,\"#bd3786\"],[0.5555555555555556,\"#d8576b\"],[0.6666666666666666,\"#ed7953\"],[0.7777777777777778,\"#fb9f3a\"],[0.8888888888888888,\"#fdca26\"],[1.0,\"#f0f921\"]],\"sequentialminus\":[[0.0,\"#0d0887\"],[0.1111111111111111,\"#46039f\"],[0.2222222222222222,\"#7201a8\"],[0.3333333333333333,\"#9c179e\"],[0.4444444444444444,\"#bd3786\"],[0.5555555555555556,\"#d8576b\"],[0.6666666666666666,\"#ed7953\"],[0.7777777777777778,\"#fb9f3a\"],[0.8888888888888888,\"#fdca26\"],[1.0,\"#f0f921\"]],\"diverging\":[[0,\"#8e0152\"],[0.1,\"#c51b7d\"],[0.2,\"#de77ae\"],[0.3,\"#f1b6da\"],[0.4,\"#fde0ef\"],[0.5,\"#f7f7f7\"],[0.6,\"#e6f5d0\"],[0.7,\"#b8e186\"],[0.8,\"#7fbc41\"],[0.9,\"#4d9221\"],[1,\"#276419\"]]},\"xaxis\":{\"gridcolor\":\"white\",\"linecolor\":\"white\",\"ticks\":\"\",\"title\":{\"standoff\":15},\"zerolinecolor\":\"white\",\"automargin\":true,\"zerolinewidth\":2},\"yaxis\":{\"gridcolor\":\"white\",\"linecolor\":\"white\",\"ticks\":\"\",\"title\":{\"standoff\":15},\"zerolinecolor\":\"white\",\"automargin\":true,\"zerolinewidth\":2},\"scene\":{\"xaxis\":{\"backgroundcolor\":\"#E5ECF6\",\"gridcolor\":\"white\",\"linecolor\":\"white\",\"showbackground\":true,\"ticks\":\"\",\"zerolinecolor\":\"white\",\"gridwidth\":2},\"yaxis\":{\"backgroundcolor\":\"#E5ECF6\",\"gridcolor\":\"white\",\"linecolor\":\"white\",\"showbackground\":true,\"ticks\":\"\",\"zerolinecolor\":\"white\",\"gridwidth\":2},\"zaxis\":{\"backgroundcolor\":\"#E5ECF6\",\"gridcolor\":\"white\",\"linecolor\":\"white\",\"showbackground\":true,\"ticks\":\"\",\"zerolinecolor\":\"white\",\"gridwidth\":2}},\"shapedefaults\":{\"line\":{\"color\":\"#2a3f5f\"}},\"annotationdefaults\":{\"arrowcolor\":\"#2a3f5f\",\"arrowhead\":0,\"arrowwidth\":1},\"geo\":{\"bgcolor\":\"white\",\"landcolor\":\"#E5ECF6\",\"subunitcolor\":\"white\",\"showland\":true,\"showlakes\":true,\"lakecolor\":\"white\"},\"title\":{\"x\":0.05},\"mapbox\":{\"style\":\"light\"}}}},                        {\"responsive\": true}                    )                };                            </script>        </div>"
      ],
      "text/plain": [
       "Figure({\n",
       "    'data': [{'name': 'De Bruijn Graph construction',\n",
       "              'offsetgroup': '0',\n",
       "              'type': 'bar',\n",
       "              'x': [10, 11, 12, 13, 14, 15, 16, 17, 18, 19],\n",
       "              'y': array([2.61226663, 2.65840618, 2.64909406, 2.66195851, 2.66127944, 2.64254475,\n",
       "                          2.88381635, 2.80029595, 2.80229408, 2.80100154, 2.83093601, 2.58209852,\n",
       "                          2.81977973, 2.82488868, 2.82243146, 2.85051888, 2.86418995, 2.60651735,\n",
       "                          2.52800853, 2.5156058 , 2.50654603, 2.50895679, 2.58460271, 2.69067959,\n",
       "                          2.68377431, 2.66584704, 2.69569985, 2.67219365, 2.80273621, 2.79165932,\n",
       "                          2.79439331, 2.81671682, 2.83004031, 2.59348083, 2.67689718, 2.56662165,\n",
       "                          2.5807166 , 2.57950116, 2.56005984, 2.65356959, 2.62908213, 2.64348158,\n",
       "                          2.63444807, 2.64696158, 2.58359999, 2.77398258, 2.74240814, 2.7398949 ,\n",
       "                          2.75285397, 2.7674044 ])},\n",
       "             {'base': array([2.612266627172144, 2.6584061766833806, 2.6490940644101397,\n",
       "                             2.6619585080263093, 2.661279437716414, 2.642544750585789,\n",
       "                             2.8838163468895877, 2.8002959540995147, 2.8022940791525497,\n",
       "                             2.801001541556381, 2.8309360114539532, 2.5820985240471077,\n",
       "                             2.819779725307369, 2.8248886794578754, 2.8224314623344227,\n",
       "                             2.8505188818675715, 2.864189952175793, 2.606517351545939,\n",
       "                             2.5280085295002634, 2.5156057964883214, 2.5065460338825134,\n",
       "                             2.5089567933431485, 2.584602706606795, 2.6906795895971904,\n",
       "                             2.683774306832291, 2.6658470378270978, 2.6956998469189886,\n",
       "                             2.672193654339487, 2.8027362055894818, 2.791659319575239,\n",
       "                             2.794393312640309, 2.816716819391015, 2.8300403129763727,\n",
       "                             2.593480826238305, 2.676897176882113, 2.566621647462612,\n",
       "                             2.5807165993713737, 2.579501156923248, 2.5600598400395085,\n",
       "                             2.6535695863351583, 2.6290821335955377, 2.6434815780127927,\n",
       "                             2.63444807366627, 2.6469615832770748, 2.5835999878441416,\n",
       "                             2.773982578719534, 2.7424081432528604, 2.739894899275245,\n",
       "                             2.752853965410371, 2.7674044024072044], dtype=object),\n",
       "              'name': 'Euler Path reconstruction',\n",
       "              'offsetgroup': '0',\n",
       "              'text': [<b>0.01%</b>, <b>0.01%</b>, <b>0.01%</b>, <b>0.01%</b>,\n",
       "                       <b>0.01%</b>, <b>0.01%</b>, <b>0.01%</b>, <b>0.01%</b>,\n",
       "                       <b>0.01%</b>, <b>0.01%</b>],\n",
       "              'textposition': 'outside',\n",
       "              'type': 'bar',\n",
       "              'x': [10, 11, 12, 13, 14, 15, 16, 17, 18, 19],\n",
       "              'y': array([0.33540597, 0.34210571, 0.34665675, 0.34410124, 0.3425742 , 0.34427438,\n",
       "                          0.3659515 , 0.37106709, 0.37663324, 0.36814226, 0.37942314, 0.3298222 ,\n",
       "                          0.37585396, 0.36801529, 0.36722489, 0.37069238, 0.37152794, 0.33340526,\n",
       "                          0.33025654, 0.33354562, 0.32878563, 0.3238474 , 0.33689321, 0.34256818,\n",
       "                          0.34244216, 0.33654728, 0.33498873, 0.34519149, 0.36603969, 0.36786689,\n",
       "                          0.37413694, 0.36971728, 0.36875087, 0.33462484, 0.34272074, 0.33425592,\n",
       "                          0.3312571 , 0.33275457, 0.33786523, 0.34749029, 0.34455426, 0.3454203 ,\n",
       "                          0.34385981, 0.34140396, 0.3366049 , 0.35094519, 0.34747328, 0.35004364,\n",
       "                          0.34594205, 0.34255814])},\n",
       "             {'name': 'Suffix Array construction',\n",
       "              'offsetgroup': '1',\n",
       "              'type': 'bar',\n",
       "              'x': [10, 11, 12, 13, 14, 15, 16, 17, 18, 19],\n",
       "              'y': array([13.66321974, 13.5389039 , 13.7001111 , 13.72021866, 13.6174715 ,\n",
       "                          13.90812485, 13.92692187, 13.74803579, 13.73043792, 13.864291  ,\n",
       "                          14.2288595 , 13.84523041, 13.2964421 , 13.6433723 , 14.01627839,\n",
       "                          14.07030225, 13.7834523 , 13.57731571, 14.0513978 , 13.75414803,\n",
       "                          14.07211585, 13.49752467, 14.10316226, 13.79975893, 13.97099893,\n",
       "                          14.32771547, 14.22455754, 13.86129515, 13.48384275, 13.69554262,\n",
       "                          13.6988246 , 14.14829617, 14.27613711, 13.92201731, 13.62137797,\n",
       "                          13.9477176 , 14.13298206, 13.99286976, 14.16330898, 13.45174189,\n",
       "                          13.76793001, 14.27019055, 14.14583373, 13.91710684, 13.7887609 ,\n",
       "                          13.53894615, 13.84904783, 14.10200558, 14.2482424 , 14.04140172])},\n",
       "             {'base': array([13.663219738006593, 13.538903903961181, 13.70011110305786,\n",
       "                             13.720218658447266, 13.617471504211426, 13.908124852180482,\n",
       "                             13.92692186832428, 13.748035788536072, 13.730437922477723,\n",
       "                             13.864291000366212, 14.228859496116637, 13.845230412483215,\n",
       "                             13.296442103385925, 13.643372297286987, 14.016278386116028,\n",
       "                             14.070302248001099, 13.78345229625702, 13.577315711975098,\n",
       "                             14.051397800445557, 13.754148030281067, 14.072115850448608,\n",
       "                             13.497524666786195, 14.103162264823913, 13.79975893497467,\n",
       "                             13.970998930931092, 14.327715468406677, 14.224557542800904,\n",
       "                             13.861295151710511, 13.483842754364014, 13.69554262161255,\n",
       "                             13.698824596405029, 14.14829616546631, 14.276137113571167,\n",
       "                             13.922017312049865, 13.621377968788147, 13.947717595100404,\n",
       "                             14.132982063293458, 13.992869758605957, 14.16330897808075,\n",
       "                             13.451741886138915, 13.767930006980896, 14.270190548896789,\n",
       "                             14.145833730697632, 13.91710684299469, 13.788760900497437,\n",
       "                             13.538946151733398, 13.849047827720643, 14.102005577087402,\n",
       "                             14.248242402076722, 14.041401720046997], dtype=object),\n",
       "              'name': 'Adjacency Matrix construction',\n",
       "              'offsetgroup': '1',\n",
       "              'type': 'bar',\n",
       "              'x': [10, 11, 12, 13, 14, 15, 16, 17, 18, 19],\n",
       "              'y': array([1062.36910439, 1073.00008652, 1066.01000216, 1058.08725832,\n",
       "                          1048.33088028, 1078.49115772, 1080.34128177, 1049.9394376 ,\n",
       "                          1045.68973548, 1042.44044285, 1074.76276369, 1088.61400614,\n",
       "                          1037.35162361, 1052.47973661, 1058.15452702, 1079.72500584,\n",
       "                          1049.3913203 , 1069.77854958, 1071.89336123, 1041.8492573 ,\n",
       "                          1067.28587005, 1033.91787548, 1075.50849099, 1075.91994245,\n",
       "                          1081.11199644, 1082.30358367, 1072.76427493, 1051.58142073,\n",
       "                          1042.00899756, 1039.43532147, 1041.99257205, 1075.97645478,\n",
       "                          1104.20585938, 1056.56531587, 1054.47848005, 1054.3128526 ,\n",
       "                          1071.03188546, 1063.27834294, 1077.22996569, 1035.32562189,\n",
       "                          1038.83393927, 1090.22640026, 1069.82310827, 1057.84217811,\n",
       "                          1052.89900994, 1047.02794089, 1045.91505098, 1066.20580585,\n",
       "                          1064.87765141, 1072.29949894])},\n",
       "             {'base': array([1062.369104385376, 1073.0000865221023, 1066.0100021600724,\n",
       "                             1058.0872583150863, 1048.3308802843094, 1078.4911577224732,\n",
       "                             1080.3412817716599, 1049.9394376039504, 1045.6897354841233,\n",
       "                             1042.4404428482055, 1074.7627636909485, 1088.6140061378478,\n",
       "                             1037.3516236066819, 1052.4797366142272, 1058.1545270204545,\n",
       "                             1079.725005841255, 1049.3913203001023, 1069.7785495758058,\n",
       "                             1071.893361234665, 1041.8492573022843, 1067.2858700513839,\n",
       "                             1033.917875480652, 1075.5084909915925, 1075.9199424505234,\n",
       "                             1081.1119964361192, 1082.3035836696624, 1072.764274930954,\n",
       "                             1051.5814207315445, 1042.0089975595474, 1039.4353214740754,\n",
       "                             1041.9925720453261, 1075.976454782486, 1104.205859375,\n",
       "                             1056.5653158664704, 1054.478480052948, 1054.3128525972365,\n",
       "                             1071.031885457039, 1063.278342938423, 1077.229965686798,\n",
       "                             1035.3256218910217, 1038.8339392662049, 1090.226400256157,\n",
       "                             1069.8231082677842, 1057.842178106308, 1052.8990099430084,\n",
       "                             1047.0279408931733, 1045.915050983429, 1066.205805850029,\n",
       "                             1064.8776514053345, 1072.2994989395143], dtype=object),\n",
       "              'name': 'Sequence reconstruction',\n",
       "              'offsetgroup': '1',\n",
       "              'text': [<b>100.0%</b>, <b>100.0%</b>, <b>100.0%</b>, <b>100.0%</b>,\n",
       "                       <b>100.0%</b>, <b>100.0%</b>, <b>100.0%</b>, <b>100.0%</b>,\n",
       "                       <b>100.0%</b>, <b>100.0%</b>],\n",
       "              'textposition': 'outside',\n",
       "              'type': 'bar',\n",
       "              'x': [10, 11, 12, 13, 14, 15, 16, 17, 18, 19],\n",
       "              'y': array([216.3864481 , 216.98452675, 217.2779139 , 218.07359192, 217.90404272,\n",
       "                          217.54738345, 216.67316029, 217.01029265, 217.1911849 , 217.20463841,\n",
       "                          216.96033883, 216.69639983, 217.05136914, 217.74861746, 218.33838449,\n",
       "                          219.429775  , 217.39248641, 216.65924108, 216.87155821, 217.22439909,\n",
       "                          217.49836478, 217.27060516, 217.44088416, 217.34135528, 217.56292043,\n",
       "                          218.3206748 , 217.99333053, 218.4371938 , 216.0360486 , 216.4754766 ,\n",
       "                          216.59112957, 216.69986134, 216.55755286, 217.74387543, 217.25529971,\n",
       "                          217.97175536, 217.78825727, 217.8187618 , 217.50416882, 216.85270491,\n",
       "                          217.17462857, 217.61494646, 217.43279743, 217.43910482, 217.2224648 ,\n",
       "                          214.90762997, 215.33690937, 215.54646003, 216.03888969, 215.705948  ])}],\n",
       "    'layout': {'template': '...',\n",
       "               'title': {'text': ('Raphanus sativus with Generate' ... 'De Bruijn Graph and Euler Path')},\n",
       "               'yaxis': {'title': {'text': 'time (s)'}}}\n",
       "})"
      ]
     },
     "execution_count": 333,
     "metadata": {},
     "output_type": "execute_result"
    }
   ],
   "source": [
    "labels = list('{}'.format(i) for i in range(10,20))\n",
    "\n",
    "fig = go.Figure(\n",
    "    data=[\n",
    "        go.Bar(\n",
    "            name=\"De Bruijn Graph construction\",\n",
    "            x=labels,\n",
    "            y=df_realseq_eul_mean['de_bruijn_graph_construction_time'],\n",
    "            offsetgroup=0,\n",
    "        ),\n",
    "        go.Bar(\n",
    "            name=\"Euler Path reconstruction\",\n",
    "            x=labels,\n",
    "            y=df_realseq_eul_mean['euler_path_reconstruction_time'],\n",
    "            text=list(\"<b>{}%</b>\".format(round((1-(df_realseq_eul[df_realseq_eul['sequence']==i]['edit_distance']/df_realseq_eul[df_realseq_eul['sequence']==i]['target_sequence_length'])).mean()*100,2)) for i in range(10,20)),\n",
    "            textposition='outside',offsetgroup=0,\n",
    "            base=df_realseq_eul_mean['de_bruijn_graph_construction_time'],\n",
    "        ),\n",
    "        go.Bar(\n",
    "            name=\"Suffix Array construction\",\n",
    "            x=labels,\n",
    "            y=df_real_seq_mean['suffix_array_construction_time'],\n",
    "            offsetgroup=1,\n",
    "        ),\n",
    "        go.Bar(\n",
    "            name=\"Adjacency Matrix construction\",\n",
    "            x=labels,\n",
    "            y=df_real_seq_mean['adjacency_matrix_construction_time'],\n",
    "            offsetgroup=1,\n",
    "            base=df_real_seq_mean['suffix_array_construction_time'],\n",
    "        ),\n",
    "        go.Bar(\n",
    "            name=\"Sequence reconstruction\",\n",
    "            x=labels,\n",
    "            y=df_real_seq_mean['sequence_reconstruction_time'],\n",
    "            text=list(\"<b>{}%</b>\".format(round((1-(df_real_seq[df_real_seq['sequence']==i]['edit_distance']/df_real_seq[df_real_seq['sequence']==i]['target_sequence_length'])).mean()*100,2)) for i in range(10,20)),\n",
    "            textposition='outside',offsetgroup=1,\n",
    "            base=df_real_seq_mean['adjacency_matrix_construction_time'],\n",
    "        )\n",
    "    ],\n",
    "    layout=go.Layout(\n",
    "        title=\"Raphanus sativus with Generated Reads: Suffix Array and Sequitur vs De Bruijn Graph and Euler Path\",\n",
    "        yaxis_title=\"time (s)\"\n",
    "    )\n",
    ")\n",
    "fig"
   ]
  },
  {
   "cell_type": "code",
   "execution_count": 334,
   "metadata": {},
   "outputs": [
    {
     "ename": "ValueError",
     "evalue": "Mime type rendering requires nbformat>=4.2.0 but it is not installed",
     "output_type": "error",
     "traceback": [
      "\u001b[1;31m---------------------------------------------------------------------------\u001b[0m",
      "\u001b[1;31mValueError\u001b[0m                                Traceback (most recent call last)",
      "File \u001b[1;32mc:\\Users\\A0068449\\Documents\\GitHub\\Sequitur\\.venv\\Lib\\site-packages\\IPython\\core\\formatters.py:922\u001b[0m, in \u001b[0;36mIPythonDisplayFormatter.__call__\u001b[1;34m(self, obj)\u001b[0m\n\u001b[0;32m    920\u001b[0m method \u001b[38;5;241m=\u001b[39m get_real_method(obj, \u001b[38;5;28mself\u001b[39m\u001b[38;5;241m.\u001b[39mprint_method)\n\u001b[0;32m    921\u001b[0m \u001b[38;5;28;01mif\u001b[39;00m method \u001b[38;5;129;01mis\u001b[39;00m \u001b[38;5;129;01mnot\u001b[39;00m \u001b[38;5;28;01mNone\u001b[39;00m:\n\u001b[1;32m--> 922\u001b[0m     \u001b[43mmethod\u001b[49m\u001b[43m(\u001b[49m\u001b[43m)\u001b[49m\n\u001b[0;32m    923\u001b[0m     \u001b[38;5;28;01mreturn\u001b[39;00m \u001b[38;5;28;01mTrue\u001b[39;00m\n",
      "File \u001b[1;32mc:\\Users\\A0068449\\Documents\\GitHub\\Sequitur\\.venv\\Lib\\site-packages\\plotly\\basedatatypes.py:832\u001b[0m, in \u001b[0;36mBaseFigure._ipython_display_\u001b[1;34m(self)\u001b[0m\n\u001b[0;32m    829\u001b[0m \u001b[38;5;28;01mimport\u001b[39;00m \u001b[38;5;21;01mplotly\u001b[39;00m\u001b[38;5;21;01m.\u001b[39;00m\u001b[38;5;21;01mio\u001b[39;00m \u001b[38;5;28;01mas\u001b[39;00m \u001b[38;5;21;01mpio\u001b[39;00m\n\u001b[0;32m    831\u001b[0m \u001b[38;5;28;01mif\u001b[39;00m pio\u001b[38;5;241m.\u001b[39mrenderers\u001b[38;5;241m.\u001b[39mrender_on_display \u001b[38;5;129;01mand\u001b[39;00m pio\u001b[38;5;241m.\u001b[39mrenderers\u001b[38;5;241m.\u001b[39mdefault:\n\u001b[1;32m--> 832\u001b[0m     \u001b[43mpio\u001b[49m\u001b[38;5;241;43m.\u001b[39;49m\u001b[43mshow\u001b[49m\u001b[43m(\u001b[49m\u001b[38;5;28;43mself\u001b[39;49m\u001b[43m)\u001b[49m\n\u001b[0;32m    833\u001b[0m \u001b[38;5;28;01melse\u001b[39;00m:\n\u001b[0;32m    834\u001b[0m     \u001b[38;5;28mprint\u001b[39m(\u001b[38;5;28mrepr\u001b[39m(\u001b[38;5;28mself\u001b[39m))\n",
      "File \u001b[1;32mc:\\Users\\A0068449\\Documents\\GitHub\\Sequitur\\.venv\\Lib\\site-packages\\plotly\\io\\_renderers.py:394\u001b[0m, in \u001b[0;36mshow\u001b[1;34m(fig, renderer, validate, **kwargs)\u001b[0m\n\u001b[0;32m    389\u001b[0m         \u001b[38;5;28;01mraise\u001b[39;00m \u001b[38;5;167;01mValueError\u001b[39;00m(\n\u001b[0;32m    390\u001b[0m             \u001b[38;5;124m\"\u001b[39m\u001b[38;5;124mMime type rendering requires ipython but it is not installed\u001b[39m\u001b[38;5;124m\"\u001b[39m\n\u001b[0;32m    391\u001b[0m         )\n\u001b[0;32m    393\u001b[0m     \u001b[38;5;28;01mif\u001b[39;00m \u001b[38;5;129;01mnot\u001b[39;00m nbformat \u001b[38;5;129;01mor\u001b[39;00m Version(nbformat\u001b[38;5;241m.\u001b[39m__version__) \u001b[38;5;241m<\u001b[39m Version(\u001b[38;5;124m\"\u001b[39m\u001b[38;5;124m4.2.0\u001b[39m\u001b[38;5;124m\"\u001b[39m):\n\u001b[1;32m--> 394\u001b[0m         \u001b[38;5;28;01mraise\u001b[39;00m \u001b[38;5;167;01mValueError\u001b[39;00m(\n\u001b[0;32m    395\u001b[0m             \u001b[38;5;124m\"\u001b[39m\u001b[38;5;124mMime type rendering requires nbformat>=4.2.0 but it is not installed\u001b[39m\u001b[38;5;124m\"\u001b[39m\n\u001b[0;32m    396\u001b[0m         )\n\u001b[0;32m    398\u001b[0m     ipython_display\u001b[38;5;241m.\u001b[39mdisplay(bundle, raw\u001b[38;5;241m=\u001b[39m\u001b[38;5;28;01mTrue\u001b[39;00m)\n\u001b[0;32m    400\u001b[0m \u001b[38;5;66;03m# external renderers\u001b[39;00m\n",
      "\u001b[1;31mValueError\u001b[0m: Mime type rendering requires nbformat>=4.2.0 but it is not installed"
     ]
    },
    {
     "data": {
      "application/vnd.plotly.v1+json": {
       "config": {
        "plotlyServerURL": "https://plot.ly"
       },
       "data": [
        {
         "name": "De Bruijn Graph construction",
         "offsetgroup": "0",
         "type": "bar",
         "x": [
          "20",
          "21",
          "22",
          "23",
          "24",
          "25",
          "26",
          "27",
          "28",
          "29"
         ],
         "y": [
          2.612266627172144,
          2.6584061766833806,
          2.6490940644101397,
          2.6619585080263093,
          2.661279437716414,
          2.642544750585789,
          2.8838163468895877,
          2.8002959540995147,
          2.8022940791525497,
          2.801001541556381,
          2.8309360114539532,
          2.5820985240471077,
          2.819779725307369,
          2.8248886794578754,
          2.8224314623344227,
          2.8505188818675715,
          2.864189952175793,
          2.606517351545939,
          2.5280085295002634,
          2.5156057964883214,
          2.5065460338825134,
          2.5089567933431485,
          2.584602706606795,
          2.6906795895971904,
          2.683774306832291,
          2.6658470378270978,
          2.6956998469189886,
          2.672193654339487,
          2.8027362055894818,
          2.791659319575239,
          2.794393312640309,
          2.816716819391015,
          2.8300403129763727,
          2.593480826238305,
          2.676897176882113,
          2.566621647462612,
          2.5807165993713737,
          2.579501156923248,
          2.5600598400395085,
          2.6535695863351583,
          2.6290821335955377,
          2.6434815780127927,
          2.63444807366627,
          2.6469615832770748,
          2.5835999878441416,
          2.773982578719534,
          2.7424081432528604,
          2.739894899275245,
          2.752853965410371,
          2.7674044024072044
         ]
        },
        {
         "base": [
          2.612266627172144,
          2.6584061766833806,
          2.6490940644101397,
          2.6619585080263093,
          2.661279437716414,
          2.642544750585789,
          2.8838163468895877,
          2.8002959540995147,
          2.8022940791525497,
          2.801001541556381,
          2.8309360114539532,
          2.5820985240471077,
          2.819779725307369,
          2.8248886794578754,
          2.8224314623344227,
          2.8505188818675715,
          2.864189952175793,
          2.606517351545939,
          2.5280085295002634,
          2.5156057964883214,
          2.5065460338825134,
          2.5089567933431485,
          2.584602706606795,
          2.6906795895971904,
          2.683774306832291,
          2.6658470378270978,
          2.6956998469189886,
          2.672193654339487,
          2.8027362055894818,
          2.791659319575239,
          2.794393312640309,
          2.816716819391015,
          2.8300403129763727,
          2.593480826238305,
          2.676897176882113,
          2.566621647462612,
          2.5807165993713737,
          2.579501156923248,
          2.5600598400395085,
          2.6535695863351583,
          2.6290821335955377,
          2.6434815780127927,
          2.63444807366627,
          2.6469615832770748,
          2.5835999878441416,
          2.773982578719534,
          2.7424081432528604,
          2.739894899275245,
          2.752853965410371,
          2.7674044024072044
         ],
         "name": "Euler Path reconstruction",
         "offsetgroup": "0",
         "text": [
          "<b>0.01%</b>",
          "<b>0.01%</b>",
          "<b>0.01%</b>",
          "<b>0.01%</b>",
          "<b>0.01%</b>",
          "<b>0.01%</b>",
          "<b>0.01%</b>",
          "<b>0.01%</b>",
          "<b>0.01%</b>",
          "<b>0.01%</b>"
         ],
         "textposition": "outside",
         "type": "bar",
         "x": [
          "20",
          "21",
          "22",
          "23",
          "24",
          "25",
          "26",
          "27",
          "28",
          "29"
         ],
         "y": [
          0.335405974620726,
          0.34210571196021106,
          0.3466567526794063,
          0.34410124139087966,
          0.3425742041192403,
          0.3442743798000061,
          0.36595150331171555,
          0.371067086778036,
          0.37663323565227225,
          0.36814225755086777,
          0.37942313822304313,
          0.32982219835607024,
          0.37585395999071064,
          0.368015292330486,
          0.36722489066240277,
          0.3706923803469031,
          0.37152794151771384,
          0.33340525545725025,
          0.3302565431594848,
          0.3335456241049419,
          0.32878563031917646,
          0.323847402712194,
          0.3368932073872264,
          0.34256817526933625,
          0.3424421593038048,
          0.336547283079566,
          0.3349887314075379,
          0.345191485591051,
          0.3660396931811078,
          0.36786688583653154,
          0.37413694067699144,
          0.3697172802250559,
          0.36875086609910174,
          0.3346248362704024,
          0.3427207411789314,
          0.3342559159674296,
          0.3312571025476222,
          0.3327545720774952,
          0.33786522853665224,
          0.34749029113025215,
          0.34455425681137464,
          0.3454203006697863,
          0.3438598052466788,
          0.34140396315877014,
          0.3366048965221498,
          0.35094518835951655,
          0.34747327525441224,
          0.3500436368802697,
          0.3459420540274643,
          0.34255813540481955
         ]
        },
        {
         "name": "Suffix Array construction",
         "offsetgroup": "1",
         "type": "bar",
         "x": [
          "20",
          "21",
          "22",
          "23",
          "24",
          "25",
          "26",
          "27",
          "28",
          "29"
         ],
         "y": [
          13.663219738006593,
          13.538903903961181,
          13.70011110305786,
          13.720218658447266,
          13.617471504211426,
          13.908124852180482,
          13.92692186832428,
          13.748035788536072,
          13.730437922477723,
          13.864291000366212,
          14.228859496116637,
          13.845230412483215,
          13.296442103385925,
          13.643372297286987,
          14.016278386116028,
          14.070302248001099,
          13.78345229625702,
          13.577315711975098,
          14.051397800445557,
          13.754148030281067,
          14.072115850448608,
          13.497524666786195,
          14.103162264823913,
          13.79975893497467,
          13.970998930931092,
          14.327715468406677,
          14.224557542800904,
          13.861295151710511,
          13.483842754364014,
          13.69554262161255,
          13.698824596405029,
          14.14829616546631,
          14.276137113571167,
          13.922017312049865,
          13.621377968788147,
          13.947717595100404,
          14.132982063293458,
          13.992869758605957,
          14.16330897808075,
          13.451741886138915,
          13.767930006980896,
          14.270190548896789,
          14.145833730697632,
          13.91710684299469,
          13.788760900497437,
          13.538946151733398,
          13.849047827720643,
          14.102005577087402,
          14.248242402076722,
          14.041401720046997
         ]
        },
        {
         "base": [
          13.663219738006593,
          13.538903903961181,
          13.70011110305786,
          13.720218658447266,
          13.617471504211426,
          13.908124852180482,
          13.92692186832428,
          13.748035788536072,
          13.730437922477723,
          13.864291000366212,
          14.228859496116637,
          13.845230412483215,
          13.296442103385925,
          13.643372297286987,
          14.016278386116028,
          14.070302248001099,
          13.78345229625702,
          13.577315711975098,
          14.051397800445557,
          13.754148030281067,
          14.072115850448608,
          13.497524666786195,
          14.103162264823913,
          13.79975893497467,
          13.970998930931092,
          14.327715468406677,
          14.224557542800904,
          13.861295151710511,
          13.483842754364014,
          13.69554262161255,
          13.698824596405029,
          14.14829616546631,
          14.276137113571167,
          13.922017312049865,
          13.621377968788147,
          13.947717595100404,
          14.132982063293458,
          13.992869758605957,
          14.16330897808075,
          13.451741886138915,
          13.767930006980896,
          14.270190548896789,
          14.145833730697632,
          13.91710684299469,
          13.788760900497437,
          13.538946151733398,
          13.849047827720643,
          14.102005577087402,
          14.248242402076722,
          14.041401720046997
         ],
         "name": "Adjacency Matrix construction",
         "offsetgroup": "1",
         "type": "bar",
         "x": [
          "20",
          "21",
          "22",
          "23",
          "24",
          "25",
          "26",
          "27",
          "28",
          "29"
         ],
         "y": [
          1062.369104385376,
          1073.0000865221023,
          1066.0100021600724,
          1058.0872583150863,
          1048.3308802843094,
          1078.4911577224732,
          1080.3412817716599,
          1049.9394376039504,
          1045.6897354841233,
          1042.4404428482055,
          1074.7627636909485,
          1088.6140061378478,
          1037.3516236066819,
          1052.4797366142272,
          1058.1545270204545,
          1079.725005841255,
          1049.3913203001023,
          1069.7785495758058,
          1071.893361234665,
          1041.8492573022843,
          1067.2858700513839,
          1033.917875480652,
          1075.5084909915925,
          1075.9199424505234,
          1081.1119964361192,
          1082.3035836696624,
          1072.764274930954,
          1051.5814207315445,
          1042.0089975595474,
          1039.4353214740754,
          1041.9925720453261,
          1075.976454782486,
          1104.205859375,
          1056.5653158664704,
          1054.478480052948,
          1054.3128525972365,
          1071.031885457039,
          1063.278342938423,
          1077.229965686798,
          1035.3256218910217,
          1038.8339392662049,
          1090.226400256157,
          1069.8231082677842,
          1057.842178106308,
          1052.8990099430084,
          1047.0279408931733,
          1045.915050983429,
          1066.205805850029,
          1064.8776514053345,
          1072.2994989395143
         ]
        },
        {
         "base": [
          1062.369104385376,
          1073.0000865221023,
          1066.0100021600724,
          1058.0872583150863,
          1048.3308802843094,
          1078.4911577224732,
          1080.3412817716599,
          1049.9394376039504,
          1045.6897354841233,
          1042.4404428482055,
          1074.7627636909485,
          1088.6140061378478,
          1037.3516236066819,
          1052.4797366142272,
          1058.1545270204545,
          1079.725005841255,
          1049.3913203001023,
          1069.7785495758058,
          1071.893361234665,
          1041.8492573022843,
          1067.2858700513839,
          1033.917875480652,
          1075.5084909915925,
          1075.9199424505234,
          1081.1119964361192,
          1082.3035836696624,
          1072.764274930954,
          1051.5814207315445,
          1042.0089975595474,
          1039.4353214740754,
          1041.9925720453261,
          1075.976454782486,
          1104.205859375,
          1056.5653158664704,
          1054.478480052948,
          1054.3128525972365,
          1071.031885457039,
          1063.278342938423,
          1077.229965686798,
          1035.3256218910217,
          1038.8339392662049,
          1090.226400256157,
          1069.8231082677842,
          1057.842178106308,
          1052.8990099430084,
          1047.0279408931733,
          1045.915050983429,
          1066.205805850029,
          1064.8776514053345,
          1072.2994989395143
         ],
         "name": "Sequence reconstruction",
         "offsetgroup": "1",
         "text": [
          "<b>100.0%</b>",
          "<b>100.0%</b>",
          "<b>100.0%</b>",
          "<b>100.0%</b>",
          "<b>100.0%</b>",
          "<b>100.0%</b>",
          "<b>100.0%</b>",
          "<b>100.0%</b>",
          "<b>100.0%</b>",
          "<b>100.0%</b>"
         ],
         "textposition": "outside",
         "type": "bar",
         "x": [
          "20",
          "21",
          "22",
          "23",
          "24",
          "25",
          "26",
          "27",
          "28",
          "29"
         ],
         "y": [
          216.386448097229,
          216.9845267534256,
          217.27791390419006,
          218.07359192371368,
          217.90404272079468,
          217.5473834514618,
          216.67316029071807,
          217.0102926492691,
          217.19118490219117,
          217.20463840961457,
          216.96033883094788,
          216.69639983177186,
          217.05136914253234,
          217.74861745834352,
          218.33838448524475,
          219.42977499961853,
          217.3924864053726,
          216.65924108028412,
          216.87155821323395,
          217.22439908981323,
          217.49836478233337,
          217.27060515880584,
          217.4408841609955,
          217.34135527610778,
          217.56292042732238,
          218.3206748008728,
          217.99333052635194,
          218.43719379901887,
          216.03604860305785,
          216.47547659873962,
          216.59112956523896,
          216.6998613357544,
          216.55755286216737,
          217.74387543201448,
          217.25529971122742,
          217.971755361557,
          217.78825726509095,
          217.81876180171966,
          217.50416882038115,
          216.85270490646363,
          217.1746285676956,
          217.61494646072387,
          217.4327974319458,
          217.4391048192978,
          217.22246479988098,
          214.90762996673584,
          215.33690936565398,
          215.54646003246307,
          216.03888969421388,
          215.70594799518585
         ]
        }
       ],
       "layout": {
        "template": {
         "data": {
          "bar": [
           {
            "error_x": {
             "color": "#2a3f5f"
            },
            "error_y": {
             "color": "#2a3f5f"
            },
            "marker": {
             "line": {
              "color": "#E5ECF6",
              "width": 0.5
             },
             "pattern": {
              "fillmode": "overlay",
              "size": 10,
              "solidity": 0.2
             }
            },
            "type": "bar"
           }
          ],
          "barpolar": [
           {
            "marker": {
             "line": {
              "color": "#E5ECF6",
              "width": 0.5
             },
             "pattern": {
              "fillmode": "overlay",
              "size": 10,
              "solidity": 0.2
             }
            },
            "type": "barpolar"
           }
          ],
          "carpet": [
           {
            "aaxis": {
             "endlinecolor": "#2a3f5f",
             "gridcolor": "white",
             "linecolor": "white",
             "minorgridcolor": "white",
             "startlinecolor": "#2a3f5f"
            },
            "baxis": {
             "endlinecolor": "#2a3f5f",
             "gridcolor": "white",
             "linecolor": "white",
             "minorgridcolor": "white",
             "startlinecolor": "#2a3f5f"
            },
            "type": "carpet"
           }
          ],
          "choropleth": [
           {
            "colorbar": {
             "outlinewidth": 0,
             "ticks": ""
            },
            "type": "choropleth"
           }
          ],
          "contour": [
           {
            "colorbar": {
             "outlinewidth": 0,
             "ticks": ""
            },
            "colorscale": [
             [
              0,
              "#0d0887"
             ],
             [
              0.1111111111111111,
              "#46039f"
             ],
             [
              0.2222222222222222,
              "#7201a8"
             ],
             [
              0.3333333333333333,
              "#9c179e"
             ],
             [
              0.4444444444444444,
              "#bd3786"
             ],
             [
              0.5555555555555556,
              "#d8576b"
             ],
             [
              0.6666666666666666,
              "#ed7953"
             ],
             [
              0.7777777777777778,
              "#fb9f3a"
             ],
             [
              0.8888888888888888,
              "#fdca26"
             ],
             [
              1,
              "#f0f921"
             ]
            ],
            "type": "contour"
           }
          ],
          "contourcarpet": [
           {
            "colorbar": {
             "outlinewidth": 0,
             "ticks": ""
            },
            "type": "contourcarpet"
           }
          ],
          "heatmap": [
           {
            "colorbar": {
             "outlinewidth": 0,
             "ticks": ""
            },
            "colorscale": [
             [
              0,
              "#0d0887"
             ],
             [
              0.1111111111111111,
              "#46039f"
             ],
             [
              0.2222222222222222,
              "#7201a8"
             ],
             [
              0.3333333333333333,
              "#9c179e"
             ],
             [
              0.4444444444444444,
              "#bd3786"
             ],
             [
              0.5555555555555556,
              "#d8576b"
             ],
             [
              0.6666666666666666,
              "#ed7953"
             ],
             [
              0.7777777777777778,
              "#fb9f3a"
             ],
             [
              0.8888888888888888,
              "#fdca26"
             ],
             [
              1,
              "#f0f921"
             ]
            ],
            "type": "heatmap"
           }
          ],
          "heatmapgl": [
           {
            "colorbar": {
             "outlinewidth": 0,
             "ticks": ""
            },
            "colorscale": [
             [
              0,
              "#0d0887"
             ],
             [
              0.1111111111111111,
              "#46039f"
             ],
             [
              0.2222222222222222,
              "#7201a8"
             ],
             [
              0.3333333333333333,
              "#9c179e"
             ],
             [
              0.4444444444444444,
              "#bd3786"
             ],
             [
              0.5555555555555556,
              "#d8576b"
             ],
             [
              0.6666666666666666,
              "#ed7953"
             ],
             [
              0.7777777777777778,
              "#fb9f3a"
             ],
             [
              0.8888888888888888,
              "#fdca26"
             ],
             [
              1,
              "#f0f921"
             ]
            ],
            "type": "heatmapgl"
           }
          ],
          "histogram": [
           {
            "marker": {
             "pattern": {
              "fillmode": "overlay",
              "size": 10,
              "solidity": 0.2
             }
            },
            "type": "histogram"
           }
          ],
          "histogram2d": [
           {
            "colorbar": {
             "outlinewidth": 0,
             "ticks": ""
            },
            "colorscale": [
             [
              0,
              "#0d0887"
             ],
             [
              0.1111111111111111,
              "#46039f"
             ],
             [
              0.2222222222222222,
              "#7201a8"
             ],
             [
              0.3333333333333333,
              "#9c179e"
             ],
             [
              0.4444444444444444,
              "#bd3786"
             ],
             [
              0.5555555555555556,
              "#d8576b"
             ],
             [
              0.6666666666666666,
              "#ed7953"
             ],
             [
              0.7777777777777778,
              "#fb9f3a"
             ],
             [
              0.8888888888888888,
              "#fdca26"
             ],
             [
              1,
              "#f0f921"
             ]
            ],
            "type": "histogram2d"
           }
          ],
          "histogram2dcontour": [
           {
            "colorbar": {
             "outlinewidth": 0,
             "ticks": ""
            },
            "colorscale": [
             [
              0,
              "#0d0887"
             ],
             [
              0.1111111111111111,
              "#46039f"
             ],
             [
              0.2222222222222222,
              "#7201a8"
             ],
             [
              0.3333333333333333,
              "#9c179e"
             ],
             [
              0.4444444444444444,
              "#bd3786"
             ],
             [
              0.5555555555555556,
              "#d8576b"
             ],
             [
              0.6666666666666666,
              "#ed7953"
             ],
             [
              0.7777777777777778,
              "#fb9f3a"
             ],
             [
              0.8888888888888888,
              "#fdca26"
             ],
             [
              1,
              "#f0f921"
             ]
            ],
            "type": "histogram2dcontour"
           }
          ],
          "mesh3d": [
           {
            "colorbar": {
             "outlinewidth": 0,
             "ticks": ""
            },
            "type": "mesh3d"
           }
          ],
          "parcoords": [
           {
            "line": {
             "colorbar": {
              "outlinewidth": 0,
              "ticks": ""
             }
            },
            "type": "parcoords"
           }
          ],
          "pie": [
           {
            "automargin": true,
            "type": "pie"
           }
          ],
          "scatter": [
           {
            "fillpattern": {
             "fillmode": "overlay",
             "size": 10,
             "solidity": 0.2
            },
            "type": "scatter"
           }
          ],
          "scatter3d": [
           {
            "line": {
             "colorbar": {
              "outlinewidth": 0,
              "ticks": ""
             }
            },
            "marker": {
             "colorbar": {
              "outlinewidth": 0,
              "ticks": ""
             }
            },
            "type": "scatter3d"
           }
          ],
          "scattercarpet": [
           {
            "marker": {
             "colorbar": {
              "outlinewidth": 0,
              "ticks": ""
             }
            },
            "type": "scattercarpet"
           }
          ],
          "scattergeo": [
           {
            "marker": {
             "colorbar": {
              "outlinewidth": 0,
              "ticks": ""
             }
            },
            "type": "scattergeo"
           }
          ],
          "scattergl": [
           {
            "marker": {
             "colorbar": {
              "outlinewidth": 0,
              "ticks": ""
             }
            },
            "type": "scattergl"
           }
          ],
          "scattermapbox": [
           {
            "marker": {
             "colorbar": {
              "outlinewidth": 0,
              "ticks": ""
             }
            },
            "type": "scattermapbox"
           }
          ],
          "scatterpolar": [
           {
            "marker": {
             "colorbar": {
              "outlinewidth": 0,
              "ticks": ""
             }
            },
            "type": "scatterpolar"
           }
          ],
          "scatterpolargl": [
           {
            "marker": {
             "colorbar": {
              "outlinewidth": 0,
              "ticks": ""
             }
            },
            "type": "scatterpolargl"
           }
          ],
          "scatterternary": [
           {
            "marker": {
             "colorbar": {
              "outlinewidth": 0,
              "ticks": ""
             }
            },
            "type": "scatterternary"
           }
          ],
          "surface": [
           {
            "colorbar": {
             "outlinewidth": 0,
             "ticks": ""
            },
            "colorscale": [
             [
              0,
              "#0d0887"
             ],
             [
              0.1111111111111111,
              "#46039f"
             ],
             [
              0.2222222222222222,
              "#7201a8"
             ],
             [
              0.3333333333333333,
              "#9c179e"
             ],
             [
              0.4444444444444444,
              "#bd3786"
             ],
             [
              0.5555555555555556,
              "#d8576b"
             ],
             [
              0.6666666666666666,
              "#ed7953"
             ],
             [
              0.7777777777777778,
              "#fb9f3a"
             ],
             [
              0.8888888888888888,
              "#fdca26"
             ],
             [
              1,
              "#f0f921"
             ]
            ],
            "type": "surface"
           }
          ],
          "table": [
           {
            "cells": {
             "fill": {
              "color": "#EBF0F8"
             },
             "line": {
              "color": "white"
             }
            },
            "header": {
             "fill": {
              "color": "#C8D4E3"
             },
             "line": {
              "color": "white"
             }
            },
            "type": "table"
           }
          ]
         },
         "layout": {
          "annotationdefaults": {
           "arrowcolor": "#2a3f5f",
           "arrowhead": 0,
           "arrowwidth": 1
          },
          "autotypenumbers": "strict",
          "coloraxis": {
           "colorbar": {
            "outlinewidth": 0,
            "ticks": ""
           }
          },
          "colorscale": {
           "diverging": [
            [
             0,
             "#8e0152"
            ],
            [
             0.1,
             "#c51b7d"
            ],
            [
             0.2,
             "#de77ae"
            ],
            [
             0.3,
             "#f1b6da"
            ],
            [
             0.4,
             "#fde0ef"
            ],
            [
             0.5,
             "#f7f7f7"
            ],
            [
             0.6,
             "#e6f5d0"
            ],
            [
             0.7,
             "#b8e186"
            ],
            [
             0.8,
             "#7fbc41"
            ],
            [
             0.9,
             "#4d9221"
            ],
            [
             1,
             "#276419"
            ]
           ],
           "sequential": [
            [
             0,
             "#0d0887"
            ],
            [
             0.1111111111111111,
             "#46039f"
            ],
            [
             0.2222222222222222,
             "#7201a8"
            ],
            [
             0.3333333333333333,
             "#9c179e"
            ],
            [
             0.4444444444444444,
             "#bd3786"
            ],
            [
             0.5555555555555556,
             "#d8576b"
            ],
            [
             0.6666666666666666,
             "#ed7953"
            ],
            [
             0.7777777777777778,
             "#fb9f3a"
            ],
            [
             0.8888888888888888,
             "#fdca26"
            ],
            [
             1,
             "#f0f921"
            ]
           ],
           "sequentialminus": [
            [
             0,
             "#0d0887"
            ],
            [
             0.1111111111111111,
             "#46039f"
            ],
            [
             0.2222222222222222,
             "#7201a8"
            ],
            [
             0.3333333333333333,
             "#9c179e"
            ],
            [
             0.4444444444444444,
             "#bd3786"
            ],
            [
             0.5555555555555556,
             "#d8576b"
            ],
            [
             0.6666666666666666,
             "#ed7953"
            ],
            [
             0.7777777777777778,
             "#fb9f3a"
            ],
            [
             0.8888888888888888,
             "#fdca26"
            ],
            [
             1,
             "#f0f921"
            ]
           ]
          },
          "colorway": [
           "#636efa",
           "#EF553B",
           "#00cc96",
           "#ab63fa",
           "#FFA15A",
           "#19d3f3",
           "#FF6692",
           "#B6E880",
           "#FF97FF",
           "#FECB52"
          ],
          "font": {
           "color": "#2a3f5f"
          },
          "geo": {
           "bgcolor": "white",
           "lakecolor": "white",
           "landcolor": "#E5ECF6",
           "showlakes": true,
           "showland": true,
           "subunitcolor": "white"
          },
          "hoverlabel": {
           "align": "left"
          },
          "hovermode": "closest",
          "mapbox": {
           "style": "light"
          },
          "paper_bgcolor": "white",
          "plot_bgcolor": "#E5ECF6",
          "polar": {
           "angularaxis": {
            "gridcolor": "white",
            "linecolor": "white",
            "ticks": ""
           },
           "bgcolor": "#E5ECF6",
           "radialaxis": {
            "gridcolor": "white",
            "linecolor": "white",
            "ticks": ""
           }
          },
          "scene": {
           "xaxis": {
            "backgroundcolor": "#E5ECF6",
            "gridcolor": "white",
            "gridwidth": 2,
            "linecolor": "white",
            "showbackground": true,
            "ticks": "",
            "zerolinecolor": "white"
           },
           "yaxis": {
            "backgroundcolor": "#E5ECF6",
            "gridcolor": "white",
            "gridwidth": 2,
            "linecolor": "white",
            "showbackground": true,
            "ticks": "",
            "zerolinecolor": "white"
           },
           "zaxis": {
            "backgroundcolor": "#E5ECF6",
            "gridcolor": "white",
            "gridwidth": 2,
            "linecolor": "white",
            "showbackground": true,
            "ticks": "",
            "zerolinecolor": "white"
           }
          },
          "shapedefaults": {
           "line": {
            "color": "#2a3f5f"
           }
          },
          "ternary": {
           "aaxis": {
            "gridcolor": "white",
            "linecolor": "white",
            "ticks": ""
           },
           "baxis": {
            "gridcolor": "white",
            "linecolor": "white",
            "ticks": ""
           },
           "bgcolor": "#E5ECF6",
           "caxis": {
            "gridcolor": "white",
            "linecolor": "white",
            "ticks": ""
           }
          },
          "title": {
           "x": 0.05
          },
          "xaxis": {
           "automargin": true,
           "gridcolor": "white",
           "linecolor": "white",
           "ticks": "",
           "title": {
            "standoff": 15
           },
           "zerolinecolor": "white",
           "zerolinewidth": 2
          },
          "yaxis": {
           "automargin": true,
           "gridcolor": "white",
           "linecolor": "white",
           "ticks": "",
           "title": {
            "standoff": 15
           },
           "zerolinecolor": "white",
           "zerolinewidth": 2
          }
         }
        },
        "title": {
         "text": "Raphanus sativus with Generated Reads: Suffix Array and Sequitur vs De Bruijn Graph and Euler Path"
        },
        "yaxis": {
         "title": {
          "text": "time (s)"
         }
        }
       }
      },
      "text/html": [
       "<div>                        <script type=\"text/javascript\">window.PlotlyConfig = {MathJaxConfig: 'local'};</script>\n",
       "        <script charset=\"utf-8\" src=\"https://cdn.plot.ly/plotly-2.30.0.min.js\"></script>                <div id=\"2cb1bac9-e19d-4cd2-84e2-4b624de89993\" class=\"plotly-graph-div\" style=\"height:100%; width:100%;\"></div>            <script type=\"text/javascript\">                                    window.PLOTLYENV=window.PLOTLYENV || {};                                    if (document.getElementById(\"2cb1bac9-e19d-4cd2-84e2-4b624de89993\")) {                    Plotly.newPlot(                        \"2cb1bac9-e19d-4cd2-84e2-4b624de89993\",                        [{\"name\":\"De Bruijn Graph construction\",\"offsetgroup\":\"0\",\"x\":[\"20\",\"21\",\"22\",\"23\",\"24\",\"25\",\"26\",\"27\",\"28\",\"29\"],\"y\":[2.612266627172144,2.6584061766833806,2.6490940644101397,2.6619585080263093,2.661279437716414,2.642544750585789,2.8838163468895877,2.8002959540995147,2.8022940791525497,2.801001541556381,2.8309360114539532,2.5820985240471077,2.819779725307369,2.8248886794578754,2.8224314623344227,2.8505188818675715,2.864189952175793,2.606517351545939,2.5280085295002634,2.5156057964883214,2.5065460338825134,2.5089567933431485,2.584602706606795,2.6906795895971904,2.683774306832291,2.6658470378270978,2.6956998469189886,2.672193654339487,2.8027362055894818,2.791659319575239,2.794393312640309,2.816716819391015,2.8300403129763727,2.593480826238305,2.676897176882113,2.566621647462612,2.5807165993713737,2.579501156923248,2.5600598400395085,2.6535695863351583,2.6290821335955377,2.6434815780127927,2.63444807366627,2.6469615832770748,2.5835999878441416,2.773982578719534,2.7424081432528604,2.739894899275245,2.752853965410371,2.7674044024072044],\"type\":\"bar\"},{\"base\":[2.612266627172144,2.6584061766833806,2.6490940644101397,2.6619585080263093,2.661279437716414,2.642544750585789,2.8838163468895877,2.8002959540995147,2.8022940791525497,2.801001541556381,2.8309360114539532,2.5820985240471077,2.819779725307369,2.8248886794578754,2.8224314623344227,2.8505188818675715,2.864189952175793,2.606517351545939,2.5280085295002634,2.5156057964883214,2.5065460338825134,2.5089567933431485,2.584602706606795,2.6906795895971904,2.683774306832291,2.6658470378270978,2.6956998469189886,2.672193654339487,2.8027362055894818,2.791659319575239,2.794393312640309,2.816716819391015,2.8300403129763727,2.593480826238305,2.676897176882113,2.566621647462612,2.5807165993713737,2.579501156923248,2.5600598400395085,2.6535695863351583,2.6290821335955377,2.6434815780127927,2.63444807366627,2.6469615832770748,2.5835999878441416,2.773982578719534,2.7424081432528604,2.739894899275245,2.752853965410371,2.7674044024072044],\"name\":\"Euler Path reconstruction\",\"offsetgroup\":\"0\",\"text\":[\"\\u003cb\\u003e0.01%\\u003c\\u002fb\\u003e\",\"\\u003cb\\u003e0.01%\\u003c\\u002fb\\u003e\",\"\\u003cb\\u003e0.01%\\u003c\\u002fb\\u003e\",\"\\u003cb\\u003e0.01%\\u003c\\u002fb\\u003e\",\"\\u003cb\\u003e0.01%\\u003c\\u002fb\\u003e\",\"\\u003cb\\u003e0.01%\\u003c\\u002fb\\u003e\",\"\\u003cb\\u003e0.01%\\u003c\\u002fb\\u003e\",\"\\u003cb\\u003e0.01%\\u003c\\u002fb\\u003e\",\"\\u003cb\\u003e0.01%\\u003c\\u002fb\\u003e\",\"\\u003cb\\u003e0.01%\\u003c\\u002fb\\u003e\"],\"textposition\":\"outside\",\"x\":[\"20\",\"21\",\"22\",\"23\",\"24\",\"25\",\"26\",\"27\",\"28\",\"29\"],\"y\":[0.335405974620726,0.34210571196021106,0.3466567526794063,0.34410124139087966,0.3425742041192403,0.3442743798000061,0.36595150331171555,0.371067086778036,0.37663323565227225,0.36814225755086777,0.37942313822304313,0.32982219835607024,0.37585395999071064,0.368015292330486,0.36722489066240277,0.3706923803469031,0.37152794151771384,0.33340525545725025,0.3302565431594848,0.3335456241049419,0.32878563031917646,0.323847402712194,0.3368932073872264,0.34256817526933625,0.3424421593038048,0.336547283079566,0.3349887314075379,0.345191485591051,0.3660396931811078,0.36786688583653154,0.37413694067699144,0.3697172802250559,0.36875086609910174,0.3346248362704024,0.3427207411789314,0.3342559159674296,0.3312571025476222,0.3327545720774952,0.33786522853665224,0.34749029113025215,0.34455425681137464,0.3454203006697863,0.3438598052466788,0.34140396315877014,0.3366048965221498,0.35094518835951655,0.34747327525441224,0.3500436368802697,0.3459420540274643,0.34255813540481955],\"type\":\"bar\"},{\"name\":\"Suffix Array construction\",\"offsetgroup\":\"1\",\"x\":[\"20\",\"21\",\"22\",\"23\",\"24\",\"25\",\"26\",\"27\",\"28\",\"29\"],\"y\":[13.663219738006593,13.538903903961181,13.70011110305786,13.720218658447266,13.617471504211426,13.908124852180482,13.92692186832428,13.748035788536072,13.730437922477723,13.864291000366212,14.228859496116637,13.845230412483215,13.296442103385925,13.643372297286987,14.016278386116028,14.070302248001099,13.78345229625702,13.577315711975098,14.051397800445557,13.754148030281067,14.072115850448608,13.497524666786195,14.103162264823913,13.79975893497467,13.970998930931092,14.327715468406677,14.224557542800904,13.861295151710511,13.483842754364014,13.69554262161255,13.698824596405029,14.14829616546631,14.276137113571167,13.922017312049865,13.621377968788147,13.947717595100404,14.132982063293458,13.992869758605957,14.16330897808075,13.451741886138915,13.767930006980896,14.270190548896789,14.145833730697632,13.91710684299469,13.788760900497437,13.538946151733398,13.849047827720643,14.102005577087402,14.248242402076722,14.041401720046997],\"type\":\"bar\"},{\"base\":[13.663219738006593,13.538903903961181,13.70011110305786,13.720218658447266,13.617471504211426,13.908124852180482,13.92692186832428,13.748035788536072,13.730437922477723,13.864291000366212,14.228859496116637,13.845230412483215,13.296442103385925,13.643372297286987,14.016278386116028,14.070302248001099,13.78345229625702,13.577315711975098,14.051397800445557,13.754148030281067,14.072115850448608,13.497524666786195,14.103162264823913,13.79975893497467,13.970998930931092,14.327715468406677,14.224557542800904,13.861295151710511,13.483842754364014,13.69554262161255,13.698824596405029,14.14829616546631,14.276137113571167,13.922017312049865,13.621377968788147,13.947717595100404,14.132982063293458,13.992869758605957,14.16330897808075,13.451741886138915,13.767930006980896,14.270190548896789,14.145833730697632,13.91710684299469,13.788760900497437,13.538946151733398,13.849047827720643,14.102005577087402,14.248242402076722,14.041401720046997],\"name\":\"Adjacency Matrix construction\",\"offsetgroup\":\"1\",\"x\":[\"20\",\"21\",\"22\",\"23\",\"24\",\"25\",\"26\",\"27\",\"28\",\"29\"],\"y\":[1062.369104385376,1073.0000865221023,1066.0100021600724,1058.0872583150863,1048.3308802843094,1078.4911577224732,1080.3412817716599,1049.9394376039504,1045.6897354841233,1042.4404428482055,1074.7627636909485,1088.6140061378478,1037.3516236066819,1052.4797366142272,1058.1545270204545,1079.725005841255,1049.3913203001023,1069.7785495758058,1071.893361234665,1041.8492573022843,1067.2858700513839,1033.917875480652,1075.5084909915925,1075.9199424505234,1081.1119964361192,1082.3035836696624,1072.764274930954,1051.5814207315445,1042.0089975595474,1039.4353214740754,1041.9925720453261,1075.976454782486,1104.205859375,1056.5653158664704,1054.478480052948,1054.3128525972365,1071.031885457039,1063.278342938423,1077.229965686798,1035.3256218910217,1038.8339392662049,1090.226400256157,1069.8231082677842,1057.842178106308,1052.8990099430084,1047.0279408931733,1045.915050983429,1066.205805850029,1064.8776514053345,1072.2994989395143],\"type\":\"bar\"},{\"base\":[1062.369104385376,1073.0000865221023,1066.0100021600724,1058.0872583150863,1048.3308802843094,1078.4911577224732,1080.3412817716599,1049.9394376039504,1045.6897354841233,1042.4404428482055,1074.7627636909485,1088.6140061378478,1037.3516236066819,1052.4797366142272,1058.1545270204545,1079.725005841255,1049.3913203001023,1069.7785495758058,1071.893361234665,1041.8492573022843,1067.2858700513839,1033.917875480652,1075.5084909915925,1075.9199424505234,1081.1119964361192,1082.3035836696624,1072.764274930954,1051.5814207315445,1042.0089975595474,1039.4353214740754,1041.9925720453261,1075.976454782486,1104.205859375,1056.5653158664704,1054.478480052948,1054.3128525972365,1071.031885457039,1063.278342938423,1077.229965686798,1035.3256218910217,1038.8339392662049,1090.226400256157,1069.8231082677842,1057.842178106308,1052.8990099430084,1047.0279408931733,1045.915050983429,1066.205805850029,1064.8776514053345,1072.2994989395143],\"name\":\"Sequence reconstruction\",\"offsetgroup\":\"1\",\"text\":[\"\\u003cb\\u003e100.0%\\u003c\\u002fb\\u003e\",\"\\u003cb\\u003e100.0%\\u003c\\u002fb\\u003e\",\"\\u003cb\\u003e100.0%\\u003c\\u002fb\\u003e\",\"\\u003cb\\u003e100.0%\\u003c\\u002fb\\u003e\",\"\\u003cb\\u003e100.0%\\u003c\\u002fb\\u003e\",\"\\u003cb\\u003e100.0%\\u003c\\u002fb\\u003e\",\"\\u003cb\\u003e100.0%\\u003c\\u002fb\\u003e\",\"\\u003cb\\u003e100.0%\\u003c\\u002fb\\u003e\",\"\\u003cb\\u003e100.0%\\u003c\\u002fb\\u003e\",\"\\u003cb\\u003e100.0%\\u003c\\u002fb\\u003e\"],\"textposition\":\"outside\",\"x\":[\"20\",\"21\",\"22\",\"23\",\"24\",\"25\",\"26\",\"27\",\"28\",\"29\"],\"y\":[216.386448097229,216.9845267534256,217.27791390419006,218.07359192371368,217.90404272079468,217.5473834514618,216.67316029071807,217.0102926492691,217.19118490219117,217.20463840961457,216.96033883094788,216.69639983177186,217.05136914253234,217.74861745834352,218.33838448524475,219.42977499961853,217.3924864053726,216.65924108028412,216.87155821323395,217.22439908981323,217.49836478233337,217.27060515880584,217.4408841609955,217.34135527610778,217.56292042732238,218.3206748008728,217.99333052635194,218.43719379901887,216.03604860305785,216.47547659873962,216.59112956523896,216.6998613357544,216.55755286216737,217.74387543201448,217.25529971122742,217.971755361557,217.78825726509095,217.81876180171966,217.50416882038115,216.85270490646363,217.1746285676956,217.61494646072387,217.4327974319458,217.4391048192978,217.22246479988098,214.90762996673584,215.33690936565398,215.54646003246307,216.03888969421388,215.70594799518585],\"type\":\"bar\"}],                        {\"title\":{\"text\":\"Raphanus sativus with Generated Reads: Suffix Array and Sequitur vs De Bruijn Graph and Euler Path\"},\"yaxis\":{\"title\":{\"text\":\"time (s)\"}},\"template\":{\"data\":{\"histogram2dcontour\":[{\"type\":\"histogram2dcontour\",\"colorbar\":{\"outlinewidth\":0,\"ticks\":\"\"},\"colorscale\":[[0.0,\"#0d0887\"],[0.1111111111111111,\"#46039f\"],[0.2222222222222222,\"#7201a8\"],[0.3333333333333333,\"#9c179e\"],[0.4444444444444444,\"#bd3786\"],[0.5555555555555556,\"#d8576b\"],[0.6666666666666666,\"#ed7953\"],[0.7777777777777778,\"#fb9f3a\"],[0.8888888888888888,\"#fdca26\"],[1.0,\"#f0f921\"]]}],\"choropleth\":[{\"type\":\"choropleth\",\"colorbar\":{\"outlinewidth\":0,\"ticks\":\"\"}}],\"histogram2d\":[{\"type\":\"histogram2d\",\"colorbar\":{\"outlinewidth\":0,\"ticks\":\"\"},\"colorscale\":[[0.0,\"#0d0887\"],[0.1111111111111111,\"#46039f\"],[0.2222222222222222,\"#7201a8\"],[0.3333333333333333,\"#9c179e\"],[0.4444444444444444,\"#bd3786\"],[0.5555555555555556,\"#d8576b\"],[0.6666666666666666,\"#ed7953\"],[0.7777777777777778,\"#fb9f3a\"],[0.8888888888888888,\"#fdca26\"],[1.0,\"#f0f921\"]]}],\"heatmap\":[{\"type\":\"heatmap\",\"colorbar\":{\"outlinewidth\":0,\"ticks\":\"\"},\"colorscale\":[[0.0,\"#0d0887\"],[0.1111111111111111,\"#46039f\"],[0.2222222222222222,\"#7201a8\"],[0.3333333333333333,\"#9c179e\"],[0.4444444444444444,\"#bd3786\"],[0.5555555555555556,\"#d8576b\"],[0.6666666666666666,\"#ed7953\"],[0.7777777777777778,\"#fb9f3a\"],[0.8888888888888888,\"#fdca26\"],[1.0,\"#f0f921\"]]}],\"heatmapgl\":[{\"type\":\"heatmapgl\",\"colorbar\":{\"outlinewidth\":0,\"ticks\":\"\"},\"colorscale\":[[0.0,\"#0d0887\"],[0.1111111111111111,\"#46039f\"],[0.2222222222222222,\"#7201a8\"],[0.3333333333333333,\"#9c179e\"],[0.4444444444444444,\"#bd3786\"],[0.5555555555555556,\"#d8576b\"],[0.6666666666666666,\"#ed7953\"],[0.7777777777777778,\"#fb9f3a\"],[0.8888888888888888,\"#fdca26\"],[1.0,\"#f0f921\"]]}],\"contourcarpet\":[{\"type\":\"contourcarpet\",\"colorbar\":{\"outlinewidth\":0,\"ticks\":\"\"}}],\"contour\":[{\"type\":\"contour\",\"colorbar\":{\"outlinewidth\":0,\"ticks\":\"\"},\"colorscale\":[[0.0,\"#0d0887\"],[0.1111111111111111,\"#46039f\"],[0.2222222222222222,\"#7201a8\"],[0.3333333333333333,\"#9c179e\"],[0.4444444444444444,\"#bd3786\"],[0.5555555555555556,\"#d8576b\"],[0.6666666666666666,\"#ed7953\"],[0.7777777777777778,\"#fb9f3a\"],[0.8888888888888888,\"#fdca26\"],[1.0,\"#f0f921\"]]}],\"surface\":[{\"type\":\"surface\",\"colorbar\":{\"outlinewidth\":0,\"ticks\":\"\"},\"colorscale\":[[0.0,\"#0d0887\"],[0.1111111111111111,\"#46039f\"],[0.2222222222222222,\"#7201a8\"],[0.3333333333333333,\"#9c179e\"],[0.4444444444444444,\"#bd3786\"],[0.5555555555555556,\"#d8576b\"],[0.6666666666666666,\"#ed7953\"],[0.7777777777777778,\"#fb9f3a\"],[0.8888888888888888,\"#fdca26\"],[1.0,\"#f0f921\"]]}],\"mesh3d\":[{\"type\":\"mesh3d\",\"colorbar\":{\"outlinewidth\":0,\"ticks\":\"\"}}],\"scatter\":[{\"fillpattern\":{\"fillmode\":\"overlay\",\"size\":10,\"solidity\":0.2},\"type\":\"scatter\"}],\"parcoords\":[{\"type\":\"parcoords\",\"line\":{\"colorbar\":{\"outlinewidth\":0,\"ticks\":\"\"}}}],\"scatterpolargl\":[{\"type\":\"scatterpolargl\",\"marker\":{\"colorbar\":{\"outlinewidth\":0,\"ticks\":\"\"}}}],\"bar\":[{\"error_x\":{\"color\":\"#2a3f5f\"},\"error_y\":{\"color\":\"#2a3f5f\"},\"marker\":{\"line\":{\"color\":\"#E5ECF6\",\"width\":0.5},\"pattern\":{\"fillmode\":\"overlay\",\"size\":10,\"solidity\":0.2}},\"type\":\"bar\"}],\"scattergeo\":[{\"type\":\"scattergeo\",\"marker\":{\"colorbar\":{\"outlinewidth\":0,\"ticks\":\"\"}}}],\"scatterpolar\":[{\"type\":\"scatterpolar\",\"marker\":{\"colorbar\":{\"outlinewidth\":0,\"ticks\":\"\"}}}],\"histogram\":[{\"marker\":{\"pattern\":{\"fillmode\":\"overlay\",\"size\":10,\"solidity\":0.2}},\"type\":\"histogram\"}],\"scattergl\":[{\"type\":\"scattergl\",\"marker\":{\"colorbar\":{\"outlinewidth\":0,\"ticks\":\"\"}}}],\"scatter3d\":[{\"type\":\"scatter3d\",\"line\":{\"colorbar\":{\"outlinewidth\":0,\"ticks\":\"\"}},\"marker\":{\"colorbar\":{\"outlinewidth\":0,\"ticks\":\"\"}}}],\"scattermapbox\":[{\"type\":\"scattermapbox\",\"marker\":{\"colorbar\":{\"outlinewidth\":0,\"ticks\":\"\"}}}],\"scatterternary\":[{\"type\":\"scatterternary\",\"marker\":{\"colorbar\":{\"outlinewidth\":0,\"ticks\":\"\"}}}],\"scattercarpet\":[{\"type\":\"scattercarpet\",\"marker\":{\"colorbar\":{\"outlinewidth\":0,\"ticks\":\"\"}}}],\"carpet\":[{\"aaxis\":{\"endlinecolor\":\"#2a3f5f\",\"gridcolor\":\"white\",\"linecolor\":\"white\",\"minorgridcolor\":\"white\",\"startlinecolor\":\"#2a3f5f\"},\"baxis\":{\"endlinecolor\":\"#2a3f5f\",\"gridcolor\":\"white\",\"linecolor\":\"white\",\"minorgridcolor\":\"white\",\"startlinecolor\":\"#2a3f5f\"},\"type\":\"carpet\"}],\"table\":[{\"cells\":{\"fill\":{\"color\":\"#EBF0F8\"},\"line\":{\"color\":\"white\"}},\"header\":{\"fill\":{\"color\":\"#C8D4E3\"},\"line\":{\"color\":\"white\"}},\"type\":\"table\"}],\"barpolar\":[{\"marker\":{\"line\":{\"color\":\"#E5ECF6\",\"width\":0.5},\"pattern\":{\"fillmode\":\"overlay\",\"size\":10,\"solidity\":0.2}},\"type\":\"barpolar\"}],\"pie\":[{\"automargin\":true,\"type\":\"pie\"}]},\"layout\":{\"autotypenumbers\":\"strict\",\"colorway\":[\"#636efa\",\"#EF553B\",\"#00cc96\",\"#ab63fa\",\"#FFA15A\",\"#19d3f3\",\"#FF6692\",\"#B6E880\",\"#FF97FF\",\"#FECB52\"],\"font\":{\"color\":\"#2a3f5f\"},\"hovermode\":\"closest\",\"hoverlabel\":{\"align\":\"left\"},\"paper_bgcolor\":\"white\",\"plot_bgcolor\":\"#E5ECF6\",\"polar\":{\"bgcolor\":\"#E5ECF6\",\"angularaxis\":{\"gridcolor\":\"white\",\"linecolor\":\"white\",\"ticks\":\"\"},\"radialaxis\":{\"gridcolor\":\"white\",\"linecolor\":\"white\",\"ticks\":\"\"}},\"ternary\":{\"bgcolor\":\"#E5ECF6\",\"aaxis\":{\"gridcolor\":\"white\",\"linecolor\":\"white\",\"ticks\":\"\"},\"baxis\":{\"gridcolor\":\"white\",\"linecolor\":\"white\",\"ticks\":\"\"},\"caxis\":{\"gridcolor\":\"white\",\"linecolor\":\"white\",\"ticks\":\"\"}},\"coloraxis\":{\"colorbar\":{\"outlinewidth\":0,\"ticks\":\"\"}},\"colorscale\":{\"sequential\":[[0.0,\"#0d0887\"],[0.1111111111111111,\"#46039f\"],[0.2222222222222222,\"#7201a8\"],[0.3333333333333333,\"#9c179e\"],[0.4444444444444444,\"#bd3786\"],[0.5555555555555556,\"#d8576b\"],[0.6666666666666666,\"#ed7953\"],[0.7777777777777778,\"#fb9f3a\"],[0.8888888888888888,\"#fdca26\"],[1.0,\"#f0f921\"]],\"sequentialminus\":[[0.0,\"#0d0887\"],[0.1111111111111111,\"#46039f\"],[0.2222222222222222,\"#7201a8\"],[0.3333333333333333,\"#9c179e\"],[0.4444444444444444,\"#bd3786\"],[0.5555555555555556,\"#d8576b\"],[0.6666666666666666,\"#ed7953\"],[0.7777777777777778,\"#fb9f3a\"],[0.8888888888888888,\"#fdca26\"],[1.0,\"#f0f921\"]],\"diverging\":[[0,\"#8e0152\"],[0.1,\"#c51b7d\"],[0.2,\"#de77ae\"],[0.3,\"#f1b6da\"],[0.4,\"#fde0ef\"],[0.5,\"#f7f7f7\"],[0.6,\"#e6f5d0\"],[0.7,\"#b8e186\"],[0.8,\"#7fbc41\"],[0.9,\"#4d9221\"],[1,\"#276419\"]]},\"xaxis\":{\"gridcolor\":\"white\",\"linecolor\":\"white\",\"ticks\":\"\",\"title\":{\"standoff\":15},\"zerolinecolor\":\"white\",\"automargin\":true,\"zerolinewidth\":2},\"yaxis\":{\"gridcolor\":\"white\",\"linecolor\":\"white\",\"ticks\":\"\",\"title\":{\"standoff\":15},\"zerolinecolor\":\"white\",\"automargin\":true,\"zerolinewidth\":2},\"scene\":{\"xaxis\":{\"backgroundcolor\":\"#E5ECF6\",\"gridcolor\":\"white\",\"linecolor\":\"white\",\"showbackground\":true,\"ticks\":\"\",\"zerolinecolor\":\"white\",\"gridwidth\":2},\"yaxis\":{\"backgroundcolor\":\"#E5ECF6\",\"gridcolor\":\"white\",\"linecolor\":\"white\",\"showbackground\":true,\"ticks\":\"\",\"zerolinecolor\":\"white\",\"gridwidth\":2},\"zaxis\":{\"backgroundcolor\":\"#E5ECF6\",\"gridcolor\":\"white\",\"linecolor\":\"white\",\"showbackground\":true,\"ticks\":\"\",\"zerolinecolor\":\"white\",\"gridwidth\":2}},\"shapedefaults\":{\"line\":{\"color\":\"#2a3f5f\"}},\"annotationdefaults\":{\"arrowcolor\":\"#2a3f5f\",\"arrowhead\":0,\"arrowwidth\":1},\"geo\":{\"bgcolor\":\"white\",\"landcolor\":\"#E5ECF6\",\"subunitcolor\":\"white\",\"showland\":true,\"showlakes\":true,\"lakecolor\":\"white\"},\"title\":{\"x\":0.05},\"mapbox\":{\"style\":\"light\"}}}},                        {\"responsive\": true}                    )                };                            </script>        </div>"
      ],
      "text/plain": [
       "Figure({\n",
       "    'data': [{'name': 'De Bruijn Graph construction',\n",
       "              'offsetgroup': '0',\n",
       "              'type': 'bar',\n",
       "              'x': [20, 21, 22, 23, 24, 25, 26, 27, 28, 29],\n",
       "              'y': array([2.61226663, 2.65840618, 2.64909406, 2.66195851, 2.66127944, 2.64254475,\n",
       "                          2.88381635, 2.80029595, 2.80229408, 2.80100154, 2.83093601, 2.58209852,\n",
       "                          2.81977973, 2.82488868, 2.82243146, 2.85051888, 2.86418995, 2.60651735,\n",
       "                          2.52800853, 2.5156058 , 2.50654603, 2.50895679, 2.58460271, 2.69067959,\n",
       "                          2.68377431, 2.66584704, 2.69569985, 2.67219365, 2.80273621, 2.79165932,\n",
       "                          2.79439331, 2.81671682, 2.83004031, 2.59348083, 2.67689718, 2.56662165,\n",
       "                          2.5807166 , 2.57950116, 2.56005984, 2.65356959, 2.62908213, 2.64348158,\n",
       "                          2.63444807, 2.64696158, 2.58359999, 2.77398258, 2.74240814, 2.7398949 ,\n",
       "                          2.75285397, 2.7674044 ])},\n",
       "             {'base': array([2.612266627172144, 2.6584061766833806, 2.6490940644101397,\n",
       "                             2.6619585080263093, 2.661279437716414, 2.642544750585789,\n",
       "                             2.8838163468895877, 2.8002959540995147, 2.8022940791525497,\n",
       "                             2.801001541556381, 2.8309360114539532, 2.5820985240471077,\n",
       "                             2.819779725307369, 2.8248886794578754, 2.8224314623344227,\n",
       "                             2.8505188818675715, 2.864189952175793, 2.606517351545939,\n",
       "                             2.5280085295002634, 2.5156057964883214, 2.5065460338825134,\n",
       "                             2.5089567933431485, 2.584602706606795, 2.6906795895971904,\n",
       "                             2.683774306832291, 2.6658470378270978, 2.6956998469189886,\n",
       "                             2.672193654339487, 2.8027362055894818, 2.791659319575239,\n",
       "                             2.794393312640309, 2.816716819391015, 2.8300403129763727,\n",
       "                             2.593480826238305, 2.676897176882113, 2.566621647462612,\n",
       "                             2.5807165993713737, 2.579501156923248, 2.5600598400395085,\n",
       "                             2.6535695863351583, 2.6290821335955377, 2.6434815780127927,\n",
       "                             2.63444807366627, 2.6469615832770748, 2.5835999878441416,\n",
       "                             2.773982578719534, 2.7424081432528604, 2.739894899275245,\n",
       "                             2.752853965410371, 2.7674044024072044], dtype=object),\n",
       "              'name': 'Euler Path reconstruction',\n",
       "              'offsetgroup': '0',\n",
       "              'text': [<b>0.01%</b>, <b>0.01%</b>, <b>0.01%</b>, <b>0.01%</b>,\n",
       "                       <b>0.01%</b>, <b>0.01%</b>, <b>0.01%</b>, <b>0.01%</b>,\n",
       "                       <b>0.01%</b>, <b>0.01%</b>],\n",
       "              'textposition': 'outside',\n",
       "              'type': 'bar',\n",
       "              'x': [20, 21, 22, 23, 24, 25, 26, 27, 28, 29],\n",
       "              'y': array([0.33540597, 0.34210571, 0.34665675, 0.34410124, 0.3425742 , 0.34427438,\n",
       "                          0.3659515 , 0.37106709, 0.37663324, 0.36814226, 0.37942314, 0.3298222 ,\n",
       "                          0.37585396, 0.36801529, 0.36722489, 0.37069238, 0.37152794, 0.33340526,\n",
       "                          0.33025654, 0.33354562, 0.32878563, 0.3238474 , 0.33689321, 0.34256818,\n",
       "                          0.34244216, 0.33654728, 0.33498873, 0.34519149, 0.36603969, 0.36786689,\n",
       "                          0.37413694, 0.36971728, 0.36875087, 0.33462484, 0.34272074, 0.33425592,\n",
       "                          0.3312571 , 0.33275457, 0.33786523, 0.34749029, 0.34455426, 0.3454203 ,\n",
       "                          0.34385981, 0.34140396, 0.3366049 , 0.35094519, 0.34747328, 0.35004364,\n",
       "                          0.34594205, 0.34255814])},\n",
       "             {'name': 'Suffix Array construction',\n",
       "              'offsetgroup': '1',\n",
       "              'type': 'bar',\n",
       "              'x': [20, 21, 22, 23, 24, 25, 26, 27, 28, 29],\n",
       "              'y': array([13.66321974, 13.5389039 , 13.7001111 , 13.72021866, 13.6174715 ,\n",
       "                          13.90812485, 13.92692187, 13.74803579, 13.73043792, 13.864291  ,\n",
       "                          14.2288595 , 13.84523041, 13.2964421 , 13.6433723 , 14.01627839,\n",
       "                          14.07030225, 13.7834523 , 13.57731571, 14.0513978 , 13.75414803,\n",
       "                          14.07211585, 13.49752467, 14.10316226, 13.79975893, 13.97099893,\n",
       "                          14.32771547, 14.22455754, 13.86129515, 13.48384275, 13.69554262,\n",
       "                          13.6988246 , 14.14829617, 14.27613711, 13.92201731, 13.62137797,\n",
       "                          13.9477176 , 14.13298206, 13.99286976, 14.16330898, 13.45174189,\n",
       "                          13.76793001, 14.27019055, 14.14583373, 13.91710684, 13.7887609 ,\n",
       "                          13.53894615, 13.84904783, 14.10200558, 14.2482424 , 14.04140172])},\n",
       "             {'base': array([13.663219738006593, 13.538903903961181, 13.70011110305786,\n",
       "                             13.720218658447266, 13.617471504211426, 13.908124852180482,\n",
       "                             13.92692186832428, 13.748035788536072, 13.730437922477723,\n",
       "                             13.864291000366212, 14.228859496116637, 13.845230412483215,\n",
       "                             13.296442103385925, 13.643372297286987, 14.016278386116028,\n",
       "                             14.070302248001099, 13.78345229625702, 13.577315711975098,\n",
       "                             14.051397800445557, 13.754148030281067, 14.072115850448608,\n",
       "                             13.497524666786195, 14.103162264823913, 13.79975893497467,\n",
       "                             13.970998930931092, 14.327715468406677, 14.224557542800904,\n",
       "                             13.861295151710511, 13.483842754364014, 13.69554262161255,\n",
       "                             13.698824596405029, 14.14829616546631, 14.276137113571167,\n",
       "                             13.922017312049865, 13.621377968788147, 13.947717595100404,\n",
       "                             14.132982063293458, 13.992869758605957, 14.16330897808075,\n",
       "                             13.451741886138915, 13.767930006980896, 14.270190548896789,\n",
       "                             14.145833730697632, 13.91710684299469, 13.788760900497437,\n",
       "                             13.538946151733398, 13.849047827720643, 14.102005577087402,\n",
       "                             14.248242402076722, 14.041401720046997], dtype=object),\n",
       "              'name': 'Adjacency Matrix construction',\n",
       "              'offsetgroup': '1',\n",
       "              'type': 'bar',\n",
       "              'x': [20, 21, 22, 23, 24, 25, 26, 27, 28, 29],\n",
       "              'y': array([1062.36910439, 1073.00008652, 1066.01000216, 1058.08725832,\n",
       "                          1048.33088028, 1078.49115772, 1080.34128177, 1049.9394376 ,\n",
       "                          1045.68973548, 1042.44044285, 1074.76276369, 1088.61400614,\n",
       "                          1037.35162361, 1052.47973661, 1058.15452702, 1079.72500584,\n",
       "                          1049.3913203 , 1069.77854958, 1071.89336123, 1041.8492573 ,\n",
       "                          1067.28587005, 1033.91787548, 1075.50849099, 1075.91994245,\n",
       "                          1081.11199644, 1082.30358367, 1072.76427493, 1051.58142073,\n",
       "                          1042.00899756, 1039.43532147, 1041.99257205, 1075.97645478,\n",
       "                          1104.20585938, 1056.56531587, 1054.47848005, 1054.3128526 ,\n",
       "                          1071.03188546, 1063.27834294, 1077.22996569, 1035.32562189,\n",
       "                          1038.83393927, 1090.22640026, 1069.82310827, 1057.84217811,\n",
       "                          1052.89900994, 1047.02794089, 1045.91505098, 1066.20580585,\n",
       "                          1064.87765141, 1072.29949894])},\n",
       "             {'base': array([1062.369104385376, 1073.0000865221023, 1066.0100021600724,\n",
       "                             1058.0872583150863, 1048.3308802843094, 1078.4911577224732,\n",
       "                             1080.3412817716599, 1049.9394376039504, 1045.6897354841233,\n",
       "                             1042.4404428482055, 1074.7627636909485, 1088.6140061378478,\n",
       "                             1037.3516236066819, 1052.4797366142272, 1058.1545270204545,\n",
       "                             1079.725005841255, 1049.3913203001023, 1069.7785495758058,\n",
       "                             1071.893361234665, 1041.8492573022843, 1067.2858700513839,\n",
       "                             1033.917875480652, 1075.5084909915925, 1075.9199424505234,\n",
       "                             1081.1119964361192, 1082.3035836696624, 1072.764274930954,\n",
       "                             1051.5814207315445, 1042.0089975595474, 1039.4353214740754,\n",
       "                             1041.9925720453261, 1075.976454782486, 1104.205859375,\n",
       "                             1056.5653158664704, 1054.478480052948, 1054.3128525972365,\n",
       "                             1071.031885457039, 1063.278342938423, 1077.229965686798,\n",
       "                             1035.3256218910217, 1038.8339392662049, 1090.226400256157,\n",
       "                             1069.8231082677842, 1057.842178106308, 1052.8990099430084,\n",
       "                             1047.0279408931733, 1045.915050983429, 1066.205805850029,\n",
       "                             1064.8776514053345, 1072.2994989395143], dtype=object),\n",
       "              'name': 'Sequence reconstruction',\n",
       "              'offsetgroup': '1',\n",
       "              'text': [<b>100.0%</b>, <b>100.0%</b>, <b>100.0%</b>, <b>100.0%</b>,\n",
       "                       <b>100.0%</b>, <b>100.0%</b>, <b>100.0%</b>, <b>100.0%</b>,\n",
       "                       <b>100.0%</b>, <b>100.0%</b>],\n",
       "              'textposition': 'outside',\n",
       "              'type': 'bar',\n",
       "              'x': [20, 21, 22, 23, 24, 25, 26, 27, 28, 29],\n",
       "              'y': array([216.3864481 , 216.98452675, 217.2779139 , 218.07359192, 217.90404272,\n",
       "                          217.54738345, 216.67316029, 217.01029265, 217.1911849 , 217.20463841,\n",
       "                          216.96033883, 216.69639983, 217.05136914, 217.74861746, 218.33838449,\n",
       "                          219.429775  , 217.39248641, 216.65924108, 216.87155821, 217.22439909,\n",
       "                          217.49836478, 217.27060516, 217.44088416, 217.34135528, 217.56292043,\n",
       "                          218.3206748 , 217.99333053, 218.4371938 , 216.0360486 , 216.4754766 ,\n",
       "                          216.59112957, 216.69986134, 216.55755286, 217.74387543, 217.25529971,\n",
       "                          217.97175536, 217.78825727, 217.8187618 , 217.50416882, 216.85270491,\n",
       "                          217.17462857, 217.61494646, 217.43279743, 217.43910482, 217.2224648 ,\n",
       "                          214.90762997, 215.33690937, 215.54646003, 216.03888969, 215.705948  ])}],\n",
       "    'layout': {'template': '...',\n",
       "               'title': {'text': ('Raphanus sativus with Generate' ... 'De Bruijn Graph and Euler Path')},\n",
       "               'yaxis': {'title': {'text': 'time (s)'}}}\n",
       "})"
      ]
     },
     "execution_count": 334,
     "metadata": {},
     "output_type": "execute_result"
    }
   ],
   "source": [
    "labels = list('{}'.format(i) for i in range(20,30))\n",
    "\n",
    "fig = go.Figure(\n",
    "    data=[\n",
    "        go.Bar(\n",
    "            name=\"De Bruijn Graph construction\",\n",
    "            x=labels,\n",
    "            y=df_realseq_eul_mean['de_bruijn_graph_construction_time'],\n",
    "            offsetgroup=0,\n",
    "        ),\n",
    "        go.Bar(\n",
    "            name=\"Euler Path reconstruction\",\n",
    "            x=labels,\n",
    "            y=df_realseq_eul_mean['euler_path_reconstruction_time'],\n",
    "            text=list(\"<b>{}%</b>\".format(round((1-(df_realseq_eul[df_realseq_eul['sequence']==i]['edit_distance']/df_realseq_eul[df_realseq_eul['sequence']==i]['target_sequence_length'])).mean()*100,2)) for i in range(20,30)),\n",
    "            textposition='outside',offsetgroup=0,\n",
    "            base=df_realseq_eul_mean['de_bruijn_graph_construction_time'],\n",
    "        ),\n",
    "        go.Bar(\n",
    "            name=\"Suffix Array construction\",\n",
    "            x=labels,\n",
    "            y=df_real_seq_mean['suffix_array_construction_time'],\n",
    "            offsetgroup=1,\n",
    "        ),\n",
    "        go.Bar(\n",
    "            name=\"Adjacency Matrix construction\",\n",
    "            x=labels,\n",
    "            y=df_real_seq_mean['adjacency_matrix_construction_time'],\n",
    "            offsetgroup=1,\n",
    "            base=df_real_seq_mean['suffix_array_construction_time'],\n",
    "        ),\n",
    "        go.Bar(\n",
    "            name=\"Sequence reconstruction\",\n",
    "            x=labels,\n",
    "            y=df_real_seq_mean['sequence_reconstruction_time'],\n",
    "            text=list(\"<b>{}%</b>\".format(round((1-(df_real_seq[df_real_seq['sequence']==i]['edit_distance']/df_real_seq[df_real_seq['sequence']==i]['target_sequence_length'])).mean()*100,2)) for i in range(20,30)),\n",
    "            textposition='outside',offsetgroup=1,\n",
    "            base=df_real_seq_mean['adjacency_matrix_construction_time'],\n",
    "        )\n",
    "    ],\n",
    "    layout=go.Layout(\n",
    "        title=\"Raphanus sativus with Generated Reads: Suffix Array and Sequitur vs De Bruijn Graph and Euler Path\",\n",
    "        yaxis_title=\"time (s)\"\n",
    "    )\n",
    ")\n",
    "fig"
   ]
  },
  {
   "cell_type": "code",
   "execution_count": 335,
   "metadata": {},
   "outputs": [
    {
     "ename": "ValueError",
     "evalue": "Mime type rendering requires nbformat>=4.2.0 but it is not installed",
     "output_type": "error",
     "traceback": [
      "\u001b[1;31m---------------------------------------------------------------------------\u001b[0m",
      "\u001b[1;31mValueError\u001b[0m                                Traceback (most recent call last)",
      "File \u001b[1;32mc:\\Users\\A0068449\\Documents\\GitHub\\Sequitur\\.venv\\Lib\\site-packages\\IPython\\core\\formatters.py:922\u001b[0m, in \u001b[0;36mIPythonDisplayFormatter.__call__\u001b[1;34m(self, obj)\u001b[0m\n\u001b[0;32m    920\u001b[0m method \u001b[38;5;241m=\u001b[39m get_real_method(obj, \u001b[38;5;28mself\u001b[39m\u001b[38;5;241m.\u001b[39mprint_method)\n\u001b[0;32m    921\u001b[0m \u001b[38;5;28;01mif\u001b[39;00m method \u001b[38;5;129;01mis\u001b[39;00m \u001b[38;5;129;01mnot\u001b[39;00m \u001b[38;5;28;01mNone\u001b[39;00m:\n\u001b[1;32m--> 922\u001b[0m     \u001b[43mmethod\u001b[49m\u001b[43m(\u001b[49m\u001b[43m)\u001b[49m\n\u001b[0;32m    923\u001b[0m     \u001b[38;5;28;01mreturn\u001b[39;00m \u001b[38;5;28;01mTrue\u001b[39;00m\n",
      "File \u001b[1;32mc:\\Users\\A0068449\\Documents\\GitHub\\Sequitur\\.venv\\Lib\\site-packages\\plotly\\basedatatypes.py:832\u001b[0m, in \u001b[0;36mBaseFigure._ipython_display_\u001b[1;34m(self)\u001b[0m\n\u001b[0;32m    829\u001b[0m \u001b[38;5;28;01mimport\u001b[39;00m \u001b[38;5;21;01mplotly\u001b[39;00m\u001b[38;5;21;01m.\u001b[39;00m\u001b[38;5;21;01mio\u001b[39;00m \u001b[38;5;28;01mas\u001b[39;00m \u001b[38;5;21;01mpio\u001b[39;00m\n\u001b[0;32m    831\u001b[0m \u001b[38;5;28;01mif\u001b[39;00m pio\u001b[38;5;241m.\u001b[39mrenderers\u001b[38;5;241m.\u001b[39mrender_on_display \u001b[38;5;129;01mand\u001b[39;00m pio\u001b[38;5;241m.\u001b[39mrenderers\u001b[38;5;241m.\u001b[39mdefault:\n\u001b[1;32m--> 832\u001b[0m     \u001b[43mpio\u001b[49m\u001b[38;5;241;43m.\u001b[39;49m\u001b[43mshow\u001b[49m\u001b[43m(\u001b[49m\u001b[38;5;28;43mself\u001b[39;49m\u001b[43m)\u001b[49m\n\u001b[0;32m    833\u001b[0m \u001b[38;5;28;01melse\u001b[39;00m:\n\u001b[0;32m    834\u001b[0m     \u001b[38;5;28mprint\u001b[39m(\u001b[38;5;28mrepr\u001b[39m(\u001b[38;5;28mself\u001b[39m))\n",
      "File \u001b[1;32mc:\\Users\\A0068449\\Documents\\GitHub\\Sequitur\\.venv\\Lib\\site-packages\\plotly\\io\\_renderers.py:394\u001b[0m, in \u001b[0;36mshow\u001b[1;34m(fig, renderer, validate, **kwargs)\u001b[0m\n\u001b[0;32m    389\u001b[0m         \u001b[38;5;28;01mraise\u001b[39;00m \u001b[38;5;167;01mValueError\u001b[39;00m(\n\u001b[0;32m    390\u001b[0m             \u001b[38;5;124m\"\u001b[39m\u001b[38;5;124mMime type rendering requires ipython but it is not installed\u001b[39m\u001b[38;5;124m\"\u001b[39m\n\u001b[0;32m    391\u001b[0m         )\n\u001b[0;32m    393\u001b[0m     \u001b[38;5;28;01mif\u001b[39;00m \u001b[38;5;129;01mnot\u001b[39;00m nbformat \u001b[38;5;129;01mor\u001b[39;00m Version(nbformat\u001b[38;5;241m.\u001b[39m__version__) \u001b[38;5;241m<\u001b[39m Version(\u001b[38;5;124m\"\u001b[39m\u001b[38;5;124m4.2.0\u001b[39m\u001b[38;5;124m\"\u001b[39m):\n\u001b[1;32m--> 394\u001b[0m         \u001b[38;5;28;01mraise\u001b[39;00m \u001b[38;5;167;01mValueError\u001b[39;00m(\n\u001b[0;32m    395\u001b[0m             \u001b[38;5;124m\"\u001b[39m\u001b[38;5;124mMime type rendering requires nbformat>=4.2.0 but it is not installed\u001b[39m\u001b[38;5;124m\"\u001b[39m\n\u001b[0;32m    396\u001b[0m         )\n\u001b[0;32m    398\u001b[0m     ipython_display\u001b[38;5;241m.\u001b[39mdisplay(bundle, raw\u001b[38;5;241m=\u001b[39m\u001b[38;5;28;01mTrue\u001b[39;00m)\n\u001b[0;32m    400\u001b[0m \u001b[38;5;66;03m# external renderers\u001b[39;00m\n",
      "\u001b[1;31mValueError\u001b[0m: Mime type rendering requires nbformat>=4.2.0 but it is not installed"
     ]
    },
    {
     "data": {
      "application/vnd.plotly.v1+json": {
       "config": {
        "plotlyServerURL": "https://plot.ly"
       },
       "data": [
        {
         "name": "De Bruijn Graph construction",
         "offsetgroup": "0",
         "type": "bar",
         "x": [
          "30",
          "31",
          "32",
          "33",
          "34",
          "35",
          "36",
          "37",
          "38",
          "39"
         ],
         "y": [
          2.612266627172144,
          2.6584061766833806,
          2.6490940644101397,
          2.6619585080263093,
          2.661279437716414,
          2.642544750585789,
          2.8838163468895877,
          2.8002959540995147,
          2.8022940791525497,
          2.801001541556381,
          2.8309360114539532,
          2.5820985240471077,
          2.819779725307369,
          2.8248886794578754,
          2.8224314623344227,
          2.8505188818675715,
          2.864189952175793,
          2.606517351545939,
          2.5280085295002634,
          2.5156057964883214,
          2.5065460338825134,
          2.5089567933431485,
          2.584602706606795,
          2.6906795895971904,
          2.683774306832291,
          2.6658470378270978,
          2.6956998469189886,
          2.672193654339487,
          2.8027362055894818,
          2.791659319575239,
          2.794393312640309,
          2.816716819391015,
          2.8300403129763727,
          2.593480826238305,
          2.676897176882113,
          2.566621647462612,
          2.5807165993713737,
          2.579501156923248,
          2.5600598400395085,
          2.6535695863351583,
          2.6290821335955377,
          2.6434815780127927,
          2.63444807366627,
          2.6469615832770748,
          2.5835999878441416,
          2.773982578719534,
          2.7424081432528604,
          2.739894899275245,
          2.752853965410371,
          2.7674044024072044
         ]
        },
        {
         "base": [
          2.612266627172144,
          2.6584061766833806,
          2.6490940644101397,
          2.6619585080263093,
          2.661279437716414,
          2.642544750585789,
          2.8838163468895877,
          2.8002959540995147,
          2.8022940791525497,
          2.801001541556381,
          2.8309360114539532,
          2.5820985240471077,
          2.819779725307369,
          2.8248886794578754,
          2.8224314623344227,
          2.8505188818675715,
          2.864189952175793,
          2.606517351545939,
          2.5280085295002634,
          2.5156057964883214,
          2.5065460338825134,
          2.5089567933431485,
          2.584602706606795,
          2.6906795895971904,
          2.683774306832291,
          2.6658470378270978,
          2.6956998469189886,
          2.672193654339487,
          2.8027362055894818,
          2.791659319575239,
          2.794393312640309,
          2.816716819391015,
          2.8300403129763727,
          2.593480826238305,
          2.676897176882113,
          2.566621647462612,
          2.5807165993713737,
          2.579501156923248,
          2.5600598400395085,
          2.6535695863351583,
          2.6290821335955377,
          2.6434815780127927,
          2.63444807366627,
          2.6469615832770748,
          2.5835999878441416,
          2.773982578719534,
          2.7424081432528604,
          2.739894899275245,
          2.752853965410371,
          2.7674044024072044
         ],
         "name": "Euler Path reconstruction",
         "offsetgroup": "0",
         "text": [
          "<b>0.01%</b>",
          "<b>0.01%</b>",
          "<b>0.01%</b>",
          "<b>0.01%</b>",
          "<b>0.01%</b>",
          "<b>0.01%</b>",
          "<b>0.01%</b>",
          "<b>0.01%</b>",
          "<b>0.01%</b>",
          "<b>0.01%</b>"
         ],
         "textposition": "outside",
         "type": "bar",
         "x": [
          "30",
          "31",
          "32",
          "33",
          "34",
          "35",
          "36",
          "37",
          "38",
          "39"
         ],
         "y": [
          0.335405974620726,
          0.34210571196021106,
          0.3466567526794063,
          0.34410124139087966,
          0.3425742041192403,
          0.3442743798000061,
          0.36595150331171555,
          0.371067086778036,
          0.37663323565227225,
          0.36814225755086777,
          0.37942313822304313,
          0.32982219835607024,
          0.37585395999071064,
          0.368015292330486,
          0.36722489066240277,
          0.3706923803469031,
          0.37152794151771384,
          0.33340525545725025,
          0.3302565431594848,
          0.3335456241049419,
          0.32878563031917646,
          0.323847402712194,
          0.3368932073872264,
          0.34256817526933625,
          0.3424421593038048,
          0.336547283079566,
          0.3349887314075379,
          0.345191485591051,
          0.3660396931811078,
          0.36786688583653154,
          0.37413694067699144,
          0.3697172802250559,
          0.36875086609910174,
          0.3346248362704024,
          0.3427207411789314,
          0.3342559159674296,
          0.3312571025476222,
          0.3327545720774952,
          0.33786522853665224,
          0.34749029113025215,
          0.34455425681137464,
          0.3454203006697863,
          0.3438598052466788,
          0.34140396315877014,
          0.3366048965221498,
          0.35094518835951655,
          0.34747327525441224,
          0.3500436368802697,
          0.3459420540274643,
          0.34255813540481955
         ]
        },
        {
         "name": "Suffix Array construction",
         "offsetgroup": "1",
         "type": "bar",
         "x": [
          "30",
          "31",
          "32",
          "33",
          "34",
          "35",
          "36",
          "37",
          "38",
          "39"
         ],
         "y": [
          13.663219738006593,
          13.538903903961181,
          13.70011110305786,
          13.720218658447266,
          13.617471504211426,
          13.908124852180482,
          13.92692186832428,
          13.748035788536072,
          13.730437922477723,
          13.864291000366212,
          14.228859496116637,
          13.845230412483215,
          13.296442103385925,
          13.643372297286987,
          14.016278386116028,
          14.070302248001099,
          13.78345229625702,
          13.577315711975098,
          14.051397800445557,
          13.754148030281067,
          14.072115850448608,
          13.497524666786195,
          14.103162264823913,
          13.79975893497467,
          13.970998930931092,
          14.327715468406677,
          14.224557542800904,
          13.861295151710511,
          13.483842754364014,
          13.69554262161255,
          13.698824596405029,
          14.14829616546631,
          14.276137113571167,
          13.922017312049865,
          13.621377968788147,
          13.947717595100404,
          14.132982063293458,
          13.992869758605957,
          14.16330897808075,
          13.451741886138915,
          13.767930006980896,
          14.270190548896789,
          14.145833730697632,
          13.91710684299469,
          13.788760900497437,
          13.538946151733398,
          13.849047827720643,
          14.102005577087402,
          14.248242402076722,
          14.041401720046997
         ]
        },
        {
         "base": [
          13.663219738006593,
          13.538903903961181,
          13.70011110305786,
          13.720218658447266,
          13.617471504211426,
          13.908124852180482,
          13.92692186832428,
          13.748035788536072,
          13.730437922477723,
          13.864291000366212,
          14.228859496116637,
          13.845230412483215,
          13.296442103385925,
          13.643372297286987,
          14.016278386116028,
          14.070302248001099,
          13.78345229625702,
          13.577315711975098,
          14.051397800445557,
          13.754148030281067,
          14.072115850448608,
          13.497524666786195,
          14.103162264823913,
          13.79975893497467,
          13.970998930931092,
          14.327715468406677,
          14.224557542800904,
          13.861295151710511,
          13.483842754364014,
          13.69554262161255,
          13.698824596405029,
          14.14829616546631,
          14.276137113571167,
          13.922017312049865,
          13.621377968788147,
          13.947717595100404,
          14.132982063293458,
          13.992869758605957,
          14.16330897808075,
          13.451741886138915,
          13.767930006980896,
          14.270190548896789,
          14.145833730697632,
          13.91710684299469,
          13.788760900497437,
          13.538946151733398,
          13.849047827720643,
          14.102005577087402,
          14.248242402076722,
          14.041401720046997
         ],
         "name": "Adjacency Matrix construction",
         "offsetgroup": "1",
         "type": "bar",
         "x": [
          "30",
          "31",
          "32",
          "33",
          "34",
          "35",
          "36",
          "37",
          "38",
          "39"
         ],
         "y": [
          1062.369104385376,
          1073.0000865221023,
          1066.0100021600724,
          1058.0872583150863,
          1048.3308802843094,
          1078.4911577224732,
          1080.3412817716599,
          1049.9394376039504,
          1045.6897354841233,
          1042.4404428482055,
          1074.7627636909485,
          1088.6140061378478,
          1037.3516236066819,
          1052.4797366142272,
          1058.1545270204545,
          1079.725005841255,
          1049.3913203001023,
          1069.7785495758058,
          1071.893361234665,
          1041.8492573022843,
          1067.2858700513839,
          1033.917875480652,
          1075.5084909915925,
          1075.9199424505234,
          1081.1119964361192,
          1082.3035836696624,
          1072.764274930954,
          1051.5814207315445,
          1042.0089975595474,
          1039.4353214740754,
          1041.9925720453261,
          1075.976454782486,
          1104.205859375,
          1056.5653158664704,
          1054.478480052948,
          1054.3128525972365,
          1071.031885457039,
          1063.278342938423,
          1077.229965686798,
          1035.3256218910217,
          1038.8339392662049,
          1090.226400256157,
          1069.8231082677842,
          1057.842178106308,
          1052.8990099430084,
          1047.0279408931733,
          1045.915050983429,
          1066.205805850029,
          1064.8776514053345,
          1072.2994989395143
         ]
        },
        {
         "base": [
          1062.369104385376,
          1073.0000865221023,
          1066.0100021600724,
          1058.0872583150863,
          1048.3308802843094,
          1078.4911577224732,
          1080.3412817716599,
          1049.9394376039504,
          1045.6897354841233,
          1042.4404428482055,
          1074.7627636909485,
          1088.6140061378478,
          1037.3516236066819,
          1052.4797366142272,
          1058.1545270204545,
          1079.725005841255,
          1049.3913203001023,
          1069.7785495758058,
          1071.893361234665,
          1041.8492573022843,
          1067.2858700513839,
          1033.917875480652,
          1075.5084909915925,
          1075.9199424505234,
          1081.1119964361192,
          1082.3035836696624,
          1072.764274930954,
          1051.5814207315445,
          1042.0089975595474,
          1039.4353214740754,
          1041.9925720453261,
          1075.976454782486,
          1104.205859375,
          1056.5653158664704,
          1054.478480052948,
          1054.3128525972365,
          1071.031885457039,
          1063.278342938423,
          1077.229965686798,
          1035.3256218910217,
          1038.8339392662049,
          1090.226400256157,
          1069.8231082677842,
          1057.842178106308,
          1052.8990099430084,
          1047.0279408931733,
          1045.915050983429,
          1066.205805850029,
          1064.8776514053345,
          1072.2994989395143
         ],
         "name": "Sequence reconstruction",
         "offsetgroup": "1",
         "text": [
          "<b>100.0%</b>",
          "<b>100.0%</b>",
          "<b>100.0%</b>",
          "<b>100.0%</b>",
          "<b>100.0%</b>",
          "<b>100.0%</b>",
          "<b>100.0%</b>",
          "<b>100.0%</b>",
          "<b>100.0%</b>",
          "<b>100.0%</b>"
         ],
         "textposition": "outside",
         "type": "bar",
         "x": [
          "30",
          "31",
          "32",
          "33",
          "34",
          "35",
          "36",
          "37",
          "38",
          "39"
         ],
         "y": [
          216.386448097229,
          216.9845267534256,
          217.27791390419006,
          218.07359192371368,
          217.90404272079468,
          217.5473834514618,
          216.67316029071807,
          217.0102926492691,
          217.19118490219117,
          217.20463840961457,
          216.96033883094788,
          216.69639983177186,
          217.05136914253234,
          217.74861745834352,
          218.33838448524475,
          219.42977499961853,
          217.3924864053726,
          216.65924108028412,
          216.87155821323395,
          217.22439908981323,
          217.49836478233337,
          217.27060515880584,
          217.4408841609955,
          217.34135527610778,
          217.56292042732238,
          218.3206748008728,
          217.99333052635194,
          218.43719379901887,
          216.03604860305785,
          216.47547659873962,
          216.59112956523896,
          216.6998613357544,
          216.55755286216737,
          217.74387543201448,
          217.25529971122742,
          217.971755361557,
          217.78825726509095,
          217.81876180171966,
          217.50416882038115,
          216.85270490646363,
          217.1746285676956,
          217.61494646072387,
          217.4327974319458,
          217.4391048192978,
          217.22246479988098,
          214.90762996673584,
          215.33690936565398,
          215.54646003246307,
          216.03888969421388,
          215.70594799518585
         ]
        }
       ],
       "layout": {
        "template": {
         "data": {
          "bar": [
           {
            "error_x": {
             "color": "#2a3f5f"
            },
            "error_y": {
             "color": "#2a3f5f"
            },
            "marker": {
             "line": {
              "color": "#E5ECF6",
              "width": 0.5
             },
             "pattern": {
              "fillmode": "overlay",
              "size": 10,
              "solidity": 0.2
             }
            },
            "type": "bar"
           }
          ],
          "barpolar": [
           {
            "marker": {
             "line": {
              "color": "#E5ECF6",
              "width": 0.5
             },
             "pattern": {
              "fillmode": "overlay",
              "size": 10,
              "solidity": 0.2
             }
            },
            "type": "barpolar"
           }
          ],
          "carpet": [
           {
            "aaxis": {
             "endlinecolor": "#2a3f5f",
             "gridcolor": "white",
             "linecolor": "white",
             "minorgridcolor": "white",
             "startlinecolor": "#2a3f5f"
            },
            "baxis": {
             "endlinecolor": "#2a3f5f",
             "gridcolor": "white",
             "linecolor": "white",
             "minorgridcolor": "white",
             "startlinecolor": "#2a3f5f"
            },
            "type": "carpet"
           }
          ],
          "choropleth": [
           {
            "colorbar": {
             "outlinewidth": 0,
             "ticks": ""
            },
            "type": "choropleth"
           }
          ],
          "contour": [
           {
            "colorbar": {
             "outlinewidth": 0,
             "ticks": ""
            },
            "colorscale": [
             [
              0,
              "#0d0887"
             ],
             [
              0.1111111111111111,
              "#46039f"
             ],
             [
              0.2222222222222222,
              "#7201a8"
             ],
             [
              0.3333333333333333,
              "#9c179e"
             ],
             [
              0.4444444444444444,
              "#bd3786"
             ],
             [
              0.5555555555555556,
              "#d8576b"
             ],
             [
              0.6666666666666666,
              "#ed7953"
             ],
             [
              0.7777777777777778,
              "#fb9f3a"
             ],
             [
              0.8888888888888888,
              "#fdca26"
             ],
             [
              1,
              "#f0f921"
             ]
            ],
            "type": "contour"
           }
          ],
          "contourcarpet": [
           {
            "colorbar": {
             "outlinewidth": 0,
             "ticks": ""
            },
            "type": "contourcarpet"
           }
          ],
          "heatmap": [
           {
            "colorbar": {
             "outlinewidth": 0,
             "ticks": ""
            },
            "colorscale": [
             [
              0,
              "#0d0887"
             ],
             [
              0.1111111111111111,
              "#46039f"
             ],
             [
              0.2222222222222222,
              "#7201a8"
             ],
             [
              0.3333333333333333,
              "#9c179e"
             ],
             [
              0.4444444444444444,
              "#bd3786"
             ],
             [
              0.5555555555555556,
              "#d8576b"
             ],
             [
              0.6666666666666666,
              "#ed7953"
             ],
             [
              0.7777777777777778,
              "#fb9f3a"
             ],
             [
              0.8888888888888888,
              "#fdca26"
             ],
             [
              1,
              "#f0f921"
             ]
            ],
            "type": "heatmap"
           }
          ],
          "heatmapgl": [
           {
            "colorbar": {
             "outlinewidth": 0,
             "ticks": ""
            },
            "colorscale": [
             [
              0,
              "#0d0887"
             ],
             [
              0.1111111111111111,
              "#46039f"
             ],
             [
              0.2222222222222222,
              "#7201a8"
             ],
             [
              0.3333333333333333,
              "#9c179e"
             ],
             [
              0.4444444444444444,
              "#bd3786"
             ],
             [
              0.5555555555555556,
              "#d8576b"
             ],
             [
              0.6666666666666666,
              "#ed7953"
             ],
             [
              0.7777777777777778,
              "#fb9f3a"
             ],
             [
              0.8888888888888888,
              "#fdca26"
             ],
             [
              1,
              "#f0f921"
             ]
            ],
            "type": "heatmapgl"
           }
          ],
          "histogram": [
           {
            "marker": {
             "pattern": {
              "fillmode": "overlay",
              "size": 10,
              "solidity": 0.2
             }
            },
            "type": "histogram"
           }
          ],
          "histogram2d": [
           {
            "colorbar": {
             "outlinewidth": 0,
             "ticks": ""
            },
            "colorscale": [
             [
              0,
              "#0d0887"
             ],
             [
              0.1111111111111111,
              "#46039f"
             ],
             [
              0.2222222222222222,
              "#7201a8"
             ],
             [
              0.3333333333333333,
              "#9c179e"
             ],
             [
              0.4444444444444444,
              "#bd3786"
             ],
             [
              0.5555555555555556,
              "#d8576b"
             ],
             [
              0.6666666666666666,
              "#ed7953"
             ],
             [
              0.7777777777777778,
              "#fb9f3a"
             ],
             [
              0.8888888888888888,
              "#fdca26"
             ],
             [
              1,
              "#f0f921"
             ]
            ],
            "type": "histogram2d"
           }
          ],
          "histogram2dcontour": [
           {
            "colorbar": {
             "outlinewidth": 0,
             "ticks": ""
            },
            "colorscale": [
             [
              0,
              "#0d0887"
             ],
             [
              0.1111111111111111,
              "#46039f"
             ],
             [
              0.2222222222222222,
              "#7201a8"
             ],
             [
              0.3333333333333333,
              "#9c179e"
             ],
             [
              0.4444444444444444,
              "#bd3786"
             ],
             [
              0.5555555555555556,
              "#d8576b"
             ],
             [
              0.6666666666666666,
              "#ed7953"
             ],
             [
              0.7777777777777778,
              "#fb9f3a"
             ],
             [
              0.8888888888888888,
              "#fdca26"
             ],
             [
              1,
              "#f0f921"
             ]
            ],
            "type": "histogram2dcontour"
           }
          ],
          "mesh3d": [
           {
            "colorbar": {
             "outlinewidth": 0,
             "ticks": ""
            },
            "type": "mesh3d"
           }
          ],
          "parcoords": [
           {
            "line": {
             "colorbar": {
              "outlinewidth": 0,
              "ticks": ""
             }
            },
            "type": "parcoords"
           }
          ],
          "pie": [
           {
            "automargin": true,
            "type": "pie"
           }
          ],
          "scatter": [
           {
            "fillpattern": {
             "fillmode": "overlay",
             "size": 10,
             "solidity": 0.2
            },
            "type": "scatter"
           }
          ],
          "scatter3d": [
           {
            "line": {
             "colorbar": {
              "outlinewidth": 0,
              "ticks": ""
             }
            },
            "marker": {
             "colorbar": {
              "outlinewidth": 0,
              "ticks": ""
             }
            },
            "type": "scatter3d"
           }
          ],
          "scattercarpet": [
           {
            "marker": {
             "colorbar": {
              "outlinewidth": 0,
              "ticks": ""
             }
            },
            "type": "scattercarpet"
           }
          ],
          "scattergeo": [
           {
            "marker": {
             "colorbar": {
              "outlinewidth": 0,
              "ticks": ""
             }
            },
            "type": "scattergeo"
           }
          ],
          "scattergl": [
           {
            "marker": {
             "colorbar": {
              "outlinewidth": 0,
              "ticks": ""
             }
            },
            "type": "scattergl"
           }
          ],
          "scattermapbox": [
           {
            "marker": {
             "colorbar": {
              "outlinewidth": 0,
              "ticks": ""
             }
            },
            "type": "scattermapbox"
           }
          ],
          "scatterpolar": [
           {
            "marker": {
             "colorbar": {
              "outlinewidth": 0,
              "ticks": ""
             }
            },
            "type": "scatterpolar"
           }
          ],
          "scatterpolargl": [
           {
            "marker": {
             "colorbar": {
              "outlinewidth": 0,
              "ticks": ""
             }
            },
            "type": "scatterpolargl"
           }
          ],
          "scatterternary": [
           {
            "marker": {
             "colorbar": {
              "outlinewidth": 0,
              "ticks": ""
             }
            },
            "type": "scatterternary"
           }
          ],
          "surface": [
           {
            "colorbar": {
             "outlinewidth": 0,
             "ticks": ""
            },
            "colorscale": [
             [
              0,
              "#0d0887"
             ],
             [
              0.1111111111111111,
              "#46039f"
             ],
             [
              0.2222222222222222,
              "#7201a8"
             ],
             [
              0.3333333333333333,
              "#9c179e"
             ],
             [
              0.4444444444444444,
              "#bd3786"
             ],
             [
              0.5555555555555556,
              "#d8576b"
             ],
             [
              0.6666666666666666,
              "#ed7953"
             ],
             [
              0.7777777777777778,
              "#fb9f3a"
             ],
             [
              0.8888888888888888,
              "#fdca26"
             ],
             [
              1,
              "#f0f921"
             ]
            ],
            "type": "surface"
           }
          ],
          "table": [
           {
            "cells": {
             "fill": {
              "color": "#EBF0F8"
             },
             "line": {
              "color": "white"
             }
            },
            "header": {
             "fill": {
              "color": "#C8D4E3"
             },
             "line": {
              "color": "white"
             }
            },
            "type": "table"
           }
          ]
         },
         "layout": {
          "annotationdefaults": {
           "arrowcolor": "#2a3f5f",
           "arrowhead": 0,
           "arrowwidth": 1
          },
          "autotypenumbers": "strict",
          "coloraxis": {
           "colorbar": {
            "outlinewidth": 0,
            "ticks": ""
           }
          },
          "colorscale": {
           "diverging": [
            [
             0,
             "#8e0152"
            ],
            [
             0.1,
             "#c51b7d"
            ],
            [
             0.2,
             "#de77ae"
            ],
            [
             0.3,
             "#f1b6da"
            ],
            [
             0.4,
             "#fde0ef"
            ],
            [
             0.5,
             "#f7f7f7"
            ],
            [
             0.6,
             "#e6f5d0"
            ],
            [
             0.7,
             "#b8e186"
            ],
            [
             0.8,
             "#7fbc41"
            ],
            [
             0.9,
             "#4d9221"
            ],
            [
             1,
             "#276419"
            ]
           ],
           "sequential": [
            [
             0,
             "#0d0887"
            ],
            [
             0.1111111111111111,
             "#46039f"
            ],
            [
             0.2222222222222222,
             "#7201a8"
            ],
            [
             0.3333333333333333,
             "#9c179e"
            ],
            [
             0.4444444444444444,
             "#bd3786"
            ],
            [
             0.5555555555555556,
             "#d8576b"
            ],
            [
             0.6666666666666666,
             "#ed7953"
            ],
            [
             0.7777777777777778,
             "#fb9f3a"
            ],
            [
             0.8888888888888888,
             "#fdca26"
            ],
            [
             1,
             "#f0f921"
            ]
           ],
           "sequentialminus": [
            [
             0,
             "#0d0887"
            ],
            [
             0.1111111111111111,
             "#46039f"
            ],
            [
             0.2222222222222222,
             "#7201a8"
            ],
            [
             0.3333333333333333,
             "#9c179e"
            ],
            [
             0.4444444444444444,
             "#bd3786"
            ],
            [
             0.5555555555555556,
             "#d8576b"
            ],
            [
             0.6666666666666666,
             "#ed7953"
            ],
            [
             0.7777777777777778,
             "#fb9f3a"
            ],
            [
             0.8888888888888888,
             "#fdca26"
            ],
            [
             1,
             "#f0f921"
            ]
           ]
          },
          "colorway": [
           "#636efa",
           "#EF553B",
           "#00cc96",
           "#ab63fa",
           "#FFA15A",
           "#19d3f3",
           "#FF6692",
           "#B6E880",
           "#FF97FF",
           "#FECB52"
          ],
          "font": {
           "color": "#2a3f5f"
          },
          "geo": {
           "bgcolor": "white",
           "lakecolor": "white",
           "landcolor": "#E5ECF6",
           "showlakes": true,
           "showland": true,
           "subunitcolor": "white"
          },
          "hoverlabel": {
           "align": "left"
          },
          "hovermode": "closest",
          "mapbox": {
           "style": "light"
          },
          "paper_bgcolor": "white",
          "plot_bgcolor": "#E5ECF6",
          "polar": {
           "angularaxis": {
            "gridcolor": "white",
            "linecolor": "white",
            "ticks": ""
           },
           "bgcolor": "#E5ECF6",
           "radialaxis": {
            "gridcolor": "white",
            "linecolor": "white",
            "ticks": ""
           }
          },
          "scene": {
           "xaxis": {
            "backgroundcolor": "#E5ECF6",
            "gridcolor": "white",
            "gridwidth": 2,
            "linecolor": "white",
            "showbackground": true,
            "ticks": "",
            "zerolinecolor": "white"
           },
           "yaxis": {
            "backgroundcolor": "#E5ECF6",
            "gridcolor": "white",
            "gridwidth": 2,
            "linecolor": "white",
            "showbackground": true,
            "ticks": "",
            "zerolinecolor": "white"
           },
           "zaxis": {
            "backgroundcolor": "#E5ECF6",
            "gridcolor": "white",
            "gridwidth": 2,
            "linecolor": "white",
            "showbackground": true,
            "ticks": "",
            "zerolinecolor": "white"
           }
          },
          "shapedefaults": {
           "line": {
            "color": "#2a3f5f"
           }
          },
          "ternary": {
           "aaxis": {
            "gridcolor": "white",
            "linecolor": "white",
            "ticks": ""
           },
           "baxis": {
            "gridcolor": "white",
            "linecolor": "white",
            "ticks": ""
           },
           "bgcolor": "#E5ECF6",
           "caxis": {
            "gridcolor": "white",
            "linecolor": "white",
            "ticks": ""
           }
          },
          "title": {
           "x": 0.05
          },
          "xaxis": {
           "automargin": true,
           "gridcolor": "white",
           "linecolor": "white",
           "ticks": "",
           "title": {
            "standoff": 15
           },
           "zerolinecolor": "white",
           "zerolinewidth": 2
          },
          "yaxis": {
           "automargin": true,
           "gridcolor": "white",
           "linecolor": "white",
           "ticks": "",
           "title": {
            "standoff": 15
           },
           "zerolinecolor": "white",
           "zerolinewidth": 2
          }
         }
        },
        "title": {
         "text": "Raphanus sativus with Generated Reads: Suffix Array and Sequitur vs De Bruijn Graph and Euler Path"
        },
        "yaxis": {
         "title": {
          "text": "time (s)"
         }
        }
       }
      },
      "text/html": [
       "<div>                        <script type=\"text/javascript\">window.PlotlyConfig = {MathJaxConfig: 'local'};</script>\n",
       "        <script charset=\"utf-8\" src=\"https://cdn.plot.ly/plotly-2.30.0.min.js\"></script>                <div id=\"f4a41388-30b8-42a8-ad71-f0db865b2f95\" class=\"plotly-graph-div\" style=\"height:100%; width:100%;\"></div>            <script type=\"text/javascript\">                                    window.PLOTLYENV=window.PLOTLYENV || {};                                    if (document.getElementById(\"f4a41388-30b8-42a8-ad71-f0db865b2f95\")) {                    Plotly.newPlot(                        \"f4a41388-30b8-42a8-ad71-f0db865b2f95\",                        [{\"name\":\"De Bruijn Graph construction\",\"offsetgroup\":\"0\",\"x\":[\"30\",\"31\",\"32\",\"33\",\"34\",\"35\",\"36\",\"37\",\"38\",\"39\"],\"y\":[2.612266627172144,2.6584061766833806,2.6490940644101397,2.6619585080263093,2.661279437716414,2.642544750585789,2.8838163468895877,2.8002959540995147,2.8022940791525497,2.801001541556381,2.8309360114539532,2.5820985240471077,2.819779725307369,2.8248886794578754,2.8224314623344227,2.8505188818675715,2.864189952175793,2.606517351545939,2.5280085295002634,2.5156057964883214,2.5065460338825134,2.5089567933431485,2.584602706606795,2.6906795895971904,2.683774306832291,2.6658470378270978,2.6956998469189886,2.672193654339487,2.8027362055894818,2.791659319575239,2.794393312640309,2.816716819391015,2.8300403129763727,2.593480826238305,2.676897176882113,2.566621647462612,2.5807165993713737,2.579501156923248,2.5600598400395085,2.6535695863351583,2.6290821335955377,2.6434815780127927,2.63444807366627,2.6469615832770748,2.5835999878441416,2.773982578719534,2.7424081432528604,2.739894899275245,2.752853965410371,2.7674044024072044],\"type\":\"bar\"},{\"base\":[2.612266627172144,2.6584061766833806,2.6490940644101397,2.6619585080263093,2.661279437716414,2.642544750585789,2.8838163468895877,2.8002959540995147,2.8022940791525497,2.801001541556381,2.8309360114539532,2.5820985240471077,2.819779725307369,2.8248886794578754,2.8224314623344227,2.8505188818675715,2.864189952175793,2.606517351545939,2.5280085295002634,2.5156057964883214,2.5065460338825134,2.5089567933431485,2.584602706606795,2.6906795895971904,2.683774306832291,2.6658470378270978,2.6956998469189886,2.672193654339487,2.8027362055894818,2.791659319575239,2.794393312640309,2.816716819391015,2.8300403129763727,2.593480826238305,2.676897176882113,2.566621647462612,2.5807165993713737,2.579501156923248,2.5600598400395085,2.6535695863351583,2.6290821335955377,2.6434815780127927,2.63444807366627,2.6469615832770748,2.5835999878441416,2.773982578719534,2.7424081432528604,2.739894899275245,2.752853965410371,2.7674044024072044],\"name\":\"Euler Path reconstruction\",\"offsetgroup\":\"0\",\"text\":[\"\\u003cb\\u003e0.01%\\u003c\\u002fb\\u003e\",\"\\u003cb\\u003e0.01%\\u003c\\u002fb\\u003e\",\"\\u003cb\\u003e0.01%\\u003c\\u002fb\\u003e\",\"\\u003cb\\u003e0.01%\\u003c\\u002fb\\u003e\",\"\\u003cb\\u003e0.01%\\u003c\\u002fb\\u003e\",\"\\u003cb\\u003e0.01%\\u003c\\u002fb\\u003e\",\"\\u003cb\\u003e0.01%\\u003c\\u002fb\\u003e\",\"\\u003cb\\u003e0.01%\\u003c\\u002fb\\u003e\",\"\\u003cb\\u003e0.01%\\u003c\\u002fb\\u003e\",\"\\u003cb\\u003e0.01%\\u003c\\u002fb\\u003e\"],\"textposition\":\"outside\",\"x\":[\"30\",\"31\",\"32\",\"33\",\"34\",\"35\",\"36\",\"37\",\"38\",\"39\"],\"y\":[0.335405974620726,0.34210571196021106,0.3466567526794063,0.34410124139087966,0.3425742041192403,0.3442743798000061,0.36595150331171555,0.371067086778036,0.37663323565227225,0.36814225755086777,0.37942313822304313,0.32982219835607024,0.37585395999071064,0.368015292330486,0.36722489066240277,0.3706923803469031,0.37152794151771384,0.33340525545725025,0.3302565431594848,0.3335456241049419,0.32878563031917646,0.323847402712194,0.3368932073872264,0.34256817526933625,0.3424421593038048,0.336547283079566,0.3349887314075379,0.345191485591051,0.3660396931811078,0.36786688583653154,0.37413694067699144,0.3697172802250559,0.36875086609910174,0.3346248362704024,0.3427207411789314,0.3342559159674296,0.3312571025476222,0.3327545720774952,0.33786522853665224,0.34749029113025215,0.34455425681137464,0.3454203006697863,0.3438598052466788,0.34140396315877014,0.3366048965221498,0.35094518835951655,0.34747327525441224,0.3500436368802697,0.3459420540274643,0.34255813540481955],\"type\":\"bar\"},{\"name\":\"Suffix Array construction\",\"offsetgroup\":\"1\",\"x\":[\"30\",\"31\",\"32\",\"33\",\"34\",\"35\",\"36\",\"37\",\"38\",\"39\"],\"y\":[13.663219738006593,13.538903903961181,13.70011110305786,13.720218658447266,13.617471504211426,13.908124852180482,13.92692186832428,13.748035788536072,13.730437922477723,13.864291000366212,14.228859496116637,13.845230412483215,13.296442103385925,13.643372297286987,14.016278386116028,14.070302248001099,13.78345229625702,13.577315711975098,14.051397800445557,13.754148030281067,14.072115850448608,13.497524666786195,14.103162264823913,13.79975893497467,13.970998930931092,14.327715468406677,14.224557542800904,13.861295151710511,13.483842754364014,13.69554262161255,13.698824596405029,14.14829616546631,14.276137113571167,13.922017312049865,13.621377968788147,13.947717595100404,14.132982063293458,13.992869758605957,14.16330897808075,13.451741886138915,13.767930006980896,14.270190548896789,14.145833730697632,13.91710684299469,13.788760900497437,13.538946151733398,13.849047827720643,14.102005577087402,14.248242402076722,14.041401720046997],\"type\":\"bar\"},{\"base\":[13.663219738006593,13.538903903961181,13.70011110305786,13.720218658447266,13.617471504211426,13.908124852180482,13.92692186832428,13.748035788536072,13.730437922477723,13.864291000366212,14.228859496116637,13.845230412483215,13.296442103385925,13.643372297286987,14.016278386116028,14.070302248001099,13.78345229625702,13.577315711975098,14.051397800445557,13.754148030281067,14.072115850448608,13.497524666786195,14.103162264823913,13.79975893497467,13.970998930931092,14.327715468406677,14.224557542800904,13.861295151710511,13.483842754364014,13.69554262161255,13.698824596405029,14.14829616546631,14.276137113571167,13.922017312049865,13.621377968788147,13.947717595100404,14.132982063293458,13.992869758605957,14.16330897808075,13.451741886138915,13.767930006980896,14.270190548896789,14.145833730697632,13.91710684299469,13.788760900497437,13.538946151733398,13.849047827720643,14.102005577087402,14.248242402076722,14.041401720046997],\"name\":\"Adjacency Matrix construction\",\"offsetgroup\":\"1\",\"x\":[\"30\",\"31\",\"32\",\"33\",\"34\",\"35\",\"36\",\"37\",\"38\",\"39\"],\"y\":[1062.369104385376,1073.0000865221023,1066.0100021600724,1058.0872583150863,1048.3308802843094,1078.4911577224732,1080.3412817716599,1049.9394376039504,1045.6897354841233,1042.4404428482055,1074.7627636909485,1088.6140061378478,1037.3516236066819,1052.4797366142272,1058.1545270204545,1079.725005841255,1049.3913203001023,1069.7785495758058,1071.893361234665,1041.8492573022843,1067.2858700513839,1033.917875480652,1075.5084909915925,1075.9199424505234,1081.1119964361192,1082.3035836696624,1072.764274930954,1051.5814207315445,1042.0089975595474,1039.4353214740754,1041.9925720453261,1075.976454782486,1104.205859375,1056.5653158664704,1054.478480052948,1054.3128525972365,1071.031885457039,1063.278342938423,1077.229965686798,1035.3256218910217,1038.8339392662049,1090.226400256157,1069.8231082677842,1057.842178106308,1052.8990099430084,1047.0279408931733,1045.915050983429,1066.205805850029,1064.8776514053345,1072.2994989395143],\"type\":\"bar\"},{\"base\":[1062.369104385376,1073.0000865221023,1066.0100021600724,1058.0872583150863,1048.3308802843094,1078.4911577224732,1080.3412817716599,1049.9394376039504,1045.6897354841233,1042.4404428482055,1074.7627636909485,1088.6140061378478,1037.3516236066819,1052.4797366142272,1058.1545270204545,1079.725005841255,1049.3913203001023,1069.7785495758058,1071.893361234665,1041.8492573022843,1067.2858700513839,1033.917875480652,1075.5084909915925,1075.9199424505234,1081.1119964361192,1082.3035836696624,1072.764274930954,1051.5814207315445,1042.0089975595474,1039.4353214740754,1041.9925720453261,1075.976454782486,1104.205859375,1056.5653158664704,1054.478480052948,1054.3128525972365,1071.031885457039,1063.278342938423,1077.229965686798,1035.3256218910217,1038.8339392662049,1090.226400256157,1069.8231082677842,1057.842178106308,1052.8990099430084,1047.0279408931733,1045.915050983429,1066.205805850029,1064.8776514053345,1072.2994989395143],\"name\":\"Sequence reconstruction\",\"offsetgroup\":\"1\",\"text\":[\"\\u003cb\\u003e100.0%\\u003c\\u002fb\\u003e\",\"\\u003cb\\u003e100.0%\\u003c\\u002fb\\u003e\",\"\\u003cb\\u003e100.0%\\u003c\\u002fb\\u003e\",\"\\u003cb\\u003e100.0%\\u003c\\u002fb\\u003e\",\"\\u003cb\\u003e100.0%\\u003c\\u002fb\\u003e\",\"\\u003cb\\u003e100.0%\\u003c\\u002fb\\u003e\",\"\\u003cb\\u003e100.0%\\u003c\\u002fb\\u003e\",\"\\u003cb\\u003e100.0%\\u003c\\u002fb\\u003e\",\"\\u003cb\\u003e100.0%\\u003c\\u002fb\\u003e\",\"\\u003cb\\u003e100.0%\\u003c\\u002fb\\u003e\"],\"textposition\":\"outside\",\"x\":[\"30\",\"31\",\"32\",\"33\",\"34\",\"35\",\"36\",\"37\",\"38\",\"39\"],\"y\":[216.386448097229,216.9845267534256,217.27791390419006,218.07359192371368,217.90404272079468,217.5473834514618,216.67316029071807,217.0102926492691,217.19118490219117,217.20463840961457,216.96033883094788,216.69639983177186,217.05136914253234,217.74861745834352,218.33838448524475,219.42977499961853,217.3924864053726,216.65924108028412,216.87155821323395,217.22439908981323,217.49836478233337,217.27060515880584,217.4408841609955,217.34135527610778,217.56292042732238,218.3206748008728,217.99333052635194,218.43719379901887,216.03604860305785,216.47547659873962,216.59112956523896,216.6998613357544,216.55755286216737,217.74387543201448,217.25529971122742,217.971755361557,217.78825726509095,217.81876180171966,217.50416882038115,216.85270490646363,217.1746285676956,217.61494646072387,217.4327974319458,217.4391048192978,217.22246479988098,214.90762996673584,215.33690936565398,215.54646003246307,216.03888969421388,215.70594799518585],\"type\":\"bar\"}],                        {\"title\":{\"text\":\"Raphanus sativus with Generated Reads: Suffix Array and Sequitur vs De Bruijn Graph and Euler Path\"},\"yaxis\":{\"title\":{\"text\":\"time (s)\"}},\"template\":{\"data\":{\"histogram2dcontour\":[{\"type\":\"histogram2dcontour\",\"colorbar\":{\"outlinewidth\":0,\"ticks\":\"\"},\"colorscale\":[[0.0,\"#0d0887\"],[0.1111111111111111,\"#46039f\"],[0.2222222222222222,\"#7201a8\"],[0.3333333333333333,\"#9c179e\"],[0.4444444444444444,\"#bd3786\"],[0.5555555555555556,\"#d8576b\"],[0.6666666666666666,\"#ed7953\"],[0.7777777777777778,\"#fb9f3a\"],[0.8888888888888888,\"#fdca26\"],[1.0,\"#f0f921\"]]}],\"choropleth\":[{\"type\":\"choropleth\",\"colorbar\":{\"outlinewidth\":0,\"ticks\":\"\"}}],\"histogram2d\":[{\"type\":\"histogram2d\",\"colorbar\":{\"outlinewidth\":0,\"ticks\":\"\"},\"colorscale\":[[0.0,\"#0d0887\"],[0.1111111111111111,\"#46039f\"],[0.2222222222222222,\"#7201a8\"],[0.3333333333333333,\"#9c179e\"],[0.4444444444444444,\"#bd3786\"],[0.5555555555555556,\"#d8576b\"],[0.6666666666666666,\"#ed7953\"],[0.7777777777777778,\"#fb9f3a\"],[0.8888888888888888,\"#fdca26\"],[1.0,\"#f0f921\"]]}],\"heatmap\":[{\"type\":\"heatmap\",\"colorbar\":{\"outlinewidth\":0,\"ticks\":\"\"},\"colorscale\":[[0.0,\"#0d0887\"],[0.1111111111111111,\"#46039f\"],[0.2222222222222222,\"#7201a8\"],[0.3333333333333333,\"#9c179e\"],[0.4444444444444444,\"#bd3786\"],[0.5555555555555556,\"#d8576b\"],[0.6666666666666666,\"#ed7953\"],[0.7777777777777778,\"#fb9f3a\"],[0.8888888888888888,\"#fdca26\"],[1.0,\"#f0f921\"]]}],\"heatmapgl\":[{\"type\":\"heatmapgl\",\"colorbar\":{\"outlinewidth\":0,\"ticks\":\"\"},\"colorscale\":[[0.0,\"#0d0887\"],[0.1111111111111111,\"#46039f\"],[0.2222222222222222,\"#7201a8\"],[0.3333333333333333,\"#9c179e\"],[0.4444444444444444,\"#bd3786\"],[0.5555555555555556,\"#d8576b\"],[0.6666666666666666,\"#ed7953\"],[0.7777777777777778,\"#fb9f3a\"],[0.8888888888888888,\"#fdca26\"],[1.0,\"#f0f921\"]]}],\"contourcarpet\":[{\"type\":\"contourcarpet\",\"colorbar\":{\"outlinewidth\":0,\"ticks\":\"\"}}],\"contour\":[{\"type\":\"contour\",\"colorbar\":{\"outlinewidth\":0,\"ticks\":\"\"},\"colorscale\":[[0.0,\"#0d0887\"],[0.1111111111111111,\"#46039f\"],[0.2222222222222222,\"#7201a8\"],[0.3333333333333333,\"#9c179e\"],[0.4444444444444444,\"#bd3786\"],[0.5555555555555556,\"#d8576b\"],[0.6666666666666666,\"#ed7953\"],[0.7777777777777778,\"#fb9f3a\"],[0.8888888888888888,\"#fdca26\"],[1.0,\"#f0f921\"]]}],\"surface\":[{\"type\":\"surface\",\"colorbar\":{\"outlinewidth\":0,\"ticks\":\"\"},\"colorscale\":[[0.0,\"#0d0887\"],[0.1111111111111111,\"#46039f\"],[0.2222222222222222,\"#7201a8\"],[0.3333333333333333,\"#9c179e\"],[0.4444444444444444,\"#bd3786\"],[0.5555555555555556,\"#d8576b\"],[0.6666666666666666,\"#ed7953\"],[0.7777777777777778,\"#fb9f3a\"],[0.8888888888888888,\"#fdca26\"],[1.0,\"#f0f921\"]]}],\"mesh3d\":[{\"type\":\"mesh3d\",\"colorbar\":{\"outlinewidth\":0,\"ticks\":\"\"}}],\"scatter\":[{\"fillpattern\":{\"fillmode\":\"overlay\",\"size\":10,\"solidity\":0.2},\"type\":\"scatter\"}],\"parcoords\":[{\"type\":\"parcoords\",\"line\":{\"colorbar\":{\"outlinewidth\":0,\"ticks\":\"\"}}}],\"scatterpolargl\":[{\"type\":\"scatterpolargl\",\"marker\":{\"colorbar\":{\"outlinewidth\":0,\"ticks\":\"\"}}}],\"bar\":[{\"error_x\":{\"color\":\"#2a3f5f\"},\"error_y\":{\"color\":\"#2a3f5f\"},\"marker\":{\"line\":{\"color\":\"#E5ECF6\",\"width\":0.5},\"pattern\":{\"fillmode\":\"overlay\",\"size\":10,\"solidity\":0.2}},\"type\":\"bar\"}],\"scattergeo\":[{\"type\":\"scattergeo\",\"marker\":{\"colorbar\":{\"outlinewidth\":0,\"ticks\":\"\"}}}],\"scatterpolar\":[{\"type\":\"scatterpolar\",\"marker\":{\"colorbar\":{\"outlinewidth\":0,\"ticks\":\"\"}}}],\"histogram\":[{\"marker\":{\"pattern\":{\"fillmode\":\"overlay\",\"size\":10,\"solidity\":0.2}},\"type\":\"histogram\"}],\"scattergl\":[{\"type\":\"scattergl\",\"marker\":{\"colorbar\":{\"outlinewidth\":0,\"ticks\":\"\"}}}],\"scatter3d\":[{\"type\":\"scatter3d\",\"line\":{\"colorbar\":{\"outlinewidth\":0,\"ticks\":\"\"}},\"marker\":{\"colorbar\":{\"outlinewidth\":0,\"ticks\":\"\"}}}],\"scattermapbox\":[{\"type\":\"scattermapbox\",\"marker\":{\"colorbar\":{\"outlinewidth\":0,\"ticks\":\"\"}}}],\"scatterternary\":[{\"type\":\"scatterternary\",\"marker\":{\"colorbar\":{\"outlinewidth\":0,\"ticks\":\"\"}}}],\"scattercarpet\":[{\"type\":\"scattercarpet\",\"marker\":{\"colorbar\":{\"outlinewidth\":0,\"ticks\":\"\"}}}],\"carpet\":[{\"aaxis\":{\"endlinecolor\":\"#2a3f5f\",\"gridcolor\":\"white\",\"linecolor\":\"white\",\"minorgridcolor\":\"white\",\"startlinecolor\":\"#2a3f5f\"},\"baxis\":{\"endlinecolor\":\"#2a3f5f\",\"gridcolor\":\"white\",\"linecolor\":\"white\",\"minorgridcolor\":\"white\",\"startlinecolor\":\"#2a3f5f\"},\"type\":\"carpet\"}],\"table\":[{\"cells\":{\"fill\":{\"color\":\"#EBF0F8\"},\"line\":{\"color\":\"white\"}},\"header\":{\"fill\":{\"color\":\"#C8D4E3\"},\"line\":{\"color\":\"white\"}},\"type\":\"table\"}],\"barpolar\":[{\"marker\":{\"line\":{\"color\":\"#E5ECF6\",\"width\":0.5},\"pattern\":{\"fillmode\":\"overlay\",\"size\":10,\"solidity\":0.2}},\"type\":\"barpolar\"}],\"pie\":[{\"automargin\":true,\"type\":\"pie\"}]},\"layout\":{\"autotypenumbers\":\"strict\",\"colorway\":[\"#636efa\",\"#EF553B\",\"#00cc96\",\"#ab63fa\",\"#FFA15A\",\"#19d3f3\",\"#FF6692\",\"#B6E880\",\"#FF97FF\",\"#FECB52\"],\"font\":{\"color\":\"#2a3f5f\"},\"hovermode\":\"closest\",\"hoverlabel\":{\"align\":\"left\"},\"paper_bgcolor\":\"white\",\"plot_bgcolor\":\"#E5ECF6\",\"polar\":{\"bgcolor\":\"#E5ECF6\",\"angularaxis\":{\"gridcolor\":\"white\",\"linecolor\":\"white\",\"ticks\":\"\"},\"radialaxis\":{\"gridcolor\":\"white\",\"linecolor\":\"white\",\"ticks\":\"\"}},\"ternary\":{\"bgcolor\":\"#E5ECF6\",\"aaxis\":{\"gridcolor\":\"white\",\"linecolor\":\"white\",\"ticks\":\"\"},\"baxis\":{\"gridcolor\":\"white\",\"linecolor\":\"white\",\"ticks\":\"\"},\"caxis\":{\"gridcolor\":\"white\",\"linecolor\":\"white\",\"ticks\":\"\"}},\"coloraxis\":{\"colorbar\":{\"outlinewidth\":0,\"ticks\":\"\"}},\"colorscale\":{\"sequential\":[[0.0,\"#0d0887\"],[0.1111111111111111,\"#46039f\"],[0.2222222222222222,\"#7201a8\"],[0.3333333333333333,\"#9c179e\"],[0.4444444444444444,\"#bd3786\"],[0.5555555555555556,\"#d8576b\"],[0.6666666666666666,\"#ed7953\"],[0.7777777777777778,\"#fb9f3a\"],[0.8888888888888888,\"#fdca26\"],[1.0,\"#f0f921\"]],\"sequentialminus\":[[0.0,\"#0d0887\"],[0.1111111111111111,\"#46039f\"],[0.2222222222222222,\"#7201a8\"],[0.3333333333333333,\"#9c179e\"],[0.4444444444444444,\"#bd3786\"],[0.5555555555555556,\"#d8576b\"],[0.6666666666666666,\"#ed7953\"],[0.7777777777777778,\"#fb9f3a\"],[0.8888888888888888,\"#fdca26\"],[1.0,\"#f0f921\"]],\"diverging\":[[0,\"#8e0152\"],[0.1,\"#c51b7d\"],[0.2,\"#de77ae\"],[0.3,\"#f1b6da\"],[0.4,\"#fde0ef\"],[0.5,\"#f7f7f7\"],[0.6,\"#e6f5d0\"],[0.7,\"#b8e186\"],[0.8,\"#7fbc41\"],[0.9,\"#4d9221\"],[1,\"#276419\"]]},\"xaxis\":{\"gridcolor\":\"white\",\"linecolor\":\"white\",\"ticks\":\"\",\"title\":{\"standoff\":15},\"zerolinecolor\":\"white\",\"automargin\":true,\"zerolinewidth\":2},\"yaxis\":{\"gridcolor\":\"white\",\"linecolor\":\"white\",\"ticks\":\"\",\"title\":{\"standoff\":15},\"zerolinecolor\":\"white\",\"automargin\":true,\"zerolinewidth\":2},\"scene\":{\"xaxis\":{\"backgroundcolor\":\"#E5ECF6\",\"gridcolor\":\"white\",\"linecolor\":\"white\",\"showbackground\":true,\"ticks\":\"\",\"zerolinecolor\":\"white\",\"gridwidth\":2},\"yaxis\":{\"backgroundcolor\":\"#E5ECF6\",\"gridcolor\":\"white\",\"linecolor\":\"white\",\"showbackground\":true,\"ticks\":\"\",\"zerolinecolor\":\"white\",\"gridwidth\":2},\"zaxis\":{\"backgroundcolor\":\"#E5ECF6\",\"gridcolor\":\"white\",\"linecolor\":\"white\",\"showbackground\":true,\"ticks\":\"\",\"zerolinecolor\":\"white\",\"gridwidth\":2}},\"shapedefaults\":{\"line\":{\"color\":\"#2a3f5f\"}},\"annotationdefaults\":{\"arrowcolor\":\"#2a3f5f\",\"arrowhead\":0,\"arrowwidth\":1},\"geo\":{\"bgcolor\":\"white\",\"landcolor\":\"#E5ECF6\",\"subunitcolor\":\"white\",\"showland\":true,\"showlakes\":true,\"lakecolor\":\"white\"},\"title\":{\"x\":0.05},\"mapbox\":{\"style\":\"light\"}}}},                        {\"responsive\": true}                    )                };                            </script>        </div>"
      ],
      "text/plain": [
       "Figure({\n",
       "    'data': [{'name': 'De Bruijn Graph construction',\n",
       "              'offsetgroup': '0',\n",
       "              'type': 'bar',\n",
       "              'x': [30, 31, 32, 33, 34, 35, 36, 37, 38, 39],\n",
       "              'y': array([2.61226663, 2.65840618, 2.64909406, 2.66195851, 2.66127944, 2.64254475,\n",
       "                          2.88381635, 2.80029595, 2.80229408, 2.80100154, 2.83093601, 2.58209852,\n",
       "                          2.81977973, 2.82488868, 2.82243146, 2.85051888, 2.86418995, 2.60651735,\n",
       "                          2.52800853, 2.5156058 , 2.50654603, 2.50895679, 2.58460271, 2.69067959,\n",
       "                          2.68377431, 2.66584704, 2.69569985, 2.67219365, 2.80273621, 2.79165932,\n",
       "                          2.79439331, 2.81671682, 2.83004031, 2.59348083, 2.67689718, 2.56662165,\n",
       "                          2.5807166 , 2.57950116, 2.56005984, 2.65356959, 2.62908213, 2.64348158,\n",
       "                          2.63444807, 2.64696158, 2.58359999, 2.77398258, 2.74240814, 2.7398949 ,\n",
       "                          2.75285397, 2.7674044 ])},\n",
       "             {'base': array([2.612266627172144, 2.6584061766833806, 2.6490940644101397,\n",
       "                             2.6619585080263093, 2.661279437716414, 2.642544750585789,\n",
       "                             2.8838163468895877, 2.8002959540995147, 2.8022940791525497,\n",
       "                             2.801001541556381, 2.8309360114539532, 2.5820985240471077,\n",
       "                             2.819779725307369, 2.8248886794578754, 2.8224314623344227,\n",
       "                             2.8505188818675715, 2.864189952175793, 2.606517351545939,\n",
       "                             2.5280085295002634, 2.5156057964883214, 2.5065460338825134,\n",
       "                             2.5089567933431485, 2.584602706606795, 2.6906795895971904,\n",
       "                             2.683774306832291, 2.6658470378270978, 2.6956998469189886,\n",
       "                             2.672193654339487, 2.8027362055894818, 2.791659319575239,\n",
       "                             2.794393312640309, 2.816716819391015, 2.8300403129763727,\n",
       "                             2.593480826238305, 2.676897176882113, 2.566621647462612,\n",
       "                             2.5807165993713737, 2.579501156923248, 2.5600598400395085,\n",
       "                             2.6535695863351583, 2.6290821335955377, 2.6434815780127927,\n",
       "                             2.63444807366627, 2.6469615832770748, 2.5835999878441416,\n",
       "                             2.773982578719534, 2.7424081432528604, 2.739894899275245,\n",
       "                             2.752853965410371, 2.7674044024072044], dtype=object),\n",
       "              'name': 'Euler Path reconstruction',\n",
       "              'offsetgroup': '0',\n",
       "              'text': [<b>0.01%</b>, <b>0.01%</b>, <b>0.01%</b>, <b>0.01%</b>,\n",
       "                       <b>0.01%</b>, <b>0.01%</b>, <b>0.01%</b>, <b>0.01%</b>,\n",
       "                       <b>0.01%</b>, <b>0.01%</b>],\n",
       "              'textposition': 'outside',\n",
       "              'type': 'bar',\n",
       "              'x': [30, 31, 32, 33, 34, 35, 36, 37, 38, 39],\n",
       "              'y': array([0.33540597, 0.34210571, 0.34665675, 0.34410124, 0.3425742 , 0.34427438,\n",
       "                          0.3659515 , 0.37106709, 0.37663324, 0.36814226, 0.37942314, 0.3298222 ,\n",
       "                          0.37585396, 0.36801529, 0.36722489, 0.37069238, 0.37152794, 0.33340526,\n",
       "                          0.33025654, 0.33354562, 0.32878563, 0.3238474 , 0.33689321, 0.34256818,\n",
       "                          0.34244216, 0.33654728, 0.33498873, 0.34519149, 0.36603969, 0.36786689,\n",
       "                          0.37413694, 0.36971728, 0.36875087, 0.33462484, 0.34272074, 0.33425592,\n",
       "                          0.3312571 , 0.33275457, 0.33786523, 0.34749029, 0.34455426, 0.3454203 ,\n",
       "                          0.34385981, 0.34140396, 0.3366049 , 0.35094519, 0.34747328, 0.35004364,\n",
       "                          0.34594205, 0.34255814])},\n",
       "             {'name': 'Suffix Array construction',\n",
       "              'offsetgroup': '1',\n",
       "              'type': 'bar',\n",
       "              'x': [30, 31, 32, 33, 34, 35, 36, 37, 38, 39],\n",
       "              'y': array([13.66321974, 13.5389039 , 13.7001111 , 13.72021866, 13.6174715 ,\n",
       "                          13.90812485, 13.92692187, 13.74803579, 13.73043792, 13.864291  ,\n",
       "                          14.2288595 , 13.84523041, 13.2964421 , 13.6433723 , 14.01627839,\n",
       "                          14.07030225, 13.7834523 , 13.57731571, 14.0513978 , 13.75414803,\n",
       "                          14.07211585, 13.49752467, 14.10316226, 13.79975893, 13.97099893,\n",
       "                          14.32771547, 14.22455754, 13.86129515, 13.48384275, 13.69554262,\n",
       "                          13.6988246 , 14.14829617, 14.27613711, 13.92201731, 13.62137797,\n",
       "                          13.9477176 , 14.13298206, 13.99286976, 14.16330898, 13.45174189,\n",
       "                          13.76793001, 14.27019055, 14.14583373, 13.91710684, 13.7887609 ,\n",
       "                          13.53894615, 13.84904783, 14.10200558, 14.2482424 , 14.04140172])},\n",
       "             {'base': array([13.663219738006593, 13.538903903961181, 13.70011110305786,\n",
       "                             13.720218658447266, 13.617471504211426, 13.908124852180482,\n",
       "                             13.92692186832428, 13.748035788536072, 13.730437922477723,\n",
       "                             13.864291000366212, 14.228859496116637, 13.845230412483215,\n",
       "                             13.296442103385925, 13.643372297286987, 14.016278386116028,\n",
       "                             14.070302248001099, 13.78345229625702, 13.577315711975098,\n",
       "                             14.051397800445557, 13.754148030281067, 14.072115850448608,\n",
       "                             13.497524666786195, 14.103162264823913, 13.79975893497467,\n",
       "                             13.970998930931092, 14.327715468406677, 14.224557542800904,\n",
       "                             13.861295151710511, 13.483842754364014, 13.69554262161255,\n",
       "                             13.698824596405029, 14.14829616546631, 14.276137113571167,\n",
       "                             13.922017312049865, 13.621377968788147, 13.947717595100404,\n",
       "                             14.132982063293458, 13.992869758605957, 14.16330897808075,\n",
       "                             13.451741886138915, 13.767930006980896, 14.270190548896789,\n",
       "                             14.145833730697632, 13.91710684299469, 13.788760900497437,\n",
       "                             13.538946151733398, 13.849047827720643, 14.102005577087402,\n",
       "                             14.248242402076722, 14.041401720046997], dtype=object),\n",
       "              'name': 'Adjacency Matrix construction',\n",
       "              'offsetgroup': '1',\n",
       "              'type': 'bar',\n",
       "              'x': [30, 31, 32, 33, 34, 35, 36, 37, 38, 39],\n",
       "              'y': array([1062.36910439, 1073.00008652, 1066.01000216, 1058.08725832,\n",
       "                          1048.33088028, 1078.49115772, 1080.34128177, 1049.9394376 ,\n",
       "                          1045.68973548, 1042.44044285, 1074.76276369, 1088.61400614,\n",
       "                          1037.35162361, 1052.47973661, 1058.15452702, 1079.72500584,\n",
       "                          1049.3913203 , 1069.77854958, 1071.89336123, 1041.8492573 ,\n",
       "                          1067.28587005, 1033.91787548, 1075.50849099, 1075.91994245,\n",
       "                          1081.11199644, 1082.30358367, 1072.76427493, 1051.58142073,\n",
       "                          1042.00899756, 1039.43532147, 1041.99257205, 1075.97645478,\n",
       "                          1104.20585938, 1056.56531587, 1054.47848005, 1054.3128526 ,\n",
       "                          1071.03188546, 1063.27834294, 1077.22996569, 1035.32562189,\n",
       "                          1038.83393927, 1090.22640026, 1069.82310827, 1057.84217811,\n",
       "                          1052.89900994, 1047.02794089, 1045.91505098, 1066.20580585,\n",
       "                          1064.87765141, 1072.29949894])},\n",
       "             {'base': array([1062.369104385376, 1073.0000865221023, 1066.0100021600724,\n",
       "                             1058.0872583150863, 1048.3308802843094, 1078.4911577224732,\n",
       "                             1080.3412817716599, 1049.9394376039504, 1045.6897354841233,\n",
       "                             1042.4404428482055, 1074.7627636909485, 1088.6140061378478,\n",
       "                             1037.3516236066819, 1052.4797366142272, 1058.1545270204545,\n",
       "                             1079.725005841255, 1049.3913203001023, 1069.7785495758058,\n",
       "                             1071.893361234665, 1041.8492573022843, 1067.2858700513839,\n",
       "                             1033.917875480652, 1075.5084909915925, 1075.9199424505234,\n",
       "                             1081.1119964361192, 1082.3035836696624, 1072.764274930954,\n",
       "                             1051.5814207315445, 1042.0089975595474, 1039.4353214740754,\n",
       "                             1041.9925720453261, 1075.976454782486, 1104.205859375,\n",
       "                             1056.5653158664704, 1054.478480052948, 1054.3128525972365,\n",
       "                             1071.031885457039, 1063.278342938423, 1077.229965686798,\n",
       "                             1035.3256218910217, 1038.8339392662049, 1090.226400256157,\n",
       "                             1069.8231082677842, 1057.842178106308, 1052.8990099430084,\n",
       "                             1047.0279408931733, 1045.915050983429, 1066.205805850029,\n",
       "                             1064.8776514053345, 1072.2994989395143], dtype=object),\n",
       "              'name': 'Sequence reconstruction',\n",
       "              'offsetgroup': '1',\n",
       "              'text': [<b>100.0%</b>, <b>100.0%</b>, <b>100.0%</b>, <b>100.0%</b>,\n",
       "                       <b>100.0%</b>, <b>100.0%</b>, <b>100.0%</b>, <b>100.0%</b>,\n",
       "                       <b>100.0%</b>, <b>100.0%</b>],\n",
       "              'textposition': 'outside',\n",
       "              'type': 'bar',\n",
       "              'x': [30, 31, 32, 33, 34, 35, 36, 37, 38, 39],\n",
       "              'y': array([216.3864481 , 216.98452675, 217.2779139 , 218.07359192, 217.90404272,\n",
       "                          217.54738345, 216.67316029, 217.01029265, 217.1911849 , 217.20463841,\n",
       "                          216.96033883, 216.69639983, 217.05136914, 217.74861746, 218.33838449,\n",
       "                          219.429775  , 217.39248641, 216.65924108, 216.87155821, 217.22439909,\n",
       "                          217.49836478, 217.27060516, 217.44088416, 217.34135528, 217.56292043,\n",
       "                          218.3206748 , 217.99333053, 218.4371938 , 216.0360486 , 216.4754766 ,\n",
       "                          216.59112957, 216.69986134, 216.55755286, 217.74387543, 217.25529971,\n",
       "                          217.97175536, 217.78825727, 217.8187618 , 217.50416882, 216.85270491,\n",
       "                          217.17462857, 217.61494646, 217.43279743, 217.43910482, 217.2224648 ,\n",
       "                          214.90762997, 215.33690937, 215.54646003, 216.03888969, 215.705948  ])}],\n",
       "    'layout': {'template': '...',\n",
       "               'title': {'text': ('Raphanus sativus with Generate' ... 'De Bruijn Graph and Euler Path')},\n",
       "               'yaxis': {'title': {'text': 'time (s)'}}}\n",
       "})"
      ]
     },
     "execution_count": 335,
     "metadata": {},
     "output_type": "execute_result"
    }
   ],
   "source": [
    "labels = list('{}'.format(i) for i in range(30,40))\n",
    "\n",
    "fig = go.Figure(\n",
    "    data=[\n",
    "        go.Bar(\n",
    "            name=\"De Bruijn Graph construction\",\n",
    "            x=labels,\n",
    "            y=df_realseq_eul_mean['de_bruijn_graph_construction_time'],\n",
    "            offsetgroup=0,\n",
    "        ),\n",
    "        go.Bar(\n",
    "            name=\"Euler Path reconstruction\",\n",
    "            x=labels,\n",
    "            y=df_realseq_eul_mean['euler_path_reconstruction_time'],\n",
    "            text=list(\"<b>{}%</b>\".format(round((1-(df_realseq_eul[df_realseq_eul['sequence']==i]['edit_distance']/df_realseq_eul[df_realseq_eul['sequence']==i]['target_sequence_length'])).mean()*100,2)) for i in range(30,40)),\n",
    "            textposition='outside',offsetgroup=0,\n",
    "            base=df_realseq_eul_mean['de_bruijn_graph_construction_time'],\n",
    "        ),\n",
    "        go.Bar(\n",
    "            name=\"Suffix Array construction\",\n",
    "            x=labels,\n",
    "            y=df_real_seq_mean['suffix_array_construction_time'],\n",
    "            offsetgroup=1,\n",
    "        ),\n",
    "        go.Bar(\n",
    "            name=\"Adjacency Matrix construction\",\n",
    "            x=labels,\n",
    "            y=df_real_seq_mean['adjacency_matrix_construction_time'],\n",
    "            offsetgroup=1,\n",
    "            base=df_real_seq_mean['suffix_array_construction_time'],\n",
    "        ),\n",
    "        go.Bar(\n",
    "            name=\"Sequence reconstruction\",\n",
    "            x=labels,\n",
    "            y=df_real_seq_mean['sequence_reconstruction_time'],\n",
    "            text=list(\"<b>{}%</b>\".format(round((1-(df_real_seq[df_real_seq['sequence']==i]['edit_distance']/df_real_seq[df_real_seq['sequence']==i]['target_sequence_length'])).mean()*100,2)) for i in range(30,40)),\n",
    "            textposition='outside',offsetgroup=1,\n",
    "            base=df_real_seq_mean['adjacency_matrix_construction_time'],\n",
    "        )\n",
    "    ],\n",
    "    layout=go.Layout(\n",
    "        title=\"Raphanus sativus with Generated Reads: Suffix Array and Sequitur vs De Bruijn Graph and Euler Path\",\n",
    "        yaxis_title=\"time (s)\"\n",
    "    )\n",
    ")\n",
    "fig"
   ]
  },
  {
   "cell_type": "code",
   "execution_count": 336,
   "metadata": {},
   "outputs": [
    {
     "ename": "ValueError",
     "evalue": "Mime type rendering requires nbformat>=4.2.0 but it is not installed",
     "output_type": "error",
     "traceback": [
      "\u001b[1;31m---------------------------------------------------------------------------\u001b[0m",
      "\u001b[1;31mValueError\u001b[0m                                Traceback (most recent call last)",
      "File \u001b[1;32mc:\\Users\\A0068449\\Documents\\GitHub\\Sequitur\\.venv\\Lib\\site-packages\\IPython\\core\\formatters.py:922\u001b[0m, in \u001b[0;36mIPythonDisplayFormatter.__call__\u001b[1;34m(self, obj)\u001b[0m\n\u001b[0;32m    920\u001b[0m method \u001b[38;5;241m=\u001b[39m get_real_method(obj, \u001b[38;5;28mself\u001b[39m\u001b[38;5;241m.\u001b[39mprint_method)\n\u001b[0;32m    921\u001b[0m \u001b[38;5;28;01mif\u001b[39;00m method \u001b[38;5;129;01mis\u001b[39;00m \u001b[38;5;129;01mnot\u001b[39;00m \u001b[38;5;28;01mNone\u001b[39;00m:\n\u001b[1;32m--> 922\u001b[0m     \u001b[43mmethod\u001b[49m\u001b[43m(\u001b[49m\u001b[43m)\u001b[49m\n\u001b[0;32m    923\u001b[0m     \u001b[38;5;28;01mreturn\u001b[39;00m \u001b[38;5;28;01mTrue\u001b[39;00m\n",
      "File \u001b[1;32mc:\\Users\\A0068449\\Documents\\GitHub\\Sequitur\\.venv\\Lib\\site-packages\\plotly\\basedatatypes.py:832\u001b[0m, in \u001b[0;36mBaseFigure._ipython_display_\u001b[1;34m(self)\u001b[0m\n\u001b[0;32m    829\u001b[0m \u001b[38;5;28;01mimport\u001b[39;00m \u001b[38;5;21;01mplotly\u001b[39;00m\u001b[38;5;21;01m.\u001b[39;00m\u001b[38;5;21;01mio\u001b[39;00m \u001b[38;5;28;01mas\u001b[39;00m \u001b[38;5;21;01mpio\u001b[39;00m\n\u001b[0;32m    831\u001b[0m \u001b[38;5;28;01mif\u001b[39;00m pio\u001b[38;5;241m.\u001b[39mrenderers\u001b[38;5;241m.\u001b[39mrender_on_display \u001b[38;5;129;01mand\u001b[39;00m pio\u001b[38;5;241m.\u001b[39mrenderers\u001b[38;5;241m.\u001b[39mdefault:\n\u001b[1;32m--> 832\u001b[0m     \u001b[43mpio\u001b[49m\u001b[38;5;241;43m.\u001b[39;49m\u001b[43mshow\u001b[49m\u001b[43m(\u001b[49m\u001b[38;5;28;43mself\u001b[39;49m\u001b[43m)\u001b[49m\n\u001b[0;32m    833\u001b[0m \u001b[38;5;28;01melse\u001b[39;00m:\n\u001b[0;32m    834\u001b[0m     \u001b[38;5;28mprint\u001b[39m(\u001b[38;5;28mrepr\u001b[39m(\u001b[38;5;28mself\u001b[39m))\n",
      "File \u001b[1;32mc:\\Users\\A0068449\\Documents\\GitHub\\Sequitur\\.venv\\Lib\\site-packages\\plotly\\io\\_renderers.py:394\u001b[0m, in \u001b[0;36mshow\u001b[1;34m(fig, renderer, validate, **kwargs)\u001b[0m\n\u001b[0;32m    389\u001b[0m         \u001b[38;5;28;01mraise\u001b[39;00m \u001b[38;5;167;01mValueError\u001b[39;00m(\n\u001b[0;32m    390\u001b[0m             \u001b[38;5;124m\"\u001b[39m\u001b[38;5;124mMime type rendering requires ipython but it is not installed\u001b[39m\u001b[38;5;124m\"\u001b[39m\n\u001b[0;32m    391\u001b[0m         )\n\u001b[0;32m    393\u001b[0m     \u001b[38;5;28;01mif\u001b[39;00m \u001b[38;5;129;01mnot\u001b[39;00m nbformat \u001b[38;5;129;01mor\u001b[39;00m Version(nbformat\u001b[38;5;241m.\u001b[39m__version__) \u001b[38;5;241m<\u001b[39m Version(\u001b[38;5;124m\"\u001b[39m\u001b[38;5;124m4.2.0\u001b[39m\u001b[38;5;124m\"\u001b[39m):\n\u001b[1;32m--> 394\u001b[0m         \u001b[38;5;28;01mraise\u001b[39;00m \u001b[38;5;167;01mValueError\u001b[39;00m(\n\u001b[0;32m    395\u001b[0m             \u001b[38;5;124m\"\u001b[39m\u001b[38;5;124mMime type rendering requires nbformat>=4.2.0 but it is not installed\u001b[39m\u001b[38;5;124m\"\u001b[39m\n\u001b[0;32m    396\u001b[0m         )\n\u001b[0;32m    398\u001b[0m     ipython_display\u001b[38;5;241m.\u001b[39mdisplay(bundle, raw\u001b[38;5;241m=\u001b[39m\u001b[38;5;28;01mTrue\u001b[39;00m)\n\u001b[0;32m    400\u001b[0m \u001b[38;5;66;03m# external renderers\u001b[39;00m\n",
      "\u001b[1;31mValueError\u001b[0m: Mime type rendering requires nbformat>=4.2.0 but it is not installed"
     ]
    },
    {
     "data": {
      "application/vnd.plotly.v1+json": {
       "config": {
        "plotlyServerURL": "https://plot.ly"
       },
       "data": [
        {
         "name": "De Bruijn Graph construction",
         "offsetgroup": "0",
         "type": "bar",
         "x": [
          "40",
          "41",
          "42",
          "43",
          "44",
          "45",
          "46",
          "47",
          "48",
          "49"
         ],
         "y": [
          2.612266627172144,
          2.6584061766833806,
          2.6490940644101397,
          2.6619585080263093,
          2.661279437716414,
          2.642544750585789,
          2.8838163468895877,
          2.8002959540995147,
          2.8022940791525497,
          2.801001541556381,
          2.8309360114539532,
          2.5820985240471077,
          2.819779725307369,
          2.8248886794578754,
          2.8224314623344227,
          2.8505188818675715,
          2.864189952175793,
          2.606517351545939,
          2.5280085295002634,
          2.5156057964883214,
          2.5065460338825134,
          2.5089567933431485,
          2.584602706606795,
          2.6906795895971904,
          2.683774306832291,
          2.6658470378270978,
          2.6956998469189886,
          2.672193654339487,
          2.8027362055894818,
          2.791659319575239,
          2.794393312640309,
          2.816716819391015,
          2.8300403129763727,
          2.593480826238305,
          2.676897176882113,
          2.566621647462612,
          2.5807165993713737,
          2.579501156923248,
          2.5600598400395085,
          2.6535695863351583,
          2.6290821335955377,
          2.6434815780127927,
          2.63444807366627,
          2.6469615832770748,
          2.5835999878441416,
          2.773982578719534,
          2.7424081432528604,
          2.739894899275245,
          2.752853965410371,
          2.7674044024072044
         ]
        },
        {
         "base": [
          2.612266627172144,
          2.6584061766833806,
          2.6490940644101397,
          2.6619585080263093,
          2.661279437716414,
          2.642544750585789,
          2.8838163468895877,
          2.8002959540995147,
          2.8022940791525497,
          2.801001541556381,
          2.8309360114539532,
          2.5820985240471077,
          2.819779725307369,
          2.8248886794578754,
          2.8224314623344227,
          2.8505188818675715,
          2.864189952175793,
          2.606517351545939,
          2.5280085295002634,
          2.5156057964883214,
          2.5065460338825134,
          2.5089567933431485,
          2.584602706606795,
          2.6906795895971904,
          2.683774306832291,
          2.6658470378270978,
          2.6956998469189886,
          2.672193654339487,
          2.8027362055894818,
          2.791659319575239,
          2.794393312640309,
          2.816716819391015,
          2.8300403129763727,
          2.593480826238305,
          2.676897176882113,
          2.566621647462612,
          2.5807165993713737,
          2.579501156923248,
          2.5600598400395085,
          2.6535695863351583,
          2.6290821335955377,
          2.6434815780127927,
          2.63444807366627,
          2.6469615832770748,
          2.5835999878441416,
          2.773982578719534,
          2.7424081432528604,
          2.739894899275245,
          2.752853965410371,
          2.7674044024072044
         ],
         "name": "Euler Path reconstruction",
         "offsetgroup": "0",
         "text": [
          "<b>0.01%</b>",
          "<b>0.01%</b>",
          "<b>0.01%</b>",
          "<b>0.01%</b>",
          "<b>0.01%</b>",
          "<b>0.01%</b>",
          "<b>0.01%</b>",
          "<b>0.01%</b>",
          "<b>0.01%</b>",
          "<b>0.01%</b>"
         ],
         "textposition": "outside",
         "type": "bar",
         "x": [
          "40",
          "41",
          "42",
          "43",
          "44",
          "45",
          "46",
          "47",
          "48",
          "49"
         ],
         "y": [
          0.335405974620726,
          0.34210571196021106,
          0.3466567526794063,
          0.34410124139087966,
          0.3425742041192403,
          0.3442743798000061,
          0.36595150331171555,
          0.371067086778036,
          0.37663323565227225,
          0.36814225755086777,
          0.37942313822304313,
          0.32982219835607024,
          0.37585395999071064,
          0.368015292330486,
          0.36722489066240277,
          0.3706923803469031,
          0.37152794151771384,
          0.33340525545725025,
          0.3302565431594848,
          0.3335456241049419,
          0.32878563031917646,
          0.323847402712194,
          0.3368932073872264,
          0.34256817526933625,
          0.3424421593038048,
          0.336547283079566,
          0.3349887314075379,
          0.345191485591051,
          0.3660396931811078,
          0.36786688583653154,
          0.37413694067699144,
          0.3697172802250559,
          0.36875086609910174,
          0.3346248362704024,
          0.3427207411789314,
          0.3342559159674296,
          0.3312571025476222,
          0.3327545720774952,
          0.33786522853665224,
          0.34749029113025215,
          0.34455425681137464,
          0.3454203006697863,
          0.3438598052466788,
          0.34140396315877014,
          0.3366048965221498,
          0.35094518835951655,
          0.34747327525441224,
          0.3500436368802697,
          0.3459420540274643,
          0.34255813540481955
         ]
        },
        {
         "name": "Suffix Array construction",
         "offsetgroup": "1",
         "type": "bar",
         "x": [
          "40",
          "41",
          "42",
          "43",
          "44",
          "45",
          "46",
          "47",
          "48",
          "49"
         ],
         "y": [
          13.663219738006593,
          13.538903903961181,
          13.70011110305786,
          13.720218658447266,
          13.617471504211426,
          13.908124852180482,
          13.92692186832428,
          13.748035788536072,
          13.730437922477723,
          13.864291000366212,
          14.228859496116637,
          13.845230412483215,
          13.296442103385925,
          13.643372297286987,
          14.016278386116028,
          14.070302248001099,
          13.78345229625702,
          13.577315711975098,
          14.051397800445557,
          13.754148030281067,
          14.072115850448608,
          13.497524666786195,
          14.103162264823913,
          13.79975893497467,
          13.970998930931092,
          14.327715468406677,
          14.224557542800904,
          13.861295151710511,
          13.483842754364014,
          13.69554262161255,
          13.698824596405029,
          14.14829616546631,
          14.276137113571167,
          13.922017312049865,
          13.621377968788147,
          13.947717595100404,
          14.132982063293458,
          13.992869758605957,
          14.16330897808075,
          13.451741886138915,
          13.767930006980896,
          14.270190548896789,
          14.145833730697632,
          13.91710684299469,
          13.788760900497437,
          13.538946151733398,
          13.849047827720643,
          14.102005577087402,
          14.248242402076722,
          14.041401720046997
         ]
        },
        {
         "base": [
          13.663219738006593,
          13.538903903961181,
          13.70011110305786,
          13.720218658447266,
          13.617471504211426,
          13.908124852180482,
          13.92692186832428,
          13.748035788536072,
          13.730437922477723,
          13.864291000366212,
          14.228859496116637,
          13.845230412483215,
          13.296442103385925,
          13.643372297286987,
          14.016278386116028,
          14.070302248001099,
          13.78345229625702,
          13.577315711975098,
          14.051397800445557,
          13.754148030281067,
          14.072115850448608,
          13.497524666786195,
          14.103162264823913,
          13.79975893497467,
          13.970998930931092,
          14.327715468406677,
          14.224557542800904,
          13.861295151710511,
          13.483842754364014,
          13.69554262161255,
          13.698824596405029,
          14.14829616546631,
          14.276137113571167,
          13.922017312049865,
          13.621377968788147,
          13.947717595100404,
          14.132982063293458,
          13.992869758605957,
          14.16330897808075,
          13.451741886138915,
          13.767930006980896,
          14.270190548896789,
          14.145833730697632,
          13.91710684299469,
          13.788760900497437,
          13.538946151733398,
          13.849047827720643,
          14.102005577087402,
          14.248242402076722,
          14.041401720046997
         ],
         "name": "Adjacency Matrix construction",
         "offsetgroup": "1",
         "type": "bar",
         "x": [
          "40",
          "41",
          "42",
          "43",
          "44",
          "45",
          "46",
          "47",
          "48",
          "49"
         ],
         "y": [
          1062.369104385376,
          1073.0000865221023,
          1066.0100021600724,
          1058.0872583150863,
          1048.3308802843094,
          1078.4911577224732,
          1080.3412817716599,
          1049.9394376039504,
          1045.6897354841233,
          1042.4404428482055,
          1074.7627636909485,
          1088.6140061378478,
          1037.3516236066819,
          1052.4797366142272,
          1058.1545270204545,
          1079.725005841255,
          1049.3913203001023,
          1069.7785495758058,
          1071.893361234665,
          1041.8492573022843,
          1067.2858700513839,
          1033.917875480652,
          1075.5084909915925,
          1075.9199424505234,
          1081.1119964361192,
          1082.3035836696624,
          1072.764274930954,
          1051.5814207315445,
          1042.0089975595474,
          1039.4353214740754,
          1041.9925720453261,
          1075.976454782486,
          1104.205859375,
          1056.5653158664704,
          1054.478480052948,
          1054.3128525972365,
          1071.031885457039,
          1063.278342938423,
          1077.229965686798,
          1035.3256218910217,
          1038.8339392662049,
          1090.226400256157,
          1069.8231082677842,
          1057.842178106308,
          1052.8990099430084,
          1047.0279408931733,
          1045.915050983429,
          1066.205805850029,
          1064.8776514053345,
          1072.2994989395143
         ]
        },
        {
         "base": [
          1062.369104385376,
          1073.0000865221023,
          1066.0100021600724,
          1058.0872583150863,
          1048.3308802843094,
          1078.4911577224732,
          1080.3412817716599,
          1049.9394376039504,
          1045.6897354841233,
          1042.4404428482055,
          1074.7627636909485,
          1088.6140061378478,
          1037.3516236066819,
          1052.4797366142272,
          1058.1545270204545,
          1079.725005841255,
          1049.3913203001023,
          1069.7785495758058,
          1071.893361234665,
          1041.8492573022843,
          1067.2858700513839,
          1033.917875480652,
          1075.5084909915925,
          1075.9199424505234,
          1081.1119964361192,
          1082.3035836696624,
          1072.764274930954,
          1051.5814207315445,
          1042.0089975595474,
          1039.4353214740754,
          1041.9925720453261,
          1075.976454782486,
          1104.205859375,
          1056.5653158664704,
          1054.478480052948,
          1054.3128525972365,
          1071.031885457039,
          1063.278342938423,
          1077.229965686798,
          1035.3256218910217,
          1038.8339392662049,
          1090.226400256157,
          1069.8231082677842,
          1057.842178106308,
          1052.8990099430084,
          1047.0279408931733,
          1045.915050983429,
          1066.205805850029,
          1064.8776514053345,
          1072.2994989395143
         ],
         "name": "Sequence reconstruction",
         "offsetgroup": "1",
         "text": [
          "<b>100.0%</b>",
          "<b>100.0%</b>",
          "<b>100.0%</b>",
          "<b>100.0%</b>",
          "<b>100.0%</b>",
          "<b>100.0%</b>",
          "<b>100.0%</b>",
          "<b>100.0%</b>",
          "<b>100.0%</b>",
          "<b>100.0%</b>"
         ],
         "textposition": "outside",
         "type": "bar",
         "x": [
          "40",
          "41",
          "42",
          "43",
          "44",
          "45",
          "46",
          "47",
          "48",
          "49"
         ],
         "y": [
          216.386448097229,
          216.9845267534256,
          217.27791390419006,
          218.07359192371368,
          217.90404272079468,
          217.5473834514618,
          216.67316029071807,
          217.0102926492691,
          217.19118490219117,
          217.20463840961457,
          216.96033883094788,
          216.69639983177186,
          217.05136914253234,
          217.74861745834352,
          218.33838448524475,
          219.42977499961853,
          217.3924864053726,
          216.65924108028412,
          216.87155821323395,
          217.22439908981323,
          217.49836478233337,
          217.27060515880584,
          217.4408841609955,
          217.34135527610778,
          217.56292042732238,
          218.3206748008728,
          217.99333052635194,
          218.43719379901887,
          216.03604860305785,
          216.47547659873962,
          216.59112956523896,
          216.6998613357544,
          216.55755286216737,
          217.74387543201448,
          217.25529971122742,
          217.971755361557,
          217.78825726509095,
          217.81876180171966,
          217.50416882038115,
          216.85270490646363,
          217.1746285676956,
          217.61494646072387,
          217.4327974319458,
          217.4391048192978,
          217.22246479988098,
          214.90762996673584,
          215.33690936565398,
          215.54646003246307,
          216.03888969421388,
          215.70594799518585
         ]
        }
       ],
       "layout": {
        "template": {
         "data": {
          "bar": [
           {
            "error_x": {
             "color": "#2a3f5f"
            },
            "error_y": {
             "color": "#2a3f5f"
            },
            "marker": {
             "line": {
              "color": "#E5ECF6",
              "width": 0.5
             },
             "pattern": {
              "fillmode": "overlay",
              "size": 10,
              "solidity": 0.2
             }
            },
            "type": "bar"
           }
          ],
          "barpolar": [
           {
            "marker": {
             "line": {
              "color": "#E5ECF6",
              "width": 0.5
             },
             "pattern": {
              "fillmode": "overlay",
              "size": 10,
              "solidity": 0.2
             }
            },
            "type": "barpolar"
           }
          ],
          "carpet": [
           {
            "aaxis": {
             "endlinecolor": "#2a3f5f",
             "gridcolor": "white",
             "linecolor": "white",
             "minorgridcolor": "white",
             "startlinecolor": "#2a3f5f"
            },
            "baxis": {
             "endlinecolor": "#2a3f5f",
             "gridcolor": "white",
             "linecolor": "white",
             "minorgridcolor": "white",
             "startlinecolor": "#2a3f5f"
            },
            "type": "carpet"
           }
          ],
          "choropleth": [
           {
            "colorbar": {
             "outlinewidth": 0,
             "ticks": ""
            },
            "type": "choropleth"
           }
          ],
          "contour": [
           {
            "colorbar": {
             "outlinewidth": 0,
             "ticks": ""
            },
            "colorscale": [
             [
              0,
              "#0d0887"
             ],
             [
              0.1111111111111111,
              "#46039f"
             ],
             [
              0.2222222222222222,
              "#7201a8"
             ],
             [
              0.3333333333333333,
              "#9c179e"
             ],
             [
              0.4444444444444444,
              "#bd3786"
             ],
             [
              0.5555555555555556,
              "#d8576b"
             ],
             [
              0.6666666666666666,
              "#ed7953"
             ],
             [
              0.7777777777777778,
              "#fb9f3a"
             ],
             [
              0.8888888888888888,
              "#fdca26"
             ],
             [
              1,
              "#f0f921"
             ]
            ],
            "type": "contour"
           }
          ],
          "contourcarpet": [
           {
            "colorbar": {
             "outlinewidth": 0,
             "ticks": ""
            },
            "type": "contourcarpet"
           }
          ],
          "heatmap": [
           {
            "colorbar": {
             "outlinewidth": 0,
             "ticks": ""
            },
            "colorscale": [
             [
              0,
              "#0d0887"
             ],
             [
              0.1111111111111111,
              "#46039f"
             ],
             [
              0.2222222222222222,
              "#7201a8"
             ],
             [
              0.3333333333333333,
              "#9c179e"
             ],
             [
              0.4444444444444444,
              "#bd3786"
             ],
             [
              0.5555555555555556,
              "#d8576b"
             ],
             [
              0.6666666666666666,
              "#ed7953"
             ],
             [
              0.7777777777777778,
              "#fb9f3a"
             ],
             [
              0.8888888888888888,
              "#fdca26"
             ],
             [
              1,
              "#f0f921"
             ]
            ],
            "type": "heatmap"
           }
          ],
          "heatmapgl": [
           {
            "colorbar": {
             "outlinewidth": 0,
             "ticks": ""
            },
            "colorscale": [
             [
              0,
              "#0d0887"
             ],
             [
              0.1111111111111111,
              "#46039f"
             ],
             [
              0.2222222222222222,
              "#7201a8"
             ],
             [
              0.3333333333333333,
              "#9c179e"
             ],
             [
              0.4444444444444444,
              "#bd3786"
             ],
             [
              0.5555555555555556,
              "#d8576b"
             ],
             [
              0.6666666666666666,
              "#ed7953"
             ],
             [
              0.7777777777777778,
              "#fb9f3a"
             ],
             [
              0.8888888888888888,
              "#fdca26"
             ],
             [
              1,
              "#f0f921"
             ]
            ],
            "type": "heatmapgl"
           }
          ],
          "histogram": [
           {
            "marker": {
             "pattern": {
              "fillmode": "overlay",
              "size": 10,
              "solidity": 0.2
             }
            },
            "type": "histogram"
           }
          ],
          "histogram2d": [
           {
            "colorbar": {
             "outlinewidth": 0,
             "ticks": ""
            },
            "colorscale": [
             [
              0,
              "#0d0887"
             ],
             [
              0.1111111111111111,
              "#46039f"
             ],
             [
              0.2222222222222222,
              "#7201a8"
             ],
             [
              0.3333333333333333,
              "#9c179e"
             ],
             [
              0.4444444444444444,
              "#bd3786"
             ],
             [
              0.5555555555555556,
              "#d8576b"
             ],
             [
              0.6666666666666666,
              "#ed7953"
             ],
             [
              0.7777777777777778,
              "#fb9f3a"
             ],
             [
              0.8888888888888888,
              "#fdca26"
             ],
             [
              1,
              "#f0f921"
             ]
            ],
            "type": "histogram2d"
           }
          ],
          "histogram2dcontour": [
           {
            "colorbar": {
             "outlinewidth": 0,
             "ticks": ""
            },
            "colorscale": [
             [
              0,
              "#0d0887"
             ],
             [
              0.1111111111111111,
              "#46039f"
             ],
             [
              0.2222222222222222,
              "#7201a8"
             ],
             [
              0.3333333333333333,
              "#9c179e"
             ],
             [
              0.4444444444444444,
              "#bd3786"
             ],
             [
              0.5555555555555556,
              "#d8576b"
             ],
             [
              0.6666666666666666,
              "#ed7953"
             ],
             [
              0.7777777777777778,
              "#fb9f3a"
             ],
             [
              0.8888888888888888,
              "#fdca26"
             ],
             [
              1,
              "#f0f921"
             ]
            ],
            "type": "histogram2dcontour"
           }
          ],
          "mesh3d": [
           {
            "colorbar": {
             "outlinewidth": 0,
             "ticks": ""
            },
            "type": "mesh3d"
           }
          ],
          "parcoords": [
           {
            "line": {
             "colorbar": {
              "outlinewidth": 0,
              "ticks": ""
             }
            },
            "type": "parcoords"
           }
          ],
          "pie": [
           {
            "automargin": true,
            "type": "pie"
           }
          ],
          "scatter": [
           {
            "fillpattern": {
             "fillmode": "overlay",
             "size": 10,
             "solidity": 0.2
            },
            "type": "scatter"
           }
          ],
          "scatter3d": [
           {
            "line": {
             "colorbar": {
              "outlinewidth": 0,
              "ticks": ""
             }
            },
            "marker": {
             "colorbar": {
              "outlinewidth": 0,
              "ticks": ""
             }
            },
            "type": "scatter3d"
           }
          ],
          "scattercarpet": [
           {
            "marker": {
             "colorbar": {
              "outlinewidth": 0,
              "ticks": ""
             }
            },
            "type": "scattercarpet"
           }
          ],
          "scattergeo": [
           {
            "marker": {
             "colorbar": {
              "outlinewidth": 0,
              "ticks": ""
             }
            },
            "type": "scattergeo"
           }
          ],
          "scattergl": [
           {
            "marker": {
             "colorbar": {
              "outlinewidth": 0,
              "ticks": ""
             }
            },
            "type": "scattergl"
           }
          ],
          "scattermapbox": [
           {
            "marker": {
             "colorbar": {
              "outlinewidth": 0,
              "ticks": ""
             }
            },
            "type": "scattermapbox"
           }
          ],
          "scatterpolar": [
           {
            "marker": {
             "colorbar": {
              "outlinewidth": 0,
              "ticks": ""
             }
            },
            "type": "scatterpolar"
           }
          ],
          "scatterpolargl": [
           {
            "marker": {
             "colorbar": {
              "outlinewidth": 0,
              "ticks": ""
             }
            },
            "type": "scatterpolargl"
           }
          ],
          "scatterternary": [
           {
            "marker": {
             "colorbar": {
              "outlinewidth": 0,
              "ticks": ""
             }
            },
            "type": "scatterternary"
           }
          ],
          "surface": [
           {
            "colorbar": {
             "outlinewidth": 0,
             "ticks": ""
            },
            "colorscale": [
             [
              0,
              "#0d0887"
             ],
             [
              0.1111111111111111,
              "#46039f"
             ],
             [
              0.2222222222222222,
              "#7201a8"
             ],
             [
              0.3333333333333333,
              "#9c179e"
             ],
             [
              0.4444444444444444,
              "#bd3786"
             ],
             [
              0.5555555555555556,
              "#d8576b"
             ],
             [
              0.6666666666666666,
              "#ed7953"
             ],
             [
              0.7777777777777778,
              "#fb9f3a"
             ],
             [
              0.8888888888888888,
              "#fdca26"
             ],
             [
              1,
              "#f0f921"
             ]
            ],
            "type": "surface"
           }
          ],
          "table": [
           {
            "cells": {
             "fill": {
              "color": "#EBF0F8"
             },
             "line": {
              "color": "white"
             }
            },
            "header": {
             "fill": {
              "color": "#C8D4E3"
             },
             "line": {
              "color": "white"
             }
            },
            "type": "table"
           }
          ]
         },
         "layout": {
          "annotationdefaults": {
           "arrowcolor": "#2a3f5f",
           "arrowhead": 0,
           "arrowwidth": 1
          },
          "autotypenumbers": "strict",
          "coloraxis": {
           "colorbar": {
            "outlinewidth": 0,
            "ticks": ""
           }
          },
          "colorscale": {
           "diverging": [
            [
             0,
             "#8e0152"
            ],
            [
             0.1,
             "#c51b7d"
            ],
            [
             0.2,
             "#de77ae"
            ],
            [
             0.3,
             "#f1b6da"
            ],
            [
             0.4,
             "#fde0ef"
            ],
            [
             0.5,
             "#f7f7f7"
            ],
            [
             0.6,
             "#e6f5d0"
            ],
            [
             0.7,
             "#b8e186"
            ],
            [
             0.8,
             "#7fbc41"
            ],
            [
             0.9,
             "#4d9221"
            ],
            [
             1,
             "#276419"
            ]
           ],
           "sequential": [
            [
             0,
             "#0d0887"
            ],
            [
             0.1111111111111111,
             "#46039f"
            ],
            [
             0.2222222222222222,
             "#7201a8"
            ],
            [
             0.3333333333333333,
             "#9c179e"
            ],
            [
             0.4444444444444444,
             "#bd3786"
            ],
            [
             0.5555555555555556,
             "#d8576b"
            ],
            [
             0.6666666666666666,
             "#ed7953"
            ],
            [
             0.7777777777777778,
             "#fb9f3a"
            ],
            [
             0.8888888888888888,
             "#fdca26"
            ],
            [
             1,
             "#f0f921"
            ]
           ],
           "sequentialminus": [
            [
             0,
             "#0d0887"
            ],
            [
             0.1111111111111111,
             "#46039f"
            ],
            [
             0.2222222222222222,
             "#7201a8"
            ],
            [
             0.3333333333333333,
             "#9c179e"
            ],
            [
             0.4444444444444444,
             "#bd3786"
            ],
            [
             0.5555555555555556,
             "#d8576b"
            ],
            [
             0.6666666666666666,
             "#ed7953"
            ],
            [
             0.7777777777777778,
             "#fb9f3a"
            ],
            [
             0.8888888888888888,
             "#fdca26"
            ],
            [
             1,
             "#f0f921"
            ]
           ]
          },
          "colorway": [
           "#636efa",
           "#EF553B",
           "#00cc96",
           "#ab63fa",
           "#FFA15A",
           "#19d3f3",
           "#FF6692",
           "#B6E880",
           "#FF97FF",
           "#FECB52"
          ],
          "font": {
           "color": "#2a3f5f"
          },
          "geo": {
           "bgcolor": "white",
           "lakecolor": "white",
           "landcolor": "#E5ECF6",
           "showlakes": true,
           "showland": true,
           "subunitcolor": "white"
          },
          "hoverlabel": {
           "align": "left"
          },
          "hovermode": "closest",
          "mapbox": {
           "style": "light"
          },
          "paper_bgcolor": "white",
          "plot_bgcolor": "#E5ECF6",
          "polar": {
           "angularaxis": {
            "gridcolor": "white",
            "linecolor": "white",
            "ticks": ""
           },
           "bgcolor": "#E5ECF6",
           "radialaxis": {
            "gridcolor": "white",
            "linecolor": "white",
            "ticks": ""
           }
          },
          "scene": {
           "xaxis": {
            "backgroundcolor": "#E5ECF6",
            "gridcolor": "white",
            "gridwidth": 2,
            "linecolor": "white",
            "showbackground": true,
            "ticks": "",
            "zerolinecolor": "white"
           },
           "yaxis": {
            "backgroundcolor": "#E5ECF6",
            "gridcolor": "white",
            "gridwidth": 2,
            "linecolor": "white",
            "showbackground": true,
            "ticks": "",
            "zerolinecolor": "white"
           },
           "zaxis": {
            "backgroundcolor": "#E5ECF6",
            "gridcolor": "white",
            "gridwidth": 2,
            "linecolor": "white",
            "showbackground": true,
            "ticks": "",
            "zerolinecolor": "white"
           }
          },
          "shapedefaults": {
           "line": {
            "color": "#2a3f5f"
           }
          },
          "ternary": {
           "aaxis": {
            "gridcolor": "white",
            "linecolor": "white",
            "ticks": ""
           },
           "baxis": {
            "gridcolor": "white",
            "linecolor": "white",
            "ticks": ""
           },
           "bgcolor": "#E5ECF6",
           "caxis": {
            "gridcolor": "white",
            "linecolor": "white",
            "ticks": ""
           }
          },
          "title": {
           "x": 0.05
          },
          "xaxis": {
           "automargin": true,
           "gridcolor": "white",
           "linecolor": "white",
           "ticks": "",
           "title": {
            "standoff": 15
           },
           "zerolinecolor": "white",
           "zerolinewidth": 2
          },
          "yaxis": {
           "automargin": true,
           "gridcolor": "white",
           "linecolor": "white",
           "ticks": "",
           "title": {
            "standoff": 15
           },
           "zerolinecolor": "white",
           "zerolinewidth": 2
          }
         }
        },
        "title": {
         "text": "Raphanus sativus with Generated Reads: Suffix Array and Sequitur vs De Bruijn Graph and Euler Path"
        },
        "yaxis": {
         "title": {
          "text": "time (s)"
         }
        }
       }
      },
      "text/html": [
       "<div>                        <script type=\"text/javascript\">window.PlotlyConfig = {MathJaxConfig: 'local'};</script>\n",
       "        <script charset=\"utf-8\" src=\"https://cdn.plot.ly/plotly-2.30.0.min.js\"></script>                <div id=\"da21e97e-11a2-45dd-bbfc-8bb077bec594\" class=\"plotly-graph-div\" style=\"height:100%; width:100%;\"></div>            <script type=\"text/javascript\">                                    window.PLOTLYENV=window.PLOTLYENV || {};                                    if (document.getElementById(\"da21e97e-11a2-45dd-bbfc-8bb077bec594\")) {                    Plotly.newPlot(                        \"da21e97e-11a2-45dd-bbfc-8bb077bec594\",                        [{\"name\":\"De Bruijn Graph construction\",\"offsetgroup\":\"0\",\"x\":[\"40\",\"41\",\"42\",\"43\",\"44\",\"45\",\"46\",\"47\",\"48\",\"49\"],\"y\":[2.612266627172144,2.6584061766833806,2.6490940644101397,2.6619585080263093,2.661279437716414,2.642544750585789,2.8838163468895877,2.8002959540995147,2.8022940791525497,2.801001541556381,2.8309360114539532,2.5820985240471077,2.819779725307369,2.8248886794578754,2.8224314623344227,2.8505188818675715,2.864189952175793,2.606517351545939,2.5280085295002634,2.5156057964883214,2.5065460338825134,2.5089567933431485,2.584602706606795,2.6906795895971904,2.683774306832291,2.6658470378270978,2.6956998469189886,2.672193654339487,2.8027362055894818,2.791659319575239,2.794393312640309,2.816716819391015,2.8300403129763727,2.593480826238305,2.676897176882113,2.566621647462612,2.5807165993713737,2.579501156923248,2.5600598400395085,2.6535695863351583,2.6290821335955377,2.6434815780127927,2.63444807366627,2.6469615832770748,2.5835999878441416,2.773982578719534,2.7424081432528604,2.739894899275245,2.752853965410371,2.7674044024072044],\"type\":\"bar\"},{\"base\":[2.612266627172144,2.6584061766833806,2.6490940644101397,2.6619585080263093,2.661279437716414,2.642544750585789,2.8838163468895877,2.8002959540995147,2.8022940791525497,2.801001541556381,2.8309360114539532,2.5820985240471077,2.819779725307369,2.8248886794578754,2.8224314623344227,2.8505188818675715,2.864189952175793,2.606517351545939,2.5280085295002634,2.5156057964883214,2.5065460338825134,2.5089567933431485,2.584602706606795,2.6906795895971904,2.683774306832291,2.6658470378270978,2.6956998469189886,2.672193654339487,2.8027362055894818,2.791659319575239,2.794393312640309,2.816716819391015,2.8300403129763727,2.593480826238305,2.676897176882113,2.566621647462612,2.5807165993713737,2.579501156923248,2.5600598400395085,2.6535695863351583,2.6290821335955377,2.6434815780127927,2.63444807366627,2.6469615832770748,2.5835999878441416,2.773982578719534,2.7424081432528604,2.739894899275245,2.752853965410371,2.7674044024072044],\"name\":\"Euler Path reconstruction\",\"offsetgroup\":\"0\",\"text\":[\"\\u003cb\\u003e0.01%\\u003c\\u002fb\\u003e\",\"\\u003cb\\u003e0.01%\\u003c\\u002fb\\u003e\",\"\\u003cb\\u003e0.01%\\u003c\\u002fb\\u003e\",\"\\u003cb\\u003e0.01%\\u003c\\u002fb\\u003e\",\"\\u003cb\\u003e0.01%\\u003c\\u002fb\\u003e\",\"\\u003cb\\u003e0.01%\\u003c\\u002fb\\u003e\",\"\\u003cb\\u003e0.01%\\u003c\\u002fb\\u003e\",\"\\u003cb\\u003e0.01%\\u003c\\u002fb\\u003e\",\"\\u003cb\\u003e0.01%\\u003c\\u002fb\\u003e\",\"\\u003cb\\u003e0.01%\\u003c\\u002fb\\u003e\"],\"textposition\":\"outside\",\"x\":[\"40\",\"41\",\"42\",\"43\",\"44\",\"45\",\"46\",\"47\",\"48\",\"49\"],\"y\":[0.335405974620726,0.34210571196021106,0.3466567526794063,0.34410124139087966,0.3425742041192403,0.3442743798000061,0.36595150331171555,0.371067086778036,0.37663323565227225,0.36814225755086777,0.37942313822304313,0.32982219835607024,0.37585395999071064,0.368015292330486,0.36722489066240277,0.3706923803469031,0.37152794151771384,0.33340525545725025,0.3302565431594848,0.3335456241049419,0.32878563031917646,0.323847402712194,0.3368932073872264,0.34256817526933625,0.3424421593038048,0.336547283079566,0.3349887314075379,0.345191485591051,0.3660396931811078,0.36786688583653154,0.37413694067699144,0.3697172802250559,0.36875086609910174,0.3346248362704024,0.3427207411789314,0.3342559159674296,0.3312571025476222,0.3327545720774952,0.33786522853665224,0.34749029113025215,0.34455425681137464,0.3454203006697863,0.3438598052466788,0.34140396315877014,0.3366048965221498,0.35094518835951655,0.34747327525441224,0.3500436368802697,0.3459420540274643,0.34255813540481955],\"type\":\"bar\"},{\"name\":\"Suffix Array construction\",\"offsetgroup\":\"1\",\"x\":[\"40\",\"41\",\"42\",\"43\",\"44\",\"45\",\"46\",\"47\",\"48\",\"49\"],\"y\":[13.663219738006593,13.538903903961181,13.70011110305786,13.720218658447266,13.617471504211426,13.908124852180482,13.92692186832428,13.748035788536072,13.730437922477723,13.864291000366212,14.228859496116637,13.845230412483215,13.296442103385925,13.643372297286987,14.016278386116028,14.070302248001099,13.78345229625702,13.577315711975098,14.051397800445557,13.754148030281067,14.072115850448608,13.497524666786195,14.103162264823913,13.79975893497467,13.970998930931092,14.327715468406677,14.224557542800904,13.861295151710511,13.483842754364014,13.69554262161255,13.698824596405029,14.14829616546631,14.276137113571167,13.922017312049865,13.621377968788147,13.947717595100404,14.132982063293458,13.992869758605957,14.16330897808075,13.451741886138915,13.767930006980896,14.270190548896789,14.145833730697632,13.91710684299469,13.788760900497437,13.538946151733398,13.849047827720643,14.102005577087402,14.248242402076722,14.041401720046997],\"type\":\"bar\"},{\"base\":[13.663219738006593,13.538903903961181,13.70011110305786,13.720218658447266,13.617471504211426,13.908124852180482,13.92692186832428,13.748035788536072,13.730437922477723,13.864291000366212,14.228859496116637,13.845230412483215,13.296442103385925,13.643372297286987,14.016278386116028,14.070302248001099,13.78345229625702,13.577315711975098,14.051397800445557,13.754148030281067,14.072115850448608,13.497524666786195,14.103162264823913,13.79975893497467,13.970998930931092,14.327715468406677,14.224557542800904,13.861295151710511,13.483842754364014,13.69554262161255,13.698824596405029,14.14829616546631,14.276137113571167,13.922017312049865,13.621377968788147,13.947717595100404,14.132982063293458,13.992869758605957,14.16330897808075,13.451741886138915,13.767930006980896,14.270190548896789,14.145833730697632,13.91710684299469,13.788760900497437,13.538946151733398,13.849047827720643,14.102005577087402,14.248242402076722,14.041401720046997],\"name\":\"Adjacency Matrix construction\",\"offsetgroup\":\"1\",\"x\":[\"40\",\"41\",\"42\",\"43\",\"44\",\"45\",\"46\",\"47\",\"48\",\"49\"],\"y\":[1062.369104385376,1073.0000865221023,1066.0100021600724,1058.0872583150863,1048.3308802843094,1078.4911577224732,1080.3412817716599,1049.9394376039504,1045.6897354841233,1042.4404428482055,1074.7627636909485,1088.6140061378478,1037.3516236066819,1052.4797366142272,1058.1545270204545,1079.725005841255,1049.3913203001023,1069.7785495758058,1071.893361234665,1041.8492573022843,1067.2858700513839,1033.917875480652,1075.5084909915925,1075.9199424505234,1081.1119964361192,1082.3035836696624,1072.764274930954,1051.5814207315445,1042.0089975595474,1039.4353214740754,1041.9925720453261,1075.976454782486,1104.205859375,1056.5653158664704,1054.478480052948,1054.3128525972365,1071.031885457039,1063.278342938423,1077.229965686798,1035.3256218910217,1038.8339392662049,1090.226400256157,1069.8231082677842,1057.842178106308,1052.8990099430084,1047.0279408931733,1045.915050983429,1066.205805850029,1064.8776514053345,1072.2994989395143],\"type\":\"bar\"},{\"base\":[1062.369104385376,1073.0000865221023,1066.0100021600724,1058.0872583150863,1048.3308802843094,1078.4911577224732,1080.3412817716599,1049.9394376039504,1045.6897354841233,1042.4404428482055,1074.7627636909485,1088.6140061378478,1037.3516236066819,1052.4797366142272,1058.1545270204545,1079.725005841255,1049.3913203001023,1069.7785495758058,1071.893361234665,1041.8492573022843,1067.2858700513839,1033.917875480652,1075.5084909915925,1075.9199424505234,1081.1119964361192,1082.3035836696624,1072.764274930954,1051.5814207315445,1042.0089975595474,1039.4353214740754,1041.9925720453261,1075.976454782486,1104.205859375,1056.5653158664704,1054.478480052948,1054.3128525972365,1071.031885457039,1063.278342938423,1077.229965686798,1035.3256218910217,1038.8339392662049,1090.226400256157,1069.8231082677842,1057.842178106308,1052.8990099430084,1047.0279408931733,1045.915050983429,1066.205805850029,1064.8776514053345,1072.2994989395143],\"name\":\"Sequence reconstruction\",\"offsetgroup\":\"1\",\"text\":[\"\\u003cb\\u003e100.0%\\u003c\\u002fb\\u003e\",\"\\u003cb\\u003e100.0%\\u003c\\u002fb\\u003e\",\"\\u003cb\\u003e100.0%\\u003c\\u002fb\\u003e\",\"\\u003cb\\u003e100.0%\\u003c\\u002fb\\u003e\",\"\\u003cb\\u003e100.0%\\u003c\\u002fb\\u003e\",\"\\u003cb\\u003e100.0%\\u003c\\u002fb\\u003e\",\"\\u003cb\\u003e100.0%\\u003c\\u002fb\\u003e\",\"\\u003cb\\u003e100.0%\\u003c\\u002fb\\u003e\",\"\\u003cb\\u003e100.0%\\u003c\\u002fb\\u003e\",\"\\u003cb\\u003e100.0%\\u003c\\u002fb\\u003e\"],\"textposition\":\"outside\",\"x\":[\"40\",\"41\",\"42\",\"43\",\"44\",\"45\",\"46\",\"47\",\"48\",\"49\"],\"y\":[216.386448097229,216.9845267534256,217.27791390419006,218.07359192371368,217.90404272079468,217.5473834514618,216.67316029071807,217.0102926492691,217.19118490219117,217.20463840961457,216.96033883094788,216.69639983177186,217.05136914253234,217.74861745834352,218.33838448524475,219.42977499961853,217.3924864053726,216.65924108028412,216.87155821323395,217.22439908981323,217.49836478233337,217.27060515880584,217.4408841609955,217.34135527610778,217.56292042732238,218.3206748008728,217.99333052635194,218.43719379901887,216.03604860305785,216.47547659873962,216.59112956523896,216.6998613357544,216.55755286216737,217.74387543201448,217.25529971122742,217.971755361557,217.78825726509095,217.81876180171966,217.50416882038115,216.85270490646363,217.1746285676956,217.61494646072387,217.4327974319458,217.4391048192978,217.22246479988098,214.90762996673584,215.33690936565398,215.54646003246307,216.03888969421388,215.70594799518585],\"type\":\"bar\"}],                        {\"title\":{\"text\":\"Raphanus sativus with Generated Reads: Suffix Array and Sequitur vs De Bruijn Graph and Euler Path\"},\"yaxis\":{\"title\":{\"text\":\"time (s)\"}},\"template\":{\"data\":{\"histogram2dcontour\":[{\"type\":\"histogram2dcontour\",\"colorbar\":{\"outlinewidth\":0,\"ticks\":\"\"},\"colorscale\":[[0.0,\"#0d0887\"],[0.1111111111111111,\"#46039f\"],[0.2222222222222222,\"#7201a8\"],[0.3333333333333333,\"#9c179e\"],[0.4444444444444444,\"#bd3786\"],[0.5555555555555556,\"#d8576b\"],[0.6666666666666666,\"#ed7953\"],[0.7777777777777778,\"#fb9f3a\"],[0.8888888888888888,\"#fdca26\"],[1.0,\"#f0f921\"]]}],\"choropleth\":[{\"type\":\"choropleth\",\"colorbar\":{\"outlinewidth\":0,\"ticks\":\"\"}}],\"histogram2d\":[{\"type\":\"histogram2d\",\"colorbar\":{\"outlinewidth\":0,\"ticks\":\"\"},\"colorscale\":[[0.0,\"#0d0887\"],[0.1111111111111111,\"#46039f\"],[0.2222222222222222,\"#7201a8\"],[0.3333333333333333,\"#9c179e\"],[0.4444444444444444,\"#bd3786\"],[0.5555555555555556,\"#d8576b\"],[0.6666666666666666,\"#ed7953\"],[0.7777777777777778,\"#fb9f3a\"],[0.8888888888888888,\"#fdca26\"],[1.0,\"#f0f921\"]]}],\"heatmap\":[{\"type\":\"heatmap\",\"colorbar\":{\"outlinewidth\":0,\"ticks\":\"\"},\"colorscale\":[[0.0,\"#0d0887\"],[0.1111111111111111,\"#46039f\"],[0.2222222222222222,\"#7201a8\"],[0.3333333333333333,\"#9c179e\"],[0.4444444444444444,\"#bd3786\"],[0.5555555555555556,\"#d8576b\"],[0.6666666666666666,\"#ed7953\"],[0.7777777777777778,\"#fb9f3a\"],[0.8888888888888888,\"#fdca26\"],[1.0,\"#f0f921\"]]}],\"heatmapgl\":[{\"type\":\"heatmapgl\",\"colorbar\":{\"outlinewidth\":0,\"ticks\":\"\"},\"colorscale\":[[0.0,\"#0d0887\"],[0.1111111111111111,\"#46039f\"],[0.2222222222222222,\"#7201a8\"],[0.3333333333333333,\"#9c179e\"],[0.4444444444444444,\"#bd3786\"],[0.5555555555555556,\"#d8576b\"],[0.6666666666666666,\"#ed7953\"],[0.7777777777777778,\"#fb9f3a\"],[0.8888888888888888,\"#fdca26\"],[1.0,\"#f0f921\"]]}],\"contourcarpet\":[{\"type\":\"contourcarpet\",\"colorbar\":{\"outlinewidth\":0,\"ticks\":\"\"}}],\"contour\":[{\"type\":\"contour\",\"colorbar\":{\"outlinewidth\":0,\"ticks\":\"\"},\"colorscale\":[[0.0,\"#0d0887\"],[0.1111111111111111,\"#46039f\"],[0.2222222222222222,\"#7201a8\"],[0.3333333333333333,\"#9c179e\"],[0.4444444444444444,\"#bd3786\"],[0.5555555555555556,\"#d8576b\"],[0.6666666666666666,\"#ed7953\"],[0.7777777777777778,\"#fb9f3a\"],[0.8888888888888888,\"#fdca26\"],[1.0,\"#f0f921\"]]}],\"surface\":[{\"type\":\"surface\",\"colorbar\":{\"outlinewidth\":0,\"ticks\":\"\"},\"colorscale\":[[0.0,\"#0d0887\"],[0.1111111111111111,\"#46039f\"],[0.2222222222222222,\"#7201a8\"],[0.3333333333333333,\"#9c179e\"],[0.4444444444444444,\"#bd3786\"],[0.5555555555555556,\"#d8576b\"],[0.6666666666666666,\"#ed7953\"],[0.7777777777777778,\"#fb9f3a\"],[0.8888888888888888,\"#fdca26\"],[1.0,\"#f0f921\"]]}],\"mesh3d\":[{\"type\":\"mesh3d\",\"colorbar\":{\"outlinewidth\":0,\"ticks\":\"\"}}],\"scatter\":[{\"fillpattern\":{\"fillmode\":\"overlay\",\"size\":10,\"solidity\":0.2},\"type\":\"scatter\"}],\"parcoords\":[{\"type\":\"parcoords\",\"line\":{\"colorbar\":{\"outlinewidth\":0,\"ticks\":\"\"}}}],\"scatterpolargl\":[{\"type\":\"scatterpolargl\",\"marker\":{\"colorbar\":{\"outlinewidth\":0,\"ticks\":\"\"}}}],\"bar\":[{\"error_x\":{\"color\":\"#2a3f5f\"},\"error_y\":{\"color\":\"#2a3f5f\"},\"marker\":{\"line\":{\"color\":\"#E5ECF6\",\"width\":0.5},\"pattern\":{\"fillmode\":\"overlay\",\"size\":10,\"solidity\":0.2}},\"type\":\"bar\"}],\"scattergeo\":[{\"type\":\"scattergeo\",\"marker\":{\"colorbar\":{\"outlinewidth\":0,\"ticks\":\"\"}}}],\"scatterpolar\":[{\"type\":\"scatterpolar\",\"marker\":{\"colorbar\":{\"outlinewidth\":0,\"ticks\":\"\"}}}],\"histogram\":[{\"marker\":{\"pattern\":{\"fillmode\":\"overlay\",\"size\":10,\"solidity\":0.2}},\"type\":\"histogram\"}],\"scattergl\":[{\"type\":\"scattergl\",\"marker\":{\"colorbar\":{\"outlinewidth\":0,\"ticks\":\"\"}}}],\"scatter3d\":[{\"type\":\"scatter3d\",\"line\":{\"colorbar\":{\"outlinewidth\":0,\"ticks\":\"\"}},\"marker\":{\"colorbar\":{\"outlinewidth\":0,\"ticks\":\"\"}}}],\"scattermapbox\":[{\"type\":\"scattermapbox\",\"marker\":{\"colorbar\":{\"outlinewidth\":0,\"ticks\":\"\"}}}],\"scatterternary\":[{\"type\":\"scatterternary\",\"marker\":{\"colorbar\":{\"outlinewidth\":0,\"ticks\":\"\"}}}],\"scattercarpet\":[{\"type\":\"scattercarpet\",\"marker\":{\"colorbar\":{\"outlinewidth\":0,\"ticks\":\"\"}}}],\"carpet\":[{\"aaxis\":{\"endlinecolor\":\"#2a3f5f\",\"gridcolor\":\"white\",\"linecolor\":\"white\",\"minorgridcolor\":\"white\",\"startlinecolor\":\"#2a3f5f\"},\"baxis\":{\"endlinecolor\":\"#2a3f5f\",\"gridcolor\":\"white\",\"linecolor\":\"white\",\"minorgridcolor\":\"white\",\"startlinecolor\":\"#2a3f5f\"},\"type\":\"carpet\"}],\"table\":[{\"cells\":{\"fill\":{\"color\":\"#EBF0F8\"},\"line\":{\"color\":\"white\"}},\"header\":{\"fill\":{\"color\":\"#C8D4E3\"},\"line\":{\"color\":\"white\"}},\"type\":\"table\"}],\"barpolar\":[{\"marker\":{\"line\":{\"color\":\"#E5ECF6\",\"width\":0.5},\"pattern\":{\"fillmode\":\"overlay\",\"size\":10,\"solidity\":0.2}},\"type\":\"barpolar\"}],\"pie\":[{\"automargin\":true,\"type\":\"pie\"}]},\"layout\":{\"autotypenumbers\":\"strict\",\"colorway\":[\"#636efa\",\"#EF553B\",\"#00cc96\",\"#ab63fa\",\"#FFA15A\",\"#19d3f3\",\"#FF6692\",\"#B6E880\",\"#FF97FF\",\"#FECB52\"],\"font\":{\"color\":\"#2a3f5f\"},\"hovermode\":\"closest\",\"hoverlabel\":{\"align\":\"left\"},\"paper_bgcolor\":\"white\",\"plot_bgcolor\":\"#E5ECF6\",\"polar\":{\"bgcolor\":\"#E5ECF6\",\"angularaxis\":{\"gridcolor\":\"white\",\"linecolor\":\"white\",\"ticks\":\"\"},\"radialaxis\":{\"gridcolor\":\"white\",\"linecolor\":\"white\",\"ticks\":\"\"}},\"ternary\":{\"bgcolor\":\"#E5ECF6\",\"aaxis\":{\"gridcolor\":\"white\",\"linecolor\":\"white\",\"ticks\":\"\"},\"baxis\":{\"gridcolor\":\"white\",\"linecolor\":\"white\",\"ticks\":\"\"},\"caxis\":{\"gridcolor\":\"white\",\"linecolor\":\"white\",\"ticks\":\"\"}},\"coloraxis\":{\"colorbar\":{\"outlinewidth\":0,\"ticks\":\"\"}},\"colorscale\":{\"sequential\":[[0.0,\"#0d0887\"],[0.1111111111111111,\"#46039f\"],[0.2222222222222222,\"#7201a8\"],[0.3333333333333333,\"#9c179e\"],[0.4444444444444444,\"#bd3786\"],[0.5555555555555556,\"#d8576b\"],[0.6666666666666666,\"#ed7953\"],[0.7777777777777778,\"#fb9f3a\"],[0.8888888888888888,\"#fdca26\"],[1.0,\"#f0f921\"]],\"sequentialminus\":[[0.0,\"#0d0887\"],[0.1111111111111111,\"#46039f\"],[0.2222222222222222,\"#7201a8\"],[0.3333333333333333,\"#9c179e\"],[0.4444444444444444,\"#bd3786\"],[0.5555555555555556,\"#d8576b\"],[0.6666666666666666,\"#ed7953\"],[0.7777777777777778,\"#fb9f3a\"],[0.8888888888888888,\"#fdca26\"],[1.0,\"#f0f921\"]],\"diverging\":[[0,\"#8e0152\"],[0.1,\"#c51b7d\"],[0.2,\"#de77ae\"],[0.3,\"#f1b6da\"],[0.4,\"#fde0ef\"],[0.5,\"#f7f7f7\"],[0.6,\"#e6f5d0\"],[0.7,\"#b8e186\"],[0.8,\"#7fbc41\"],[0.9,\"#4d9221\"],[1,\"#276419\"]]},\"xaxis\":{\"gridcolor\":\"white\",\"linecolor\":\"white\",\"ticks\":\"\",\"title\":{\"standoff\":15},\"zerolinecolor\":\"white\",\"automargin\":true,\"zerolinewidth\":2},\"yaxis\":{\"gridcolor\":\"white\",\"linecolor\":\"white\",\"ticks\":\"\",\"title\":{\"standoff\":15},\"zerolinecolor\":\"white\",\"automargin\":true,\"zerolinewidth\":2},\"scene\":{\"xaxis\":{\"backgroundcolor\":\"#E5ECF6\",\"gridcolor\":\"white\",\"linecolor\":\"white\",\"showbackground\":true,\"ticks\":\"\",\"zerolinecolor\":\"white\",\"gridwidth\":2},\"yaxis\":{\"backgroundcolor\":\"#E5ECF6\",\"gridcolor\":\"white\",\"linecolor\":\"white\",\"showbackground\":true,\"ticks\":\"\",\"zerolinecolor\":\"white\",\"gridwidth\":2},\"zaxis\":{\"backgroundcolor\":\"#E5ECF6\",\"gridcolor\":\"white\",\"linecolor\":\"white\",\"showbackground\":true,\"ticks\":\"\",\"zerolinecolor\":\"white\",\"gridwidth\":2}},\"shapedefaults\":{\"line\":{\"color\":\"#2a3f5f\"}},\"annotationdefaults\":{\"arrowcolor\":\"#2a3f5f\",\"arrowhead\":0,\"arrowwidth\":1},\"geo\":{\"bgcolor\":\"white\",\"landcolor\":\"#E5ECF6\",\"subunitcolor\":\"white\",\"showland\":true,\"showlakes\":true,\"lakecolor\":\"white\"},\"title\":{\"x\":0.05},\"mapbox\":{\"style\":\"light\"}}}},                        {\"responsive\": true}                    )                };                            </script>        </div>"
      ],
      "text/plain": [
       "Figure({\n",
       "    'data': [{'name': 'De Bruijn Graph construction',\n",
       "              'offsetgroup': '0',\n",
       "              'type': 'bar',\n",
       "              'x': [40, 41, 42, 43, 44, 45, 46, 47, 48, 49],\n",
       "              'y': array([2.61226663, 2.65840618, 2.64909406, 2.66195851, 2.66127944, 2.64254475,\n",
       "                          2.88381635, 2.80029595, 2.80229408, 2.80100154, 2.83093601, 2.58209852,\n",
       "                          2.81977973, 2.82488868, 2.82243146, 2.85051888, 2.86418995, 2.60651735,\n",
       "                          2.52800853, 2.5156058 , 2.50654603, 2.50895679, 2.58460271, 2.69067959,\n",
       "                          2.68377431, 2.66584704, 2.69569985, 2.67219365, 2.80273621, 2.79165932,\n",
       "                          2.79439331, 2.81671682, 2.83004031, 2.59348083, 2.67689718, 2.56662165,\n",
       "                          2.5807166 , 2.57950116, 2.56005984, 2.65356959, 2.62908213, 2.64348158,\n",
       "                          2.63444807, 2.64696158, 2.58359999, 2.77398258, 2.74240814, 2.7398949 ,\n",
       "                          2.75285397, 2.7674044 ])},\n",
       "             {'base': array([2.612266627172144, 2.6584061766833806, 2.6490940644101397,\n",
       "                             2.6619585080263093, 2.661279437716414, 2.642544750585789,\n",
       "                             2.8838163468895877, 2.8002959540995147, 2.8022940791525497,\n",
       "                             2.801001541556381, 2.8309360114539532, 2.5820985240471077,\n",
       "                             2.819779725307369, 2.8248886794578754, 2.8224314623344227,\n",
       "                             2.8505188818675715, 2.864189952175793, 2.606517351545939,\n",
       "                             2.5280085295002634, 2.5156057964883214, 2.5065460338825134,\n",
       "                             2.5089567933431485, 2.584602706606795, 2.6906795895971904,\n",
       "                             2.683774306832291, 2.6658470378270978, 2.6956998469189886,\n",
       "                             2.672193654339487, 2.8027362055894818, 2.791659319575239,\n",
       "                             2.794393312640309, 2.816716819391015, 2.8300403129763727,\n",
       "                             2.593480826238305, 2.676897176882113, 2.566621647462612,\n",
       "                             2.5807165993713737, 2.579501156923248, 2.5600598400395085,\n",
       "                             2.6535695863351583, 2.6290821335955377, 2.6434815780127927,\n",
       "                             2.63444807366627, 2.6469615832770748, 2.5835999878441416,\n",
       "                             2.773982578719534, 2.7424081432528604, 2.739894899275245,\n",
       "                             2.752853965410371, 2.7674044024072044], dtype=object),\n",
       "              'name': 'Euler Path reconstruction',\n",
       "              'offsetgroup': '0',\n",
       "              'text': [<b>0.01%</b>, <b>0.01%</b>, <b>0.01%</b>, <b>0.01%</b>,\n",
       "                       <b>0.01%</b>, <b>0.01%</b>, <b>0.01%</b>, <b>0.01%</b>,\n",
       "                       <b>0.01%</b>, <b>0.01%</b>],\n",
       "              'textposition': 'outside',\n",
       "              'type': 'bar',\n",
       "              'x': [40, 41, 42, 43, 44, 45, 46, 47, 48, 49],\n",
       "              'y': array([0.33540597, 0.34210571, 0.34665675, 0.34410124, 0.3425742 , 0.34427438,\n",
       "                          0.3659515 , 0.37106709, 0.37663324, 0.36814226, 0.37942314, 0.3298222 ,\n",
       "                          0.37585396, 0.36801529, 0.36722489, 0.37069238, 0.37152794, 0.33340526,\n",
       "                          0.33025654, 0.33354562, 0.32878563, 0.3238474 , 0.33689321, 0.34256818,\n",
       "                          0.34244216, 0.33654728, 0.33498873, 0.34519149, 0.36603969, 0.36786689,\n",
       "                          0.37413694, 0.36971728, 0.36875087, 0.33462484, 0.34272074, 0.33425592,\n",
       "                          0.3312571 , 0.33275457, 0.33786523, 0.34749029, 0.34455426, 0.3454203 ,\n",
       "                          0.34385981, 0.34140396, 0.3366049 , 0.35094519, 0.34747328, 0.35004364,\n",
       "                          0.34594205, 0.34255814])},\n",
       "             {'name': 'Suffix Array construction',\n",
       "              'offsetgroup': '1',\n",
       "              'type': 'bar',\n",
       "              'x': [40, 41, 42, 43, 44, 45, 46, 47, 48, 49],\n",
       "              'y': array([13.66321974, 13.5389039 , 13.7001111 , 13.72021866, 13.6174715 ,\n",
       "                          13.90812485, 13.92692187, 13.74803579, 13.73043792, 13.864291  ,\n",
       "                          14.2288595 , 13.84523041, 13.2964421 , 13.6433723 , 14.01627839,\n",
       "                          14.07030225, 13.7834523 , 13.57731571, 14.0513978 , 13.75414803,\n",
       "                          14.07211585, 13.49752467, 14.10316226, 13.79975893, 13.97099893,\n",
       "                          14.32771547, 14.22455754, 13.86129515, 13.48384275, 13.69554262,\n",
       "                          13.6988246 , 14.14829617, 14.27613711, 13.92201731, 13.62137797,\n",
       "                          13.9477176 , 14.13298206, 13.99286976, 14.16330898, 13.45174189,\n",
       "                          13.76793001, 14.27019055, 14.14583373, 13.91710684, 13.7887609 ,\n",
       "                          13.53894615, 13.84904783, 14.10200558, 14.2482424 , 14.04140172])},\n",
       "             {'base': array([13.663219738006593, 13.538903903961181, 13.70011110305786,\n",
       "                             13.720218658447266, 13.617471504211426, 13.908124852180482,\n",
       "                             13.92692186832428, 13.748035788536072, 13.730437922477723,\n",
       "                             13.864291000366212, 14.228859496116637, 13.845230412483215,\n",
       "                             13.296442103385925, 13.643372297286987, 14.016278386116028,\n",
       "                             14.070302248001099, 13.78345229625702, 13.577315711975098,\n",
       "                             14.051397800445557, 13.754148030281067, 14.072115850448608,\n",
       "                             13.497524666786195, 14.103162264823913, 13.79975893497467,\n",
       "                             13.970998930931092, 14.327715468406677, 14.224557542800904,\n",
       "                             13.861295151710511, 13.483842754364014, 13.69554262161255,\n",
       "                             13.698824596405029, 14.14829616546631, 14.276137113571167,\n",
       "                             13.922017312049865, 13.621377968788147, 13.947717595100404,\n",
       "                             14.132982063293458, 13.992869758605957, 14.16330897808075,\n",
       "                             13.451741886138915, 13.767930006980896, 14.270190548896789,\n",
       "                             14.145833730697632, 13.91710684299469, 13.788760900497437,\n",
       "                             13.538946151733398, 13.849047827720643, 14.102005577087402,\n",
       "                             14.248242402076722, 14.041401720046997], dtype=object),\n",
       "              'name': 'Adjacency Matrix construction',\n",
       "              'offsetgroup': '1',\n",
       "              'type': 'bar',\n",
       "              'x': [40, 41, 42, 43, 44, 45, 46, 47, 48, 49],\n",
       "              'y': array([1062.36910439, 1073.00008652, 1066.01000216, 1058.08725832,\n",
       "                          1048.33088028, 1078.49115772, 1080.34128177, 1049.9394376 ,\n",
       "                          1045.68973548, 1042.44044285, 1074.76276369, 1088.61400614,\n",
       "                          1037.35162361, 1052.47973661, 1058.15452702, 1079.72500584,\n",
       "                          1049.3913203 , 1069.77854958, 1071.89336123, 1041.8492573 ,\n",
       "                          1067.28587005, 1033.91787548, 1075.50849099, 1075.91994245,\n",
       "                          1081.11199644, 1082.30358367, 1072.76427493, 1051.58142073,\n",
       "                          1042.00899756, 1039.43532147, 1041.99257205, 1075.97645478,\n",
       "                          1104.20585938, 1056.56531587, 1054.47848005, 1054.3128526 ,\n",
       "                          1071.03188546, 1063.27834294, 1077.22996569, 1035.32562189,\n",
       "                          1038.83393927, 1090.22640026, 1069.82310827, 1057.84217811,\n",
       "                          1052.89900994, 1047.02794089, 1045.91505098, 1066.20580585,\n",
       "                          1064.87765141, 1072.29949894])},\n",
       "             {'base': array([1062.369104385376, 1073.0000865221023, 1066.0100021600724,\n",
       "                             1058.0872583150863, 1048.3308802843094, 1078.4911577224732,\n",
       "                             1080.3412817716599, 1049.9394376039504, 1045.6897354841233,\n",
       "                             1042.4404428482055, 1074.7627636909485, 1088.6140061378478,\n",
       "                             1037.3516236066819, 1052.4797366142272, 1058.1545270204545,\n",
       "                             1079.725005841255, 1049.3913203001023, 1069.7785495758058,\n",
       "                             1071.893361234665, 1041.8492573022843, 1067.2858700513839,\n",
       "                             1033.917875480652, 1075.5084909915925, 1075.9199424505234,\n",
       "                             1081.1119964361192, 1082.3035836696624, 1072.764274930954,\n",
       "                             1051.5814207315445, 1042.0089975595474, 1039.4353214740754,\n",
       "                             1041.9925720453261, 1075.976454782486, 1104.205859375,\n",
       "                             1056.5653158664704, 1054.478480052948, 1054.3128525972365,\n",
       "                             1071.031885457039, 1063.278342938423, 1077.229965686798,\n",
       "                             1035.3256218910217, 1038.8339392662049, 1090.226400256157,\n",
       "                             1069.8231082677842, 1057.842178106308, 1052.8990099430084,\n",
       "                             1047.0279408931733, 1045.915050983429, 1066.205805850029,\n",
       "                             1064.8776514053345, 1072.2994989395143], dtype=object),\n",
       "              'name': 'Sequence reconstruction',\n",
       "              'offsetgroup': '1',\n",
       "              'text': [<b>100.0%</b>, <b>100.0%</b>, <b>100.0%</b>, <b>100.0%</b>,\n",
       "                       <b>100.0%</b>, <b>100.0%</b>, <b>100.0%</b>, <b>100.0%</b>,\n",
       "                       <b>100.0%</b>, <b>100.0%</b>],\n",
       "              'textposition': 'outside',\n",
       "              'type': 'bar',\n",
       "              'x': [40, 41, 42, 43, 44, 45, 46, 47, 48, 49],\n",
       "              'y': array([216.3864481 , 216.98452675, 217.2779139 , 218.07359192, 217.90404272,\n",
       "                          217.54738345, 216.67316029, 217.01029265, 217.1911849 , 217.20463841,\n",
       "                          216.96033883, 216.69639983, 217.05136914, 217.74861746, 218.33838449,\n",
       "                          219.429775  , 217.39248641, 216.65924108, 216.87155821, 217.22439909,\n",
       "                          217.49836478, 217.27060516, 217.44088416, 217.34135528, 217.56292043,\n",
       "                          218.3206748 , 217.99333053, 218.4371938 , 216.0360486 , 216.4754766 ,\n",
       "                          216.59112957, 216.69986134, 216.55755286, 217.74387543, 217.25529971,\n",
       "                          217.97175536, 217.78825727, 217.8187618 , 217.50416882, 216.85270491,\n",
       "                          217.17462857, 217.61494646, 217.43279743, 217.43910482, 217.2224648 ,\n",
       "                          214.90762997, 215.33690937, 215.54646003, 216.03888969, 215.705948  ])}],\n",
       "    'layout': {'template': '...',\n",
       "               'title': {'text': ('Raphanus sativus with Generate' ... 'De Bruijn Graph and Euler Path')},\n",
       "               'yaxis': {'title': {'text': 'time (s)'}}}\n",
       "})"
      ]
     },
     "execution_count": 336,
     "metadata": {},
     "output_type": "execute_result"
    }
   ],
   "source": [
    "labels = list('{}'.format(i) for i in range(40,50))\n",
    "\n",
    "fig = go.Figure(\n",
    "    data=[\n",
    "        go.Bar(\n",
    "            name=\"De Bruijn Graph construction\",\n",
    "            x=labels,\n",
    "            y=df_realseq_eul_mean['de_bruijn_graph_construction_time'],\n",
    "            offsetgroup=0,\n",
    "        ),\n",
    "        go.Bar(\n",
    "            name=\"Euler Path reconstruction\",\n",
    "            x=labels,\n",
    "            y=df_realseq_eul_mean['euler_path_reconstruction_time'],\n",
    "            text=list(\"<b>{}%</b>\".format(round((1-(df_realseq_eul[df_realseq_eul['sequence']==i]['edit_distance']/df_realseq_eul[df_realseq_eul['sequence']==i]['target_sequence_length'])).mean()*100,2)) for i in range(40,50)),\n",
    "            textposition='outside',offsetgroup=0,\n",
    "            base=df_realseq_eul_mean['de_bruijn_graph_construction_time'],\n",
    "        ),\n",
    "        go.Bar(\n",
    "            name=\"Suffix Array construction\",\n",
    "            x=labels,\n",
    "            y=df_real_seq_mean['suffix_array_construction_time'],\n",
    "            offsetgroup=1,\n",
    "        ),\n",
    "        go.Bar(\n",
    "            name=\"Adjacency Matrix construction\",\n",
    "            x=labels,\n",
    "            y=df_real_seq_mean['adjacency_matrix_construction_time'],\n",
    "            offsetgroup=1,\n",
    "            base=df_real_seq_mean['suffix_array_construction_time'],\n",
    "        ),\n",
    "        go.Bar(\n",
    "            name=\"Sequence reconstruction\",\n",
    "            x=labels,\n",
    "            y=df_real_seq_mean['sequence_reconstruction_time'],\n",
    "            text=list(\"<b>{}%</b>\".format(round((1-(df_real_seq[df_real_seq['sequence']==i]['edit_distance']/df_real_seq[df_real_seq['sequence']==i]['target_sequence_length'])).mean()*100,2)) for i in range(40,50)),\n",
    "            textposition='outside',offsetgroup=1,\n",
    "            base=df_real_seq_mean['adjacency_matrix_construction_time'],\n",
    "        )\n",
    "    ],\n",
    "    layout=go.Layout(\n",
    "        title=\"Raphanus sativus with Generated Reads: Suffix Array and Sequitur vs De Bruijn Graph and Euler Path\",\n",
    "        yaxis_title=\"time (s)\"\n",
    "    )\n",
    ")\n",
    "fig"
   ]
  },
  {
   "cell_type": "code",
   "execution_count": 17,
   "metadata": {},
   "outputs": [
    {
     "ename": "ValueError",
     "evalue": "Mime type rendering requires nbformat>=4.2.0 but it is not installed",
     "output_type": "error",
     "traceback": [
      "\u001b[1;31m---------------------------------------------------------------------------\u001b[0m",
      "\u001b[1;31mValueError\u001b[0m                                Traceback (most recent call last)",
      "File \u001b[1;32m~\\AppData\\Roaming\\Python\\Python39\\site-packages\\IPython\\core\\formatters.py:922\u001b[0m, in \u001b[0;36mIPythonDisplayFormatter.__call__\u001b[1;34m(self, obj)\u001b[0m\n\u001b[0;32m    920\u001b[0m method \u001b[38;5;241m=\u001b[39m get_real_method(obj, \u001b[38;5;28mself\u001b[39m\u001b[38;5;241m.\u001b[39mprint_method)\n\u001b[0;32m    921\u001b[0m \u001b[38;5;28;01mif\u001b[39;00m method \u001b[38;5;129;01mis\u001b[39;00m \u001b[38;5;129;01mnot\u001b[39;00m \u001b[38;5;28;01mNone\u001b[39;00m:\n\u001b[1;32m--> 922\u001b[0m     \u001b[43mmethod\u001b[49m\u001b[43m(\u001b[49m\u001b[43m)\u001b[49m\n\u001b[0;32m    923\u001b[0m     \u001b[38;5;28;01mreturn\u001b[39;00m \u001b[38;5;28;01mTrue\u001b[39;00m\n",
      "File \u001b[1;32mc:\\Users\\A0068449\\AppData\\Local\\Programs\\Python\\Python39\\lib\\site-packages\\plotly\\basedatatypes.py:832\u001b[0m, in \u001b[0;36mBaseFigure._ipython_display_\u001b[1;34m(self)\u001b[0m\n\u001b[0;32m    829\u001b[0m \u001b[38;5;28;01mimport\u001b[39;00m \u001b[38;5;21;01mplotly\u001b[39;00m\u001b[38;5;21;01m.\u001b[39;00m\u001b[38;5;21;01mio\u001b[39;00m \u001b[38;5;28;01mas\u001b[39;00m \u001b[38;5;21;01mpio\u001b[39;00m\n\u001b[0;32m    831\u001b[0m \u001b[38;5;28;01mif\u001b[39;00m pio\u001b[38;5;241m.\u001b[39mrenderers\u001b[38;5;241m.\u001b[39mrender_on_display \u001b[38;5;129;01mand\u001b[39;00m pio\u001b[38;5;241m.\u001b[39mrenderers\u001b[38;5;241m.\u001b[39mdefault:\n\u001b[1;32m--> 832\u001b[0m     \u001b[43mpio\u001b[49m\u001b[38;5;241;43m.\u001b[39;49m\u001b[43mshow\u001b[49m\u001b[43m(\u001b[49m\u001b[38;5;28;43mself\u001b[39;49m\u001b[43m)\u001b[49m\n\u001b[0;32m    833\u001b[0m \u001b[38;5;28;01melse\u001b[39;00m:\n\u001b[0;32m    834\u001b[0m     \u001b[38;5;28mprint\u001b[39m(\u001b[38;5;28mrepr\u001b[39m(\u001b[38;5;28mself\u001b[39m))\n",
      "File \u001b[1;32mc:\\Users\\A0068449\\AppData\\Local\\Programs\\Python\\Python39\\lib\\site-packages\\plotly\\io\\_renderers.py:394\u001b[0m, in \u001b[0;36mshow\u001b[1;34m(fig, renderer, validate, **kwargs)\u001b[0m\n\u001b[0;32m    389\u001b[0m         \u001b[38;5;28;01mraise\u001b[39;00m \u001b[38;5;167;01mValueError\u001b[39;00m(\n\u001b[0;32m    390\u001b[0m             \u001b[38;5;124m\"\u001b[39m\u001b[38;5;124mMime type rendering requires ipython but it is not installed\u001b[39m\u001b[38;5;124m\"\u001b[39m\n\u001b[0;32m    391\u001b[0m         )\n\u001b[0;32m    393\u001b[0m     \u001b[38;5;28;01mif\u001b[39;00m \u001b[38;5;129;01mnot\u001b[39;00m nbformat \u001b[38;5;129;01mor\u001b[39;00m Version(nbformat\u001b[38;5;241m.\u001b[39m__version__) \u001b[38;5;241m<\u001b[39m Version(\u001b[38;5;124m\"\u001b[39m\u001b[38;5;124m4.2.0\u001b[39m\u001b[38;5;124m\"\u001b[39m):\n\u001b[1;32m--> 394\u001b[0m         \u001b[38;5;28;01mraise\u001b[39;00m \u001b[38;5;167;01mValueError\u001b[39;00m(\n\u001b[0;32m    395\u001b[0m             \u001b[38;5;124m\"\u001b[39m\u001b[38;5;124mMime type rendering requires nbformat>=4.2.0 but it is not installed\u001b[39m\u001b[38;5;124m\"\u001b[39m\n\u001b[0;32m    396\u001b[0m         )\n\u001b[0;32m    398\u001b[0m     ipython_display\u001b[38;5;241m.\u001b[39mdisplay(bundle, raw\u001b[38;5;241m=\u001b[39m\u001b[38;5;28;01mTrue\u001b[39;00m)\n\u001b[0;32m    400\u001b[0m \u001b[38;5;66;03m# external renderers\u001b[39;00m\n",
      "\u001b[1;31mValueError\u001b[0m: Mime type rendering requires nbformat>=4.2.0 but it is not installed"
     ]
    },
    {
     "data": {
      "application/vnd.plotly.v1+json": {
       "config": {
        "plotlyServerURL": "https://plot.ly"
       },
       "data": [
        {
         "name": "De Bruijn Graph construction",
         "offsetgroup": "0",
         "type": "bar",
         "x": [
          "37"
         ],
         "y": [
          2.9501892962106844
         ]
        },
        {
         "base": [
          2.9501892962106844
         ],
         "name": "Euler Path reconstruction",
         "offsetgroup": "0",
         "text": [
          "<b>0.01%</b>"
         ],
         "textposition": "outside",
         "type": "bar",
         "x": [
          "37"
         ],
         "y": [
          0.85715580568081
         ]
        },
        {
         "name": "Suffix Array construction",
         "offsetgroup": "1",
         "type": "bar",
         "x": [
          "37"
         ],
         "y": [
          17.206971168518066
         ]
        },
        {
         "base": [
          17.206971168518066
         ],
         "name": "Adjacency Matrix construction",
         "offsetgroup": "1",
         "type": "bar",
         "x": [
          "37"
         ],
         "y": [
          1446.0378952026367
         ]
        },
        {
         "base": [
          1446.0378952026367
         ],
         "name": "Sequence reconstruction",
         "offsetgroup": "1",
         "text": [
          "<b>100.0%</b>"
         ],
         "textposition": "outside",
         "type": "bar",
         "x": [
          "37"
         ],
         "y": [
          197.9764461517334
         ]
        }
       ],
       "layout": {
        "template": {
         "data": {
          "bar": [
           {
            "error_x": {
             "color": "#2a3f5f"
            },
            "error_y": {
             "color": "#2a3f5f"
            },
            "marker": {
             "line": {
              "color": "#E5ECF6",
              "width": 0.5
             },
             "pattern": {
              "fillmode": "overlay",
              "size": 10,
              "solidity": 0.2
             }
            },
            "type": "bar"
           }
          ],
          "barpolar": [
           {
            "marker": {
             "line": {
              "color": "#E5ECF6",
              "width": 0.5
             },
             "pattern": {
              "fillmode": "overlay",
              "size": 10,
              "solidity": 0.2
             }
            },
            "type": "barpolar"
           }
          ],
          "carpet": [
           {
            "aaxis": {
             "endlinecolor": "#2a3f5f",
             "gridcolor": "white",
             "linecolor": "white",
             "minorgridcolor": "white",
             "startlinecolor": "#2a3f5f"
            },
            "baxis": {
             "endlinecolor": "#2a3f5f",
             "gridcolor": "white",
             "linecolor": "white",
             "minorgridcolor": "white",
             "startlinecolor": "#2a3f5f"
            },
            "type": "carpet"
           }
          ],
          "choropleth": [
           {
            "colorbar": {
             "outlinewidth": 0,
             "ticks": ""
            },
            "type": "choropleth"
           }
          ],
          "contour": [
           {
            "colorbar": {
             "outlinewidth": 0,
             "ticks": ""
            },
            "colorscale": [
             [
              0,
              "#0d0887"
             ],
             [
              0.1111111111111111,
              "#46039f"
             ],
             [
              0.2222222222222222,
              "#7201a8"
             ],
             [
              0.3333333333333333,
              "#9c179e"
             ],
             [
              0.4444444444444444,
              "#bd3786"
             ],
             [
              0.5555555555555556,
              "#d8576b"
             ],
             [
              0.6666666666666666,
              "#ed7953"
             ],
             [
              0.7777777777777778,
              "#fb9f3a"
             ],
             [
              0.8888888888888888,
              "#fdca26"
             ],
             [
              1,
              "#f0f921"
             ]
            ],
            "type": "contour"
           }
          ],
          "contourcarpet": [
           {
            "colorbar": {
             "outlinewidth": 0,
             "ticks": ""
            },
            "type": "contourcarpet"
           }
          ],
          "heatmap": [
           {
            "colorbar": {
             "outlinewidth": 0,
             "ticks": ""
            },
            "colorscale": [
             [
              0,
              "#0d0887"
             ],
             [
              0.1111111111111111,
              "#46039f"
             ],
             [
              0.2222222222222222,
              "#7201a8"
             ],
             [
              0.3333333333333333,
              "#9c179e"
             ],
             [
              0.4444444444444444,
              "#bd3786"
             ],
             [
              0.5555555555555556,
              "#d8576b"
             ],
             [
              0.6666666666666666,
              "#ed7953"
             ],
             [
              0.7777777777777778,
              "#fb9f3a"
             ],
             [
              0.8888888888888888,
              "#fdca26"
             ],
             [
              1,
              "#f0f921"
             ]
            ],
            "type": "heatmap"
           }
          ],
          "heatmapgl": [
           {
            "colorbar": {
             "outlinewidth": 0,
             "ticks": ""
            },
            "colorscale": [
             [
              0,
              "#0d0887"
             ],
             [
              0.1111111111111111,
              "#46039f"
             ],
             [
              0.2222222222222222,
              "#7201a8"
             ],
             [
              0.3333333333333333,
              "#9c179e"
             ],
             [
              0.4444444444444444,
              "#bd3786"
             ],
             [
              0.5555555555555556,
              "#d8576b"
             ],
             [
              0.6666666666666666,
              "#ed7953"
             ],
             [
              0.7777777777777778,
              "#fb9f3a"
             ],
             [
              0.8888888888888888,
              "#fdca26"
             ],
             [
              1,
              "#f0f921"
             ]
            ],
            "type": "heatmapgl"
           }
          ],
          "histogram": [
           {
            "marker": {
             "pattern": {
              "fillmode": "overlay",
              "size": 10,
              "solidity": 0.2
             }
            },
            "type": "histogram"
           }
          ],
          "histogram2d": [
           {
            "colorbar": {
             "outlinewidth": 0,
             "ticks": ""
            },
            "colorscale": [
             [
              0,
              "#0d0887"
             ],
             [
              0.1111111111111111,
              "#46039f"
             ],
             [
              0.2222222222222222,
              "#7201a8"
             ],
             [
              0.3333333333333333,
              "#9c179e"
             ],
             [
              0.4444444444444444,
              "#bd3786"
             ],
             [
              0.5555555555555556,
              "#d8576b"
             ],
             [
              0.6666666666666666,
              "#ed7953"
             ],
             [
              0.7777777777777778,
              "#fb9f3a"
             ],
             [
              0.8888888888888888,
              "#fdca26"
             ],
             [
              1,
              "#f0f921"
             ]
            ],
            "type": "histogram2d"
           }
          ],
          "histogram2dcontour": [
           {
            "colorbar": {
             "outlinewidth": 0,
             "ticks": ""
            },
            "colorscale": [
             [
              0,
              "#0d0887"
             ],
             [
              0.1111111111111111,
              "#46039f"
             ],
             [
              0.2222222222222222,
              "#7201a8"
             ],
             [
              0.3333333333333333,
              "#9c179e"
             ],
             [
              0.4444444444444444,
              "#bd3786"
             ],
             [
              0.5555555555555556,
              "#d8576b"
             ],
             [
              0.6666666666666666,
              "#ed7953"
             ],
             [
              0.7777777777777778,
              "#fb9f3a"
             ],
             [
              0.8888888888888888,
              "#fdca26"
             ],
             [
              1,
              "#f0f921"
             ]
            ],
            "type": "histogram2dcontour"
           }
          ],
          "mesh3d": [
           {
            "colorbar": {
             "outlinewidth": 0,
             "ticks": ""
            },
            "type": "mesh3d"
           }
          ],
          "parcoords": [
           {
            "line": {
             "colorbar": {
              "outlinewidth": 0,
              "ticks": ""
             }
            },
            "type": "parcoords"
           }
          ],
          "pie": [
           {
            "automargin": true,
            "type": "pie"
           }
          ],
          "scatter": [
           {
            "fillpattern": {
             "fillmode": "overlay",
             "size": 10,
             "solidity": 0.2
            },
            "type": "scatter"
           }
          ],
          "scatter3d": [
           {
            "line": {
             "colorbar": {
              "outlinewidth": 0,
              "ticks": ""
             }
            },
            "marker": {
             "colorbar": {
              "outlinewidth": 0,
              "ticks": ""
             }
            },
            "type": "scatter3d"
           }
          ],
          "scattercarpet": [
           {
            "marker": {
             "colorbar": {
              "outlinewidth": 0,
              "ticks": ""
             }
            },
            "type": "scattercarpet"
           }
          ],
          "scattergeo": [
           {
            "marker": {
             "colorbar": {
              "outlinewidth": 0,
              "ticks": ""
             }
            },
            "type": "scattergeo"
           }
          ],
          "scattergl": [
           {
            "marker": {
             "colorbar": {
              "outlinewidth": 0,
              "ticks": ""
             }
            },
            "type": "scattergl"
           }
          ],
          "scattermapbox": [
           {
            "marker": {
             "colorbar": {
              "outlinewidth": 0,
              "ticks": ""
             }
            },
            "type": "scattermapbox"
           }
          ],
          "scatterpolar": [
           {
            "marker": {
             "colorbar": {
              "outlinewidth": 0,
              "ticks": ""
             }
            },
            "type": "scatterpolar"
           }
          ],
          "scatterpolargl": [
           {
            "marker": {
             "colorbar": {
              "outlinewidth": 0,
              "ticks": ""
             }
            },
            "type": "scatterpolargl"
           }
          ],
          "scatterternary": [
           {
            "marker": {
             "colorbar": {
              "outlinewidth": 0,
              "ticks": ""
             }
            },
            "type": "scatterternary"
           }
          ],
          "surface": [
           {
            "colorbar": {
             "outlinewidth": 0,
             "ticks": ""
            },
            "colorscale": [
             [
              0,
              "#0d0887"
             ],
             [
              0.1111111111111111,
              "#46039f"
             ],
             [
              0.2222222222222222,
              "#7201a8"
             ],
             [
              0.3333333333333333,
              "#9c179e"
             ],
             [
              0.4444444444444444,
              "#bd3786"
             ],
             [
              0.5555555555555556,
              "#d8576b"
             ],
             [
              0.6666666666666666,
              "#ed7953"
             ],
             [
              0.7777777777777778,
              "#fb9f3a"
             ],
             [
              0.8888888888888888,
              "#fdca26"
             ],
             [
              1,
              "#f0f921"
             ]
            ],
            "type": "surface"
           }
          ],
          "table": [
           {
            "cells": {
             "fill": {
              "color": "#EBF0F8"
             },
             "line": {
              "color": "white"
             }
            },
            "header": {
             "fill": {
              "color": "#C8D4E3"
             },
             "line": {
              "color": "white"
             }
            },
            "type": "table"
           }
          ]
         },
         "layout": {
          "annotationdefaults": {
           "arrowcolor": "#2a3f5f",
           "arrowhead": 0,
           "arrowwidth": 1
          },
          "autotypenumbers": "strict",
          "coloraxis": {
           "colorbar": {
            "outlinewidth": 0,
            "ticks": ""
           }
          },
          "colorscale": {
           "diverging": [
            [
             0,
             "#8e0152"
            ],
            [
             0.1,
             "#c51b7d"
            ],
            [
             0.2,
             "#de77ae"
            ],
            [
             0.3,
             "#f1b6da"
            ],
            [
             0.4,
             "#fde0ef"
            ],
            [
             0.5,
             "#f7f7f7"
            ],
            [
             0.6,
             "#e6f5d0"
            ],
            [
             0.7,
             "#b8e186"
            ],
            [
             0.8,
             "#7fbc41"
            ],
            [
             0.9,
             "#4d9221"
            ],
            [
             1,
             "#276419"
            ]
           ],
           "sequential": [
            [
             0,
             "#0d0887"
            ],
            [
             0.1111111111111111,
             "#46039f"
            ],
            [
             0.2222222222222222,
             "#7201a8"
            ],
            [
             0.3333333333333333,
             "#9c179e"
            ],
            [
             0.4444444444444444,
             "#bd3786"
            ],
            [
             0.5555555555555556,
             "#d8576b"
            ],
            [
             0.6666666666666666,
             "#ed7953"
            ],
            [
             0.7777777777777778,
             "#fb9f3a"
            ],
            [
             0.8888888888888888,
             "#fdca26"
            ],
            [
             1,
             "#f0f921"
            ]
           ],
           "sequentialminus": [
            [
             0,
             "#0d0887"
            ],
            [
             0.1111111111111111,
             "#46039f"
            ],
            [
             0.2222222222222222,
             "#7201a8"
            ],
            [
             0.3333333333333333,
             "#9c179e"
            ],
            [
             0.4444444444444444,
             "#bd3786"
            ],
            [
             0.5555555555555556,
             "#d8576b"
            ],
            [
             0.6666666666666666,
             "#ed7953"
            ],
            [
             0.7777777777777778,
             "#fb9f3a"
            ],
            [
             0.8888888888888888,
             "#fdca26"
            ],
            [
             1,
             "#f0f921"
            ]
           ]
          },
          "colorway": [
           "#636efa",
           "#EF553B",
           "#00cc96",
           "#ab63fa",
           "#FFA15A",
           "#19d3f3",
           "#FF6692",
           "#B6E880",
           "#FF97FF",
           "#FECB52"
          ],
          "font": {
           "color": "#2a3f5f"
          },
          "geo": {
           "bgcolor": "white",
           "lakecolor": "white",
           "landcolor": "#E5ECF6",
           "showlakes": true,
           "showland": true,
           "subunitcolor": "white"
          },
          "hoverlabel": {
           "align": "left"
          },
          "hovermode": "closest",
          "mapbox": {
           "style": "light"
          },
          "paper_bgcolor": "white",
          "plot_bgcolor": "#E5ECF6",
          "polar": {
           "angularaxis": {
            "gridcolor": "white",
            "linecolor": "white",
            "ticks": ""
           },
           "bgcolor": "#E5ECF6",
           "radialaxis": {
            "gridcolor": "white",
            "linecolor": "white",
            "ticks": ""
           }
          },
          "scene": {
           "xaxis": {
            "backgroundcolor": "#E5ECF6",
            "gridcolor": "white",
            "gridwidth": 2,
            "linecolor": "white",
            "showbackground": true,
            "ticks": "",
            "zerolinecolor": "white"
           },
           "yaxis": {
            "backgroundcolor": "#E5ECF6",
            "gridcolor": "white",
            "gridwidth": 2,
            "linecolor": "white",
            "showbackground": true,
            "ticks": "",
            "zerolinecolor": "white"
           },
           "zaxis": {
            "backgroundcolor": "#E5ECF6",
            "gridcolor": "white",
            "gridwidth": 2,
            "linecolor": "white",
            "showbackground": true,
            "ticks": "",
            "zerolinecolor": "white"
           }
          },
          "shapedefaults": {
           "line": {
            "color": "#2a3f5f"
           }
          },
          "ternary": {
           "aaxis": {
            "gridcolor": "white",
            "linecolor": "white",
            "ticks": ""
           },
           "baxis": {
            "gridcolor": "white",
            "linecolor": "white",
            "ticks": ""
           },
           "bgcolor": "#E5ECF6",
           "caxis": {
            "gridcolor": "white",
            "linecolor": "white",
            "ticks": ""
           }
          },
          "title": {
           "x": 0.05
          },
          "xaxis": {
           "automargin": true,
           "gridcolor": "white",
           "linecolor": "white",
           "ticks": "",
           "title": {
            "standoff": 15
           },
           "zerolinecolor": "white",
           "zerolinewidth": 2
          },
          "yaxis": {
           "automargin": true,
           "gridcolor": "white",
           "linecolor": "white",
           "ticks": "",
           "title": {
            "standoff": 15
           },
           "zerolinecolor": "white",
           "zerolinewidth": 2
          }
         }
        },
        "title": {
         "text": "Raphanus sativus with Generated Reads: Suffix Array and Sequitur vs De Bruijn Graph and Euler Path"
        },
        "yaxis": {
         "range": [
          -10,
          1750
         ],
         "title": {
          "text": "time (s)"
         }
        }
       }
      },
      "text/html": [
       "<div>                        <script type=\"text/javascript\">window.PlotlyConfig = {MathJaxConfig: 'local'};</script>\n",
       "        <script charset=\"utf-8\" src=\"https://cdn.plot.ly/plotly-2.30.0.min.js\"></script>                <div id=\"c89c5968-e642-425c-aef7-4f946bd214d3\" class=\"plotly-graph-div\" style=\"height:100%; width:100%;\"></div>            <script type=\"text/javascript\">                                    window.PLOTLYENV=window.PLOTLYENV || {};                                    if (document.getElementById(\"c89c5968-e642-425c-aef7-4f946bd214d3\")) {                    Plotly.newPlot(                        \"c89c5968-e642-425c-aef7-4f946bd214d3\",                        [{\"name\":\"De Bruijn Graph construction\",\"offsetgroup\":\"0\",\"x\":[\"37\"],\"y\":[2.9501892962106844],\"type\":\"bar\"},{\"base\":[2.9501892962106844],\"name\":\"Euler Path reconstruction\",\"offsetgroup\":\"0\",\"text\":[\"\\u003cb\\u003e0.01%\\u003c\\u002fb\\u003e\"],\"textposition\":\"outside\",\"x\":[\"37\"],\"y\":[0.85715580568081],\"type\":\"bar\"},{\"name\":\"Suffix Array construction\",\"offsetgroup\":\"1\",\"x\":[\"37\"],\"y\":[17.206971168518066],\"type\":\"bar\"},{\"base\":[17.206971168518066],\"name\":\"Adjacency Matrix construction\",\"offsetgroup\":\"1\",\"x\":[\"37\"],\"y\":[1446.0378952026367],\"type\":\"bar\"},{\"base\":[1446.0378952026367],\"name\":\"Sequence reconstruction\",\"offsetgroup\":\"1\",\"text\":[\"\\u003cb\\u003e100.0%\\u003c\\u002fb\\u003e\"],\"textposition\":\"outside\",\"x\":[\"37\"],\"y\":[197.9764461517334],\"type\":\"bar\"}],                        {\"title\":{\"text\":\"Raphanus sativus with Generated Reads: Suffix Array and Sequitur vs De Bruijn Graph and Euler Path\"},\"yaxis\":{\"range\":[-10,1750],\"title\":{\"text\":\"time (s)\"}},\"template\":{\"data\":{\"histogram2dcontour\":[{\"type\":\"histogram2dcontour\",\"colorbar\":{\"outlinewidth\":0,\"ticks\":\"\"},\"colorscale\":[[0.0,\"#0d0887\"],[0.1111111111111111,\"#46039f\"],[0.2222222222222222,\"#7201a8\"],[0.3333333333333333,\"#9c179e\"],[0.4444444444444444,\"#bd3786\"],[0.5555555555555556,\"#d8576b\"],[0.6666666666666666,\"#ed7953\"],[0.7777777777777778,\"#fb9f3a\"],[0.8888888888888888,\"#fdca26\"],[1.0,\"#f0f921\"]]}],\"choropleth\":[{\"type\":\"choropleth\",\"colorbar\":{\"outlinewidth\":0,\"ticks\":\"\"}}],\"histogram2d\":[{\"type\":\"histogram2d\",\"colorbar\":{\"outlinewidth\":0,\"ticks\":\"\"},\"colorscale\":[[0.0,\"#0d0887\"],[0.1111111111111111,\"#46039f\"],[0.2222222222222222,\"#7201a8\"],[0.3333333333333333,\"#9c179e\"],[0.4444444444444444,\"#bd3786\"],[0.5555555555555556,\"#d8576b\"],[0.6666666666666666,\"#ed7953\"],[0.7777777777777778,\"#fb9f3a\"],[0.8888888888888888,\"#fdca26\"],[1.0,\"#f0f921\"]]}],\"heatmap\":[{\"type\":\"heatmap\",\"colorbar\":{\"outlinewidth\":0,\"ticks\":\"\"},\"colorscale\":[[0.0,\"#0d0887\"],[0.1111111111111111,\"#46039f\"],[0.2222222222222222,\"#7201a8\"],[0.3333333333333333,\"#9c179e\"],[0.4444444444444444,\"#bd3786\"],[0.5555555555555556,\"#d8576b\"],[0.6666666666666666,\"#ed7953\"],[0.7777777777777778,\"#fb9f3a\"],[0.8888888888888888,\"#fdca26\"],[1.0,\"#f0f921\"]]}],\"heatmapgl\":[{\"type\":\"heatmapgl\",\"colorbar\":{\"outlinewidth\":0,\"ticks\":\"\"},\"colorscale\":[[0.0,\"#0d0887\"],[0.1111111111111111,\"#46039f\"],[0.2222222222222222,\"#7201a8\"],[0.3333333333333333,\"#9c179e\"],[0.4444444444444444,\"#bd3786\"],[0.5555555555555556,\"#d8576b\"],[0.6666666666666666,\"#ed7953\"],[0.7777777777777778,\"#fb9f3a\"],[0.8888888888888888,\"#fdca26\"],[1.0,\"#f0f921\"]]}],\"contourcarpet\":[{\"type\":\"contourcarpet\",\"colorbar\":{\"outlinewidth\":0,\"ticks\":\"\"}}],\"contour\":[{\"type\":\"contour\",\"colorbar\":{\"outlinewidth\":0,\"ticks\":\"\"},\"colorscale\":[[0.0,\"#0d0887\"],[0.1111111111111111,\"#46039f\"],[0.2222222222222222,\"#7201a8\"],[0.3333333333333333,\"#9c179e\"],[0.4444444444444444,\"#bd3786\"],[0.5555555555555556,\"#d8576b\"],[0.6666666666666666,\"#ed7953\"],[0.7777777777777778,\"#fb9f3a\"],[0.8888888888888888,\"#fdca26\"],[1.0,\"#f0f921\"]]}],\"surface\":[{\"type\":\"surface\",\"colorbar\":{\"outlinewidth\":0,\"ticks\":\"\"},\"colorscale\":[[0.0,\"#0d0887\"],[0.1111111111111111,\"#46039f\"],[0.2222222222222222,\"#7201a8\"],[0.3333333333333333,\"#9c179e\"],[0.4444444444444444,\"#bd3786\"],[0.5555555555555556,\"#d8576b\"],[0.6666666666666666,\"#ed7953\"],[0.7777777777777778,\"#fb9f3a\"],[0.8888888888888888,\"#fdca26\"],[1.0,\"#f0f921\"]]}],\"mesh3d\":[{\"type\":\"mesh3d\",\"colorbar\":{\"outlinewidth\":0,\"ticks\":\"\"}}],\"scatter\":[{\"fillpattern\":{\"fillmode\":\"overlay\",\"size\":10,\"solidity\":0.2},\"type\":\"scatter\"}],\"parcoords\":[{\"type\":\"parcoords\",\"line\":{\"colorbar\":{\"outlinewidth\":0,\"ticks\":\"\"}}}],\"scatterpolargl\":[{\"type\":\"scatterpolargl\",\"marker\":{\"colorbar\":{\"outlinewidth\":0,\"ticks\":\"\"}}}],\"bar\":[{\"error_x\":{\"color\":\"#2a3f5f\"},\"error_y\":{\"color\":\"#2a3f5f\"},\"marker\":{\"line\":{\"color\":\"#E5ECF6\",\"width\":0.5},\"pattern\":{\"fillmode\":\"overlay\",\"size\":10,\"solidity\":0.2}},\"type\":\"bar\"}],\"scattergeo\":[{\"type\":\"scattergeo\",\"marker\":{\"colorbar\":{\"outlinewidth\":0,\"ticks\":\"\"}}}],\"scatterpolar\":[{\"type\":\"scatterpolar\",\"marker\":{\"colorbar\":{\"outlinewidth\":0,\"ticks\":\"\"}}}],\"histogram\":[{\"marker\":{\"pattern\":{\"fillmode\":\"overlay\",\"size\":10,\"solidity\":0.2}},\"type\":\"histogram\"}],\"scattergl\":[{\"type\":\"scattergl\",\"marker\":{\"colorbar\":{\"outlinewidth\":0,\"ticks\":\"\"}}}],\"scatter3d\":[{\"type\":\"scatter3d\",\"line\":{\"colorbar\":{\"outlinewidth\":0,\"ticks\":\"\"}},\"marker\":{\"colorbar\":{\"outlinewidth\":0,\"ticks\":\"\"}}}],\"scattermapbox\":[{\"type\":\"scattermapbox\",\"marker\":{\"colorbar\":{\"outlinewidth\":0,\"ticks\":\"\"}}}],\"scatterternary\":[{\"type\":\"scatterternary\",\"marker\":{\"colorbar\":{\"outlinewidth\":0,\"ticks\":\"\"}}}],\"scattercarpet\":[{\"type\":\"scattercarpet\",\"marker\":{\"colorbar\":{\"outlinewidth\":0,\"ticks\":\"\"}}}],\"carpet\":[{\"aaxis\":{\"endlinecolor\":\"#2a3f5f\",\"gridcolor\":\"white\",\"linecolor\":\"white\",\"minorgridcolor\":\"white\",\"startlinecolor\":\"#2a3f5f\"},\"baxis\":{\"endlinecolor\":\"#2a3f5f\",\"gridcolor\":\"white\",\"linecolor\":\"white\",\"minorgridcolor\":\"white\",\"startlinecolor\":\"#2a3f5f\"},\"type\":\"carpet\"}],\"table\":[{\"cells\":{\"fill\":{\"color\":\"#EBF0F8\"},\"line\":{\"color\":\"white\"}},\"header\":{\"fill\":{\"color\":\"#C8D4E3\"},\"line\":{\"color\":\"white\"}},\"type\":\"table\"}],\"barpolar\":[{\"marker\":{\"line\":{\"color\":\"#E5ECF6\",\"width\":0.5},\"pattern\":{\"fillmode\":\"overlay\",\"size\":10,\"solidity\":0.2}},\"type\":\"barpolar\"}],\"pie\":[{\"automargin\":true,\"type\":\"pie\"}]},\"layout\":{\"autotypenumbers\":\"strict\",\"colorway\":[\"#636efa\",\"#EF553B\",\"#00cc96\",\"#ab63fa\",\"#FFA15A\",\"#19d3f3\",\"#FF6692\",\"#B6E880\",\"#FF97FF\",\"#FECB52\"],\"font\":{\"color\":\"#2a3f5f\"},\"hovermode\":\"closest\",\"hoverlabel\":{\"align\":\"left\"},\"paper_bgcolor\":\"white\",\"plot_bgcolor\":\"#E5ECF6\",\"polar\":{\"bgcolor\":\"#E5ECF6\",\"angularaxis\":{\"gridcolor\":\"white\",\"linecolor\":\"white\",\"ticks\":\"\"},\"radialaxis\":{\"gridcolor\":\"white\",\"linecolor\":\"white\",\"ticks\":\"\"}},\"ternary\":{\"bgcolor\":\"#E5ECF6\",\"aaxis\":{\"gridcolor\":\"white\",\"linecolor\":\"white\",\"ticks\":\"\"},\"baxis\":{\"gridcolor\":\"white\",\"linecolor\":\"white\",\"ticks\":\"\"},\"caxis\":{\"gridcolor\":\"white\",\"linecolor\":\"white\",\"ticks\":\"\"}},\"coloraxis\":{\"colorbar\":{\"outlinewidth\":0,\"ticks\":\"\"}},\"colorscale\":{\"sequential\":[[0.0,\"#0d0887\"],[0.1111111111111111,\"#46039f\"],[0.2222222222222222,\"#7201a8\"],[0.3333333333333333,\"#9c179e\"],[0.4444444444444444,\"#bd3786\"],[0.5555555555555556,\"#d8576b\"],[0.6666666666666666,\"#ed7953\"],[0.7777777777777778,\"#fb9f3a\"],[0.8888888888888888,\"#fdca26\"],[1.0,\"#f0f921\"]],\"sequentialminus\":[[0.0,\"#0d0887\"],[0.1111111111111111,\"#46039f\"],[0.2222222222222222,\"#7201a8\"],[0.3333333333333333,\"#9c179e\"],[0.4444444444444444,\"#bd3786\"],[0.5555555555555556,\"#d8576b\"],[0.6666666666666666,\"#ed7953\"],[0.7777777777777778,\"#fb9f3a\"],[0.8888888888888888,\"#fdca26\"],[1.0,\"#f0f921\"]],\"diverging\":[[0,\"#8e0152\"],[0.1,\"#c51b7d\"],[0.2,\"#de77ae\"],[0.3,\"#f1b6da\"],[0.4,\"#fde0ef\"],[0.5,\"#f7f7f7\"],[0.6,\"#e6f5d0\"],[0.7,\"#b8e186\"],[0.8,\"#7fbc41\"],[0.9,\"#4d9221\"],[1,\"#276419\"]]},\"xaxis\":{\"gridcolor\":\"white\",\"linecolor\":\"white\",\"ticks\":\"\",\"title\":{\"standoff\":15},\"zerolinecolor\":\"white\",\"automargin\":true,\"zerolinewidth\":2},\"yaxis\":{\"gridcolor\":\"white\",\"linecolor\":\"white\",\"ticks\":\"\",\"title\":{\"standoff\":15},\"zerolinecolor\":\"white\",\"automargin\":true,\"zerolinewidth\":2},\"scene\":{\"xaxis\":{\"backgroundcolor\":\"#E5ECF6\",\"gridcolor\":\"white\",\"linecolor\":\"white\",\"showbackground\":true,\"ticks\":\"\",\"zerolinecolor\":\"white\",\"gridwidth\":2},\"yaxis\":{\"backgroundcolor\":\"#E5ECF6\",\"gridcolor\":\"white\",\"linecolor\":\"white\",\"showbackground\":true,\"ticks\":\"\",\"zerolinecolor\":\"white\",\"gridwidth\":2},\"zaxis\":{\"backgroundcolor\":\"#E5ECF6\",\"gridcolor\":\"white\",\"linecolor\":\"white\",\"showbackground\":true,\"ticks\":\"\",\"zerolinecolor\":\"white\",\"gridwidth\":2}},\"shapedefaults\":{\"line\":{\"color\":\"#2a3f5f\"}},\"annotationdefaults\":{\"arrowcolor\":\"#2a3f5f\",\"arrowhead\":0,\"arrowwidth\":1},\"geo\":{\"bgcolor\":\"white\",\"landcolor\":\"#E5ECF6\",\"subunitcolor\":\"white\",\"showland\":true,\"showlakes\":true,\"lakecolor\":\"white\"},\"title\":{\"x\":0.05},\"mapbox\":{\"style\":\"light\"}}}},                        {\"responsive\": true}                    )                };                            </script>        </div>"
      ],
      "text/plain": [
       "Figure({\n",
       "    'data': [{'name': 'De Bruijn Graph construction',\n",
       "              'offsetgroup': '0',\n",
       "              'type': 'bar',\n",
       "              'x': [37],\n",
       "              'y': array([2.9501893])},\n",
       "             {'base': array([2.9501892962106844], dtype=object),\n",
       "              'name': 'Euler Path reconstruction',\n",
       "              'offsetgroup': '0',\n",
       "              'text': [<b>0.01%</b>],\n",
       "              'textposition': 'outside',\n",
       "              'type': 'bar',\n",
       "              'x': [37],\n",
       "              'y': array([0.85715581])},\n",
       "             {'name': 'Suffix Array construction',\n",
       "              'offsetgroup': '1',\n",
       "              'type': 'bar',\n",
       "              'x': [37],\n",
       "              'y': array([17.20697117])},\n",
       "             {'base': array([17.206971168518066], dtype=object),\n",
       "              'name': 'Adjacency Matrix construction',\n",
       "              'offsetgroup': '1',\n",
       "              'type': 'bar',\n",
       "              'x': [37],\n",
       "              'y': array([1446.0378952])},\n",
       "             {'base': array([1446.0378952026367], dtype=object),\n",
       "              'name': 'Sequence reconstruction',\n",
       "              'offsetgroup': '1',\n",
       "              'text': [<b>100.0%</b>],\n",
       "              'textposition': 'outside',\n",
       "              'type': 'bar',\n",
       "              'x': [37],\n",
       "              'y': array([197.97644615])}],\n",
       "    'layout': {'template': '...',\n",
       "               'title': {'text': ('Raphanus sativus with Generate' ... 'De Bruijn Graph and Euler Path')},\n",
       "               'yaxis': {'range': [-10, 1750], 'title': {'text': 'time (s)'}}}\n",
       "})"
      ]
     },
     "execution_count": 17,
     "metadata": {},
     "output_type": "execute_result"
    }
   ],
   "source": [
    "df_realseq_eul = pd.DataFrame()\n",
    "i = 0\n",
    "for file in os.listdir('data/output/local/real sequence/euler'):\n",
    "    df = pd.read_csv('data/output/local/real sequence/euler/'+file)\n",
    "    df['sequence'] = 37\n",
    "    i += 1\n",
    "    df_realseq_eul = pd.concat([df_realseq_eul,df])\n",
    "df_realseq_eul_mean = pd.DataFrame()\n",
    "for i in [37]: df_realseq_eul_mean = pd.concat([df_realseq_eul_mean,df_realseq_eul[df_realseq_eul['sequence']==i].groupby(\"k\").mean().mean()[[\"sequence\",\"edit_distance\",\"de_bruijn_graph_construction_time\",'euler_path_reconstruction_time']]],axis=1)\n",
    "df_realseq_eul_mean = df_realseq_eul_mean.T.set_index('sequence')\n",
    "\n",
    "df_real_seq = pd.DataFrame()\n",
    "i = 0\n",
    "for file in os.listdir('data/output/local/real sequence/sequitur'):\n",
    "    df = pd.read_csv('data/output/local/real sequence/sequitur/'+file)\n",
    "    df['sequence'] = 37\n",
    "    i += 1\n",
    "    df_real_seq = pd.concat([df_real_seq,df])\n",
    "df_real_seq_mean = pd.DataFrame()\n",
    "for i in [37]: df_real_seq_mean = pd.concat([df_real_seq_mean,df_real_seq[df_real_seq['sequence']==i].mean()[[\"sequence\",\"edit_distance\",\"suffix_array_construction_time\",'adjacency_matrix_construction_time','sequence_reconstruction_time']]],axis=1)\n",
    "df_real_seq_mean = df_real_seq_mean.T.set_index('sequence')\n",
    "\n",
    "labels = ['37']\n",
    "\n",
    "fig = go.Figure(\n",
    "    data=[\n",
    "        go.Bar(\n",
    "            name=\"De Bruijn Graph construction\",\n",
    "            x=labels,\n",
    "            y=df_realseq_eul_mean['de_bruijn_graph_construction_time'],\n",
    "            offsetgroup=0,\n",
    "        ),\n",
    "        go.Bar(\n",
    "            name=\"Euler Path reconstruction\",\n",
    "            x=labels,\n",
    "            y=df_realseq_eul_mean['euler_path_reconstruction_time'],\n",
    "            text=list(\"<b>{}%</b>\".format(round((1-(df_realseq_eul[df_realseq_eul['sequence']==i]['edit_distance']/df_realseq_eul[df_realseq_eul['sequence']==i]['target_sequence_length'])).mean()*100,3)) for i in [37]),\n",
    "            textposition='outside',offsetgroup=0,\n",
    "            base=df_realseq_eul_mean['de_bruijn_graph_construction_time'],\n",
    "        ),\n",
    "        go.Bar(\n",
    "            name=\"Suffix Array construction\",\n",
    "            x=labels,\n",
    "            y=df_real_seq_mean['suffix_array_construction_time'],\n",
    "            offsetgroup=1,\n",
    "        ),\n",
    "        go.Bar(\n",
    "            name=\"Adjacency Matrix construction\",\n",
    "            x=labels,\n",
    "            y=df_real_seq_mean['adjacency_matrix_construction_time'],\n",
    "            offsetgroup=1,\n",
    "            base=df_real_seq_mean['suffix_array_construction_time'],\n",
    "        ),\n",
    "        go.Bar(\n",
    "            name=\"Sequence reconstruction\",\n",
    "            x=labels,\n",
    "            y=df_real_seq_mean['sequence_reconstruction_time'],\n",
    "            text=list(\"<b>{}%</b>\".format(round((1-(df_real_seq[df_real_seq['sequence']==i]['edit_distance']/df_real_seq[df_real_seq['sequence']==i]['target_sequence_length'])).mean()*100,3)) for i in [37]),\n",
    "            textposition='outside',offsetgroup=1,\n",
    "            base=df_real_seq_mean['adjacency_matrix_construction_time'],\n",
    "        )\n",
    "    ],\n",
    "    layout=go.Layout(\n",
    "        title=\"Raphanus sativus with Generated Reads: Suffix Array and Sequitur vs De Bruijn Graph and Euler Path\",\n",
    "        yaxis=dict(\n",
    "            title=\"time (s)\",\n",
    "            range=[-10,1750]\n",
    "        )\n",
    "    )\n",
    ")\n",
    "fig"
   ]
  },
  {
   "cell_type": "code",
   "execution_count": 15,
   "metadata": {},
   "outputs": [
    {
     "name": "stdout",
     "output_type": "stream",
     "text": [
      "37 & 0.01\\% & 0.114\\% & 3.807 & 100.0\\% & nan\\% & 1661.221\\\\\n",
      "\n"
     ]
    }
   ],
   "source": [
    "s = \"\"\n",
    "for i in [37]:\n",
    "    s += \"{} & {}\\% & {}\\% & {} & {}\\% & {}\\% & {}\\\\\\\\\\n\".format(\n",
    "        i,\n",
    "        round((1-(df_realseq_eul[df_realseq_eul['sequence']==i]['edit_distance']/df_realseq_eul[df_realseq_eul['sequence']==i]['target_sequence_length'])).mean()*100,3),\n",
    "        round((1-(df_realseq_eul[df_realseq_eul['sequence']==i]['edit_distance']/df_realseq_eul[df_realseq_eul['sequence']==i]['target_sequence_length'])).std()*100,3),\n",
    "        round(df_realseq_eul_mean.loc[i][['de_bruijn_graph_construction_time','euler_path_reconstruction_time']].sum(),3),\n",
    "        round((1-(df_real_seq[df_real_seq['sequence']==i]['edit_distance']/df_real_seq[df_real_seq['sequence']==i]['target_sequence_length'])).mean()*100,3),\n",
    "        round((1-(df_real_seq[df_real_seq['sequence']==i]['edit_distance']/df_real_seq[df_real_seq['sequence']==i]['target_sequence_length'])).std()*100,3),\n",
    "        round(df_real_seq_mean.loc[i][['adjacency_matrix_construction_time','sequence_reconstruction_time','suffix_array_construction_time']].sum(),3)\n",
    "    )\n",
    "print(s)"
   ]
  },
  {
   "cell_type": "code",
   "execution_count": null,
   "metadata": {},
   "outputs": [],
   "source": []
  }
 ],
 "metadata": {
  "kernelspec": {
   "display_name": "Python 3",
   "language": "python",
   "name": "python3"
  },
  "language_info": {
   "codemirror_mode": {
    "name": "ipython",
    "version": 3
   },
   "file_extension": ".py",
   "mimetype": "text/x-python",
   "name": "python",
   "nbconvert_exporter": "python",
   "pygments_lexer": "ipython3",
   "version": "3.9.13"
  },
  "orig_nbformat": 4
 },
 "nbformat": 4,
 "nbformat_minor": 2
}
