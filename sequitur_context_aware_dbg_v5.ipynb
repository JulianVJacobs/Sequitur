{
 "cells": [
  {
   "cell_type": "markdown",
   "metadata": {},
   "source": [
    "*to handle errors and diploidy*:\n",
    "    \n",
    "    1. find every unsequenced read\n",
    "    2. see if the unsequenced reads exist in the constructed sequence\n",
    "    3. construct sequences with unseen reads until they combine with a sequenced read in both directions\n",
    "    4. sort kmers by frequency of kmer occurence in all reads, more frequent kmers are more likely polyploidy and less frequent kmers are more likely error"
   ]
  },
  {
   "cell_type": "code",
   "execution_count": 10,
   "metadata": {},
   "outputs": [],
   "source": [
    "import random"
   ]
  },
  {
   "cell_type": "code",
   "execution_count": 38,
   "metadata": {},
   "outputs": [],
   "source": [
    "class Sequitur:\n",
    "    def __init__(self,initial,read=None):\n",
    "        self.sequence = initial\n",
    "        self.reads = []\n",
    "        if read: self.reads = [read]\n",
    "\n",
    "    def __repr__(self): return self.sequence\n",
    "\n",
    "    def __getitem__(self,key): return self.sequence[key]\n",
    "\n",
    "    def __eq__(self,other): return self.sequence == other\n",
    "\n",
    "    def __add__(self,other): \n",
    "        self.sequence += other\n",
    "        return self\n",
    "\n",
    "    def __radd__(self,other): \n",
    "        self.sequence = other + self.sequence\n",
    "        return self\n",
    "\n",
    "    def partition(self,root): return self.sequence.rpartition(root)\n",
    "\n",
    "    def rpartition(self,root): return self.sequence.rpartition(root)"
   ]
  },
  {
   "cell_type": "code",
   "execution_count": 39,
   "metadata": {},
   "outputs": [],
   "source": [
    "''' \n",
    "The read is held by a leaf and sustains their uniqueness and ensures they're added to the sequence at most once.\n",
    "'''\n",
    "class Read:\n",
    "    def __init__(self,read):\n",
    "        self.read = read\n",
    "        self.is_sequenced = False\n",
    "\n",
    "    def partition(self,root,dir):\n",
    "        if dir: return Node(self.read.rpartition(root)[0],dir), self.read.rpartition(root)[2]\n",
    "        else: return Node(self.read.partition(root)[2],dir), self.read.partition(root)[0]"
   ]
  },
  {
   "cell_type": "code",
   "execution_count": 40,
   "metadata": {},
   "outputs": [],
   "source": [
    "'''\n",
    "A leaf is the end point of a branch and can only the gained information. \n",
    "Every Trie must have a leaf for every read containing the root\n",
    "Leaves can become branches\n",
    "'''\n",
    "class Leaf:\n",
    "    def __init__(self,context,information,read):\n",
    "        self.context = context\n",
    "        if len(information) == 0: self.information = '$'\n",
    "        else: self.information = information\n",
    "        self.read = read\n",
    "\n",
    "    def __repr__(self): return str(self.information)\n",
    "    \n",
    "    def branch(self,context):\n",
    "        stalk = \"\"\n",
    "        i = 0\n",
    "        while i < min(len(context.stalk),len(self.context.stalk)) and context[i] == self.context[i]: \n",
    "            stalk += context[i]\n",
    "            i += 1\n",
    "        return stalk,self.context.stalk[len(stalk):]"
   ]
  },
  {
   "cell_type": "code",
   "execution_count": 41,
   "metadata": {},
   "outputs": [],
   "source": [
    "'''\n",
    "The node is a convenience class for accessing the branch\n",
    "'''\n",
    "class Node:\n",
    "    def __init__(self,stalk,dir=0):\n",
    "        if len(stalk) > 0: self.stalk = stalk\n",
    "        else: self.stalk = \"^\"\n",
    "        self.reversed = False\n",
    "        if dir: \n",
    "            self.stalk = ''.join(reversed(self.stalk))\n",
    "            self.reversed = True\n",
    "\n",
    "    def __eq__(self,other): return self.stalk[0] == other.stalk[0]\n",
    "\n",
    "    def __hash__(self): return hash(self.stalk[0])\n",
    "\n",
    "    def __getitem__(self,index): return self.stalk[index]\n",
    "\n",
    "    def __repr__(self): return self.stalk\n",
    "\n",
    "    def __len__(self):\n",
    "        if self.stalk == '^': return 0\n",
    "        else: return len(self.stalk)"
   ]
  },
  {
   "cell_type": "code",
   "execution_count": 49,
   "metadata": {},
   "outputs": [],
   "source": [
    "'''\n",
    "A branch has either a collection of branches or a collection of leaves\n",
    "Every branch must have at least 1 leaf\n",
    "'''\n",
    "class Branch:\n",
    "    def __init__(self,root,network,node=None,foothold=None):\n",
    "        self.branches = {}\n",
    "        self.leaves = {}\n",
    "        self.root = root\n",
    "        self.network = network\n",
    "        self.node = node\n",
    "        self.foothold = foothold\n",
    "\n",
    "    def grow(self,leaf,dir):\n",
    "        leaf.context.stalk = leaf.context[len(self.node):]\n",
    "        node = Node('',dir)\n",
    "        if leaf.context.stalk == '':\n",
    "            leaf.context.stalk = '^'\n",
    "            if node in self.leaves: self.leaves[node] += [leaf]\n",
    "            else: self.leaves[node] = [leaf]\n",
    "        else:\n",
    "            stalk = ''\n",
    "            new_leaves = []\n",
    "            for l in list(self.leaves):\n",
    "                s = leaf.branch(l)[0]\n",
    "                if len(s) == 0: continue\n",
    "                elif len(stalk) == 0 or len(s) < len(stalk): \n",
    "                    stalk = s\n",
    "                    new_leaves += [(l,self.leaves.pop(l))]\n",
    "            if len(stalk) > 0: node.stalk = stalk\n",
    "            self.branches[node] = Branch(self.root,self.network,node,self)\n",
    "            for l in new_leaves:\n",
    "                l[0].stalk = l[0][len(node):]\n",
    "                if l[0].stalk == '':\n",
    "                    l[0].stalk = '^'\n",
    "                    if l[0] in self.branches[node]: self.branches[node].leaves[l[0]] += l[1]\n",
    "                    else: self.branches[node].leaves[l[0]] = [l[1]]\n",
    "                else: self.branches[node].leaves[l[0]] = l[1]\n",
    "            leaf.context.stalk = leaf.context.stalk[len(node):]\n",
    "            if leaf.context.stalk == '':\n",
    "                leaf.context.stalk = '^'\n",
    "                if leaf.context in self.branches[node].leaves: self.branches[node].leaves[leaf.context] += [leaf]\n",
    "                else: self.branches[node].leaves[leaf.context] = [leaf]\n",
    "            else: self.branches[node].leaves[leaf.context] = leaf\n",
    "\n",
    "    def climb(self,sequence,dir,stalk='',join_at=None):\n",
    "        if type(self) == Root:\n",
    "            stalk = self.root\n",
    "            if dir: context,_,_ = sequence.rpartition(stalk)\n",
    "            else: _,_,context = sequence.partition(stalk)\n",
    "        else:\n",
    "            stalk += self.node.stalk\n",
    "            if dir: context,_,_ = sequence.rpartition(stalk)\n",
    "            else: _,_,context = sequence.partition(stalk)\n",
    "        context = Node(context,dir)\n",
    "        if context in self.branches: return self.branches[context].climb(sequence,dir,stalk,join_at)\n",
    "        else: \n",
    "            if context in self.leaves and not context.stalk == '^' and not self.leaves[context].read.is_sequenced: \n",
    "                if dir: sequence += self.leaves[context].information\n",
    "                else: sequence = self.leaves[context].information + sequence\n",
    "                self.leaves[context].read.is_sequenced = True\n",
    "                sequence.reads += [self.leaves[context].read]\n",
    "                return sequence\n",
    "            else:\n",
    "                carat = Node('^',dir) \n",
    "                if carat in self.leaves:\n",
    "                    if len(self.leaves[carat]) == 1:\n",
    "                        if dir: sequence += self.leaves[carat][0].information\n",
    "                        else: sequence = self.leaves[carat][0].information + sequence\n",
    "                        self.leaves[carat][0].read.is_sequenced = True\n",
    "                        sequence.reads += [self.leaves[carat][0].read]\n",
    "                        return sequence\n",
    "                    else:\n",
    "                        sequence.reads[-1].is_sequenced = False\n",
    "                        for leaf in self.leaves[carat]:\n",
    "                            if self.network.get_root(Sequitur(leaf.read.read),not dir).grow(Sequitur(leaf.read.read),not dir,sequence.reads[-1]):\n",
    "                                if dir: sequence += leaf.information\n",
    "                                else: sequence = leaf.information + sequence\n",
    "                                leaf.read.is_sequenced = True\n",
    "                                sequence.reads += [leaf.read]\n",
    "                                return sequence\n",
    "                            else:\n",
    "                               # TODO: should i figure out a read combining thing so that no work is wasted?\n",
    "                                leaf.read.is_sequenced = False\n",
    "                        sequence.reads[-1].is_sequenced = True\n",
    "                if self.foothold:\n",
    "                    return self.descend(sequence,dir,stalk[len(self.node.stalk):])\n",
    "                else: \n",
    "                    if dir: return sequence + '$'\n",
    "                    else: return '^' + sequence\n",
    "\n",
    "    def descend(self,sequence,dir,stalk):\n",
    "        carat = Node('',dir)\n",
    "        if carat in self.foothold.leaves:\n",
    "            if len(self.foothold.leaves[carat]) == 1:\n",
    "                if dir: sequence += self.foothold.leaves[carat][0].information\n",
    "                else: sequence = self.foothold.leaves[carat][0].information + sequence\n",
    "                self.foothold.leaves[carat][0].read.is_sequenced = True\n",
    "                sequence.reads += [self.foothold.leaves[carat][0].read]\n",
    "                return sequence\n",
    "            else:\n",
    "                sequence.reads[-1].is_sequenced = False\n",
    "                for leaf in self.foothold.leaves[carat]:\n",
    "                    if self.network.get_root(Sequitur(leaf.read.read),not dir).grow(Sequitur(leaf.read.read),not dir,sequence.reads[-1]):\n",
    "                        if dir: sequence += leaf.information\n",
    "                        else: sequence = leaf.information + sequence\n",
    "                        leaf.read.is_sequenced = True\n",
    "                        sequence.reads += [leaf.read]\n",
    "                        return sequence\n",
    "                    else:\n",
    "                        # TODO: should i figure out a read combining thing so that no work is wasted?\n",
    "                        leaf.read.is_sequenced = False\n",
    "        if dir: return sequence + '$'\n",
    "        else: return '^' + sequence\n",
    "\n"
   ]
  },
  {
   "cell_type": "code",
   "execution_count": 50,
   "metadata": {},
   "outputs": [],
   "source": [
    "'''\n",
    "A root is a branch with a connection to the network and a list of the reads it comprises of.\n",
    "It can have a collection of branches and leaves.\n",
    "'''\n",
    "class Root(Branch):\n",
    "    def __init__(self,root,network):\n",
    "        super().__init__(root,network)\n",
    "        self.reads = []\n",
    "\n",
    "    def __repr__(self):\n",
    "        return self.root\n",
    "        \n",
    "    def add_read(self,read):\n",
    "        self.reads += [read]\n",
    "        self.network.reads += [read]\n",
    "\n",
    "    def grow(self,sequence,dir,join_at=None):\n",
    "        if len(self.reads) > 0: \n",
    "            if len(self.leaves) == 0: self.sprout(sequence,dir)\n",
    "            else: \n",
    "                read = self.reads.pop()\n",
    "                while read.is_sequenced and len(self.reads) > 0: read = self.reads.pop()\n",
    "                if not read.is_sequenced:\n",
    "                    context,information = read.partition(self.root,dir)\n",
    "                    if context in self.leaves: \n",
    "                        node = Node(self.leaves[context].branch(context)[0])\n",
    "                        self.branches[node] = Branch(self.root,self.network,node)\n",
    "                        self.leaves[context].context = Node(self.leaves[context].context.stalk.partition(node.stalk)[2])\n",
    "                        if self.leaves[context].context.stalk == '^': \n",
    "                            if self.leaves[context].context in self.branches[node].leaves: self.branches[node].leaves[self.leaves[context].context] += [Leaf(self.leaves[context].context,self.leaves[context].information,self.leaves[context].read)]\n",
    "                            else: self.branches[node].leaves[self.leaves[context].context] = [Leaf(self.leaves[context].context,self.leaves[context].information,self.leaves[context].read)]\n",
    "                        else: self.branches[node].leaves[self.leaves[context].context] = Leaf(self.leaves[context].context,self.leaves[context].information,self.leaves[context].read)\n",
    "                        self.leaves.pop(context)\n",
    "                        context = Node(context.stalk.partition(node.stalk)[2])\n",
    "                        if context.stalk == '^': \n",
    "                            if context in self.branches[node].leaves: self.branches[node].leaves[context] += [Leaf(context,information,read)]\n",
    "                            else: self.branches[node].leaves[context] = [Leaf(context,information,read)]\n",
    "                        else: self.branches[node].leaves[context] = Leaf(context,information,read)\n",
    "                    else: self.leaves[context] = [Leaf(context,information,read)]\n",
    "            return self.grow(sequence,dir,join_at)\n",
    "        else: \n",
    "            print(sequence)\n",
    "            sequence = self.climb(sequence,dir)\n",
    "            if join_at and join_at in sequence.reads: return True\n",
    "            elif join_at: return False\n",
    "            if sequence[0] == '^' and not dir: return self.network.get_root(sequence,1).grow(sequence,1)\n",
    "            elif sequence[0] == '^' and sequence[-1] == '$': return sequence\n",
    "            return self.network.get_root(sequence,dir).grow(sequence,dir)\n",
    "\n",
    "    # BUG: initial should start with and mark the initial read\n",
    "    def sprout(self,sequence,dir):\n",
    "        read = self.reads.pop()\n",
    "        while read.is_sequenced and len(self.reads) > 0: read = self.reads.pop()\n",
    "        if not read.is_sequenced:\n",
    "            context,information = read.partition(self.root,dir)\n",
    "            if read.read == sequence: \n",
    "                read.is_sequenced = True\n",
    "                sequence.reads += [read]\n",
    "            if len(self.branches) > 0 and context in self.branches: \n",
    "                leaf = Leaf(context,information,read)\n",
    "                self.branches[context].grow(Leaf(context,information,read),dir)\n",
    "            else: \n",
    "                if context.stalk == '^': self.leaves[context] = [Leaf(context,information,read)]\n",
    "                else: self.leaves[context] = Leaf(context,information,read)"
   ]
  },
  {
   "cell_type": "code",
   "execution_count": 44,
   "metadata": {},
   "outputs": [],
   "source": [
    "class RootNetwork:\n",
    "    def __init__(self,k):\n",
    "        self.roots = {}\n",
    "        self.reads = []\n",
    "        self.k = k\n",
    "\n",
    "    def __getitem__(self,key):\n",
    "        return self.roots[key]\n",
    "\n",
    "    def __contains__(self, key):\n",
    "        return key in self.roots\n",
    "\n",
    "    # dir = 1, context gain towards prefix\n",
    "    # dir = 0, context gain towards suffix\n",
    "    def build(self,sequence,dir=0): return self.get_root(sequence,dir).grow(sequence,dir)\n",
    "\n",
    "    def plant_trie(self,trie): self.roots[trie.root] = trie\n",
    "\n",
    "    def get_root(self,sequence,dir):\n",
    "        if dir: return self[sequence[-self.k:]]\n",
    "        else: return self[sequence[:self.k]]"
   ]
  },
  {
   "cell_type": "code",
   "execution_count": 52,
   "metadata": {},
   "outputs": [
    {
     "name": "stdout",
     "output_type": "stream",
     "text": [
      "ld, i bellow go t\n",
      "lo world, i bellow go t\n",
      " say hello world, i bellow go t\n",
      "you say hello world, i bellow go t\n",
      "^you say hello world, i bellow go t\n",
      "^you say hello world, i bellow go to hell\n"
     ]
    },
    {
     "data": {
      "text/plain": [
       "^you say hello world, i bellow go to hell$"
      ]
     },
     "execution_count": 52,
     "metadata": {},
     "output_type": "execute_result"
    }
   ],
   "source": [
    "k = 3\n",
    "r = RootNetwork(k)\n",
    "reads = {}\n",
    "for read in ['you say hel',\n",
    "                ' say hello wo',\n",
    "                        'lo world, i be',\n",
    "                              'ld, i bellow go t',\n",
    "                                        'ow go to hell']:\n",
    "    reads[read] = Read(read)\n",
    "    for i in range(len(read)-k+1):\n",
    "        if read[i:i+k] not in r: r.plant_trie(Root(read[i:i+k],r))\n",
    "        r[read[i:i+k]].add_read(reads[read])\n",
    "r.build(Sequitur('ld, i bellow go t'))"
   ]
  },
  {
   "cell_type": "code",
   "execution_count": 53,
   "metadata": {},
   "outputs": [
    {
     "name": "stdout",
     "output_type": "stream",
     "text": [
      " say hello wo\n",
      "you say hello wo\n",
      "^you say hello wo\n",
      "^you say hello world, i be\n",
      "^you say hello world, i bellow go t\n",
      "^you say hello world, i bellow go to hell\n"
     ]
    },
    {
     "data": {
      "text/plain": [
       "^you say hello world, i bellow go to hell$"
      ]
     },
     "execution_count": 53,
     "metadata": {},
     "output_type": "execute_result"
    }
   ],
   "source": [
    "k = 3\n",
    "r = RootNetwork(k)\n",
    "reads = {}\n",
    "for read in ['you say hel',\n",
    "                ' say hello wo',\n",
    "                        'lo world, i be',#'ld, i bellow go t',\n",
    "                              'ld, i bellow go t',\n",
    "                                        'ow go to hell']:\n",
    "    reads[read] = Read(read)\n",
    "    for i in range(len(read)-k+1):\n",
    "        if read[i:i+k] not in r: r.plant_trie(Root(read[i:i+k],r))\n",
    "        r[read[i:i+k]].add_read(reads[read])\n",
    "r.build(Sequitur(' say hello wo'))"
   ]
  },
  {
   "cell_type": "code",
   "execution_count": 51,
   "metadata": {},
   "outputs": [
    {
     "name": "stdout",
     "output_type": "stream",
     "text": [
      "shells_on_the_s\n",
      "ea_shells_o\n",
      "ea_shells_on_the_s\n",
      "lls_sea_shells_on_the_s\n",
      "she_sells_sea_shells_on_the_s\n",
      "ea_shells_o\n",
      "lls_sea_shel\n",
      "^she_sells_sea_shells_on_the_s\n",
      "^she_sells_sea_shells_on_the_sea_s\n",
      "^she_sells_sea_shells_on_the_sea_shore\n"
     ]
    },
    {
     "data": {
      "text/plain": [
       "^she_sells_sea_shells_on_the_sea_shore$"
      ]
     },
     "execution_count": 51,
     "metadata": {},
     "output_type": "execute_result"
    }
   ],
   "source": [
    "k = 3\n",
    "r = RootNetwork(k)\n",
    "reads = {}\n",
    "for read in ['she_sells_s',\n",
    "                   'lls_sea_shel',\n",
    "                        'ea_shells_o',\n",
    "                           'shells_on_the_s',\n",
    "                                      'he_sea_s',\n",
    "                                          'ea_shore']:\n",
    "    reads[read] = Read(read)\n",
    "    for i in range(len(read)-k+1):\n",
    "        if read[i:i+k] not in r: r.plant_trie(Root(read[i:i+k],r))\n",
    "        r[read[i:i+k]].add_read(reads[read])\n",
    "r.build(Sequitur('shells_on_the_s'))"
   ]
  },
  {
   "cell_type": "code",
   "execution_count": 11,
   "metadata": {},
   "outputs": [
    {
     "name": "stdout",
     "output_type": "stream",
     "text": [
      "he_sea_s\n",
      "^he_sea_s\n"
     ]
    },
    {
     "data": {
      "text/plain": [
       "'^he_sea_s$'"
      ]
     },
     "execution_count": 11,
     "metadata": {},
     "output_type": "execute_result"
    }
   ],
   "source": [
    "k = 3\n",
    "r = RootNetwork(k)\n",
    "reads = {}\n",
    "for read in ['she_sells_s', # works\n",
    "                   'lls_sea_shel', # works\n",
    "                        'ea_shells_o', # works\n",
    "                           'shells_on_the_s', # works\n",
    "                                      'he_sea_s', # incorrect output BUG: backtracking when the extended context diverges and no longer matches\n",
    "                                          'ea_shore']: # incorrect output\n",
    "    reads[read] = Read(read)\n",
    "    for i in range(len(read)-k+1):\n",
    "        if read[i:i+k] not in r: r.plant_trie(Root(read[i:i+k],r))\n",
    "        r[read[i:i+k]].add_read(reads[read])\n",
    "r.build(Sequitur('he_sea_s'))"
   ]
  },
  {
   "cell_type": "code",
   "execution_count": 29,
   "metadata": {},
   "outputs": [
    {
     "name": "stdout",
     "output_type": "stream",
     "text": [
      "tty_bought_better_butter_t\n"
     ]
    },
    {
     "ename": "AttributeError",
     "evalue": "'list' object has no attribute 'read'",
     "output_type": "error",
     "traceback": [
      "\u001b[1;31m---------------------------------------------------------------------------\u001b[0m",
      "\u001b[1;31mAttributeError\u001b[0m                            Traceback (most recent call last)",
      "\u001b[1;32mc:\\Users\\Julian Jacobs\\Documents\\GitHub\\Sequitur\\sequitur_context_aware_dbg_v5.ipynb Cell 14\u001b[0m in \u001b[0;36m<module>\u001b[1;34m\u001b[0m\n\u001b[0;32m     <a href='vscode-notebook-cell:/c%3A/Users/Julian%20Jacobs/Documents/GitHub/Sequitur/sequitur_context_aware_dbg_v5.ipynb#ch0000011?line=14'>15</a>\u001b[0m         \u001b[39mif\u001b[39;00m read[i:i\u001b[39m+\u001b[39mk] \u001b[39mnot\u001b[39;00m \u001b[39min\u001b[39;00m r: r\u001b[39m.\u001b[39mplant_trie(Root(read[i:i\u001b[39m+\u001b[39mk],r))\n\u001b[0;32m     <a href='vscode-notebook-cell:/c%3A/Users/Julian%20Jacobs/Documents/GitHub/Sequitur/sequitur_context_aware_dbg_v5.ipynb#ch0000011?line=15'>16</a>\u001b[0m         r[read[i:i\u001b[39m+\u001b[39mk]]\u001b[39m.\u001b[39madd_read(reads[read])\n\u001b[1;32m---> <a href='vscode-notebook-cell:/c%3A/Users/Julian%20Jacobs/Documents/GitHub/Sequitur/sequitur_context_aware_dbg_v5.ipynb#ch0000011?line=16'>17</a>\u001b[0m r\u001b[39m.\u001b[39;49mbuild(initial_read)\n",
      "\u001b[1;32mc:\\Users\\Julian Jacobs\\Documents\\GitHub\\Sequitur\\sequitur_context_aware_dbg_v5.ipynb Cell 14\u001b[0m in \u001b[0;36mRootNetwork.build\u001b[1;34m(self, sequence, dir, initial)\u001b[0m\n\u001b[0;32m     <a href='vscode-notebook-cell:/c%3A/Users/Julian%20Jacobs/Documents/GitHub/Sequitur/sequitur_context_aware_dbg_v5.ipynb#ch0000011?line=14'>15</a>\u001b[0m \u001b[39mdef\u001b[39;00m \u001b[39mbuild\u001b[39m(\u001b[39mself\u001b[39m,sequence,\u001b[39mdir\u001b[39m\u001b[39m=\u001b[39m\u001b[39m0\u001b[39m,initial\u001b[39m=\u001b[39m\u001b[39mTrue\u001b[39;00m):\n\u001b[1;32m---> <a href='vscode-notebook-cell:/c%3A/Users/Julian%20Jacobs/Documents/GitHub/Sequitur/sequitur_context_aware_dbg_v5.ipynb#ch0000011?line=15'>16</a>\u001b[0m     \u001b[39mreturn\u001b[39;00m \u001b[39mself\u001b[39;49m\u001b[39m.\u001b[39;49mget_root(sequence,\u001b[39mdir\u001b[39;49m)\u001b[39m.\u001b[39;49mgrow(sequence,\u001b[39mdir\u001b[39;49m,initial)\n",
      "\u001b[1;32mc:\\Users\\Julian Jacobs\\Documents\\GitHub\\Sequitur\\sequitur_context_aware_dbg_v5.ipynb Cell 14\u001b[0m in \u001b[0;36mRoot.grow\u001b[1;34m(self, sequence, dir, initial)\u001b[0m\n\u001b[0;32m     <a href='vscode-notebook-cell:/c%3A/Users/Julian%20Jacobs/Documents/GitHub/Sequitur/sequitur_context_aware_dbg_v5.ipynb#ch0000011?line=48'>49</a>\u001b[0m                 \u001b[39melse\u001b[39;00m: \u001b[39mself\u001b[39m\u001b[39m.\u001b[39mbranches[node]\u001b[39m.\u001b[39mleaves[context] \u001b[39m=\u001b[39m Leaf(context,information,read)\n\u001b[0;32m     <a href='vscode-notebook-cell:/c%3A/Users/Julian%20Jacobs/Documents/GitHub/Sequitur/sequitur_context_aware_dbg_v5.ipynb#ch0000011?line=49'>50</a>\u001b[0m             \u001b[39melse\u001b[39;00m: \u001b[39mself\u001b[39m\u001b[39m.\u001b[39mleaves[context] \u001b[39m=\u001b[39m [Leaf(context,information,read)]\n\u001b[1;32m---> <a href='vscode-notebook-cell:/c%3A/Users/Julian%20Jacobs/Documents/GitHub/Sequitur/sequitur_context_aware_dbg_v5.ipynb#ch0000011?line=50'>51</a>\u001b[0m     \u001b[39mreturn\u001b[39;00m \u001b[39mself\u001b[39;49m\u001b[39m.\u001b[39;49mgrow(sequence,\u001b[39mdir\u001b[39;49m)\n\u001b[0;32m     <a href='vscode-notebook-cell:/c%3A/Users/Julian%20Jacobs/Documents/GitHub/Sequitur/sequitur_context_aware_dbg_v5.ipynb#ch0000011?line=51'>52</a>\u001b[0m \u001b[39melse\u001b[39;00m: \n\u001b[0;32m     <a href='vscode-notebook-cell:/c%3A/Users/Julian%20Jacobs/Documents/GitHub/Sequitur/sequitur_context_aware_dbg_v5.ipynb#ch0000011?line=52'>53</a>\u001b[0m     \u001b[39mprint\u001b[39m(sequence)\n",
      "\u001b[1;32mc:\\Users\\Julian Jacobs\\Documents\\GitHub\\Sequitur\\sequitur_context_aware_dbg_v5.ipynb Cell 14\u001b[0m in \u001b[0;36mRoot.grow\u001b[1;34m(self, sequence, dir, initial)\u001b[0m\n\u001b[0;32m     <a href='vscode-notebook-cell:/c%3A/Users/Julian%20Jacobs/Documents/GitHub/Sequitur/sequitur_context_aware_dbg_v5.ipynb#ch0000011?line=48'>49</a>\u001b[0m                 \u001b[39melse\u001b[39;00m: \u001b[39mself\u001b[39m\u001b[39m.\u001b[39mbranches[node]\u001b[39m.\u001b[39mleaves[context] \u001b[39m=\u001b[39m Leaf(context,information,read)\n\u001b[0;32m     <a href='vscode-notebook-cell:/c%3A/Users/Julian%20Jacobs/Documents/GitHub/Sequitur/sequitur_context_aware_dbg_v5.ipynb#ch0000011?line=49'>50</a>\u001b[0m             \u001b[39melse\u001b[39;00m: \u001b[39mself\u001b[39m\u001b[39m.\u001b[39mleaves[context] \u001b[39m=\u001b[39m [Leaf(context,information,read)]\n\u001b[1;32m---> <a href='vscode-notebook-cell:/c%3A/Users/Julian%20Jacobs/Documents/GitHub/Sequitur/sequitur_context_aware_dbg_v5.ipynb#ch0000011?line=50'>51</a>\u001b[0m     \u001b[39mreturn\u001b[39;00m \u001b[39mself\u001b[39;49m\u001b[39m.\u001b[39;49mgrow(sequence,\u001b[39mdir\u001b[39;49m)\n\u001b[0;32m     <a href='vscode-notebook-cell:/c%3A/Users/Julian%20Jacobs/Documents/GitHub/Sequitur/sequitur_context_aware_dbg_v5.ipynb#ch0000011?line=51'>52</a>\u001b[0m \u001b[39melse\u001b[39;00m: \n\u001b[0;32m     <a href='vscode-notebook-cell:/c%3A/Users/Julian%20Jacobs/Documents/GitHub/Sequitur/sequitur_context_aware_dbg_v5.ipynb#ch0000011?line=52'>53</a>\u001b[0m     \u001b[39mprint\u001b[39m(sequence)\n",
      "\u001b[1;32mc:\\Users\\Julian Jacobs\\Documents\\GitHub\\Sequitur\\sequitur_context_aware_dbg_v5.ipynb Cell 14\u001b[0m in \u001b[0;36mRoot.grow\u001b[1;34m(self, sequence, dir, initial)\u001b[0m\n\u001b[0;32m     <a href='vscode-notebook-cell:/c%3A/Users/Julian%20Jacobs/Documents/GitHub/Sequitur/sequitur_context_aware_dbg_v5.ipynb#ch0000011?line=48'>49</a>\u001b[0m                 \u001b[39melse\u001b[39;00m: \u001b[39mself\u001b[39m\u001b[39m.\u001b[39mbranches[node]\u001b[39m.\u001b[39mleaves[context] \u001b[39m=\u001b[39m Leaf(context,information,read)\n\u001b[0;32m     <a href='vscode-notebook-cell:/c%3A/Users/Julian%20Jacobs/Documents/GitHub/Sequitur/sequitur_context_aware_dbg_v5.ipynb#ch0000011?line=49'>50</a>\u001b[0m             \u001b[39melse\u001b[39;00m: \u001b[39mself\u001b[39m\u001b[39m.\u001b[39mleaves[context] \u001b[39m=\u001b[39m [Leaf(context,information,read)]\n\u001b[1;32m---> <a href='vscode-notebook-cell:/c%3A/Users/Julian%20Jacobs/Documents/GitHub/Sequitur/sequitur_context_aware_dbg_v5.ipynb#ch0000011?line=50'>51</a>\u001b[0m     \u001b[39mreturn\u001b[39;00m \u001b[39mself\u001b[39;49m\u001b[39m.\u001b[39;49mgrow(sequence,\u001b[39mdir\u001b[39;49m)\n\u001b[0;32m     <a href='vscode-notebook-cell:/c%3A/Users/Julian%20Jacobs/Documents/GitHub/Sequitur/sequitur_context_aware_dbg_v5.ipynb#ch0000011?line=51'>52</a>\u001b[0m \u001b[39melse\u001b[39;00m: \n\u001b[0;32m     <a href='vscode-notebook-cell:/c%3A/Users/Julian%20Jacobs/Documents/GitHub/Sequitur/sequitur_context_aware_dbg_v5.ipynb#ch0000011?line=52'>53</a>\u001b[0m     \u001b[39mprint\u001b[39m(sequence)\n",
      "\u001b[1;32mc:\\Users\\Julian Jacobs\\Documents\\GitHub\\Sequitur\\sequitur_context_aware_dbg_v5.ipynb Cell 14\u001b[0m in \u001b[0;36mRoot.grow\u001b[1;34m(self, sequence, dir, initial)\u001b[0m\n\u001b[0;32m     <a href='vscode-notebook-cell:/c%3A/Users/Julian%20Jacobs/Documents/GitHub/Sequitur/sequitur_context_aware_dbg_v5.ipynb#ch0000011?line=51'>52</a>\u001b[0m \u001b[39melse\u001b[39;00m: \n\u001b[0;32m     <a href='vscode-notebook-cell:/c%3A/Users/Julian%20Jacobs/Documents/GitHub/Sequitur/sequitur_context_aware_dbg_v5.ipynb#ch0000011?line=52'>53</a>\u001b[0m     \u001b[39mprint\u001b[39m(sequence)\n\u001b[1;32m---> <a href='vscode-notebook-cell:/c%3A/Users/Julian%20Jacobs/Documents/GitHub/Sequitur/sequitur_context_aware_dbg_v5.ipynb#ch0000011?line=53'>54</a>\u001b[0m     sequence \u001b[39m=\u001b[39m \u001b[39mself\u001b[39;49m\u001b[39m.\u001b[39;49mclimb(sequence,\u001b[39mdir\u001b[39;49m) \n\u001b[0;32m     <a href='vscode-notebook-cell:/c%3A/Users/Julian%20Jacobs/Documents/GitHub/Sequitur/sequitur_context_aware_dbg_v5.ipynb#ch0000011?line=54'>55</a>\u001b[0m     \u001b[39mif\u001b[39;00m sequence[\u001b[39m0\u001b[39m] \u001b[39m==\u001b[39m \u001b[39m'\u001b[39m\u001b[39m^\u001b[39m\u001b[39m'\u001b[39m \u001b[39mand\u001b[39;00m \u001b[39mnot\u001b[39;00m \u001b[39mdir\u001b[39m: \u001b[39mreturn\u001b[39;00m \u001b[39mself\u001b[39m\u001b[39m.\u001b[39mnetwork\u001b[39m.\u001b[39mget_root(sequence,\u001b[39m1\u001b[39m)\u001b[39m.\u001b[39mgrow(sequence,\u001b[39m1\u001b[39m)\n\u001b[0;32m     <a href='vscode-notebook-cell:/c%3A/Users/Julian%20Jacobs/Documents/GitHub/Sequitur/sequitur_context_aware_dbg_v5.ipynb#ch0000011?line=55'>56</a>\u001b[0m     \u001b[39melif\u001b[39;00m sequence[\u001b[39m-\u001b[39m\u001b[39m1\u001b[39m] \u001b[39m==\u001b[39m \u001b[39m'\u001b[39m\u001b[39m$\u001b[39m\u001b[39m'\u001b[39m: \u001b[39mreturn\u001b[39;00m sequence\n",
      "\u001b[1;32mc:\\Users\\Julian Jacobs\\Documents\\GitHub\\Sequitur\\sequitur_context_aware_dbg_v5.ipynb Cell 14\u001b[0m in \u001b[0;36mBranch.climb\u001b[1;34m(self, sequence, dir, careful)\u001b[0m\n\u001b[0;32m     <a href='vscode-notebook-cell:/c%3A/Users/Julian%20Jacobs/Documents/GitHub/Sequitur/sequitur_context_aware_dbg_v5.ipynb#ch0000011?line=30'>31</a>\u001b[0m     \u001b[39melse\u001b[39;00m: _,_,context \u001b[39m=\u001b[39m sequence\u001b[39m.\u001b[39mpartition(\u001b[39mself\u001b[39m\u001b[39m.\u001b[39mnode\u001b[39m.\u001b[39mstalk)\n\u001b[0;32m     <a href='vscode-notebook-cell:/c%3A/Users/Julian%20Jacobs/Documents/GitHub/Sequitur/sequitur_context_aware_dbg_v5.ipynb#ch0000011?line=31'>32</a>\u001b[0m context \u001b[39m=\u001b[39m Node(context,\u001b[39mdir\u001b[39m)\n\u001b[1;32m---> <a href='vscode-notebook-cell:/c%3A/Users/Julian%20Jacobs/Documents/GitHub/Sequitur/sequitur_context_aware_dbg_v5.ipynb#ch0000011?line=32'>33</a>\u001b[0m \u001b[39mif\u001b[39;00m context \u001b[39min\u001b[39;00m \u001b[39mself\u001b[39m\u001b[39m.\u001b[39mbranches: \u001b[39mreturn\u001b[39;00m \u001b[39mself\u001b[39;49m\u001b[39m.\u001b[39;49mbranches[context]\u001b[39m.\u001b[39;49mclimb(sequence,\u001b[39mdir\u001b[39;49m)\n\u001b[0;32m     <a href='vscode-notebook-cell:/c%3A/Users/Julian%20Jacobs/Documents/GitHub/Sequitur/sequitur_context_aware_dbg_v5.ipynb#ch0000011?line=33'>34</a>\u001b[0m \u001b[39melse\u001b[39;00m: \n\u001b[0;32m     <a href='vscode-notebook-cell:/c%3A/Users/Julian%20Jacobs/Documents/GitHub/Sequitur/sequitur_context_aware_dbg_v5.ipynb#ch0000011?line=34'>35</a>\u001b[0m     \u001b[39mif\u001b[39;00m context \u001b[39min\u001b[39;00m \u001b[39mself\u001b[39m\u001b[39m.\u001b[39mleaves \u001b[39mand\u001b[39;00m \u001b[39mnot\u001b[39;00m \u001b[39mself\u001b[39m\u001b[39m.\u001b[39mleaves[context]\u001b[39m.\u001b[39mread\u001b[39m.\u001b[39mis_sequenced: \n",
      "\u001b[1;32mc:\\Users\\Julian Jacobs\\Documents\\GitHub\\Sequitur\\sequitur_context_aware_dbg_v5.ipynb Cell 14\u001b[0m in \u001b[0;36mBranch.climb\u001b[1;34m(self, sequence, dir, careful)\u001b[0m\n\u001b[0;32m     <a href='vscode-notebook-cell:/c%3A/Users/Julian%20Jacobs/Documents/GitHub/Sequitur/sequitur_context_aware_dbg_v5.ipynb#ch0000011?line=30'>31</a>\u001b[0m     \u001b[39melse\u001b[39;00m: _,_,context \u001b[39m=\u001b[39m sequence\u001b[39m.\u001b[39mpartition(\u001b[39mself\u001b[39m\u001b[39m.\u001b[39mnode\u001b[39m.\u001b[39mstalk)\n\u001b[0;32m     <a href='vscode-notebook-cell:/c%3A/Users/Julian%20Jacobs/Documents/GitHub/Sequitur/sequitur_context_aware_dbg_v5.ipynb#ch0000011?line=31'>32</a>\u001b[0m context \u001b[39m=\u001b[39m Node(context,\u001b[39mdir\u001b[39m)\n\u001b[1;32m---> <a href='vscode-notebook-cell:/c%3A/Users/Julian%20Jacobs/Documents/GitHub/Sequitur/sequitur_context_aware_dbg_v5.ipynb#ch0000011?line=32'>33</a>\u001b[0m \u001b[39mif\u001b[39;00m context \u001b[39min\u001b[39;00m \u001b[39mself\u001b[39m\u001b[39m.\u001b[39mbranches: \u001b[39mreturn\u001b[39;00m \u001b[39mself\u001b[39;49m\u001b[39m.\u001b[39;49mbranches[context]\u001b[39m.\u001b[39;49mclimb(sequence,\u001b[39mdir\u001b[39;49m)\n\u001b[0;32m     <a href='vscode-notebook-cell:/c%3A/Users/Julian%20Jacobs/Documents/GitHub/Sequitur/sequitur_context_aware_dbg_v5.ipynb#ch0000011?line=33'>34</a>\u001b[0m \u001b[39melse\u001b[39;00m: \n\u001b[0;32m     <a href='vscode-notebook-cell:/c%3A/Users/Julian%20Jacobs/Documents/GitHub/Sequitur/sequitur_context_aware_dbg_v5.ipynb#ch0000011?line=34'>35</a>\u001b[0m     \u001b[39mif\u001b[39;00m context \u001b[39min\u001b[39;00m \u001b[39mself\u001b[39m\u001b[39m.\u001b[39mleaves \u001b[39mand\u001b[39;00m \u001b[39mnot\u001b[39;00m \u001b[39mself\u001b[39m\u001b[39m.\u001b[39mleaves[context]\u001b[39m.\u001b[39mread\u001b[39m.\u001b[39mis_sequenced: \n",
      "\u001b[1;32mc:\\Users\\Julian Jacobs\\Documents\\GitHub\\Sequitur\\sequitur_context_aware_dbg_v5.ipynb Cell 14\u001b[0m in \u001b[0;36mBranch.climb\u001b[1;34m(self, sequence, dir, careful)\u001b[0m\n\u001b[0;32m     <a href='vscode-notebook-cell:/c%3A/Users/Julian%20Jacobs/Documents/GitHub/Sequitur/sequitur_context_aware_dbg_v5.ipynb#ch0000011?line=32'>33</a>\u001b[0m \u001b[39mif\u001b[39;00m context \u001b[39min\u001b[39;00m \u001b[39mself\u001b[39m\u001b[39m.\u001b[39mbranches: \u001b[39mreturn\u001b[39;00m \u001b[39mself\u001b[39m\u001b[39m.\u001b[39mbranches[context]\u001b[39m.\u001b[39mclimb(sequence,\u001b[39mdir\u001b[39m)\n\u001b[0;32m     <a href='vscode-notebook-cell:/c%3A/Users/Julian%20Jacobs/Documents/GitHub/Sequitur/sequitur_context_aware_dbg_v5.ipynb#ch0000011?line=33'>34</a>\u001b[0m \u001b[39melse\u001b[39;00m: \n\u001b[1;32m---> <a href='vscode-notebook-cell:/c%3A/Users/Julian%20Jacobs/Documents/GitHub/Sequitur/sequitur_context_aware_dbg_v5.ipynb#ch0000011?line=34'>35</a>\u001b[0m     \u001b[39mif\u001b[39;00m context \u001b[39min\u001b[39;00m \u001b[39mself\u001b[39m\u001b[39m.\u001b[39mleaves \u001b[39mand\u001b[39;00m \u001b[39mnot\u001b[39;00m \u001b[39mself\u001b[39;49m\u001b[39m.\u001b[39;49mleaves[context]\u001b[39m.\u001b[39;49mread\u001b[39m.\u001b[39mis_sequenced: \n\u001b[0;32m     <a href='vscode-notebook-cell:/c%3A/Users/Julian%20Jacobs/Documents/GitHub/Sequitur/sequitur_context_aware_dbg_v5.ipynb#ch0000011?line=35'>36</a>\u001b[0m         \u001b[39mif\u001b[39;00m \u001b[39mdir\u001b[39m: sequence \u001b[39m+\u001b[39m\u001b[39m=\u001b[39m \u001b[39mself\u001b[39m\u001b[39m.\u001b[39mleaves[context]\u001b[39m.\u001b[39minformation\n\u001b[0;32m     <a href='vscode-notebook-cell:/c%3A/Users/Julian%20Jacobs/Documents/GitHub/Sequitur/sequitur_context_aware_dbg_v5.ipynb#ch0000011?line=36'>37</a>\u001b[0m         \u001b[39melse\u001b[39;00m: sequence \u001b[39m=\u001b[39m \u001b[39mself\u001b[39m\u001b[39m.\u001b[39mleaves[context]\u001b[39m.\u001b[39minformation \u001b[39m+\u001b[39m sequence\n",
      "\u001b[1;31mAttributeError\u001b[0m: 'list' object has no attribute 'read'"
     ]
    }
   ],
   "source": [
    "k = 3\n",
    "r = RootNetwork(k)\n",
    "reads = {}\n",
    "initial_read = 'tty_bought_better_butter_t'\n",
    "for read in ['betty_bought_butter_th',\n",
    "                            'tter_the_butter_was_',\n",
    "                                   'he_butter_was_bitter_',\n",
    "                                              'as_bitter_so_betty_bought',\n",
    "                                                             'tty_bought_better_butter_t',\n",
    "                                                                             'r_butter_to_make_the_',\n",
    "                                                                                    'r_to_make_the_bitt',\n",
    "                                                                                           'ke_the_bitter_butter_better']:\n",
    "    reads[read] = Read(read)\n",
    "    for i in range(len(read)-k+1):\n",
    "        if read[i:i+k] not in r: r.plant_trie(Root(read[i:i+k],r))\n",
    "        r[read[i:i+k]].add_read(reads[read])\n",
    "r.build(initial_read)"
   ]
  },
  {
   "cell_type": "code",
   "execution_count": null,
   "metadata": {},
   "outputs": [],
   "source": []
  }
 ],
 "metadata": {
  "interpreter": {
   "hash": "38731f125b301d8f0df7c54051f2a9a4c898c9398d16ef376d9fb7d661d33405"
  },
  "kernelspec": {
   "display_name": "Python 3.9.0 64-bit",
   "language": "python",
   "name": "python3"
  },
  "language_info": {
   "codemirror_mode": {
    "name": "ipython",
    "version": 3
   },
   "file_extension": ".py",
   "mimetype": "text/x-python",
   "name": "python",
   "nbconvert_exporter": "python",
   "pygments_lexer": "ipython3",
   "version": "3.9.0"
  },
  "orig_nbformat": 4
 },
 "nbformat": 4,
 "nbformat_minor": 2
}
