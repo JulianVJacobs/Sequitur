{
 "cells": [
  {
   "cell_type": "markdown",
   "metadata": {},
   "source": [
    "### Tasks\n",
    "- sprout_trie\n",
    "    - builds from root\n",
    "    - follows highest context path\n",
    "    - sprout_trie again\n",
    "- change_direction()\n",
    "    - if there is no solid growth option in direction 0, switch directions to possibly eliminate options\n",
    "- splice()\n",
    "    - if there are no solid options in either direction, separately build a candidate to possibly eliminate options\n",
    "- join()\n",
    "    - join 2 candidates\n",
    "    - maybe restart building process with candidates as new reads"
   ]
  },
  {
   "cell_type": "code",
   "execution_count": 107,
   "metadata": {},
   "outputs": [],
   "source": [
    "''' \n",
    "The read is held by a leaf and sustains their uniqueness and ensures they're added to the sequence at most once.\n",
    "'''\n",
    "class Read:\n",
    "    def __init__(self,read):\n",
    "        self.read = read\n",
    "        self.is_sequenced = False\n",
    "\n",
    "    def partition(self,root,dir):\n",
    "        if dir: return Node(self.read.partition(root)[0],dir), self.read.partition(root)[2]\n",
    "        else: return Node(self.read.partition(root)[2],dir), self.read.partition(root)[0]"
   ]
  },
  {
   "cell_type": "code",
   "execution_count": 108,
   "metadata": {},
   "outputs": [],
   "source": [
    "'''\n",
    "A leaf is the end point of a branch and can only the gained information. \n",
    "Every Trie must have a leaf for every read containing the root\n",
    "Leaves can become branches\n",
    "'''\n",
    "class Leaf:\n",
    "    def __init__(self,context,information,read):\n",
    "        self.context = context\n",
    "        self.information = information\n",
    "        self.read = read\n",
    "    \n",
    "    def branch(self,context,dir):\n",
    "        stalk = \"\"\n",
    "        i = 0\n",
    "        while i < min(len(context.stalk),len(self.context.stalk)) and context[i] == self.context[i]: \n",
    "            stalk += context[i]\n",
    "            i += 1\n",
    "        return stalk"
   ]
  },
  {
   "cell_type": "code",
   "execution_count": 109,
   "metadata": {},
   "outputs": [],
   "source": [
    "'''\n",
    "The node is a convenience class for accessing the branch\n",
    "'''\n",
    "class Node:\n",
    "    def __init__(self,stalk,dir):\n",
    "        if len(stalk) > 0: self.stalk = stalk\n",
    "        else: self.stalk = \"^\"\n",
    "        self.reversed = False\n",
    "        if dir: \n",
    "            self.stalk = ''.join(reversed(self.stalk))\n",
    "            self.reversed = True\n",
    "\n",
    "    def __eq__(self,other): return self.stalk[0] == other.stalk[0]\n",
    "\n",
    "    def __hash__(self): return hash(self.stalk[0])\n",
    "\n",
    "    def __getitem__(self,index): return self.stalk[index]"
   ]
  },
  {
   "cell_type": "code",
   "execution_count": 127,
   "metadata": {},
   "outputs": [],
   "source": [
    "'''\n",
    "A branch has either a collection of branches or a collection of leaves\n",
    "Every branch must have at least 1 leaf\n",
    "'''\n",
    "class Branch:\n",
    "    def __init__(self,root,network,node=None):\n",
    "        self.branches = {}\n",
    "        self.leaves = {}\n",
    "        self.root = root\n",
    "        self.network = network\n",
    "        self.node = node\n",
    "\n",
    "    def grow(self,sequence,dir,initial=False):\n",
    "        if len(self.reads) > 0: \n",
    "            if len(self.leaves) == 0:\n",
    "                self.sprout(dir,initial)\n",
    "            else: \n",
    "                read = self.reads.pop()\n",
    "                while read.is_sequenced and len(self.reads) > 0: read = self.reads.pop()\n",
    "                if not read.is_sequenced:\n",
    "                    context,information = read.partition(self.root,dir)\n",
    "                    if self.leaves[context]: \n",
    "                        node = Node(self.leaves[context].branch(context,dir),dir)\n",
    "                        self.branches[node] = Branch(self.root,self.network,node)\n",
    "                        if dir: self.leaves[context].context,_,_ = self.leaves[context].context.stalk.partition(node.stalk)\n",
    "                        else: _,_,self.leaves[context].context = self.leaves[context].context.stalk.partition(node.stalk)\n",
    "                        self.leaves[context].context = Node(self.leaves[context].context,dir)\n",
    "                        self.branches[node].leaves[self.leaves[context].context] = Leaf(context,information,self.leaves[context].read)\n",
    "                        self.leaves.pop(context)\n",
    "                        if dir: context,_,_ = context.stalk.partition(node.stalk)\n",
    "                        else: _,_,context = context.stalk.partition(node.stalk)\n",
    "                        context = Node(context,dir)\n",
    "                        self.branches[node].leaves[context] = Leaf(context,information,read)\n",
    "                    else: self.leaves[context] = Leaf(context,information,read)\n",
    "            return self.grow(sequence,dir)\n",
    "        else: \n",
    "            if len(self.branches) + len(self.leaves) == 0:\n",
    "                if dir: return sequence\n",
    "                return self.network.get_root(sequence,1).grow(sequence,1)\n",
    "            sequence = self.climb(sequence,dir) \n",
    "            return self.network.get_root(sequence,dir).grow(sequence,dir)\n",
    "\n",
    "    def climb(self,sequence,dir):\n",
    "        if type(self) == Root:\n",
    "            if dir: context,_,_ = sequence.partition(self.root)\n",
    "            else: _,_,context = sequence.partition(self.root)\n",
    "        else:\n",
    "            if dir: context,_,_ = sequence.partition(self.node.stalk)\n",
    "            else: _,_,context = sequence.partition(self.node.stalk)\n",
    "        context = Node(context,dir)\n",
    "        if context in self.branches: return self.branches[context].climb(sequence,dir)\n",
    "        else: \n",
    "            if not self.leaves[context].read.is_sequenced: \n",
    "                if dir: sequence += self.leaves[context].information\n",
    "                else: sequence = self.leaves[context].information + sequence\n",
    "                self.leaves[context].read.is_sequenced = True\n",
    "                return sequence\n",
    "            else:\n",
    "                carat = Node('^',dir) \n",
    "                if dir: sequence += self.leaves[carat].information\n",
    "                else: sequence = self.leaves[carat].information + sequence\n",
    "                self.leaves[carat].read.is_sequenced = True\n",
    "                return sequence\n",
    "\n",
    "    def is_dead(self):\n",
    "        for leaf in self.leaves.values(): \n",
    "            if leaf.read.is_sequenced: continue\n",
    "            else: return False\n",
    "        return True"
   ]
  },
  {
   "cell_type": "code",
   "execution_count": 128,
   "metadata": {},
   "outputs": [],
   "source": [
    "'''\n",
    "A root is a branch with a connection to the network and a list of the reads it comprises of.\n",
    "It can have a collection of branches and leaves.\n",
    "'''\n",
    "class Root(Branch):\n",
    "    def __init__(self,root,network):\n",
    "        super().__init__(root,network)\n",
    "        self.reads = []\n",
    "\n",
    "    def add_read(self,read):\n",
    "        self.reads += [read]\n",
    "\n",
    "    def sprout(self,dir,initial=False):\n",
    "        read = self.reads.pop()\n",
    "        while read.is_sequenced and len(self.reads) > 0: read = self.reads.pop()\n",
    "        if not read.is_sequenced:\n",
    "            context,information = read.partition(self.root,dir)\n",
    "            if initial: read.is_sequenced = True\n",
    "            self.leaves[context] = Leaf(context,information,read)"
   ]
  },
  {
   "cell_type": "code",
   "execution_count": 129,
   "metadata": {},
   "outputs": [],
   "source": [
    "class RootNetwork:\n",
    "    def __init__(self,k):\n",
    "        self.roots = {}\n",
    "        self.k = k\n",
    "\n",
    "    def __getitem__(self,key):\n",
    "        return self.roots[key]\n",
    "\n",
    "    def __contains__(self, key):\n",
    "        return key in self.roots\n",
    "\n",
    "    # dir = 1, context gain towards prefix\n",
    "    # dir = 0, context gain towards suffix\n",
    "    def build(self,sequence,dir=0,initial=True):\n",
    "        return self.get_root(sequence,dir).grow(sequence,dir,initial)\n",
    "\n",
    "    def plant_trie(self,trie):\n",
    "        self.roots[trie.root] = trie\n",
    "\n",
    "    def get_root(self,sequence,dir):\n",
    "        if dir: return self[sequence[-self.k:]]\n",
    "        else: return self[sequence[:self.k]]"
   ]
  },
  {
   "cell_type": "code",
   "execution_count": 135,
   "metadata": {},
   "outputs": [
    {
     "data": {
      "text/plain": [
       "'you say hello world, i bellow go to hell'"
      ]
     },
     "execution_count": 135,
     "metadata": {},
     "output_type": "execute_result"
    }
   ],
   "source": [
    "k = 3\n",
    "r = RootNetwork(k)\n",
    "reads = {}\n",
    "for read in ['you say hel',\n",
    "                ' say hello wo',\n",
    "                        'lo world, i be',#'ld, i bellow go t',\n",
    "                              'ld, i bellow go t',\n",
    "                                        'ow go to hell']:\n",
    "    reads[read] = Read(read)\n",
    "    for i in range(len(read)-k+1):\n",
    "        if read[i:i+k] not in r: r.plant_trie(Root(read[i:i+k],r))\n",
    "        r[read[i:i+k]].add_read(reads[read])\n",
    "r.build('ld, i bellow go t')"
   ]
  },
  {
   "cell_type": "code",
   "execution_count": 136,
   "metadata": {},
   "outputs": [
    {
     "data": {
      "text/plain": [
       "'you say hello world, i bellow go to hell'"
      ]
     },
     "execution_count": 136,
     "metadata": {},
     "output_type": "execute_result"
    }
   ],
   "source": [
    "k = 3\n",
    "r = RootNetwork(k)\n",
    "reads = {}\n",
    "for read in ['you say hel',\n",
    "                ' say hello wo',\n",
    "                        'lo world, i be',#'ld, i bellow go t',\n",
    "                              'ld, i bellow go t',\n",
    "                                        'ow go to hell']:\n",
    "    reads[read] = Read(read)\n",
    "    for i in range(len(read)-k+1):\n",
    "        if read[i:i+k] not in r: r.plant_trie(Root(read[i:i+k],r))\n",
    "        r[read[i:i+k]].add_read(reads[read])\n",
    "r.build(' say hello wo')"
   ]
  },
  {
   "cell_type": "code",
   "execution_count": 138,
   "metadata": {},
   "outputs": [],
   "source": [
    "k = 3\n",
    "r = RootNetwork(k)\n",
    "reads = {}\n",
    "for read in ['she_sells_s',\n",
    "                   'lls_sea_shel',\n",
    "                        'ea_shells_o',\n",
    "                           'shells_on_the_s',\n",
    "                                      'he_sea_s',\n",
    "                                          'ea_shore']:\n",
    "    reads[read] = Read(read)\n",
    "    for i in range(len(read)-k+1):\n",
    "        if read[i:i+k] not in r: r.plant_trie(Root(read[i:i+k],r))\n",
    "        r[read[i:i+k]].add_read(reads[read])"
   ]
  },
  {
   "cell_type": "code",
   "execution_count": 139,
   "metadata": {},
   "outputs": [
    {
     "ename": "KeyError",
     "evalue": "<__main__.Node object at 0x000001F6AB7B3220>",
     "output_type": "error",
     "traceback": [
      "\u001b[1;31m---------------------------------------------------------------------------\u001b[0m",
      "\u001b[1;31mKeyError\u001b[0m                                  Traceback (most recent call last)",
      "\u001b[1;32mc:\\Users\\Julian Jacobs\\Documents\\GitHub\\Sequitur\\sequitur_context_aware_dbg_v5.ipynb Cell 11\u001b[0m in \u001b[0;36m<module>\u001b[1;34m\u001b[0m\n\u001b[1;32m----> <a href='vscode-notebook-cell:/c%3A/Users/Julian%20Jacobs/Documents/GitHub/Sequitur/sequitur_context_aware_dbg_v5.ipynb#ch0000011?line=0'>1</a>\u001b[0m r\u001b[39m.\u001b[39;49mbuild(\u001b[39m'\u001b[39;49m\u001b[39mshells_on_the_s\u001b[39;49m\u001b[39m'\u001b[39;49m)\n",
      "\u001b[1;32mc:\\Users\\Julian Jacobs\\Documents\\GitHub\\Sequitur\\sequitur_context_aware_dbg_v5.ipynb Cell 11\u001b[0m in \u001b[0;36mRootNetwork.build\u001b[1;34m(self, sequence, dir, initial)\u001b[0m\n\u001b[0;32m     <a href='vscode-notebook-cell:/c%3A/Users/Julian%20Jacobs/Documents/GitHub/Sequitur/sequitur_context_aware_dbg_v5.ipynb#ch0000011?line=13'>14</a>\u001b[0m \u001b[39mdef\u001b[39;00m \u001b[39mbuild\u001b[39m(\u001b[39mself\u001b[39m,sequence,\u001b[39mdir\u001b[39m\u001b[39m=\u001b[39m\u001b[39m0\u001b[39m,initial\u001b[39m=\u001b[39m\u001b[39mTrue\u001b[39;00m):\n\u001b[1;32m---> <a href='vscode-notebook-cell:/c%3A/Users/Julian%20Jacobs/Documents/GitHub/Sequitur/sequitur_context_aware_dbg_v5.ipynb#ch0000011?line=14'>15</a>\u001b[0m     \u001b[39mreturn\u001b[39;00m \u001b[39mself\u001b[39;49m\u001b[39m.\u001b[39;49mget_root(sequence,\u001b[39mdir\u001b[39;49m)\u001b[39m.\u001b[39;49mgrow(sequence,\u001b[39mdir\u001b[39;49m,initial)\n",
      "\u001b[1;32mc:\\Users\\Julian Jacobs\\Documents\\GitHub\\Sequitur\\sequitur_context_aware_dbg_v5.ipynb Cell 11\u001b[0m in \u001b[0;36mBranch.grow\u001b[1;34m(self, sequence, dir, initial)\u001b[0m\n\u001b[0;32m     <a href='vscode-notebook-cell:/c%3A/Users/Julian%20Jacobs/Documents/GitHub/Sequitur/sequitur_context_aware_dbg_v5.ipynb#ch0000011?line=32'>33</a>\u001b[0m                 \u001b[39mself\u001b[39m\u001b[39m.\u001b[39mbranches[node]\u001b[39m.\u001b[39mleaves[context] \u001b[39m=\u001b[39m Leaf(context,information,read)\n\u001b[0;32m     <a href='vscode-notebook-cell:/c%3A/Users/Julian%20Jacobs/Documents/GitHub/Sequitur/sequitur_context_aware_dbg_v5.ipynb#ch0000011?line=33'>34</a>\u001b[0m             \u001b[39melse\u001b[39;00m: \u001b[39mself\u001b[39m\u001b[39m.\u001b[39mleaves[context] \u001b[39m=\u001b[39m Leaf(context,information,read)\n\u001b[1;32m---> <a href='vscode-notebook-cell:/c%3A/Users/Julian%20Jacobs/Documents/GitHub/Sequitur/sequitur_context_aware_dbg_v5.ipynb#ch0000011?line=34'>35</a>\u001b[0m     \u001b[39mreturn\u001b[39;00m \u001b[39mself\u001b[39;49m\u001b[39m.\u001b[39;49mgrow(sequence,\u001b[39mdir\u001b[39;49m)\n\u001b[0;32m     <a href='vscode-notebook-cell:/c%3A/Users/Julian%20Jacobs/Documents/GitHub/Sequitur/sequitur_context_aware_dbg_v5.ipynb#ch0000011?line=35'>36</a>\u001b[0m \u001b[39melse\u001b[39;00m: \n\u001b[0;32m     <a href='vscode-notebook-cell:/c%3A/Users/Julian%20Jacobs/Documents/GitHub/Sequitur/sequitur_context_aware_dbg_v5.ipynb#ch0000011?line=36'>37</a>\u001b[0m     \u001b[39mif\u001b[39;00m \u001b[39mlen\u001b[39m(\u001b[39mself\u001b[39m\u001b[39m.\u001b[39mbranches) \u001b[39m+\u001b[39m \u001b[39mlen\u001b[39m(\u001b[39mself\u001b[39m\u001b[39m.\u001b[39mleaves) \u001b[39m==\u001b[39m \u001b[39m0\u001b[39m:\n",
      "\u001b[1;32mc:\\Users\\Julian Jacobs\\Documents\\GitHub\\Sequitur\\sequitur_context_aware_dbg_v5.ipynb Cell 11\u001b[0m in \u001b[0;36mBranch.grow\u001b[1;34m(self, sequence, dir, initial)\u001b[0m\n\u001b[0;32m     <a href='vscode-notebook-cell:/c%3A/Users/Julian%20Jacobs/Documents/GitHub/Sequitur/sequitur_context_aware_dbg_v5.ipynb#ch0000011?line=32'>33</a>\u001b[0m                 \u001b[39mself\u001b[39m\u001b[39m.\u001b[39mbranches[node]\u001b[39m.\u001b[39mleaves[context] \u001b[39m=\u001b[39m Leaf(context,information,read)\n\u001b[0;32m     <a href='vscode-notebook-cell:/c%3A/Users/Julian%20Jacobs/Documents/GitHub/Sequitur/sequitur_context_aware_dbg_v5.ipynb#ch0000011?line=33'>34</a>\u001b[0m             \u001b[39melse\u001b[39;00m: \u001b[39mself\u001b[39m\u001b[39m.\u001b[39mleaves[context] \u001b[39m=\u001b[39m Leaf(context,information,read)\n\u001b[1;32m---> <a href='vscode-notebook-cell:/c%3A/Users/Julian%20Jacobs/Documents/GitHub/Sequitur/sequitur_context_aware_dbg_v5.ipynb#ch0000011?line=34'>35</a>\u001b[0m     \u001b[39mreturn\u001b[39;00m \u001b[39mself\u001b[39;49m\u001b[39m.\u001b[39;49mgrow(sequence,\u001b[39mdir\u001b[39;49m)\n\u001b[0;32m     <a href='vscode-notebook-cell:/c%3A/Users/Julian%20Jacobs/Documents/GitHub/Sequitur/sequitur_context_aware_dbg_v5.ipynb#ch0000011?line=35'>36</a>\u001b[0m \u001b[39melse\u001b[39;00m: \n\u001b[0;32m     <a href='vscode-notebook-cell:/c%3A/Users/Julian%20Jacobs/Documents/GitHub/Sequitur/sequitur_context_aware_dbg_v5.ipynb#ch0000011?line=36'>37</a>\u001b[0m     \u001b[39mif\u001b[39;00m \u001b[39mlen\u001b[39m(\u001b[39mself\u001b[39m\u001b[39m.\u001b[39mbranches) \u001b[39m+\u001b[39m \u001b[39mlen\u001b[39m(\u001b[39mself\u001b[39m\u001b[39m.\u001b[39mleaves) \u001b[39m==\u001b[39m \u001b[39m0\u001b[39m:\n",
      "\u001b[1;32mc:\\Users\\Julian Jacobs\\Documents\\GitHub\\Sequitur\\sequitur_context_aware_dbg_v5.ipynb Cell 11\u001b[0m in \u001b[0;36mBranch.grow\u001b[1;34m(self, sequence, dir, initial)\u001b[0m\n\u001b[0;32m     <a href='vscode-notebook-cell:/c%3A/Users/Julian%20Jacobs/Documents/GitHub/Sequitur/sequitur_context_aware_dbg_v5.ipynb#ch0000011?line=32'>33</a>\u001b[0m                 \u001b[39mself\u001b[39m\u001b[39m.\u001b[39mbranches[node]\u001b[39m.\u001b[39mleaves[context] \u001b[39m=\u001b[39m Leaf(context,information,read)\n\u001b[0;32m     <a href='vscode-notebook-cell:/c%3A/Users/Julian%20Jacobs/Documents/GitHub/Sequitur/sequitur_context_aware_dbg_v5.ipynb#ch0000011?line=33'>34</a>\u001b[0m             \u001b[39melse\u001b[39;00m: \u001b[39mself\u001b[39m\u001b[39m.\u001b[39mleaves[context] \u001b[39m=\u001b[39m Leaf(context,information,read)\n\u001b[1;32m---> <a href='vscode-notebook-cell:/c%3A/Users/Julian%20Jacobs/Documents/GitHub/Sequitur/sequitur_context_aware_dbg_v5.ipynb#ch0000011?line=34'>35</a>\u001b[0m     \u001b[39mreturn\u001b[39;00m \u001b[39mself\u001b[39;49m\u001b[39m.\u001b[39;49mgrow(sequence,\u001b[39mdir\u001b[39;49m)\n\u001b[0;32m     <a href='vscode-notebook-cell:/c%3A/Users/Julian%20Jacobs/Documents/GitHub/Sequitur/sequitur_context_aware_dbg_v5.ipynb#ch0000011?line=35'>36</a>\u001b[0m \u001b[39melse\u001b[39;00m: \n\u001b[0;32m     <a href='vscode-notebook-cell:/c%3A/Users/Julian%20Jacobs/Documents/GitHub/Sequitur/sequitur_context_aware_dbg_v5.ipynb#ch0000011?line=36'>37</a>\u001b[0m     \u001b[39mif\u001b[39;00m \u001b[39mlen\u001b[39m(\u001b[39mself\u001b[39m\u001b[39m.\u001b[39mbranches) \u001b[39m+\u001b[39m \u001b[39mlen\u001b[39m(\u001b[39mself\u001b[39m\u001b[39m.\u001b[39mleaves) \u001b[39m==\u001b[39m \u001b[39m0\u001b[39m:\n",
      "\u001b[1;32mc:\\Users\\Julian Jacobs\\Documents\\GitHub\\Sequitur\\sequitur_context_aware_dbg_v5.ipynb Cell 11\u001b[0m in \u001b[0;36mBranch.grow\u001b[1;34m(self, sequence, dir, initial)\u001b[0m\n\u001b[0;32m     <a href='vscode-notebook-cell:/c%3A/Users/Julian%20Jacobs/Documents/GitHub/Sequitur/sequitur_context_aware_dbg_v5.ipynb#ch0000011?line=19'>20</a>\u001b[0m \u001b[39mif\u001b[39;00m \u001b[39mnot\u001b[39;00m read\u001b[39m.\u001b[39mis_sequenced:\n\u001b[0;32m     <a href='vscode-notebook-cell:/c%3A/Users/Julian%20Jacobs/Documents/GitHub/Sequitur/sequitur_context_aware_dbg_v5.ipynb#ch0000011?line=20'>21</a>\u001b[0m     context,information \u001b[39m=\u001b[39m read\u001b[39m.\u001b[39mpartition(\u001b[39mself\u001b[39m\u001b[39m.\u001b[39mroot,\u001b[39mdir\u001b[39m)\n\u001b[1;32m---> <a href='vscode-notebook-cell:/c%3A/Users/Julian%20Jacobs/Documents/GitHub/Sequitur/sequitur_context_aware_dbg_v5.ipynb#ch0000011?line=21'>22</a>\u001b[0m     \u001b[39mif\u001b[39;00m \u001b[39mself\u001b[39;49m\u001b[39m.\u001b[39;49mleaves[context]: \n\u001b[0;32m     <a href='vscode-notebook-cell:/c%3A/Users/Julian%20Jacobs/Documents/GitHub/Sequitur/sequitur_context_aware_dbg_v5.ipynb#ch0000011?line=22'>23</a>\u001b[0m         node \u001b[39m=\u001b[39m Node(\u001b[39mself\u001b[39m\u001b[39m.\u001b[39mleaves[context]\u001b[39m.\u001b[39mbranch(context,\u001b[39mdir\u001b[39m),\u001b[39mdir\u001b[39m)\n\u001b[0;32m     <a href='vscode-notebook-cell:/c%3A/Users/Julian%20Jacobs/Documents/GitHub/Sequitur/sequitur_context_aware_dbg_v5.ipynb#ch0000011?line=23'>24</a>\u001b[0m         \u001b[39mself\u001b[39m\u001b[39m.\u001b[39mbranches[node] \u001b[39m=\u001b[39m Branch(\u001b[39mself\u001b[39m\u001b[39m.\u001b[39mroot,\u001b[39mself\u001b[39m\u001b[39m.\u001b[39mnetwork,node)\n",
      "\u001b[1;31mKeyError\u001b[0m: <__main__.Node object at 0x000001F6AB7B3220>"
     ]
    }
   ],
   "source": [
    "r.build('shells_on_the_s')"
   ]
  },
  {
   "cell_type": "code",
   "execution_count": null,
   "metadata": {},
   "outputs": [],
   "source": []
  }
 ],
 "metadata": {
  "interpreter": {
   "hash": "38731f125b301d8f0df7c54051f2a9a4c898c9398d16ef376d9fb7d661d33405"
  },
  "kernelspec": {
   "display_name": "Python 3.9.0 64-bit",
   "language": "python",
   "name": "python3"
  },
  "language_info": {
   "codemirror_mode": {
    "name": "ipython",
    "version": 3
   },
   "file_extension": ".py",
   "mimetype": "text/x-python",
   "name": "python",
   "nbconvert_exporter": "python",
   "pygments_lexer": "ipython3",
   "version": "3.9.0"
  },
  "orig_nbformat": 4
 },
 "nbformat": 4,
 "nbformat_minor": 2
}
