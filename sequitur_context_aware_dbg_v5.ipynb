{
 "cells": [
  {
   "cell_type": "markdown",
   "metadata": {},
   "source": [
    "### Tasks\n",
    "- sprout_trie\n",
    "    - builds from root\n",
    "    - follows highest context path\n",
    "    - sprout_trie again\n",
    "- change_direction()\n",
    "    - if there is no solid growth option in direction 0, switch directions to possibly eliminate options\n",
    "- splice()\n",
    "    - if there are no solid options in either direction, separately build a candidate to possibly eliminate options\n",
    "- join()\n",
    "    - join 2 candidates\n",
    "    - maybe restart building process with candidates as new reads"
   ]
  },
  {
   "cell_type": "code",
   "execution_count": 1,
   "metadata": {},
   "outputs": [],
   "source": [
    "''' \n",
    "The read is held by a leaf and sustains their uniqueness and ensures they're added to the sequence at most once.\n",
    "'''\n",
    "class Read:\n",
    "    def __init__(self,read):\n",
    "        self.read = read\n",
    "        self.sequenced = False\n",
    "\n",
    "    def partition(self,root,dir):\n",
    "        if dir: return Node(self.read.partition(root)[0],dir), self.read.partition(root)[2]\n",
    "        else: return Node(self.read.partition(root)[2],dir), self.read.partition(root)[0]"
   ]
  },
  {
   "cell_type": "code",
   "execution_count": 2,
   "metadata": {},
   "outputs": [],
   "source": [
    "'''\n",
    "A leaf is the end point of a branch and can only the gained information. \n",
    "Every Trie must have a leaf for every read containing the root\n",
    "Leaves can become branches\n",
    "'''\n",
    "class Leaf:\n",
    "    def __init__(self,context,information,read):\n",
    "        self.context = context\n",
    "        self.information = information\n",
    "        self.read = read\n",
    "    \n",
    "    def branch(self,context,dir):\n",
    "        stalk = \"\"\n",
    "        i = 0\n",
    "        while i < min(len(context.stalk),len(self.context.stalk)) and context[i] == self.context[i]: \n",
    "            stalk += context[i]\n",
    "            i += 1\n",
    "        return stalk"
   ]
  },
  {
   "cell_type": "code",
   "execution_count": 3,
   "metadata": {},
   "outputs": [],
   "source": [
    "'''\n",
    "The node is a convenience class for accessing the branch\n",
    "'''\n",
    "class Node:\n",
    "    def __init__(self,stalk,dir):\n",
    "        if len(stalk) > 0: self.stalk = stalk\n",
    "        else: self.stalk = \"^\"\n",
    "        self.reversed = False\n",
    "        if dir: \n",
    "            self.stalk = ''.join(reversed(self.stalk))\n",
    "            self.reversed = True\n",
    "\n",
    "    def __eq__(self,other): return self.stalk[0] == other.stalk[0]\n",
    "\n",
    "    def __hash__(self): return hash(self.stalk[0])\n",
    "\n",
    "    def __getitem__(self,index): return self.stalk[index]"
   ]
  },
  {
   "cell_type": "code",
   "execution_count": 57,
   "metadata": {},
   "outputs": [],
   "source": [
    "'''\n",
    "A branch has either a collection of branches or a collection of leaves\n",
    "Every branch must have at least 1 leaf\n",
    "'''\n",
    "class Branch:\n",
    "    def __init__(self,node=None):\n",
    "        self.branches = {}\n",
    "        self.leaves = {}\n",
    "        self.node = node\n",
    "\n",
    "    def grow(self,sequence,dir,initial=False):\n",
    "        if type(self) == Root: \n",
    "            if len(self.reads) > 0: \n",
    "                if len(self.leaves) == 0:\n",
    "                    self.sprout(dir,initial)\n",
    "                else: \n",
    "                    # traverse tree/find leave with best context\n",
    "                    read = self.reads.pop()\n",
    "                    context,information = read.partition(self.root,dir)\n",
    "                    # BUG: attempt to add to branch before leaves.\n",
    "                    if self.leaves[context]: \n",
    "                        node = Node(self.leaves[context].branch(context,dir),dir)\n",
    "                        self.branches[node] = Branch(node)\n",
    "                        if dir: self.leaves[context].context,_,_ = self.leaves[context].context.stalk.partition(node.stalk)\n",
    "                        else: _,_,self.leaves[context].context = self.leaves[context].context.stalk.partition(node.stalk)\n",
    "                        self.leaves[context].context = Node(self.leaves[context].context,dir)\n",
    "                        self.branches[node].leaves[self.leaves[context].context] = Leaf(context,information,self.leaves[context].read)\n",
    "                        self.leaves.pop(context)\n",
    "                        if dir: context,_,_ = context.stalk.partition(node.stalk)\n",
    "                        else: _,_,context = context.stalk.partition(node.stalk)\n",
    "                        context = Node(context,dir)\n",
    "                        self.branches[node].leaves[context] = Leaf(context,information,read)\n",
    "                    else: self.leaves[context] = Leaf(context,information,read)\n",
    "                self.grow(sequence,dir)\n",
    "            # once there are no reads to add, we climb the structure\n",
    "            else: self.climb(sequence,dir)\n",
    "        else:\n",
    "            pass # grow branch\n",
    "\n",
    "    def climb(self,sequence,dir):\n",
    "        if type(self) == Root:\n",
    "            if dir: context,_,_ = sequence.partition(self.root)\n",
    "            else: _,_,context = sequence.partition(self.root)\n",
    "        else:\n",
    "            if dir: context,_,_ = sequence.partition(self.node.stalk)\n",
    "            else: _,_,context = sequence.partition(self.node.stalk)\n",
    "        context = Node(context,dir)\n",
    "        # 1. check for matching entries amongst the branches\n",
    "        if context in self.branches: self.branches[context].climb(sequence,dir)\n",
    "        else: \n",
    "            if not self.leaves[context].read.sequenced: sequence += self.leaves[context].context.information\n",
    "            else:\n",
    "                carat = Node('^',dir) \n",
    "                print(self.leaves[carat].information + sequence)\n",
    "        # add information to sequence\n",
    "        # start building with updated sequence\n",
    "        # stopping condition?? "
   ]
  },
  {
   "cell_type": "code",
   "execution_count": 38,
   "metadata": {},
   "outputs": [],
   "source": [
    "'''\n",
    "A root is a branch with a connection to the network and a list of the reads it comprises of.\n",
    "It can have a collection of branches and leaves.\n",
    "'''\n",
    "class Root(Branch):\n",
    "    def __init__(self,root,network):\n",
    "        super().__init__()\n",
    "        self.root = root\n",
    "        self.network = network\n",
    "        self.reads = []\n",
    "\n",
    "    def add_read(self,read):\n",
    "        self.reads += [read]\n",
    "\n",
    "    def sprout(self,dir,initial=False):\n",
    "        read = self.reads.pop()\n",
    "        context,information = read.partition(self.root,dir)\n",
    "        if initial: read.sequenced = True\n",
    "        self.leaves[context] = Leaf(context,information,read)"
   ]
  },
  {
   "cell_type": "code",
   "execution_count": 39,
   "metadata": {},
   "outputs": [],
   "source": [
    "class RootNetwork:\n",
    "    def __init__(self,k):\n",
    "        self.roots = {}\n",
    "        self.k = k\n",
    "\n",
    "    def __getitem__(self,key):\n",
    "        return self.roots[key]\n",
    "\n",
    "    def __contains__(self, key):\n",
    "        return key in self.roots\n",
    "\n",
    "    # dir = 1, context gain towards prefix\n",
    "    # dir = 0, context gain towards suffix\n",
    "    def build(self,sequence,dir=0,initial=True):\n",
    "        self.get_root(sequence,dir).grow(sequence,dir,initial)\n",
    "\n",
    "    def plant_trie(self,trie):\n",
    "        self.roots[trie.root] = trie\n",
    "\n",
    "    def get_root(self,sequence,dir):\n",
    "        if dir: return self[sequence[-self.k:]]\n",
    "        else: return self[sequence[:self.k]]"
   ]
  },
  {
   "cell_type": "code",
   "execution_count": 58,
   "metadata": {},
   "outputs": [],
   "source": [
    "k = 3\n",
    "r = RootNetwork(k)\n",
    "reads = {}\n",
    "for read in ['you say hel',\n",
    "                ' say hello wo',\n",
    "                        'lo world, i be',#'ld, i bellow go t',\n",
    "                              'ld, i bellow go t',\n",
    "                                        'ow go to hell']:\n",
    "    reads[read] = Read(read)\n",
    "    for i in range(len(read)-k+1):\n",
    "        if read[i:i+k] not in r: r.plant_trie(Root(read[i:i+k],r))\n",
    "        r[read[i:i+k]].add_read(reads[read])"
   ]
  },
  {
   "cell_type": "code",
   "execution_count": 59,
   "metadata": {},
   "outputs": [
    {
     "name": "stdout",
     "output_type": "stream",
     "text": [
      "lo world, i bellow go t\n"
     ]
    }
   ],
   "source": [
    "r.build('ld, i bellow go t')"
   ]
  },
  {
   "cell_type": "code",
   "execution_count": 156,
   "metadata": {},
   "outputs": [
    {
     "data": {
      "text/plain": [
       "{<__main__.Node at 0x1c9c34f9970>: 'n1',\n",
       " <__main__.Node at 0x1c9c34be550>: 'n2'}"
      ]
     },
     "execution_count": 156,
     "metadata": {},
     "output_type": "execute_result"
    }
   ],
   "source": [
    "n1 = Node(\"ello\",0)\n",
    "n2 = Node(\"hello\",0)\n",
    "n1 == n2\n",
    "d = {}\n",
    "d[n1] = \"n1\"\n",
    "d[n2] = \"n2\"\n",
    "d"
   ]
  },
  {
   "cell_type": "code",
   "execution_count": 147,
   "metadata": {},
   "outputs": [
    {
     "data": {
      "text/plain": [
       "[]"
      ]
     },
     "execution_count": 147,
     "metadata": {},
     "output_type": "execute_result"
    }
   ],
   "source": [
    "r.get_root('ld, i bellow go t',0).reads"
   ]
  },
  {
   "cell_type": "code",
   "execution_count": 148,
   "metadata": {},
   "outputs": [
    {
     "data": {
      "text/plain": [
       "'edcba'"
      ]
     },
     "execution_count": 148,
     "metadata": {},
     "output_type": "execute_result"
    }
   ],
   "source": [
    "''.join(reversed('abcde'))"
   ]
  },
  {
   "cell_type": "code",
   "execution_count": null,
   "metadata": {},
   "outputs": [],
   "source": []
  }
 ],
 "metadata": {
  "interpreter": {
   "hash": "38731f125b301d8f0df7c54051f2a9a4c898c9398d16ef376d9fb7d661d33405"
  },
  "kernelspec": {
   "display_name": "Python 3.9.0 64-bit",
   "language": "python",
   "name": "python3"
  },
  "language_info": {
   "codemirror_mode": {
    "name": "ipython",
    "version": 3
   },
   "file_extension": ".py",
   "mimetype": "text/x-python",
   "name": "python",
   "nbconvert_exporter": "python",
   "pygments_lexer": "ipython3",
   "version": "3.9.0"
  },
  "orig_nbformat": 4
 },
 "nbformat": 4,
 "nbformat_minor": 2
}
