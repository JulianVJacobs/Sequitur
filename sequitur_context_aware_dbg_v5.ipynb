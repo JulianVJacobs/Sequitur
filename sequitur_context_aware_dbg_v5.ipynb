{
 "cells": [
  {
   "cell_type": "markdown",
   "metadata": {},
   "source": [
    "### Tasks\n",
    "- sprout_trie\n",
    "    - builds from root\n",
    "    - follows highest context path\n",
    "    - sprout_trie again\n",
    "- change_direction()\n",
    "    - if there is no solid growth option in direction 0, switch directions to possibly eliminate options\n",
    "- splice()\n",
    "    - if there are no solid options in either direction, separately build a candidate to possibly eliminate options\n",
    "- join()\n",
    "    - join 2 candidates\n",
    "    - maybe restart building process with candidates as new reads"
   ]
  },
  {
   "cell_type": "code",
   "execution_count": 17,
   "metadata": {},
   "outputs": [],
   "source": [
    "class Trie:\n",
    "    def __init__(self,root,forest):\n",
    "        self.root = root\n",
    "        self.reads = []\n",
    "        self.forest = forest\n",
    "\n",
    "    def add_read(self,read):\n",
    "        self.reads += [read]"
   ]
  },
  {
   "cell_type": "code",
   "execution_count": 43,
   "metadata": {},
   "outputs": [],
   "source": [
    "class RootNetwork:\n",
    "    def __init__(self):\n",
    "        self.roots = {}\n",
    "\n",
    "    def __getitem__(self,key):\n",
    "        return self.roots[key]\n",
    "\n",
    "    def __contains__(self, key):\n",
    "        return key in self.roots\n",
    "\n",
    "    # dir = 0, context gain towards prefix\n",
    "    # dir = 1, context gain towards suffix\n",
    "    def build(self,sequence,dir=0):\n",
    "        if dir: \n",
    "            # if type(self.roots[sequence[-len(self.root):]]) != Trie:\n",
    "                print('yuh')\n",
    "        else:\n",
    "            # if type(self.roots[sequence[:len(self.root)]]) != Trie:\n",
    "                print('yah')\n",
    "\n",
    "    def plant_trie(self,trie):\n",
    "        self.roots[trie.root] = trie\n",
    "\n",
    "    def get_root(self,read,k,dir):\n",
    "        if dir: return self[read[-k:]]\n",
    "        else: return self[read[:k]]"
   ]
  },
  {
   "cell_type": "code",
   "execution_count": 44,
   "metadata": {},
   "outputs": [],
   "source": [
    "k = 3\n",
    "r = RootNetwork()\n",
    "for read in ['you say hel',\n",
    "                ' say hello wo',\n",
    "                        'lo world, i be',#'ld, i bellow go t',\n",
    "                              'ld, i bellow go t',\n",
    "                                        'ow go to hell']:\n",
    "    for i in range(len(read)-k+1):\n",
    "        if read[i:i+k] not in r: r.plant_trie(Trie(read[i:i+k],r))\n",
    "        r[read[i:i+k]].add_read(read)"
   ]
  },
  {
   "cell_type": "code",
   "execution_count": 45,
   "metadata": {},
   "outputs": [
    {
     "data": {
      "text/plain": [
       "['ld, i bellow go t', 'ow go to hell']"
      ]
     },
     "execution_count": 45,
     "metadata": {},
     "output_type": "execute_result"
    }
   ],
   "source": [
    "r['o t'].reads"
   ]
  },
  {
   "cell_type": "code",
   "execution_count": 46,
   "metadata": {},
   "outputs": [
    {
     "data": {
      "text/plain": [
       "'o t'"
      ]
     },
     "execution_count": 46,
     "metadata": {},
     "output_type": "execute_result"
    }
   ],
   "source": [
    "r.get_root('ld, i bellow go t',3,1).root"
   ]
  },
  {
   "cell_type": "code",
   "execution_count": null,
   "metadata": {},
   "outputs": [],
   "source": []
  }
 ],
 "metadata": {
  "interpreter": {
   "hash": "38731f125b301d8f0df7c54051f2a9a4c898c9398d16ef376d9fb7d661d33405"
  },
  "kernelspec": {
   "display_name": "Python 3.9.0 64-bit",
   "language": "python",
   "name": "python3"
  },
  "language_info": {
   "codemirror_mode": {
    "name": "ipython",
    "version": 3
   },
   "file_extension": ".py",
   "mimetype": "text/x-python",
   "name": "python",
   "nbconvert_exporter": "python",
   "pygments_lexer": "ipython3",
   "version": "3.9.0"
  },
  "orig_nbformat": 4
 },
 "nbformat": 4,
 "nbformat_minor": 2
}
