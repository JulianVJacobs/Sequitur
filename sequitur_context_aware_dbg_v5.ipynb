{
 "cells": [
  {
   "cell_type": "markdown",
   "metadata": {},
   "source": [
    "### Tasks\n",
    "- sprout_trie\n",
    "    - builds from root\n",
    "    - follows highest context path\n",
    "    - sprout_trie again\n",
    "- change_direction()\n",
    "    - if there is no solid growth option in direction 0, switch directions to possibly eliminate options\n",
    "- splice()\n",
    "    - if there are no solid options in either direction, separately build a candidate to possibly eliminate options\n",
    "- join()\n",
    "    - join 2 candidates\n",
    "    - maybe restart building process with candidates as new reads"
   ]
  },
  {
   "cell_type": "code",
   "execution_count": 10,
   "metadata": {},
   "outputs": [],
   "source": [
    "import random"
   ]
  },
  {
   "cell_type": "code",
   "execution_count": 1,
   "metadata": {},
   "outputs": [],
   "source": [
    "''' \n",
    "The read is held by a leaf and sustains their uniqueness and ensures they're added to the sequence at most once.\n",
    "'''\n",
    "class Read:\n",
    "    def __init__(self,read):\n",
    "        self.read = read\n",
    "        self.is_sequenced = False\n",
    "\n",
    "    def partition(self,root,dir):\n",
    "        if dir: return Node(self.read.partition(root)[0],dir), self.read.partition(root)[2]\n",
    "        else: return Node(self.read.partition(root)[2],dir), self.read.partition(root)[0]"
   ]
  },
  {
   "cell_type": "code",
   "execution_count": 2,
   "metadata": {},
   "outputs": [],
   "source": [
    "'''\n",
    "A leaf is the end point of a branch and can only the gained information. \n",
    "Every Trie must have a leaf for every read containing the root\n",
    "Leaves can become branches\n",
    "'''\n",
    "class Leaf:\n",
    "    def __init__(self,context,information,read):\n",
    "        self.context = context\n",
    "        if len(information) == 0: self.information = '$'\n",
    "        else: self.information = information\n",
    "        self.read = read\n",
    "\n",
    "    def __repr__(self): return str(self.information)\n",
    "    \n",
    "    def branch(self,context,dir):\n",
    "        stalk = \"\"\n",
    "        i = 0\n",
    "        while i < min(len(context.stalk),len(self.context.stalk)) and context[i] == self.context[i]: \n",
    "            stalk += context[i]\n",
    "            i += 1\n",
    "        return stalk"
   ]
  },
  {
   "cell_type": "code",
   "execution_count": 3,
   "metadata": {},
   "outputs": [],
   "source": [
    "'''\n",
    "The node is a convenience class for accessing the branch\n",
    "'''\n",
    "class Node:\n",
    "    def __init__(self,stalk,dir):\n",
    "        if len(stalk) > 0: self.stalk = stalk\n",
    "        else: self.stalk = \"^\"\n",
    "        self.reversed = False\n",
    "        if dir: \n",
    "            self.stalk = ''.join(reversed(self.stalk))\n",
    "            self.reversed = True\n",
    "\n",
    "    def __eq__(self,other): return self.stalk[0] == other.stalk[0]\n",
    "\n",
    "    def __hash__(self): return hash(self.stalk[0])\n",
    "\n",
    "    def __getitem__(self,index): return self.stalk[index]\n",
    "\n",
    "    def __repr__(self): return self.stalk\n",
    "\n",
    "    def __len__(self):\n",
    "        if self.stalk == '^': return 0\n",
    "        else: return len(self.stalk)"
   ]
  },
  {
   "cell_type": "code",
   "execution_count": 4,
   "metadata": {},
   "outputs": [],
   "source": [
    "'''\n",
    "A branch has either a collection of branches or a collection of leaves\n",
    "Every branch must have at least 1 leaf\n",
    "'''\n",
    "class Branch:\n",
    "    def __init__(self,root,network,node=None):\n",
    "        self.branches = {}\n",
    "        self.leaves = {}\n",
    "        self.root = root\n",
    "        self.network = network\n",
    "        self.node = node\n",
    "\n",
    "    def grow(self,leaf,dir):\n",
    "        node = Node(self.node.stalk[len(leaf.context.stalk):],dir)\n",
    "        self.node.stalk = leaf.context.stalk\n",
    "        leaf.context = Node('',dir)\n",
    "        self.branches[node] = Branch(self.root,self.network,node)\n",
    "        for l in list(self.leaves.values()): \n",
    "            if type(l) == type([]):\n",
    "                carat = Node('^',dir)\n",
    "                self.branches[node].leaves[carat] = self.leaves.pop(carat)\n",
    "            else: self.branches[node].leaves[l.context] = self.leaves.pop(l.context)\n",
    "        self.leaves[leaf.context] = [leaf]\n",
    "\n",
    "    def climb(self,sequence,dir,careful= False):\n",
    "        if type(self) == Root:\n",
    "            if dir: context,_,_ = sequence.partition(self.root)\n",
    "            else: _,_,context = sequence.partition(self.root)\n",
    "        else:\n",
    "            if dir: context,_,_ = sequence.partition(self.node.stalk)\n",
    "            else: _,_,context = sequence.partition(self.node.stalk)\n",
    "        context = Node(context,dir)\n",
    "        if context in self.branches: return self.branches[context].climb(sequence,dir)\n",
    "        else: \n",
    "            if context in self.leaves and not self.leaves[context].read.is_sequenced: \n",
    "                if dir: sequence += self.leaves[context].information\n",
    "                else: sequence = self.leaves[context].information + sequence\n",
    "                self.leaves[context].read.is_sequenced = True\n",
    "                return sequence\n",
    "            else:\n",
    "                carat = Node('^',dir) \n",
    "                if carat in self.leaves:\n",
    "                    if len(self.leaves[carat]) == 1:\n",
    "                        if dir: sequence += self.leaves[carat][0].information\n",
    "                        else: sequence = self.leaves[carat][0].information + sequence\n",
    "                        self.leaves[carat][0].read.is_sequenced = True\n",
    "                        return sequence\n",
    "                    else: \n",
    "                        for leaf in self.leaves:\n",
    "                            # build out sequences\n",
    "                            continue\n",
    "                            # self.network.get_root(leaf.read,dir).\n",
    "                else: \n",
    "                    if dir: return sequence + '$'\n",
    "                    else: return '^' + sequence\n",
    "\n",
    "    def is_dead(self):\n",
    "        for leaf in self.leaves.values(): \n",
    "            if leaf.read.is_sequenced: continue\n",
    "            else: return False\n",
    "        return True"
   ]
  },
  {
   "cell_type": "code",
   "execution_count": 5,
   "metadata": {},
   "outputs": [],
   "source": [
    "'''\n",
    "A root is a branch with a connection to the network and a list of the reads it comprises of.\n",
    "It can have a collection of branches and leaves.\n",
    "'''\n",
    "class Root(Branch):\n",
    "    def __init__(self,root,network):\n",
    "        super().__init__(root,network)\n",
    "        self.reads = []\n",
    "\n",
    "    def __repr__(self):\n",
    "        return self.root\n",
    "        \n",
    "    def add_read(self,read):\n",
    "        self.reads += [read]\n",
    "        self.network.reads += [read]\n",
    "\n",
    "    # BUG: when two reads have the same initial kmer, the second entry replaces the first (apparent dependence on starting order)\n",
    "    # TODO: resolving the path when two entries share an initial kmer: plan()\n",
    "        # the plan routine will build out each kmer with matching initial kmers with the same direction, there are 3 possibilities\n",
    "            # the route joins with an already-sequence path ()\n",
    "            # if a route joins with an already-sequenced read, it's eliminated\n",
    "            # if a route finds the end, that sequence is added to the whole sequence\n",
    "    def grow(self,sequence,dir,initial=False):\n",
    "        if len(self.reads) > 0: \n",
    "            if len(self.leaves) == 0: self.sprout(dir,initial)\n",
    "            else: \n",
    "                read = self.reads.pop()\n",
    "                while read.is_sequenced and len(self.reads) > 0: read = self.reads.pop()\n",
    "                if not read.is_sequenced:\n",
    "                    context,information = read.partition(self.root,dir)\n",
    "                    if context in self.leaves: \n",
    "                        node = Node(self.leaves[context].branch(context,dir),dir)\n",
    "                        self.branches[node] = Branch(self.root,self.network,node)\n",
    "                        if dir: self.leaves[context].context,_,self.leaves[context].information = self.leaves[context].context.stalk.partition(node.stalk)\n",
    "                        else: self.leaves[context].information,_,self.leaves[context].context = self.leaves[context].context.stalk.partition(node.stalk)\n",
    "                        self.leaves[context].context = Node(self.leaves[context].context,dir)\n",
    "                        if self.leaves[context].context.stalk == '^': \n",
    "                            if self.leaves[context].context in self.branches[node].leaves: self.branches[node].leaves[self.leaves[context].context] += [Leaf(self.leaves[context].context,self.leaves[context].information,self.leaves[context].read)]\n",
    "                            else: self.branches[node].leaves[self.leaves[context].context] = [Leaf(self.leaves[context].context,self.leaves[context].information,self.leaves[context].read)]\n",
    "                        else: self.branches[node].leaves[self.leaves[context].context] = Leaf(self.leaves[context].context,self.leaves[context].information,self.leaves[context].read)\n",
    "                        self.leaves.pop(context)\n",
    "                        if dir: context,_,_ = context.stalk.partition(node.stalk)\n",
    "                        else: _,_,context = context.stalk.partition(node.stalk)\n",
    "                        context = Node(context,dir)\n",
    "                        # if context in \n",
    "                        if context.stalk == '^': \n",
    "                            if context in self.branches[node].leaves: self.branches[node].leaves[context] += [Leaf(context,information,read)]\n",
    "                            else: self.branches[node].leaves[context] = [Leaf(context,information,read)]\n",
    "                        else: self.branches[node].leaves[context] = Leaf(context,information,read)\n",
    "                    else: self.leaves[context] = [Leaf(context,information,read)]\n",
    "            return self.grow(sequence,dir)\n",
    "        else: \n",
    "            print(sequence)\n",
    "            sequence = self.climb(sequence,dir) \n",
    "            if sequence[0] == '^' and not dir: return self.network.get_root(sequence,1).grow(sequence,1)\n",
    "            elif sequence[-1] == '$': return sequence\n",
    "            return self.network.get_root(sequence,dir).grow(sequence,dir)\n",
    "\n",
    "    # def change_direction(self,sequence,dir,)\n",
    "\n",
    "    def sprout(self,dir,initial=False):\n",
    "        read = self.reads.pop()\n",
    "        while read.is_sequenced and len(self.reads) > 0: read = self.reads.pop()\n",
    "        if not read.is_sequenced:\n",
    "            context,information = read.partition(self.root,dir)\n",
    "            if initial: read.is_sequenced = True\n",
    "            if len(self.branches) > 0 and context in self.branches: \n",
    "                leaf = Leaf(context,information,read)\n",
    "                for br in self.branches.values():\n",
    "                    stalk = leaf.branch(br.node,dir)\n",
    "                self.branches[context].grow(Leaf(context,information,read),dir)\n",
    "            else: \n",
    "                if context.stalk == '^': self.leaves[context] = [Leaf(context,information,read)]\n",
    "                else: self.leaves[context] = Leaf(context,information,read)"
   ]
  },
  {
   "cell_type": "code",
   "execution_count": 6,
   "metadata": {},
   "outputs": [],
   "source": [
    "class RootNetwork:\n",
    "    def __init__(self,k):\n",
    "        self.roots = {}\n",
    "        self.reads = []\n",
    "        self.k = k\n",
    "\n",
    "    def __getitem__(self,key):\n",
    "        return self.roots[key]\n",
    "\n",
    "    def __contains__(self, key):\n",
    "        return key in self.roots\n",
    "\n",
    "    # dir = 1, context gain towards prefix\n",
    "    # dir = 0, context gain towards suffix\n",
    "    def build(self,sequence,dir=0,initial=True):\n",
    "        return self.get_root(sequence,dir).grow(sequence,dir,initial)\n",
    "\n",
    "    def plant_trie(self,trie):\n",
    "        self.roots[trie.root] = trie\n",
    "\n",
    "    def get_root(self,sequence,dir):\n",
    "        if dir: return self[sequence[-self.k:]]\n",
    "        else: return self[sequence[:self.k]]"
   ]
  },
  {
   "cell_type": "code",
   "execution_count": 7,
   "metadata": {},
   "outputs": [
    {
     "name": "stdout",
     "output_type": "stream",
     "text": [
      "ld, i bellow go t\n",
      "lo world, i bellow go t\n",
      " say hello world, i bellow go t\n",
      "you say hello world, i bellow go t\n",
      "^you say hello world, i bellow go t\n",
      "^you say hello world, i bellow go to hell\n"
     ]
    },
    {
     "data": {
      "text/plain": [
       "'^you say hello world, i bellow go to hell$'"
      ]
     },
     "execution_count": 7,
     "metadata": {},
     "output_type": "execute_result"
    }
   ],
   "source": [
    "k = 3\n",
    "r = RootNetwork(k)\n",
    "reads = {}\n",
    "for read in ['you say hel',\n",
    "                ' say hello wo',\n",
    "                        'lo world, i be',\n",
    "                              'ld, i bellow go t',\n",
    "                                        'ow go to hell']:\n",
    "    reads[read] = Read(read)\n",
    "    for i in range(len(read)-k+1):\n",
    "        if read[i:i+k] not in r: r.plant_trie(Root(read[i:i+k],r))\n",
    "        r[read[i:i+k]].add_read(reads[read])\n",
    "r.build('ld, i bellow go t')"
   ]
  },
  {
   "cell_type": "code",
   "execution_count": 8,
   "metadata": {},
   "outputs": [
    {
     "name": "stdout",
     "output_type": "stream",
     "text": [
      " say hello wo\n",
      "you say hello wo\n",
      "^you say hello wo\n",
      "^you say hello world, i be\n",
      "^you say hello world, i bellow go t\n",
      "^you say hello world, i bellow go to hell\n"
     ]
    },
    {
     "data": {
      "text/plain": [
       "'^you say hello world, i bellow go to hell$'"
      ]
     },
     "execution_count": 8,
     "metadata": {},
     "output_type": "execute_result"
    }
   ],
   "source": [
    "k = 3\n",
    "r = RootNetwork(k)\n",
    "reads = {}\n",
    "for read in ['you say hel',\n",
    "                ' say hello wo',\n",
    "                        'lo world, i be',#'ld, i bellow go t',\n",
    "                              'ld, i bellow go t',\n",
    "                                        'ow go to hell']:\n",
    "    reads[read] = Read(read)\n",
    "    for i in range(len(read)-k+1):\n",
    "        if read[i:i+k] not in r: r.plant_trie(Root(read[i:i+k],r))\n",
    "        r[read[i:i+k]].add_read(reads[read])\n",
    "r.build(' say hello wo')"
   ]
  },
  {
   "cell_type": "code",
   "execution_count": 9,
   "metadata": {},
   "outputs": [
    {
     "name": "stdout",
     "output_type": "stream",
     "text": [
      "shells_on_the_s\n",
      "ea_shells_on_the_s\n",
      "lls_sea_shells_on_the_s\n",
      "she_sells_sea_shells_on_the_s\n",
      "^she_sells_sea_shells_on_the_s\n",
      "^she_sells_sea_shells_on_the_sea_s\n",
      "^she_sells_sea_shells_on_the_sea_shore\n"
     ]
    },
    {
     "data": {
      "text/plain": [
       "'^she_sells_sea_shells_on_the_sea_shore$'"
      ]
     },
     "execution_count": 9,
     "metadata": {},
     "output_type": "execute_result"
    }
   ],
   "source": [
    "k = 3\n",
    "r = RootNetwork(k)\n",
    "reads = {}\n",
    "for read in ['she_sells_s',\n",
    "                   'lls_sea_shel',\n",
    "                        'ea_shells_o',\n",
    "                           'shells_on_the_s',\n",
    "                                      'he_sea_s',\n",
    "                                          'ea_shore']:\n",
    "    reads[read] = Read(read)\n",
    "    for i in range(len(read)-k+1):\n",
    "        if read[i:i+k] not in r: r.plant_trie(Root(read[i:i+k],r))\n",
    "        r[read[i:i+k]].add_read(reads[read])\n",
    "r.build('shells_on_the_s')"
   ]
  },
  {
   "cell_type": "code",
   "execution_count": 16,
   "metadata": {},
   "outputs": [
    {
     "name": "stdout",
     "output_type": "stream",
     "text": [
      "lls_sea_shel\n"
     ]
    },
    {
     "ename": "AttributeError",
     "evalue": "'list' object has no attribute 'read'",
     "output_type": "error",
     "traceback": [
      "\u001b[1;31m---------------------------------------------------------------------------\u001b[0m",
      "\u001b[1;31mAttributeError\u001b[0m                            Traceback (most recent call last)",
      "\u001b[1;32mc:\\Users\\Julian Jacobs\\Documents\\GitHub\\Sequitur\\sequitur_context_aware_dbg_v5.ipynb Cell 12\u001b[0m in \u001b[0;36m<module>\u001b[1;34m\u001b[0m\n\u001b[0;32m     <a href='vscode-notebook-cell:/c%3A/Users/Julian%20Jacobs/Documents/GitHub/Sequitur/sequitur_context_aware_dbg_v5.ipynb#ch0000014?line=16'>17</a>\u001b[0m         \u001b[39mif\u001b[39;00m read[i:i\u001b[39m+\u001b[39mk] \u001b[39mnot\u001b[39;00m \u001b[39min\u001b[39;00m r: r\u001b[39m.\u001b[39mplant_trie(Root(read[i:i\u001b[39m+\u001b[39mk],r))\n\u001b[0;32m     <a href='vscode-notebook-cell:/c%3A/Users/Julian%20Jacobs/Documents/GitHub/Sequitur/sequitur_context_aware_dbg_v5.ipynb#ch0000014?line=17'>18</a>\u001b[0m         r[read[i:i\u001b[39m+\u001b[39mk]]\u001b[39m.\u001b[39madd_read(reads[read])\n\u001b[1;32m---> <a href='vscode-notebook-cell:/c%3A/Users/Julian%20Jacobs/Documents/GitHub/Sequitur/sequitur_context_aware_dbg_v5.ipynb#ch0000014?line=18'>19</a>\u001b[0m r\u001b[39m.\u001b[39;49mbuild(initial_read)\n",
      "\u001b[1;32mc:\\Users\\Julian Jacobs\\Documents\\GitHub\\Sequitur\\sequitur_context_aware_dbg_v5.ipynb Cell 12\u001b[0m in \u001b[0;36mRootNetwork.build\u001b[1;34m(self, sequence, dir, initial)\u001b[0m\n\u001b[0;32m     <a href='vscode-notebook-cell:/c%3A/Users/Julian%20Jacobs/Documents/GitHub/Sequitur/sequitur_context_aware_dbg_v5.ipynb#ch0000014?line=14'>15</a>\u001b[0m \u001b[39mdef\u001b[39;00m \u001b[39mbuild\u001b[39m(\u001b[39mself\u001b[39m,sequence,\u001b[39mdir\u001b[39m\u001b[39m=\u001b[39m\u001b[39m0\u001b[39m,initial\u001b[39m=\u001b[39m\u001b[39mTrue\u001b[39;00m):\n\u001b[1;32m---> <a href='vscode-notebook-cell:/c%3A/Users/Julian%20Jacobs/Documents/GitHub/Sequitur/sequitur_context_aware_dbg_v5.ipynb#ch0000014?line=15'>16</a>\u001b[0m     \u001b[39mreturn\u001b[39;00m \u001b[39mself\u001b[39;49m\u001b[39m.\u001b[39;49mget_root(sequence,\u001b[39mdir\u001b[39;49m)\u001b[39m.\u001b[39;49mgrow(sequence,\u001b[39mdir\u001b[39;49m,initial)\n",
      "\u001b[1;32mc:\\Users\\Julian Jacobs\\Documents\\GitHub\\Sequitur\\sequitur_context_aware_dbg_v5.ipynb Cell 12\u001b[0m in \u001b[0;36mRoot.grow\u001b[1;34m(self, sequence, dir, initial)\u001b[0m\n\u001b[0;32m     <a href='vscode-notebook-cell:/c%3A/Users/Julian%20Jacobs/Documents/GitHub/Sequitur/sequitur_context_aware_dbg_v5.ipynb#ch0000014?line=48'>49</a>\u001b[0m                 \u001b[39melse\u001b[39;00m: \u001b[39mself\u001b[39m\u001b[39m.\u001b[39mbranches[node]\u001b[39m.\u001b[39mleaves[context] \u001b[39m=\u001b[39m Leaf(context,information,read)\n\u001b[0;32m     <a href='vscode-notebook-cell:/c%3A/Users/Julian%20Jacobs/Documents/GitHub/Sequitur/sequitur_context_aware_dbg_v5.ipynb#ch0000014?line=49'>50</a>\u001b[0m             \u001b[39melse\u001b[39;00m: \u001b[39mself\u001b[39m\u001b[39m.\u001b[39mleaves[context] \u001b[39m=\u001b[39m [Leaf(context,information,read)]\n\u001b[1;32m---> <a href='vscode-notebook-cell:/c%3A/Users/Julian%20Jacobs/Documents/GitHub/Sequitur/sequitur_context_aware_dbg_v5.ipynb#ch0000014?line=50'>51</a>\u001b[0m     \u001b[39mreturn\u001b[39;00m \u001b[39mself\u001b[39;49m\u001b[39m.\u001b[39;49mgrow(sequence,\u001b[39mdir\u001b[39;49m)\n\u001b[0;32m     <a href='vscode-notebook-cell:/c%3A/Users/Julian%20Jacobs/Documents/GitHub/Sequitur/sequitur_context_aware_dbg_v5.ipynb#ch0000014?line=51'>52</a>\u001b[0m \u001b[39melse\u001b[39;00m: \n\u001b[0;32m     <a href='vscode-notebook-cell:/c%3A/Users/Julian%20Jacobs/Documents/GitHub/Sequitur/sequitur_context_aware_dbg_v5.ipynb#ch0000014?line=52'>53</a>\u001b[0m     \u001b[39mprint\u001b[39m(sequence)\n",
      "\u001b[1;32mc:\\Users\\Julian Jacobs\\Documents\\GitHub\\Sequitur\\sequitur_context_aware_dbg_v5.ipynb Cell 12\u001b[0m in \u001b[0;36mRoot.grow\u001b[1;34m(self, sequence, dir, initial)\u001b[0m\n\u001b[0;32m     <a href='vscode-notebook-cell:/c%3A/Users/Julian%20Jacobs/Documents/GitHub/Sequitur/sequitur_context_aware_dbg_v5.ipynb#ch0000014?line=48'>49</a>\u001b[0m                 \u001b[39melse\u001b[39;00m: \u001b[39mself\u001b[39m\u001b[39m.\u001b[39mbranches[node]\u001b[39m.\u001b[39mleaves[context] \u001b[39m=\u001b[39m Leaf(context,information,read)\n\u001b[0;32m     <a href='vscode-notebook-cell:/c%3A/Users/Julian%20Jacobs/Documents/GitHub/Sequitur/sequitur_context_aware_dbg_v5.ipynb#ch0000014?line=49'>50</a>\u001b[0m             \u001b[39melse\u001b[39;00m: \u001b[39mself\u001b[39m\u001b[39m.\u001b[39mleaves[context] \u001b[39m=\u001b[39m [Leaf(context,information,read)]\n\u001b[1;32m---> <a href='vscode-notebook-cell:/c%3A/Users/Julian%20Jacobs/Documents/GitHub/Sequitur/sequitur_context_aware_dbg_v5.ipynb#ch0000014?line=50'>51</a>\u001b[0m     \u001b[39mreturn\u001b[39;00m \u001b[39mself\u001b[39;49m\u001b[39m.\u001b[39;49mgrow(sequence,\u001b[39mdir\u001b[39;49m)\n\u001b[0;32m     <a href='vscode-notebook-cell:/c%3A/Users/Julian%20Jacobs/Documents/GitHub/Sequitur/sequitur_context_aware_dbg_v5.ipynb#ch0000014?line=51'>52</a>\u001b[0m \u001b[39melse\u001b[39;00m: \n\u001b[0;32m     <a href='vscode-notebook-cell:/c%3A/Users/Julian%20Jacobs/Documents/GitHub/Sequitur/sequitur_context_aware_dbg_v5.ipynb#ch0000014?line=52'>53</a>\u001b[0m     \u001b[39mprint\u001b[39m(sequence)\n",
      "    \u001b[1;31m[... skipping similar frames: Root.grow at line 51 (1 times)]\u001b[0m\n",
      "\u001b[1;32mc:\\Users\\Julian Jacobs\\Documents\\GitHub\\Sequitur\\sequitur_context_aware_dbg_v5.ipynb Cell 12\u001b[0m in \u001b[0;36mRoot.grow\u001b[1;34m(self, sequence, dir, initial)\u001b[0m\n\u001b[0;32m     <a href='vscode-notebook-cell:/c%3A/Users/Julian%20Jacobs/Documents/GitHub/Sequitur/sequitur_context_aware_dbg_v5.ipynb#ch0000014?line=48'>49</a>\u001b[0m                 \u001b[39melse\u001b[39;00m: \u001b[39mself\u001b[39m\u001b[39m.\u001b[39mbranches[node]\u001b[39m.\u001b[39mleaves[context] \u001b[39m=\u001b[39m Leaf(context,information,read)\n\u001b[0;32m     <a href='vscode-notebook-cell:/c%3A/Users/Julian%20Jacobs/Documents/GitHub/Sequitur/sequitur_context_aware_dbg_v5.ipynb#ch0000014?line=49'>50</a>\u001b[0m             \u001b[39melse\u001b[39;00m: \u001b[39mself\u001b[39m\u001b[39m.\u001b[39mleaves[context] \u001b[39m=\u001b[39m [Leaf(context,information,read)]\n\u001b[1;32m---> <a href='vscode-notebook-cell:/c%3A/Users/Julian%20Jacobs/Documents/GitHub/Sequitur/sequitur_context_aware_dbg_v5.ipynb#ch0000014?line=50'>51</a>\u001b[0m     \u001b[39mreturn\u001b[39;00m \u001b[39mself\u001b[39;49m\u001b[39m.\u001b[39;49mgrow(sequence,\u001b[39mdir\u001b[39;49m)\n\u001b[0;32m     <a href='vscode-notebook-cell:/c%3A/Users/Julian%20Jacobs/Documents/GitHub/Sequitur/sequitur_context_aware_dbg_v5.ipynb#ch0000014?line=51'>52</a>\u001b[0m \u001b[39melse\u001b[39;00m: \n\u001b[0;32m     <a href='vscode-notebook-cell:/c%3A/Users/Julian%20Jacobs/Documents/GitHub/Sequitur/sequitur_context_aware_dbg_v5.ipynb#ch0000014?line=52'>53</a>\u001b[0m     \u001b[39mprint\u001b[39m(sequence)\n",
      "\u001b[1;32mc:\\Users\\Julian Jacobs\\Documents\\GitHub\\Sequitur\\sequitur_context_aware_dbg_v5.ipynb Cell 12\u001b[0m in \u001b[0;36mRoot.grow\u001b[1;34m(self, sequence, dir, initial)\u001b[0m\n\u001b[0;32m     <a href='vscode-notebook-cell:/c%3A/Users/Julian%20Jacobs/Documents/GitHub/Sequitur/sequitur_context_aware_dbg_v5.ipynb#ch0000014?line=51'>52</a>\u001b[0m \u001b[39melse\u001b[39;00m: \n\u001b[0;32m     <a href='vscode-notebook-cell:/c%3A/Users/Julian%20Jacobs/Documents/GitHub/Sequitur/sequitur_context_aware_dbg_v5.ipynb#ch0000014?line=52'>53</a>\u001b[0m     \u001b[39mprint\u001b[39m(sequence)\n\u001b[1;32m---> <a href='vscode-notebook-cell:/c%3A/Users/Julian%20Jacobs/Documents/GitHub/Sequitur/sequitur_context_aware_dbg_v5.ipynb#ch0000014?line=53'>54</a>\u001b[0m     sequence \u001b[39m=\u001b[39m \u001b[39mself\u001b[39;49m\u001b[39m.\u001b[39;49mclimb(sequence,\u001b[39mdir\u001b[39;49m) \n\u001b[0;32m     <a href='vscode-notebook-cell:/c%3A/Users/Julian%20Jacobs/Documents/GitHub/Sequitur/sequitur_context_aware_dbg_v5.ipynb#ch0000014?line=54'>55</a>\u001b[0m     \u001b[39mif\u001b[39;00m sequence[\u001b[39m0\u001b[39m] \u001b[39m==\u001b[39m \u001b[39m'\u001b[39m\u001b[39m^\u001b[39m\u001b[39m'\u001b[39m \u001b[39mand\u001b[39;00m \u001b[39mnot\u001b[39;00m \u001b[39mdir\u001b[39m: \u001b[39mreturn\u001b[39;00m \u001b[39mself\u001b[39m\u001b[39m.\u001b[39mnetwork\u001b[39m.\u001b[39mget_root(sequence,\u001b[39m1\u001b[39m)\u001b[39m.\u001b[39mgrow(sequence,\u001b[39m1\u001b[39m)\n\u001b[0;32m     <a href='vscode-notebook-cell:/c%3A/Users/Julian%20Jacobs/Documents/GitHub/Sequitur/sequitur_context_aware_dbg_v5.ipynb#ch0000014?line=55'>56</a>\u001b[0m     \u001b[39melif\u001b[39;00m sequence[\u001b[39m-\u001b[39m\u001b[39m1\u001b[39m] \u001b[39m==\u001b[39m \u001b[39m'\u001b[39m\u001b[39m$\u001b[39m\u001b[39m'\u001b[39m: \u001b[39mreturn\u001b[39;00m sequence\n",
      "\u001b[1;32mc:\\Users\\Julian Jacobs\\Documents\\GitHub\\Sequitur\\sequitur_context_aware_dbg_v5.ipynb Cell 12\u001b[0m in \u001b[0;36mBranch.climb\u001b[1;34m(self, sequence, dir, careful)\u001b[0m\n\u001b[0;32m     <a href='vscode-notebook-cell:/c%3A/Users/Julian%20Jacobs/Documents/GitHub/Sequitur/sequitur_context_aware_dbg_v5.ipynb#ch0000014?line=30'>31</a>\u001b[0m     \u001b[39melse\u001b[39;00m: _,_,context \u001b[39m=\u001b[39m sequence\u001b[39m.\u001b[39mpartition(\u001b[39mself\u001b[39m\u001b[39m.\u001b[39mnode\u001b[39m.\u001b[39mstalk)\n\u001b[0;32m     <a href='vscode-notebook-cell:/c%3A/Users/Julian%20Jacobs/Documents/GitHub/Sequitur/sequitur_context_aware_dbg_v5.ipynb#ch0000014?line=31'>32</a>\u001b[0m context \u001b[39m=\u001b[39m Node(context,\u001b[39mdir\u001b[39m)\n\u001b[1;32m---> <a href='vscode-notebook-cell:/c%3A/Users/Julian%20Jacobs/Documents/GitHub/Sequitur/sequitur_context_aware_dbg_v5.ipynb#ch0000014?line=32'>33</a>\u001b[0m \u001b[39mif\u001b[39;00m context \u001b[39min\u001b[39;00m \u001b[39mself\u001b[39m\u001b[39m.\u001b[39mbranches: \u001b[39mreturn\u001b[39;00m \u001b[39mself\u001b[39;49m\u001b[39m.\u001b[39;49mbranches[context]\u001b[39m.\u001b[39;49mclimb(sequence,\u001b[39mdir\u001b[39;49m)\n\u001b[0;32m     <a href='vscode-notebook-cell:/c%3A/Users/Julian%20Jacobs/Documents/GitHub/Sequitur/sequitur_context_aware_dbg_v5.ipynb#ch0000014?line=33'>34</a>\u001b[0m \u001b[39melse\u001b[39;00m: \n\u001b[0;32m     <a href='vscode-notebook-cell:/c%3A/Users/Julian%20Jacobs/Documents/GitHub/Sequitur/sequitur_context_aware_dbg_v5.ipynb#ch0000014?line=34'>35</a>\u001b[0m     \u001b[39mif\u001b[39;00m context \u001b[39min\u001b[39;00m \u001b[39mself\u001b[39m\u001b[39m.\u001b[39mleaves \u001b[39mand\u001b[39;00m \u001b[39mnot\u001b[39;00m \u001b[39mself\u001b[39m\u001b[39m.\u001b[39mleaves[context]\u001b[39m.\u001b[39mread\u001b[39m.\u001b[39mis_sequenced: \n",
      "\u001b[1;32mc:\\Users\\Julian Jacobs\\Documents\\GitHub\\Sequitur\\sequitur_context_aware_dbg_v5.ipynb Cell 12\u001b[0m in \u001b[0;36mBranch.climb\u001b[1;34m(self, sequence, dir, careful)\u001b[0m\n\u001b[0;32m     <a href='vscode-notebook-cell:/c%3A/Users/Julian%20Jacobs/Documents/GitHub/Sequitur/sequitur_context_aware_dbg_v5.ipynb#ch0000014?line=30'>31</a>\u001b[0m     \u001b[39melse\u001b[39;00m: _,_,context \u001b[39m=\u001b[39m sequence\u001b[39m.\u001b[39mpartition(\u001b[39mself\u001b[39m\u001b[39m.\u001b[39mnode\u001b[39m.\u001b[39mstalk)\n\u001b[0;32m     <a href='vscode-notebook-cell:/c%3A/Users/Julian%20Jacobs/Documents/GitHub/Sequitur/sequitur_context_aware_dbg_v5.ipynb#ch0000014?line=31'>32</a>\u001b[0m context \u001b[39m=\u001b[39m Node(context,\u001b[39mdir\u001b[39m)\n\u001b[1;32m---> <a href='vscode-notebook-cell:/c%3A/Users/Julian%20Jacobs/Documents/GitHub/Sequitur/sequitur_context_aware_dbg_v5.ipynb#ch0000014?line=32'>33</a>\u001b[0m \u001b[39mif\u001b[39;00m context \u001b[39min\u001b[39;00m \u001b[39mself\u001b[39m\u001b[39m.\u001b[39mbranches: \u001b[39mreturn\u001b[39;00m \u001b[39mself\u001b[39;49m\u001b[39m.\u001b[39;49mbranches[context]\u001b[39m.\u001b[39;49mclimb(sequence,\u001b[39mdir\u001b[39;49m)\n\u001b[0;32m     <a href='vscode-notebook-cell:/c%3A/Users/Julian%20Jacobs/Documents/GitHub/Sequitur/sequitur_context_aware_dbg_v5.ipynb#ch0000014?line=33'>34</a>\u001b[0m \u001b[39melse\u001b[39;00m: \n\u001b[0;32m     <a href='vscode-notebook-cell:/c%3A/Users/Julian%20Jacobs/Documents/GitHub/Sequitur/sequitur_context_aware_dbg_v5.ipynb#ch0000014?line=34'>35</a>\u001b[0m     \u001b[39mif\u001b[39;00m context \u001b[39min\u001b[39;00m \u001b[39mself\u001b[39m\u001b[39m.\u001b[39mleaves \u001b[39mand\u001b[39;00m \u001b[39mnot\u001b[39;00m \u001b[39mself\u001b[39m\u001b[39m.\u001b[39mleaves[context]\u001b[39m.\u001b[39mread\u001b[39m.\u001b[39mis_sequenced: \n",
      "\u001b[1;32mc:\\Users\\Julian Jacobs\\Documents\\GitHub\\Sequitur\\sequitur_context_aware_dbg_v5.ipynb Cell 12\u001b[0m in \u001b[0;36mBranch.climb\u001b[1;34m(self, sequence, dir, careful)\u001b[0m\n\u001b[0;32m     <a href='vscode-notebook-cell:/c%3A/Users/Julian%20Jacobs/Documents/GitHub/Sequitur/sequitur_context_aware_dbg_v5.ipynb#ch0000014?line=32'>33</a>\u001b[0m \u001b[39mif\u001b[39;00m context \u001b[39min\u001b[39;00m \u001b[39mself\u001b[39m\u001b[39m.\u001b[39mbranches: \u001b[39mreturn\u001b[39;00m \u001b[39mself\u001b[39m\u001b[39m.\u001b[39mbranches[context]\u001b[39m.\u001b[39mclimb(sequence,\u001b[39mdir\u001b[39m)\n\u001b[0;32m     <a href='vscode-notebook-cell:/c%3A/Users/Julian%20Jacobs/Documents/GitHub/Sequitur/sequitur_context_aware_dbg_v5.ipynb#ch0000014?line=33'>34</a>\u001b[0m \u001b[39melse\u001b[39;00m: \n\u001b[1;32m---> <a href='vscode-notebook-cell:/c%3A/Users/Julian%20Jacobs/Documents/GitHub/Sequitur/sequitur_context_aware_dbg_v5.ipynb#ch0000014?line=34'>35</a>\u001b[0m     \u001b[39mif\u001b[39;00m context \u001b[39min\u001b[39;00m \u001b[39mself\u001b[39m\u001b[39m.\u001b[39mleaves \u001b[39mand\u001b[39;00m \u001b[39mnot\u001b[39;00m \u001b[39mself\u001b[39;49m\u001b[39m.\u001b[39;49mleaves[context]\u001b[39m.\u001b[39;49mread\u001b[39m.\u001b[39mis_sequenced: \n\u001b[0;32m     <a href='vscode-notebook-cell:/c%3A/Users/Julian%20Jacobs/Documents/GitHub/Sequitur/sequitur_context_aware_dbg_v5.ipynb#ch0000014?line=35'>36</a>\u001b[0m         \u001b[39mif\u001b[39;00m \u001b[39mdir\u001b[39m: sequence \u001b[39m+\u001b[39m\u001b[39m=\u001b[39m \u001b[39mself\u001b[39m\u001b[39m.\u001b[39mleaves[context]\u001b[39m.\u001b[39minformation\n\u001b[0;32m     <a href='vscode-notebook-cell:/c%3A/Users/Julian%20Jacobs/Documents/GitHub/Sequitur/sequitur_context_aware_dbg_v5.ipynb#ch0000014?line=36'>37</a>\u001b[0m         \u001b[39melse\u001b[39;00m: sequence \u001b[39m=\u001b[39m \u001b[39mself\u001b[39m\u001b[39m.\u001b[39mleaves[context]\u001b[39m.\u001b[39minformation \u001b[39m+\u001b[39m sequence\n",
      "\u001b[1;31mAttributeError\u001b[0m: 'list' object has no attribute 'read'"
     ]
    }
   ],
   "source": [
    "k = 3\n",
    "r = RootNetwork(k)\n",
    "reads = {}\n",
    "rnd = random.randint(0,7)\n",
    "j = 0\n",
    "initial_read = ''\n",
    "for read in ['she_sells_s',\n",
    "                   'lls_sea_shel',\n",
    "                        'ea_shells_o',\n",
    "                           'shells_on_the_s',\n",
    "                                      'he_sea_s',\n",
    "                                          'ea_shore']:\n",
    "    reads[read] = Read(read)\n",
    "    if rnd == j: initial_read = read\n",
    "    j += 1\n",
    "    for i in range(len(read)-k+1):\n",
    "        if read[i:i+k] not in r: r.plant_trie(Root(read[i:i+k],r))\n",
    "        r[read[i:i+k]].add_read(reads[read])\n",
    "r.build(initial_read)"
   ]
  },
  {
   "cell_type": "code",
   "execution_count": 20,
   "metadata": {},
   "outputs": [
    {
     "name": "stdout",
     "output_type": "stream",
     "text": [
      "as_bitter_so_betty_bought\n",
      "he_butter_was_bitter_so_betty_bought\n"
     ]
    },
    {
     "ename": "KeyError",
     "evalue": "'$he'",
     "output_type": "error",
     "traceback": [
      "\u001b[1;31m---------------------------------------------------------------------------\u001b[0m",
      "\u001b[1;31mKeyError\u001b[0m                                  Traceback (most recent call last)",
      "\u001b[1;32mc:\\Users\\Julian Jacobs\\Documents\\GitHub\\Sequitur\\sequitur_context_aware_dbg_v5.ipynb Cell 13\u001b[0m in \u001b[0;36m<module>\u001b[1;34m\u001b[0m\n\u001b[0;32m     <a href='vscode-notebook-cell:/c%3A/Users/Julian%20Jacobs/Documents/GitHub/Sequitur/sequitur_context_aware_dbg_v5.ipynb#ch0000011?line=18'>19</a>\u001b[0m         \u001b[39mif\u001b[39;00m read[i:i\u001b[39m+\u001b[39mk] \u001b[39mnot\u001b[39;00m \u001b[39min\u001b[39;00m r: r\u001b[39m.\u001b[39mplant_trie(Root(read[i:i\u001b[39m+\u001b[39mk],r))\n\u001b[0;32m     <a href='vscode-notebook-cell:/c%3A/Users/Julian%20Jacobs/Documents/GitHub/Sequitur/sequitur_context_aware_dbg_v5.ipynb#ch0000011?line=19'>20</a>\u001b[0m         r[read[i:i\u001b[39m+\u001b[39mk]]\u001b[39m.\u001b[39madd_read(reads[read])\n\u001b[1;32m---> <a href='vscode-notebook-cell:/c%3A/Users/Julian%20Jacobs/Documents/GitHub/Sequitur/sequitur_context_aware_dbg_v5.ipynb#ch0000011?line=20'>21</a>\u001b[0m r\u001b[39m.\u001b[39;49mbuild(initial_read)\n",
      "\u001b[1;32mc:\\Users\\Julian Jacobs\\Documents\\GitHub\\Sequitur\\sequitur_context_aware_dbg_v5.ipynb Cell 13\u001b[0m in \u001b[0;36mRootNetwork.build\u001b[1;34m(self, sequence, dir, initial)\u001b[0m\n\u001b[0;32m     <a href='vscode-notebook-cell:/c%3A/Users/Julian%20Jacobs/Documents/GitHub/Sequitur/sequitur_context_aware_dbg_v5.ipynb#ch0000011?line=14'>15</a>\u001b[0m \u001b[39mdef\u001b[39;00m \u001b[39mbuild\u001b[39m(\u001b[39mself\u001b[39m,sequence,\u001b[39mdir\u001b[39m\u001b[39m=\u001b[39m\u001b[39m0\u001b[39m,initial\u001b[39m=\u001b[39m\u001b[39mTrue\u001b[39;00m):\n\u001b[1;32m---> <a href='vscode-notebook-cell:/c%3A/Users/Julian%20Jacobs/Documents/GitHub/Sequitur/sequitur_context_aware_dbg_v5.ipynb#ch0000011?line=15'>16</a>\u001b[0m     \u001b[39mreturn\u001b[39;00m \u001b[39mself\u001b[39;49m\u001b[39m.\u001b[39;49mget_root(sequence,\u001b[39mdir\u001b[39;49m)\u001b[39m.\u001b[39;49mgrow(sequence,\u001b[39mdir\u001b[39;49m,initial)\n",
      "\u001b[1;32mc:\\Users\\Julian Jacobs\\Documents\\GitHub\\Sequitur\\sequitur_context_aware_dbg_v5.ipynb Cell 13\u001b[0m in \u001b[0;36mRoot.grow\u001b[1;34m(self, sequence, dir, initial)\u001b[0m\n\u001b[0;32m     <a href='vscode-notebook-cell:/c%3A/Users/Julian%20Jacobs/Documents/GitHub/Sequitur/sequitur_context_aware_dbg_v5.ipynb#ch0000011?line=48'>49</a>\u001b[0m                 \u001b[39melse\u001b[39;00m: \u001b[39mself\u001b[39m\u001b[39m.\u001b[39mbranches[node]\u001b[39m.\u001b[39mleaves[context] \u001b[39m=\u001b[39m Leaf(context,information,read)\n\u001b[0;32m     <a href='vscode-notebook-cell:/c%3A/Users/Julian%20Jacobs/Documents/GitHub/Sequitur/sequitur_context_aware_dbg_v5.ipynb#ch0000011?line=49'>50</a>\u001b[0m             \u001b[39melse\u001b[39;00m: \u001b[39mself\u001b[39m\u001b[39m.\u001b[39mleaves[context] \u001b[39m=\u001b[39m [Leaf(context,information,read)]\n\u001b[1;32m---> <a href='vscode-notebook-cell:/c%3A/Users/Julian%20Jacobs/Documents/GitHub/Sequitur/sequitur_context_aware_dbg_v5.ipynb#ch0000011?line=50'>51</a>\u001b[0m     \u001b[39mreturn\u001b[39;00m \u001b[39mself\u001b[39;49m\u001b[39m.\u001b[39;49mgrow(sequence,\u001b[39mdir\u001b[39;49m)\n\u001b[0;32m     <a href='vscode-notebook-cell:/c%3A/Users/Julian%20Jacobs/Documents/GitHub/Sequitur/sequitur_context_aware_dbg_v5.ipynb#ch0000011?line=51'>52</a>\u001b[0m \u001b[39melse\u001b[39;00m: \n\u001b[0;32m     <a href='vscode-notebook-cell:/c%3A/Users/Julian%20Jacobs/Documents/GitHub/Sequitur/sequitur_context_aware_dbg_v5.ipynb#ch0000011?line=52'>53</a>\u001b[0m     \u001b[39mprint\u001b[39m(sequence)\n",
      "\u001b[1;32mc:\\Users\\Julian Jacobs\\Documents\\GitHub\\Sequitur\\sequitur_context_aware_dbg_v5.ipynb Cell 13\u001b[0m in \u001b[0;36mRoot.grow\u001b[1;34m(self, sequence, dir, initial)\u001b[0m\n\u001b[0;32m     <a href='vscode-notebook-cell:/c%3A/Users/Julian%20Jacobs/Documents/GitHub/Sequitur/sequitur_context_aware_dbg_v5.ipynb#ch0000011?line=48'>49</a>\u001b[0m                 \u001b[39melse\u001b[39;00m: \u001b[39mself\u001b[39m\u001b[39m.\u001b[39mbranches[node]\u001b[39m.\u001b[39mleaves[context] \u001b[39m=\u001b[39m Leaf(context,information,read)\n\u001b[0;32m     <a href='vscode-notebook-cell:/c%3A/Users/Julian%20Jacobs/Documents/GitHub/Sequitur/sequitur_context_aware_dbg_v5.ipynb#ch0000011?line=49'>50</a>\u001b[0m             \u001b[39melse\u001b[39;00m: \u001b[39mself\u001b[39m\u001b[39m.\u001b[39mleaves[context] \u001b[39m=\u001b[39m [Leaf(context,information,read)]\n\u001b[1;32m---> <a href='vscode-notebook-cell:/c%3A/Users/Julian%20Jacobs/Documents/GitHub/Sequitur/sequitur_context_aware_dbg_v5.ipynb#ch0000011?line=50'>51</a>\u001b[0m     \u001b[39mreturn\u001b[39;00m \u001b[39mself\u001b[39;49m\u001b[39m.\u001b[39;49mgrow(sequence,\u001b[39mdir\u001b[39;49m)\n\u001b[0;32m     <a href='vscode-notebook-cell:/c%3A/Users/Julian%20Jacobs/Documents/GitHub/Sequitur/sequitur_context_aware_dbg_v5.ipynb#ch0000011?line=51'>52</a>\u001b[0m \u001b[39melse\u001b[39;00m: \n\u001b[0;32m     <a href='vscode-notebook-cell:/c%3A/Users/Julian%20Jacobs/Documents/GitHub/Sequitur/sequitur_context_aware_dbg_v5.ipynb#ch0000011?line=52'>53</a>\u001b[0m     \u001b[39mprint\u001b[39m(sequence)\n",
      "\u001b[1;32mc:\\Users\\Julian Jacobs\\Documents\\GitHub\\Sequitur\\sequitur_context_aware_dbg_v5.ipynb Cell 13\u001b[0m in \u001b[0;36mRoot.grow\u001b[1;34m(self, sequence, dir, initial)\u001b[0m\n\u001b[0;32m     <a href='vscode-notebook-cell:/c%3A/Users/Julian%20Jacobs/Documents/GitHub/Sequitur/sequitur_context_aware_dbg_v5.ipynb#ch0000011?line=48'>49</a>\u001b[0m                 \u001b[39melse\u001b[39;00m: \u001b[39mself\u001b[39m\u001b[39m.\u001b[39mbranches[node]\u001b[39m.\u001b[39mleaves[context] \u001b[39m=\u001b[39m Leaf(context,information,read)\n\u001b[0;32m     <a href='vscode-notebook-cell:/c%3A/Users/Julian%20Jacobs/Documents/GitHub/Sequitur/sequitur_context_aware_dbg_v5.ipynb#ch0000011?line=49'>50</a>\u001b[0m             \u001b[39melse\u001b[39;00m: \u001b[39mself\u001b[39m\u001b[39m.\u001b[39mleaves[context] \u001b[39m=\u001b[39m [Leaf(context,information,read)]\n\u001b[1;32m---> <a href='vscode-notebook-cell:/c%3A/Users/Julian%20Jacobs/Documents/GitHub/Sequitur/sequitur_context_aware_dbg_v5.ipynb#ch0000011?line=50'>51</a>\u001b[0m     \u001b[39mreturn\u001b[39;00m \u001b[39mself\u001b[39;49m\u001b[39m.\u001b[39;49mgrow(sequence,\u001b[39mdir\u001b[39;49m)\n\u001b[0;32m     <a href='vscode-notebook-cell:/c%3A/Users/Julian%20Jacobs/Documents/GitHub/Sequitur/sequitur_context_aware_dbg_v5.ipynb#ch0000011?line=51'>52</a>\u001b[0m \u001b[39melse\u001b[39;00m: \n\u001b[0;32m     <a href='vscode-notebook-cell:/c%3A/Users/Julian%20Jacobs/Documents/GitHub/Sequitur/sequitur_context_aware_dbg_v5.ipynb#ch0000011?line=52'>53</a>\u001b[0m     \u001b[39mprint\u001b[39m(sequence)\n",
      "\u001b[1;32mc:\\Users\\Julian Jacobs\\Documents\\GitHub\\Sequitur\\sequitur_context_aware_dbg_v5.ipynb Cell 13\u001b[0m in \u001b[0;36mRoot.grow\u001b[1;34m(self, sequence, dir, initial)\u001b[0m\n\u001b[0;32m     <a href='vscode-notebook-cell:/c%3A/Users/Julian%20Jacobs/Documents/GitHub/Sequitur/sequitur_context_aware_dbg_v5.ipynb#ch0000011?line=54'>55</a>\u001b[0m \u001b[39mif\u001b[39;00m sequence[\u001b[39m0\u001b[39m] \u001b[39m==\u001b[39m \u001b[39m'\u001b[39m\u001b[39m^\u001b[39m\u001b[39m'\u001b[39m \u001b[39mand\u001b[39;00m \u001b[39mnot\u001b[39;00m \u001b[39mdir\u001b[39m: \u001b[39mreturn\u001b[39;00m \u001b[39mself\u001b[39m\u001b[39m.\u001b[39mnetwork\u001b[39m.\u001b[39mget_root(sequence,\u001b[39m1\u001b[39m)\u001b[39m.\u001b[39mgrow(sequence,\u001b[39m1\u001b[39m)\n\u001b[0;32m     <a href='vscode-notebook-cell:/c%3A/Users/Julian%20Jacobs/Documents/GitHub/Sequitur/sequitur_context_aware_dbg_v5.ipynb#ch0000011?line=55'>56</a>\u001b[0m \u001b[39melif\u001b[39;00m sequence[\u001b[39m-\u001b[39m\u001b[39m1\u001b[39m] \u001b[39m==\u001b[39m \u001b[39m'\u001b[39m\u001b[39m$\u001b[39m\u001b[39m'\u001b[39m: \u001b[39mreturn\u001b[39;00m sequence\n\u001b[1;32m---> <a href='vscode-notebook-cell:/c%3A/Users/Julian%20Jacobs/Documents/GitHub/Sequitur/sequitur_context_aware_dbg_v5.ipynb#ch0000011?line=56'>57</a>\u001b[0m \u001b[39mreturn\u001b[39;00m \u001b[39mself\u001b[39;49m\u001b[39m.\u001b[39;49mnetwork\u001b[39m.\u001b[39;49mget_root(sequence,\u001b[39mdir\u001b[39;49m)\u001b[39m.\u001b[39;49mgrow(sequence,\u001b[39mdir\u001b[39;49m)\n",
      "\u001b[1;32mc:\\Users\\Julian Jacobs\\Documents\\GitHub\\Sequitur\\sequitur_context_aware_dbg_v5.ipynb Cell 13\u001b[0m in \u001b[0;36mRoot.grow\u001b[1;34m(self, sequence, dir, initial)\u001b[0m\n\u001b[0;32m     <a href='vscode-notebook-cell:/c%3A/Users/Julian%20Jacobs/Documents/GitHub/Sequitur/sequitur_context_aware_dbg_v5.ipynb#ch0000011?line=48'>49</a>\u001b[0m                 \u001b[39melse\u001b[39;00m: \u001b[39mself\u001b[39m\u001b[39m.\u001b[39mbranches[node]\u001b[39m.\u001b[39mleaves[context] \u001b[39m=\u001b[39m Leaf(context,information,read)\n\u001b[0;32m     <a href='vscode-notebook-cell:/c%3A/Users/Julian%20Jacobs/Documents/GitHub/Sequitur/sequitur_context_aware_dbg_v5.ipynb#ch0000011?line=49'>50</a>\u001b[0m             \u001b[39melse\u001b[39;00m: \u001b[39mself\u001b[39m\u001b[39m.\u001b[39mleaves[context] \u001b[39m=\u001b[39m [Leaf(context,information,read)]\n\u001b[1;32m---> <a href='vscode-notebook-cell:/c%3A/Users/Julian%20Jacobs/Documents/GitHub/Sequitur/sequitur_context_aware_dbg_v5.ipynb#ch0000011?line=50'>51</a>\u001b[0m     \u001b[39mreturn\u001b[39;00m \u001b[39mself\u001b[39;49m\u001b[39m.\u001b[39;49mgrow(sequence,\u001b[39mdir\u001b[39;49m)\n\u001b[0;32m     <a href='vscode-notebook-cell:/c%3A/Users/Julian%20Jacobs/Documents/GitHub/Sequitur/sequitur_context_aware_dbg_v5.ipynb#ch0000011?line=51'>52</a>\u001b[0m \u001b[39melse\u001b[39;00m: \n\u001b[0;32m     <a href='vscode-notebook-cell:/c%3A/Users/Julian%20Jacobs/Documents/GitHub/Sequitur/sequitur_context_aware_dbg_v5.ipynb#ch0000011?line=52'>53</a>\u001b[0m     \u001b[39mprint\u001b[39m(sequence)\n",
      "\u001b[1;32mc:\\Users\\Julian Jacobs\\Documents\\GitHub\\Sequitur\\sequitur_context_aware_dbg_v5.ipynb Cell 13\u001b[0m in \u001b[0;36mRoot.grow\u001b[1;34m(self, sequence, dir, initial)\u001b[0m\n\u001b[0;32m     <a href='vscode-notebook-cell:/c%3A/Users/Julian%20Jacobs/Documents/GitHub/Sequitur/sequitur_context_aware_dbg_v5.ipynb#ch0000011?line=48'>49</a>\u001b[0m                 \u001b[39melse\u001b[39;00m: \u001b[39mself\u001b[39m\u001b[39m.\u001b[39mbranches[node]\u001b[39m.\u001b[39mleaves[context] \u001b[39m=\u001b[39m Leaf(context,information,read)\n\u001b[0;32m     <a href='vscode-notebook-cell:/c%3A/Users/Julian%20Jacobs/Documents/GitHub/Sequitur/sequitur_context_aware_dbg_v5.ipynb#ch0000011?line=49'>50</a>\u001b[0m             \u001b[39melse\u001b[39;00m: \u001b[39mself\u001b[39m\u001b[39m.\u001b[39mleaves[context] \u001b[39m=\u001b[39m [Leaf(context,information,read)]\n\u001b[1;32m---> <a href='vscode-notebook-cell:/c%3A/Users/Julian%20Jacobs/Documents/GitHub/Sequitur/sequitur_context_aware_dbg_v5.ipynb#ch0000011?line=50'>51</a>\u001b[0m     \u001b[39mreturn\u001b[39;00m \u001b[39mself\u001b[39;49m\u001b[39m.\u001b[39;49mgrow(sequence,\u001b[39mdir\u001b[39;49m)\n\u001b[0;32m     <a href='vscode-notebook-cell:/c%3A/Users/Julian%20Jacobs/Documents/GitHub/Sequitur/sequitur_context_aware_dbg_v5.ipynb#ch0000011?line=51'>52</a>\u001b[0m \u001b[39melse\u001b[39;00m: \n\u001b[0;32m     <a href='vscode-notebook-cell:/c%3A/Users/Julian%20Jacobs/Documents/GitHub/Sequitur/sequitur_context_aware_dbg_v5.ipynb#ch0000011?line=52'>53</a>\u001b[0m     \u001b[39mprint\u001b[39m(sequence)\n",
      "    \u001b[1;31m[... skipping similar frames: Root.grow at line 51 (1 times)]\u001b[0m\n",
      "\u001b[1;32mc:\\Users\\Julian Jacobs\\Documents\\GitHub\\Sequitur\\sequitur_context_aware_dbg_v5.ipynb Cell 13\u001b[0m in \u001b[0;36mRoot.grow\u001b[1;34m(self, sequence, dir, initial)\u001b[0m\n\u001b[0;32m     <a href='vscode-notebook-cell:/c%3A/Users/Julian%20Jacobs/Documents/GitHub/Sequitur/sequitur_context_aware_dbg_v5.ipynb#ch0000011?line=48'>49</a>\u001b[0m                 \u001b[39melse\u001b[39;00m: \u001b[39mself\u001b[39m\u001b[39m.\u001b[39mbranches[node]\u001b[39m.\u001b[39mleaves[context] \u001b[39m=\u001b[39m Leaf(context,information,read)\n\u001b[0;32m     <a href='vscode-notebook-cell:/c%3A/Users/Julian%20Jacobs/Documents/GitHub/Sequitur/sequitur_context_aware_dbg_v5.ipynb#ch0000011?line=49'>50</a>\u001b[0m             \u001b[39melse\u001b[39;00m: \u001b[39mself\u001b[39m\u001b[39m.\u001b[39mleaves[context] \u001b[39m=\u001b[39m [Leaf(context,information,read)]\n\u001b[1;32m---> <a href='vscode-notebook-cell:/c%3A/Users/Julian%20Jacobs/Documents/GitHub/Sequitur/sequitur_context_aware_dbg_v5.ipynb#ch0000011?line=50'>51</a>\u001b[0m     \u001b[39mreturn\u001b[39;00m \u001b[39mself\u001b[39;49m\u001b[39m.\u001b[39;49mgrow(sequence,\u001b[39mdir\u001b[39;49m)\n\u001b[0;32m     <a href='vscode-notebook-cell:/c%3A/Users/Julian%20Jacobs/Documents/GitHub/Sequitur/sequitur_context_aware_dbg_v5.ipynb#ch0000011?line=51'>52</a>\u001b[0m \u001b[39melse\u001b[39;00m: \n\u001b[0;32m     <a href='vscode-notebook-cell:/c%3A/Users/Julian%20Jacobs/Documents/GitHub/Sequitur/sequitur_context_aware_dbg_v5.ipynb#ch0000011?line=52'>53</a>\u001b[0m     \u001b[39mprint\u001b[39m(sequence)\n",
      "\u001b[1;32mc:\\Users\\Julian Jacobs\\Documents\\GitHub\\Sequitur\\sequitur_context_aware_dbg_v5.ipynb Cell 13\u001b[0m in \u001b[0;36mRoot.grow\u001b[1;34m(self, sequence, dir, initial)\u001b[0m\n\u001b[0;32m     <a href='vscode-notebook-cell:/c%3A/Users/Julian%20Jacobs/Documents/GitHub/Sequitur/sequitur_context_aware_dbg_v5.ipynb#ch0000011?line=54'>55</a>\u001b[0m \u001b[39mif\u001b[39;00m sequence[\u001b[39m0\u001b[39m] \u001b[39m==\u001b[39m \u001b[39m'\u001b[39m\u001b[39m^\u001b[39m\u001b[39m'\u001b[39m \u001b[39mand\u001b[39;00m \u001b[39mnot\u001b[39;00m \u001b[39mdir\u001b[39m: \u001b[39mreturn\u001b[39;00m \u001b[39mself\u001b[39m\u001b[39m.\u001b[39mnetwork\u001b[39m.\u001b[39mget_root(sequence,\u001b[39m1\u001b[39m)\u001b[39m.\u001b[39mgrow(sequence,\u001b[39m1\u001b[39m)\n\u001b[0;32m     <a href='vscode-notebook-cell:/c%3A/Users/Julian%20Jacobs/Documents/GitHub/Sequitur/sequitur_context_aware_dbg_v5.ipynb#ch0000011?line=55'>56</a>\u001b[0m \u001b[39melif\u001b[39;00m sequence[\u001b[39m-\u001b[39m\u001b[39m1\u001b[39m] \u001b[39m==\u001b[39m \u001b[39m'\u001b[39m\u001b[39m$\u001b[39m\u001b[39m'\u001b[39m: \u001b[39mreturn\u001b[39;00m sequence\n\u001b[1;32m---> <a href='vscode-notebook-cell:/c%3A/Users/Julian%20Jacobs/Documents/GitHub/Sequitur/sequitur_context_aware_dbg_v5.ipynb#ch0000011?line=56'>57</a>\u001b[0m \u001b[39mreturn\u001b[39;00m \u001b[39mself\u001b[39;49m\u001b[39m.\u001b[39;49mnetwork\u001b[39m.\u001b[39;49mget_root(sequence,\u001b[39mdir\u001b[39;49m)\u001b[39m.\u001b[39mgrow(sequence,\u001b[39mdir\u001b[39m)\n",
      "\u001b[1;32mc:\\Users\\Julian Jacobs\\Documents\\GitHub\\Sequitur\\sequitur_context_aware_dbg_v5.ipynb Cell 13\u001b[0m in \u001b[0;36mRootNetwork.get_root\u001b[1;34m(self, sequence, dir)\u001b[0m\n\u001b[0;32m     <a href='vscode-notebook-cell:/c%3A/Users/Julian%20Jacobs/Documents/GitHub/Sequitur/sequitur_context_aware_dbg_v5.ipynb#ch0000011?line=20'>21</a>\u001b[0m \u001b[39mdef\u001b[39;00m \u001b[39mget_root\u001b[39m(\u001b[39mself\u001b[39m,sequence,\u001b[39mdir\u001b[39m):\n\u001b[0;32m     <a href='vscode-notebook-cell:/c%3A/Users/Julian%20Jacobs/Documents/GitHub/Sequitur/sequitur_context_aware_dbg_v5.ipynb#ch0000011?line=21'>22</a>\u001b[0m     \u001b[39mif\u001b[39;00m \u001b[39mdir\u001b[39m: \u001b[39mreturn\u001b[39;00m \u001b[39mself\u001b[39m[sequence[\u001b[39m-\u001b[39m\u001b[39mself\u001b[39m\u001b[39m.\u001b[39mk:]]\n\u001b[1;32m---> <a href='vscode-notebook-cell:/c%3A/Users/Julian%20Jacobs/Documents/GitHub/Sequitur/sequitur_context_aware_dbg_v5.ipynb#ch0000011?line=22'>23</a>\u001b[0m     \u001b[39melse\u001b[39;00m: \u001b[39mreturn\u001b[39;00m \u001b[39mself\u001b[39;49m[sequence[:\u001b[39mself\u001b[39;49m\u001b[39m.\u001b[39;49mk]]\n",
      "\u001b[1;32mc:\\Users\\Julian Jacobs\\Documents\\GitHub\\Sequitur\\sequitur_context_aware_dbg_v5.ipynb Cell 13\u001b[0m in \u001b[0;36mRootNetwork.__getitem__\u001b[1;34m(self, key)\u001b[0m\n\u001b[0;32m      <a href='vscode-notebook-cell:/c%3A/Users/Julian%20Jacobs/Documents/GitHub/Sequitur/sequitur_context_aware_dbg_v5.ipynb#ch0000011?line=6'>7</a>\u001b[0m \u001b[39mdef\u001b[39;00m \u001b[39m__getitem__\u001b[39m(\u001b[39mself\u001b[39m,key):\n\u001b[1;32m----> <a href='vscode-notebook-cell:/c%3A/Users/Julian%20Jacobs/Documents/GitHub/Sequitur/sequitur_context_aware_dbg_v5.ipynb#ch0000011?line=7'>8</a>\u001b[0m     \u001b[39mreturn\u001b[39;00m \u001b[39mself\u001b[39;49m\u001b[39m.\u001b[39;49mroots[key]\n",
      "\u001b[1;31mKeyError\u001b[0m: '$he'"
     ]
    }
   ],
   "source": [
    "k = 3\n",
    "r = RootNetwork(k)\n",
    "reads = {}\n",
    "rnd = random.randint(0,7)\n",
    "j = 0\n",
    "initial_read = ''\n",
    "for read in ['betty_bought_butter_th',\n",
    "                            'tter_the_butter_was_',\n",
    "                                   'he_butter_was_bitter_',\n",
    "                                              'as_bitter_so_betty_bought',\n",
    "                                                             'tty_bought_better_butter_t',\n",
    "                                                                             'r_butter_to_make_the_',\n",
    "                                                                                    'r_to_make_the_bitt',\n",
    "                                                                                           'ke_the_bitter_butter_better']:\n",
    "    reads[read] = Read(read)\n",
    "    if rnd == j: initial_read = read\n",
    "    j += 1\n",
    "    for i in range(len(read)-k+1):\n",
    "        if read[i:i+k] not in r: r.plant_trie(Root(read[i:i+k],r))\n",
    "        r[read[i:i+k]].add_read(reads[read])\n",
    "r.build(initial_read)"
   ]
  },
  {
   "cell_type": "code",
   "execution_count": null,
   "metadata": {},
   "outputs": [],
   "source": []
  }
 ],
 "metadata": {
  "interpreter": {
   "hash": "38731f125b301d8f0df7c54051f2a9a4c898c9398d16ef376d9fb7d661d33405"
  },
  "kernelspec": {
   "display_name": "Python 3.9.0 64-bit",
   "language": "python",
   "name": "python3"
  },
  "language_info": {
   "codemirror_mode": {
    "name": "ipython",
    "version": 3
   },
   "file_extension": ".py",
   "mimetype": "text/x-python",
   "name": "python",
   "nbconvert_exporter": "python",
   "pygments_lexer": "ipython3",
   "version": "3.9.0"
  },
  "orig_nbformat": 4
 },
 "nbformat": 4,
 "nbformat_minor": 2
}
