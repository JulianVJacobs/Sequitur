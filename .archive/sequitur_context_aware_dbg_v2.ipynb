{
  "cells": [
    {
      "cell_type": "markdown",
      "metadata": {},
      "source": [
        "* run-time collision resolution"
      ]
    },
    {
      "cell_type": "code",
      "execution_count": null,
      "metadata": {
        "id": "gAHAE7GUPhaO"
      },
      "outputs": [],
      "source": [
        "import unittest"
      ]
    },
    {
      "cell_type": "code",
      "execution_count": 1,
      "metadata": {
        "id": "UPiG6FBOTxBu"
      },
      "outputs": [],
      "source": [
        "def generate_sequence(n):\n",
        "  import random\n",
        "\n",
        "  bases = ['a','g','c','t']\n",
        "  seq = ''\n",
        "  for i in range(n):\n",
        "    seq += bases[random.randint(0,3)]\n",
        "  return seq\n",
        "\n",
        "def chop_sequence(sequence,min_len=3,max_len=15,min_overlap=3):\n",
        "  import random\n",
        "\n",
        "  start = 0\n",
        "  end = max(random.randint(start,max_len),min_len)\n",
        "  chop = [sequence[start:end]]\n",
        "  while end < len(sequence):\n",
        "    start = random.randint(start + 1,end - min_overlap)\n",
        "    end = max(random.randint(start,start + max_len),start + min_len)\n",
        "    chop += [sequence[start:end]]\n",
        "  return chop"
      ]
    },
    {
      "cell_type": "code",
      "execution_count": 4,
      "metadata": {
        "colab": {
          "base_uri": "https://localhost:8080/"
        },
        "id": "6aET_1bUT94R",
        "outputId": "bbf82abd-4f2f-42cc-8d19-cbc5be47bfeb"
      },
      "outputs": [
        {
          "name": "stdout",
          "output_type": "stream",
          "text": [
            "Fresh out of college, Barry the Bee (Jerry Seinfeld) finds the prospect of working with honey uninspiring. He flies outside the hive for the first time and talks to a human (Renée Zellweger), breaking a cardinal rule of his species. Barry learns that humans have been stealing and eating honey for centuries, and he realizes that his true calling is to obtain justice for his kind by suing humanity for theft.\n",
            "['Fresh out', 'resh out of coll', 'sh out of colle', ' out of co', 'out of colleg', ' of college,', 'college, Barry the', 'llege, Ba', 'lege, Barr', 'ege, Barry the Bee', 'arry the B', 'rry the Bee (', 'the Bee (Jerr', 'ee (Jerry', 'e (Jerry Sei', ' (Jerry S', '(Jerry Se', 'Jerry Sei', 'erry Sein', 'rry Seinfeld) f', 'einfeld) ', 'infeld) finds ', 'nfeld) finds t', 'd) finds t', ' finds the prospe', 'nds the prospec', 's the prospe', 'the prosp', 'he prospe', 'e prospect of work', 'ect of wo', 'ct of wor', 't of work', ' of worki', 'of workin', 'f working', ' working ', 'working with h', 'g with honey u', ' with honey', 'with hone', 'ith honey uninspir', 'h honey uninspir', ' uninspir', 'uninspiring. He', 'nspiring. He flie', 'spiring. He f', 'piring. He flies ', 'He flies outsid', 'es outside the hi', ' outside th', 'tside the', 'side the hiv', ' the hive for ', ' hive for the ', ' for the ', 'for the f', 'or the fi', 'r the first time ', 'st time a', 't time an', ' time and talks', ' and talks to a hu', 'and talks', 'nd talks ', 'd talks to a ', ' talks to', 'talks to ', 'alks to a human (R', ' human (R', 'human (Renée Z', 'uman (Ren', 'man (René', 'an (Renée Ze', '(Renée Zellweger', 'ellweger)', 'llweger), b', 'eger), br', 'ger), break', 'er), breaking a c', ' breaking a car', 'ng a card', 'g a cardinal rul', 'ardinal r', 'rdinal rul', 'inal rule of his', 'nal rule ', 'al rule o', 'l rule of his sp', 'rule of h', 'ule of his spec', ' his spec', 'his species.', 'species. ', 'pecies. B', 'ecies. Ba', 'cies. Barry learns', 'ies. Barry learns ', 'ry learns that ', 'arns that humans ', 'at humans', 't humans ', ' humans h', 'humans have be', 'ns have been stea', 've been s', 'e been stea', ' been ste', 'been stealing and ', 'ing and eati', ' and eating honey', 'and eatin', 'nd eating', 'd eating ho', 'ating hon', 'ting hone', 'ing honey', 'ng honey ', 'g honey f', ' honey for centuri', 'ney for c', 'ey for centur', 'for centu', 'or centur', 'r centuri', ' centurie', 'centuries', 'enturies,', 'nturies, and', 'turies, a', 'uries, and he ', 'ries, and', 'ies, and he r', 's, and he', ', and he reali', ' he realizes tha', 'he realizes th', 'e realize', ' realizes', 'realizes ', 'ealizes that his ', 'hat his t', 'at his true calli', 'true call', 'rue calli', 'ue callin', 'e calling', ' calling ', 'calling i', 'alling is', 'lling is ', 'ling is t', 'ing is to', 'ng is to obtain', 'is to obtain ', 'to obtain', 'o obtain ', ' obtain just', 'ain justi', 'in justic', 'n justice for his ', 'tice for his kind', 'r his kind by ', ' his kind', 'his kind ', 'is kind b', 's kind by suing h', 'd by suing humani', 'g humanit', ' humanity', 'humanity fo', 'umanity f', 'manity for the', 'y for theft.']\n"
          ]
        }
      ],
      "source": [
        "ref = \"Fresh out of college, Barry the Bee (Jerry Seinfeld) finds the prospect of working with honey uninspiring. He flies outside the hive for the first time and talks to a human (Renée Zellweger), breaking a cardinal rule of his species. Barry learns that humans have been stealing and eating honey for centuries, and he realizes that his true calling is to obtain justice for his kind by suing humanity for theft.\" #generate_sequence(200)\n",
        "reads = chop_sequence(ref,9,18,8)\n",
        "import random\n",
        "print(ref)\n",
        "print(reads)\n",
        "# random.shuffle(reads)"
      ]
    },
    {
      "cell_type": "code",
      "execution_count": 3,
      "metadata": {},
      "outputs": [
        {
          "name": "stdout",
          "output_type": "stream",
          "text": [
            "The sly brown fox jumps swiftly over the lazy dog\n",
            "['rown fox ', 'er the', 'iftly over', 'tly ov', ' over ', 'the lazy d', 'fox ju', 'azy dog', 'The sl', ' fox j', 'mps swiftly', 'own fo', 'x jump', 'he sly brow', ' jumps', 'e lazy', 'brown ']\n"
          ]
        }
      ],
      "source": [
        "ref = \"The sly brown fox jumps swiftly over the lazy dog\"\n",
        "reads = chop_sequence(ref,6,11)\n",
        "import random\n",
        "random.shuffle(reads)\n",
        "print(ref)\n",
        "print(reads)"
      ]
    },
    {
      "cell_type": "code",
      "execution_count": 5,
      "metadata": {
        "id": "vkfzsn4F9rNY"
      },
      "outputs": [],
      "source": [
        "class Read:\n",
        "  def __init__ (self,read,k_min=3):\n",
        "    self.read = read\n",
        "    self.k_min = k_min\n",
        "\n",
        "  def __repr__(self):\n",
        "    return self.read\n",
        "\n",
        "  def __getitem__(self,key):\n",
        "    return self.read[key]\n",
        "\n",
        "  def __len__(self):\n",
        "    return len(self.read)\n",
        "\n",
        "  def partition(self,sep):\n",
        "    return self.read.partition(sep)\n",
        "  \n",
        "  def startswith(self,key):\n",
        "    return self.read.startswith(key)\n",
        "\n",
        "  def endswith(self,key):\n",
        "    return self.read.endswith(key)\n",
        "\n",
        "  def find(self,key):\n",
        "    return self.read.find(key)\n",
        "\n",
        "  def __contains__(self,item):\n",
        "    return item in self.read\n",
        "\n",
        "  def get_all_partitions(self,root):\n",
        "    index = 0\n",
        "    for c in range(self.read.count(root)):\n",
        "      index = self.read.find(root,index)\n",
        "      part = list(self.read[index:].partition(root))\n",
        "      part[0] += self.read[:index]\n",
        "      yield part, index\n",
        "      index += len(root)\n",
        "\n",
        "  def connection_strength(self,other,root,index=0):\n",
        "    p2 = list(other.read[other.read.find(root,index):].partition(root))\n",
        "    p2[0] += other.read[:other.read.find(root,index)]\n",
        "    total = max_pre = max_suf = 0\n",
        "    curr_part = None\n",
        "    for p1 in self.get_all_partitions(root):\n",
        "      min_pre = min(len(p1[0][0]),len(p2[0]))\n",
        "      min_suf = min(len(p1[0][2]),len(p2[2]))\n",
        "      if min_pre == 0 and min_suf == 0: continue\n",
        "      if self.read[p1[1]-min_pre:p1[1]+len(root)+min_suf] == other.read[other.read.find(root,index)-min_pre:other.read.find(root,index)+len(root)+min_suf]:\n",
        "         max_pre = max(min_pre,max_pre)\n",
        "         max_suf = max(min_suf,max_suf)\n",
        "         if max_pre + max_suf > total:\n",
        "          total = max_pre + max_suf\n",
        "          curr_part = p1[0]\n",
        "    return {\n",
        "      'total_strength': total,\n",
        "      'prefix_strength': max_pre,\n",
        "      'suffix_strength': max_suf,\n",
        "      'p1': curr_part,\n",
        "      'p2': p2\n",
        "    }\n",
        "\n",
        "  def is_continuous_with(self,other,root,index=0):\n",
        "    p2 = list(other.read[other.read.find(root,index):].partition(root))\n",
        "    p2[0] += other.read[:other.read.find(root,index)]\n",
        "    for p1 in self.get_all_partitions(root):\n",
        "      min_pre = min(len(p1[0][0]),len(p2[0]))\n",
        "      min_suf = min(len(p1[0][2]),len(p2[2]))\n",
        "      # if min_pre == 0 and min_suf == 0: continue\n",
        "      if self.read[p1[1]-min_pre:p1[1]+len(root)+min_suf] == other.read[other.read.find(root,index)-min_pre:other.read.find(root,index)+len(root)+min_suf]: return True\n",
        "    return False\n",
        "\n",
        "  def continues_to(self,other,root):\n",
        "    return self.read.partition(root)[0].endswith(other.read.partition(root)[0])\n",
        "  \n",
        "  def continues_from(self,other,root):\n",
        "    return self.read.partition(root)[2].startswith(other.read.partition(root)[2]) "
      ]
    },
    {
      "cell_type": "code",
      "execution_count": 6,
      "metadata": {
        "id": "xSBk-D-z9k6F"
      },
      "outputs": [],
      "source": [
        "class Segment:\n",
        "  def __init__(self,prefix,root,suffix,read):\n",
        "    self.root = root\n",
        "    self.read = read\n",
        "    self.prefix = prefix\n",
        "    self.suffix = suffix\n",
        "    \n",
        "  def __repr__(self):\n",
        "    return '{}{}{}'.format(self.prefix.root + ' -> ' if self.prefix else '',self.root,' -> ' + self.suffix.root if self.suffix else '')\n",
        "\n",
        "  def __hash__(self):\n",
        "    return hash(self.root)\n",
        "\n",
        "  def __eq__(self,other):\n",
        "    return self.root == other.root\n",
        "\n",
        "  def __len__(self):\n",
        "    return len(self.root)\n",
        "\n",
        "  def __getitem__(self,key):\n",
        "    return self.root[key]"
      ]
    },
    {
      "cell_type": "code",
      "execution_count": 6,
      "metadata": {},
      "outputs": [],
      "source": [
        "# v2\n",
        "class Sequitur:\n",
        "  def __init__(self,reads,k_min=3):\n",
        "    self.k_min = min(list(map(len,reads)))\n",
        "    self.reads = list(map(Read,reads))\n",
        "    self.transitions = {}\n",
        "    self.ends = {}\n",
        "    self.seq = ''\n",
        "    for read in self.reads:\n",
        "      if read.read == 'Barry the Bee (':\n",
        "        print()\n",
        "      cont = False\n",
        "      seg = None\n",
        "      i = 1\n",
        "      l = self.k_min\n",
        "      # find starting point for read\n",
        "      if len(self.transitions) > 0:\n",
        "        for r in set(map(len,self.transitions.keys())):\n",
        "          a = 0\n",
        "          # while read[a:r+a] in self.transitions and self.transitions[read[a:r+a]].prefix and self.transitions[read[a:r+a]].prefix.read.is_continuous_with(read,read[a:r+a]):\n",
        "          while read[a:r+a] in self.transitions and self.transitions[read[a:r+a]].read.is_continuous_with(read,read[a:r+a]):\n",
        "            a += 1\n",
        "          if a > 0:\n",
        "            a -= 1\n",
        "            curr = self.transitions[read[a:r+a]]\n",
        "            while curr.suffix and curr.suffix.read.is_continuous_with(read,curr.suffix.root):\n",
        "              curr = curr.suffix\n",
        "            if curr.suffix and not read.endswith(curr.root):\n",
        "              # check for stronger suffix connection specifically\n",
        "              # when would a strong prefix connection matter?\n",
        "              new_conn = curr.read.connection_strength(read,curr.root)\n",
        "              old_conn = curr.read.connection_strength(curr.suffix.read,curr.root)\n",
        "              if new_conn[0] >= old_conn[0]:\n",
        "                if new_conn[1] >= old_conn[1]:\n",
        "                  print()\n",
        "                if new_conn[2] >= old_conn[2]:\n",
        "                  seg = curr\n",
        "                  curr.suffix.prefix = None\n",
        "                  curr.suffix = None\n",
        "                  l = read.find(curr.root) + len(curr.root)\n",
        "                  i = read.find(curr.root) + 1\n",
        "                break\n",
        "              elif new_conn[0] < 2:\n",
        "                continue\n",
        "              else:\n",
        "                cont = True\n",
        "                break\n",
        "            elif curr.suffix and read.endswith(curr.root):\n",
        "              cont = True\n",
        "              break\n",
        "            else: \n",
        "              seg = curr\n",
        "              # seg.read = read\n",
        "              l = read.find(curr.root) + len(curr.root)\n",
        "              i = read.find(curr.root) + 1\n",
        "              break\n",
        "      if cont:\n",
        "        continue\n",
        "      if not seg:\n",
        "        a = 0\n",
        "        while read[:self.k_min+a] in self.transitions:\n",
        "          a += 1\n",
        "        seg = Segment(None,read[:self.k_min+a],None,read)\n",
        "        self.transitions[read[:self.k_min+a]] = seg\n",
        "      s = 0\n",
        "      p = 0\n",
        "      while l < len(read):\n",
        "        if read[i+p:i+p+self.k_min+s] in self.transitions:\n",
        "          if self.transitions[read[i+p:i+p+self.k_min+s]].read != read\\\n",
        "            and self.transitions[read[i+p:i+p+self.k_min+s]].read.is_continuous_with(read,read[i+p:i+p+self.k_min+s],i+p):\n",
        "            self.transitions[read[i+p:i+p+self.k_min+s]].prefix = seg\n",
        "            seg.suffix = self.transitions[read[i+p:i+p+self.k_min+s]]\n",
        "            curr = self.transitions[read[i+p:i+p+self.k_min+s]]\n",
        "            while curr.suffix and curr.suffix.read.is_continuous_with(read,curr.suffix.root):\n",
        "              curr = curr.suffix\n",
        "            if curr.suffix and not read.endswith(curr.root):\n",
        "              if curr.read.connection_strength(read,curr.root)[0] > curr.read.connection_strength(curr.suffix.read,curr.root)[0]:\n",
        "                seg = curr\n",
        "                curr.suffix.prefix = None\n",
        "                curr.suffix = None\n",
        "                l = read.find(curr.root) + len(curr.root)\n",
        "                i = read.find(curr.root) + 1\n",
        "                continue\n",
        "            elif curr.suffix and read.endswith(curr.root):\n",
        "              break\n",
        "            seg = curr\n",
        "            l = read.find(curr.root) + len(curr.root)\n",
        "            i = read.find(curr.root) + 1\n",
        "            continue\n",
        "          if i + abs(p) + s + self.k_min < len(read):\n",
        "            s += 1\n",
        "          else:\n",
        "            p -= 1\n",
        "            s += 1\n",
        "            self.transitions.pop(seg.root)\n",
        "            seg.prefix.suffix = None\n",
        "            seg = seg.prefix\n",
        "        else:\n",
        "          self.transitions[read[i+p:i+p+self.k_min+s]] = Segment(seg,read[i+p:i+p+self.k_min+s],None,read)\n",
        "          seg.suffix = self.transitions[read[i+p:i+p+self.k_min+s]]\n",
        "          seg = self.transitions[read[i+p:i+p+self.k_min+s]]\n",
        "          l = read.find(read[i+p:i+p+self.k_min+s]) + len(read[i+p:i+p+self.k_min+s])\n",
        "          i = read.find(read[i+p:i+p+self.k_min+s]) + 1\n",
        "          s = 0\n",
        "          p = 0\n",
        "\n",
        "  def __repr__(self):\n",
        "    return str(self.transitions)\n",
        "\n",
        "  def construct(self):\n",
        "    self.seq = 'Fre'\n",
        "    curr = self.transitions[self.seq].suffix\n",
        "    while curr:\n",
        "      self.seq += curr.root.partition(self.seq[-(self.k_min-1):])[2]\n",
        "      curr = curr.suffix\n",
        "    return self.seq"
      ]
    },
    {
      "cell_type": "code",
      "execution_count": 7,
      "metadata": {},
      "outputs": [],
      "source": [
        "# v2\n",
        "class Sequitur:\n",
        "  def __init__(self,reads,k_min=3):\n",
        "    self.k_min = min(list(map(len,reads)))\n",
        "    self.reads = list(map(Read,reads))\n",
        "    self.transitions = {}\n",
        "    self.ends = {}\n",
        "    self.seq = ''\n",
        "    for read in self.reads:\n",
        "      if read[a:self.k_min] not in self.transitions:\n",
        "  def __repr__(self):\n",
        "    return str(self.transitions)\n",
        "\n",
        "  def construct(self):\n",
        "    self.seq = 'Fre'\n",
        "    curr = self.transitions[self.seq].suffix\n",
        "    while curr:\n",
        "      self.seq += curr.root.partition(self.seq[-(self.k_min-1):])[2]\n",
        "      curr = curr.suffix\n",
        "    return self.seq"
      ]
    },
    {
      "cell_type": "code",
      "execution_count": 7,
      "metadata": {
        "id": "KwMTpB9BCFBJ"
      },
      "outputs": [],
      "source": [
        "seq = Sequitur(reads)"
      ]
    },
    {
      "cell_type": "code",
      "execution_count": 8,
      "metadata": {},
      "outputs": [
        {
          "data": {
            "text/plain": [
              "{' do': y d ->  do -> dog,\n",
              " 'dog':  do -> dog,\n",
              " 'y b': y b ->  br,\n",
              " ' br': y b ->  br -> bro,\n",
              " 'bro':  br -> bro -> row,\n",
              " 'row': bro -> row -> own,\n",
              " 'own': row -> own -> wn ,\n",
              " 'ump': jum -> ump -> mps,\n",
              " 'mps': ump -> mps -> ps ,\n",
              " 'ps ': mps -> ps  -> s s,\n",
              " 's s': ps  -> s s ->  sw,\n",
              " ' sw': s s ->  sw -> swi,\n",
              " 'swi':  sw -> swi -> wif,\n",
              " 'wif': swi -> wif -> ift,\n",
              " 'ift': wif -> ift -> ftl,\n",
              " 'ftl': ift -> ftl,\n",
              " 'The': The -> he ,\n",
              " 'he ': The -> he  -> e s,\n",
              " 'e s': he  -> e s ->  sl,\n",
              " ' sl': e s ->  sl -> sly,\n",
              " 'tly': tly -> ly ,\n",
              " 'ly ': tly -> ly  -> y o,\n",
              " 'y o': ly  -> y o ->  ov,\n",
              " ' ov': y o ->  ov -> ove,\n",
              " ' th': r t ->  th -> the,\n",
              " 'the':  th -> the -> he l,\n",
              " 'he l': the -> he l,\n",
              " 'ove':  ov -> ove -> ver,\n",
              " 'ver': ove -> ver -> er ,\n",
              " 'er ': ver -> er  -> r t,\n",
              " 'r t': er  -> r t ->  th,\n",
              " 'e l': e l ->  la,\n",
              " ' la': e l ->  la -> laz,\n",
              " 'laz':  la -> laz -> azy,\n",
              " 'azy': laz -> azy -> zy ,\n",
              " 'zy ': azy -> zy  -> y d,\n",
              " 'y d': zy  -> y d ->  do,\n",
              " 'wn ': own -> wn  -> n f,\n",
              " 'jum':  ju -> jum -> ump,\n",
              " 'n f': wn  -> n f ->  fo,\n",
              " ' fo': n f ->  fo -> fox,\n",
              " 'fox':  fo -> fox -> ox ,\n",
              " 'sly':  sl -> sly -> ly b,\n",
              " 'ly b': sly -> ly b,\n",
              " 'ox ': fox -> ox  -> x j,\n",
              " 'x j': ox  -> x j ->  ju,\n",
              " ' ju': x j ->  ju -> jum}"
            ]
          },
          "execution_count": 8,
          "metadata": {},
          "output_type": "execute_result"
        }
      ],
      "source": [
        "seq.transitions"
      ]
    },
    {
      "cell_type": "code",
      "execution_count": 8,
      "metadata": {},
      "outputs": [
        {
          "data": {
            "text/plain": [
              "'Fresh out of college, Barry the Bee (Jerry Seinfeld) finds the prospect of working with honey uninspiring. He flies outside the hive for the first time and talks to a human (Renée Zellweger), breaking a cardinal rule of his species. Barry learns that humans have been stealing and eating honey for centuries, and he realizes that his true calling is to obtain justice for his kind by suing humanity for theft.'"
            ]
          },
          "execution_count": 8,
          "metadata": {},
          "output_type": "execute_result"
        }
      ],
      "source": [
        "seq.construct()"
      ]
    },
    {
      "cell_type": "code",
      "execution_count": 35,
      "metadata": {},
      "outputs": [
        {
          "data": {
            "text/plain": [
              " Barry th"
            ]
          },
          "execution_count": 35,
          "metadata": {},
          "output_type": "execute_result"
        }
      ],
      "source": [
        "seq.transitions['y th'].read"
      ]
    },
    {
      "cell_type": "code",
      "execution_count": null,
      "metadata": {},
      "outputs": [],
      "source": []
    }
  ],
  "metadata": {
    "colab": {
      "collapsed_sections": [],
      "name": "sequitur_context_aware_dbg.ipynb",
      "provenance": []
    },
    "interpreter": {
      "hash": "2bceb33278e9c51dab3bdf7e587a69fc3e2d927376e7f6b90231f0f6a87ad514"
    },
    "kernelspec": {
      "display_name": "Python 3.9.0 64-bit",
      "name": "python3"
    },
    "language_info": {
      "codemirror_mode": {
        "name": "ipython",
        "version": 3
      },
      "file_extension": ".py",
      "mimetype": "text/x-python",
      "name": "python",
      "nbconvert_exporter": "python",
      "pygments_lexer": "ipython3",
      "version": "3.9.0"
    }
  },
  "nbformat": 4,
  "nbformat_minor": 0
}
