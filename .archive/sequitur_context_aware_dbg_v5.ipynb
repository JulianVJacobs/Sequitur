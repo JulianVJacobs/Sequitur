{
 "cells": [
  {
   "cell_type": "code",
   "execution_count": 1,
   "metadata": {},
   "outputs": [
    {
     "name": "stdout",
     "output_type": "stream",
     "text": [
      "Fresh out of college, Barry the Bee (Jerry Seinfeld) finds the prospect of working with honey uninspiring. He flies outside the hive for the first time and talks to a human (Renée Zellweger), breaking a cardinal rule of his species. Barry learns that humans have been stealing and eating honey for centuries, and he realizes that his true calling is to obtain justice for his kind by suing humanity for theft.\n",
      "[' humanity for the', 'ting honey', 'He flies ', 'side the hive for ', ' He flies', 'dinal rule of h', 'ct of working', 'ng and ea', 'n justice for his ', ' breaking', ' honey un', 'lege, Bar', 'rry learns', ', breakin', ' (Jerry Seinfeld)', ' flies outside', 'nd eating', 'le of his', 'ns have been st', 'to obtain', 'out of co', 'his kind by su', 'nd by suing human', ' centurie', 'e hive for', 'eaking a c', 't humans h', 'e of his spe', 'Seinfeld)', 'for theft.', 'rdinal ru', ' a cardin', 'ry the Bee (Jer', 'alks to a human ', 'breaking a', 'with hone', 'ries, and', 'ut of college,', 'in justic', ' (Renée Zell', ' human (Renée Zell', ' his true', 'o obtain justic', 'y uninspi', 'he hive f', 'alling is ', ' kind by ', 'es, and he realize', 'uninspiring. He fl', 'eld) finds t', 'e flies o', 'that humans ', ' his kind', ' eating h', 'for his kind by s', 'ée Zellweger),', 'g. He flies ou', 'ealizes tha', 'ling and e', 'ng humanit', 'ith honey', 'hive for the', 'that his true', 'nfeld) fi', 'ng is to ', 'calling i', 'rospect of wo', 'es. Barry le', 'ies, and ', 'n (Renée Ze', 's to obta', 'aking a cardina', 'ind by su', ' time and', 'esh out of co', ' for thef', 'th honey uninspir', 'talks to a hu', ' realizes t', 'Bee (Jerr', 'time and ', 'g and eating ', 'eger), breaking ', 'rking with hone', 'is true call', 'ue callin', 'r), break', 'ee (Jerry', 'ans have ', 'me and talks to', ' college, ', ' that hum', 'Zellweger), brea', 'a human (', 'king a ca', 'e been steali', ' his species. Barr', ' talks to', 'ing and e', 'btain justice for ', 'kind by s', 'e (Jerry ', 'realizes ', 'college, Bar', 'ng honey for centu', '), breaki', 'humans ha', 'ng a cardinal rul', 'ardinal r', ' to obtai', ' working wit', 'lizes tha', 'rry the B', 'ating hon', 'née Zellw', ' first time an', 'Fresh out of', 'a cardina', 'er), brea', 'stealing and e', '(Renée Zellweg', 'for the first t', 'feld) fin', 'g is to obtain j', 'honey uninsp', 'einfeld) f', ' uninspir', 'ing is to', 'the hive ', 'an (Renée Zel', 'umans have b', 'enturies, an', 'ling is t', 'd eating ', ' calling ', 'arry lear', 'en stealin', 'Barry lea', ' a human ', 'o a human', 'his true ', 'd talks t', 'g humanit', 'e calling', 'eating ho', 'aling and', 'izes that his tr', 's the prospect ', 'ege, Barry the B', ' humans have be', 'r his kin', 'y learns that hum', 'centuries', 'resh out ', ' cardinal rule of', 'ime and t', 'es outside the', 'ule of hi', ' stealing', 'or centurie', 'ld) finds the pros', 'arry the ', 'rue calli', 'true calling ', ' for the ', 'ing a car']\n"
     ]
    }
   ],
   "source": [
    "def generate_sequence(n):\n",
    "  import random\n",
    "\n",
    "  bases = ['a','g','c','t']\n",
    "  seq = ''\n",
    "  for i in range(n):\n",
    "    seq += bases[random.randint(0,3)]\n",
    "  return seq\n",
    "\n",
    "def chop_sequence(sequence,min_len=3,max_len=15,min_overlap=3):\n",
    "  import random\n",
    "\n",
    "  start = 0\n",
    "  end = max(random.randint(start,max_len),min_len)\n",
    "  chop = [sequence[start:end]]\n",
    "  while end < len(sequence):\n",
    "    start = random.randint(start + 1,end - min_overlap)\n",
    "    end = max(random.randint(start,start + max_len),start + min_len)\n",
    "    chop += [sequence[start:end]]\n",
    "  return chop\n",
    "  \n",
    "ref = \"Fresh out of college, Barry the Bee (Jerry Seinfeld) finds the prospect of working with honey uninspiring. He flies outside the hive for the first time and talks to a human (Renée Zellweger), breaking a cardinal rule of his species. Barry learns that humans have been stealing and eating honey for centuries, and he realizes that his true calling is to obtain justice for his kind by suing humanity for theft.\" #generate_sequence(200)\n",
    "reads = chop_sequence(ref,9,18,8)\n",
    "import random\n",
    "random.shuffle(reads)\n",
    "print(ref)\n",
    "print(reads)\n",
    "# seq = Sequitur(reads)\n",
    "# seq.construct()"
   ]
  },
  {
   "cell_type": "code",
   "execution_count": 4,
   "metadata": {},
   "outputs": [
    {
     "name": "stdout",
     "output_type": "stream",
     "text": [
      "hel\n",
      "ell\n",
      "llo\n",
      "lo \n",
      "o w\n",
      " wo\n",
      "wor\n",
      "orl\n",
      "rld\n"
     ]
    }
   ],
   "source": [
    "s = \"hello world\"\n",
    "for i in range(len(s)-2):\n",
    "    print(s[i:i+3])"
   ]
  },
  {
   "cell_type": "code",
   "execution_count": 10,
   "metadata": {},
   "outputs": [],
   "source": [
    "class TransitionsTree:\n",
    "    def __init__(self):\n",
    "        self.tree = {}\n",
    "\n",
    "    def add(self,contig,k=3):\n",
    "        for i in range(len(contig)-k+1):\n",
    "            if contig[i:i+k] not in self.tree: self.tree[contig[i:i+k]] = contig\n",
    "            else:\n",
    "                if type(self.tree[contig[i:i+k]]) == str:\n",
    "                    if contig == self.tree[contig[i:i+k]]: continue\n",
    "                    if self.tree[contig[i:i+k]] in contig[i+k:]:\n",
    "                        self.tree[contig[i:i+k]] = contig[i+k:]\n",
    "                        continue\n",
    "                    l = self.tree[contig[i:i+k]]\n",
    "                    c = 0\n",
    "            #         while c < len(self.read.partition(self.root)[2]) or c < len(other.read.partition(self.root)[2]):\n",
    "            #         if c < len(self.read.partition(self.root)[2]): r1[2] += self.read.partition(self.root)[2][c]\n",
    "            #         if c < len(other.read.partition(self.root)[2]): r2[2] += other.read.partition(self.root)[2][c]\n",
    "            #         if r1[2] != r2[2]: break\n",
    "            #         c += 1"
   ]
  },
  {
   "cell_type": "code",
   "execution_count": 11,
   "metadata": {},
   "outputs": [
    {
     "data": {
      "text/plain": [
       "{'hel': 'lo world',\n",
       " 'ell': 'o world',\n",
       " 'llo': ' world',\n",
       " 'lo ': 'world',\n",
       " 'o w': 'orld',\n",
       " ' wo': 'rld',\n",
       " 'wor': 'ld',\n",
       " 'orl': 'd',\n",
       " 'rld': ''}"
      ]
     },
     "execution_count": 11,
     "metadata": {},
     "output_type": "execute_result"
    }
   ],
   "source": [
    "T = TransitionsTree()\n",
    "T.add('hello world')\n",
    "T.tree"
   ]
  },
  {
   "cell_type": "code",
   "execution_count": null,
   "metadata": {},
   "outputs": [],
   "source": [
    "class Branch(TransitionsTree):\n",
    "    def __init__(self):\n",
    "        super().__init__()"
   ]
  }
 ],
 "metadata": {
  "interpreter": {
   "hash": "4f3b078249380ea762697f4f8f6aea77b3d6e43cbb1b18cbb73d8cde5aa597e7"
  },
  "kernelspec": {
   "display_name": "Python 3.9.7 64-bit (system)",
   "language": "python",
   "name": "python3"
  },
  "language_info": {
   "codemirror_mode": {
    "name": "ipython",
    "version": 3
   },
   "file_extension": ".py",
   "mimetype": "text/x-python",
   "name": "python",
   "nbconvert_exporter": "python",
   "pygments_lexer": "ipython3",
   "version": "3.9.0"
  },
  "orig_nbformat": 4
 },
 "nbformat": 4,
 "nbformat_minor": 2
}
